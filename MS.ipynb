{
  "nbformat": 4,
  "nbformat_minor": 0,
  "metadata": {
    "colab": {
      "name": "MS.ipynb",
      "provenance": [],
      "collapsed_sections": [],
      "include_colab_link": true
    },
    "kernelspec": {
      "name": "python3",
      "display_name": "Python 3"
    }
  },
  "cells": [
    {
      "cell_type": "markdown",
      "metadata": {
        "id": "view-in-github",
        "colab_type": "text"
      },
      "source": [
        "<a href=\"https://colab.research.google.com/github/guyzamos/MS_prediction/blob/main/MS.ipynb\" target=\"_parent\"><img src=\"https://colab.research.google.com/assets/colab-badge.svg\" alt=\"Open In Colab\"/></a>"
      ]
    },
    {
      "cell_type": "markdown",
      "metadata": {
        "id": "M6tv6Y_weQ8z"
      },
      "source": [
        "import all the relevant libraries"
      ]
    },
    {
      "cell_type": "code",
      "metadata": {
        "id": "-z7hXJSeptCa"
      },
      "source": [
        "import pandas as pd\n",
        "import numpy as np\n",
        "import matplotlib.pyplot as plt\n",
        "import statistics as stats\n",
        "import io\n",
        "from sklearn.metrics import mean_squared_error\n",
        "from math import sqrt\n",
        "from sklearn.preprocessing import LabelEncoder\n",
        "from sklearn.model_selection import KFold\n",
        "from sklearn.ensemble import RandomForestRegressor\n",
        "from sklearn.ensemble import RandomForestClassifier\n",
        "from sklearn.linear_model import LogisticRegression\n",
        "from sklearn import metrics\n",
        "import torch\n",
        "from sklearn.model_selection import train_test_split\n",
        "\n"
      ],
      "execution_count": null,
      "outputs": []
    },
    {
      "cell_type": "markdown",
      "metadata": {
        "id": "ugA1NC9JIkaQ"
      },
      "source": [
        "upload the db file"
      ]
    },
    {
      "cell_type": "code",
      "metadata": {
        "id": "3PCJmTd7DtZj"
      },
      "source": [
        "from google.colab import drive \n",
        "drive.mount('/content/gdrive', force_remount=True)\n",
        "drive.flush_and_unmount"
      ],
      "execution_count": null,
      "outputs": []
    },
    {
      "cell_type": "code",
      "metadata": {
        "id": "-cUgtD7jyfgI"
      },
      "source": [
        "df=pd.read_excel(\"/content/gdrive/My Drive/Colab Notebooks/MS_Notebooks/MSData_firstDB_Colab.xlsx\")\n",
        "df"
      ],
      "execution_count": null,
      "outputs": []
    },
    {
      "cell_type": "code",
      "metadata": {
        "id": "16GnmLS9E82B",
        "colab": {
          "base_uri": "https://localhost:8080/"
        },
        "outputId": "e71a6937-ae13-4025-b94d-cd82e76e48df"
      },
      "source": [
        "from google.colab import drive\n",
        "drive.mount('/content/drive')"
      ],
      "execution_count": null,
      "outputs": [
        {
          "output_type": "stream",
          "text": [
            "Mounted at /content/drive\n"
          ],
          "name": "stdout"
        }
      ]
    },
    {
      "cell_type": "markdown",
      "metadata": {
        "id": "AXNtgsQCWLGu"
      },
      "source": [
        "different way to upload the DB"
      ]
    },
    {
      "cell_type": "code",
      "metadata": {
        "id": "eNWeFzHVrHtZ"
      },
      "source": [
        "# from google.colab import files\n",
        "# uploaded = files.upload()"
      ],
      "execution_count": null,
      "outputs": []
    },
    {
      "cell_type": "code",
      "metadata": {
        "id": "RxphXPr6xv1S"
      },
      "source": [
        "# import pandas as pd\n",
        "# import io\n",
        "\n",
        "# df = pd.read_csv('/content/MSDATA209.csv')\n",
        "# df"
      ],
      "execution_count": null,
      "outputs": []
    },
    {
      "cell_type": "markdown",
      "metadata": {
        "id": "ME3XFSF_uo7k"
      },
      "source": [
        ""
      ]
    },
    {
      "cell_type": "markdown",
      "metadata": {
        "id": "KF9IgdRsB93l"
      },
      "source": [
        "aggregate all the rare medicines to one group"
      ]
    },
    {
      "cell_type": "code",
      "metadata": {
        "id": "or4Huw9V8s6p",
        "colab": {
          "base_uri": "https://localhost:8080/"
        },
        "outputId": "f36cd35c-c705-4c2a-bb32-3271418ace3e"
      },
      "source": [
        "df['treatment_when_sample_was_taken'].value_counts()\n"
      ],
      "execution_count": null,
      "outputs": [
        {
          "output_type": "execute_result",
          "data": {
            "text/plain": [
              "untreated                   35\n",
              "IFN                         16\n",
              "untreated                   12\n",
              "Tysabri                      5\n",
              "Gilenya                      2\n",
              "Copaxone                     2\n",
              "Tacfidera                    2\n",
              "Imuran                       2\n",
              "Plegridy                     1\n",
              "Methotrexate, Prednisone     1\n",
              "Ocrevus                      1\n",
              "Name: treatment_when_sample_was_taken, dtype: int64"
            ]
          },
          "metadata": {
            "tags": []
          },
          "execution_count": 7
        }
      ]
    },
    {
      "cell_type": "code",
      "metadata": {
        "id": "WPaGleEi8IOD"
      },
      "source": [
        "df = df.replace({'Copaxone': 'other_treatment' , 'Tacfidera': 'other_treatment', 'Gilenya': 'other_treatment', 'Imuran': 'other_treatment', 'Methotrexate, Prednisone': 'other_treatment', 'Plegridy': 'other_treatment', 'Ocrevus': 'other_treatment'})"
      ],
      "execution_count": null,
      "outputs": []
    },
    {
      "cell_type": "code",
      "metadata": {
        "id": "nihl10qI8-tP",
        "colab": {
          "base_uri": "https://localhost:8080/"
        },
        "outputId": "bfd3279a-a219-4780-c73d-2b266ac772da"
      },
      "source": [
        "df['treatment_when_sample_was_taken'].value_counts()\n"
      ],
      "execution_count": null,
      "outputs": [
        {
          "output_type": "execute_result",
          "data": {
            "text/plain": [
              "untreated          35\n",
              "IFN                16\n",
              "untreated          12\n",
              "other_treatment    11\n",
              "Tysabri             5\n",
              "Name: treatment_when_sample_was_taken, dtype: int64"
            ]
          },
          "metadata": {
            "tags": []
          },
          "execution_count": 9
        }
      ]
    },
    {
      "cell_type": "markdown",
      "metadata": {
        "id": "8pfPDwg8Jodo"
      },
      "source": [
        "Fix string values to upperCase"
      ]
    },
    {
      "cell_type": "code",
      "metadata": {
        "id": "ORQuvc9VKoTX"
      },
      "source": [
        "df['gender'] = df['gender'].str.upper()\n",
        "df['diagnosis'] = df['diagnosis'].str.upper()\n",
        "df['oligoclonal_band'] = df['oligoclonal_band'].str.upper()\n",
        "df['treatment_when_sample_was_taken'] = df['treatment_when_sample_was_taken'].str.upper()\n",
        "df.to_excel('df.xlsx',index=False)"
      ],
      "execution_count": null,
      "outputs": []
    },
    {
      "cell_type": "markdown",
      "metadata": {
        "id": "xoO9a5diMCNo"
      },
      "source": [
        "global variable for number of rows"
      ]
    },
    {
      "cell_type": "code",
      "metadata": {
        "id": "I89PaabYMOFv",
        "colab": {
          "base_uri": "https://localhost:8080/"
        },
        "outputId": "009af756-f130-4648-857a-b5a1a809c713"
      },
      "source": [
        "count_samples = df.shape[0]\n",
        "count_samples"
      ],
      "execution_count": null,
      "outputs": [
        {
          "output_type": "execute_result",
          "data": {
            "text/plain": [
              "79"
            ]
          },
          "metadata": {
            "tags": []
          },
          "execution_count": 11
        }
      ]
    },
    {
      "cell_type": "markdown",
      "metadata": {
        "id": "XVtz2zZpDaNc"
      },
      "source": [
        "replace all the illegal values to Nan"
      ]
    },
    {
      "cell_type": "code",
      "metadata": {
        "id": "JWh-L0LrDa5Z"
      },
      "source": [
        "df = df.replace({'1?': np.nan, 'X': np.nan, 2012: '06/06/2012'})"
      ],
      "execution_count": null,
      "outputs": []
    },
    {
      "cell_type": "markdown",
      "metadata": {
        "id": "88fR--NYZ4Fs"
      },
      "source": [
        "\n",
        "\n",
        "```\n",
        "# This is formatted as code\n",
        "```\n",
        "\n",
        "remove white space before and after the word:"
      ]
    },
    {
      "cell_type": "code",
      "metadata": {
        "id": "DgW_dUI2Z4k1"
      },
      "source": [
        "df = df.applymap(lambda x: x.strip() if type(x)==str else x)\n",
        "df.to_excel('dfStrip.xlsx',index=False)"
      ],
      "execution_count": null,
      "outputs": []
    },
    {
      "cell_type": "code",
      "metadata": {
        "id": "zEoFl4fnCvOq",
        "colab": {
          "base_uri": "https://localhost:8080/",
          "height": 1000
        },
        "outputId": "43ce9d3d-660b-49d8-fbef-408d8d486945"
      },
      "source": [
        "import seaborn as sns\n",
        "sns.set_theme(style=\"ticks\", color_codes=True)\n",
        "sns.catplot(x=\"diagnosis\", kind=\"count\", palette=\"ch:.25\", data=df)\n",
        "sns.catplot(x=\"oligoclonal_band\", kind=\"count\", palette=\"ch:.25\", data=df)\n",
        "sns.catplot(x=\"gender\", kind=\"count\", palette=\"ch:.25\", data=df)\n",
        "sns.set_theme(style=\"ticks\", color_codes=True, font_scale=0.8)\n",
        "sns.catplot(y=\"treatment_when_sample_was_taken\", kind=\"count\", palette=\"ch:.25\", data=df)\n",
        "# f, ax = plt.subplots(figsize=(7, 3))\n",
        "\n",
        "\n",
        "# df['gender'] = df['gender'].astype('category')\n",
        "# df['oligoclonal_band'] = df['oligoclonal_band'].astype('category')\n",
        "# df['treatment_when_sample_was_taken'] = df['treatment_when_sample_was_taken'].astype('category')\n",
        "# df['sample_code'] = df['sample_code'].astype('category')\n",
        "# df['diagnosis'] = df['diagnosis'].astype('category')"
      ],
      "execution_count": null,
      "outputs": [
        {
          "output_type": "execute_result",
          "data": {
            "text/plain": [
              "<seaborn.axisgrid.FacetGrid at 0x7fe124724f60>"
            ]
          },
          "metadata": {
            "tags": []
          },
          "execution_count": 14
        },
        {
          "output_type": "display_data",
          "data": {
            "image/png": "[encoded data removed]",
            "text/plain": [
              "<Figure size 360x360 with 1 Axes>"
            ]
          },
          "metadata": {
            "tags": []
          }
        },
        {
          "output_type": "display_data",
          "data": {
            "image/png": "[encoded data removed]",
            "text/plain": [
              "<Figure size 360x360 with 1 Axes>"
            ]
          },
          "metadata": {
            "tags": []
          }
        },
        {
          "output_type": "display_data",
          "data": {
            "image/png": "[encoded data removed]",
            "text/plain": [
              "<Figure size 360x360 with 1 Axes>"
            ]
          },
          "metadata": {
            "tags": []
          }
        },
        {
          "output_type": "display_data",
          "data": {
            "image/png": "[encoded data removed]",
            "text/plain": [
              "<Figure size 360x360 with 1 Axes>"
            ]
          },
          "metadata": {
            "tags": []
          }
        }
      ]
    },
    {
      "cell_type": "code",
      "metadata": {
        "id": "lSpw7NImTOVI"
      },
      "source": [
        "df.to_excel('dfcheck.xlsx',index=False)"
      ],
      "execution_count": null,
      "outputs": []
    },
    {
      "cell_type": "code",
      "metadata": {
        "id": "niPMQX52RLZN",
        "colab": {
          "base_uri": "https://localhost:8080/"
        },
        "outputId": "5ce44368-0ad8-4c5f-e35a-709bea6b64fe"
      },
      "source": [
        "print('MRI_lesion_mass')\n",
        "max_value = df['MRI_lesion_mass'].max() \n",
        "print(max_value)\n",
        "min_value = df['MRI_lesion_mass'].min() \n",
        "print(min_value)\n",
        "\n",
        "\n",
        "\n",
        "print('TIM3_RQ')\n",
        "max_value = df['TIM3_RQ'].max() \n",
        "print(max_value)\n",
        "min_value = df['TIM3_RQ'].min() \n",
        "print(min_value)\n",
        "\n",
        "\n",
        "print('TIGIT_RQ')\n",
        "max_value = df['TIGIT_RQ'].max() \n",
        "print(max_value)\n",
        "min_value = df['TIGIT_RQ'].min() \n",
        "print(min_value)\n",
        "\n",
        "\n",
        "print('LAG3_RQ')\n",
        "max_value = df['LAG3_RQ'].max() \n",
        "print(max_value)\n",
        "min_value = df['LAG3_RQ'].min() \n",
        "print(min_value)\n",
        "\n",
        "\n",
        "print('PD-1_RQ')\n",
        "max_value = df['PD-1_RQ'].max() \n",
        "print(max_value)\n",
        "min_value = df['PD-1_RQ'].min() \n",
        "print(min_value)\n",
        "\n",
        "print('primary_EDSS_at_sample_date')\n",
        "max_value = df['primary_EDSS_at_sample_date'].max() \n",
        "print(max_value)\n",
        "min_value = df['primary_EDSS_at_sample_date'].min() \n",
        "print(min_value)\n",
        "\n",
        "\n",
        "print('1_years_EDSS')\n",
        "max_value = df['1_years_EDSS'].max() \n",
        "print(max_value)\n",
        "min_value = df['1_years_EDSS'].min() \n",
        "print(min_value)\n",
        "\n",
        "print('5_years_EDSS')\n",
        "max_value = df['5_years_EDSS'].max() \n",
        "print(max_value)\n",
        "min_value = df['5_years_EDSS'].min() \n",
        "print(min_value)\n",
        "\n",
        "print('1_years_EDSS_from_sample_date')\n",
        "max_value = df['1_years_EDSS_from_sample_date'].max() \n",
        "print(max_value)\n",
        "min_value = df['1_years_EDSS_from_sample_date'].min() \n",
        "print(min_value)\n",
        "\n",
        "print('5_years_from_sample')\n",
        "max_value = df['5_years_from_sample'].max() \n",
        "print(max_value)\n",
        "min_value = df['5_years_from_sample'].min() \n",
        "print(min_value)\n",
        "\n",
        "\n",
        "print('EDSS_post_10_years')\n",
        "max_value = df['EDSS_post_10_years'].max() \n",
        "print(max_value)\n",
        "min_value = df['EDSS_post_10_years'].min() \n",
        "print(min_value)\n"
      ],
      "execution_count": null,
      "outputs": [
        {
          "output_type": "stream",
          "text": [
            "MRI_lesion_mass\n",
            "54811.0\n",
            "0.0\n",
            "TIM3_RQ\n",
            "2.79738028452809\n",
            "0.145306643566523\n",
            "TIGIT_RQ\n",
            "0.866082287788454\n",
            "0.0242324879965762\n",
            "LAG3_RQ\n",
            "3.02893572968893\n",
            "0.0195415818476979\n",
            "PD-1_RQ\n",
            "16.7971678906139\n",
            "0.00718403819961321\n",
            "primary_EDSS_at_sample_date\n",
            "7.0\n",
            "0.0\n",
            "1_years_EDSS\n",
            "5.5\n",
            "0.0\n",
            "5_years_EDSS\n",
            "7.0\n",
            "0.0\n",
            "1_years_EDSS_from_sample_date\n",
            "10.0\n",
            "0.0\n",
            "5_years_from_sample\n",
            "10.0\n",
            "0.0\n",
            "EDSS_post_10_years\n",
            "10.0\n",
            "0.0\n"
          ],
          "name": "stdout"
        }
      ]
    },
    {
      "cell_type": "code",
      "metadata": {
        "id": "bTqCBtpPC0US",
        "colab": {
          "base_uri": "https://localhost:8080/",
          "height": 1000
        },
        "outputId": "1fdfec40-0d8d-4927-ba75-e4965ae65ec3"
      },
      "source": [
        "degrees = df['MRI_lesion_mass']\n",
        "plt.hist(degrees)\n",
        "# plt.title('EDSS_post_10_years')\n",
        "plt.xlabel('MRI_lesion_mass')\n",
        "plt.ylabel('number of patients')\n",
        "plt.show()\n",
        "\n",
        "degrees = df['TIM3_RQ']\n",
        "plt.hist(degrees, bins=[0, 0.25, 0.5, 0.75, 1, 1.25, 1.5, 1.75, 2, 2.25, 2.5, 2.75, 3])\n",
        "# plt.title('TIM3_RQ')\n",
        "plt.xlabel('TIM3_RQ')\n",
        "plt.ylabel('number of patients')\n",
        "plt.show()\n",
        "\n",
        "\n",
        "degrees = df['LAG3_RQ']\n",
        "plt.hist(degrees, bins=[0, 0.25, 0.5, 0.75, 1, 1.25, 1.5, 1.75, 2, 2.25, 2.5, 2.75, 3, 3.25])\n",
        "# plt.title('LAG3_RQ')\n",
        "plt.xlabel('LAG3_RQ')\n",
        "plt.ylabel('number of patients')\n",
        "plt.show()\n",
        "\n",
        "\n",
        "\n",
        "degrees = df['PD-1_RQ']\n",
        "plt.hist(degrees)\n",
        "# plt.title('PD-1_RQ')\n",
        "plt.xlabel('PD-1_RQ')\n",
        "plt.ylabel('number of patients')\n",
        "plt.show()\n",
        "\n",
        "\n",
        "\n",
        "degrees = df['primary_EDSS_at_diagnosis']\n",
        "plt.hist(degrees, bins=[0, 0.5, 1, 1.5, 2, 2.5, 3, 3.5, 4, 4.5, 5, 5.5, 6, 6.5, 7])\n",
        "# plt.title('primary_EDSS_at_diagnosis')\n",
        "plt.xlabel('primary_EDSS_at_diagnosis')\n",
        "plt.ylabel('number of patients')\n",
        "plt.show()\n",
        "\n",
        "\n",
        "\n",
        "degrees = df['1_years_EDSS']\n",
        "plt.hist(degrees, bins=[0, 0.5, 1, 1.5, 2, 2.5, 3, 3.5, 4, 4.5, 5, 5.5])\n",
        "# plt.title('EDSS_post_10_years')\n",
        "plt.xlabel('1_years_EDSS')\n",
        "plt.ylabel('number of patients')\n",
        "plt.show()\n",
        "\n",
        "degrees = df['5_years_EDSS']\n",
        "plt.hist(degrees, bins=[0, 0.5, 1, 1.5, 2, 2.5, 3, 3.5, 4, 4.5, 5, 5.5, 6, 6.5, 7])\n",
        "# plt.title('EDSS_post_10_years')\n",
        "plt.xlabel('5_years_EDSS')\n",
        "plt.ylabel('number of patients')\n",
        "plt.show()\n",
        "\n",
        "\n",
        "degrees = df['1_years_EDSS_from_sample_date']\n",
        "plt.hist(degrees, bins=[0, 0.5, 1, 1.5, 2, 2.5, 3, 3.5, 4, 4.5, 5, 5.5, 6, 6.5, 7, 7.5, 8, 8.5, 9, 9.5, 10])\n",
        "# plt.title('1_years_EDSS_from_sample_date')\n",
        "plt.xlabel('1_years_EDSS_from_sample_date')\n",
        "plt.ylabel('number of patients')\n",
        "plt.show()\n",
        "\n",
        "degrees = df['5_years_from_sample']\n",
        "plt.hist(degrees, bins=[0, 0.5, 1, 1.5, 2, 2.5, 3, 3.5, 4, 4.5, 5, 5.5, 6, 6.5, 7, 7.5, 8, 8.5, 9, 9.5, 10])\n",
        "# plt.title('5_years_from_sample')\n",
        "plt.xlabel('5_years_from_sample')\n",
        "plt.ylabel('number of patients')\n",
        "plt.show()\n",
        "\n",
        "degrees = df['EDSS_post_10_years']\n",
        "plt.hist(degrees, bins=[0, 0.5, 1, 1.5, 2, 2.5, 3, 3.5, 4, 4.5, 5, 5.5, 6, 6.5, 7, 7.5, 8, 8.5, 9, 9.5, 10])\n",
        "# plt.title('EDSS_post_10_years')\n",
        "plt.xlabel('EDSS_post_10_years')\n",
        "plt.ylabel('number of patients')\n",
        "plt.show()\n"
      ],
      "execution_count": null,
      "outputs": [
        {
          "output_type": "display_data",
          "data": {
            "image/png": "[encoded data removed]",
            "text/plain": [
              "<Figure size 432x288 with 1 Axes>"
            ]
          },
          "metadata": {
            "tags": []
          }
        },
        {
          "output_type": "display_data",
          "data": {
            "image/png": "[encoded data removed]",
            "text/plain": [
              "<Figure size 432x288 with 1 Axes>"
            ]
          },
          "metadata": {
            "tags": []
          }
        },
        {
          "output_type": "display_data",
          "data": {
            "image/png": "[encoded data removed]",
            "text/plain": [
              "<Figure size 432x288 with 1 Axes>"
            ]
          },
          "metadata": {
            "tags": []
          }
        },
        {
          "output_type": "display_data",
          "data": {
            "image/png": "[encoded data removed]",
            "text/plain": [
              "<Figure size 432x288 with 1 Axes>"
            ]
          },
          "metadata": {
            "tags": []
          }
        },
        {
          "output_type": "display_data",
          "data": {
            "image/png": "[encoded data removed]",
            "text/plain": [
              "<Figure size 432x288 with 1 Axes>"
            ]
          },
          "metadata": {
            "tags": []
          }
        },
        {
          "output_type": "display_data",
          "data": {
            "image/png": "[encoded data removed]",
            "text/plain": [
              "<Figure size 432x288 with 1 Axes>"
            ]
          },
          "metadata": {
            "tags": []
          }
        },
        {
          "output_type": "display_data",
          "data": {
            "image/png": "[encoded data removed]",
            "text/plain": [
              "<Figure size 432x288 with 1 Axes>"
            ]
          },
          "metadata": {
            "tags": []
          }
        },
        {
          "output_type": "display_data",
          "data": {
            "image/png": "[encoded data removed]",
            "text/plain": [
              "<Figure size 432x288 with 1 Axes>"
            ]
          },
          "metadata": {
            "tags": []
          }
        },
        {
          "output_type": "display_data",
          "data": {
            "image/png": "[encoded data removed]",
            "text/plain": [
              "<Figure size 432x288 with 1 Axes>"
            ]
          },
          "metadata": {
            "tags": []
          }
        },
        {
          "output_type": "display_data",
          "data": {
            "image/png": "[encoded data removed]",
            "text/plain": [
              "<Figure size 432x288 with 1 Axes>"
            ]
          },
          "metadata": {
            "tags": []
          }
        }
      ]
    },
    {
      "cell_type": "markdown",
      "metadata": {
        "id": "JiQXRjJckAZA"
      },
      "source": [
        "Looking at the percentage of missing \n",
        "values per column\n",
        "\n",
        "\n"
      ]
    },
    {
      "cell_type": "code",
      "metadata": {
        "id": "iwX7B0fVj_a5",
        "colab": {
          "base_uri": "https://localhost:8080/",
          "height": 817
        },
        "outputId": "ceb7a62f-5b1e-4186-ce50-0f63f60f0beb"
      },
      "source": [
        "missing_data = pd.DataFrame({'total_missing': df.isnull().sum(), 'perc_missing': (df.isnull().sum()/count_samples)*100})\n",
        "missing_data"
      ],
      "execution_count": null,
      "outputs": [
        {
          "output_type": "execute_result",
          "data": {
            "text/html": [
              "<div>\n",
              "<style scoped>\n",
              "    .dataframe tbody tr th:only-of-type {\n",
              "        vertical-align: middle;\n",
              "    }\n",
              "\n",
              "    .dataframe tbody tr th {\n",
              "        vertical-align: top;\n",
              "    }\n",
              "\n",
              "    .dataframe thead th {\n",
              "        text-align: right;\n",
              "    }\n",
              "</style>\n",
              "<table border=\"1\" class=\"dataframe\">\n",
              "  <thead>\n",
              "    <tr style=\"text-align: right;\">\n",
              "      <th></th>\n",
              "      <th>total_missing</th>\n",
              "      <th>perc_missing</th>\n",
              "    </tr>\n",
              "  </thead>\n",
              "  <tbody>\n",
              "    <tr>\n",
              "      <th>sample_date</th>\n",
              "      <td>0</td>\n",
              "      <td>0.000000</td>\n",
              "    </tr>\n",
              "    <tr>\n",
              "      <th>sample_code</th>\n",
              "      <td>0</td>\n",
              "      <td>0.000000</td>\n",
              "    </tr>\n",
              "    <tr>\n",
              "      <th>diagnosis</th>\n",
              "      <td>0</td>\n",
              "      <td>0.000000</td>\n",
              "    </tr>\n",
              "    <tr>\n",
              "      <th>TIM3_RQ</th>\n",
              "      <td>0</td>\n",
              "      <td>0.000000</td>\n",
              "    </tr>\n",
              "    <tr>\n",
              "      <th>TIGIT_RQ</th>\n",
              "      <td>0</td>\n",
              "      <td>0.000000</td>\n",
              "    </tr>\n",
              "    <tr>\n",
              "      <th>LAG3_RQ</th>\n",
              "      <td>0</td>\n",
              "      <td>0.000000</td>\n",
              "    </tr>\n",
              "    <tr>\n",
              "      <th>PD-1_RQ</th>\n",
              "      <td>37</td>\n",
              "      <td>46.835443</td>\n",
              "    </tr>\n",
              "    <tr>\n",
              "      <th>gender</th>\n",
              "      <td>0</td>\n",
              "      <td>0.000000</td>\n",
              "    </tr>\n",
              "    <tr>\n",
              "      <th>years_from_diagnosis_to_sample</th>\n",
              "      <td>3</td>\n",
              "      <td>3.797468</td>\n",
              "    </tr>\n",
              "    <tr>\n",
              "      <th>age_at_diagnosis</th>\n",
              "      <td>0</td>\n",
              "      <td>0.000000</td>\n",
              "    </tr>\n",
              "    <tr>\n",
              "      <th>primary_EDSS_at_diagnosis</th>\n",
              "      <td>1</td>\n",
              "      <td>1.265823</td>\n",
              "    </tr>\n",
              "    <tr>\n",
              "      <th>1_years_EDSS</th>\n",
              "      <td>2</td>\n",
              "      <td>2.531646</td>\n",
              "    </tr>\n",
              "    <tr>\n",
              "      <th>5_years_EDSS</th>\n",
              "      <td>4</td>\n",
              "      <td>5.063291</td>\n",
              "    </tr>\n",
              "    <tr>\n",
              "      <th>primary_EDSS_at_sample_date</th>\n",
              "      <td>2</td>\n",
              "      <td>2.531646</td>\n",
              "    </tr>\n",
              "    <tr>\n",
              "      <th>1_years_EDSS_from_sample_date</th>\n",
              "      <td>3</td>\n",
              "      <td>3.797468</td>\n",
              "    </tr>\n",
              "    <tr>\n",
              "      <th>5_years_from_sample</th>\n",
              "      <td>8</td>\n",
              "      <td>10.126582</td>\n",
              "    </tr>\n",
              "    <tr>\n",
              "      <th>EDSS_post_10_years</th>\n",
              "      <td>2</td>\n",
              "      <td>2.531646</td>\n",
              "    </tr>\n",
              "    <tr>\n",
              "      <th>oligoclonal_band</th>\n",
              "      <td>21</td>\n",
              "      <td>26.582278</td>\n",
              "    </tr>\n",
              "    <tr>\n",
              "      <th>lymph_cells</th>\n",
              "      <td>22</td>\n",
              "      <td>27.848101</td>\n",
              "    </tr>\n",
              "    <tr>\n",
              "      <th>PMN_cells</th>\n",
              "      <td>22</td>\n",
              "      <td>27.848101</td>\n",
              "    </tr>\n",
              "    <tr>\n",
              "      <th>cells_total</th>\n",
              "      <td>21</td>\n",
              "      <td>26.582278</td>\n",
              "    </tr>\n",
              "    <tr>\n",
              "      <th>MRI_lesion_mass</th>\n",
              "      <td>15</td>\n",
              "      <td>18.987342</td>\n",
              "    </tr>\n",
              "    <tr>\n",
              "      <th>MRI_date</th>\n",
              "      <td>15</td>\n",
              "      <td>18.987342</td>\n",
              "    </tr>\n",
              "    <tr>\n",
              "      <th>treatment_when_sample_was_taken</th>\n",
              "      <td>0</td>\n",
              "      <td>0.000000</td>\n",
              "    </tr>\n",
              "    <tr>\n",
              "      <th>num_of_medicine_changed</th>\n",
              "      <td>2</td>\n",
              "      <td>2.531646</td>\n",
              "    </tr>\n",
              "    <tr>\n",
              "      <th>relapse_rate_since_blood_sample</th>\n",
              "      <td>25</td>\n",
              "      <td>31.645570</td>\n",
              "    </tr>\n",
              "  </tbody>\n",
              "</table>\n",
              "</div>"
            ],
            "text/plain": [
              "                                 total_missing  perc_missing\n",
              "sample_date                                  0      0.000000\n",
              "sample_code                                  0      0.000000\n",
              "diagnosis                                    0      0.000000\n",
              "TIM3_RQ                                      0      0.000000\n",
              "TIGIT_RQ                                     0      0.000000\n",
              "LAG3_RQ                                      0      0.000000\n",
              "PD-1_RQ                                     37     46.835443\n",
              "gender                                       0      0.000000\n",
              "years_from_diagnosis_to_sample               3      3.797468\n",
              "age_at_diagnosis                             0      0.000000\n",
              "primary_EDSS_at_diagnosis                    1      1.265823\n",
              "1_years_EDSS                                 2      2.531646\n",
              "5_years_EDSS                                 4      5.063291\n",
              "primary_EDSS_at_sample_date                  2      2.531646\n",
              "1_years_EDSS_from_sample_date                3      3.797468\n",
              "5_years_from_sample                          8     10.126582\n",
              "EDSS_post_10_years                           2      2.531646\n",
              "oligoclonal_band                            21     26.582278\n",
              "lymph_cells                                 22     27.848101\n",
              "PMN_cells                                   22     27.848101\n",
              "cells_total                                 21     26.582278\n",
              "MRI_lesion_mass                             15     18.987342\n",
              "MRI_date                                    15     18.987342\n",
              "treatment_when_sample_was_taken              0      0.000000\n",
              "num_of_medicine_changed                      2      2.531646\n",
              "relapse_rate_since_blood_sample             25     31.645570"
            ]
          },
          "metadata": {
            "tags": []
          },
          "execution_count": 18
        }
      ]
    },
    {
      "cell_type": "markdown",
      "metadata": {
        "id": "fhs5kkLcNNtl"
      },
      "source": [
        "filling missing data"
      ]
    },
    {
      "cell_type": "code",
      "metadata": {
        "id": "12ZPFDdzz_Q_"
      },
      "source": [
        "pdCol = df['PD-1_RQ']\n",
        "edssTenCol = df['EDSS_post_10_years']\n",
        "lymphCol = df['lymph_cells']\n",
        "cellsTotalCol = df['cells_total']\n",
        "mriLessionCol = df['MRI_lesion_mass']\n",
        "five_years_sample = df['5_years_from_sample']\n",
        "relapse_rate = df['relapse_rate_since_blood_sample']"
      ],
      "execution_count": null,
      "outputs": []
    },
    {
      "cell_type": "code",
      "metadata": {
        "id": "x-IRYFB5GrPJ"
      },
      "source": [
        "pdCol = pdCol[np.logical_not(np.isnan(pdCol))]\n",
        "edssTenCol = edssTenCol[np.logical_not(np.isnan(edssTenCol))]\n",
        "lymphCol = lymphCol[np.logical_not(np.isnan(lymphCol))]\n",
        "cellsTotalCol = cellsTotalCol[np.logical_not(np.isnan(cellsTotalCol))]\n",
        "mriLessionCol = mriLessionCol[np.logical_not(np.isnan(mriLessionCol))]\n",
        "five_years_sample = five_years_sample[np.logical_not(np.isnan(five_years_sample))]\n",
        "relapse_rate = relapse_rate[np.logical_not(np.isnan(relapse_rate))]"
      ],
      "execution_count": null,
      "outputs": []
    },
    {
      "cell_type": "code",
      "metadata": {
        "id": "jg7jrvrB4CeM"
      },
      "source": [
        "df['PD-1_RQ'].fillna(stats.median(pdCol), inplace=True)\n",
        "df['EDSS_post_10_years'].fillna(stats.median(edssTenCol), inplace=True)\n",
        "df['lymph_cells'].fillna(stats.median(lymphCol), inplace=True)\n",
        "df['cells_total'].fillna(stats.median(cellsTotalCol), inplace=True)\n",
        "df['MRI_lesion_mass'].fillna(stats.median(mriLessionCol), inplace=True)\n",
        "df['5_years_from_sample'].fillna(stats.median(five_years_sample), inplace=True)\n",
        "df['relapse_rate_since_blood_sample'].fillna(stats.median(relapse_rate), inplace=True)"
      ],
      "execution_count": null,
      "outputs": []
    },
    {
      "cell_type": "code",
      "metadata": {
        "id": "h_wGJR_NNPo2"
      },
      "source": [
        "#categorial sample\n",
        "df['oligoclonal_band'].fillna(stats.mode(df['oligoclonal_band']), inplace=True)\n",
        "df['gender'].fillna(stats.mode(df['gender']), inplace=True)\n",
        "df['treatment_when_sample_was_taken'].fillna(stats.mode(df['treatment_when_sample_was_taken']), inplace=True)\n",
        "\n",
        "#categorial diagnosis\n",
        "df['diagnosis'].fillna(stats.mode(df['diagnosis']), inplace=True)\n",
        "\n",
        "\n",
        "\n",
        "#numeric sample\n",
        "df['PMN_cells'].fillna(stats.median(df['PMN_cells']), inplace=True)\n",
        "df['TIM3_RQ'].fillna(stats.median(df['TIM3_RQ']), inplace=True)\n",
        "df['TIGIT_RQ'].fillna(stats.median(df['TIGIT_RQ']), inplace=True)\n",
        "df['LAG3_RQ'].fillna(stats.median(df['LAG3_RQ']), inplace=True)\n",
        "df['primary_EDSS_at_sample_date'].fillna(stats.median(df['primary_EDSS_at_sample_date']), inplace=True)\n",
        "df['years_from_diagnosis_to_sample'].fillna(stats.median(df['years_from_diagnosis_to_sample']), inplace=True)\n",
        "\n",
        "\n",
        "#numeric diagnosis\n",
        "df['primary_EDSS_at_diagnosis'].fillna(stats.median(df['primary_EDSS_at_diagnosis']), inplace=True)\n",
        "df['age_at_diagnosis'].fillna(stats.median(df['age_at_diagnosis']), inplace=True)\n",
        "\n",
        "\n",
        "df['MRI_date'].fillna(stats.mode(df['MRI_date']), inplace=True)\n",
        "df['1_years_EDSS'].fillna(stats.median(df['1_years_EDSS']), inplace=True)\n",
        "df['5_years_EDSS'].fillna(stats.median(df['5_years_EDSS']), inplace=True)\n",
        "df['1_years_EDSS_from_sample_date'].fillna(stats.median(df['1_years_EDSS_from_sample_date']), inplace=True)\n",
        "df['5_years_from_sample'].fillna(stats.median(df['5_years_from_sample']), inplace=True)\n",
        "df['num_of_medicine_changed'].fillna(stats.median(df['num_of_medicine_changed']), inplace=True)\n",
        "df['relapse_rate_since_blood_sample'].fillna(stats.median(df['relapse_rate_since_blood_sample']), inplace=True)\n",
        "\n",
        "\n"
      ],
      "execution_count": null,
      "outputs": []
    },
    {
      "cell_type": "code",
      "metadata": {
        "id": "Rs4zFnRMycYW"
      },
      "source": [
        "df.to_excel('df.xlsx',index=False)"
      ],
      "execution_count": null,
      "outputs": []
    },
    {
      "cell_type": "markdown",
      "metadata": {
        "id": "P8IxSJmdS84n"
      },
      "source": [
        "check if the filling missing values succeeded"
      ]
    },
    {
      "cell_type": "code",
      "metadata": {
        "id": "j4KQW2ZfSRf3",
        "colab": {
          "base_uri": "https://localhost:8080/",
          "height": 817
        },
        "outputId": "e91bb5b6-2794-4a18-cac9-433d57e7a65d"
      },
      "source": [
        "missing_data = pd.DataFrame({'total_missing': df.isnull().sum(), 'perc_missing': (df.isnull().sum()/count_samples)*100})\n",
        "missing_data"
      ],
      "execution_count": null,
      "outputs": [
        {
          "output_type": "execute_result",
          "data": {
            "text/html": [
              "<div>\n",
              "<style scoped>\n",
              "    .dataframe tbody tr th:only-of-type {\n",
              "        vertical-align: middle;\n",
              "    }\n",
              "\n",
              "    .dataframe tbody tr th {\n",
              "        vertical-align: top;\n",
              "    }\n",
              "\n",
              "    .dataframe thead th {\n",
              "        text-align: right;\n",
              "    }\n",
              "</style>\n",
              "<table border=\"1\" class=\"dataframe\">\n",
              "  <thead>\n",
              "    <tr style=\"text-align: right;\">\n",
              "      <th></th>\n",
              "      <th>total_missing</th>\n",
              "      <th>perc_missing</th>\n",
              "    </tr>\n",
              "  </thead>\n",
              "  <tbody>\n",
              "    <tr>\n",
              "      <th>sample_date</th>\n",
              "      <td>0</td>\n",
              "      <td>0.000000</td>\n",
              "    </tr>\n",
              "    <tr>\n",
              "      <th>sample_code</th>\n",
              "      <td>0</td>\n",
              "      <td>0.000000</td>\n",
              "    </tr>\n",
              "    <tr>\n",
              "      <th>diagnosis</th>\n",
              "      <td>0</td>\n",
              "      <td>0.000000</td>\n",
              "    </tr>\n",
              "    <tr>\n",
              "      <th>TIM3_RQ</th>\n",
              "      <td>0</td>\n",
              "      <td>0.000000</td>\n",
              "    </tr>\n",
              "    <tr>\n",
              "      <th>TIGIT_RQ</th>\n",
              "      <td>0</td>\n",
              "      <td>0.000000</td>\n",
              "    </tr>\n",
              "    <tr>\n",
              "      <th>LAG3_RQ</th>\n",
              "      <td>0</td>\n",
              "      <td>0.000000</td>\n",
              "    </tr>\n",
              "    <tr>\n",
              "      <th>PD-1_RQ</th>\n",
              "      <td>0</td>\n",
              "      <td>0.000000</td>\n",
              "    </tr>\n",
              "    <tr>\n",
              "      <th>gender</th>\n",
              "      <td>0</td>\n",
              "      <td>0.000000</td>\n",
              "    </tr>\n",
              "    <tr>\n",
              "      <th>years_from_diagnosis_to_sample</th>\n",
              "      <td>0</td>\n",
              "      <td>0.000000</td>\n",
              "    </tr>\n",
              "    <tr>\n",
              "      <th>age_at_diagnosis</th>\n",
              "      <td>0</td>\n",
              "      <td>0.000000</td>\n",
              "    </tr>\n",
              "    <tr>\n",
              "      <th>primary_EDSS_at_diagnosis</th>\n",
              "      <td>0</td>\n",
              "      <td>0.000000</td>\n",
              "    </tr>\n",
              "    <tr>\n",
              "      <th>1_years_EDSS</th>\n",
              "      <td>0</td>\n",
              "      <td>0.000000</td>\n",
              "    </tr>\n",
              "    <tr>\n",
              "      <th>5_years_EDSS</th>\n",
              "      <td>0</td>\n",
              "      <td>0.000000</td>\n",
              "    </tr>\n",
              "    <tr>\n",
              "      <th>primary_EDSS_at_sample_date</th>\n",
              "      <td>0</td>\n",
              "      <td>0.000000</td>\n",
              "    </tr>\n",
              "    <tr>\n",
              "      <th>1_years_EDSS_from_sample_date</th>\n",
              "      <td>3</td>\n",
              "      <td>3.797468</td>\n",
              "    </tr>\n",
              "    <tr>\n",
              "      <th>5_years_from_sample</th>\n",
              "      <td>0</td>\n",
              "      <td>0.000000</td>\n",
              "    </tr>\n",
              "    <tr>\n",
              "      <th>EDSS_post_10_years</th>\n",
              "      <td>0</td>\n",
              "      <td>0.000000</td>\n",
              "    </tr>\n",
              "    <tr>\n",
              "      <th>oligoclonal_band</th>\n",
              "      <td>0</td>\n",
              "      <td>0.000000</td>\n",
              "    </tr>\n",
              "    <tr>\n",
              "      <th>lymph_cells</th>\n",
              "      <td>0</td>\n",
              "      <td>0.000000</td>\n",
              "    </tr>\n",
              "    <tr>\n",
              "      <th>PMN_cells</th>\n",
              "      <td>0</td>\n",
              "      <td>0.000000</td>\n",
              "    </tr>\n",
              "    <tr>\n",
              "      <th>cells_total</th>\n",
              "      <td>0</td>\n",
              "      <td>0.000000</td>\n",
              "    </tr>\n",
              "    <tr>\n",
              "      <th>MRI_lesion_mass</th>\n",
              "      <td>0</td>\n",
              "      <td>0.000000</td>\n",
              "    </tr>\n",
              "    <tr>\n",
              "      <th>MRI_date</th>\n",
              "      <td>15</td>\n",
              "      <td>18.987342</td>\n",
              "    </tr>\n",
              "    <tr>\n",
              "      <th>treatment_when_sample_was_taken</th>\n",
              "      <td>0</td>\n",
              "      <td>0.000000</td>\n",
              "    </tr>\n",
              "    <tr>\n",
              "      <th>num_of_medicine_changed</th>\n",
              "      <td>0</td>\n",
              "      <td>0.000000</td>\n",
              "    </tr>\n",
              "    <tr>\n",
              "      <th>relapse_rate_since_blood_sample</th>\n",
              "      <td>0</td>\n",
              "      <td>0.000000</td>\n",
              "    </tr>\n",
              "  </tbody>\n",
              "</table>\n",
              "</div>"
            ],
            "text/plain": [
              "                                 total_missing  perc_missing\n",
              "sample_date                                  0      0.000000\n",
              "sample_code                                  0      0.000000\n",
              "diagnosis                                    0      0.000000\n",
              "TIM3_RQ                                      0      0.000000\n",
              "TIGIT_RQ                                     0      0.000000\n",
              "LAG3_RQ                                      0      0.000000\n",
              "PD-1_RQ                                      0      0.000000\n",
              "gender                                       0      0.000000\n",
              "years_from_diagnosis_to_sample               0      0.000000\n",
              "age_at_diagnosis                             0      0.000000\n",
              "primary_EDSS_at_diagnosis                    0      0.000000\n",
              "1_years_EDSS                                 0      0.000000\n",
              "5_years_EDSS                                 0      0.000000\n",
              "primary_EDSS_at_sample_date                  0      0.000000\n",
              "1_years_EDSS_from_sample_date                3      3.797468\n",
              "5_years_from_sample                          0      0.000000\n",
              "EDSS_post_10_years                           0      0.000000\n",
              "oligoclonal_band                             0      0.000000\n",
              "lymph_cells                                  0      0.000000\n",
              "PMN_cells                                    0      0.000000\n",
              "cells_total                                  0      0.000000\n",
              "MRI_lesion_mass                              0      0.000000\n",
              "MRI_date                                    15     18.987342\n",
              "treatment_when_sample_was_taken              0      0.000000\n",
              "num_of_medicine_changed                      0      0.000000\n",
              "relapse_rate_since_blood_sample              0      0.000000"
            ]
          },
          "metadata": {
            "tags": []
          },
          "execution_count": 24
        }
      ]
    },
    {
      "cell_type": "markdown",
      "metadata": {
        "id": "UV9EE6TnN2RB"
      },
      "source": [
        "define the data types"
      ]
    },
    {
      "cell_type": "code",
      "metadata": {
        "id": "xm2cfV7_Oo83",
        "colab": {
          "base_uri": "https://localhost:8080/"
        },
        "outputId": "e63b8906-f76d-4c0f-eb63-9f1d4dd8c48b"
      },
      "source": [
        "df.dtypes"
      ],
      "execution_count": null,
      "outputs": [
        {
          "output_type": "execute_result",
          "data": {
            "text/plain": [
              "sample_date                         object\n",
              "sample_code                         object\n",
              "diagnosis                           object\n",
              "TIM3_RQ                            float64\n",
              "TIGIT_RQ                           float64\n",
              "LAG3_RQ                            float64\n",
              "PD-1_RQ                            float64\n",
              "gender                              object\n",
              "years_from_diagnosis_to_sample     float64\n",
              "age_at_diagnosis                     int64\n",
              "primary_EDSS_at_diagnosis          float64\n",
              "1_years_EDSS                       float64\n",
              "5_years_EDSS                       float64\n",
              "primary_EDSS_at_sample_date        float64\n",
              "1_years_EDSS_from_sample_date      float64\n",
              "5_years_from_sample                float64\n",
              "EDSS_post_10_years                 float64\n",
              "oligoclonal_band                    object\n",
              "lymph_cells                        float64\n",
              "PMN_cells                          float64\n",
              "cells_total                        float64\n",
              "MRI_lesion_mass                    float64\n",
              "MRI_date                            object\n",
              "treatment_when_sample_was_taken     object\n",
              "num_of_medicine_changed            float64\n",
              "relapse_rate_since_blood_sample    float64\n",
              "dtype: object"
            ]
          },
          "metadata": {
            "tags": []
          },
          "execution_count": 25
        }
      ]
    },
    {
      "cell_type": "code",
      "metadata": {
        "id": "K-B6SGbmV30K"
      },
      "source": [
        "df"
      ],
      "execution_count": null,
      "outputs": []
    },
    {
      "cell_type": "code",
      "metadata": {
        "id": "o4Xx9xQGWHHL"
      },
      "source": [
        "df.to_excel('df.xlsx',index=False)"
      ],
      "execution_count": null,
      "outputs": []
    },
    {
      "cell_type": "code",
      "metadata": {
        "id": "I5zwrOkev03A",
        "colab": {
          "base_uri": "https://localhost:8080/"
        },
        "outputId": "f3153362-6dea-43fc-a75e-d7023845d167"
      },
      "source": [
        "#define date type\n",
        "#float\n",
        "df['sample_date'] = pd.to_datetime(df['sample_date'])\n",
        "df['MRI_date'] = pd.to_datetime(df['MRI_date'])\n",
        "\n",
        "\n",
        "#define numeric type MRI\n",
        "df['MRI_lesion_mass'] = df['MRI_lesion_mass'].astype('float64')\n",
        "\n",
        "#define category type sample\n",
        "df['gender'] = df['gender'].astype('category')\n",
        "df['oligoclonal_band'] = df['oligoclonal_band'].astype('category')\n",
        "df['treatment_when_sample_was_taken'] = df['treatment_when_sample_was_taken'].astype('category')\n",
        "df['sample_code'] = df['sample_code'].astype('category')\n",
        "\n",
        "#define category type diagnosis\n",
        "df['diagnosis'] = df['diagnosis'].astype('category')\n",
        "\n",
        "\n",
        "#numeric int new\n",
        "df['lymph_cells'] = df['lymph_cells'].astype('int64')\n",
        "df['PMN_cells'] = df['PMN_cells'].astype('int64')\n",
        "df['cells_total'] = df['cells_total'].astype('int64')\n",
        "df['TIM3_RQ'] = df['TIM3_RQ'].astype('float64')\n",
        "df['TIGIT_RQ'] = df['TIGIT_RQ'].astype('float64')\n",
        "df['LAG3_RQ'] = df['LAG3_RQ'].astype('float64')\n",
        "df['PD-1_RQ'] = df['PD-1_RQ'].astype('float64')\n",
        "df['primary_EDSS_at_sample_date'] = df['primary_EDSS_at_sample_date'].astype('float64')\n",
        "df['EDSS_post_10_years'] = df['EDSS_post_10_years'].astype('float64')\n",
        "\n",
        "\n",
        "#define numeric type diagnosis\n",
        "df['primary_EDSS_at_diagnosis'] = df['primary_EDSS_at_diagnosis'].astype('float64')\n",
        "df['1_years_EDSS'] = df['1_years_EDSS'].astype('float64')\n",
        "df['5_years_EDSS'] = df['5_years_EDSS'].astype('float64')\n",
        "df['1_years_EDSS_from_sample_date'] = df['1_years_EDSS_from_sample_date'].astype('float64')\n",
        "df['5_years_from_sample'] = df['5_years_from_sample'].astype('float64')\n",
        "df['EDSS_post_10_years'] = df['EDSS_post_10_years'].astype('float64')\n",
        "df['years_from_diagnosis_to_sample'] = df['years_from_diagnosis_to_sample'].astype('int64')\n",
        "df['age_at_diagnosis'] = df['age_at_diagnosis'].astype('int64')\n",
        "df['num_of_medicine_changed'] = df['num_of_medicine_changed'].astype('int64')\n",
        "df['relapse_rate_since_blood_sample'] = df['relapse_rate_since_blood_sample'].astype('int64')\n",
        "\n",
        "df.dtypes"
      ],
      "execution_count": null,
      "outputs": [
        {
          "output_type": "execute_result",
          "data": {
            "text/plain": [
              "sample_date                        datetime64[ns]\n",
              "sample_code                              category\n",
              "diagnosis                                category\n",
              "TIM3_RQ                                   float64\n",
              "TIGIT_RQ                                  float64\n",
              "LAG3_RQ                                   float64\n",
              "PD-1_RQ                                   float64\n",
              "gender                                   category\n",
              "years_from_diagnosis_to_sample              int64\n",
              "age_at_diagnosis                            int64\n",
              "primary_EDSS_at_diagnosis                 float64\n",
              "1_years_EDSS                              float64\n",
              "5_years_EDSS                              float64\n",
              "primary_EDSS_at_sample_date               float64\n",
              "1_years_EDSS_from_sample_date             float64\n",
              "5_years_from_sample                       float64\n",
              "EDSS_post_10_years                        float64\n",
              "oligoclonal_band                         category\n",
              "lymph_cells                                 int64\n",
              "PMN_cells                                   int64\n",
              "cells_total                                 int64\n",
              "MRI_lesion_mass                           float64\n",
              "MRI_date                           datetime64[ns]\n",
              "treatment_when_sample_was_taken          category\n",
              "num_of_medicine_changed                     int64\n",
              "relapse_rate_since_blood_sample             int64\n",
              "dtype: object"
            ]
          },
          "metadata": {
            "tags": []
          },
          "execution_count": 28
        }
      ]
    },
    {
      "cell_type": "markdown",
      "metadata": {
        "id": "QFrZmhUUUI50"
      },
      "source": [
        "keep only relevant samples (before 2014)"
      ]
    },
    {
      "cell_type": "code",
      "metadata": {
        "id": "m7kdb2pa0qO2",
        "colab": {
          "base_uri": "https://localhost:8080/"
        },
        "outputId": "84add0d1-527c-47a4-e97d-afe29bd801a0"
      },
      "source": [
        "df =  df[(df['sample_date']  < '1.1.14')]\n",
        "#remove the time from dateTime\n",
        "df['sample_date'] = df['sample_date'].dt.date\n",
        "df['MRI_date'] = df['MRI_date'].dt.date\n",
        "\n",
        "\n"
      ],
      "execution_count": null,
      "outputs": [
        {
          "output_type": "stream",
          "text": [
            "/usr/local/lib/python3.6/dist-packages/ipykernel_launcher.py:3: SettingWithCopyWarning: \n",
            "A value is trying to be set on a copy of a slice from a DataFrame.\n",
            "Try using .loc[row_indexer,col_indexer] = value instead\n",
            "\n",
            "See the caveats in the documentation: https://pandas.pydata.org/pandas-docs/stable/user_guide/indexing.html#returning-a-view-versus-a-copy\n",
            "  This is separate from the ipykernel package so we can avoid doing imports until\n",
            "/usr/local/lib/python3.6/dist-packages/ipykernel_launcher.py:4: SettingWithCopyWarning: \n",
            "A value is trying to be set on a copy of a slice from a DataFrame.\n",
            "Try using .loc[row_indexer,col_indexer] = value instead\n",
            "\n",
            "See the caveats in the documentation: https://pandas.pydata.org/pandas-docs/stable/user_guide/indexing.html#returning-a-view-versus-a-copy\n",
            "  after removing the cwd from sys.path.\n"
          ],
          "name": "stderr"
        }
      ]
    },
    {
      "cell_type": "code",
      "metadata": {
        "id": "zmbDsxbDbCsB",
        "colab": {
          "base_uri": "https://localhost:8080/"
        },
        "outputId": "3724fefd-1e52-40a4-ab9f-235e5daca5a9"
      },
      "source": [
        "df.dtypes"
      ],
      "execution_count": null,
      "outputs": [
        {
          "output_type": "execute_result",
          "data": {
            "text/plain": [
              "sample_date                          object\n",
              "sample_code                        category\n",
              "diagnosis                          category\n",
              "TIM3_RQ                             float64\n",
              "TIGIT_RQ                            float64\n",
              "LAG3_RQ                             float64\n",
              "PD-1_RQ                             float64\n",
              "gender                             category\n",
              "years_from_diagnosis_to_sample        int64\n",
              "age_at_diagnosis                      int64\n",
              "primary_EDSS_at_diagnosis           float64\n",
              "1_years_EDSS                        float64\n",
              "5_years_EDSS                        float64\n",
              "primary_EDSS_at_sample_date         float64\n",
              "1_years_EDSS_from_sample_date       float64\n",
              "5_years_from_sample                 float64\n",
              "EDSS_post_10_years                  float64\n",
              "oligoclonal_band                   category\n",
              "lymph_cells                           int64\n",
              "PMN_cells                             int64\n",
              "cells_total                           int64\n",
              "MRI_lesion_mass                     float64\n",
              "MRI_date                             object\n",
              "treatment_when_sample_was_taken    category\n",
              "num_of_medicine_changed               int64\n",
              "relapse_rate_since_blood_sample       int64\n",
              "dtype: object"
            ]
          },
          "metadata": {
            "tags": []
          },
          "execution_count": 30
        }
      ]
    },
    {
      "cell_type": "markdown",
      "metadata": {
        "id": "Mj43AiPqR5IB"
      },
      "source": [
        "export the data frame to excel file"
      ]
    },
    {
      "cell_type": "code",
      "metadata": {
        "id": "zRoukOTX_7tt"
      },
      "source": [
        "df.to_excel('dfAfterFillNA.xlsx',index=False)"
      ],
      "execution_count": null,
      "outputs": []
    },
    {
      "cell_type": "markdown",
      "metadata": {
        "id": "5OTXsvsncws7"
      },
      "source": [
        "transform categorical features to numeric features"
      ]
    },
    {
      "cell_type": "code",
      "metadata": {
        "id": "rV3N4vC68IJj"
      },
      "source": [
        "df_oligoclonal_band = pd.get_dummies(df['oligoclonal_band'])\n",
        "df_gender = pd.get_dummies(df['gender'])\n",
        "df_diagnosis = pd.get_dummies(df['diagnosis'])\n",
        "df_treatment = pd.get_dummies(df['treatment_when_sample_was_taken'])"
      ],
      "execution_count": null,
      "outputs": []
    },
    {
      "cell_type": "code",
      "metadata": {
        "id": "Kohbdu1a9kCP"
      },
      "source": [
        "#add the new dummy variables to the df\n",
        "df = df.merge(df_oligoclonal_band, left_index=True, right_index=True)\n",
        "df = df.merge(df_gender, left_index=True, right_index=True)\n",
        "df = df.merge(df_diagnosis, left_index=True, right_index=True)\n",
        "df = df.merge(df_treatment, left_index=True, right_index=True)"
      ],
      "execution_count": null,
      "outputs": []
    },
    {
      "cell_type": "code",
      "metadata": {
        "id": "87nXs8tKciiA"
      },
      "source": [
        "df.to_excel('dfAfterDummies.xlsx',index=False)"
      ],
      "execution_count": null,
      "outputs": []
    },
    {
      "cell_type": "code",
      "metadata": {
        "id": "4-jM5ORReGyq"
      },
      "source": [
        "df = df.rename(columns = {'COPAXONE': 'med_COPAXONE', 'GILENYA': 'med_GILENYA', 'IFN': 'med_IFN', 'IMURAN': 'med_IMURAN', 'METHOTREXATE, PREDNISONE': 'med_METHOTREXATE_PREDNISONE', 'OCREVUS': 'med_OCREVUS', 'PLEGRIDY': 'med_PLEGRIDY', 'TACFIDERA': 'med_TACFIDERA', 'TYSABRI': 'med_TYSABRI', 'UNTREATED ': 'med_UNTREATED'}, inplace = False)\n",
        "df = df.rename(columns = {'POS': 'positive_OCB', 'M': 'Male', 'age_at_diagnosis' : 'age_at_diagnosis', 'RRMS' : 'diagnosis_RRMS', 'primary_EDSS_at_diagnosis' : 'primary_EDSS_at_diagnosis' , 'MRI_lesion_mass' : 'MRI_lesion_mass', 'TIGIT_RQ' : 'TIGIT_RQ', 'TIM3_RQ': 'TIM3_RQ', 'LAG3_RQ' : 'LAG3_RQ' , 'PD-1_RQ' : 'PD-1_RQ','EDSS_post_10_years': 'EDSS_post_10_years'}, inplace = False)"
      ],
      "execution_count": null,
      "outputs": []
    },
    {
      "cell_type": "code",
      "metadata": {
        "id": "A67UPPGQftOj"
      },
      "source": [
        "df.to_excel('dfAfterRename.xlsx',index=False)\n"
      ],
      "execution_count": null,
      "outputs": []
    },
    {
      "cell_type": "markdown",
      "metadata": {
        "id": "N9phsGFycXrY"
      },
      "source": [
        "convert dummys to category"
      ]
    },
    {
      "cell_type": "code",
      "metadata": {
        "id": "MytvoKelcW8p"
      },
      "source": [
        "df['NEG'] = df['NEG'].astype('category')\n",
        "df['positive_OCB'] = df['positive_OCB'].astype('category')\n",
        "df['F'] = df['F'].astype('category')\n",
        "df['Male'] = df['Male'].astype('category')\n",
        "df['diagnosis_RRMS'] = df['diagnosis_RRMS'].astype('category')\n",
        "df['SPMS'] = df['SPMS'].astype('category')\n",
        "df['med_IFN'] = df['med_IFN'].astype('category')\n",
        "df['OTHER_TREATMENT'] = df['OTHER_TREATMENT'].astype('category')\n",
        "df['med_TYSABRI'] = df['med_TYSABRI'].astype('category')\n",
        "df['UNTREATED'] = df['UNTREATED'].astype('category')"
      ],
      "execution_count": null,
      "outputs": []
    },
    {
      "cell_type": "code",
      "metadata": {
        "id": "8u_w-BwX3Q-2"
      },
      "source": [
        "df.to_pickle('DFDB1Final.pkl')"
      ],
      "execution_count": null,
      "outputs": []
    },
    {
      "cell_type": "markdown",
      "metadata": {
        "id": "1Sxj-BWtIQGd"
      },
      "source": [
        "function for calculate cross validation score on one DB"
      ]
    },
    {
      "cell_type": "code",
      "metadata": {
        "id": "dJ8s6VZDIMdY"
      },
      "source": [
        "def calcCrossValidation(model, data, predictors, outcome):\n",
        "\n",
        "    # Perform k-fold cross-validation with 10 folds\n",
        "    kf = KFold(n_splits=10)\n",
        "    accuracy = []\n",
        "    for train, test in kf.split(data):\n",
        "        # Filter training data\n",
        "        train_predictors = (data[predictors].iloc[train, :])\n",
        "        # The target we're using to train the algorithm.\n",
        "        train_target = data[outcome].iloc[train]\n",
        "\n",
        "        # Training the algorithm using the predictors and target.\n",
        "        model.fit(train_predictors, train_target)\n",
        "        # Record accuracy from each cross-validation run\n",
        "        accuracy.append(model.score(data[predictors].iloc[test, :], data[outcome].iloc[test]))\n",
        "\n",
        "    print(\"Cross-Validation Score : %s\" % \"{0:.3%}\".format(np.mean(accuracy)))\n",
        "    print(accuracy)"
      ],
      "execution_count": null,
      "outputs": []
    },
    {
      "cell_type": "markdown",
      "metadata": {
        "id": "QB9Aq9q5Yqxu"
      },
      "source": [
        "function for calcuate RMSE on one DB only train"
      ]
    },
    {
      "cell_type": "code",
      "metadata": {
        "id": "bM4IIWx6IUUD"
      },
      "source": [
        "# def calc_rmse(model, data, predictors, outcome):\n",
        "\n",
        "#   # Fit the model on training set:\n",
        "#   model.fit(data[predictors], data[outcome])\n",
        "#   # Make predictions on training set:\n",
        "#   y_predicted = model.predict(data[predictors])\n",
        "#   rmse = sqrt(mean_squared_error(data[outcome], y_predicted))  \n",
        "#   print(rmse)"
      ],
      "execution_count": null,
      "outputs": []
    },
    {
      "cell_type": "code",
      "metadata": {
        "id": "hs4sysL9XI-D"
      },
      "source": [
        "def calc_rmse(model, data, predictors, outcome):\n",
        "  df_label = data[outcome]\n",
        "  df_predictors = data[predictors]\n",
        "  X_train, X_test, y_train, y_test = train_test_split(df_predictors, df_label)\n",
        "  # Fit the model on training set:\n",
        "  model.fit(X_train,  y_train)\n",
        "  # Make predictions on training set:\n",
        "  y_predicted = model.predict(X_test)\n",
        "  rmse = sqrt(mean_squared_error(y_test, y_predicted))  \n",
        "  print(rmse)"
      ],
      "execution_count": null,
      "outputs": []
    },
    {
      "cell_type": "markdown",
      "metadata": {
        "id": "ir1VrnSgI5ZY"
      },
      "source": [
        "calculate accuracy just on train one DB"
      ]
    },
    {
      "cell_type": "code",
      "metadata": {
        "id": "8VYldXovI8qB"
      },
      "source": [
        "def calcAccuracy(model, data, predictors, outcome):\n",
        "    # Fit the model:\n",
        "    model.fit(data[predictors], data[outcome])\n",
        "    # Make predictions on training set:\n",
        "    predictions = model.predict(data[predictors])\n",
        "    # Print accuracy\n",
        "    accuracy = metrics.accuracy_score(predictions, data[outcome])\n",
        "    print(\"Training accuracy : %s\" % \"{0:.3%}\".format(accuracy))"
      ],
      "execution_count": null,
      "outputs": []
    },
    {
      "cell_type": "code",
      "metadata": {
        "id": "LqMV3v3PgGLm",
        "colab": {
          "base_uri": "https://localhost:8080/"
        },
        "outputId": "2abf4f0a-6618-44ec-80c8-d8390c988838"
      },
      "source": [
        "# # check RMSE - Random Forest Algorithm\n",
        "#pmn cells, lymph cells, num of medicine changed not in predicator because it increase rmse \n",
        "rf = RandomForestRegressor(n_estimators = 10, random_state = 42)\n",
        "predictor_var = ['MRI_lesion_mass','primary_EDSS_at_diagnosis','primary_EDSS_at_sample_date','age_at_diagnosis','TIM3_RQ', 'TIGIT_RQ', 'LAG3_RQ', 'PD-1_RQ', 'Male', 'positive_OCB', 'OTHER_TREATMENT', 'UNTREATED', 'med_IFN','med_TYSABRI','cells_total']\n",
        "outcome_var = 'EDSS_post_10_years'\n",
        "calc_rmse(rf, df, predictor_var, outcome_var)"
      ],
      "execution_count": null,
      "outputs": [
        {
          "output_type": "stream",
          "text": [
            "2.566677489154673\n"
          ],
          "name": "stdout"
        }
      ]
    },
    {
      "cell_type": "code",
      "metadata": {
        "id": "YPywuNgNJItN",
        "colab": {
          "base_uri": "https://localhost:8080/"
        },
        "outputId": "70816c79-fa60-49a6-b343-15b9a3eede9d"
      },
      "source": [
        "# check accuracy - Random Forest Algorithm\n",
        "rf = RandomForestClassifier(n_estimators=25, min_samples_split=25, max_depth=7, max_features='auto')\n",
        "#num of medicine changed not in predicator because it increase rmse \n",
        "predictor_var = ['PMN_cells','lymph_cells','MRI_lesion_mass','primary_EDSS_at_diagnosis','primary_EDSS_at_sample_date','age_at_diagnosis','TIM3_RQ', 'TIGIT_RQ', 'LAG3_RQ', 'PD-1_RQ', 'Male', 'positive_OCB', 'OTHER_TREATMENT', 'UNTREATED', 'med_IFN','med_TYSABRI','cells_total']\n",
        "outcome_var = 'diagnosis_RRMS'\n",
        "calcAccuracy(rf, df, predictor_var, outcome_var)"
      ],
      "execution_count": null,
      "outputs": [
        {
          "output_type": "stream",
          "text": [
            "Training accuracy : 92.982%\n"
          ],
          "name": "stdout"
        }
      ]
    },
    {
      "cell_type": "code",
      "metadata": {
        "id": "7nCoFF4AWw5z",
        "colab": {
          "base_uri": "https://localhost:8080/"
        },
        "outputId": "e1ca87d5-5d5c-48f7-d626-d41561a111a8"
      },
      "source": [
        "df.dtypes"
      ],
      "execution_count": null,
      "outputs": [
        {
          "output_type": "execute_result",
          "data": {
            "text/plain": [
              "sample_date                          object\n",
              "sample_code                        category\n",
              "diagnosis                          category\n",
              "TIM3_RQ                             float64\n",
              "TIGIT_RQ                            float64\n",
              "LAG3_RQ                             float64\n",
              "PD-1_RQ                             float64\n",
              "gender                             category\n",
              "years_from_diagnosis_to_sample        int64\n",
              "age_at_diagnosis                      int64\n",
              "primary_EDSS_at_diagnosis           float64\n",
              "1_years_EDSS                        float64\n",
              "5_years_EDSS                        float64\n",
              "primary_EDSS_at_sample_date         float64\n",
              "1_years_EDSS_from_sample_date       float64\n",
              "5_years_from_sample                 float64\n",
              "EDSS_post_10_years                  float64\n",
              "oligoclonal_band                   category\n",
              "lymph_cells                           int64\n",
              "PMN_cells                             int64\n",
              "cells_total                           int64\n",
              "MRI_lesion_mass                     float64\n",
              "MRI_date                             object\n",
              "treatment_when_sample_was_taken    category\n",
              "num_of_medicine_changed               int64\n",
              "relapse_rate_since_blood_sample       int64\n",
              "NEG                                category\n",
              "positive_OCB                       category\n",
              "F                                  category\n",
              "Male                               category\n",
              "diagnosis_RRMS                     category\n",
              "SPMS                               category\n",
              "med_IFN                            category\n",
              "OTHER_TREATMENT                    category\n",
              "med_TYSABRI                        category\n",
              "UNTREATED                          category\n",
              "dtype: object"
            ]
          },
          "metadata": {
            "tags": []
          },
          "execution_count": 45
        }
      ]
    },
    {
      "cell_type": "code",
      "metadata": {
        "id": "ccMBbeViy_P_",
        "colab": {
          "base_uri": "https://localhost:8080/"
        },
        "outputId": "47becfc7-41f8-400f-abb0-901ea5e6cf10"
      },
      "source": [
        "# check Cross Validation Score - Random Forest Algorithm\n",
        "rf = RandomForestClassifier(n_estimators=25, min_samples_split=25, max_depth=7, max_features='auto')\n",
        "# Train the model on training data\n",
        "predictor_var = ['MRI_lesion_mass','primary_EDSS_at_diagnosis','primary_EDSS_at_sample_date','age_at_diagnosis','TIM3_RQ', 'TIGIT_RQ', 'LAG3_RQ', 'PD-1_RQ', 'Male', 'positive_OCB', 'OTHER_TREATMENT', 'UNTREATED', 'med_IFN','med_TYSABRI','cells_total']\n",
        "outcome_var = 'diagnosis_RRMS'\n",
        "calcCrossValidation(rf, df, predictor_var, outcome_var)"
      ],
      "execution_count": null,
      "outputs": [
        {
          "output_type": "stream",
          "text": [
            "Cross-Validation Score : 79.000%\n",
            "[0.8333333333333334, 0.3333333333333333, 0.8333333333333334, 0.8333333333333334, 1.0, 0.8333333333333334, 0.8333333333333334, 0.6, 0.8, 1.0]\n"
          ],
          "name": "stdout"
        }
      ]
    },
    {
      "cell_type": "code",
      "metadata": {
        "id": "56cIVxSE0TyS",
        "colab": {
          "base_uri": "https://localhost:8080/"
        },
        "outputId": "370456cc-ac4e-427a-983e-ad0b9112ebfa"
      },
      "source": [
        "logisticRegrDF = LogisticRegression(max_iter=2000)\n",
        "predictor_var = ['MRI_lesion_mass','primary_EDSS_at_diagnosis','primary_EDSS_at_sample_date','age_at_diagnosis','TIM3_RQ', 'TIGIT_RQ', 'LAG3_RQ', 'PD-1_RQ', 'Male', 'positive_OCB', 'OTHER_TREATMENT', 'UNTREATED', 'med_IFN','med_TYSABRI','cells_total']\n",
        "outcome_var = 'diagnosis_RRMS'\n",
        "calcAccuracy(logisticRegrDF, df, predictor_var, outcome_var)"
      ],
      "execution_count": null,
      "outputs": [
        {
          "output_type": "stream",
          "text": [
            "Training accuracy : 94.737%\n"
          ],
          "name": "stdout"
        }
      ]
    },
    {
      "cell_type": "markdown",
      "metadata": {
        "id": "Bypla0wZjNLH"
      },
      "source": [
        "visualize the data distribution"
      ]
    },
    {
      "cell_type": "code",
      "metadata": {
        "id": "hw7xw2JPBlUW"
      },
      "source": [
        "df.describe"
      ],
      "execution_count": null,
      "outputs": []
    },
    {
      "cell_type": "markdown",
      "metadata": {
        "id": "YmrvkWhbfXry"
      },
      "source": [
        "Example for binning"
      ]
    },
    {
      "cell_type": "code",
      "metadata": {
        "id": "UNwA9rcNtNnx"
      },
      "source": [
        "# # function for binning\n",
        "# def binning(col, cut_points, labels=None):\n",
        "#     # Define min and max values:\n",
        "#     minval = col.min()\n",
        "#     maxval = col.max()\n",
        "\n",
        "#     # create list by adding min and max to cut_points\n",
        "#     break_points = [minval] + cut_points + [maxval]\n",
        "\n",
        "#     # if no labels provided, use default labels 0 ... (n-1)\n",
        "#     if not labels:\n",
        "#         labels = range(len(cut_points)+1)\n",
        "\n",
        "#     # Binning using cut function of pandas\n",
        "#     colBin = pd.cut(col, bins=break_points, labels=labels, include_lowest=True)\n",
        "#     return colBin\n",
        "\n",
        "\n",
        "# #Define bins\n",
        "# bins = [2, 5.5]\n",
        "# group_names = ['Low', 'Medium', 'High']\n",
        "# # Discretize the values in EDSSPost10y attribute\n",
        "# df[\"EDSSPost10y_Bin\"] = binning(df[\"EDSSPost10y\"], bins, group_names)\n",
        "\n",
        "# # Count the number of observations which each value\n",
        "# print(pd.value_counts(df[\"EDSSPost10y_Bin\"], sort=False))\n",
        "# print(df.head(10))\n",
        "\n",
        "# #another way for discretization, using qcut function from pandas library\n",
        "# df[\"EDSSPost10y_EqualFreq\"] = pd.qcut(df[\"EDSSPost10y\"],q=[0,.333,.6666,1],labels=[\"Low\",\"Medium\",\"High\"])\n",
        "# print(df.head(10))"
      ],
      "execution_count": null,
      "outputs": []
    },
    {
      "cell_type": "markdown",
      "metadata": {
        "id": "cPOULXNyfhUG"
      },
      "source": [
        "Eample of handle outliers"
      ]
    },
    {
      "cell_type": "code",
      "metadata": {
        "id": "a-FXy1DCtTj1"
      },
      "source": [
        "# print(df[(np.abs(df.EDSSPost10y-df.EDSSPost10y.mean()) <= (3*df.EDSSPost10y.std()))])\n",
        "# plt.show()"
      ],
      "execution_count": null,
      "outputs": []
    },
    {
      "cell_type": "markdown",
      "metadata": {
        "id": "A5CTYSUPhBaq"
      },
      "source": [
        "Example of adding normalized col"
      ]
    },
    {
      "cell_type": "code",
      "metadata": {
        "id": "t8aQX4GhtV6I"
      },
      "source": [
        "# #Variable transformation  0.5*sqrt('EDSSPost10y’) function\n",
        "# square_root = lambda x: 0.5 * np.sqrt(x)\n",
        "# df['Normalized_EDSSPost10y'] = df['EDSSPost10y'].apply(square_root)\n",
        "# print(df.head(10))"
      ],
      "execution_count": null,
      "outputs": []
    },
    {
      "cell_type": "code",
      "metadata": {
        "id": "A0AdI9o_Wqlx"
      },
      "source": [
        ""
      ],
      "execution_count": null,
      "outputs": []
    },
    {
      "cell_type": "markdown",
      "metadata": {
        "id": "butTxKtlDg6F"
      },
      "source": [
        "calculate Accuracy Two databases train on one and test on the other"
      ]
    },
    {
      "cell_type": "code",
      "metadata": {
        "id": "CxVt3G48CgKS"
      },
      "source": [
        "def calcAccuracyTwoDF(model, dataTrain, dataTest, predictors, outcome):\n",
        "\n",
        "    # Fit the model:\n",
        "    model.fit(dataTrain[predictors], dataTrain[outcome])\n",
        "    # Make predictions on testing set:\n",
        "    predictions = model.predict(dataTest[predictors])\n",
        "    # Print accuracy\n",
        "    accuracy = metrics.accuracy_score(predictions, dataTest[outcome])\n",
        "    print(\"Training accuracy : %s\" % \"{0:.3%}\".format(accuracy))"
      ],
      "execution_count": null,
      "outputs": []
    },
    {
      "cell_type": "code",
      "metadata": {
        "id": "tf_EscojNjKK"
      },
      "source": [
        "train, test = train_test_split(df, test_size=0.2)"
      ],
      "execution_count": null,
      "outputs": []
    },
    {
      "cell_type": "code",
      "metadata": {
        "id": "3JuD2s1NWtsS",
        "colab": {
          "base_uri": "https://localhost:8080/"
        },
        "outputId": "303f47c4-f30c-432e-cde2-a5b115385536"
      },
      "source": [
        "logisticRegr = LogisticRegression(max_iter = 2000)\n",
        "predictor_var = ['MRI_lesion_mass', 'primary_EDSS_at_diagnosis','age_at_diagnosis','TIM3_RQ', 'TIGIT_RQ', 'LAG3_RQ', 'PD-1_RQ', 'Male', 'positive_OCB']\n",
        "outcome_var = 'diagnosis_RRMS'\n",
        "calcAccuracyTwoDF(logisticRegr, train, test, predictor_var, outcome_var)"
      ],
      "execution_count": null,
      "outputs": [
        {
          "output_type": "stream",
          "text": [
            "Training accuracy : 50.000%\n"
          ],
          "name": "stdout"
        }
      ]
    },
    {
      "cell_type": "code",
      "metadata": {
        "id": "7GJxGefNEAdH"
      },
      "source": [
        ""
      ],
      "execution_count": null,
      "outputs": []
    },
    {
      "cell_type": "code",
      "metadata": {
        "id": "VKHn9nKvxuZO",
        "colab": {
          "base_uri": "https://localhost:8080/",
          "height": 281
        },
        "outputId": "f415c1ec-3ddc-4a22-80e7-f763448c02cf"
      },
      "source": [
        "\n",
        "from sklearn import linear_model\n",
        "\n",
        "rf = RandomForestRegressor(n_estimators = 10, random_state = 42)\n",
        "\n",
        "\n",
        "\n",
        "\n",
        "\n",
        "from sklearn import datasets\n",
        "\n",
        "# boston = datasets.load_boston()\n",
        "# print(boston)\n",
        "# print(outcome_var)\n",
        "predictor_var = ['MRI_lesion_mass', 'primary_EDSS_at_diagnosis','age_at_diagnosis','TIM3_RQ', 'TIGIT_RQ', 'LAG3_RQ', 'PD-1_RQ', 'Male', 'positive_OCB']\n",
        "outcome_var = 'EDSS_post_10_years'\n",
        "y = df[outcome_var]\n",
        "\n",
        "\n",
        "\n",
        "\n",
        "# dfMerged[outcome_var]\n",
        "\n",
        "from sklearn.model_selection import cross_val_predict\n",
        "\n",
        "predicted = cross_val_predict(rf, df[predictor_var], y, cv=10)\n",
        "\n",
        "\n",
        "fig, ax = plt.subplots()\n",
        "ax.scatter(y, predicted, edgecolors=(0, 0, 0))\n",
        "ax.plot([y.min(), y.max()], [y.min(), y.max()], 'k--', lw=4)\n",
        "ax.set_xlabel('Measured')\n",
        "ax.set_ylabel('Predicted')\n",
        "plt.show()"
      ],
      "execution_count": null,
      "outputs": [
        {
          "output_type": "display_data",
          "data": {
            "image/png": "[encoded data removed]",
            "text/plain": [
              "<Figure size 432x288 with 1 Axes>"
            ]
          },
          "metadata": {
            "tags": []
          }
        }
      ]
    }
  ]
}