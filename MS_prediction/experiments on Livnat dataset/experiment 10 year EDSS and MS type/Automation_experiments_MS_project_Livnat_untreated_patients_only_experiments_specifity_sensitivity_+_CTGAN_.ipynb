{
  "nbformat": 4,
  "nbformat_minor": 0,
  "metadata": {
    "colab": {
      "name": "Automation experiments MS project Livnat untreated patients only experiments specifity sensitivity + CTGAN .ipynb",
      "provenance": [],
      "collapsed_sections": []
    },
    "kernelspec": {
      "name": "python3",
      "display_name": "Python 3"
    }
  },
  "cells": [
    {
      "cell_type": "markdown",
      "metadata": {
        "id": "M6tv6Y_weQ8z"
      },
      "source": [
        "import all the relevant libraries"
      ]
    },
    {
      "cell_type": "code",
      "metadata": {
        "id": "-z7hXJSeptCa"
      },
      "source": [
        "import pandas as pd\n",
        "import numpy as np\n",
        "import matplotlib.pyplot as plt\n",
        "import statistics as stats\n",
        "import io\n",
        "from sklearn.metrics import mean_squared_error\n",
        "from math import sqrt\n",
        "from sklearn.preprocessing import LabelEncoder\n",
        "from sklearn.model_selection import KFold\n",
        "from sklearn.ensemble import RandomForestRegressor\n",
        "from sklearn.ensemble import RandomForestClassifier\n",
        "from sklearn.linear_model import LogisticRegression, LinearRegression\n",
        "from sklearn import metrics\n",
        "from sklearn.model_selection import train_test_split\n",
        "from sklearn.metrics import roc_auc_score\n",
        "#from sklearn.metrics import confusion_matrix"
      ],
      "execution_count": null,
      "outputs": []
    },
    {
      "cell_type": "markdown",
      "metadata": {
        "id": "ugA1NC9JIkaQ"
      },
      "source": [
        "connect to google drive"
      ]
    },
    {
      "cell_type": "code",
      "metadata": {
        "id": "tTM3VXFdxXAg",
        "colab": {
          "base_uri": "https://localhost:8080/"
        },
        "outputId": "6f79e8a2-79f1-4934-fe43-4b250aad206a"
      },
      "source": [
        "from google.colab import drive \n",
        "drive.mount('/content/gdrive')"
      ],
      "execution_count": null,
      "outputs": [
        {
          "output_type": "stream",
          "text": [
            "Drive already mounted at /content/gdrive; to attempt to forcibly remount, call drive.mount(\"/content/gdrive\", force_remount=True).\n"
          ],
          "name": "stdout"
        }
      ]
    },
    {
      "cell_type": "code",
      "metadata": {
        "id": "qxFu0jcL-D_c"
      },
      "source": [
        "pd.set_option('display.max_columns', None)\n",
        "pd.set_option('display.max_rows', None)"
      ],
      "execution_count": null,
      "outputs": []
    },
    {
      "cell_type": "markdown",
      "metadata": {
        "id": "J1sKTMHG8mbW"
      },
      "source": [
        "#Defines experiment configuration -"
      ]
    },
    {
      "cell_type": "code",
      "metadata": {
        "id": "rC-_HRG0wu9t"
      },
      "source": [
        "#lists of selected features\n",
        "\n",
        "ALL_FEATURES = ['TIM3_RQ', 'TIGIT_RQ', 'LAG3_RQ','age_at_diagnosis', 'primary_EDSS_at_diagnosis', 'MRI_lesion_mass','Lymph_Cells','PMN_Cells','gender_M','oligoclonal_band_POS']\n",
        "#REMOVE ONE FEATURE\n",
        "NO_TIGIT =  ['TIM3_RQ', 'LAG3_RQ','age_at_diagnosis', 'primary_EDSS_at_diagnosis', 'MRI_lesion_mass','Lymph_Cells','PMN_Cells','gender_M','oligoclonal_band_POS']\n",
        "NO_LAG3 =['TIM3_RQ', 'TIGIT_RQ','age_at_diagnosis', 'primary_EDSS_at_diagnosis', 'MRI_lesion_mass','Lymph_Cells','PMN_Cells','gender_M','oligoclonal_band_POS']\n",
        "NO_LYMPH_CELLS = ['TIM3_RQ', 'TIGIT_RQ', 'LAG3_RQ','age_at_diagnosis', 'primary_EDSS_at_diagnosis', 'MRI_lesion_mass','PMN_Cells','gender_M','oligoclonal_band_POS']\n",
        "NO_AGE =['TIM3_RQ', 'TIGIT_RQ', 'LAG3_RQ', 'primary_EDSS_at_diagnosis', 'MRI_lesion_mass','Lymph_Cells','PMN_Cells','gender_M','oligoclonal_band_POS']\n",
        "NO_PMN_CELLS = ['TIM3_RQ', 'TIGIT_RQ', 'LAG3_RQ','age_at_diagnosis', 'primary_EDSS_at_diagnosis', 'MRI_lesion_mass','Lymph_Cells','gender_M','oligoclonal_band_POS']\n",
        "NO_OCB =['TIM3_RQ', 'TIGIT_RQ', 'LAG3_RQ','age_at_diagnosis', 'primary_EDSS_at_diagnosis', 'MRI_lesion_mass','Lymph_Cells','PMN_Cells','gender_M']\n",
        "NO_MRI_LESION = ['TIM3_RQ', 'TIGIT_RQ', 'LAG3_RQ','age_at_diagnosis', 'primary_EDSS_at_diagnosis', 'Lymph_Cells','PMN_Cells','gender_M','oligoclonal_band_POS']\n",
        "NO_GENDER = ['TIM3_RQ', 'TIGIT_RQ', 'LAG3_RQ','age_at_diagnosis', 'primary_EDSS_at_diagnosis', 'MRI_lesion_mass','Lymph_Cells','PMN_Cells','oligoclonal_band_POS']\n",
        "NO_EDSS_AT_DIAGNOSIS = ['TIM3_RQ', 'TIGIT_RQ', 'LAG3_RQ','age_at_diagnosis', 'MRI_lesion_mass','Lymph_Cells','PMN_Cells','gender_M','oligoclonal_band_POS']\n",
        "NO_TIM3 = ['TIGIT_RQ', 'LAG3_RQ','age_at_diagnosis', 'primary_EDSS_at_diagnosis', 'MRI_lesion_mass','Lymph_Cells','PMN_Cells','gender_M','oligoclonal_band_POS']\n",
        "\n",
        "#REMOVE TWO FEATURES\n",
        "NO_TIGIT_NO_LAG3 = ['TIM3_RQ','age_at_diagnosis', 'primary_EDSS_at_diagnosis', 'MRI_lesion_mass','Lymph_Cells','PMN_Cells','gender_M','oligoclonal_band_POS']\n",
        "NO_TIGIT_NO_LYMPH_CELLS = ['TIM3_RQ', 'LAG3_RQ','age_at_diagnosis', 'primary_EDSS_at_diagnosis', 'MRI_lesion_mass','PMN_Cells','gender_M','oligoclonal_band_POS']\n",
        "NO_TIGIT_NO_AGE = ['TIM3_RQ', 'LAG3_RQ', 'primary_EDSS_at_diagnosis', 'MRI_lesion_mass','Lymph_Cells','PMN_Cells','gender_M','oligoclonal_band_POS']\n",
        "NO_TIGIT_NO_PMN_CELLS = ['TIM3_RQ', 'LAG3_RQ','age_at_diagnosis', 'primary_EDSS_at_diagnosis', 'MRI_lesion_mass','Lymph_Cells','gender_M','oligoclonal_band_POS']\n",
        "NO_TIGIT_NO_OCB = ['TIM3_RQ', 'LAG3_RQ','age_at_diagnosis', 'primary_EDSS_at_diagnosis', 'MRI_lesion_mass','Lymph_Cells','PMN_Cells','gender_M']\n",
        "NO_TIGIT_NO_MRI_LESION = ['TIM3_RQ', 'LAG3_RQ','age_at_diagnosis', 'primary_EDSS_at_diagnosis','Lymph_Cells','PMN_Cells','gender_M','oligoclonal_band_POS']\n",
        "\n",
        "NO_LAG3_NO_LYMPH_CELLS = ['TIM3_RQ', 'TIGIT_RQ','age_at_diagnosis', 'primary_EDSS_at_diagnosis', 'MRI_lesion_mass','PMN_Cells','gender_M','oligoclonal_band_POS']\n",
        "NO_LAG3_NO_AGE = ['TIM3_RQ', 'TIGIT_RQ', 'primary_EDSS_at_diagnosis', 'MRI_lesion_mass','Lymph_Cells','PMN_Cells','gender_M','oligoclonal_band_POS']\n",
        "NO_LAG3_NO_PMN_CELLS = ['TIM3_RQ', 'TIGIT_RQ','age_at_diagnosis', 'primary_EDSS_at_diagnosis', 'MRI_lesion_mass','Lymph_Cells','gender_M','oligoclonal_band_POS']\n",
        "NO_LAG3_NO_OCB = ['TIM3_RQ', 'TIGIT_RQ','age_at_diagnosis', 'primary_EDSS_at_diagnosis', 'MRI_lesion_mass','Lymph_Cells','PMN_Cells','gender_M']\n",
        "NO_LAG3_NO_MRI_LESION = ['TIM3_RQ', 'TIGIT_RQ','age_at_diagnosis', 'primary_EDSS_at_diagnosis','Lymph_Cells','PMN_Cells','gender_M','oligoclonal_band_POS']\n",
        "\n",
        "NO_LYMPH_CELLS_NO_AGE = ['TIM3_RQ', 'TIGIT_RQ', 'LAG3_RQ', 'primary_EDSS_at_diagnosis', 'MRI_lesion_mass','PMN_Cells','gender_M','oligoclonal_band_POS']\n",
        "NO_LYMPH_CELLS_NO_PMN_CELLS = ['TIM3_RQ', 'TIGIT_RQ', 'LAG3_RQ','age_at_diagnosis', 'primary_EDSS_at_diagnosis', 'MRI_lesion_mass','gender_M','oligoclonal_band_POS']\n",
        "NO_LYMPH_CELLS_NO_OCB = ['TIM3_RQ', 'TIGIT_RQ', 'LAG3_RQ','age_at_diagnosis', 'primary_EDSS_at_diagnosis', 'MRI_lesion_mass','PMN_Cells','gender_M']\n",
        "NO_LYMPH_CELLS_NO_MRI_LESION = ['TIM3_RQ', 'TIGIT_RQ', 'LAG3_RQ','age_at_diagnosis', 'primary_EDSS_at_diagnosis','PMN_Cells','gender_M','oligoclonal_band_POS']\n",
        "\n",
        "#REMOVE THREE FEATURES\n",
        "NO_TIGIT_NO_LAG3_NO_LYMPH_CELLS = ['TIM3_RQ','age_at_diagnosis', 'primary_EDSS_at_diagnosis', 'MRI_lesion_mass','PMN_Cells','gender_M','oligoclonal_band_POS']\n",
        "\n",
        "#REMOVE FOUR FEATURES\n",
        "NO_TIGIT_NO_LAG3_NO_LYMPH_CELLS_NO_AGE = ['TIM3_RQ', 'primary_EDSS_at_diagnosis', 'MRI_lesion_mass','PMN_Cells','gender_M','oligoclonal_band_POS']\n",
        "\n",
        "\n",
        "\n",
        "\n",
        "\n",
        "#lists of removed features as String \n",
        "\n",
        "ALL_FEATURES_STR = \"ALL FEATURES\"\n",
        "#REMOVE ONE FEATURE\n",
        "NO_TIGIT_STR =  \"NO TIGIT\"\n",
        "NO_LAG3_STR = \"NO LAG3\"\n",
        "NO_LYMPH_CELLS_STR = \"NO LYMPH CELLS\"\n",
        "NO_AGE_STR = \"NO AGE\"\n",
        "NO_PMN_CELLS_STR = \"NO PMN CELLS\"\n",
        "NO_OCB_STR =\"NO OCB\"\n",
        "NO_MRI_LESION_STR =\"NO MRI LESION\"\n",
        "NO_GENDER_STR = \"NO GENDER\"\n",
        "NO_EDSS_AT_DIAGNOSIS_STR = \"NO EDSS AT DIAGNOSIS\"\n",
        "NO_TIM3_STR = \"NO TIM3\"\n",
        "\n",
        "#REMOVE TWO FEATURES\n",
        "NO_TIGIT_NO_LAG3_STR = \"NO TIGIT, LAG3\"\n",
        "NO_TIGIT_NO_LYMPH_CELLS_STR = \"NO TIGIT, LYMPH CELLS\"\n",
        "NO_TIGIT_NO_AGE_STR = \"NO TIGIT, AGE\"\n",
        "NO_TIGIT_NO_PMN_CELLS_STR = \"NO TIGIT, PMN CELLS\"\n",
        "NO_TIGIT_NO_OCB_STR = \"NO TIGIT, OCB\"\n",
        "NO_TIGIT_NO_MRI_LESION_STR = \"NO TIGIT, MRI LESION\"\n",
        "\n",
        "NO_LAG3_NO_LYMPH_CELLS_STR = \"NO_LAG3, LYMPH_CELLS\"\n",
        "NO_LAG3_NO_AGE_STR = \"NO_LAG3, AGE\"\n",
        "NO_LAG3_NO_PMN_CELLS_STR = \"NO_LAG3, PMN_CELLS\"\n",
        "NO_LAG3_NO_OCB_STR = \"NO_LAG3, OCB\"\n",
        "NO_LAG3_NO_MRI_LESION_STR = \"NO_LAG3, MRI_LESION\"\n",
        "\n",
        "NO_LYMPH_CELLS_NO_AGE_STR = \"NO_LYMPH_CELLS, AGE\"\n",
        "NO_LYMPH_CELLS_NO_PMN_CELLS_STR = \"NO_LYMPH_CELLS, PMN_CELLS\"\n",
        "NO_LYMPH_CELLS_NO_OCB_STR = \"NO_LYMPH_CELLS, OCB\"\n",
        "NO_LYMPH_CELLS_NO_MRI_LESION_STR = \"NO_LYMPH_CELLS, MRI_LESION\"\n",
        "\n",
        "\n",
        "#REMOVE THREE FEATURES\n",
        "NO_TIGIT_NO_LAG3_NO_LYMPH_CELLS_STR = \"NO_TIGIT, LAG3, LYMPH_CELLS\"\n",
        "\n",
        "#REMOVE FOUR FEATURES\n",
        "NO_TIGIT_NO_LAG3_NO_LYMPH_CELLS_NO_AGE_STR = \"NO_TIGIT, LAG3, LYMPH_CELLS, AGE\"\n",
        "\n",
        "\n",
        "\n",
        "\n",
        "\n",
        "#lists of models\n",
        "RFCLASSIFIER = \"Random Forest Classifier\"\n",
        "LR = \"Logistic Regression\"\n",
        "RFREGRESSOR = \"Random Forest Regressor\"\n",
        "\n",
        "\n",
        "#lists of outcome\n",
        "OUTCOME_MS_TYPE = \"diagnosis_SPMS\"\n",
        "OUTCOME_EDSS_POST_10_YEARS = \"EDSS_post_10_years\"\n",
        "\n",
        "#const seed all runs\n",
        "SEED = 42\n"
      ],
      "execution_count": null,
      "outputs": []
    },
    {
      "cell_type": "markdown",
      "metadata": {
        "id": "t8hh77yJI_Vb"
      },
      "source": [
        "#*helper functions*"
      ]
    },
    {
      "cell_type": "code",
      "metadata": {
        "id": "7ueuF8gWhLXz"
      },
      "source": [
        "def calcCrossValidation_RMSE(model, df, predictors, outcome):\n",
        "\n",
        "\n",
        "  # Perform leave one out cross-validation\n",
        "  kf = KFold(n_splits=df.shape[0])\n",
        "  accuracy = []\n",
        "  total_RMSE=0\n",
        "  for train, test in kf.split(df):\n",
        "      train_predictors = (df[predictors].iloc[train, :])\n",
        "      train_target = df[outcome].iloc[train]\n",
        "      test_predictors = (df[predictors].iloc[test, :])\n",
        "      test_target = df[outcome].iloc[test]\n",
        "      model.fit(train_predictors, train_target)\n",
        "      predictions = model.predict(test_predictors)\n",
        "      rmse = sqrt(mean_squared_error(test_target, predictions))  \n",
        "      total_RMSE += rmse\n",
        "\n",
        "  return total_RMSE/df.shape[0]"
      ],
      "execution_count": null,
      "outputs": []
    },
    {
      "cell_type": "code",
      "metadata": {
        "id": "ZmZIcqibsCHW"
      },
      "source": [
        "def calcCrossValidation_Matrix(model, df, predictors, outcome):\n",
        "\n",
        "  total_tp = 0\n",
        "  total_tn = 0\n",
        "  total_fp = 0\n",
        "  total_fn = 0\n",
        "  kf = KFold(n_splits=df.shape[0])\n",
        "  accuracy = []\n",
        "  for train, test in kf.split(df):\n",
        "      train_predictors = (df[predictors].iloc[train, :])\n",
        "      train_target = df[outcome].iloc[train]\n",
        "      test_predictors = (df[predictors].iloc[test, :])\n",
        "      test_target = df[outcome].iloc[test]\n",
        "      model.fit(train_predictors, train_target)\n",
        "      predictions = model.predict(test_predictors)\n",
        "      test_target = test_target.to_numpy()\n",
        "      tn, fp, fn, tp = perf_measure(test_target, predictions)\n",
        "      total_tp += tp\n",
        "      total_tn += tn\n",
        "      total_fp += fp\n",
        "      total_fn += fn\n",
        "\n",
        "  return total_tn, total_fp, total_fn, total_tp "
      ],
      "execution_count": null,
      "outputs": []
    },
    {
      "cell_type": "code",
      "metadata": {
        "id": "zk0leHrwj4Ps"
      },
      "source": [
        "def calcCrossValidation_Matrix_CTGAN(model, df, predictors, outcome):\n",
        "\n",
        "  total_tp = 0\n",
        "  total_tn = 0\n",
        "  total_fp = 0\n",
        "  total_fn = 0\n",
        "  prediction = []\n",
        "\n",
        "  # Perform k-fold cross-validation with 10 folds\n",
        "  kf = KFold(n_splits=df.shape[0], shuffle=True)\n",
        "  accuracy = []\n",
        "  count = 0\n",
        "  for train, test in kf.split(df):\n",
        "      # Filter training data\n",
        "      train_predictors = (df[predictors].iloc[train, :])\n",
        "      # The target we're using to train the algorithm.\n",
        "      train_target = df[outcome].iloc[train]\n",
        "      # merging the data from the CTGAN module with the current training fold\n",
        "      frames = [train_predictors, new_ctgan_data[predictors]]\n",
        "      train_predictors = pd.concat(frames) \n",
        "\n",
        "      frames = [train_target, new_ctgan_data[outcome]]\n",
        "      train_target = pd.concat(frames)\n",
        "\n",
        "      test_predictors = (df[predictors].iloc[test, :])\n",
        "      # The target we're using to train the algorithm.\n",
        "      test_target = df[outcome].iloc[test]\n",
        "      # Training the algorithm using the predictors and target.\n",
        "      model.fit(train_predictors, train_target)\n",
        "      predictions = model.predict(test_predictors)\n",
        "      predictions_proba = model.predict_proba(test_predictors)[0][1]\n",
        "\n",
        "      test_target = test_target.to_numpy()\n",
        "\n",
        "      tn, fp, fn, tp = perf_measure(test_target, predictions)\n",
        "      total_tp += tp\n",
        "      total_tn += tn\n",
        "      total_fp += fp\n",
        "      total_fn += fn\n",
        "      prediction.append(predictions_proba)\n",
        "\n",
        "  return total_tn, total_fp, total_fn, total_tp, prediction"
      ],
      "execution_count": null,
      "outputs": []
    },
    {
      "cell_type": "code",
      "metadata": {
        "id": "QmkOlEBaYWIh"
      },
      "source": [
        "def perf_measure(y_actual, y_hat):\n",
        "    TP = 0\n",
        "    FP = 0\n",
        "    TN = 0\n",
        "    FN = 0\n",
        "\n",
        "    for i in range(len(y_hat)): \n",
        "        if y_actual[i]==y_hat[i]==1:\n",
        "           TP += 1\n",
        "        if y_hat[i]==1 and y_actual[i]!=y_hat[i]:\n",
        "           FP += 1\n",
        "        if y_actual[i]==y_hat[i]==0:\n",
        "           TN += 1\n",
        "        if y_hat[i]==0 and y_actual[i]!=y_hat[i]:\n",
        "           FN += 1\n",
        "    return(TN, FP, FN, TP)"
      ],
      "execution_count": null,
      "outputs": []
    },
    {
      "cell_type": "code",
      "metadata": {
        "id": "0n-dU50HohOo"
      },
      "source": [
        "def calc_specificity(tn, fp, fn, tp):\n",
        "  return tn / (tn +fp)"
      ],
      "execution_count": null,
      "outputs": []
    },
    {
      "cell_type": "code",
      "metadata": {
        "id": "RqfyFAOYpXdx"
      },
      "source": [
        "def calc_sensitivity(tn, fp, fn, tp):\n",
        "  return tp / (tp +fn)"
      ],
      "execution_count": null,
      "outputs": []
    },
    {
      "cell_type": "markdown",
      "metadata": {
        "id": "EUl7Y0Gyn80N"
      },
      "source": [
        "# code for automation experiments"
      ]
    },
    {
      "cell_type": "code",
      "metadata": {
        "id": "izI_LzKkLNPW"
      },
      "source": [
        "def run_experiment(df, outcome_var, model_type, predictor_var, removed_features, df_experiments):\n",
        "  model = choose_experiment_model(df, outcome_var, model_type, predictor_var, removed_features, df_experiments)\n",
        "  if (model_type=='Random Forest Classifier' or model_type=='Logistic Regression'):\n",
        "    calculations = add_sensitivity_specifity(model, df, predictor_var, outcome_var, model_type, removed_features, df_experiments)\n",
        "  else:\n",
        "    calculations = add_rmse(model, df, predictor_var, outcome_var, model_type, removed_features, df_experiments)\n",
        "  experiment_results = update_experiment_in_results_df(calculations, removed_features, model_type, df_experiments)\n",
        "  return experiment_results\n",
        "\n"
      ],
      "execution_count": null,
      "outputs": []
    },
    {
      "cell_type": "code",
      "metadata": {
        "id": "GEJv9dtgLqvx"
      },
      "source": [
        "def choose_experiment_model(df, outcome_var, model_type, predictor_var, removed_features, df_experiments):\n",
        "  if (model_type=='Random Forest Classifier'):\n",
        "    return RandomForestClassifier(n_estimators=25, min_samples_split=9, max_depth=15, max_features='auto',random_state=SEED)\n",
        "    # return add_sensitivity_specifity(model, df, predictor_var, outcome_var, model_type, removed_features, df_experiments)\n",
        "  elif (model_type=='Logistic Regression'):\n",
        "    return LogisticRegression(max_iter = 4000,random_state=SEED)\n",
        "    # return add_sensitivity_specifity(model, df, predictor_var, outcome_var, model_type, removed_features, df_experiments)\n",
        "  else:\n",
        "    return RandomForestRegressor(n_estimators = 10, random_state=SEED)\n",
        "    # return add_rmse(model, df, predictor_var, outcome_var, model_type, removed_features, df_experiments)"
      ],
      "execution_count": null,
      "outputs": []
    },
    {
      "cell_type": "code",
      "metadata": {
        "id": "IsW8OAa_LNoY"
      },
      "source": [
        "def add_sensitivity_specifity(model, df, predictor_var, outcome_var, model_type, removed_features, df_experiments):\n",
        "  tn, fp, fn, tp, prediction = calcCrossValidation_Matrix_CTGAN(model, df, predictor_var, outcome_var)\n",
        "  specificity = calc_specificity(tn, fp, fn, tp)\n",
        "  sensitivity = calc_sensitivity(tn, fp, fn, tp)\n",
        "  specifity_sensitivity_list = [specificity, sensitivity, roc_auc_score(df[outcome_var], prediction)]\n",
        "  return specifity_sensitivity_list"
      ],
      "execution_count": null,
      "outputs": []
    },
    {
      "cell_type": "code",
      "metadata": {
        "id": "3z3Sh3-BLNoZ"
      },
      "source": [
        "def add_rmse(model, df, predictor_var, outcome_var, model_type, removed_features, df_experiments):\n",
        "  rmse = calcCrossValidation_RMSE(model, df, predictor_var, outcome_var)\n",
        "  rmse_list = [rmse]\n",
        "  return rmse_list"
      ],
      "execution_count": null,
      "outputs": []
    },
    {
      "cell_type": "code",
      "metadata": {
        "id": "2RrQf9WwLNoZ"
      },
      "source": [
        "def update_experiment_in_results_df(results_list, removed_features, model_type, df_experiments):\n",
        "  if (len(results_list)==3):\n",
        "    new_record = {'Model': model_type,'Removed Features': removed_features,'Specificity': results_list[0], 'Sensitivity':results_list[1], 'RMSE': '', 'ROC-AUC-Score': results_list[2]}\n",
        "  else:\n",
        "    new_record = {'Model': model_type,'Removed Features': removed_features,'Specificity': '', 'Sensitivity':'', 'RMSE':results_list[0], 'ROC-AUC-Score': ''}\n",
        "  df_experiments = df_experiments.append(new_record, ignore_index=True)\n",
        "  return df_experiments\n",
        "  "
      ],
      "execution_count": null,
      "outputs": []
    },
    {
      "cell_type": "code",
      "metadata": {
        "id": "onvYaWG9LNoZ"
      },
      "source": [
        "def experiments_RF_LR(df_origin_data,features_list, features_names,df_experiments):\n",
        "  df_experiments = run_experiment(df_origin_data, OUTCOME_MS_TYPE, RFCLASSIFIER, features_list, features_names, df_experiments)\n",
        "  df_experiments = run_experiment(df_origin_data, OUTCOME_MS_TYPE, LR, features_list, features_names, df_experiments)\n",
        "  df_experiments = run_experiment(df_origin_data, OUTCOME_EDSS_POST_10_YEARS, RFREGRESSOR, features_list, features_names, df_experiments)\n",
        "  return df_experiments"
      ],
      "execution_count": null,
      "outputs": []
    },
    {
      "cell_type": "markdown",
      "metadata": {
        "id": "mCmPCJLQjTMP"
      },
      "source": [
        "\n",
        "#Read data, normalized and handle categorical features"
      ]
    },
    {
      "cell_type": "code",
      "metadata": {
        "id": "ji-nN9tpxSGm"
      },
      "source": [
        "df_livnat_only_untreated = pd.read_pickle(\"/content/gdrive/My Drive/Colab Notebooks/MS_Notebooks/DF_only_untreated.pkl\")"
      ],
      "execution_count": null,
      "outputs": []
    },
    {
      "cell_type": "code",
      "metadata": {
        "id": "7jkAT3Ja63BH"
      },
      "source": [
        "df_livnat_only_untreated"
      ],
      "execution_count": null,
      "outputs": []
    },
    {
      "cell_type": "code",
      "metadata": {
        "id": "ibqfPzH4z9Q0"
      },
      "source": [
        "def min_max_normalize_features(dataframe, numeric_list):\n",
        "    for num_feature in numeric_list:\n",
        "        dataframe[num_feature] = (dataframe[num_feature] - dataframe[num_feature].min()) / (\n",
        "                dataframe[num_feature].max() - dataframe[num_feature].min())\n",
        "    return dataframe"
      ],
      "execution_count": null,
      "outputs": []
    },
    {
      "cell_type": "code",
      "metadata": {
        "id": "cHu-k3-E0bSG"
      },
      "source": [
        "# normalized_features = ['TIM3_RQ', 'TIGIT_RQ', 'LAG3_RQ', 'age_at_diagnosis','primary_EDSS_at_diagnosis', '1_years_EDSS_from_sample_date', 'MRI_lesion_mass', 'Lymph_Cells', 'PMN_Cells', 'Cells']\n",
        "normalized_features = ['TIM3_RQ', 'TIGIT_RQ', 'LAG3_RQ', 'age_at_diagnosis', 'MRI_lesion_mass', 'Lymph_Cells', 'PMN_Cells', 'Cells']\n",
        "\n",
        "df_livnat_only_untreated = min_max_normalize_features(df_livnat_only_untreated, normalized_features)\n",
        "df_livnat_only_untreated"
      ],
      "execution_count": null,
      "outputs": []
    },
    {
      "cell_type": "code",
      "metadata": {
        "id": "GyD-p5HZzSQ_"
      },
      "source": [
        "categorical_features = ['gender','oligoclonal_band','diagnosis']\n",
        "df_livnat_only_untreated = pd.get_dummies(df_livnat_only_untreated, columns=categorical_features, drop_first=True)\n",
        "df_livnat_only_untreated.drop(['treatment_when_sample_was_taken', 'sample_code'], axis='columns', inplace=True)"
      ],
      "execution_count": null,
      "outputs": []
    },
    {
      "cell_type": "code",
      "metadata": {
        "id": "t9kJXvTXAfI7",
        "colab": {
          "base_uri": "https://localhost:8080/"
        },
        "outputId": "c4005bcd-f1af-4ae2-b077-be4162bc8b07"
      },
      "source": [
        "df_livnat_only_untreated.columns.values"
      ],
      "execution_count": null,
      "outputs": [
        {
          "output_type": "execute_result",
          "data": {
            "text/plain": [
              "array(['TIM3_RQ', 'TIGIT_RQ', 'LAG3_RQ', 'age_at_diagnosis',\n",
              "       'primary_EDSS_at_diagnosis', '1_years_EDSS_from_sample_date',\n",
              "       '5_years_from_sample', 'EDSS_post_10_years', 'MRI_lesion_mass',\n",
              "       'Lymph_Cells', 'PMN_Cells', 'Cells', 'gender_M',\n",
              "       'oligoclonal_band_POS', 'diagnosis_SPMS'], dtype=object)"
            ]
          },
          "metadata": {
            "tags": []
          },
          "execution_count": 64
        }
      ]
    },
    {
      "cell_type": "markdown",
      "metadata": {
        "id": "390sxVaoXFW1"
      },
      "source": [
        "# **CTGAN IMPLEMENTATION**"
      ]
    },
    {
      "cell_type": "markdown",
      "metadata": {
        "id": "YqP1u3sfXbWD"
      },
      "source": [
        "Run the pip line ONLY when the collab server removes its installation"
      ]
    },
    {
      "cell_type": "code",
      "metadata": {
        "id": "V98SqC64Xbfj"
      },
      "source": [
        "# !pip install sdv\n",
        "# !pip install table_evaluator\n",
        "# !pip uninstall numpy\n",
        "# !pip install numpy"
      ],
      "execution_count": null,
      "outputs": []
    },
    {
      "cell_type": "code",
      "metadata": {
        "id": "1BDj6hlx1z5s"
      },
      "source": [
        "df_untreated = df_livnat_only_untreated\n",
        "df_untreated.head()"
      ],
      "execution_count": null,
      "outputs": []
    },
    {
      "cell_type": "code",
      "metadata": {
        "id": "-zcC3eaqw75F"
      },
      "source": [
        "from sdv.tabular import CTGAN\n",
        "\n",
        "numericals = ['MRI_lesion_mass', 'TIM3_RQ',\t'TIGIT_RQ',\t'LAG3_RQ',\t'age_at_diagnosis', 'primary_EDSS_at_diagnosis', '1_years_EDSS_from_sample_date', '5_years_from_sample', 'EDSS_post_10_years', 'Lymph_Cells', 'PMN_Cells', 'Cells']\n",
        "for feature_name in numericals:\n",
        "    max_value = df_untreated[feature_name].max()\n",
        "    min_value = df_untreated[feature_name].min()\n",
        "    df_untreated[feature_name] = (df_untreated[feature_name] - min_value) / (max_value - min_value)"
      ],
      "execution_count": null,
      "outputs": []
    },
    {
      "cell_type": "code",
      "metadata": {
        "id": "M1Cx4qk6XdAd"
      },
      "source": [
        "df = df_untreated\n",
        "df = df.dropna()\n",
        "#df['NEG'] = df.NEG.astype('int64', copy=False)\n",
        "df.head()"
      ],
      "execution_count": null,
      "outputs": []
    },
    {
      "cell_type": "code",
      "metadata": {
        "colab": {
          "base_uri": "https://localhost:8080/"
        },
        "id": "I95T59i2XdDa",
        "outputId": "d96a266a-dcd4-4ce8-828e-ff864e16b9d6"
      },
      "source": [
        "df.isna().sum().sum()"
      ],
      "execution_count": null,
      "outputs": [
        {
          "output_type": "execute_result",
          "data": {
            "text/plain": [
              "0"
            ]
          },
          "metadata": {
            "tags": []
          },
          "execution_count": 69
        }
      ]
    },
    {
      "cell_type": "code",
      "metadata": {
        "id": "wggoTGjcXc7f"
      },
      "source": [
        "def diagnosis_numeric_transform(x):\n",
        "  if x=='SPMS':\n",
        "    return 1\n",
        "  else:\n",
        "    return 0\n",
        "\n",
        "def gender_numeric_transform(x):\n",
        "  if x=='M':\n",
        "    return 1\n",
        "  else:\n",
        "    return 0\n",
        "\n",
        "def oligoclonal_numeric_transform(x):\n",
        "  if x=='POS':\n",
        "    return 1\n",
        "  else:\n",
        "    return 0"
      ],
      "execution_count": null,
      "outputs": []
    },
    {
      "cell_type": "code",
      "metadata": {
        "id": "SP-pkTAwXkl7"
      },
      "source": [
        "df['oligoclonal_band_POS'] = df.oligoclonal_band_POS.astype('int64', copy=False)\n",
        "df['diagnosis_SPMS'] = df.diagnosis_SPMS.astype('int64', copy=False)\n",
        "df['gender_M'] = df.gender_M.astype('int64', copy=False)\n",
        "\n",
        "df.head()"
      ],
      "execution_count": null,
      "outputs": []
    },
    {
      "cell_type": "code",
      "metadata": {
        "colab": {
          "base_uri": "https://localhost:8080/"
        },
        "id": "s2-06eJhXkjf",
        "outputId": "f9fd3398-513e-4f1a-a534-eb0ec9cfeba1"
      },
      "source": [
        "df.dtypes"
      ],
      "execution_count": null,
      "outputs": [
        {
          "output_type": "execute_result",
          "data": {
            "text/plain": [
              "TIM3_RQ                          float64\n",
              "TIGIT_RQ                         float64\n",
              "LAG3_RQ                          float64\n",
              "age_at_diagnosis                 float64\n",
              "primary_EDSS_at_diagnosis        float64\n",
              "1_years_EDSS_from_sample_date    float64\n",
              "5_years_from_sample              float64\n",
              "EDSS_post_10_years               float64\n",
              "MRI_lesion_mass                  float64\n",
              "Lymph_Cells                      float64\n",
              "PMN_Cells                        float64\n",
              "Cells                            float64\n",
              "gender_M                           int64\n",
              "oligoclonal_band_POS               int64\n",
              "diagnosis_SPMS                     int64\n",
              "dtype: object"
            ]
          },
          "metadata": {
            "tags": []
          },
          "execution_count": 72
        }
      ]
    },
    {
      "cell_type": "markdown",
      "metadata": {
        "id": "ZG6FtOLuXpom"
      },
      "source": [
        "### Attempting to create constraints"
      ]
    },
    {
      "cell_type": "code",
      "metadata": {
        "id": "FEmhHOpSXkhW"
      },
      "source": [
        " from sdv import constraints\n",
        " from sdv.constraints.base import Constraint\n",
        "\n",
        "# class LimitEDSS(Constraint):\n",
        "#   \"\"\"Ensure that EDSS is between 0 and 10 in ranges of 0.5.\"\"\"\n",
        "#   def __init__(self, column_name):\n",
        "#     self._column_name = column_name\n",
        "\n",
        "#   def is_valid(self, table_data):\n",
        "#     \"\"\"Say if values are positive and even.\"\"\"\n",
        "#     column_data = table_data[self._column_name]\n",
        "#     positive = column_data >= 0\n",
        "#     in_range = column_data <= 10\n",
        "\n",
        "#     return positive & in_range"
      ],
      "execution_count": null,
      "outputs": []
    },
    {
      "cell_type": "code",
      "metadata": {
        "id": "jHeZO1Sq5Zbt"
      },
      "source": [
        "class LimitFeatures(Constraint):\n",
        "  \"\"\"Ensure that Cells is between the limits.\"\"\"\n",
        "  def __init__(self, column_name, min_val, max_val):\n",
        "    self._column_name = column_name\n",
        "    self.min_val = min_val\n",
        "    self.max_val = max_val\n",
        "    self.fit_columns_model = None\n",
        "\n",
        "  def is_valid(self, table_data):\n",
        "    \"\"\"Say if values are in right limit.\"\"\"\n",
        "    column_data = table_data[self._column_name]\n",
        "    min = column_data >= self.min_val\n",
        "    max = column_data <= self.max_val\n",
        "\n",
        "    return min & max"
      ],
      "execution_count": null,
      "outputs": []
    },
    {
      "cell_type": "code",
      "metadata": {
        "id": "7Z3df-S960Oz"
      },
      "source": [
        "EDSS_at_diagnosis_constraint = LimitFeatures(column_name='primary_EDSS_at_diagnosis', min_val=df['primary_EDSS_at_diagnosis'].min(), max_val=df['primary_EDSS_at_diagnosis'].max())\n",
        "EDSS_one_year_constraint = LimitFeatures(column_name='1_years_EDSS_from_sample_date', min_val=df['1_years_EDSS_from_sample_date'].min(), max_val=df['1_years_EDSS_from_sample_date'].max())\n",
        "EDSS_five_years_constraint = LimitFeatures(column_name='5_years_from_sample', min_val=df['5_years_from_sample'].min(), max_val=df['5_years_from_sample'].max())\n",
        "EDSS_ten_years_constraint = LimitFeatures(column_name='EDSS_post_10_years', min_val=df['EDSS_post_10_years'].min(), max_val=df['EDSS_post_10_years'].max())\n",
        "age__constraint = LimitFeatures(column_name='age_at_diagnosis', min_val=df['age_at_diagnosis'].min(), max_val=df['age_at_diagnosis'].max())\n",
        "tim_constraint = LimitFeatures(column_name='TIM3_RQ', min_val=df['TIM3_RQ'].min(), max_val=df['TIM3_RQ'].max())\n",
        "tigit_constraint = LimitFeatures(column_name='TIGIT_RQ', min_val=df['TIGIT_RQ'].min(), max_val=df['TIGIT_RQ'].max())\n",
        "lag_constraint = LimitFeatures(column_name='LAG3_RQ', min_val=df['LAG3_RQ'].min(), max_val=df['LAG3_RQ'].max())\n",
        "lesion_constraint = LimitFeatures(column_name='MRI_lesion_mass', min_val=df['MRI_lesion_mass'].min(), max_val=df['MRI_lesion_mass'].max())\n",
        "lymph_cells_constraint = LimitFeatures(column_name='Lymph_Cells', min_val=df['Lymph_Cells'].min(), max_val=df['Lymph_Cells'].max())\n",
        "pmm_cells_constraint = LimitFeatures(column_name='PMN_Cells', min_val=df['PMN_Cells'].min(), max_val=df['PMN_Cells'].max())\n",
        "cells_constraint = LimitFeatures(column_name='Cells', min_val=df['Cells'].min(), max_val=df['Cells'].max())\n",
        "\n",
        "constraints = [\n",
        "               EDSS_at_diagnosis_constraint,\n",
        "               EDSS_one_year_constraint,\n",
        "               EDSS_five_years_constraint,\n",
        "               EDSS_ten_years_constraint,\n",
        "               age__constraint,\n",
        "               tim_constraint,\n",
        "               tigit_constraint,\n",
        "               lag_constraint,\n",
        "               lesion_constraint,\n",
        "               lymph_cells_constraint,\n",
        "               pmm_cells_constraint,\n",
        "               cells_constraint\n",
        "]\n"
      ],
      "execution_count": null,
      "outputs": []
    },
    {
      "cell_type": "code",
      "metadata": {
        "id": "AjHdZNQa1k2w"
      },
      "source": [
        "df.head()"
      ],
      "execution_count": null,
      "outputs": []
    },
    {
      "cell_type": "code",
      "metadata": {
        "colab": {
          "base_uri": "https://localhost:8080/"
        },
        "id": "jpDHrC7eYMFo",
        "outputId": "176a33fb-63e8-4cbe-c845-f03c7d86f18e"
      },
      "source": [
        "model = CTGAN(constraints=constraints)\n",
        "model.fit(df)"
      ],
      "execution_count": null,
      "outputs": [
        {
          "output_type": "stream",
          "text": [
            "/usr/local/lib/python3.7/dist-packages/sklearn/utils/validation.py:72: FutureWarning: Pass n_components=10 as keyword args. From version 1.0 (renaming of 0.25) passing these as positional arguments will result in an error\n",
            "  \"will result in an error\", FutureWarning)\n",
            "/usr/local/lib/python3.7/dist-packages/sklearn/utils/validation.py:72: FutureWarning: Pass n_components=10 as keyword args. From version 1.0 (renaming of 0.25) passing these as positional arguments will result in an error\n",
            "  \"will result in an error\", FutureWarning)\n",
            "/usr/local/lib/python3.7/dist-packages/sklearn/utils/validation.py:72: FutureWarning: Pass n_components=10 as keyword args. From version 1.0 (renaming of 0.25) passing these as positional arguments will result in an error\n",
            "  \"will result in an error\", FutureWarning)\n",
            "/usr/local/lib/python3.7/dist-packages/sklearn/utils/validation.py:72: FutureWarning: Pass n_components=10 as keyword args. From version 1.0 (renaming of 0.25) passing these as positional arguments will result in an error\n",
            "  \"will result in an error\", FutureWarning)\n",
            "/usr/local/lib/python3.7/dist-packages/sklearn/utils/validation.py:72: FutureWarning: Pass n_components=10 as keyword args. From version 1.0 (renaming of 0.25) passing these as positional arguments will result in an error\n",
            "  \"will result in an error\", FutureWarning)\n",
            "/usr/local/lib/python3.7/dist-packages/sklearn/utils/validation.py:72: FutureWarning: Pass n_components=10 as keyword args. From version 1.0 (renaming of 0.25) passing these as positional arguments will result in an error\n",
            "  \"will result in an error\", FutureWarning)\n",
            "/usr/local/lib/python3.7/dist-packages/sklearn/utils/validation.py:72: FutureWarning: Pass n_components=10 as keyword args. From version 1.0 (renaming of 0.25) passing these as positional arguments will result in an error\n",
            "  \"will result in an error\", FutureWarning)\n",
            "/usr/local/lib/python3.7/dist-packages/sklearn/utils/validation.py:72: FutureWarning: Pass n_components=10 as keyword args. From version 1.0 (renaming of 0.25) passing these as positional arguments will result in an error\n",
            "  \"will result in an error\", FutureWarning)\n",
            "/usr/local/lib/python3.7/dist-packages/sklearn/utils/validation.py:72: FutureWarning: Pass n_components=10 as keyword args. From version 1.0 (renaming of 0.25) passing these as positional arguments will result in an error\n",
            "  \"will result in an error\", FutureWarning)\n",
            "/usr/local/lib/python3.7/dist-packages/sklearn/utils/validation.py:72: FutureWarning: Pass n_components=10 as keyword args. From version 1.0 (renaming of 0.25) passing these as positional arguments will result in an error\n",
            "  \"will result in an error\", FutureWarning)\n",
            "/usr/local/lib/python3.7/dist-packages/sklearn/utils/validation.py:72: FutureWarning: Pass n_components=10 as keyword args. From version 1.0 (renaming of 0.25) passing these as positional arguments will result in an error\n",
            "  \"will result in an error\", FutureWarning)\n",
            "/usr/local/lib/python3.7/dist-packages/sklearn/mixture/_base.py:148: ConvergenceWarning: Number of distinct clusters (7) found smaller than n_clusters (10). Possibly due to duplicate points in X.\n",
            "  random_state=random_state).fit(X).labels_\n",
            "/usr/local/lib/python3.7/dist-packages/sklearn/utils/validation.py:72: FutureWarning: Pass n_components=10 as keyword args. From version 1.0 (renaming of 0.25) passing these as positional arguments will result in an error\n",
            "  \"will result in an error\", FutureWarning)\n",
            "/usr/local/lib/python3.7/dist-packages/sklearn/utils/validation.py:72: FutureWarning: Pass n_components=10 as keyword args. From version 1.0 (renaming of 0.25) passing these as positional arguments will result in an error\n",
            "  \"will result in an error\", FutureWarning)\n",
            "/usr/local/lib/python3.7/dist-packages/sklearn/mixture/_base.py:148: ConvergenceWarning: Number of distinct clusters (2) found smaller than n_clusters (10). Possibly due to duplicate points in X.\n",
            "  random_state=random_state).fit(X).labels_\n",
            "/usr/local/lib/python3.7/dist-packages/sklearn/utils/validation.py:72: FutureWarning: Pass n_components=10 as keyword args. From version 1.0 (renaming of 0.25) passing these as positional arguments will result in an error\n",
            "  \"will result in an error\", FutureWarning)\n",
            "/usr/local/lib/python3.7/dist-packages/sklearn/mixture/_base.py:148: ConvergenceWarning: Number of distinct clusters (2) found smaller than n_clusters (10). Possibly due to duplicate points in X.\n",
            "  random_state=random_state).fit(X).labels_\n",
            "/usr/local/lib/python3.7/dist-packages/sklearn/utils/validation.py:72: FutureWarning: Pass n_components=10 as keyword args. From version 1.0 (renaming of 0.25) passing these as positional arguments will result in an error\n",
            "  \"will result in an error\", FutureWarning)\n",
            "/usr/local/lib/python3.7/dist-packages/sklearn/mixture/_base.py:148: ConvergenceWarning: Number of distinct clusters (2) found smaller than n_clusters (10). Possibly due to duplicate points in X.\n",
            "  random_state=random_state).fit(X).labels_\n"
          ],
          "name": "stderr"
        }
      ]
    },
    {
      "cell_type": "code",
      "metadata": {
        "id": "Jbd_acrAYMDq"
      },
      "source": [
        "new_ctgan_data = model.sample(100)\n",
        "new_ctgan_data"
      ],
      "execution_count": null,
      "outputs": []
    },
    {
      "cell_type": "code",
      "metadata": {
        "id": "ap2pReDVYMA9"
      },
      "source": [
        "def tune_EDSS(x):\n",
        "  return round(x*2)/2"
      ],
      "execution_count": null,
      "outputs": []
    },
    {
      "cell_type": "code",
      "metadata": {
        "id": "GTy7m6ozYQPc"
      },
      "source": [
        "# new_ctgan_data['primary_EDSS_at_diagnosis'] = new_ctgan_data['primary_EDSS_at_diagnosis'].apply(tune_EDSS)\n",
        "# new_ctgan_data['1_years_EDSS_from_sample_date'] = new_ctgan_data['1_years_EDSS_from_sample_date'].apply(tune_EDSS)\n",
        "# new_ctgan_data['5_years_from_sample'] = new_ctgan_data['5_years_from_sample'].apply(tune_EDSS)\n",
        "# new_ctgan_data['EDSS_post_10_years'] = new_ctgan_data['EDSS_post_10_years'].apply(tune_EDSS)\n",
        "# new_ctgan_data"
      ],
      "execution_count": null,
      "outputs": []
    },
    {
      "cell_type": "markdown",
      "metadata": {
        "id": "IbHqRhJJYTxz"
      },
      "source": [
        "**Evaluation of the generated data (All the evaluations metrics are shown)**"
      ]
    },
    {
      "cell_type": "code",
      "metadata": {
        "colab": {
          "base_uri": "https://localhost:8080/",
          "height": 578
        },
        "id": "NVHDWBlGYQBw",
        "outputId": "458bddc3-e2cc-47c5-b184-494ba714de44"
      },
      "source": [
        "from sdv.evaluation import evaluate \n",
        "evaluate(new_ctgan_data, df, aggregate=False)"
      ],
      "execution_count": null,
      "outputs": [
        {
          "output_type": "stream",
          "text": [
            "/usr/local/lib/python3.7/dist-packages/sdmetrics/single_table/multi_single_column.py:84: RuntimeWarning: Mean of empty slice\n",
            "  return np.nanmean(scores)\n",
            "/usr/local/lib/python3.7/dist-packages/sdmetrics/column_pairs/statistical/kl_divergence.py:51: SettingWithCopyWarning: \n",
            "A value is trying to be set on a copy of a slice from a DataFrame.\n",
            "Try using .loc[row_indexer,col_indexer] = value instead\n",
            "\n",
            "See the caveats in the documentation: https://pandas.pydata.org/pandas-docs/stable/user_guide/indexing.html#returning-a-view-versus-a-copy\n",
            "  real_data[pd.isnull(real_data)] = 0.0\n",
            "/usr/local/lib/python3.7/dist-packages/pandas/core/frame.py:3093: SettingWithCopyWarning: \n",
            "A value is trying to be set on a copy of a slice from a DataFrame\n",
            "\n",
            "See the caveats in the documentation: https://pandas.pydata.org/pandas-docs/stable/user_guide/indexing.html#returning-a-view-versus-a-copy\n",
            "  self._where(-key, value, inplace=True)\n",
            "/usr/local/lib/python3.7/dist-packages/sdmetrics/column_pairs/statistical/kl_divergence.py:52: SettingWithCopyWarning: \n",
            "A value is trying to be set on a copy of a slice from a DataFrame.\n",
            "Try using .loc[row_indexer,col_indexer] = value instead\n",
            "\n",
            "See the caveats in the documentation: https://pandas.pydata.org/pandas-docs/stable/user_guide/indexing.html#returning-a-view-versus-a-copy\n",
            "  synthetic_data[pd.isnull(synthetic_data)] = 0.0\n",
            "/usr/local/lib/python3.7/dist-packages/sdmetrics/single_table/multi_column_pairs.py:73: RuntimeWarning: Mean of empty slice\n",
            "  return np.nanmean(values)\n"
          ],
          "name": "stderr"
        },
        {
          "output_type": "execute_result",
          "data": {
            "text/html": [
              "<div>\n",
              "<style scoped>\n",
              "    .dataframe tbody tr th:only-of-type {\n",
              "        vertical-align: middle;\n",
              "    }\n",
              "\n",
              "    .dataframe tbody tr th {\n",
              "        vertical-align: top;\n",
              "    }\n",
              "\n",
              "    .dataframe thead th {\n",
              "        text-align: right;\n",
              "    }\n",
              "</style>\n",
              "<table border=\"1\" class=\"dataframe\">\n",
              "  <thead>\n",
              "    <tr style=\"text-align: right;\">\n",
              "      <th></th>\n",
              "      <th>metric</th>\n",
              "      <th>name</th>\n",
              "      <th>raw_score</th>\n",
              "      <th>normalized_score</th>\n",
              "      <th>min_value</th>\n",
              "      <th>max_value</th>\n",
              "      <th>goal</th>\n",
              "    </tr>\n",
              "  </thead>\n",
              "  <tbody>\n",
              "    <tr>\n",
              "      <th>1</th>\n",
              "      <td>LogisticDetection</td>\n",
              "      <td>LogisticRegression Detection</td>\n",
              "      <td>0.110849</td>\n",
              "      <td>1.108490e-01</td>\n",
              "      <td>0.0</td>\n",
              "      <td>1.0</td>\n",
              "      <td>MAXIMIZE</td>\n",
              "    </tr>\n",
              "    <tr>\n",
              "      <th>2</th>\n",
              "      <td>SVCDetection</td>\n",
              "      <td>SVC Detection</td>\n",
              "      <td>0.065692</td>\n",
              "      <td>6.569152e-02</td>\n",
              "      <td>0.0</td>\n",
              "      <td>1.0</td>\n",
              "      <td>MAXIMIZE</td>\n",
              "    </tr>\n",
              "    <tr>\n",
              "      <th>11</th>\n",
              "      <td>GMLogLikelihood</td>\n",
              "      <td>GaussianMixture Log Likelihood</td>\n",
              "      <td>-29.223261</td>\n",
              "      <td>2.034693e-13</td>\n",
              "      <td>-inf</td>\n",
              "      <td>inf</td>\n",
              "      <td>MAXIMIZE</td>\n",
              "    </tr>\n",
              "    <tr>\n",
              "      <th>13</th>\n",
              "      <td>KSTest</td>\n",
              "      <td>Inverted Kolmogorov-Smirnov D statistic</td>\n",
              "      <td>0.615529</td>\n",
              "      <td>6.155294e-01</td>\n",
              "      <td>0.0</td>\n",
              "      <td>1.0</td>\n",
              "      <td>MAXIMIZE</td>\n",
              "    </tr>\n",
              "    <tr>\n",
              "      <th>14</th>\n",
              "      <td>KSTestExtended</td>\n",
              "      <td>Inverted Kolmogorov-Smirnov D statistic</td>\n",
              "      <td>0.615529</td>\n",
              "      <td>6.155294e-01</td>\n",
              "      <td>0.0</td>\n",
              "      <td>1.0</td>\n",
              "      <td>MAXIMIZE</td>\n",
              "    </tr>\n",
              "    <tr>\n",
              "      <th>27</th>\n",
              "      <td>ContinuousKLDivergence</td>\n",
              "      <td>Continuous Kullback–Leibler Divergence</td>\n",
              "      <td>0.253357</td>\n",
              "      <td>2.533570e-01</td>\n",
              "      <td>0.0</td>\n",
              "      <td>1.0</td>\n",
              "      <td>MAXIMIZE</td>\n",
              "    </tr>\n",
              "  </tbody>\n",
              "</table>\n",
              "</div>"
            ],
            "text/plain": [
              "                    metric                                     name  \\\n",
              "1        LogisticDetection             LogisticRegression Detection   \n",
              "2             SVCDetection                            SVC Detection   \n",
              "11         GMLogLikelihood           GaussianMixture Log Likelihood   \n",
              "13                  KSTest  Inverted Kolmogorov-Smirnov D statistic   \n",
              "14          KSTestExtended  Inverted Kolmogorov-Smirnov D statistic   \n",
              "27  ContinuousKLDivergence   Continuous Kullback–Leibler Divergence   \n",
              "\n",
              "    raw_score  normalized_score  min_value  max_value      goal  \n",
              "1    0.110849      1.108490e-01        0.0        1.0  MAXIMIZE  \n",
              "2    0.065692      6.569152e-02        0.0        1.0  MAXIMIZE  \n",
              "11 -29.223261      2.034693e-13       -inf        inf  MAXIMIZE  \n",
              "13   0.615529      6.155294e-01        0.0        1.0  MAXIMIZE  \n",
              "14   0.615529      6.155294e-01        0.0        1.0  MAXIMIZE  \n",
              "27   0.253357      2.533570e-01        0.0        1.0  MAXIMIZE  "
            ]
          },
          "metadata": {
            "tags": []
          },
          "execution_count": 81
        }
      ]
    },
    {
      "cell_type": "markdown",
      "metadata": {
        "id": "XksJwcfBYYPl"
      },
      "source": [
        "**Evaluation of the generated data (Final score)**"
      ]
    },
    {
      "cell_type": "code",
      "metadata": {
        "colab": {
          "base_uri": "https://localhost:8080/"
        },
        "id": "P3V_114EYP-4",
        "outputId": "265c0fd9-2ccd-4bc4-d776-f089776745ff"
      },
      "source": [
        "evaluate(new_ctgan_data, df)"
      ],
      "execution_count": null,
      "outputs": [
        {
          "output_type": "stream",
          "text": [
            "/usr/local/lib/python3.7/dist-packages/sdmetrics/single_table/multi_single_column.py:84: RuntimeWarning: Mean of empty slice\n",
            "  return np.nanmean(scores)\n",
            "/usr/local/lib/python3.7/dist-packages/sdmetrics/column_pairs/statistical/kl_divergence.py:51: SettingWithCopyWarning: \n",
            "A value is trying to be set on a copy of a slice from a DataFrame.\n",
            "Try using .loc[row_indexer,col_indexer] = value instead\n",
            "\n",
            "See the caveats in the documentation: https://pandas.pydata.org/pandas-docs/stable/user_guide/indexing.html#returning-a-view-versus-a-copy\n",
            "  real_data[pd.isnull(real_data)] = 0.0\n",
            "/usr/local/lib/python3.7/dist-packages/pandas/core/frame.py:3093: SettingWithCopyWarning: \n",
            "A value is trying to be set on a copy of a slice from a DataFrame\n",
            "\n",
            "See the caveats in the documentation: https://pandas.pydata.org/pandas-docs/stable/user_guide/indexing.html#returning-a-view-versus-a-copy\n",
            "  self._where(-key, value, inplace=True)\n",
            "/usr/local/lib/python3.7/dist-packages/sdmetrics/column_pairs/statistical/kl_divergence.py:52: SettingWithCopyWarning: \n",
            "A value is trying to be set on a copy of a slice from a DataFrame.\n",
            "Try using .loc[row_indexer,col_indexer] = value instead\n",
            "\n",
            "See the caveats in the documentation: https://pandas.pydata.org/pandas-docs/stable/user_guide/indexing.html#returning-a-view-versus-a-copy\n",
            "  synthetic_data[pd.isnull(synthetic_data)] = 0.0\n",
            "/usr/local/lib/python3.7/dist-packages/sdmetrics/single_table/multi_column_pairs.py:73: RuntimeWarning: Mean of empty slice\n",
            "  return np.nanmean(values)\n"
          ],
          "name": "stderr"
        },
        {
          "output_type": "execute_result",
          "data": {
            "text/plain": [
              "0.2699551499914965"
            ]
          },
          "metadata": {
            "tags": []
          },
          "execution_count": 82
        }
      ]
    },
    {
      "cell_type": "markdown",
      "metadata": {
        "id": "Faxl1El1BRD6"
      },
      "source": [
        "# Running all experiments"
      ]
    },
    {
      "cell_type": "code",
      "metadata": {
        "id": "r9K70FVkWJx6"
      },
      "source": [
        "df_experiments = pd.DataFrame(columns=['Model','Removed Features','Specificity', 'Sensitivity', 'RMSE']) \n",
        "\n",
        "df_experiments = experiments_RF_LR(df_livnat_only_untreated,ALL_FEATURES, ALL_FEATURES_STR,df_experiments)\n",
        "df_experiments = experiments_RF_LR(df_livnat_only_untreated,NO_TIGIT, NO_TIGIT_STR,df_experiments)\n",
        "df_experiments = experiments_RF_LR(df_livnat_only_untreated ,NO_LAG3, NO_LAG3_STR,df_experiments)\n",
        "df_experiments = experiments_RF_LR(df_livnat_only_untreated,NO_LYMPH_CELLS, NO_LYMPH_CELLS_STR,df_experiments)\n",
        "df_experiments = experiments_RF_LR(df_livnat_only_untreated,NO_AGE, NO_AGE_STR,df_experiments)\n",
        "df_experiments = experiments_RF_LR(df_livnat_only_untreated,NO_PMN_CELLS, NO_PMN_CELLS_STR,df_experiments)\n",
        "df_experiments = experiments_RF_LR(df_livnat_only_untreated,NO_OCB, NO_OCB_STR,df_experiments)\n",
        "df_experiments = experiments_RF_LR(df_livnat_only_untreated,NO_MRI_LESION, NO_MRI_LESION_STR,df_experiments)\n",
        "df_experiments = experiments_RF_LR(df_livnat_only_untreated,NO_GENDER, NO_GENDER_STR,df_experiments)\n",
        "df_experiments = experiments_RF_LR(df_livnat_only_untreated,NO_EDSS_AT_DIAGNOSIS, NO_EDSS_AT_DIAGNOSIS_STR,df_experiments)\n",
        "df_experiments = experiments_RF_LR(df_livnat_only_untreated,NO_TIM3, NO_TIM3_STR,df_experiments)\n",
        "df_experiments = experiments_RF_LR(df_livnat_only_untreated,NO_TIGIT_NO_LAG3, NO_TIGIT_NO_LAG3_STR,df_experiments)\n",
        "df_experiments = experiments_RF_LR(df_livnat_only_untreated,NO_TIGIT_NO_LYMPH_CELLS, NO_TIGIT_NO_LYMPH_CELLS_STR,df_experiments)\n",
        "df_experiments = experiments_RF_LR(df_livnat_only_untreated,NO_TIGIT_NO_AGE, NO_TIGIT_NO_AGE_STR,df_experiments)\n",
        "df_experiments = experiments_RF_LR(df_livnat_only_untreated,NO_TIGIT_NO_PMN_CELLS, NO_TIGIT_NO_PMN_CELLS_STR,df_experiments)\n",
        "df_experiments = experiments_RF_LR(df_livnat_only_untreated,NO_TIGIT_NO_OCB, NO_TIGIT_NO_OCB_STR,df_experiments)\n",
        "df_experiments = experiments_RF_LR(df_livnat_only_untreated,NO_TIGIT_NO_MRI_LESION, NO_TIGIT_NO_MRI_LESION_STR,df_experiments)\n",
        "df_experiments = experiments_RF_LR(df_livnat_only_untreated,NO_LAG3_NO_LYMPH_CELLS, NO_LAG3_NO_LYMPH_CELLS_STR,df_experiments)\n",
        "df_experiments = experiments_RF_LR(df_livnat_only_untreated,NO_LAG3_NO_AGE, NO_LAG3_NO_AGE_STR,df_experiments)\n",
        "df_experiments = experiments_RF_LR(df_livnat_only_untreated,NO_LAG3_NO_PMN_CELLS, NO_LAG3_NO_PMN_CELLS_STR,df_experiments)\n",
        "df_experiments = experiments_RF_LR(df_livnat_only_untreated,NO_LAG3_NO_OCB, NO_LAG3_NO_OCB_STR,df_experiments)\n",
        "df_experiments = experiments_RF_LR(df_livnat_only_untreated,NO_LAG3_NO_MRI_LESION, NO_LAG3_NO_MRI_LESION_STR,df_experiments)\n",
        "df_experiments = experiments_RF_LR(df_livnat_only_untreated,NO_LYMPH_CELLS_NO_AGE, NO_LYMPH_CELLS_NO_AGE_STR,df_experiments)\n",
        "df_experiments = experiments_RF_LR(df_livnat_only_untreated,NO_LYMPH_CELLS_NO_PMN_CELLS, NO_LYMPH_CELLS_NO_PMN_CELLS_STR,df_experiments)\n",
        "df_experiments = experiments_RF_LR(df_livnat_only_untreated,NO_LYMPH_CELLS_NO_OCB, NO_LYMPH_CELLS_NO_OCB_STR,df_experiments)\n",
        "df_experiments = experiments_RF_LR(df_livnat_only_untreated,NO_LYMPH_CELLS_NO_MRI_LESION, NO_LYMPH_CELLS_NO_MRI_LESION_STR,df_experiments)\n",
        "df_experiments = experiments_RF_LR(df_livnat_only_untreated,NO_TIGIT_NO_LAG3_NO_LYMPH_CELLS, NO_TIGIT_NO_LAG3_NO_LYMPH_CELLS_STR,df_experiments)\n",
        "df_experiments = experiments_RF_LR(df_livnat_only_untreated,NO_TIGIT_NO_LAG3_NO_LYMPH_CELLS_NO_AGE, NO_TIGIT_NO_LAG3_NO_LYMPH_CELLS_NO_AGE_STR,df_experiments)\n",
        "\n",
        "\n",
        "df_experiments.to_excel('/content/gdrive/MyDrive/Colab Notebooks/experiments_excels/df_specificity_sensitivity_rmse_Livnat_only_untreated_patients_with_CTGAN.xlsx',index=False)\n",
        "df_experiments\n",
        "\n"
      ],
      "execution_count": null,
      "outputs": []
    }
  ]
}