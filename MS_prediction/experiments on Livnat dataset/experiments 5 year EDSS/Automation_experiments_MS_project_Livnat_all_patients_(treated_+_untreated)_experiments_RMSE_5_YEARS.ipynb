{
  "nbformat": 4,
  "nbformat_minor": 0,
  "metadata": {
    "colab": {
      "name": "Automation experiments MS project Livnat all patients (treated + untreated) experiments RMSE 5 YEARS.ipynb",
      "provenance": [],
      "collapsed_sections": []
    },
    "kernelspec": {
      "name": "python3",
      "display_name": "Python 3"
    }
  },
  "cells": [
    {
      "cell_type": "markdown",
      "metadata": {
        "id": "M6tv6Y_weQ8z"
      },
      "source": [
        "import all the relevant libraries"
      ]
    },
    {
      "cell_type": "code",
      "metadata": {
        "id": "-z7hXJSeptCa"
      },
      "source": [
        "import pandas as pd\n",
        "import numpy as np\n",
        "import matplotlib.pyplot as plt\n",
        "import statistics as stats\n",
        "import io\n",
        "from sklearn.metrics import mean_squared_error\n",
        "from math import sqrt\n",
        "from sklearn.preprocessing import LabelEncoder\n",
        "from sklearn.model_selection import KFold\n",
        "from sklearn.ensemble import RandomForestRegressor\n",
        "from sklearn.ensemble import RandomForestClassifier\n",
        "from sklearn.linear_model import LogisticRegression, LinearRegression\n",
        "from sklearn import metrics\n",
        "from sklearn.model_selection import train_test_split\n"
      ],
      "execution_count": null,
      "outputs": []
    },
    {
      "cell_type": "markdown",
      "metadata": {
        "id": "ugA1NC9JIkaQ"
      },
      "source": [
        "upload the db file"
      ]
    },
    {
      "cell_type": "code",
      "metadata": {
        "id": "tTM3VXFdxXAg",
        "colab": {
          "base_uri": "https://localhost:8080/"
        },
        "outputId": "340c90d5-a3cd-4625-80d5-27d1a206e91b"
      },
      "source": [
        "\n",
        "from google.colab import drive \n",
        "drive.mount('/content/gdrive')"
      ],
      "execution_count": null,
      "outputs": [
        {
          "output_type": "stream",
          "text": [
            "Drive already mounted at /content/gdrive; to attempt to forcibly remount, call drive.mount(\"/content/gdrive\", force_remount=True).\n"
          ],
          "name": "stdout"
        }
      ]
    },
    {
      "cell_type": "code",
      "metadata": {
        "id": "qxFu0jcL-D_c"
      },
      "source": [
        "pd.set_option('display.max_columns', None)\n",
        "pd.set_option('display.max_rows', None)"
      ],
      "execution_count": null,
      "outputs": []
    },
    {
      "cell_type": "markdown",
      "metadata": {
        "id": "J1sKTMHG8mbW"
      },
      "source": [
        "#Defines experiment configuration -"
      ]
    },
    {
      "cell_type": "code",
      "metadata": {
        "id": "rC-_HRG0wu9t"
      },
      "source": [
        "#lists of selected features\n",
        "\n",
        "ALL_FEATURES = ['TIM3_RQ', 'TIGIT_RQ', 'LAG3_RQ','age_at_diagnosis', 'primary_EDSS_at_diagnosis', 'MRI_lesion_mass','Lymph_Cells','PMN_Cells','gender_M','oligoclonal_band_POS']\n",
        "#REMOVE ONE FEATURE\n",
        "NO_TIGIT =  ['TIM3_RQ', 'LAG3_RQ','age_at_diagnosis', 'primary_EDSS_at_diagnosis', 'MRI_lesion_mass','Lymph_Cells','PMN_Cells','gender_M','oligoclonal_band_POS']\n",
        "NO_LAG3 =['TIM3_RQ', 'TIGIT_RQ','age_at_diagnosis', 'primary_EDSS_at_diagnosis', 'MRI_lesion_mass','Lymph_Cells','PMN_Cells','gender_M','oligoclonal_band_POS']\n",
        "NO_LYMPH_CELLS = ['TIM3_RQ', 'TIGIT_RQ', 'LAG3_RQ','age_at_diagnosis', 'primary_EDSS_at_diagnosis', 'MRI_lesion_mass','PMN_Cells','gender_M','oligoclonal_band_POS']\n",
        "NO_AGE =['TIM3_RQ', 'TIGIT_RQ', 'LAG3_RQ', 'primary_EDSS_at_diagnosis', 'MRI_lesion_mass','Lymph_Cells','PMN_Cells','gender_M','oligoclonal_band_POS']\n",
        "NO_PMN_CELLS = ['TIM3_RQ', 'TIGIT_RQ', 'LAG3_RQ','age_at_diagnosis', 'primary_EDSS_at_diagnosis', 'MRI_lesion_mass','Lymph_Cells','gender_M','oligoclonal_band_POS']\n",
        "NO_OCB =['TIM3_RQ', 'TIGIT_RQ', 'LAG3_RQ','age_at_diagnosis', 'primary_EDSS_at_diagnosis', 'MRI_lesion_mass','Lymph_Cells','PMN_Cells','gender_M']\n",
        "NO_MRI_LESION = ['TIM3_RQ', 'TIGIT_RQ', 'LAG3_RQ','age_at_diagnosis', 'primary_EDSS_at_diagnosis', 'Lymph_Cells','PMN_Cells','gender_M','oligoclonal_band_POS']\n",
        "NO_GENDER = ['TIM3_RQ', 'TIGIT_RQ', 'LAG3_RQ','age_at_diagnosis', 'primary_EDSS_at_diagnosis', 'MRI_lesion_mass','Lymph_Cells','PMN_Cells','oligoclonal_band_POS']\n",
        "NO_EDSS_AT_DIAGNOSIS = ['TIM3_RQ', 'TIGIT_RQ', 'LAG3_RQ','age_at_diagnosis', 'MRI_lesion_mass','Lymph_Cells','PMN_Cells','gender_M','oligoclonal_band_POS']\n",
        "NO_TIM3 = ['TIGIT_RQ', 'LAG3_RQ','age_at_diagnosis', 'primary_EDSS_at_diagnosis', 'MRI_lesion_mass','Lymph_Cells','PMN_Cells','gender_M','oligoclonal_band_POS']\n",
        "\n",
        "#REMOVE TWO FEATURES\n",
        "NO_TIGIT_NO_LAG3 = ['TIM3_RQ','age_at_diagnosis', 'primary_EDSS_at_diagnosis', 'MRI_lesion_mass','Lymph_Cells','PMN_Cells','gender_M','oligoclonal_band_POS']\n",
        "NO_TIGIT_NO_LYMPH_CELLS = ['TIM3_RQ', 'LAG3_RQ','age_at_diagnosis', 'primary_EDSS_at_diagnosis', 'MRI_lesion_mass','PMN_Cells','gender_M','oligoclonal_band_POS']\n",
        "NO_TIGIT_NO_AGE = ['TIM3_RQ', 'LAG3_RQ', 'primary_EDSS_at_diagnosis', 'MRI_lesion_mass','Lymph_Cells','PMN_Cells','gender_M','oligoclonal_band_POS']\n",
        "NO_TIGIT_NO_PMN_CELLS = ['TIM3_RQ', 'LAG3_RQ','age_at_diagnosis', 'primary_EDSS_at_diagnosis', 'MRI_lesion_mass','Lymph_Cells','gender_M','oligoclonal_band_POS']\n",
        "NO_TIGIT_NO_OCB = ['TIM3_RQ', 'LAG3_RQ','age_at_diagnosis', 'primary_EDSS_at_diagnosis', 'MRI_lesion_mass','Lymph_Cells','PMN_Cells','gender_M']\n",
        "NO_TIGIT_NO_MRI_LESION = ['TIM3_RQ', 'LAG3_RQ','age_at_diagnosis', 'primary_EDSS_at_diagnosis','Lymph_Cells','PMN_Cells','gender_M','oligoclonal_band_POS']\n",
        "\n",
        "NO_LAG3_NO_LYMPH_CELLS = ['TIM3_RQ', 'TIGIT_RQ','age_at_diagnosis', 'primary_EDSS_at_diagnosis', 'MRI_lesion_mass','PMN_Cells','gender_M','oligoclonal_band_POS']\n",
        "NO_LAG3_NO_AGE = ['TIM3_RQ', 'TIGIT_RQ', 'primary_EDSS_at_diagnosis', 'MRI_lesion_mass','Lymph_Cells','PMN_Cells','gender_M','oligoclonal_band_POS']\n",
        "NO_LAG3_NO_PMN_CELLS = ['TIM3_RQ', 'TIGIT_RQ','age_at_diagnosis', 'primary_EDSS_at_diagnosis', 'MRI_lesion_mass','Lymph_Cells','gender_M','oligoclonal_band_POS']\n",
        "NO_LAG3_NO_OCB = ['TIM3_RQ', 'TIGIT_RQ','age_at_diagnosis', 'primary_EDSS_at_diagnosis', 'MRI_lesion_mass','Lymph_Cells','PMN_Cells','gender_M']\n",
        "NO_LAG3_NO_MRI_LESION = ['TIM3_RQ', 'TIGIT_RQ','age_at_diagnosis', 'primary_EDSS_at_diagnosis','Lymph_Cells','PMN_Cells','gender_M','oligoclonal_band_POS']\n",
        "\n",
        "NO_LYMPH_CELLS_NO_AGE = ['TIM3_RQ', 'TIGIT_RQ', 'LAG3_RQ', 'primary_EDSS_at_diagnosis', 'MRI_lesion_mass','PMN_Cells','gender_M','oligoclonal_band_POS']\n",
        "NO_LYMPH_CELLS_NO_PMN_CELLS = ['TIM3_RQ', 'TIGIT_RQ', 'LAG3_RQ','age_at_diagnosis', 'primary_EDSS_at_diagnosis', 'MRI_lesion_mass','gender_M','oligoclonal_band_POS']\n",
        "NO_LYMPH_CELLS_NO_OCB = ['TIM3_RQ', 'TIGIT_RQ', 'LAG3_RQ','age_at_diagnosis', 'primary_EDSS_at_diagnosis', 'MRI_lesion_mass','PMN_Cells','gender_M']\n",
        "NO_LYMPH_CELLS_NO_MRI_LESION = ['TIM3_RQ', 'TIGIT_RQ', 'LAG3_RQ','age_at_diagnosis', 'primary_EDSS_at_diagnosis','PMN_Cells','gender_M','oligoclonal_band_POS']\n",
        "\n",
        "#REMOVE THREE FEATURES\n",
        "NO_TIGIT_NO_LAG3_NO_LYMPH_CELLS = ['TIM3_RQ','age_at_diagnosis', 'primary_EDSS_at_diagnosis', 'MRI_lesion_mass','PMN_Cells','gender_M','oligoclonal_band_POS']\n",
        "\n",
        "#REMOVE FOUR FEATURES\n",
        "NO_TIGIT_NO_LAG3_NO_LYMPH_CELLS_NO_AGE = ['TIM3_RQ', 'primary_EDSS_at_diagnosis', 'MRI_lesion_mass','PMN_Cells','gender_M','oligoclonal_band_POS']\n",
        "\n",
        "\n",
        "\n",
        "\n",
        "\n",
        "#lists of removed features as String \n",
        "\n",
        "ALL_FEATURES_STR = \"ALL FEATURES\"\n",
        "#REMOVE ONE FEATURE\n",
        "NO_TIGIT_STR =  \"NO TIGIT\"\n",
        "NO_LAG3_STR = \"NO LAG3\"\n",
        "NO_LYMPH_CELLS_STR = \"NO LYMPH CELLS\"\n",
        "NO_AGE_STR = \"NO AGE\"\n",
        "NO_PMN_CELLS_STR = \"NO PMN CELLS\"\n",
        "NO_OCB_STR =\"NO OCB\"\n",
        "NO_MRI_LESION_STR =\"NO MRI LESION\"\n",
        "NO_GENDER_STR = \"NO GENDER\"\n",
        "NO_EDSS_AT_DIAGNOSIS_STR = \"NO EDSS AT DIAGNOSIS\"\n",
        "NO_TIM3_STR = \"NO TIM3\"\n",
        "\n",
        "#REMOVE TWO FEATURES\n",
        "NO_TIGIT_NO_LAG3_STR = \"NO TIGIT, LAG3\"\n",
        "NO_TIGIT_NO_LYMPH_CELLS_STR = \"NO TIGIT, LYMPH CELLS\"\n",
        "NO_TIGIT_NO_AGE_STR = \"NO TIGIT, AGE\"\n",
        "NO_TIGIT_NO_PMN_CELLS_STR = \"NO TIGIT, PMN CELLS\"\n",
        "NO_TIGIT_NO_OCB_STR = \"NO TIGIT, OCB\"\n",
        "NO_TIGIT_NO_MRI_LESION_STR = \"NO TIGIT, MRI LESION\"\n",
        "\n",
        "NO_LAG3_NO_LYMPH_CELLS_STR = \"NO_LAG3, LYMPH_CELLS\"\n",
        "NO_LAG3_NO_AGE_STR = \"NO_LAG3, AGE\"\n",
        "NO_LAG3_NO_PMN_CELLS_STR = \"NO_LAG3, PMN_CELLS\"\n",
        "NO_LAG3_NO_OCB_STR = \"NO_LAG3, OCB\"\n",
        "NO_LAG3_NO_MRI_LESION_STR = \"NO_LAG3, MRI_LESION\"\n",
        "\n",
        "NO_LYMPH_CELLS_NO_AGE_STR = \"NO_LYMPH_CELLS, AGE\"\n",
        "NO_LYMPH_CELLS_NO_PMN_CELLS_STR = \"NO_LYMPH_CELLS, PMN_CELLS\"\n",
        "NO_LYMPH_CELLS_NO_OCB_STR = \"NO_LYMPH_CELLS, OCB\"\n",
        "NO_LYMPH_CELLS_NO_MRI_LESION_STR = \"NO_LYMPH_CELLS, MRI_LESION\"\n",
        "\n",
        "\n",
        "#REMOVE THREE FEATURES\n",
        "NO_TIGIT_NO_LAG3_NO_LYMPH_CELLS_STR = \"NO_TIGIT, LAG3, LYMPH_CELLS\"\n",
        "\n",
        "#REMOVE FOUR FEATURES\n",
        "NO_TIGIT_NO_LAG3_NO_LYMPH_CELLS_NO_AGE_STR = \"NO_TIGIT, LAG3, LYMPH_CELLS, AGE\"\n",
        "\n",
        "\n",
        "\n",
        "\n",
        "\n",
        "#lists of models\n",
        "RFCLASSIFIER = \"Random Forest Classifier\"\n",
        "LR = \"Logistic Regression\"\n",
        "RFREGRESSOR = \"Random Forest Regressor\"\n",
        "\n",
        "\n",
        "#lists of outcome\n",
        "OUTCOME_MS_TYPE = \"diagnosis_SPMS\"\n",
        "OUTCOME_EDSS_POST_10_YEARS = \"EDSS_post_10_years\"\n",
        "OUTCOME_EDSS_POST_5_YEARS = \"5_years_from_sample\"\n",
        "#const seed all runs\n",
        "SEED = 42\n"
      ],
      "execution_count": null,
      "outputs": []
    },
    {
      "cell_type": "markdown",
      "metadata": {
        "id": "t8hh77yJI_Vb"
      },
      "source": [
        "#**helper functions**"
      ]
    },
    {
      "cell_type": "code",
      "metadata": {
        "id": "7ueuF8gWhLXz"
      },
      "source": [
        "def calcCrossValidation_RMSE(model, df, predictors, outcome):\n",
        "\n",
        "\n",
        "  # Perform k-fold cross-validation with 10 folds\n",
        "  kf = KFold(n_splits=df.shape[0])\n",
        "  accuracy = []\n",
        "  total_RMSE=0\n",
        "  for train, test in kf.split(df):\n",
        "      # print(train)\n",
        "      # Filter training data\n",
        "      train_predictors = (df[predictors].iloc[train, :])\n",
        "      # The target we're using to train the algorithm.\n",
        "      train_target = df[outcome].iloc[train]\n",
        "      test_predictors = (df[predictors].iloc[test, :])\n",
        "      # print(train_predictors)\n",
        "\n",
        "      # The target we're using to train the algorithm.\n",
        "      test_target = df[outcome].iloc[test]\n",
        "\n",
        "      # Training the algorithm using the predictors and target.\n",
        "      # print(train_target)\n",
        "      model.fit(train_predictors, train_target)\n",
        "      predictions = model.predict(test_predictors)\n",
        "      # print(predictions)\n",
        "      rmse = sqrt(mean_squared_error(test_target, predictions))  \n",
        "      # print(rmse)\n",
        "      total_RMSE += rmse\n",
        "\n",
        "  return total_RMSE/df.shape[0]\n",
        "  # return 0"
      ],
      "execution_count": null,
      "outputs": []
    },
    {
      "cell_type": "code",
      "metadata": {
        "id": "ZmZIcqibsCHW"
      },
      "source": [
        "def calcCrossValidation_Matrix(model, df, predictors, outcome):\n",
        "\n",
        "  total_tp = 0\n",
        "  total_tn = 0\n",
        "  total_fp = 0\n",
        "  total_fn = 0\n",
        "\n",
        "  # Perform k-fold cross-validation with 10 folds\n",
        "  kf = KFold(n_splits=df.shape[0])\n",
        "  accuracy = []\n",
        "  for train, test in kf.split(df):\n",
        "      # print(\"1\")\n",
        "\n",
        "      # Filter training data\n",
        "      train_predictors = (df[predictors].iloc[train, :])\n",
        "      # The target we're using to train the algorithm.\n",
        "      train_target = df[outcome].iloc[train]\n",
        "      # print(\"1\")\n",
        "\n",
        "      test_predictors = (df[predictors].iloc[test, :])\n",
        "      # The target we're using to train the algorithm.\n",
        "      test_target = df[outcome].iloc[test]\n",
        "      # print(\"1\")\n",
        "\n",
        "\n",
        "      # Training the algorithm using the predictors and target.\n",
        "      model.fit(train_predictors, train_target)\n",
        "      predictions = model.predict(test_predictors)\n",
        "      # cm = confusion_matrix(test_target, predictions)\n",
        "      # print(cm)\n",
        "      # print(\"1\")\n",
        "      # print(\"test_target\")\n",
        "      test_target = test_target.to_numpy()\n",
        "      # print(test_target)\n",
        "      # np.array(df[outcome].values.tolist())\n",
        "      # print(type(test_target))\n",
        "      # print(\"predictions\")\n",
        "      # print(predictions)\n",
        "      # print(type(predictions))\n",
        "\n",
        "      tn, fp, fn, tp = perf_measure(test_target, predictions)\n",
        "      # print(\"1\")\n",
        "\n",
        "      total_tp += tp\n",
        "      total_tn += tn\n",
        "      total_fp += fp\n",
        "      total_fn += fn\n",
        "\n",
        "  # print(total_tn, total_fp, total_fn, total_tp)\n",
        "  return total_tn, total_fp, total_fn, total_tp "
      ],
      "execution_count": null,
      "outputs": []
    },
    {
      "cell_type": "code",
      "metadata": {
        "id": "QmkOlEBaYWIh"
      },
      "source": [
        "def perf_measure(y_actual, y_hat):\n",
        "    TP = 0\n",
        "    FP = 0\n",
        "    TN = 0\n",
        "    FN = 0\n",
        "\n",
        "    for i in range(len(y_hat)): \n",
        "        if y_actual[i]==y_hat[i]==1:\n",
        "           TP += 1\n",
        "        if y_hat[i]==1 and y_actual[i]!=y_hat[i]:\n",
        "           FP += 1\n",
        "        if y_actual[i]==y_hat[i]==0:\n",
        "           TN += 1\n",
        "        if y_hat[i]==0 and y_actual[i]!=y_hat[i]:\n",
        "           FN += 1\n",
        "    # print(TN, FP, FN, TP)\n",
        "    return(TN, FP, FN, TP)"
      ],
      "execution_count": null,
      "outputs": []
    },
    {
      "cell_type": "code",
      "metadata": {
        "id": "0n-dU50HohOo"
      },
      "source": [
        "def calc_specificity(tn, fp, fn, tp):\n",
        "  return tn / (tn +fp)"
      ],
      "execution_count": null,
      "outputs": []
    },
    {
      "cell_type": "code",
      "metadata": {
        "id": "RqfyFAOYpXdx"
      },
      "source": [
        "def calc_sensitivity(tn, fp, fn, tp):\n",
        "  return tp / (tp +fn)"
      ],
      "execution_count": null,
      "outputs": []
    },
    {
      "cell_type": "markdown",
      "metadata": {
        "id": "EUl7Y0Gyn80N"
      },
      "source": [
        "# code for automation experiments"
      ]
    },
    {
      "cell_type": "code",
      "metadata": {
        "id": "izI_LzKkLNPW"
      },
      "source": [
        "def run_experiment(df, outcome_var, model_type, predictor_var, removed_features, df_experiments):\n",
        "  model = choose_experiment_model(df, outcome_var, model_type, predictor_var, removed_features, df_experiments)\n",
        "  if (model_type=='Random Forest Classifier' or model_type=='Logistic Regression'):\n",
        "    calculations = add_sensitivity_specifity(model, df, predictor_var, outcome_var, model_type, removed_features, df_experiments)\n",
        "  else:\n",
        "    calculations = add_rmse(model, df, predictor_var, outcome_var, model_type, removed_features, df_experiments)\n",
        "  experiment_results = update_experiment_in_results_df(calculations, removed_features, model_type, df_experiments)\n",
        "  return experiment_results\n",
        "\n"
      ],
      "execution_count": null,
      "outputs": []
    },
    {
      "cell_type": "code",
      "metadata": {
        "id": "GEJv9dtgLqvx"
      },
      "source": [
        "def choose_experiment_model(df, outcome_var, model_type, predictor_var, removed_features, df_experiments):\n",
        "  if (model_type=='Random Forest Classifier'):\n",
        "    return RandomForestClassifier(n_estimators=25, min_samples_split=9, max_depth=15, max_features='auto',random_state=SEED)\n",
        "    # return add_sensitivity_specifity(model, df, predictor_var, outcome_var, model_type, removed_features, df_experiments)\n",
        "  elif (model_type=='Logistic Regression'):\n",
        "    return LogisticRegression(max_iter = 4000,random_state=SEED)\n",
        "    # return add_sensitivity_specifity(model, df, predictor_var, outcome_var, model_type, removed_features, df_experiments)\n",
        "  else:\n",
        "    return RandomForestRegressor(n_estimators = 10, random_state=SEED)\n",
        "    # return add_rmse(model, df, predictor_var, outcome_var, model_type, removed_features, df_experiments)"
      ],
      "execution_count": null,
      "outputs": []
    },
    {
      "cell_type": "code",
      "metadata": {
        "id": "IsW8OAa_LNoY"
      },
      "source": [
        "def add_sensitivity_specifity(model, df, predictor_var, outcome_var, model_type, removed_features, df_experiments):\n",
        "  tn, fp, fn, tp = calcCrossValidation_Matrix(model, df, predictor_var, outcome_var)\n",
        "  specificity = calc_specificity(tn, fp, fn, tp)\n",
        "  sensitivity = calc_sensitivity(tn, fp, fn, tp)\n",
        "  specifity_sensitivity_list = [specificity, sensitivity]\n",
        "  return specifity_sensitivity_list"
      ],
      "execution_count": null,
      "outputs": []
    },
    {
      "cell_type": "code",
      "metadata": {
        "id": "3z3Sh3-BLNoZ"
      },
      "source": [
        "def add_rmse(model, df, predictor_var, outcome_var, model_type, removed_features, df_experiments):\n",
        "  rmse = calcCrossValidation_RMSE(model, df, predictor_var, outcome_var)\n",
        "  rmse_list = [rmse]\n",
        "  return rmse_list"
      ],
      "execution_count": null,
      "outputs": []
    },
    {
      "cell_type": "code",
      "metadata": {
        "id": "2RrQf9WwLNoZ"
      },
      "source": [
        "def update_experiment_in_results_df(results_list, removed_features, model_type, df_experiments):\n",
        "  if (len(results_list)==2):\n",
        "    new_record = {'Model': model_type,'Removed Features': removed_features,'Specificity': results_list[0], 'Sensitivity':results_list[1], 'RMSE': ''}\n",
        "  else:\n",
        "    new_record = {'Model': model_type,'Removed Features': removed_features,'Specificity': '', 'Sensitivity':'', 'RMSE':results_list[0]}\n",
        "  df_experiments = df_experiments.append(new_record, ignore_index=True)\n",
        "  return df_experiments\n",
        "  "
      ],
      "execution_count": null,
      "outputs": []
    },
    {
      "cell_type": "code",
      "metadata": {
        "id": "onvYaWG9LNoZ"
      },
      "source": [
        "def experiments_RF_LR(df_origin_data,features_list, features_names,df_experiments):\n",
        "  # df_experiments = run_experiment(df_origin_data, OUTCOME_MS_TYPE, RFCLASSIFIER, features_list, features_names, df_experiments)\n",
        "  # df_experiments = run_experiment(df_origin_data, OUTCOME_MS_TYPE, LR, features_list, features_names, df_experiments)\n",
        "  df_experiments = run_experiment(df_origin_data, OUTCOME_EDSS_POST_5_YEARS, RFREGRESSOR, features_list, features_names, df_experiments)\n",
        "  return df_experiments"
      ],
      "execution_count": null,
      "outputs": []
    },
    {
      "cell_type": "markdown",
      "metadata": {
        "id": "DPg9fLj8RyGy"
      },
      "source": [
        "#**ALL patients (treated + untreated) Livnat**"
      ]
    },
    {
      "cell_type": "code",
      "metadata": {
        "id": "hhFHm5S1K_sZ"
      },
      "source": [
        "const_seed = 42"
      ],
      "execution_count": null,
      "outputs": []
    },
    {
      "cell_type": "markdown",
      "metadata": {
        "id": "mG6eFIqPog1-"
      },
      "source": [
        "pickle creation"
      ]
    },
    {
      "cell_type": "code",
      "metadata": {
        "id": "jp7XAXU8TgEj"
      },
      "source": [
        "# categorical_features = ['gender','oligoclonal_band','diagnosis']"
      ],
      "execution_count": null,
      "outputs": []
    },
    {
      "cell_type": "code",
      "metadata": {
        "id": "TM4imYEcQfPD"
      },
      "source": [
        "# df_all_treated = pd.read_pickle(\"/content/gdrive/My Drive/Colab Notebooks/MS_Notebooks/DF_all_treated.pkl\")\n",
        "# df_all_treated = pd.get_dummies(df_all_treated, columns=categorical_features, drop_first=True)\n",
        "# df_all_treated.drop(['treatment_when_sample_was_taken'], axis='columns', inplace=True)\n",
        "# df_all_treated\n",
        "# df_all_treated.to_pickle('/content/gdrive/My Drive/Colab Notebooks/MS_Notebooks/df_Livnat_all_patients.pkl')\n"
      ],
      "execution_count": null,
      "outputs": []
    },
    {
      "cell_type": "code",
      "metadata": {
        "id": "OEA_csPd02-e"
      },
      "source": [
        "df_livnat_all_patients = pd.read_pickle(\"/content/gdrive/My Drive/Colab Notebooks/MS_Notebooks/df_Livnat_all_patients.pkl\")\n",
        "df_livnat_all_patients\n",
        "\n",
        "df_livnat_all_patients = df_livnat_all_patients.dropna(axis=0, subset=['5_years_from_sample'])\n",
        "df_livnat_all_patients"
      ],
      "execution_count": null,
      "outputs": []
    },
    {
      "cell_type": "code",
      "metadata": {
        "id": "ibqfPzH4z9Q0"
      },
      "source": [
        "def min_max_normalize_features(dataframe, numeric_list):\n",
        "    for num_feature in numeric_list:\n",
        "        dataframe[num_feature] = (dataframe[num_feature] - dataframe[num_feature].min()) / (\n",
        "                dataframe[num_feature].max() - dataframe[num_feature].min())\n",
        "    return dataframe"
      ],
      "execution_count": null,
      "outputs": []
    },
    {
      "cell_type": "code",
      "metadata": {
        "id": "cHu-k3-E0bSG"
      },
      "source": [
        "# normalized_features = ['TIM3_RQ', 'TIGIT_RQ', 'LAG3_RQ', 'age_at_diagnosis','primary_EDSS_at_diagnosis', '1_years_EDSS_from_sample_date', 'MRI_lesion_mass', 'Lymph_Cells', 'PMN_Cells', 'Cells']\n",
        "normalized_features = ['TIM3_RQ', 'TIGIT_RQ', 'LAG3_RQ', 'age_at_diagnosis', 'MRI_lesion_mass', 'Lymph_Cells', 'PMN_Cells', 'Cells']\n",
        "\n",
        "df_livnat_all_patients = min_max_normalize_features(df_livnat_all_patients, normalized_features)\n",
        "df_livnat_all_patients"
      ],
      "execution_count": null,
      "outputs": []
    },
    {
      "cell_type": "code",
      "metadata": {
        "id": "GyD-p5HZzSQ_"
      },
      "source": [
        "# categorical_features = ['gender','oligoclonal_band','diagnosis']\n",
        "# df_livnat_all_patients = pd.get_dummies(df_livnat_all_patients, columns=categorical_features, drop_first=True)\n",
        "df_livnat_all_patients.drop(['sample_code'], axis='columns', inplace=True)"
      ],
      "execution_count": null,
      "outputs": []
    },
    {
      "cell_type": "code",
      "metadata": {
        "id": "t9kJXvTXAfI7",
        "colab": {
          "base_uri": "https://localhost:8080/"
        },
        "outputId": "16e6b929-6a3c-4826-cbc5-4236f2c655c1"
      },
      "source": [
        "df_livnat_all_patients.columns.values"
      ],
      "execution_count": null,
      "outputs": [
        {
          "output_type": "execute_result",
          "data": {
            "text/plain": [
              "array(['TIM3_RQ', 'TIGIT_RQ', 'LAG3_RQ', 'age_at_diagnosis',\n",
              "       'primary_EDSS_at_diagnosis', '1_years_EDSS_from_sample_date',\n",
              "       '5_years_from_sample', 'EDSS_post_10_years', 'MRI_lesion_mass',\n",
              "       'Lymph_Cells', 'PMN_Cells', 'Cells', 'gender_M',\n",
              "       'oligoclonal_band_POS', 'diagnosis_SPMS'], dtype=object)"
            ]
          },
          "metadata": {
            "tags": []
          },
          "execution_count": 71
        }
      ]
    },
    {
      "cell_type": "markdown",
      "metadata": {
        "id": "Faxl1El1BRD6"
      },
      "source": [
        "# Running all experiments"
      ]
    },
    {
      "cell_type": "code",
      "metadata": {
        "colab": {
          "base_uri": "https://localhost:8080/",
          "height": 1000
        },
        "id": "r9K70FVkWJx6",
        "outputId": "fbe77995-ec23-4aff-b958-6a0d320070e8"
      },
      "source": [
        "df_experiments = pd.DataFrame(columns=['Model','Removed Features','Specificity', 'Sensitivity', 'RMSE']) \n",
        "\n",
        "df_experiments = experiments_RF_LR(df_livnat_all_patients,ALL_FEATURES, ALL_FEATURES_STR,df_experiments)\n",
        "df_experiments = experiments_RF_LR(df_livnat_all_patients,NO_TIGIT, NO_TIGIT_STR,df_experiments)\n",
        "df_experiments = experiments_RF_LR(df_livnat_all_patients ,NO_LAG3, NO_LAG3_STR,df_experiments)\n",
        "df_experiments = experiments_RF_LR(df_livnat_all_patients,NO_LYMPH_CELLS, NO_LYMPH_CELLS_STR,df_experiments)\n",
        "df_experiments = experiments_RF_LR(df_livnat_all_patients,NO_AGE, NO_AGE_STR,df_experiments)\n",
        "df_experiments = experiments_RF_LR(df_livnat_all_patients,NO_PMN_CELLS, NO_PMN_CELLS_STR,df_experiments)\n",
        "df_experiments = experiments_RF_LR(df_livnat_all_patients,NO_OCB, NO_OCB_STR,df_experiments)\n",
        "df_experiments = experiments_RF_LR(df_livnat_all_patients,NO_MRI_LESION, NO_MRI_LESION_STR,df_experiments)\n",
        "df_experiments = experiments_RF_LR(df_livnat_all_patients,NO_GENDER, NO_GENDER_STR,df_experiments)\n",
        "df_experiments = experiments_RF_LR(df_livnat_all_patients,NO_EDSS_AT_DIAGNOSIS, NO_EDSS_AT_DIAGNOSIS_STR,df_experiments)\n",
        "df_experiments = experiments_RF_LR(df_livnat_all_patients,NO_TIM3, NO_TIM3_STR,df_experiments)\n",
        "df_experiments = experiments_RF_LR(df_livnat_all_patients,NO_TIGIT_NO_LAG3, NO_TIGIT_NO_LAG3_STR,df_experiments)\n",
        "df_experiments = experiments_RF_LR(df_livnat_all_patients,NO_TIGIT_NO_LYMPH_CELLS, NO_TIGIT_NO_LYMPH_CELLS_STR,df_experiments)\n",
        "df_experiments = experiments_RF_LR(df_livnat_all_patients,NO_TIGIT_NO_AGE, NO_TIGIT_NO_AGE_STR,df_experiments)\n",
        "df_experiments = experiments_RF_LR(df_livnat_all_patients,NO_TIGIT_NO_PMN_CELLS, NO_TIGIT_NO_PMN_CELLS_STR,df_experiments)\n",
        "df_experiments = experiments_RF_LR(df_livnat_all_patients,NO_TIGIT_NO_OCB, NO_TIGIT_NO_OCB_STR,df_experiments)\n",
        "df_experiments = experiments_RF_LR(df_livnat_all_patients,NO_TIGIT_NO_MRI_LESION, NO_TIGIT_NO_MRI_LESION_STR,df_experiments)\n",
        "df_experiments = experiments_RF_LR(df_livnat_all_patients,NO_LAG3_NO_LYMPH_CELLS, NO_LAG3_NO_LYMPH_CELLS_STR,df_experiments)\n",
        "df_experiments = experiments_RF_LR(df_livnat_all_patients,NO_LAG3_NO_AGE, NO_LAG3_NO_AGE_STR,df_experiments)\n",
        "df_experiments = experiments_RF_LR(df_livnat_all_patients,NO_LAG3_NO_PMN_CELLS, NO_LAG3_NO_PMN_CELLS_STR,df_experiments)\n",
        "df_experiments = experiments_RF_LR(df_livnat_all_patients,NO_LAG3_NO_OCB, NO_LAG3_NO_OCB_STR,df_experiments)\n",
        "df_experiments = experiments_RF_LR(df_livnat_all_patients,NO_LAG3_NO_MRI_LESION, NO_LAG3_NO_MRI_LESION_STR,df_experiments)\n",
        "df_experiments = experiments_RF_LR(df_livnat_all_patients,NO_LYMPH_CELLS_NO_AGE, NO_LYMPH_CELLS_NO_AGE_STR,df_experiments)\n",
        "df_experiments = experiments_RF_LR(df_livnat_all_patients,NO_LYMPH_CELLS_NO_PMN_CELLS, NO_LYMPH_CELLS_NO_PMN_CELLS_STR,df_experiments)\n",
        "df_experiments = experiments_RF_LR(df_livnat_all_patients,NO_LYMPH_CELLS_NO_OCB, NO_LYMPH_CELLS_NO_OCB_STR,df_experiments)\n",
        "df_experiments = experiments_RF_LR(df_livnat_all_patients,NO_LYMPH_CELLS_NO_MRI_LESION, NO_LYMPH_CELLS_NO_MRI_LESION_STR,df_experiments)\n",
        "df_experiments = experiments_RF_LR(df_livnat_all_patients,NO_TIGIT_NO_LAG3_NO_LYMPH_CELLS, NO_TIGIT_NO_LAG3_NO_LYMPH_CELLS_STR,df_experiments)\n",
        "df_experiments = experiments_RF_LR(df_livnat_all_patients,NO_TIGIT_NO_LAG3_NO_LYMPH_CELLS_NO_AGE, NO_TIGIT_NO_LAG3_NO_LYMPH_CELLS_NO_AGE_STR,df_experiments)\n",
        "\n",
        "\n",
        "df_experiments.to_excel('/content/gdrive/MyDrive/Colab Notebooks/experiments_excels/df_rmse_5_years_EDSS_Livnat_all_patients.xlsx',index=False)\n",
        "df_experiments\n",
        "\n"
      ],
      "execution_count": null,
      "outputs": [
        {
          "output_type": "execute_result",
          "data": {
            "text/html": [
              "<div>\n",
              "<style scoped>\n",
              "    .dataframe tbody tr th:only-of-type {\n",
              "        vertical-align: middle;\n",
              "    }\n",
              "\n",
              "    .dataframe tbody tr th {\n",
              "        vertical-align: top;\n",
              "    }\n",
              "\n",
              "    .dataframe thead th {\n",
              "        text-align: right;\n",
              "    }\n",
              "</style>\n",
              "<table border=\"1\" class=\"dataframe\">\n",
              "  <thead>\n",
              "    <tr style=\"text-align: right;\">\n",
              "      <th></th>\n",
              "      <th>Model</th>\n",
              "      <th>Removed Features</th>\n",
              "      <th>Specificity</th>\n",
              "      <th>Sensitivity</th>\n",
              "      <th>RMSE</th>\n",
              "    </tr>\n",
              "  </thead>\n",
              "  <tbody>\n",
              "    <tr>\n",
              "      <th>0</th>\n",
              "      <td>Random Forest Regressor</td>\n",
              "      <td>ALL FEATURES</td>\n",
              "      <td></td>\n",
              "      <td></td>\n",
              "      <td>1.366541</td>\n",
              "    </tr>\n",
              "    <tr>\n",
              "      <th>1</th>\n",
              "      <td>Random Forest Regressor</td>\n",
              "      <td>NO TIGIT</td>\n",
              "      <td></td>\n",
              "      <td></td>\n",
              "      <td>1.289474</td>\n",
              "    </tr>\n",
              "    <tr>\n",
              "      <th>2</th>\n",
              "      <td>Random Forest Regressor</td>\n",
              "      <td>NO LAG3</td>\n",
              "      <td></td>\n",
              "      <td></td>\n",
              "      <td>1.334586</td>\n",
              "    </tr>\n",
              "    <tr>\n",
              "      <th>3</th>\n",
              "      <td>Random Forest Regressor</td>\n",
              "      <td>NO LYMPH CELLS</td>\n",
              "      <td></td>\n",
              "      <td></td>\n",
              "      <td>1.334586</td>\n",
              "    </tr>\n",
              "    <tr>\n",
              "      <th>4</th>\n",
              "      <td>Random Forest Regressor</td>\n",
              "      <td>NO AGE</td>\n",
              "      <td></td>\n",
              "      <td></td>\n",
              "      <td>1.342857</td>\n",
              "    </tr>\n",
              "    <tr>\n",
              "      <th>5</th>\n",
              "      <td>Random Forest Regressor</td>\n",
              "      <td>NO PMN CELLS</td>\n",
              "      <td></td>\n",
              "      <td></td>\n",
              "      <td>1.353383</td>\n",
              "    </tr>\n",
              "    <tr>\n",
              "      <th>6</th>\n",
              "      <td>Random Forest Regressor</td>\n",
              "      <td>NO OCB</td>\n",
              "      <td></td>\n",
              "      <td></td>\n",
              "      <td>1.384211</td>\n",
              "    </tr>\n",
              "    <tr>\n",
              "      <th>7</th>\n",
              "      <td>Random Forest Regressor</td>\n",
              "      <td>NO MRI LESION</td>\n",
              "      <td></td>\n",
              "      <td></td>\n",
              "      <td>1.391729</td>\n",
              "    </tr>\n",
              "    <tr>\n",
              "      <th>8</th>\n",
              "      <td>Random Forest Regressor</td>\n",
              "      <td>NO GENDER</td>\n",
              "      <td></td>\n",
              "      <td></td>\n",
              "      <td>1.323684</td>\n",
              "    </tr>\n",
              "    <tr>\n",
              "      <th>9</th>\n",
              "      <td>Random Forest Regressor</td>\n",
              "      <td>NO EDSS AT DIAGNOSIS</td>\n",
              "      <td></td>\n",
              "      <td></td>\n",
              "      <td>1.935714</td>\n",
              "    </tr>\n",
              "    <tr>\n",
              "      <th>10</th>\n",
              "      <td>Random Forest Regressor</td>\n",
              "      <td>NO TIM3</td>\n",
              "      <td></td>\n",
              "      <td></td>\n",
              "      <td>1.385338</td>\n",
              "    </tr>\n",
              "    <tr>\n",
              "      <th>11</th>\n",
              "      <td>Random Forest Regressor</td>\n",
              "      <td>NO TIGIT, LAG3</td>\n",
              "      <td></td>\n",
              "      <td></td>\n",
              "      <td>1.287970</td>\n",
              "    </tr>\n",
              "    <tr>\n",
              "      <th>12</th>\n",
              "      <td>Random Forest Regressor</td>\n",
              "      <td>NO TIGIT, LYMPH CELLS</td>\n",
              "      <td></td>\n",
              "      <td></td>\n",
              "      <td>1.320677</td>\n",
              "    </tr>\n",
              "    <tr>\n",
              "      <th>13</th>\n",
              "      <td>Random Forest Regressor</td>\n",
              "      <td>NO TIGIT, AGE</td>\n",
              "      <td></td>\n",
              "      <td></td>\n",
              "      <td>1.306015</td>\n",
              "    </tr>\n",
              "    <tr>\n",
              "      <th>14</th>\n",
              "      <td>Random Forest Regressor</td>\n",
              "      <td>NO TIGIT, PMN CELLS</td>\n",
              "      <td></td>\n",
              "      <td></td>\n",
              "      <td>1.269925</td>\n",
              "    </tr>\n",
              "    <tr>\n",
              "      <th>15</th>\n",
              "      <td>Random Forest Regressor</td>\n",
              "      <td>NO TIGIT, OCB</td>\n",
              "      <td></td>\n",
              "      <td></td>\n",
              "      <td>1.316917</td>\n",
              "    </tr>\n",
              "    <tr>\n",
              "      <th>16</th>\n",
              "      <td>Random Forest Regressor</td>\n",
              "      <td>NO TIGIT, MRI LESION</td>\n",
              "      <td></td>\n",
              "      <td></td>\n",
              "      <td>1.279323</td>\n",
              "    </tr>\n",
              "    <tr>\n",
              "      <th>17</th>\n",
              "      <td>Random Forest Regressor</td>\n",
              "      <td>NO_LAG3, LYMPH_CELLS</td>\n",
              "      <td></td>\n",
              "      <td></td>\n",
              "      <td>1.311654</td>\n",
              "    </tr>\n",
              "    <tr>\n",
              "      <th>18</th>\n",
              "      <td>Random Forest Regressor</td>\n",
              "      <td>NO_LAG3, AGE</td>\n",
              "      <td></td>\n",
              "      <td></td>\n",
              "      <td>1.318421</td>\n",
              "    </tr>\n",
              "    <tr>\n",
              "      <th>19</th>\n",
              "      <td>Random Forest Regressor</td>\n",
              "      <td>NO_LAG3, PMN_CELLS</td>\n",
              "      <td></td>\n",
              "      <td></td>\n",
              "      <td>1.307519</td>\n",
              "    </tr>\n",
              "    <tr>\n",
              "      <th>20</th>\n",
              "      <td>Random Forest Regressor</td>\n",
              "      <td>NO_LAG3, OCB</td>\n",
              "      <td></td>\n",
              "      <td></td>\n",
              "      <td>1.337218</td>\n",
              "    </tr>\n",
              "    <tr>\n",
              "      <th>21</th>\n",
              "      <td>Random Forest Regressor</td>\n",
              "      <td>NO_LAG3, MRI_LESION</td>\n",
              "      <td></td>\n",
              "      <td></td>\n",
              "      <td>1.297744</td>\n",
              "    </tr>\n",
              "    <tr>\n",
              "      <th>22</th>\n",
              "      <td>Random Forest Regressor</td>\n",
              "      <td>NO_LYMPH_CELLS, AGE</td>\n",
              "      <td></td>\n",
              "      <td></td>\n",
              "      <td>1.320301</td>\n",
              "    </tr>\n",
              "    <tr>\n",
              "      <th>23</th>\n",
              "      <td>Random Forest Regressor</td>\n",
              "      <td>NO_LYMPH_CELLS, PMN_CELLS</td>\n",
              "      <td></td>\n",
              "      <td></td>\n",
              "      <td>1.331955</td>\n",
              "    </tr>\n",
              "    <tr>\n",
              "      <th>24</th>\n",
              "      <td>Random Forest Regressor</td>\n",
              "      <td>NO_LYMPH_CELLS, OCB</td>\n",
              "      <td></td>\n",
              "      <td></td>\n",
              "      <td>1.366541</td>\n",
              "    </tr>\n",
              "    <tr>\n",
              "      <th>25</th>\n",
              "      <td>Random Forest Regressor</td>\n",
              "      <td>NO_LYMPH_CELLS, MRI_LESION</td>\n",
              "      <td></td>\n",
              "      <td></td>\n",
              "      <td>1.337970</td>\n",
              "    </tr>\n",
              "    <tr>\n",
              "      <th>26</th>\n",
              "      <td>Random Forest Regressor</td>\n",
              "      <td>NO_TIGIT, LAG3, LYMPH_CELLS</td>\n",
              "      <td></td>\n",
              "      <td></td>\n",
              "      <td>1.252256</td>\n",
              "    </tr>\n",
              "    <tr>\n",
              "      <th>27</th>\n",
              "      <td>Random Forest Regressor</td>\n",
              "      <td>NO_TIGIT, LAG3, LYMPH_CELLS, AGE</td>\n",
              "      <td></td>\n",
              "      <td></td>\n",
              "      <td>1.311278</td>\n",
              "    </tr>\n",
              "  </tbody>\n",
              "</table>\n",
              "</div>"
            ],
            "text/plain": [
              "                      Model                  Removed Features Specificity  \\\n",
              "0   Random Forest Regressor                      ALL FEATURES               \n",
              "1   Random Forest Regressor                          NO TIGIT               \n",
              "2   Random Forest Regressor                           NO LAG3               \n",
              "3   Random Forest Regressor                    NO LYMPH CELLS               \n",
              "4   Random Forest Regressor                            NO AGE               \n",
              "5   Random Forest Regressor                      NO PMN CELLS               \n",
              "6   Random Forest Regressor                            NO OCB               \n",
              "7   Random Forest Regressor                     NO MRI LESION               \n",
              "8   Random Forest Regressor                         NO GENDER               \n",
              "9   Random Forest Regressor              NO EDSS AT DIAGNOSIS               \n",
              "10  Random Forest Regressor                           NO TIM3               \n",
              "11  Random Forest Regressor                    NO TIGIT, LAG3               \n",
              "12  Random Forest Regressor             NO TIGIT, LYMPH CELLS               \n",
              "13  Random Forest Regressor                     NO TIGIT, AGE               \n",
              "14  Random Forest Regressor               NO TIGIT, PMN CELLS               \n",
              "15  Random Forest Regressor                     NO TIGIT, OCB               \n",
              "16  Random Forest Regressor              NO TIGIT, MRI LESION               \n",
              "17  Random Forest Regressor              NO_LAG3, LYMPH_CELLS               \n",
              "18  Random Forest Regressor                      NO_LAG3, AGE               \n",
              "19  Random Forest Regressor                NO_LAG3, PMN_CELLS               \n",
              "20  Random Forest Regressor                      NO_LAG3, OCB               \n",
              "21  Random Forest Regressor               NO_LAG3, MRI_LESION               \n",
              "22  Random Forest Regressor               NO_LYMPH_CELLS, AGE               \n",
              "23  Random Forest Regressor         NO_LYMPH_CELLS, PMN_CELLS               \n",
              "24  Random Forest Regressor               NO_LYMPH_CELLS, OCB               \n",
              "25  Random Forest Regressor        NO_LYMPH_CELLS, MRI_LESION               \n",
              "26  Random Forest Regressor       NO_TIGIT, LAG3, LYMPH_CELLS               \n",
              "27  Random Forest Regressor  NO_TIGIT, LAG3, LYMPH_CELLS, AGE               \n",
              "\n",
              "   Sensitivity      RMSE  \n",
              "0               1.366541  \n",
              "1               1.289474  \n",
              "2               1.334586  \n",
              "3               1.334586  \n",
              "4               1.342857  \n",
              "5               1.353383  \n",
              "6               1.384211  \n",
              "7               1.391729  \n",
              "8               1.323684  \n",
              "9               1.935714  \n",
              "10              1.385338  \n",
              "11              1.287970  \n",
              "12              1.320677  \n",
              "13              1.306015  \n",
              "14              1.269925  \n",
              "15              1.316917  \n",
              "16              1.279323  \n",
              "17              1.311654  \n",
              "18              1.318421  \n",
              "19              1.307519  \n",
              "20              1.337218  \n",
              "21              1.297744  \n",
              "22              1.320301  \n",
              "23              1.331955  \n",
              "24              1.366541  \n",
              "25              1.337970  \n",
              "26              1.252256  \n",
              "27              1.311278  "
            ]
          },
          "metadata": {
            "tags": []
          },
          "execution_count": 73
        }
      ]
    }
  ]
}