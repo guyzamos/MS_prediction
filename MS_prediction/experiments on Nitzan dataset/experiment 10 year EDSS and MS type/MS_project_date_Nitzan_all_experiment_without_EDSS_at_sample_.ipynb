{
  "nbformat": 4,
  "nbformat_minor": 0,
  "metadata": {
    "colab": {
      "name": "MS project  - date_Nitzan all experiment without_EDSS_at_sample_.ipynb",
      "provenance": [],
      "collapsed_sections": []
    },
    "kernelspec": {
      "name": "python3",
      "display_name": "Python 3"
    }
  },
  "cells": [
    {
      "cell_type": "markdown",
      "metadata": {
        "id": "M6tv6Y_weQ8z"
      },
      "source": [
        "import all the relevant libraries"
      ]
    },
    {
      "cell_type": "code",
      "metadata": {
        "id": "-z7hXJSeptCa"
      },
      "source": [
        "import pandas as pd\n",
        "import numpy as np\n",
        "import matplotlib.pyplot as plt\n",
        "import statistics as stats\n",
        "import io\n",
        "from sklearn.metrics import mean_squared_error\n",
        "from math import sqrt\n",
        "from sklearn.preprocessing import LabelEncoder\n",
        "from sklearn.model_selection import KFold\n",
        "from sklearn.ensemble import RandomForestRegressor\n",
        "from sklearn.ensemble import RandomForestClassifier\n",
        "from sklearn.linear_model import LogisticRegression\n",
        "from sklearn import metrics\n",
        "from sklearn.model_selection import train_test_split\n"
      ],
      "execution_count": null,
      "outputs": []
    },
    {
      "cell_type": "markdown",
      "metadata": {
        "id": "ugA1NC9JIkaQ"
      },
      "source": [
        "upload the db file"
      ]
    },
    {
      "cell_type": "code",
      "metadata": {
        "id": "tTM3VXFdxXAg",
        "colab": {
          "base_uri": "https://localhost:8080/"
        },
        "outputId": "aed9569a-a9d4-4153-a6d5-c17387b1a1ec"
      },
      "source": [
        "from google.colab import drive \n",
        "drive.mount('/content/gdrive')"
      ],
      "execution_count": null,
      "outputs": [
        {
          "output_type": "stream",
          "text": [
            "Drive already mounted at /content/gdrive; to attempt to forcibly remount, call drive.mount(\"/content/gdrive\", force_remount=True).\n"
          ],
          "name": "stdout"
        }
      ]
    },
    {
      "cell_type": "code",
      "metadata": {
        "id": "qxFu0jcL-D_c"
      },
      "source": [
        "pd.set_option('display.max_columns', None)\n",
        "pd.set_option('display.max_rows', None)"
      ],
      "execution_count": null,
      "outputs": []
    },
    {
      "cell_type": "markdown",
      "metadata": {
        "id": "LO6m2TYROc0T"
      },
      "source": [
        "#Helper functions"
      ]
    },
    {
      "cell_type": "code",
      "metadata": {
        "id": "ZmZIcqibsCHW"
      },
      "source": [
        "def calcCrossValidation_Matrix(model, df, predictors, outcome):\n",
        "\n",
        "  total_tp = 0\n",
        "  total_tn = 0\n",
        "  total_fp = 0\n",
        "  total_fn = 0\n",
        "\n",
        "  # Perform k-fold cross-validation with 10 folds\n",
        "  kf = KFold(n_splits=57)\n",
        "  accuracy = []\n",
        "  for train, test in kf.split(df):\n",
        "      # print(\"1\")\n",
        "\n",
        "      # Filter training data\n",
        "      train_predictors = (df[predictors].iloc[train, :])\n",
        "      # The target we're using to train the algorithm.\n",
        "      train_target = df[outcome].iloc[train]\n",
        "      # print(\"1\")\n",
        "\n",
        "      test_predictors = (df[predictors].iloc[test, :])\n",
        "      # The target we're using to train the algorithm.\n",
        "      test_target = df[outcome].iloc[test]\n",
        "      # print(\"1\")\n",
        "\n",
        "\n",
        "      # Training the algorithm using the predictors and target.\n",
        "      model.fit(train_predictors, train_target)\n",
        "      predictions = model.predict(test_predictors)\n",
        "      # cm = confusion_matrix(test_target, predictions)\n",
        "      # print(cm)\n",
        "      # print(\"1\")\n",
        "      # print(\"test_target\")\n",
        "      test_target = test_target.to_numpy()\n",
        "      # print(test_target)\n",
        "      # np.array(df[outcome].values.tolist())\n",
        "      # print(type(test_target))\n",
        "      # print(\"predictions\")\n",
        "      # print(predictions)\n",
        "      # print(type(predictions))\n",
        "\n",
        "      tn, fp, fn, tp = perf_measure(test_target, predictions)\n",
        "      # print(\"1\")\n",
        "\n",
        "      total_tp += tp\n",
        "      total_tn += tn\n",
        "      total_fp += fp\n",
        "      total_fn += fn\n",
        "\n",
        "  # print(total_tn, total_fp, total_fn, total_tp)\n",
        "  return total_tn, total_fp, total_fn, total_tp "
      ],
      "execution_count": null,
      "outputs": []
    },
    {
      "cell_type": "code",
      "metadata": {
        "id": "QmkOlEBaYWIh"
      },
      "source": [
        "def perf_measure(y_actual, y_hat):\n",
        "    TP = 0\n",
        "    FP = 0\n",
        "    TN = 0\n",
        "    FN = 0\n",
        "\n",
        "    for i in range(len(y_hat)): \n",
        "        if y_actual[i]==y_hat[i]==1:\n",
        "           TP += 1\n",
        "        if y_hat[i]==1 and y_actual[i]!=y_hat[i]:\n",
        "           FP += 1\n",
        "        if y_actual[i]==y_hat[i]==0:\n",
        "           TN += 1\n",
        "        if y_hat[i]==0 and y_actual[i]!=y_hat[i]:\n",
        "           FN += 1\n",
        "    # print(TN, FP, FN, TP)\n",
        "    return(TN, FP, FN, TP)"
      ],
      "execution_count": null,
      "outputs": []
    },
    {
      "cell_type": "code",
      "metadata": {
        "id": "0n-dU50HohOo"
      },
      "source": [
        "def calc_specificity(tn, fp, fn, tp):\n",
        "  return tn / (tn +fp)"
      ],
      "execution_count": null,
      "outputs": []
    },
    {
      "cell_type": "code",
      "metadata": {
        "id": "RqfyFAOYpXdx"
      },
      "source": [
        "def calc_sensitivity(tn, fp, fn, tp):\n",
        "  return tp / (tp +fn)"
      ],
      "execution_count": null,
      "outputs": []
    },
    {
      "cell_type": "markdown",
      "metadata": {
        "id": "5bA-CEACiZ1D"
      },
      "source": [
        "#Run all experiment on Nitzan data without using EDSS at sample date"
      ]
    },
    {
      "cell_type": "code",
      "metadata": {
        "id": "vFoIrVojrTxD"
      },
      "source": [
        "const_seed = 42"
      ],
      "execution_count": null,
      "outputs": []
    },
    {
      "cell_type": "code",
      "metadata": {
        "id": "ji-nN9tpxSGm"
      },
      "source": [
        "df_untreated = pd.read_pickle(\"/content/gdrive/My Drive/Colab Notebooks/MS_Notebooks/DFDB1Final.pkl\")\n",
        "\n",
        "df_untreated"
      ],
      "execution_count": null,
      "outputs": []
    },
    {
      "cell_type": "code",
      "metadata": {
        "colab": {
          "base_uri": "https://localhost:8080/"
        },
        "id": "xLQS6HQcyfo-",
        "outputId": "72365438-27e3-4412-a3ca-65ed4cb05b07"
      },
      "source": [
        "df_untreated.shape"
      ],
      "execution_count": null,
      "outputs": [
        {
          "output_type": "execute_result",
          "data": {
            "text/plain": [
              "(57, 36)"
            ]
          },
          "metadata": {
            "tags": []
          },
          "execution_count": 44
        }
      ]
    },
    {
      "cell_type": "code",
      "metadata": {
        "id": "GyD-p5HZzSQ_"
      },
      "source": [
        "# categorical_features = ['gender','oligoclonal_band','diagnosis']\n",
        "# df_untreated = pd.get_dummies(df_untreated, columns=categorical_features, drop_first=True)\n",
        "# df_untreated.drop(['treatment_when_sample_was_taken', 'sample_code'], axis='columns', inplace=True)\n",
        "df_untreated = df_untreated[['MRI_lesion_mass','primary_EDSS_at_diagnosis','primary_EDSS_at_sample_date','1_years_EDSS','age_at_diagnosis','TIM3_RQ', 'TIGIT_RQ', 'LAG3_RQ', 'PD-1_RQ', 'Male', 'positive_OCB', 'OTHER_TREATMENT', 'UNTREATED', 'med_IFN','med_TYSABRI','cells_total', 'SPMS']]\n",
        "df_untreated\n"
      ],
      "execution_count": null,
      "outputs": []
    },
    {
      "cell_type": "code",
      "metadata": {
        "id": "ibqfPzH4z9Q0"
      },
      "source": [
        "def min_max_normalize_features(dataframe, numeric_list):\n",
        "    for num_feature in numeric_list:\n",
        "        dataframe[num_feature] = (dataframe[num_feature] - dataframe[num_feature].min()) / (\n",
        "                dataframe[num_feature].max() - dataframe[num_feature].min())\n",
        "    return dataframe"
      ],
      "execution_count": null,
      "outputs": []
    },
    {
      "cell_type": "code",
      "metadata": {
        "id": "cHu-k3-E0bSG"
      },
      "source": [
        "numeric_features = ['MRI_lesion_mass', 'primary_EDSS_at_diagnosis','primary_EDSS_at_sample_date','age_at_diagnosis','TIM3_RQ','TIGIT_RQ','LAG3_RQ','PD-1_RQ']\n",
        "df_untreated = min_max_normalize_features(df_untreated, numeric_features)\n",
        "df_untreated\n"
      ],
      "execution_count": null,
      "outputs": []
    },
    {
      "cell_type": "code",
      "metadata": {
        "colab": {
          "base_uri": "https://localhost:8080/"
        },
        "id": "t9kJXvTXAfI7",
        "outputId": "e0e83722-97b0-4885-d287-1c927a3f32ca"
      },
      "source": [
        "df_untreated.columns.values"
      ],
      "execution_count": null,
      "outputs": [
        {
          "output_type": "execute_result",
          "data": {
            "text/plain": [
              "array(['MRI_lesion_mass', 'primary_EDSS_at_diagnosis',\n",
              "       'primary_EDSS_at_sample_date', '1_years_EDSS', 'age_at_diagnosis',\n",
              "       'TIM3_RQ', 'TIGIT_RQ', 'LAG3_RQ', 'PD-1_RQ', 'Male',\n",
              "       'positive_OCB', 'OTHER_TREATMENT', 'UNTREATED', 'med_IFN',\n",
              "       'med_TYSABRI', 'cells_total', 'SPMS'], dtype=object)"
            ]
          },
          "metadata": {
            "tags": []
          },
          "execution_count": 48
        }
      ]
    },
    {
      "cell_type": "markdown",
      "metadata": {
        "id": "UCDUgSXbMo5J"
      },
      "source": [
        "all features"
      ]
    },
    {
      "cell_type": "code",
      "metadata": {
        "colab": {
          "base_uri": "https://localhost:8080/"
        },
        "id": "zISrNTfN3Sfr",
        "outputId": "53ef9a2a-de9e-43a9-b347-b5fc6aa404b2"
      },
      "source": [
        "from sklearn.metrics import confusion_matrix\n",
        "\n",
        "logisticRegrDF = LogisticRegression(max_iter = 4000,random_state=const_seed)\n",
        "predictor_var1 = ['MRI_lesion_mass','primary_EDSS_at_diagnosis', 'age_at_diagnosis','TIM3_RQ', 'TIGIT_RQ', 'LAG3_RQ', 'PD-1_RQ', 'Male', 'positive_OCB', 'OTHER_TREATMENT', 'UNTREATED', 'med_IFN','med_TYSABRI','cells_total']\n",
        "outcome_var = 'SPMS'\n",
        "tn, fp, fn, tp = calcCrossValidation_Matrix(logisticRegrDF, df_untreated, predictor_var1, outcome_var)\n",
        "print(calc_specificity(tn, fp, fn, tp))\n",
        "print(calc_sensitivity(tn, fp, fn, tp))\n",
        "coefficients = pd.concat([pd.DataFrame(predictor_var1), pd.DataFrame(np.transpose(logisticRegrDF.coef_))], axis=1)\n",
        "coefficients.columns = ['feature_name', 'coefficient_val']\n",
        "coefficients = coefficients.sort_values(by=['coefficient_val'], ascending=False)\n",
        "coefficients.to_excel('coef_no_abs.xlsx')\n",
        "coefficients['coefficient_val'] = coefficients['coefficient_val'].abs()\n",
        "\n",
        "coefficients = coefficients.sort_values(by=['coefficient_val'], ascending=False)\n",
        "coefficients.to_excel('coef_abs.xlsx')\n",
        "\n",
        "print(coefficients)\n"
      ],
      "execution_count": null,
      "outputs": [
        {
          "output_type": "stream",
          "text": [
            "0.9142857142857143\n",
            "0.5454545454545454\n",
            "                 feature_name  coefficient_val\n",
            "1   primary_EDSS_at_diagnosis         2.207128\n",
            "2            age_at_diagnosis         1.206691\n",
            "3                     TIM3_RQ         0.788233\n",
            "7                        Male         0.748523\n",
            "0             MRI_lesion_mass         0.658535\n",
            "8                positive_OCB         0.545330\n",
            "5                     LAG3_RQ         0.478392\n",
            "6                     PD-1_RQ         0.193392\n",
            "12                med_TYSABRI         0.091480\n",
            "13                cells_total         0.080430\n",
            "9             OTHER_TREATMENT         0.079629\n",
            "10                  UNTREATED         0.029637\n",
            "11                    med_IFN         0.017873\n",
            "4                    TIGIT_RQ         0.007432\n"
          ],
          "name": "stdout"
        }
      ]
    },
    {
      "cell_type": "code",
      "metadata": {
        "colab": {
          "base_uri": "https://localhost:8080/",
          "height": 592
        },
        "id": "iZgWqqmcJmgI",
        "outputId": "84ec5422-38bc-41a9-eb67-e77aa743e22d"
      },
      "source": [
        "from sklearn.metrics import confusion_matrix\n",
        "import numpy as np\n",
        "import matplotlib.pyplot as plt\n",
        "\n",
        "from sklearn.datasets import make_classification\n",
        "from sklearn.ensemble import ExtraTreesClassifier\n",
        "\n",
        "\n",
        "rf = RandomForestClassifier(n_estimators=25, min_samples_split=9, max_depth=15, max_features='auto',random_state=const_seed)\n",
        "predictor_var1 = ['MRI_lesion_mass','primary_EDSS_at_diagnosis','1_years_EDSS','age_at_diagnosis','TIM3_RQ', 'TIGIT_RQ', 'LAG3_RQ', 'PD-1_RQ', 'Male', 'positive_OCB', 'OTHER_TREATMENT', 'UNTREATED', 'med_IFN','med_TYSABRI','cells_total']\n",
        "outcome_var = 'SPMS'\n",
        "tn, fp, fn, tp = calcCrossValidation_Matrix(rf, df_untreated, predictor_var1, outcome_var)\n",
        "print(calc_specificity(tn, fp, fn, tp))\n",
        "print(calc_sensitivity(tn, fp, fn, tp))\n",
        "# importances = rf.feature_importances_\n",
        "# importances\n",
        "importances = rf.feature_importances_\n",
        "std = np.std([tree.feature_importances_ for tree in rf.estimators_],\n",
        "             axis=0)\n",
        "indices = np.argsort(importances)[::-1]\n",
        "\n",
        "# Print the feature ranking\n",
        "print(\"Feature ranking:\")\n",
        "\n",
        "for f in range(len(predictor_var1)):\n",
        "    print(\"%d. feature %d %s (%f)\" % (f + 1, indices[f],predictor_var1[indices[f]], importances[indices[f]]))\n",
        "\n",
        "# Plot the impurity-based feature importances of the forest\n",
        "plt.figure()\n",
        "plt.title(\"Feature importances\")\n",
        "plt.bar(range(len(predictor_var1)), importances[indices],\n",
        "        color=\"r\", yerr=std[indices], align=\"center\")\n",
        "plt.xticks(range(len(predictor_var1)), indices)\n",
        "plt.xlim([-1, len(predictor_var1)])\n",
        "plt.show()\n"
      ],
      "execution_count": null,
      "outputs": [
        {
          "output_type": "stream",
          "text": [
            "0.9428571428571428\n",
            "0.6363636363636364\n",
            "Feature ranking:\n",
            "1. feature 2 1_years_EDSS (0.251119)\n",
            "2. feature 1 primary_EDSS_at_diagnosis (0.235434)\n",
            "3. feature 3 age_at_diagnosis (0.125109)\n",
            "4. feature 5 TIGIT_RQ (0.071080)\n",
            "5. feature 4 TIM3_RQ (0.064299)\n",
            "6. feature 6 LAG3_RQ (0.056749)\n",
            "7. feature 14 cells_total (0.056745)\n",
            "8. feature 0 MRI_lesion_mass (0.055541)\n",
            "9. feature 7 PD-1_RQ (0.034430)\n",
            "10. feature 8 Male (0.024025)\n",
            "11. feature 10 OTHER_TREATMENT (0.011724)\n",
            "12. feature 9 positive_OCB (0.007480)\n",
            "13. feature 11 UNTREATED (0.004946)\n",
            "14. feature 12 med_IFN (0.001317)\n",
            "15. feature 13 med_TYSABRI (0.000000)\n"
          ],
          "name": "stdout"
        },
        {
          "output_type": "display_data",
          "data": {
            "image/png": "[encoded data removed]",
            "text/plain": [
              "<Figure size 432x288 with 1 Axes>"
            ]
          },
          "metadata": {
            "tags": [],
            "needs_background": "light"
          }
        }
      ]
    },
    {
      "cell_type": "markdown",
      "metadata": {
        "id": "XvUq3hHyMrAy"
      },
      "source": [
        "no genes"
      ]
    },
    {
      "cell_type": "code",
      "metadata": {
        "id": "YO03kv6QMPhT",
        "colab": {
          "base_uri": "https://localhost:8080/"
        },
        "outputId": "67aae1e3-8274-4bdb-a409-1e3fbe890533"
      },
      "source": [
        "from sklearn.metrics import confusion_matrix\n",
        "\n",
        "logisticRegrDF = LogisticRegression(max_iter = 4000,random_state=const_seed)\n",
        "predictor_var1 = ['MRI_lesion_mass','primary_EDSS_at_diagnosis','age_at_diagnosis', 'Male', 'positive_OCB', 'OTHER_TREATMENT', 'UNTREATED', 'med_IFN','med_TYSABRI','cells_total']\n",
        "outcome_var = 'SPMS'\n",
        "tn, fp, fn, tp = calcCrossValidation_Matrix(logisticRegrDF, df_untreated, predictor_var1, outcome_var)\n",
        "print(calc_specificity(tn, fp, fn, tp))\n",
        "print(calc_sensitivity(tn, fp, fn, tp))\n",
        "coefficients = pd.concat([pd.DataFrame(predictor_var1), pd.DataFrame(np.transpose(logisticRegrDF.coef_))], axis=1)\n",
        "coefficients.columns = ['feature_name', 'coefficient_val']\n",
        "coefficients = coefficients.sort_values(by=['coefficient_val'], ascending=False)\n",
        "coefficients.to_excel('coef_no_abs.xlsx')\n",
        "coefficients['coefficient_val'] = coefficients['coefficient_val'].abs()\n",
        "\n",
        "coefficients = coefficients.sort_values(by=['coefficient_val'], ascending=False)\n",
        "coefficients.to_excel('coef_abs.xlsx')\n",
        "\n",
        "print(coefficients)"
      ],
      "execution_count": null,
      "outputs": [
        {
          "output_type": "stream",
          "text": [
            "0.9142857142857143\n",
            "0.5454545454545454\n",
            "                feature_name  coefficient_val\n",
            "1  primary_EDSS_at_diagnosis         2.163855\n",
            "2           age_at_diagnosis         1.230681\n",
            "3                       Male         0.802472\n",
            "0            MRI_lesion_mass         0.766550\n",
            "4               positive_OCB         0.565052\n",
            "6                  UNTREATED         0.072815\n",
            "9                cells_total         0.071131\n",
            "8                med_TYSABRI         0.069535\n",
            "7                    med_IFN         0.040179\n",
            "5            OTHER_TREATMENT         0.036922\n"
          ],
          "name": "stdout"
        }
      ]
    },
    {
      "cell_type": "code",
      "metadata": {
        "id": "YdACYxsIMcwc",
        "colab": {
          "base_uri": "https://localhost:8080/"
        },
        "outputId": "c6c85e35-89dd-4ade-d96c-029ea2583d95"
      },
      "source": [
        "from sklearn.metrics import confusion_matrix\n",
        "\n",
        "rf = RandomForestClassifier(n_estimators=25, min_samples_split=9, max_depth=15, max_features='auto',random_state=const_seed)\n",
        "predictor_var1 = ['MRI_lesion_mass','primary_EDSS_at_diagnosis','age_at_diagnosis', 'Male', 'positive_OCB', 'OTHER_TREATMENT', 'UNTREATED', 'med_IFN','med_TYSABRI','cells_total']\n",
        "outcome_var = 'SPMS'\n",
        "tn, fp, fn, tp = calcCrossValidation_Matrix(rf, df_untreated, predictor_var1, outcome_var)\n",
        "print(calc_specificity(tn, fp, fn, tp))\n",
        "print(calc_sensitivity(tn, fp, fn, tp))"
      ],
      "execution_count": null,
      "outputs": [
        {
          "output_type": "stream",
          "text": [
            "0.9714285714285714\n",
            "0.6363636363636364\n"
          ],
          "name": "stdout"
        }
      ]
    },
    {
      "cell_type": "markdown",
      "metadata": {
        "id": "OPAnJHWDMs15"
      },
      "source": [
        "no TIM3"
      ]
    },
    {
      "cell_type": "code",
      "metadata": {
        "id": "SEn1xbC1Mj2U",
        "colab": {
          "base_uri": "https://localhost:8080/"
        },
        "outputId": "1fbee5d1-7142-4911-91f2-6ca3652c377a"
      },
      "source": [
        "from sklearn.metrics import confusion_matrix\n",
        "\n",
        "logisticRegrDF = LogisticRegression(max_iter = 4000,random_state=const_seed)\n",
        "predictor_var1 = ['MRI_lesion_mass','primary_EDSS_at_diagnosis','age_at_diagnosis', 'TIGIT_RQ', 'LAG3_RQ', 'PD-1_RQ', 'Male', 'positive_OCB', 'OTHER_TREATMENT', 'UNTREATED', 'med_IFN','med_TYSABRI','cells_total']\n",
        "outcome_var = 'SPMS'\n",
        "tn, fp, fn, tp = calcCrossValidation_Matrix(logisticRegrDF, df_untreated, predictor_var1, outcome_var)\n",
        "print(calc_specificity(tn, fp, fn, tp))\n",
        "print(calc_sensitivity(tn, fp, fn, tp))\n"
      ],
      "execution_count": null,
      "outputs": [
        {
          "output_type": "stream",
          "text": [
            "0.8857142857142857\n",
            "0.5454545454545454\n"
          ],
          "name": "stdout"
        }
      ]
    },
    {
      "cell_type": "code",
      "metadata": {
        "id": "Gd6wyEHoMxa-",
        "colab": {
          "base_uri": "https://localhost:8080/"
        },
        "outputId": "17edfa16-14ab-45d1-98a9-f1484a6a030d"
      },
      "source": [
        "from sklearn.metrics import confusion_matrix\n",
        "\n",
        "rf = RandomForestClassifier(n_estimators=25, min_samples_split=9, max_depth=15, max_features='auto',random_state=const_seed)\n",
        "predictor_var1 = ['MRI_lesion_mass','primary_EDSS_at_diagnosis','age_at_diagnosis', 'TIGIT_RQ', 'LAG3_RQ', 'PD-1_RQ', 'Male', 'positive_OCB', 'OTHER_TREATMENT', 'UNTREATED', 'med_IFN','med_TYSABRI','cells_total']\n",
        "outcome_var = 'SPMS'\n",
        "tn, fp, fn, tp = calcCrossValidation_Matrix(rf, df_untreated, predictor_var1, outcome_var)\n",
        "print(calc_specificity(tn, fp, fn, tp))\n",
        "print(calc_sensitivity(tn, fp, fn, tp))"
      ],
      "execution_count": null,
      "outputs": [
        {
          "output_type": "stream",
          "text": [
            "0.8\n",
            "0.5909090909090909\n"
          ],
          "name": "stdout"
        }
      ]
    },
    {
      "cell_type": "markdown",
      "metadata": {
        "id": "LJOvAqKzM50E"
      },
      "source": [
        "no TIGIT_RQ"
      ]
    },
    {
      "cell_type": "code",
      "metadata": {
        "id": "zzsTulskM5FN",
        "colab": {
          "base_uri": "https://localhost:8080/"
        },
        "outputId": "1bb4cd1a-9ad2-4735-e7a4-dfc32ef5daaa"
      },
      "source": [
        "from sklearn.metrics import confusion_matrix\n",
        "\n",
        "logisticRegrDF = LogisticRegression(max_iter = 4000,random_state=const_seed)\n",
        "predictor_var1 = ['MRI_lesion_mass','primary_EDSS_at_diagnosis','age_at_diagnosis','TIM3_RQ', 'LAG3_RQ', 'PD-1_RQ', 'Male', 'positive_OCB', 'OTHER_TREATMENT', 'UNTREATED', 'med_IFN','med_TYSABRI','cells_total']\n",
        "outcome_var = 'SPMS'\n",
        "tn, fp, fn, tp = calcCrossValidation_Matrix(logisticRegrDF, df_untreated, predictor_var1, outcome_var)\n",
        "print(calc_specificity(tn, fp, fn, tp))\n",
        "print(calc_sensitivity(tn, fp, fn, tp))\n",
        "coefficients = pd.concat([pd.DataFrame(predictor_var1), pd.DataFrame(np.transpose(logisticRegrDF.coef_))], axis=1)\n",
        "coefficients.columns = ['feature_name', 'coefficient_val']\n",
        "coefficients = coefficients.sort_values(by=['coefficient_val'], ascending=False)\n",
        "coefficients.to_excel('coef_no_abs.xlsx')\n",
        "coefficients['coefficient_val'] = coefficients['coefficient_val'].abs()\n",
        "\n",
        "coefficients = coefficients.sort_values(by=['coefficient_val'], ascending=False)\n",
        "coefficients.to_excel('coef_abs.xlsx')\n",
        "\n",
        "print(coefficients)"
      ],
      "execution_count": null,
      "outputs": [
        {
          "output_type": "stream",
          "text": [
            "0.9142857142857143\n",
            "0.6363636363636364\n",
            "                 feature_name  coefficient_val\n",
            "1   primary_EDSS_at_diagnosis         2.206983\n",
            "2            age_at_diagnosis         1.206846\n",
            "3                     TIM3_RQ         0.789191\n",
            "6                        Male         0.747747\n",
            "0             MRI_lesion_mass         0.659692\n",
            "7                positive_OCB         0.545326\n",
            "4                     LAG3_RQ         0.476711\n",
            "5                     PD-1_RQ         0.193463\n",
            "11                med_TYSABRI         0.092021\n",
            "12                cells_total         0.080403\n",
            "8             OTHER_TREATMENT         0.079322\n",
            "9                   UNTREATED         0.029873\n",
            "10                    med_IFN         0.017693\n"
          ],
          "name": "stdout"
        }
      ]
    },
    {
      "cell_type": "code",
      "metadata": {
        "id": "qTmbplGHNkTM",
        "colab": {
          "base_uri": "https://localhost:8080/"
        },
        "outputId": "efd1b09b-ae86-4d4b-e145-5ec01309da85"
      },
      "source": [
        "from sklearn.metrics import confusion_matrix\n",
        "\n",
        "rf = RandomForestClassifier(n_estimators=25, min_samples_split=9, max_depth=15, max_features='auto',random_state=const_seed)\n",
        "predictor_var1 = ['MRI_lesion_mass','primary_EDSS_at_diagnosis','age_at_diagnosis','TIM3_RQ', 'LAG3_RQ', 'PD-1_RQ', 'Male', 'positive_OCB', 'OTHER_TREATMENT', 'UNTREATED', 'med_IFN','med_TYSABRI','cells_total']\n",
        "outcome_var = 'SPMS'\n",
        "tn, fp, fn, tp = calcCrossValidation_Matrix(rf, df_untreated, predictor_var1, outcome_var)\n",
        "print(calc_specificity(tn, fp, fn, tp))\n",
        "print(calc_sensitivity(tn, fp, fn, tp))"
      ],
      "execution_count": null,
      "outputs": [
        {
          "output_type": "stream",
          "text": [
            "0.8571428571428571\n",
            "0.5909090909090909\n"
          ],
          "name": "stdout"
        }
      ]
    },
    {
      "cell_type": "markdown",
      "metadata": {
        "id": "gY7ZWfvyNsDU"
      },
      "source": [
        "no LAG3"
      ]
    },
    {
      "cell_type": "code",
      "metadata": {
        "id": "ZgvatthZNu0H",
        "colab": {
          "base_uri": "https://localhost:8080/"
        },
        "outputId": "3f907ee0-5ff9-4508-f488-9a37547f622e"
      },
      "source": [
        "from sklearn.metrics import confusion_matrix\n",
        "\n",
        "logisticRegrDF = LogisticRegression(max_iter = 4000,random_state=const_seed)\n",
        "predictor_var1 = ['MRI_lesion_mass','primary_EDSS_at_diagnosis','age_at_diagnosis','TIM3_RQ', 'TIGIT_RQ', 'PD-1_RQ', 'Male', 'positive_OCB', 'OTHER_TREATMENT', 'UNTREATED', 'med_IFN','med_TYSABRI','cells_total']\n",
        "outcome_var = 'SPMS'\n",
        "tn, fp, fn, tp = calcCrossValidation_Matrix(logisticRegrDF, df_untreated, predictor_var1, outcome_var)\n",
        "print(calc_specificity(tn, fp, fn, tp))\n",
        "print(calc_sensitivity(tn, fp, fn, tp))"
      ],
      "execution_count": null,
      "outputs": [
        {
          "output_type": "stream",
          "text": [
            "0.9142857142857143\n",
            "0.5454545454545454\n"
          ],
          "name": "stdout"
        }
      ]
    },
    {
      "cell_type": "code",
      "metadata": {
        "id": "ORbYO1TBNw1T",
        "colab": {
          "base_uri": "https://localhost:8080/"
        },
        "outputId": "9ab5df00-02ec-4c17-f3fd-c54b976fa091"
      },
      "source": [
        "from sklearn.metrics import confusion_matrix\n",
        "\n",
        "rf = RandomForestClassifier(n_estimators=25, min_samples_split=9, max_depth=15, max_features='auto',random_state=const_seed)\n",
        "predictor_var1 = ['MRI_lesion_mass','primary_EDSS_at_diagnosis','age_at_diagnosis','TIM3_RQ', 'TIGIT_RQ', 'PD-1_RQ', 'Male', 'positive_OCB', 'OTHER_TREATMENT', 'UNTREATED', 'med_IFN','med_TYSABRI','cells_total']\n",
        "outcome_var = 'SPMS'\n",
        "tn, fp, fn, tp = calcCrossValidation_Matrix(rf, df_untreated, predictor_var1, outcome_var)\n",
        "print(calc_specificity(tn, fp, fn, tp))\n",
        "print(calc_sensitivity(tn, fp, fn, tp))"
      ],
      "execution_count": null,
      "outputs": [
        {
          "output_type": "stream",
          "text": [
            "0.9142857142857143\n",
            "0.6363636363636364\n"
          ],
          "name": "stdout"
        }
      ]
    },
    {
      "cell_type": "markdown",
      "metadata": {
        "id": "IkyIoL4eSEB-"
      },
      "source": [
        "no TIM3 and LAG3"
      ]
    },
    {
      "cell_type": "code",
      "metadata": {
        "id": "_tTgCYmFSEB_",
        "colab": {
          "base_uri": "https://localhost:8080/"
        },
        "outputId": "aafecf73-3593-4fe0-8604-9a3c9c0433ae"
      },
      "source": [
        "from sklearn.metrics import confusion_matrix\n",
        "\n",
        "logisticRegrDF = LogisticRegression(max_iter = 4000,random_state=const_seed)\n",
        "predictor_var1 = ['MRI_lesion_mass','primary_EDSS_at_diagnosis','age_at_diagnosis', 'TIGIT_RQ', 'PD-1_RQ', 'Male', 'positive_OCB', 'OTHER_TREATMENT', 'UNTREATED', 'med_IFN','med_TYSABRI','cells_total']\n",
        "outcome_var = 'SPMS'\n",
        "tn, fp, fn, tp = calcCrossValidation_Matrix(logisticRegrDF, df_untreated, predictor_var1, outcome_var)\n",
        "print(calc_specificity(tn, fp, fn, tp))\n",
        "print(calc_sensitivity(tn, fp, fn, tp))\n"
      ],
      "execution_count": null,
      "outputs": [
        {
          "output_type": "stream",
          "text": [
            "0.9142857142857143\n",
            "0.5454545454545454\n"
          ],
          "name": "stdout"
        }
      ]
    },
    {
      "cell_type": "code",
      "metadata": {
        "id": "CyfRcIVsSECB",
        "colab": {
          "base_uri": "https://localhost:8080/"
        },
        "outputId": "474ab658-5983-43b6-c56a-0294f8184593"
      },
      "source": [
        "from sklearn.metrics import confusion_matrix\n",
        "\n",
        "rf = RandomForestClassifier(n_estimators=25, min_samples_split=9, max_depth=15, max_features='auto',random_state=const_seed)\n",
        "predictor_var1 = ['MRI_lesion_mass','primary_EDSS_at_diagnosis','age_at_diagnosis', 'TIGIT_RQ', 'PD-1_RQ', 'Male', 'positive_OCB', 'OTHER_TREATMENT', 'UNTREATED', 'med_IFN','med_TYSABRI','cells_total']\n",
        "outcome_var = 'SPMS'\n",
        "tn, fp, fn, tp = calcCrossValidation_Matrix(rf, df_untreated, predictor_var1, outcome_var)\n",
        "print(calc_specificity(tn, fp, fn, tp))\n",
        "print(calc_sensitivity(tn, fp, fn, tp))"
      ],
      "execution_count": null,
      "outputs": [
        {
          "output_type": "stream",
          "text": [
            "0.9142857142857143\n",
            "0.5909090909090909\n"
          ],
          "name": "stdout"
        }
      ]
    },
    {
      "cell_type": "markdown",
      "metadata": {
        "id": "00edSxJbSFFo"
      },
      "source": [
        "no TIM3 and TIGIT"
      ]
    },
    {
      "cell_type": "code",
      "metadata": {
        "id": "gqWIYareSFFp",
        "colab": {
          "base_uri": "https://localhost:8080/"
        },
        "outputId": "9904104c-5b83-4783-e8d6-69be09646a11"
      },
      "source": [
        "from sklearn.metrics import confusion_matrix\n",
        "\n",
        "logisticRegrDF = LogisticRegression(max_iter = 4000,random_state=const_seed)\n",
        "predictor_var1 = ['MRI_lesion_mass','primary_EDSS_at_diagnosis','age_at_diagnosis', 'LAG3_RQ', 'PD-1_RQ', 'Male', 'positive_OCB', 'OTHER_TREATMENT', 'UNTREATED', 'med_IFN','med_TYSABRI','cells_total']\n",
        "outcome_var = 'SPMS'\n",
        "tn, fp, fn, tp = calcCrossValidation_Matrix(logisticRegrDF, df_untreated, predictor_var1, outcome_var)\n",
        "print(calc_specificity(tn, fp, fn, tp))\n",
        "print(calc_sensitivity(tn, fp, fn, tp))\n"
      ],
      "execution_count": null,
      "outputs": [
        {
          "output_type": "stream",
          "text": [
            "0.8857142857142857\n",
            "0.5909090909090909\n"
          ],
          "name": "stdout"
        }
      ]
    },
    {
      "cell_type": "code",
      "metadata": {
        "id": "g536OJ_JSFFp",
        "colab": {
          "base_uri": "https://localhost:8080/"
        },
        "outputId": "c388c452-e8b9-424f-87cb-ab275eef0bbb"
      },
      "source": [
        "from sklearn.metrics import confusion_matrix\n",
        "\n",
        "rf = RandomForestClassifier(n_estimators=25, min_samples_split=9, max_depth=15, max_features='auto',random_state=const_seed)\n",
        "predictor_var1 = ['MRI_lesion_mass','primary_EDSS_at_diagnosis','age_at_diagnosis', 'LAG3_RQ', 'PD-1_RQ', 'Male', 'positive_OCB', 'OTHER_TREATMENT', 'UNTREATED', 'med_IFN','med_TYSABRI','cells_total']\n",
        "outcome_var = 'SPMS'\n",
        "tn, fp, fn, tp = calcCrossValidation_Matrix(rf, df_untreated, predictor_var1, outcome_var)\n",
        "print(calc_specificity(tn, fp, fn, tp))\n",
        "print(calc_sensitivity(tn, fp, fn, tp))"
      ],
      "execution_count": null,
      "outputs": [
        {
          "output_type": "stream",
          "text": [
            "0.9142857142857143\n",
            "0.5909090909090909\n"
          ],
          "name": "stdout"
        }
      ]
    },
    {
      "cell_type": "markdown",
      "metadata": {
        "id": "R0wANlSUSHyN"
      },
      "source": [
        "no LAG3 and TIGIT"
      ]
    },
    {
      "cell_type": "code",
      "metadata": {
        "id": "eO8cXWvbSHyN",
        "colab": {
          "base_uri": "https://localhost:8080/"
        },
        "outputId": "020a7188-95d8-4392-86a3-4feedf2bc3eb"
      },
      "source": [
        "from sklearn.metrics import confusion_matrix\n",
        "\n",
        "logisticRegrDF = LogisticRegression(max_iter = 4000,random_state=const_seed)\n",
        "predictor_var1 = ['MRI_lesion_mass','primary_EDSS_at_diagnosis','age_at_diagnosis','TIM3_RQ', 'PD-1_RQ', 'Male', 'positive_OCB', 'OTHER_TREATMENT', 'UNTREATED', 'med_IFN','med_TYSABRI','cells_total']\n",
        "outcome_var = 'SPMS'\n",
        "tn, fp, fn, tp = calcCrossValidation_Matrix(logisticRegrDF, df_untreated, predictor_var1, outcome_var)\n",
        "print(calc_specificity(tn, fp, fn, tp))\n",
        "print(calc_sensitivity(tn, fp, fn, tp))\n"
      ],
      "execution_count": null,
      "outputs": [
        {
          "output_type": "stream",
          "text": [
            "0.9142857142857143\n",
            "0.5909090909090909\n"
          ],
          "name": "stdout"
        }
      ]
    },
    {
      "cell_type": "code",
      "metadata": {
        "id": "bpK87zZFSHyO",
        "colab": {
          "base_uri": "https://localhost:8080/"
        },
        "outputId": "b1cdc400-4be4-42c0-eccc-cb48606a8917"
      },
      "source": [
        "from sklearn.metrics import confusion_matrix\n",
        "\n",
        "rf = RandomForestClassifier(n_estimators=25, min_samples_split=9, max_depth=15, max_features='auto',random_state=const_seed)\n",
        "predictor_var1 = ['MRI_lesion_mass','primary_EDSS_at_diagnosis','age_at_diagnosis','TIM3_RQ', 'PD-1_RQ', 'Male', 'positive_OCB', 'OTHER_TREATMENT', 'UNTREATED', 'med_IFN','med_TYSABRI','cells_total']\n",
        "outcome_var = 'SPMS'\n",
        "tn, fp, fn, tp = calcCrossValidation_Matrix(rf, df_untreated, predictor_var1, outcome_var)\n",
        "print(calc_specificity(tn, fp, fn, tp))\n",
        "print(calc_sensitivity(tn, fp, fn, tp))"
      ],
      "execution_count": null,
      "outputs": [
        {
          "output_type": "stream",
          "text": [
            "0.9714285714285714\n",
            "0.5909090909090909\n"
          ],
          "name": "stdout"
        }
      ]
    },
    {
      "cell_type": "markdown",
      "metadata": {
        "id": "Zy5fucjfN2gK"
      },
      "source": [
        "no MRI"
      ]
    },
    {
      "cell_type": "code",
      "metadata": {
        "id": "z3M2VgJ9N7Yy",
        "colab": {
          "base_uri": "https://localhost:8080/"
        },
        "outputId": "ff7ac1d7-602e-4b49-a35c-a2746cebd986"
      },
      "source": [
        "from sklearn.metrics import confusion_matrix\n",
        "\n",
        "logisticRegrDF = LogisticRegression(max_iter = 4000,random_state=const_seed)\n",
        "predictor_var1 = ['primary_EDSS_at_diagnosis','age_at_diagnosis','TIM3_RQ', 'TIGIT_RQ', 'LAG3_RQ', 'PD-1_RQ', 'Male', 'positive_OCB', 'OTHER_TREATMENT', 'UNTREATED', 'med_IFN','med_TYSABRI','cells_total']\n",
        "outcome_var = 'SPMS'\n",
        "tn, fp, fn, tp = calcCrossValidation_Matrix(logisticRegrDF, df_untreated, predictor_var1, outcome_var)\n",
        "print(calc_specificity(tn, fp, fn, tp))\n",
        "print(calc_sensitivity(tn, fp, fn, tp))\n"
      ],
      "execution_count": null,
      "outputs": [
        {
          "output_type": "stream",
          "text": [
            "0.9428571428571428\n",
            "0.5\n"
          ],
          "name": "stdout"
        }
      ]
    },
    {
      "cell_type": "code",
      "metadata": {
        "id": "Hm1JBxG_HZWO",
        "colab": {
          "base_uri": "https://localhost:8080/"
        },
        "outputId": "5344a7a0-a150-4fda-f9bc-49fe9e7d2f02"
      },
      "source": [
        "df_untreated.shape"
      ],
      "execution_count": null,
      "outputs": [
        {
          "output_type": "execute_result",
          "data": {
            "text/plain": [
              "(57, 17)"
            ]
          },
          "metadata": {
            "tags": []
          },
          "execution_count": 66
        }
      ]
    },
    {
      "cell_type": "code",
      "metadata": {
        "id": "KN65F3iSN-ss",
        "colab": {
          "base_uri": "https://localhost:8080/"
        },
        "outputId": "ec031f6e-5e0c-48c3-fb61-267abbe43cb7"
      },
      "source": [
        "from sklearn.metrics import confusion_matrix\n",
        "\n",
        "rf = RandomForestClassifier(n_estimators=25, min_samples_split=9, max_depth=15, max_features='auto',random_state=const_seed)\n",
        "predictor_var1 = ['primary_EDSS_at_diagnosis','age_at_diagnosis','TIM3_RQ', 'TIGIT_RQ', 'LAG3_RQ', 'PD-1_RQ', 'Male', 'positive_OCB', 'OTHER_TREATMENT', 'UNTREATED', 'med_IFN','med_TYSABRI','cells_total']\n",
        "outcome_var = 'SPMS'\n",
        "tn, fp, fn, tp = calcCrossValidation_Matrix(rf, df_untreated, predictor_var1, outcome_var)\n",
        "print(calc_specificity(tn, fp, fn, tp))\n",
        "print(calc_sensitivity(tn, fp, fn, tp))"
      ],
      "execution_count": null,
      "outputs": [
        {
          "output_type": "stream",
          "text": [
            "0.8857142857142857\n",
            "0.5454545454545454\n"
          ],
          "name": "stdout"
        }
      ]
    },
    {
      "cell_type": "markdown",
      "metadata": {
        "id": "z9cVsgjXES2R"
      },
      "source": [
        "no OCB"
      ]
    },
    {
      "cell_type": "code",
      "metadata": {
        "colab": {
          "base_uri": "https://localhost:8080/"
        },
        "id": "JNjnh2S9ESq2",
        "outputId": "c9b3aa14-2802-4d01-bf6c-3207e47749af"
      },
      "source": [
        "from sklearn.metrics import confusion_matrix\n",
        "\n",
        "logisticRegrDF = LogisticRegression(max_iter = 4000,random_state=const_seed)\n",
        "predictor_var1 = ['MRI_lesion_mass','primary_EDSS_at_diagnosis','age_at_diagnosis','TIM3_RQ', 'TIGIT_RQ', 'LAG3_RQ', 'PD-1_RQ', 'Male', 'OTHER_TREATMENT', 'UNTREATED', 'med_IFN','med_TYSABRI','cells_total']\n",
        "outcome_var = 'SPMS'\n",
        "tn, fp, fn, tp = calcCrossValidation_Matrix(logisticRegrDF, df_untreated, predictor_var1, outcome_var)\n",
        "print(calc_specificity(tn, fp, fn, tp))\n",
        "print(calc_sensitivity(tn, fp, fn, tp))"
      ],
      "execution_count": null,
      "outputs": [
        {
          "output_type": "stream",
          "text": [
            "0.8857142857142857\n",
            "0.45454545454545453\n"
          ],
          "name": "stdout"
        }
      ]
    },
    {
      "cell_type": "code",
      "metadata": {
        "colab": {
          "base_uri": "https://localhost:8080/"
        },
        "id": "3Ibik9ZkEScz",
        "outputId": "130b34db-a102-4e55-8119-f7d68a7be409"
      },
      "source": [
        "from sklearn.metrics import confusion_matrix\n",
        "\n",
        "rf = RandomForestClassifier(n_estimators=25, min_samples_split=9, max_depth=15, max_features='auto',random_state=const_seed)\n",
        "predictor_var1 = ['MRI_lesion_mass','primary_EDSS_at_diagnosis','age_at_diagnosis','TIM3_RQ', 'TIGIT_RQ', 'LAG3_RQ', 'PD-1_RQ', 'Male', 'OTHER_TREATMENT', 'UNTREATED', 'med_IFN','med_TYSABRI','cells_total']\n",
        "outcome_var = 'SPMS'\n",
        "tn, fp, fn, tp = calcCrossValidation_Matrix(rf, df_untreated, predictor_var1, outcome_var)\n",
        "print(calc_specificity(tn, fp, fn, tp))\n",
        "print(calc_sensitivity(tn, fp, fn, tp))"
      ],
      "execution_count": null,
      "outputs": [
        {
          "output_type": "stream",
          "text": [
            "0.8857142857142857\n",
            "0.5909090909090909\n"
          ],
          "name": "stdout"
        }
      ]
    },
    {
      "cell_type": "markdown",
      "metadata": {
        "id": "HQqHGi18EUsP"
      },
      "source": [
        "no total cells"
      ]
    },
    {
      "cell_type": "code",
      "metadata": {
        "colab": {
          "base_uri": "https://localhost:8080/"
        },
        "id": "PX7c6GnLEUk7",
        "outputId": "b3e82e72-f765-48d8-c4bd-5afbdec108fc"
      },
      "source": [
        "from sklearn.metrics import confusion_matrix\n",
        "\n",
        "logisticRegrDF = LogisticRegression(max_iter = 4000,random_state=const_seed)\n",
        "predictor_var1 = ['MRI_lesion_mass','primary_EDSS_at_diagnosis','age_at_diagnosis','TIM3_RQ', 'TIGIT_RQ', 'LAG3_RQ', 'PD-1_RQ', 'Male', 'positive_OCB', 'OTHER_TREATMENT', 'UNTREATED', 'med_IFN','med_TYSABRI']\n",
        "outcome_var = 'SPMS'\n",
        "tn, fp, fn, tp = calcCrossValidation_Matrix(logisticRegrDF, df_untreated, predictor_var1, outcome_var)\n",
        "print(calc_specificity(tn, fp, fn, tp))\n",
        "print(calc_sensitivity(tn, fp, fn, tp))"
      ],
      "execution_count": null,
      "outputs": [
        {
          "output_type": "stream",
          "text": [
            "0.9142857142857143\n",
            "0.5909090909090909\n"
          ],
          "name": "stdout"
        }
      ]
    },
    {
      "cell_type": "code",
      "metadata": {
        "colab": {
          "base_uri": "https://localhost:8080/"
        },
        "id": "FtLgDsUBEUea",
        "outputId": "eae6d777-7816-4cc3-9494-a9c85141832d"
      },
      "source": [
        "from sklearn.metrics import confusion_matrix\n",
        "\n",
        "rf = RandomForestClassifier(n_estimators=25, min_samples_split=9, max_depth=15, max_features='auto',random_state=const_seed)\n",
        "predictor_var1 = ['MRI_lesion_mass','primary_EDSS_at_diagnosis','age_at_diagnosis','TIM3_RQ', 'TIGIT_RQ', 'LAG3_RQ', 'PD-1_RQ', 'Male', 'positive_OCB', 'OTHER_TREATMENT', 'UNTREATED', 'med_IFN','med_TYSABRI']\n",
        "outcome_var = 'SPMS'\n",
        "tn, fp, fn, tp = calcCrossValidation_Matrix(rf, df_untreated, predictor_var1, outcome_var)\n",
        "print(calc_specificity(tn, fp, fn, tp))\n",
        "print(calc_sensitivity(tn, fp, fn, tp))"
      ],
      "execution_count": null,
      "outputs": [
        {
          "output_type": "stream",
          "text": [
            "0.8571428571428571\n",
            "0.5909090909090909\n"
          ],
          "name": "stdout"
        }
      ]
    },
    {
      "cell_type": "markdown",
      "metadata": {
        "id": "bEx_XqKbEUC-"
      },
      "source": [
        "no PD1"
      ]
    },
    {
      "cell_type": "code",
      "metadata": {
        "colab": {
          "base_uri": "https://localhost:8080/"
        },
        "id": "Nr_NJKWvET7n",
        "outputId": "8085e297-72f0-4efa-e7db-b250e1b36d6f"
      },
      "source": [
        "from sklearn.metrics import confusion_matrix\n",
        "\n",
        "logisticRegrDF = LogisticRegression(max_iter = 4000,random_state=const_seed)\n",
        "predictor_var1 = ['MRI_lesion_mass','primary_EDSS_at_diagnosis','age_at_diagnosis','TIM3_RQ', 'TIGIT_RQ', 'LAG3_RQ', 'Male', 'positive_OCB', 'OTHER_TREATMENT', 'UNTREATED', 'med_IFN','med_TYSABRI','cells_total']\n",
        "outcome_var = 'SPMS'\n",
        "tn, fp, fn, tp = calcCrossValidation_Matrix(logisticRegrDF, df_untreated, predictor_var1, outcome_var)\n",
        "print(calc_specificity(tn, fp, fn, tp))\n",
        "print(calc_sensitivity(tn, fp, fn, tp))"
      ],
      "execution_count": null,
      "outputs": [
        {
          "output_type": "stream",
          "text": [
            "0.9142857142857143\n",
            "0.5454545454545454\n"
          ],
          "name": "stdout"
        }
      ]
    },
    {
      "cell_type": "code",
      "metadata": {
        "colab": {
          "base_uri": "https://localhost:8080/"
        },
        "id": "BS2O_KmSET0l",
        "outputId": "6b02008d-4e70-4ceb-e65c-0ac7899c5fe8"
      },
      "source": [
        "from sklearn.metrics import confusion_matrix\n",
        "\n",
        "rf = RandomForestClassifier(n_estimators=25, min_samples_split=9, max_depth=15, max_features='auto',random_state=const_seed)\n",
        "predictor_var1 = ['MRI_lesion_mass','primary_EDSS_at_diagnosis','age_at_diagnosis','TIM3_RQ', 'TIGIT_RQ', 'LAG3_RQ', 'Male', 'positive_OCB', 'OTHER_TREATMENT', 'UNTREATED', 'med_IFN','med_TYSABRI','cells_total']\n",
        "outcome_var = 'SPMS'\n",
        "tn, fp, fn, tp = calcCrossValidation_Matrix(rf, df_untreated, predictor_var1, outcome_var)\n",
        "print(calc_specificity(tn, fp, fn, tp))\n",
        "print(calc_sensitivity(tn, fp, fn, tp))"
      ],
      "execution_count": null,
      "outputs": [
        {
          "output_type": "stream",
          "text": [
            "0.9142857142857143\n",
            "0.6818181818181818\n"
          ],
          "name": "stdout"
        }
      ]
    },
    {
      "cell_type": "markdown",
      "metadata": {
        "id": "pWyaUH-NETrO"
      },
      "source": [
        "no MRI, OCB"
      ]
    },
    {
      "cell_type": "code",
      "metadata": {
        "colab": {
          "base_uri": "https://localhost:8080/"
        },
        "id": "hx-zmQIlETg4",
        "outputId": "2dcc98e3-4167-4436-c7e5-7eada2896500"
      },
      "source": [
        "from sklearn.metrics import confusion_matrix\n",
        "\n",
        "logisticRegrDF = LogisticRegression(max_iter = 4000,random_state=const_seed)\n",
        "predictor_var1 = ['primary_EDSS_at_diagnosis','age_at_diagnosis','TIM3_RQ', 'TIGIT_RQ', 'LAG3_RQ', 'PD-1_RQ', 'Male', 'OTHER_TREATMENT', 'UNTREATED', 'med_IFN','med_TYSABRI','cells_total']\n",
        "outcome_var = 'SPMS'\n",
        "tn, fp, fn, tp = calcCrossValidation_Matrix(logisticRegrDF, df_untreated, predictor_var1, outcome_var)\n",
        "print(calc_specificity(tn, fp, fn, tp))\n",
        "print(calc_sensitivity(tn, fp, fn, tp))"
      ],
      "execution_count": null,
      "outputs": [
        {
          "output_type": "stream",
          "text": [
            "0.9142857142857143\n",
            "0.5\n"
          ],
          "name": "stdout"
        }
      ]
    },
    {
      "cell_type": "code",
      "metadata": {
        "colab": {
          "base_uri": "https://localhost:8080/"
        },
        "id": "iRotdfprETUy",
        "outputId": "938674d3-50b9-4533-dbd0-8e042b904054"
      },
      "source": [
        "from sklearn.metrics import confusion_matrix\n",
        "\n",
        "rf = RandomForestClassifier(n_estimators=25, min_samples_split=9, max_depth=15, max_features='auto',random_state=const_seed)\n",
        "predictor_var1 = ['primary_EDSS_at_diagnosis','age_at_diagnosis','TIM3_RQ', 'TIGIT_RQ', 'LAG3_RQ', 'PD-1_RQ', 'Male', 'OTHER_TREATMENT', 'UNTREATED', 'med_IFN','med_TYSABRI','cells_total']\n",
        "outcome_var = 'SPMS'\n",
        "tn, fp, fn, tp = calcCrossValidation_Matrix(rf, df_untreated, predictor_var1, outcome_var)\n",
        "print(calc_specificity(tn, fp, fn, tp))\n",
        "print(calc_sensitivity(tn, fp, fn, tp))"
      ],
      "execution_count": null,
      "outputs": [
        {
          "output_type": "stream",
          "text": [
            "0.8857142857142857\n",
            "0.6363636363636364\n"
          ],
          "name": "stdout"
        }
      ]
    },
    {
      "cell_type": "markdown",
      "metadata": {
        "id": "w1TLWZsBIPzI"
      },
      "source": [
        "no MRI, LAG3"
      ]
    },
    {
      "cell_type": "code",
      "metadata": {
        "colab": {
          "base_uri": "https://localhost:8080/"
        },
        "id": "2eMFe7qLIPta",
        "outputId": "4b5ab0a7-cf5a-4981-acd7-a1cc26551460"
      },
      "source": [
        "from sklearn.metrics import confusion_matrix\n",
        "\n",
        "logisticRegrDF = LogisticRegression(max_iter = 4000,random_state=const_seed)\n",
        "predictor_var1 = ['primary_EDSS_at_diagnosis','age_at_diagnosis','TIM3_RQ', 'TIGIT_RQ', 'PD-1_RQ', 'Male', 'positive_OCB', 'OTHER_TREATMENT', 'UNTREATED', 'med_IFN','med_TYSABRI','cells_total']\n",
        "outcome_var = 'SPMS'\n",
        "tn, fp, fn, tp = calcCrossValidation_Matrix(logisticRegrDF, df_untreated, predictor_var1, outcome_var)\n",
        "print(calc_specificity(tn, fp, fn, tp))\n",
        "print(calc_sensitivity(tn, fp, fn, tp))"
      ],
      "execution_count": null,
      "outputs": [
        {
          "output_type": "stream",
          "text": [
            "0.9142857142857143\n",
            "0.5454545454545454\n"
          ],
          "name": "stdout"
        }
      ]
    },
    {
      "cell_type": "code",
      "metadata": {
        "colab": {
          "base_uri": "https://localhost:8080/"
        },
        "id": "ImNPrY3DIPoZ",
        "outputId": "3a570887-3e10-4161-f142-def43a961d65"
      },
      "source": [
        "from sklearn.metrics import confusion_matrix\n",
        "\n",
        "rf = RandomForestClassifier(n_estimators=25, min_samples_split=9, max_depth=15, max_features='auto',random_state=const_seed)\n",
        "predictor_var1 = ['primary_EDSS_at_diagnosis','age_at_diagnosis','TIM3_RQ', 'TIGIT_RQ', 'PD-1_RQ', 'Male', 'positive_OCB', 'OTHER_TREATMENT', 'UNTREATED', 'med_IFN','med_TYSABRI','cells_total']\n",
        "outcome_var = 'SPMS'\n",
        "tn, fp, fn, tp = calcCrossValidation_Matrix(rf, df_untreated, predictor_var1, outcome_var)\n",
        "print(calc_specificity(tn, fp, fn, tp))\n",
        "print(calc_sensitivity(tn, fp, fn, tp))"
      ],
      "execution_count": null,
      "outputs": [
        {
          "output_type": "stream",
          "text": [
            "0.9714285714285714\n",
            "0.6363636363636364\n"
          ],
          "name": "stdout"
        }
      ]
    },
    {
      "cell_type": "markdown",
      "metadata": {
        "id": "YMAy8dp1IPgF"
      },
      "source": [
        "no MRI, TIGIT"
      ]
    },
    {
      "cell_type": "code",
      "metadata": {
        "colab": {
          "base_uri": "https://localhost:8080/"
        },
        "id": "noAMgYr4IPXG",
        "outputId": "134f2dcc-4a9f-4560-c11a-f5a7de9ecb7a"
      },
      "source": [
        "from sklearn.metrics import confusion_matrix\n",
        "\n",
        "logisticRegrDF = LogisticRegression(max_iter = 4000,random_state=const_seed)\n",
        "predictor_var1 = ['primary_EDSS_at_diagnosis','age_at_diagnosis','TIM3_RQ', 'LAG3_RQ', 'PD-1_RQ', 'Male', 'positive_OCB', 'OTHER_TREATMENT', 'UNTREATED', 'med_IFN','med_TYSABRI','cells_total']\n",
        "outcome_var = 'SPMS'\n",
        "tn, fp, fn, tp = calcCrossValidation_Matrix(logisticRegrDF, df_untreated, predictor_var1, outcome_var)\n",
        "print(calc_specificity(tn, fp, fn, tp))\n",
        "print(calc_sensitivity(tn, fp, fn, tp))"
      ],
      "execution_count": null,
      "outputs": [
        {
          "output_type": "stream",
          "text": [
            "0.9428571428571428\n",
            "0.5\n"
          ],
          "name": "stdout"
        }
      ]
    },
    {
      "cell_type": "code",
      "metadata": {
        "colab": {
          "base_uri": "https://localhost:8080/"
        },
        "id": "VTlsWknyIPSI",
        "outputId": "fb89a1bd-a1d0-471d-fd54-bd3d9e423ec6"
      },
      "source": [
        "from sklearn.metrics import confusion_matrix\n",
        "\n",
        "rf = RandomForestClassifier(n_estimators=25, min_samples_split=9, max_depth=15, max_features='auto',random_state=const_seed)\n",
        "predictor_var1 = ['primary_EDSS_at_diagnosis','age_at_diagnosis','TIM3_RQ', 'LAG3_RQ', 'PD-1_RQ', 'Male', 'positive_OCB', 'OTHER_TREATMENT', 'UNTREATED', 'med_IFN','med_TYSABRI','cells_total']\n",
        "outcome_var = 'SPMS'\n",
        "tn, fp, fn, tp = calcCrossValidation_Matrix(rf, df_untreated, predictor_var1, outcome_var)\n",
        "print(calc_specificity(tn, fp, fn, tp))\n",
        "print(calc_sensitivity(tn, fp, fn, tp))"
      ],
      "execution_count": null,
      "outputs": [
        {
          "output_type": "stream",
          "text": [
            "0.9714285714285714\n",
            "0.6363636363636364\n"
          ],
          "name": "stdout"
        }
      ]
    },
    {
      "cell_type": "markdown",
      "metadata": {
        "id": "xhgYg1ilIPEl"
      },
      "source": [
        "no MRI, TIM3, LAG3"
      ]
    },
    {
      "cell_type": "code",
      "metadata": {
        "colab": {
          "base_uri": "https://localhost:8080/"
        },
        "id": "AH7dF7H0IO7c",
        "outputId": "cb82b665-4629-4081-8965-9d5856048756"
      },
      "source": [
        "from sklearn.metrics import confusion_matrix\n",
        "\n",
        "logisticRegrDF = LogisticRegression(max_iter = 4000,random_state=const_seed)\n",
        "predictor_var1 = ['primary_EDSS_at_diagnosis','age_at_diagnosis', 'TIGIT_RQ', 'PD-1_RQ', 'Male', 'positive_OCB', 'OTHER_TREATMENT', 'UNTREATED', 'med_IFN','med_TYSABRI','cells_total']\n",
        "outcome_var = 'SPMS'\n",
        "tn, fp, fn, tp = calcCrossValidation_Matrix(logisticRegrDF, df_untreated, predictor_var1, outcome_var)\n",
        "print(calc_specificity(tn, fp, fn, tp))\n",
        "print(calc_sensitivity(tn, fp, fn, tp))"
      ],
      "execution_count": null,
      "outputs": [
        {
          "output_type": "stream",
          "text": [
            "0.9428571428571428\n",
            "0.5454545454545454\n"
          ],
          "name": "stdout"
        }
      ]
    },
    {
      "cell_type": "code",
      "metadata": {
        "colab": {
          "base_uri": "https://localhost:8080/"
        },
        "id": "gGyC40FQIO1I",
        "outputId": "d8fd3e06-8fa7-49b0-ebf5-8e96b0153d78"
      },
      "source": [
        "from sklearn.metrics import confusion_matrix\n",
        "\n",
        "rf = RandomForestClassifier(n_estimators=25, min_samples_split=9, max_depth=15, max_features='auto',random_state=const_seed)\n",
        "predictor_var1 = ['primary_EDSS_at_diagnosis','age_at_diagnosis', 'TIGIT_RQ', 'PD-1_RQ', 'Male', 'positive_OCB', 'OTHER_TREATMENT', 'UNTREATED', 'med_IFN','med_TYSABRI','cells_total']\n",
        "outcome_var = 'SPMS'\n",
        "tn, fp, fn, tp = calcCrossValidation_Matrix(rf, df_untreated, predictor_var1, outcome_var)\n",
        "print(calc_specificity(tn, fp, fn, tp))\n",
        "print(calc_sensitivity(tn, fp, fn, tp))"
      ],
      "execution_count": null,
      "outputs": [
        {
          "output_type": "stream",
          "text": [
            "0.8857142857142857\n",
            "0.5454545454545454\n"
          ],
          "name": "stdout"
        }
      ]
    },
    {
      "cell_type": "markdown",
      "metadata": {
        "id": "9xsp9K6EIOlZ"
      },
      "source": [
        "no MRI, TIM3, TIGIT"
      ]
    },
    {
      "cell_type": "code",
      "metadata": {
        "colab": {
          "base_uri": "https://localhost:8080/"
        },
        "id": "P9dGWr2IIN-o",
        "outputId": "2679b04e-2ed9-4d8b-8ffc-4dc005eb90b5"
      },
      "source": [
        "from sklearn.metrics import confusion_matrix\n",
        "\n",
        "logisticRegrDF = LogisticRegression(max_iter = 4000,random_state=const_seed)\n",
        "predictor_var1 = ['primary_EDSS_at_diagnosis','age_at_diagnosis', 'LAG3_RQ', 'PD-1_RQ', 'Male', 'positive_OCB', 'OTHER_TREATMENT', 'UNTREATED', 'med_IFN','med_TYSABRI','cells_total']\n",
        "outcome_var = 'SPMS'\n",
        "tn, fp, fn, tp = calcCrossValidation_Matrix(logisticRegrDF, df_untreated, predictor_var1, outcome_var)\n",
        "print(calc_specificity(tn, fp, fn, tp))\n",
        "print(calc_sensitivity(tn, fp, fn, tp))"
      ],
      "execution_count": null,
      "outputs": [
        {
          "output_type": "stream",
          "text": [
            "0.9142857142857143\n",
            "0.5454545454545454\n"
          ],
          "name": "stdout"
        }
      ]
    },
    {
      "cell_type": "code",
      "metadata": {
        "colab": {
          "base_uri": "https://localhost:8080/"
        },
        "id": "tBnR7zDuIN5i",
        "outputId": "902236af-a551-48a6-84d5-afd2d902d1ae"
      },
      "source": [
        "from sklearn.metrics import confusion_matrix\n",
        "\n",
        "rf = RandomForestClassifier(n_estimators=25, min_samples_split=9, max_depth=15, max_features='auto',random_state=const_seed)\n",
        "predictor_var1 = ['primary_EDSS_at_diagnosis','age_at_diagnosis', 'LAG3_RQ', 'PD-1_RQ', 'Male', 'positive_OCB', 'OTHER_TREATMENT', 'UNTREATED', 'med_IFN','med_TYSABRI','cells_total']\n",
        "outcome_var = 'SPMS'\n",
        "tn, fp, fn, tp = calcCrossValidation_Matrix(rf, df_untreated, predictor_var1, outcome_var)\n",
        "print(calc_specificity(tn, fp, fn, tp))\n",
        "print(calc_sensitivity(tn, fp, fn, tp))"
      ],
      "execution_count": null,
      "outputs": [
        {
          "output_type": "stream",
          "text": [
            "0.8285714285714286\n",
            "0.5909090909090909\n"
          ],
          "name": "stdout"
        }
      ]
    },
    {
      "cell_type": "markdown",
      "metadata": {
        "id": "_5dqKuAnINXO"
      },
      "source": [
        "no MRI, TIGIT, LAG3"
      ]
    },
    {
      "cell_type": "code",
      "metadata": {
        "colab": {
          "base_uri": "https://localhost:8080/"
        },
        "id": "BMyiyAP5INQJ",
        "outputId": "065e35da-582c-4e25-abe0-3bdb4426dde7"
      },
      "source": [
        "from sklearn.metrics import confusion_matrix\n",
        "\n",
        "logisticRegrDF = LogisticRegression(max_iter = 4000,random_state=const_seed)\n",
        "predictor_var1 = ['primary_EDSS_at_diagnosis','age_at_diagnosis','TIM3_RQ', 'PD-1_RQ', 'Male', 'positive_OCB', 'OTHER_TREATMENT', 'UNTREATED', 'med_IFN','med_TYSABRI','cells_total']\n",
        "outcome_var = 'SPMS'\n",
        "tn, fp, fn, tp = calcCrossValidation_Matrix(logisticRegrDF, df_untreated, predictor_var1, outcome_var)\n",
        "print(calc_specificity(tn, fp, fn, tp))\n",
        "print(calc_sensitivity(tn, fp, fn, tp))"
      ],
      "execution_count": null,
      "outputs": [
        {
          "output_type": "stream",
          "text": [
            "0.9142857142857143\n",
            "0.5909090909090909\n"
          ],
          "name": "stdout"
        }
      ]
    },
    {
      "cell_type": "code",
      "metadata": {
        "colab": {
          "base_uri": "https://localhost:8080/"
        },
        "id": "MvFYRZzPINIE",
        "outputId": "c2528d1b-398e-434f-c406-8164a92241af"
      },
      "source": [
        "from sklearn.metrics import confusion_matrix\n",
        "\n",
        "rf = RandomForestClassifier(n_estimators=25, min_samples_split=9, max_depth=15, max_features='auto',random_state=const_seed)\n",
        "predictor_var1 = ['primary_EDSS_at_diagnosis','age_at_diagnosis','TIM3_RQ', 'PD-1_RQ', 'Male', 'positive_OCB', 'OTHER_TREATMENT', 'UNTREATED', 'med_IFN','med_TYSABRI','cells_total']\n",
        "outcome_var = 'SPMS'\n",
        "tn, fp, fn, tp = calcCrossValidation_Matrix(rf, df_untreated, predictor_var1, outcome_var)\n",
        "print(calc_specificity(tn, fp, fn, tp))\n",
        "print(calc_sensitivity(tn, fp, fn, tp))"
      ],
      "execution_count": null,
      "outputs": [
        {
          "output_type": "stream",
          "text": [
            "0.8857142857142857\n",
            "0.5909090909090909\n"
          ],
          "name": "stdout"
        }
      ]
    }
  ]
}