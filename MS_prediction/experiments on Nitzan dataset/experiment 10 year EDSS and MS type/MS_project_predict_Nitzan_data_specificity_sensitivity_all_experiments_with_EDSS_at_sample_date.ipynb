{
  "nbformat": 4,
  "nbformat_minor": 0,
  "metadata": {
    "colab": {
      "name": "MS project - predict_Nitzan_data specificity_sensitivity_all_experiments - with EDSS at sample date",
      "provenance": [],
      "collapsed_sections": []
    },
    "kernelspec": {
      "name": "python3",
      "display_name": "Python 3"
    }
  },
  "cells": [
    {
      "cell_type": "markdown",
      "metadata": {
        "id": "M6tv6Y_weQ8z"
      },
      "source": [
        "import all the relevant libraries"
      ]
    },
    {
      "cell_type": "code",
      "metadata": {
        "id": "-z7hXJSeptCa"
      },
      "source": [
        "import pandas as pd\n",
        "import numpy as np\n",
        "import matplotlib.pyplot as plt\n",
        "import statistics as stats\n",
        "import io\n",
        "from sklearn.metrics import mean_squared_error\n",
        "from math import sqrt\n",
        "from sklearn.preprocessing import LabelEncoder\n",
        "from sklearn.model_selection import KFold\n",
        "from sklearn.ensemble import RandomForestRegressor\n",
        "from sklearn.ensemble import RandomForestClassifier\n",
        "from sklearn.linear_model import LogisticRegression\n",
        "from sklearn import metrics\n",
        "from sklearn.model_selection import train_test_split\n"
      ],
      "execution_count": null,
      "outputs": []
    },
    {
      "cell_type": "markdown",
      "metadata": {
        "id": "ugA1NC9JIkaQ"
      },
      "source": [
        "upload the db file"
      ]
    },
    {
      "cell_type": "code",
      "metadata": {
        "id": "tTM3VXFdxXAg",
        "colab": {
          "base_uri": "https://localhost:8080/"
        },
        "outputId": "cdb9d369-fa05-48e3-ff2f-55398a2e3b3b"
      },
      "source": [
        "from google.colab import drive \n",
        "drive.mount('/content/gdrive')"
      ],
      "execution_count": null,
      "outputs": [
        {
          "output_type": "stream",
          "text": [
            "Drive already mounted at /content/gdrive; to attempt to forcibly remount, call drive.mount(\"/content/gdrive\", force_remount=True).\n"
          ],
          "name": "stdout"
        }
      ]
    },
    {
      "cell_type": "code",
      "metadata": {
        "id": "qxFu0jcL-D_c"
      },
      "source": [
        "pd.set_option('display.max_columns', None)\n",
        "pd.set_option('display.max_rows', None)"
      ],
      "execution_count": null,
      "outputs": []
    },
    {
      "cell_type": "markdown",
      "metadata": {
        "id": "L0yo_SQNZKME"
      },
      "source": [
        "read the file and create data frame"
      ]
    },
    {
      "cell_type": "markdown",
      "metadata": {
        "id": "lrhxOCvRkUmo"
      },
      "source": [
        "# helper functions"
      ]
    },
    {
      "cell_type": "code",
      "metadata": {
        "id": "ZmZIcqibsCHW"
      },
      "source": [
        "def calcCrossValidation_Matrix(model, df, predictors, outcome):\n",
        "\n",
        "  total_tp = 0\n",
        "  total_tn = 0\n",
        "  total_fp = 0\n",
        "  total_fn = 0\n",
        "\n",
        "  # Perform k-fold cross-validation with 10 folds\n",
        "  kf = KFold(n_splits=df.shape[0])\n",
        "  accuracy = []\n",
        "  for train, test in kf.split(df):\n",
        "      # print(\"1\")\n",
        "\n",
        "      # Filter training data\n",
        "      train_predictors = (df[predictors].iloc[train, :])\n",
        "      # The target we're using to train the algorithm.\n",
        "      train_target = df[outcome].iloc[train]\n",
        "      # print(\"1\")\n",
        "\n",
        "      test_predictors = (df[predictors].iloc[test, :])\n",
        "      # The target we're using to train the algorithm.\n",
        "      test_target = df[outcome].iloc[test]\n",
        "      # print(\"1\")\n",
        "\n",
        "\n",
        "      # Training the algorithm using the predictors and target.\n",
        "      model.fit(train_predictors, train_target)\n",
        "      predictions = model.predict(test_predictors)\n",
        "      # cm = confusion_matrix(test_target, predictions)\n",
        "      # print(cm)\n",
        "      # print(\"1\")\n",
        "      # print(\"test_target\")\n",
        "      test_target = test_target.to_numpy()\n",
        "      # print(test_target)\n",
        "      # np.array(df[outcome].values.tolist())\n",
        "      # print(type(test_target))\n",
        "      # print(\"predictions\")\n",
        "      # print(predictions)\n",
        "      # print(type(predictions))\n",
        "\n",
        "      tn, fp, fn, tp = perf_measure(test_target, predictions)\n",
        "      # print(\"1\")\n",
        "\n",
        "      total_tp += tp\n",
        "      total_tn += tn\n",
        "      total_fp += fp\n",
        "      total_fn += fn\n",
        "\n",
        "  # print(total_tn, total_fp, total_fn, total_tp)\n",
        "  return total_tn, total_fp, total_fn, total_tp "
      ],
      "execution_count": null,
      "outputs": []
    },
    {
      "cell_type": "code",
      "metadata": {
        "id": "QmkOlEBaYWIh"
      },
      "source": [
        "def perf_measure(y_actual, y_hat):\n",
        "    TP = 0\n",
        "    FP = 0\n",
        "    TN = 0\n",
        "    FN = 0\n",
        "\n",
        "    for i in range(len(y_hat)): \n",
        "        if y_actual[i]==y_hat[i]==1:\n",
        "           TP += 1\n",
        "        if y_hat[i]==1 and y_actual[i]!=y_hat[i]:\n",
        "           FP += 1\n",
        "        if y_actual[i]==y_hat[i]==0:\n",
        "           TN += 1\n",
        "        if y_hat[i]==0 and y_actual[i]!=y_hat[i]:\n",
        "           FN += 1\n",
        "    # print(TN, FP, FN, TP)\n",
        "    return(TN, FP, FN, TP)"
      ],
      "execution_count": null,
      "outputs": []
    },
    {
      "cell_type": "code",
      "metadata": {
        "id": "0n-dU50HohOo"
      },
      "source": [
        "def calc_specificity(tn, fp, fn, tp):\n",
        "  return tn / (tn +fp)"
      ],
      "execution_count": null,
      "outputs": []
    },
    {
      "cell_type": "code",
      "metadata": {
        "id": "RqfyFAOYpXdx"
      },
      "source": [
        "def calc_sensitivity(tn, fp, fn, tp):\n",
        "  return tp / (tp +fn)"
      ],
      "execution_count": null,
      "outputs": []
    },
    {
      "cell_type": "markdown",
      "metadata": {
        "id": "TpsdJVblGsno"
      },
      "source": [
        "#Nitzan experiments - with EDSS at sample date"
      ]
    },
    {
      "cell_type": "code",
      "metadata": {
        "id": "tx10RrbvpXzS"
      },
      "source": [
        "const_seed = 42"
      ],
      "execution_count": null,
      "outputs": []
    },
    {
      "cell_type": "code",
      "metadata": {
        "id": "ji-nN9tpxSGm",
        "colab": {
          "base_uri": "https://localhost:8080/"
        },
        "outputId": "285cb34d-7709-49fc-f23b-a2fcba300c27"
      },
      "source": [
        "df_untreated = pd.read_pickle(\"/content/gdrive/My Drive/Colab Notebooks/MS_Notebooks/DFDB1Final.pkl\")\n",
        "\n",
        "\n",
        "print(df_untreated.shape[0])\n"
      ],
      "execution_count": null,
      "outputs": [
        {
          "output_type": "stream",
          "text": [
            "57\n"
          ],
          "name": "stdout"
        }
      ]
    },
    {
      "cell_type": "code",
      "metadata": {
        "colab": {
          "base_uri": "https://localhost:8080/"
        },
        "id": "xLQS6HQcyfo-",
        "outputId": "678ff235-83ef-43a8-ad5a-a1f64a738a19"
      },
      "source": [
        "df_untreated.shape"
      ],
      "execution_count": null,
      "outputs": [
        {
          "output_type": "execute_result",
          "data": {
            "text/plain": [
              "(57, 36)"
            ]
          },
          "metadata": {
            "tags": []
          },
          "execution_count": 110
        }
      ]
    },
    {
      "cell_type": "code",
      "metadata": {
        "id": "GyD-p5HZzSQ_"
      },
      "source": [
        "# categorical_features = ['gender','oligoclonal_band','diagnosis']\n",
        "# df_untreated = pd.get_dummies(df_untreated, columns=categorical_features, drop_first=True)\n",
        "# df_untreated.drop(['treatment_when_sample_was_taken', 'sample_code'], axis='columns', inplace=True)\n",
        "df_untreated = df_untreated[['MRI_lesion_mass','primary_EDSS_at_diagnosis','primary_EDSS_at_sample_date','1_years_EDSS','age_at_diagnosis','TIM3_RQ', 'TIGIT_RQ', 'LAG3_RQ', 'PD-1_RQ', 'Male', 'positive_OCB', 'OTHER_TREATMENT', 'UNTREATED', 'med_IFN','med_TYSABRI','cells_total', 'SPMS']]\n",
        "df_untreated\n"
      ],
      "execution_count": null,
      "outputs": []
    },
    {
      "cell_type": "code",
      "metadata": {
        "colab": {
          "base_uri": "https://localhost:8080/"
        },
        "id": "RoLPCr_VLI9n",
        "outputId": "261efd98-8798-4b76-f47e-205c7a1a99ab"
      },
      "source": [
        "df_untreated.shape"
      ],
      "execution_count": null,
      "outputs": [
        {
          "output_type": "execute_result",
          "data": {
            "text/plain": [
              "(57, 17)"
            ]
          },
          "metadata": {
            "tags": []
          },
          "execution_count": 112
        }
      ]
    },
    {
      "cell_type": "code",
      "metadata": {
        "colab": {
          "base_uri": "https://localhost:8080/"
        },
        "id": "t9kJXvTXAfI7",
        "outputId": "50f99c90-200d-4cd5-d67c-a6d1506ee420"
      },
      "source": [
        "df_untreated.columns.values"
      ],
      "execution_count": null,
      "outputs": [
        {
          "output_type": "execute_result",
          "data": {
            "text/plain": [
              "array(['MRI_lesion_mass', 'primary_EDSS_at_diagnosis',\n",
              "       'primary_EDSS_at_sample_date', '1_years_EDSS', 'age_at_diagnosis',\n",
              "       'TIM3_RQ', 'TIGIT_RQ', 'LAG3_RQ', 'PD-1_RQ', 'Male',\n",
              "       'positive_OCB', 'OTHER_TREATMENT', 'UNTREATED', 'med_IFN',\n",
              "       'med_TYSABRI', 'cells_total', 'SPMS'], dtype=object)"
            ]
          },
          "metadata": {
            "tags": []
          },
          "execution_count": 113
        }
      ]
    },
    {
      "cell_type": "markdown",
      "metadata": {
        "id": "UCDUgSXbMo5J"
      },
      "source": [
        "all features"
      ]
    },
    {
      "cell_type": "code",
      "metadata": {
        "id": "ibqfPzH4z9Q0"
      },
      "source": [
        "def min_max_normalize_features(dataframe, numeric_list):\n",
        "    for num_feature in numeric_list:\n",
        "        dataframe[num_feature] = (dataframe[num_feature] - dataframe[num_feature].min()) / (\n",
        "                dataframe[num_feature].max() - dataframe[num_feature].min())\n",
        "    return dataframe"
      ],
      "execution_count": null,
      "outputs": []
    },
    {
      "cell_type": "code",
      "metadata": {
        "id": "cHu-k3-E0bSG"
      },
      "source": [
        "numeric_features = ['MRI_lesion_mass', 'primary_EDSS_at_diagnosis','primary_EDSS_at_sample_date','age_at_diagnosis','TIM3_RQ','TIGIT_RQ','LAG3_RQ','PD-1_RQ']\n",
        "df_untreated = min_max_normalize_features(df_untreated, numeric_features)\n",
        "df_untreated"
      ],
      "execution_count": null,
      "outputs": []
    },
    {
      "cell_type": "code",
      "metadata": {
        "colab": {
          "base_uri": "https://localhost:8080/"
        },
        "id": "A2in3A1wmoVh",
        "outputId": "f750bea2-2fed-422b-c3ad-074843bee206"
      },
      "source": [
        "df_untreated.columns"
      ],
      "execution_count": null,
      "outputs": [
        {
          "output_type": "execute_result",
          "data": {
            "text/plain": [
              "Index(['MRI_lesion_mass', 'primary_EDSS_at_diagnosis',\n",
              "       'primary_EDSS_at_sample_date', '1_years_EDSS', 'age_at_diagnosis',\n",
              "       'TIM3_RQ', 'TIGIT_RQ', 'LAG3_RQ', 'PD-1_RQ', 'Male', 'positive_OCB',\n",
              "       'OTHER_TREATMENT', 'UNTREATED', 'med_IFN', 'med_TYSABRI', 'cells_total',\n",
              "       'SPMS'],\n",
              "      dtype='object')"
            ]
          },
          "metadata": {
            "tags": []
          },
          "execution_count": 116
        }
      ]
    },
    {
      "cell_type": "markdown",
      "metadata": {
        "id": "BK4lt02vnrd4"
      },
      "source": [
        "all features"
      ]
    },
    {
      "cell_type": "code",
      "metadata": {
        "colab": {
          "base_uri": "https://localhost:8080/"
        },
        "id": "zISrNTfN3Sfr",
        "outputId": "e1a5ce45-96eb-4c84-bc1a-df8e30064616"
      },
      "source": [
        "from sklearn.metrics import confusion_matrix\n",
        "\n",
        "logisticRegrDF = LogisticRegression(max_iter = 4000,random_state=const_seed)\n",
        "predictor_var1 = ['MRI_lesion_mass','primary_EDSS_at_diagnosis','primary_EDSS_at_sample_date','age_at_diagnosis','TIM3_RQ', 'TIGIT_RQ', 'LAG3_RQ', 'PD-1_RQ', 'Male', 'positive_OCB', 'OTHER_TREATMENT', 'UNTREATED', 'med_IFN','med_TYSABRI','cells_total']\n",
        "outcome_var = 'SPMS'\n",
        "tn, fp, fn, tp = calcCrossValidation_Matrix(logisticRegrDF, df_untreated, predictor_var1, outcome_var)\n",
        "print(calc_specificity(tn, fp, fn, tp))\n",
        "print(calc_sensitivity(tn, fp, fn, tp))\n",
        "coefficients = pd.concat([pd.DataFrame(predictor_var1), pd.DataFrame(np.transpose(logisticRegrDF.coef_))], axis=1)\n",
        "coefficients.columns = ['feature_name', 'coefficient_val']\n",
        "coefficients = coefficients.sort_values(by=['coefficient_val'], ascending=False)\n",
        "coefficients.to_excel('coef_no_abs.xlsx')\n",
        "coefficients['coefficient_val'] = coefficients['coefficient_val'].abs()\n",
        "\n",
        "coefficients = coefficients.sort_values(by=['coefficient_val'], ascending=False)\n",
        "coefficients.to_excel('coef_abs.xlsx')\n",
        "\n",
        "print(coefficients)\n"
      ],
      "execution_count": null,
      "outputs": [
        {
          "output_type": "stream",
          "text": [
            "0.9428571428571428\n",
            "0.7272727272727273\n",
            "                   feature_name  coefficient_val\n",
            "2   primary_EDSS_at_sample_date         2.118495\n",
            "1     primary_EDSS_at_diagnosis         1.678052\n",
            "3              age_at_diagnosis         1.098005\n",
            "8                          Male         0.731981\n",
            "4                       TIM3_RQ         0.731165\n",
            "0               MRI_lesion_mass         0.618647\n",
            "6                       LAG3_RQ         0.518805\n",
            "9                  positive_OCB         0.449617\n",
            "7                       PD-1_RQ         0.148516\n",
            "11                    UNTREATED         0.133040\n",
            "13                  med_TYSABRI         0.131766\n",
            "14                  cells_total         0.085247\n",
            "10              OTHER_TREATMENT         0.074264\n",
            "12                      med_IFN         0.072873\n",
            "5                      TIGIT_RQ         0.046091\n"
          ],
          "name": "stdout"
        }
      ]
    },
    {
      "cell_type": "code",
      "metadata": {
        "colab": {
          "base_uri": "https://localhost:8080/",
          "height": 592
        },
        "id": "iZgWqqmcJmgI",
        "outputId": "ec4ebf22-e557-457a-eaaf-f2b564df31c2"
      },
      "source": [
        "from sklearn.metrics import confusion_matrix\n",
        "import numpy as np\n",
        "import matplotlib.pyplot as plt\n",
        "\n",
        "from sklearn.datasets import make_classification\n",
        "from sklearn.ensemble import ExtraTreesClassifier\n",
        "\n",
        "\n",
        "rf = RandomForestClassifier(n_estimators=25, min_samples_split=9, max_depth=15, max_features='auto',random_state=const_seed)\n",
        "predictor_var1 = ['MRI_lesion_mass','primary_EDSS_at_diagnosis','primary_EDSS_at_sample_date','age_at_diagnosis','TIM3_RQ', 'TIGIT_RQ', 'LAG3_RQ', 'PD-1_RQ', 'Male', 'positive_OCB', 'OTHER_TREATMENT', 'UNTREATED', 'med_IFN','med_TYSABRI','cells_total']\n",
        "outcome_var = 'SPMS'\n",
        "tn, fp, fn, tp = calcCrossValidation_Matrix(rf, df_untreated, predictor_var1, outcome_var)\n",
        "print(calc_specificity(tn, fp, fn, tp))\n",
        "print(calc_sensitivity(tn, fp, fn, tp))\n",
        "# importances = rf.feature_importances_\n",
        "# importances\n",
        "importances = rf.feature_importances_\n",
        "std = np.std([tree.feature_importances_ for tree in rf.estimators_],\n",
        "             axis=0)\n",
        "indices = np.argsort(importances)[::-1]\n",
        "\n",
        "# Print the feature ranking\n",
        "print(\"Feature ranking:\")\n",
        "\n",
        "for f in range(len(predictor_var1)):\n",
        "    print(\"%d. feature %d %s (%f)\" % (f + 1, indices[f],predictor_var1[indices[f]], importances[indices[f]]))\n",
        "\n",
        "# Plot the impurity-based feature importances of the forest\n",
        "plt.figure()\n",
        "plt.title(\"Feature importances\")\n",
        "plt.bar(range(len(predictor_var1)), importances[indices],\n",
        "        color=\"r\", yerr=std[indices], align=\"center\")\n",
        "plt.xticks(range(len(predictor_var1)), indices)\n",
        "plt.xlim([-1, len(predictor_var1)])\n",
        "plt.show()\n"
      ],
      "execution_count": null,
      "outputs": [
        {
          "output_type": "stream",
          "text": [
            "0.9428571428571428\n",
            "0.6818181818181818\n",
            "Feature ranking:\n",
            "1. feature 2 primary_EDSS_at_sample_date (0.320035)\n",
            "2. feature 1 primary_EDSS_at_diagnosis (0.224224)\n",
            "3. feature 3 age_at_diagnosis (0.127940)\n",
            "4. feature 5 TIGIT_RQ (0.066962)\n",
            "5. feature 4 TIM3_RQ (0.060228)\n",
            "6. feature 6 LAG3_RQ (0.056303)\n",
            "7. feature 0 MRI_lesion_mass (0.046665)\n",
            "8. feature 7 PD-1_RQ (0.030398)\n",
            "9. feature 14 cells_total (0.025437)\n",
            "10. feature 8 Male (0.019519)\n",
            "11. feature 9 positive_OCB (0.007048)\n",
            "12. feature 10 OTHER_TREATMENT (0.006859)\n",
            "13. feature 11 UNTREATED (0.004946)\n",
            "14. feature 12 med_IFN (0.001781)\n",
            "15. feature 13 med_TYSABRI (0.001655)\n"
          ],
          "name": "stdout"
        },
        {
          "output_type": "display_data",
          "data": {
            "image/png": "[encoded data removed]",
            "text/plain": [
              "<Figure size 432x288 with 1 Axes>"
            ]
          },
          "metadata": {
            "tags": [],
            "needs_background": "light"
          }
        }
      ]
    },
    {
      "cell_type": "code",
      "metadata": {
        "id": "HjUnsRBQXDS2"
      },
      "source": [
        ""
      ],
      "execution_count": null,
      "outputs": []
    },
    {
      "cell_type": "markdown",
      "metadata": {
        "id": "XvUq3hHyMrAy"
      },
      "source": [
        "no genes"
      ]
    },
    {
      "cell_type": "code",
      "metadata": {
        "id": "YO03kv6QMPhT",
        "colab": {
          "base_uri": "https://localhost:8080/"
        },
        "outputId": "ec14f412-0e63-4a47-960f-f454ce89ff39"
      },
      "source": [
        "from sklearn.metrics import confusion_matrix\n",
        "\n",
        "logisticRegrDF = LogisticRegression(max_iter = 4000,random_state=const_seed)\n",
        "predictor_var1 = ['MRI_lesion_mass','primary_EDSS_at_diagnosis','primary_EDSS_at_sample_date','age_at_diagnosis', 'Male', 'positive_OCB', 'OTHER_TREATMENT', 'UNTREATED', 'med_IFN','med_TYSABRI','cells_total']\n",
        "outcome_var = 'SPMS'\n",
        "tn, fp, fn, tp = calcCrossValidation_Matrix(logisticRegrDF, df_untreated, predictor_var1, outcome_var)\n",
        "print(calc_specificity(tn, fp, fn, tp))\n",
        "print(calc_sensitivity(tn, fp, fn, tp))\n",
        "coefficients = pd.concat([pd.DataFrame(predictor_var1), pd.DataFrame(np.transpose(logisticRegrDF.coef_))], axis=1)\n",
        "coefficients.columns = ['feature_name', 'coefficient_val']\n",
        "coefficients = coefficients.sort_values(by=['coefficient_val'], ascending=False)\n",
        "coefficients.to_excel('coef_no_abs.xlsx')\n",
        "coefficients['coefficient_val'] = coefficients['coefficient_val'].abs()\n",
        "\n",
        "coefficients = coefficients.sort_values(by=['coefficient_val'], ascending=False)\n",
        "coefficients.to_excel('coef_abs.xlsx')\n",
        "\n",
        "print(coefficients) "
      ],
      "execution_count": null,
      "outputs": [
        {
          "output_type": "stream",
          "text": [
            "0.9428571428571428\n",
            "0.7272727272727273\n",
            "                   feature_name  coefficient_val\n",
            "2   primary_EDSS_at_sample_date         2.134237\n",
            "1     primary_EDSS_at_diagnosis         1.637731\n",
            "3              age_at_diagnosis         1.117041\n",
            "4                          Male         0.773730\n",
            "0               MRI_lesion_mass         0.720542\n",
            "5                  positive_OCB         0.454888\n",
            "7                     UNTREATED         0.170233\n",
            "6               OTHER_TREATMENT         0.120862\n",
            "9                   med_TYSABRI         0.114863\n",
            "10                  cells_total         0.076049\n",
            "8                       med_IFN         0.065452\n"
          ],
          "name": "stdout"
        }
      ]
    },
    {
      "cell_type": "code",
      "metadata": {
        "id": "YdACYxsIMcwc",
        "colab": {
          "base_uri": "https://localhost:8080/"
        },
        "outputId": "0e08ef1a-c356-4329-f552-8e41298ea764"
      },
      "source": [
        "from sklearn.metrics import confusion_matrix\n",
        "\n",
        "rf = RandomForestClassifier(n_estimators=25, min_samples_split=9, max_depth=15, max_features='auto',random_state=const_seed)\n",
        "predictor_var1 = ['MRI_lesion_mass','primary_EDSS_at_diagnosis','primary_EDSS_at_sample_date','age_at_diagnosis', 'Male', 'positive_OCB', 'OTHER_TREATMENT', 'UNTREATED', 'med_IFN','med_TYSABRI','cells_total']\n",
        "outcome_var = 'SPMS'\n",
        "tn, fp, fn, tp = calcCrossValidation_Matrix(rf, df_untreated, predictor_var1, outcome_var)\n",
        "print(calc_specificity(tn, fp, fn, tp))\n",
        "print(calc_sensitivity(tn, fp, fn, tp))"
      ],
      "execution_count": null,
      "outputs": [
        {
          "output_type": "stream",
          "text": [
            "0.9142857142857143\n",
            "0.7727272727272727\n"
          ],
          "name": "stdout"
        }
      ]
    },
    {
      "cell_type": "markdown",
      "metadata": {
        "id": "OPAnJHWDMs15"
      },
      "source": [
        "no TIM3"
      ]
    },
    {
      "cell_type": "code",
      "metadata": {
        "id": "SEn1xbC1Mj2U",
        "colab": {
          "base_uri": "https://localhost:8080/"
        },
        "outputId": "c42c337a-23f1-42d3-84e2-3896afdf37ed"
      },
      "source": [
        "from sklearn.metrics import confusion_matrix\n",
        "\n",
        "logisticRegrDF = LogisticRegression(max_iter = 4000,random_state=const_seed)\n",
        "predictor_var1 = ['MRI_lesion_mass','primary_EDSS_at_diagnosis','primary_EDSS_at_sample_date','age_at_diagnosis', 'TIGIT_RQ', 'LAG3_RQ', 'PD-1_RQ', 'Male', 'positive_OCB', 'OTHER_TREATMENT', 'UNTREATED', 'med_IFN','med_TYSABRI','cells_total']\n",
        "outcome_var = 'SPMS'\n",
        "tn, fp, fn, tp = calcCrossValidation_Matrix(logisticRegrDF, df_untreated, predictor_var1, outcome_var)\n",
        "print(calc_specificity(tn, fp, fn, tp))\n",
        "print(calc_sensitivity(tn, fp, fn, tp))\n"
      ],
      "execution_count": null,
      "outputs": [
        {
          "output_type": "stream",
          "text": [
            "0.9428571428571428\n",
            "0.7272727272727273\n"
          ],
          "name": "stdout"
        }
      ]
    },
    {
      "cell_type": "code",
      "metadata": {
        "id": "Gd6wyEHoMxa-",
        "colab": {
          "base_uri": "https://localhost:8080/"
        },
        "outputId": "293043b0-1248-4403-fe4d-e136c27841c3"
      },
      "source": [
        "from sklearn.metrics import confusion_matrix\n",
        "\n",
        "rf = RandomForestClassifier(n_estimators=25, min_samples_split=9, max_depth=15, max_features='auto',random_state=const_seed)\n",
        "predictor_var1 = ['MRI_lesion_mass','primary_EDSS_at_diagnosis','primary_EDSS_at_sample_date','age_at_diagnosis', 'TIGIT_RQ', 'LAG3_RQ', 'PD-1_RQ', 'Male', 'positive_OCB', 'OTHER_TREATMENT', 'UNTREATED', 'med_IFN','med_TYSABRI','cells_total']\n",
        "outcome_var = 'SPMS'\n",
        "tn, fp, fn, tp = calcCrossValidation_Matrix(rf, df_untreated, predictor_var1, outcome_var)\n",
        "print(calc_specificity(tn, fp, fn, tp))\n",
        "print(calc_sensitivity(tn, fp, fn, tp))"
      ],
      "execution_count": null,
      "outputs": [
        {
          "output_type": "stream",
          "text": [
            "0.9142857142857143\n",
            "0.6818181818181818\n"
          ],
          "name": "stdout"
        }
      ]
    },
    {
      "cell_type": "markdown",
      "metadata": {
        "id": "LJOvAqKzM50E"
      },
      "source": [
        "no TIGIT_RQ"
      ]
    },
    {
      "cell_type": "code",
      "metadata": {
        "id": "zzsTulskM5FN",
        "colab": {
          "base_uri": "https://localhost:8080/"
        },
        "outputId": "e9916f80-2ff9-45b6-aa41-e659b8fb5205"
      },
      "source": [
        "from sklearn.metrics import confusion_matrix\n",
        "\n",
        "logisticRegrDF = LogisticRegression(max_iter = 4000,random_state=const_seed)\n",
        "predictor_var1 = ['MRI_lesion_mass','primary_EDSS_at_diagnosis','primary_EDSS_at_sample_date','age_at_diagnosis','TIM3_RQ', 'LAG3_RQ', 'PD-1_RQ', 'Male', 'positive_OCB', 'OTHER_TREATMENT', 'UNTREATED', 'med_IFN','med_TYSABRI','cells_total']\n",
        "outcome_var = 'SPMS'\n",
        "tn, fp, fn, tp = calcCrossValidation_Matrix(logisticRegrDF, df_untreated, predictor_var1, outcome_var)\n",
        "print(calc_specificity(tn, fp, fn, tp))\n",
        "print(calc_sensitivity(tn, fp, fn, tp))\n",
        "coefficients = pd.concat([pd.DataFrame(predictor_var1), pd.DataFrame(np.transpose(logisticRegrDF.coef_))], axis=1)\n",
        "coefficients.columns = ['feature_name', 'coefficient_val']\n",
        "coefficients = coefficients.sort_values(by=['coefficient_val'], ascending=False)\n",
        "coefficients.to_excel('coef_no_abs.xlsx')\n",
        "coefficients['coefficient_val'] = coefficients['coefficient_val'].abs()\n",
        "\n",
        "coefficients = coefficients.sort_values(by=['coefficient_val'], ascending=False)\n",
        "coefficients.to_excel('coef_abs.xlsx')\n",
        "\n",
        "print(coefficients)"
      ],
      "execution_count": null,
      "outputs": [
        {
          "output_type": "stream",
          "text": [
            "0.9714285714285714\n",
            "0.7272727272727273\n",
            "                   feature_name  coefficient_val\n",
            "2   primary_EDSS_at_sample_date         2.117434\n",
            "1     primary_EDSS_at_diagnosis         1.677473\n",
            "3              age_at_diagnosis         1.098721\n",
            "4                       TIM3_RQ         0.737167\n",
            "7                          Male         0.727884\n",
            "0               MRI_lesion_mass         0.624061\n",
            "5                       LAG3_RQ         0.509681\n",
            "8                  positive_OCB         0.448264\n",
            "6                       PD-1_RQ         0.148776\n",
            "10                    UNTREATED         0.134546\n",
            "12                  med_TYSABRI         0.133666\n",
            "13                  cells_total         0.085046\n",
            "9               OTHER_TREATMENT         0.074424\n",
            "11                      med_IFN         0.073361\n"
          ],
          "name": "stdout"
        }
      ]
    },
    {
      "cell_type": "code",
      "metadata": {
        "id": "qTmbplGHNkTM",
        "colab": {
          "base_uri": "https://localhost:8080/"
        },
        "outputId": "1736ad71-d39e-4766-d773-a121df36aee0"
      },
      "source": [
        "from sklearn.metrics import confusion_matrix\n",
        "\n",
        "rf = RandomForestClassifier(n_estimators=25, min_samples_split=9, max_depth=15, max_features='auto',random_state=const_seed)\n",
        "predictor_var1 = ['MRI_lesion_mass','primary_EDSS_at_diagnosis','primary_EDSS_at_sample_date','age_at_diagnosis','TIM3_RQ', 'LAG3_RQ', 'PD-1_RQ', 'Male', 'positive_OCB', 'OTHER_TREATMENT', 'UNTREATED', 'med_IFN','med_TYSABRI','cells_total']\n",
        "outcome_var = 'SPMS'\n",
        "tn, fp, fn, tp = calcCrossValidation_Matrix(rf, df_untreated, predictor_var1, outcome_var)\n",
        "print(calc_specificity(tn, fp, fn, tp))\n",
        "print(calc_sensitivity(tn, fp, fn, tp))"
      ],
      "execution_count": null,
      "outputs": [
        {
          "output_type": "stream",
          "text": [
            "0.9142857142857143\n",
            "0.6363636363636364\n"
          ],
          "name": "stdout"
        }
      ]
    },
    {
      "cell_type": "markdown",
      "metadata": {
        "id": "gY7ZWfvyNsDU"
      },
      "source": [
        "no LAG3"
      ]
    },
    {
      "cell_type": "code",
      "metadata": {
        "id": "ZgvatthZNu0H",
        "colab": {
          "base_uri": "https://localhost:8080/"
        },
        "outputId": "93f424b2-945c-4999-d1de-39c10af4f4a5"
      },
      "source": [
        "from sklearn.metrics import confusion_matrix\n",
        "\n",
        "logisticRegrDF = LogisticRegression(max_iter = 4000,random_state=const_seed)\n",
        "predictor_var1 = ['MRI_lesion_mass','primary_EDSS_at_diagnosis','primary_EDSS_at_sample_date','age_at_diagnosis','TIM3_RQ', 'TIGIT_RQ', 'PD-1_RQ', 'Male', 'positive_OCB', 'OTHER_TREATMENT', 'UNTREATED', 'med_IFN','med_TYSABRI','cells_total']\n",
        "outcome_var = 'SPMS'\n",
        "tn, fp, fn, tp = calcCrossValidation_Matrix(logisticRegrDF, df_untreated, predictor_var1, outcome_var)\n",
        "print(calc_specificity(tn, fp, fn, tp))\n",
        "print(calc_sensitivity(tn, fp, fn, tp))"
      ],
      "execution_count": null,
      "outputs": [
        {
          "output_type": "stream",
          "text": [
            "0.9428571428571428\n",
            "0.6818181818181818\n"
          ],
          "name": "stdout"
        }
      ]
    },
    {
      "cell_type": "code",
      "metadata": {
        "id": "ORbYO1TBNw1T",
        "colab": {
          "base_uri": "https://localhost:8080/"
        },
        "outputId": "3a01dc4b-3c17-463b-a53b-823644a502f4"
      },
      "source": [
        "from sklearn.metrics import confusion_matrix\n",
        "\n",
        "rf = RandomForestClassifier(n_estimators=25, min_samples_split=9, max_depth=15, max_features='auto',random_state=const_seed)\n",
        "predictor_var1 = ['MRI_lesion_mass','primary_EDSS_at_diagnosis','primary_EDSS_at_sample_date','age_at_diagnosis','TIM3_RQ', 'TIGIT_RQ', 'PD-1_RQ', 'Male', 'positive_OCB', 'OTHER_TREATMENT', 'UNTREATED', 'med_IFN','med_TYSABRI','cells_total']\n",
        "outcome_var = 'SPMS'\n",
        "tn, fp, fn, tp = calcCrossValidation_Matrix(rf, df_untreated, predictor_var1, outcome_var)\n",
        "print(calc_specificity(tn, fp, fn, tp))\n",
        "print(calc_sensitivity(tn, fp, fn, tp))"
      ],
      "execution_count": null,
      "outputs": [
        {
          "output_type": "stream",
          "text": [
            "0.9142857142857143\n",
            "0.6363636363636364\n"
          ],
          "name": "stdout"
        }
      ]
    },
    {
      "cell_type": "markdown",
      "metadata": {
        "id": "IkyIoL4eSEB-"
      },
      "source": [
        "no TIM3 and LAG3"
      ]
    },
    {
      "cell_type": "code",
      "metadata": {
        "id": "_tTgCYmFSEB_",
        "colab": {
          "base_uri": "https://localhost:8080/"
        },
        "outputId": "7ff54454-d56c-4697-8312-da34ecd5ab7a"
      },
      "source": [
        "from sklearn.metrics import confusion_matrix\n",
        "\n",
        "logisticRegrDF = LogisticRegression(max_iter = 4000,random_state=const_seed)\n",
        "predictor_var1 = ['MRI_lesion_mass','primary_EDSS_at_diagnosis','primary_EDSS_at_sample_date','age_at_diagnosis', 'TIGIT_RQ', 'PD-1_RQ', 'Male', 'positive_OCB', 'OTHER_TREATMENT', 'UNTREATED', 'med_IFN','med_TYSABRI','cells_total']\n",
        "outcome_var = 'SPMS'\n",
        "tn, fp, fn, tp = calcCrossValidation_Matrix(logisticRegrDF, df_untreated, predictor_var1, outcome_var)\n",
        "print(calc_specificity(tn, fp, fn, tp))\n",
        "print(calc_sensitivity(tn, fp, fn, tp))\n"
      ],
      "execution_count": null,
      "outputs": [
        {
          "output_type": "stream",
          "text": [
            "0.9428571428571428\n",
            "0.6818181818181818\n"
          ],
          "name": "stdout"
        }
      ]
    },
    {
      "cell_type": "code",
      "metadata": {
        "id": "CyfRcIVsSECB",
        "colab": {
          "base_uri": "https://localhost:8080/"
        },
        "outputId": "f2858edf-7e71-45d0-8a1c-dd73f64e1b75"
      },
      "source": [
        "from sklearn.metrics import confusion_matrix\n",
        "\n",
        "rf = RandomForestClassifier(n_estimators=25, min_samples_split=9, max_depth=15, max_features='auto',random_state=const_seed)\n",
        "predictor_var1 = ['MRI_lesion_mass','primary_EDSS_at_diagnosis','primary_EDSS_at_sample_date','age_at_diagnosis', 'TIGIT_RQ', 'PD-1_RQ', 'Male', 'positive_OCB', 'OTHER_TREATMENT', 'UNTREATED', 'med_IFN','med_TYSABRI','cells_total']\n",
        "outcome_var = 'SPMS'\n",
        "tn, fp, fn, tp = calcCrossValidation_Matrix(rf, df_untreated, predictor_var1, outcome_var)\n",
        "print(calc_specificity(tn, fp, fn, tp))\n",
        "print(calc_sensitivity(tn, fp, fn, tp))"
      ],
      "execution_count": null,
      "outputs": [
        {
          "output_type": "stream",
          "text": [
            "0.8571428571428571\n",
            "0.6818181818181818\n"
          ],
          "name": "stdout"
        }
      ]
    },
    {
      "cell_type": "markdown",
      "metadata": {
        "id": "00edSxJbSFFo"
      },
      "source": [
        "no TIM3 and TIGIT"
      ]
    },
    {
      "cell_type": "code",
      "metadata": {
        "id": "gqWIYareSFFp",
        "colab": {
          "base_uri": "https://localhost:8080/"
        },
        "outputId": "c5f0359e-9eba-428a-c969-ad4049530967"
      },
      "source": [
        "from sklearn.metrics import confusion_matrix\n",
        "\n",
        "logisticRegrDF = LogisticRegression(max_iter = 4000,random_state=const_seed)\n",
        "predictor_var1 = ['MRI_lesion_mass','primary_EDSS_at_diagnosis','primary_EDSS_at_sample_date','age_at_diagnosis', 'LAG3_RQ', 'PD-1_RQ', 'Male', 'positive_OCB', 'OTHER_TREATMENT', 'UNTREATED', 'med_IFN','med_TYSABRI','cells_total']\n",
        "outcome_var = 'SPMS'\n",
        "tn, fp, fn, tp = calcCrossValidation_Matrix(logisticRegrDF, df_untreated, predictor_var1, outcome_var)\n",
        "print(calc_specificity(tn, fp, fn, tp))\n",
        "print(calc_sensitivity(tn, fp, fn, tp))\n"
      ],
      "execution_count": null,
      "outputs": [
        {
          "output_type": "stream",
          "text": [
            "0.9428571428571428\n",
            "0.7272727272727273\n"
          ],
          "name": "stdout"
        }
      ]
    },
    {
      "cell_type": "code",
      "metadata": {
        "id": "g536OJ_JSFFp",
        "colab": {
          "base_uri": "https://localhost:8080/"
        },
        "outputId": "a3055b6b-dd52-4f94-8b71-dd96df2aa9be"
      },
      "source": [
        "from sklearn.metrics import confusion_matrix\n",
        "\n",
        "rf = RandomForestClassifier(n_estimators=25, min_samples_split=9, max_depth=15, max_features='auto',random_state=const_seed)\n",
        "predictor_var1 = ['MRI_lesion_mass','primary_EDSS_at_diagnosis','primary_EDSS_at_sample_date','age_at_diagnosis', 'LAG3_RQ', 'PD-1_RQ', 'Male', 'positive_OCB', 'OTHER_TREATMENT', 'UNTREATED', 'med_IFN','med_TYSABRI','cells_total']\n",
        "outcome_var = 'SPMS'\n",
        "tn, fp, fn, tp = calcCrossValidation_Matrix(rf, df_untreated, predictor_var1, outcome_var)\n",
        "print(calc_specificity(tn, fp, fn, tp))\n",
        "print(calc_sensitivity(tn, fp, fn, tp))"
      ],
      "execution_count": null,
      "outputs": [
        {
          "output_type": "stream",
          "text": [
            "0.8857142857142857\n",
            "0.6818181818181818\n"
          ],
          "name": "stdout"
        }
      ]
    },
    {
      "cell_type": "markdown",
      "metadata": {
        "id": "R0wANlSUSHyN"
      },
      "source": [
        "no LAG3 and TIGIT"
      ]
    },
    {
      "cell_type": "code",
      "metadata": {
        "id": "eO8cXWvbSHyN",
        "colab": {
          "base_uri": "https://localhost:8080/"
        },
        "outputId": "a0ec6dd5-4a8c-4915-9d90-49a7d49c981d"
      },
      "source": [
        "from sklearn.metrics import confusion_matrix\n",
        "\n",
        "logisticRegrDF = LogisticRegression(max_iter = 4000,random_state=const_seed)\n",
        "predictor_var1 = ['MRI_lesion_mass','primary_EDSS_at_diagnosis','primary_EDSS_at_sample_date','age_at_diagnosis','TIM3_RQ', 'PD-1_RQ', 'Male', 'positive_OCB', 'OTHER_TREATMENT', 'UNTREATED', 'med_IFN','med_TYSABRI','cells_total']\n",
        "outcome_var = 'SPMS'\n",
        "tn, fp, fn, tp = calcCrossValidation_Matrix(logisticRegrDF, df_untreated, predictor_var1, outcome_var)\n",
        "print(calc_specificity(tn, fp, fn, tp))\n",
        "print(calc_sensitivity(tn, fp, fn, tp))\n"
      ],
      "execution_count": null,
      "outputs": [
        {
          "output_type": "stream",
          "text": [
            "0.9428571428571428\n",
            "0.6818181818181818\n"
          ],
          "name": "stdout"
        }
      ]
    },
    {
      "cell_type": "code",
      "metadata": {
        "id": "bpK87zZFSHyO",
        "colab": {
          "base_uri": "https://localhost:8080/"
        },
        "outputId": "89829f1c-303c-405f-cdaf-6c330d25a99f"
      },
      "source": [
        "from sklearn.metrics import confusion_matrix\n",
        "\n",
        "rf = RandomForestClassifier(n_estimators=25, min_samples_split=9, max_depth=15, max_features='auto',random_state=const_seed)\n",
        "predictor_var1 = ['MRI_lesion_mass','primary_EDSS_at_diagnosis','primary_EDSS_at_sample_date','age_at_diagnosis','TIM3_RQ', 'PD-1_RQ', 'Male', 'positive_OCB', 'OTHER_TREATMENT', 'UNTREATED', 'med_IFN','med_TYSABRI','cells_total']\n",
        "outcome_var = 'SPMS'\n",
        "tn, fp, fn, tp = calcCrossValidation_Matrix(rf, df_untreated, predictor_var1, outcome_var)\n",
        "print(calc_specificity(tn, fp, fn, tp))\n",
        "print(calc_sensitivity(tn, fp, fn, tp))"
      ],
      "execution_count": null,
      "outputs": [
        {
          "output_type": "stream",
          "text": [
            "0.8857142857142857\n",
            "0.6818181818181818\n"
          ],
          "name": "stdout"
        }
      ]
    },
    {
      "cell_type": "markdown",
      "metadata": {
        "id": "Zy5fucjfN2gK"
      },
      "source": [
        "no MRI"
      ]
    },
    {
      "cell_type": "code",
      "metadata": {
        "id": "z3M2VgJ9N7Yy",
        "colab": {
          "base_uri": "https://localhost:8080/"
        },
        "outputId": "17c7529b-211f-41b6-c091-53d84d4acf6f"
      },
      "source": [
        "from sklearn.metrics import confusion_matrix\n",
        "\n",
        "logisticRegrDF = LogisticRegression(max_iter = 4000,random_state=const_seed)\n",
        "predictor_var1 = ['primary_EDSS_at_diagnosis','primary_EDSS_at_sample_date','age_at_diagnosis','TIM3_RQ', 'TIGIT_RQ', 'LAG3_RQ', 'PD-1_RQ', 'Male', 'positive_OCB', 'OTHER_TREATMENT', 'UNTREATED', 'med_IFN','med_TYSABRI','cells_total']\n",
        "outcome_var = 'SPMS'\n",
        "tn, fp, fn, tp = calcCrossValidation_Matrix(logisticRegrDF, df_untreated, predictor_var1, outcome_var)\n",
        "print(calc_specificity(tn, fp, fn, tp))\n",
        "print(calc_sensitivity(tn, fp, fn, tp))\n"
      ],
      "execution_count": null,
      "outputs": [
        {
          "output_type": "stream",
          "text": [
            "0.9142857142857143\n",
            "0.6818181818181818\n"
          ],
          "name": "stdout"
        }
      ]
    },
    {
      "cell_type": "code",
      "metadata": {
        "id": "Hm1JBxG_HZWO",
        "colab": {
          "base_uri": "https://localhost:8080/"
        },
        "outputId": "7d3b981a-f2a2-4ed6-d29e-2ba19bb6bd9b"
      },
      "source": [
        "df_untreated.shape"
      ],
      "execution_count": null,
      "outputs": [
        {
          "output_type": "execute_result",
          "data": {
            "text/plain": [
              "(57, 17)"
            ]
          },
          "metadata": {
            "tags": []
          },
          "execution_count": 134
        }
      ]
    },
    {
      "cell_type": "code",
      "metadata": {
        "id": "KN65F3iSN-ss",
        "colab": {
          "base_uri": "https://localhost:8080/"
        },
        "outputId": "4fca7285-4591-40a4-919a-8d5ac0f59fb5"
      },
      "source": [
        "from sklearn.metrics import confusion_matrix\n",
        "\n",
        "rf = RandomForestClassifier(n_estimators=25, min_samples_split=9, max_depth=15, max_features='auto',random_state=const_seed)\n",
        "predictor_var1 = ['primary_EDSS_at_diagnosis','primary_EDSS_at_sample_date','age_at_diagnosis','TIM3_RQ', 'TIGIT_RQ', 'LAG3_RQ', 'PD-1_RQ', 'Male', 'positive_OCB', 'OTHER_TREATMENT', 'UNTREATED', 'med_IFN','med_TYSABRI','cells_total']\n",
        "outcome_var = 'SPMS'\n",
        "tn, fp, fn, tp = calcCrossValidation_Matrix(rf, df_untreated, predictor_var1, outcome_var)\n",
        "print(calc_specificity(tn, fp, fn, tp))\n",
        "print(calc_sensitivity(tn, fp, fn, tp))"
      ],
      "execution_count": null,
      "outputs": [
        {
          "output_type": "stream",
          "text": [
            "0.8571428571428571\n",
            "0.7272727272727273\n"
          ],
          "name": "stdout"
        }
      ]
    },
    {
      "cell_type": "markdown",
      "metadata": {
        "id": "z9cVsgjXES2R"
      },
      "source": [
        "no OCB"
      ]
    },
    {
      "cell_type": "code",
      "metadata": {
        "colab": {
          "base_uri": "https://localhost:8080/"
        },
        "id": "JNjnh2S9ESq2",
        "outputId": "11856591-3595-4c22-d382-8136c82290c6"
      },
      "source": [
        "from sklearn.metrics import confusion_matrix\n",
        "\n",
        "logisticRegrDF = LogisticRegression(max_iter = 4000,random_state=const_seed)\n",
        "predictor_var1 = ['MRI_lesion_mass','primary_EDSS_at_diagnosis','primary_EDSS_at_sample_date','age_at_diagnosis','TIM3_RQ', 'TIGIT_RQ', 'LAG3_RQ', 'PD-1_RQ', 'Male', 'OTHER_TREATMENT', 'UNTREATED', 'med_IFN','med_TYSABRI','cells_total']\n",
        "outcome_var = 'SPMS'\n",
        "tn, fp, fn, tp = calcCrossValidation_Matrix(logisticRegrDF, df_untreated, predictor_var1, outcome_var)\n",
        "print(calc_specificity(tn, fp, fn, tp))\n",
        "print(calc_sensitivity(tn, fp, fn, tp))"
      ],
      "execution_count": null,
      "outputs": [
        {
          "output_type": "stream",
          "text": [
            "0.9714285714285714\n",
            "0.6363636363636364\n"
          ],
          "name": "stdout"
        }
      ]
    },
    {
      "cell_type": "code",
      "metadata": {
        "colab": {
          "base_uri": "https://localhost:8080/"
        },
        "id": "3Ibik9ZkEScz",
        "outputId": "0ecc52dd-60e9-488d-c0aa-ad64731db890"
      },
      "source": [
        "from sklearn.metrics import confusion_matrix\n",
        "\n",
        "rf = RandomForestClassifier(n_estimators=25, min_samples_split=9, max_depth=15, max_features='auto',random_state=const_seed)\n",
        "predictor_var1 = ['MRI_lesion_mass','primary_EDSS_at_diagnosis','primary_EDSS_at_sample_date','age_at_diagnosis','TIM3_RQ', 'TIGIT_RQ', 'LAG3_RQ', 'PD-1_RQ', 'Male', 'OTHER_TREATMENT', 'UNTREATED', 'med_IFN','med_TYSABRI','cells_total']\n",
        "outcome_var = 'SPMS'\n",
        "tn, fp, fn, tp = calcCrossValidation_Matrix(rf, df_untreated, predictor_var1, outcome_var)\n",
        "print(calc_specificity(tn, fp, fn, tp))\n",
        "print(calc_sensitivity(tn, fp, fn, tp))"
      ],
      "execution_count": null,
      "outputs": [
        {
          "output_type": "stream",
          "text": [
            "0.9142857142857143\n",
            "0.6818181818181818\n"
          ],
          "name": "stdout"
        }
      ]
    },
    {
      "cell_type": "markdown",
      "metadata": {
        "id": "HQqHGi18EUsP"
      },
      "source": [
        "no total cells"
      ]
    },
    {
      "cell_type": "code",
      "metadata": {
        "colab": {
          "base_uri": "https://localhost:8080/"
        },
        "id": "PX7c6GnLEUk7",
        "outputId": "d835e0fe-a9b6-483f-aa39-699d62b74b0c"
      },
      "source": [
        "from sklearn.metrics import confusion_matrix\n",
        "\n",
        "logisticRegrDF = LogisticRegression(max_iter = 4000,random_state=const_seed)\n",
        "predictor_var1 = ['MRI_lesion_mass','primary_EDSS_at_diagnosis','primary_EDSS_at_sample_date','age_at_diagnosis','TIM3_RQ', 'TIGIT_RQ', 'LAG3_RQ', 'PD-1_RQ', 'Male', 'positive_OCB', 'OTHER_TREATMENT', 'UNTREATED', 'med_IFN','med_TYSABRI']\n",
        "outcome_var = 'SPMS'\n",
        "tn, fp, fn, tp = calcCrossValidation_Matrix(logisticRegrDF, df_untreated, predictor_var1, outcome_var)\n",
        "print(calc_specificity(tn, fp, fn, tp))\n",
        "print(calc_sensitivity(tn, fp, fn, tp))"
      ],
      "execution_count": null,
      "outputs": [
        {
          "output_type": "stream",
          "text": [
            "0.9428571428571428\n",
            "0.6818181818181818\n"
          ],
          "name": "stdout"
        }
      ]
    },
    {
      "cell_type": "code",
      "metadata": {
        "colab": {
          "base_uri": "https://localhost:8080/"
        },
        "id": "FtLgDsUBEUea",
        "outputId": "43e7621f-1dcd-4da9-8970-5dabcd1c0e4f"
      },
      "source": [
        "from sklearn.metrics import confusion_matrix\n",
        "\n",
        "rf = RandomForestClassifier(n_estimators=25, min_samples_split=9, max_depth=15, max_features='auto',random_state=const_seed)\n",
        "predictor_var1 = ['MRI_lesion_mass','primary_EDSS_at_diagnosis','primary_EDSS_at_sample_date','age_at_diagnosis','TIM3_RQ', 'TIGIT_RQ', 'LAG3_RQ', 'PD-1_RQ', 'Male', 'positive_OCB', 'OTHER_TREATMENT', 'UNTREATED', 'med_IFN','med_TYSABRI']\n",
        "outcome_var = 'SPMS'\n",
        "tn, fp, fn, tp = calcCrossValidation_Matrix(rf, df_untreated, predictor_var1, outcome_var)\n",
        "print(calc_specificity(tn, fp, fn, tp))\n",
        "print(calc_sensitivity(tn, fp, fn, tp))"
      ],
      "execution_count": null,
      "outputs": [
        {
          "output_type": "stream",
          "text": [
            "0.8857142857142857\n",
            "0.6818181818181818\n"
          ],
          "name": "stdout"
        }
      ]
    },
    {
      "cell_type": "markdown",
      "metadata": {
        "id": "bEx_XqKbEUC-"
      },
      "source": [
        "no PD1"
      ]
    },
    {
      "cell_type": "code",
      "metadata": {
        "colab": {
          "base_uri": "https://localhost:8080/"
        },
        "id": "Nr_NJKWvET7n",
        "outputId": "f2717ca0-3abd-4f7c-8782-1b3a2eb5b42d"
      },
      "source": [
        "from sklearn.metrics import confusion_matrix\n",
        "\n",
        "logisticRegrDF = LogisticRegression(max_iter = 4000,random_state=const_seed)\n",
        "predictor_var1 = ['MRI_lesion_mass','primary_EDSS_at_diagnosis','primary_EDSS_at_sample_date','age_at_diagnosis','TIM3_RQ', 'TIGIT_RQ', 'LAG3_RQ', 'Male', 'positive_OCB', 'OTHER_TREATMENT', 'UNTREATED', 'med_IFN','med_TYSABRI','cells_total']\n",
        "outcome_var = 'SPMS'\n",
        "tn, fp, fn, tp = calcCrossValidation_Matrix(logisticRegrDF, df_untreated, predictor_var1, outcome_var)\n",
        "print(calc_specificity(tn, fp, fn, tp))\n",
        "print(calc_sensitivity(tn, fp, fn, tp))"
      ],
      "execution_count": null,
      "outputs": [
        {
          "output_type": "stream",
          "text": [
            "0.9428571428571428\n",
            "0.7272727272727273\n"
          ],
          "name": "stdout"
        }
      ]
    },
    {
      "cell_type": "code",
      "metadata": {
        "colab": {
          "base_uri": "https://localhost:8080/"
        },
        "id": "BS2O_KmSET0l",
        "outputId": "b65345b6-8880-4d6b-c23b-7b631cfc1783"
      },
      "source": [
        "from sklearn.metrics import confusion_matrix\n",
        "\n",
        "rf = RandomForestClassifier(n_estimators=25, min_samples_split=9, max_depth=15, max_features='auto',random_state=const_seed)\n",
        "predictor_var1 = ['MRI_lesion_mass','primary_EDSS_at_diagnosis','primary_EDSS_at_sample_date','age_at_diagnosis','TIM3_RQ', 'TIGIT_RQ', 'LAG3_RQ', 'Male', 'positive_OCB', 'OTHER_TREATMENT', 'UNTREATED', 'med_IFN','med_TYSABRI','cells_total']\n",
        "outcome_var = 'SPMS'\n",
        "tn, fp, fn, tp = calcCrossValidation_Matrix(rf, df_untreated, predictor_var1, outcome_var)\n",
        "print(calc_specificity(tn, fp, fn, tp))\n",
        "print(calc_sensitivity(tn, fp, fn, tp))"
      ],
      "execution_count": null,
      "outputs": [
        {
          "output_type": "stream",
          "text": [
            "0.9142857142857143\n",
            "0.6818181818181818\n"
          ],
          "name": "stdout"
        }
      ]
    },
    {
      "cell_type": "markdown",
      "metadata": {
        "id": "pWyaUH-NETrO"
      },
      "source": [
        "no MRI, OCB"
      ]
    },
    {
      "cell_type": "code",
      "metadata": {
        "colab": {
          "base_uri": "https://localhost:8080/"
        },
        "id": "hx-zmQIlETg4",
        "outputId": "cd3fc813-7564-4007-9a0c-c584f1d53201"
      },
      "source": [
        "from sklearn.metrics import confusion_matrix\n",
        "\n",
        "logisticRegrDF = LogisticRegression(max_iter = 4000,random_state=const_seed)\n",
        "predictor_var1 = ['primary_EDSS_at_diagnosis','primary_EDSS_at_sample_date','age_at_diagnosis','TIM3_RQ', 'TIGIT_RQ', 'LAG3_RQ', 'PD-1_RQ', 'Male', 'OTHER_TREATMENT', 'UNTREATED', 'med_IFN','med_TYSABRI','cells_total']\n",
        "outcome_var = 'SPMS'\n",
        "tn, fp, fn, tp = calcCrossValidation_Matrix(logisticRegrDF, df_untreated, predictor_var1, outcome_var)\n",
        "print(calc_specificity(tn, fp, fn, tp))\n",
        "print(calc_sensitivity(tn, fp, fn, tp))"
      ],
      "execution_count": null,
      "outputs": [
        {
          "output_type": "stream",
          "text": [
            "0.9714285714285714\n",
            "0.6818181818181818\n"
          ],
          "name": "stdout"
        }
      ]
    },
    {
      "cell_type": "code",
      "metadata": {
        "colab": {
          "base_uri": "https://localhost:8080/"
        },
        "id": "iRotdfprETUy",
        "outputId": "5d61f790-5886-452a-8a76-8af853400762"
      },
      "source": [
        "from sklearn.metrics import confusion_matrix\n",
        "\n",
        "rf = RandomForestClassifier(n_estimators=25, min_samples_split=9, max_depth=15, max_features='auto',random_state=const_seed)\n",
        "predictor_var1 = ['primary_EDSS_at_diagnosis','primary_EDSS_at_sample_date','age_at_diagnosis','TIM3_RQ', 'TIGIT_RQ', 'LAG3_RQ', 'PD-1_RQ', 'Male', 'OTHER_TREATMENT', 'UNTREATED', 'med_IFN','med_TYSABRI','cells_total']\n",
        "outcome_var = 'SPMS'\n",
        "tn, fp, fn, tp = calcCrossValidation_Matrix(rf, df_untreated, predictor_var1, outcome_var)\n",
        "print(calc_specificity(tn, fp, fn, tp))\n",
        "print(calc_sensitivity(tn, fp, fn, tp))"
      ],
      "execution_count": null,
      "outputs": [
        {
          "output_type": "stream",
          "text": [
            "0.9142857142857143\n",
            "0.6363636363636364\n"
          ],
          "name": "stdout"
        }
      ]
    },
    {
      "cell_type": "markdown",
      "metadata": {
        "id": "w1TLWZsBIPzI"
      },
      "source": [
        "no MRI, LAG3"
      ]
    },
    {
      "cell_type": "code",
      "metadata": {
        "colab": {
          "base_uri": "https://localhost:8080/"
        },
        "id": "2eMFe7qLIPta",
        "outputId": "691f8bd6-61ca-4cd1-a10b-509adc7ed28f"
      },
      "source": [
        "from sklearn.metrics import confusion_matrix\n",
        "\n",
        "logisticRegrDF = LogisticRegression(max_iter = 4000,random_state=const_seed)\n",
        "predictor_var1 = ['primary_EDSS_at_diagnosis','primary_EDSS_at_sample_date','age_at_diagnosis','TIM3_RQ', 'TIGIT_RQ', 'PD-1_RQ', 'Male', 'positive_OCB', 'OTHER_TREATMENT', 'UNTREATED', 'med_IFN','med_TYSABRI','cells_total']\n",
        "outcome_var = 'SPMS'\n",
        "tn, fp, fn, tp = calcCrossValidation_Matrix(logisticRegrDF, df_untreated, predictor_var1, outcome_var)\n",
        "print(calc_specificity(tn, fp, fn, tp))\n",
        "print(calc_sensitivity(tn, fp, fn, tp))"
      ],
      "execution_count": null,
      "outputs": [
        {
          "output_type": "stream",
          "text": [
            "0.9142857142857143\n",
            "0.7272727272727273\n"
          ],
          "name": "stdout"
        }
      ]
    },
    {
      "cell_type": "code",
      "metadata": {
        "colab": {
          "base_uri": "https://localhost:8080/"
        },
        "id": "ImNPrY3DIPoZ",
        "outputId": "2925d6c8-ae06-427d-b9f9-8442c206476a"
      },
      "source": [
        "from sklearn.metrics import confusion_matrix\n",
        "\n",
        "rf = RandomForestClassifier(n_estimators=25, min_samples_split=9, max_depth=15, max_features='auto',random_state=const_seed)\n",
        "predictor_var1 = ['primary_EDSS_at_diagnosis','primary_EDSS_at_sample_date','age_at_diagnosis','TIM3_RQ', 'TIGIT_RQ', 'PD-1_RQ', 'Male', 'positive_OCB', 'OTHER_TREATMENT', 'UNTREATED', 'med_IFN','med_TYSABRI','cells_total']\n",
        "outcome_var = 'SPMS'\n",
        "tn, fp, fn, tp = calcCrossValidation_Matrix(rf, df_untreated, predictor_var1, outcome_var)\n",
        "print(calc_specificity(tn, fp, fn, tp))\n",
        "print(calc_sensitivity(tn, fp, fn, tp))"
      ],
      "execution_count": null,
      "outputs": [
        {
          "output_type": "stream",
          "text": [
            "0.8857142857142857\n",
            "0.7272727272727273\n"
          ],
          "name": "stdout"
        }
      ]
    },
    {
      "cell_type": "markdown",
      "metadata": {
        "id": "YMAy8dp1IPgF"
      },
      "source": [
        "no MRI, TIGIT"
      ]
    },
    {
      "cell_type": "code",
      "metadata": {
        "colab": {
          "base_uri": "https://localhost:8080/"
        },
        "id": "noAMgYr4IPXG",
        "outputId": "f7fa4324-8cc1-4b4b-ac90-b90dcb1334d2"
      },
      "source": [
        "from sklearn.metrics import confusion_matrix\n",
        "\n",
        "logisticRegrDF = LogisticRegression(max_iter = 4000,random_state=const_seed)\n",
        "predictor_var1 = ['primary_EDSS_at_diagnosis','primary_EDSS_at_sample_date','age_at_diagnosis','TIM3_RQ', 'LAG3_RQ', 'PD-1_RQ', 'Male', 'positive_OCB', 'OTHER_TREATMENT', 'UNTREATED', 'med_IFN','med_TYSABRI','cells_total']\n",
        "outcome_var = 'SPMS'\n",
        "tn, fp, fn, tp = calcCrossValidation_Matrix(logisticRegrDF, df_untreated, predictor_var1, outcome_var)\n",
        "print(calc_specificity(tn, fp, fn, tp))\n",
        "print(calc_sensitivity(tn, fp, fn, tp))"
      ],
      "execution_count": null,
      "outputs": [
        {
          "output_type": "stream",
          "text": [
            "0.9142857142857143\n",
            "0.6818181818181818\n"
          ],
          "name": "stdout"
        }
      ]
    },
    {
      "cell_type": "code",
      "metadata": {
        "colab": {
          "base_uri": "https://localhost:8080/"
        },
        "id": "VTlsWknyIPSI",
        "outputId": "b02c7654-398b-4dd8-f233-45caf67ffb45"
      },
      "source": [
        "from sklearn.metrics import confusion_matrix\n",
        "\n",
        "rf = RandomForestClassifier(n_estimators=25, min_samples_split=9, max_depth=15, max_features='auto',random_state=const_seed)\n",
        "predictor_var1 = ['primary_EDSS_at_diagnosis','primary_EDSS_at_sample_date','age_at_diagnosis','TIM3_RQ', 'LAG3_RQ', 'PD-1_RQ', 'Male', 'positive_OCB', 'OTHER_TREATMENT', 'UNTREATED', 'med_IFN','med_TYSABRI','cells_total']\n",
        "outcome_var = 'SPMS'\n",
        "tn, fp, fn, tp = calcCrossValidation_Matrix(rf, df_untreated, predictor_var1, outcome_var)\n",
        "print(calc_specificity(tn, fp, fn, tp))\n",
        "print(calc_sensitivity(tn, fp, fn, tp))"
      ],
      "execution_count": null,
      "outputs": [
        {
          "output_type": "stream",
          "text": [
            "0.9142857142857143\n",
            "0.7727272727272727\n"
          ],
          "name": "stdout"
        }
      ]
    },
    {
      "cell_type": "markdown",
      "metadata": {
        "id": "xhgYg1ilIPEl"
      },
      "source": [
        "no MRI, TIM3, LAG3"
      ]
    },
    {
      "cell_type": "code",
      "metadata": {
        "colab": {
          "base_uri": "https://localhost:8080/"
        },
        "id": "AH7dF7H0IO7c",
        "outputId": "ca618f7a-6a5a-4e9a-afc8-422370618d1a"
      },
      "source": [
        "from sklearn.metrics import confusion_matrix\n",
        "\n",
        "logisticRegrDF = LogisticRegression(max_iter = 4000,random_state=const_seed)\n",
        "predictor_var1 = ['primary_EDSS_at_diagnosis','primary_EDSS_at_sample_date','age_at_diagnosis','TIGIT_RQ', 'PD-1_RQ', 'Male', 'positive_OCB', 'OTHER_TREATMENT', 'UNTREATED', 'med_IFN','med_TYSABRI','cells_total']\n",
        "outcome_var = 'SPMS'\n",
        "tn, fp, fn, tp = calcCrossValidation_Matrix(logisticRegrDF, df_untreated, predictor_var1, outcome_var)\n",
        "print(calc_specificity(tn, fp, fn, tp))\n",
        "print(calc_sensitivity(tn, fp, fn, tp))"
      ],
      "execution_count": null,
      "outputs": [
        {
          "output_type": "stream",
          "text": [
            "0.9142857142857143\n",
            "0.7272727272727273\n"
          ],
          "name": "stdout"
        }
      ]
    },
    {
      "cell_type": "code",
      "metadata": {
        "colab": {
          "base_uri": "https://localhost:8080/"
        },
        "id": "gGyC40FQIO1I",
        "outputId": "97f6ecb9-cdc2-4c6b-9e74-25687d14842c"
      },
      "source": [
        "from sklearn.metrics import confusion_matrix\n",
        "\n",
        "rf = RandomForestClassifier(n_estimators=25, min_samples_split=9, max_depth=15, max_features='auto',random_state=const_seed)\n",
        "predictor_var1 = ['primary_EDSS_at_diagnosis','primary_EDSS_at_sample_date','age_at_diagnosis','TIGIT_RQ', 'PD-1_RQ', 'Male', 'positive_OCB', 'OTHER_TREATMENT', 'UNTREATED', 'med_IFN','med_TYSABRI','cells_total']\n",
        "outcome_var = 'SPMS'\n",
        "tn, fp, fn, tp = calcCrossValidation_Matrix(rf, df_untreated, predictor_var1, outcome_var)\n",
        "print(calc_specificity(tn, fp, fn, tp))\n",
        "print(calc_sensitivity(tn, fp, fn, tp))"
      ],
      "execution_count": null,
      "outputs": [
        {
          "output_type": "stream",
          "text": [
            "0.9142857142857143\n",
            "0.7272727272727273\n"
          ],
          "name": "stdout"
        }
      ]
    },
    {
      "cell_type": "markdown",
      "metadata": {
        "id": "9xsp9K6EIOlZ"
      },
      "source": [
        "no MRI, TIM3, TIGIT"
      ]
    },
    {
      "cell_type": "code",
      "metadata": {
        "colab": {
          "base_uri": "https://localhost:8080/"
        },
        "id": "P9dGWr2IIN-o",
        "outputId": "e83d7713-fc06-4d99-dbf8-edd86ee18624"
      },
      "source": [
        "from sklearn.metrics import confusion_matrix\n",
        "\n",
        "logisticRegrDF = LogisticRegression(max_iter = 4000,random_state=const_seed)\n",
        "predictor_var1 = ['primary_EDSS_at_diagnosis','primary_EDSS_at_sample_date','age_at_diagnosis', 'LAG3_RQ', 'PD-1_RQ', 'Male', 'positive_OCB', 'OTHER_TREATMENT', 'UNTREATED', 'med_IFN','med_TYSABRI','cells_total']\n",
        "outcome_var = 'SPMS'\n",
        "tn, fp, fn, tp = calcCrossValidation_Matrix(logisticRegrDF, df_untreated, predictor_var1, outcome_var)\n",
        "print(calc_specificity(tn, fp, fn, tp))\n",
        "print(calc_sensitivity(tn, fp, fn, tp))"
      ],
      "execution_count": null,
      "outputs": [
        {
          "output_type": "stream",
          "text": [
            "0.9142857142857143\n",
            "0.7272727272727273\n"
          ],
          "name": "stdout"
        }
      ]
    },
    {
      "cell_type": "code",
      "metadata": {
        "colab": {
          "base_uri": "https://localhost:8080/"
        },
        "id": "tBnR7zDuIN5i",
        "outputId": "b4739789-b040-48b1-dcc7-c788c515242a"
      },
      "source": [
        "from sklearn.metrics import confusion_matrix\n",
        "\n",
        "rf = RandomForestClassifier(n_estimators=25, min_samples_split=9, max_depth=15, max_features='auto',random_state=const_seed)\n",
        "predictor_var1 = ['primary_EDSS_at_diagnosis','primary_EDSS_at_sample_date','age_at_diagnosis', 'LAG3_RQ', 'PD-1_RQ', 'Male', 'positive_OCB', 'OTHER_TREATMENT', 'UNTREATED', 'med_IFN','med_TYSABRI','cells_total']\n",
        "outcome_var = 'SPMS'\n",
        "tn, fp, fn, tp = calcCrossValidation_Matrix(rf, df_untreated, predictor_var1, outcome_var)\n",
        "print(calc_specificity(tn, fp, fn, tp))\n",
        "print(calc_sensitivity(tn, fp, fn, tp))"
      ],
      "execution_count": null,
      "outputs": [
        {
          "output_type": "stream",
          "text": [
            "0.9142857142857143\n",
            "0.7272727272727273\n"
          ],
          "name": "stdout"
        }
      ]
    },
    {
      "cell_type": "markdown",
      "metadata": {
        "id": "_5dqKuAnINXO"
      },
      "source": [
        "no MRI, TIGIT, LAG3"
      ]
    },
    {
      "cell_type": "code",
      "metadata": {
        "colab": {
          "base_uri": "https://localhost:8080/"
        },
        "id": "BMyiyAP5INQJ",
        "outputId": "897fc69e-49b1-4973-f0ca-7f83316358f1"
      },
      "source": [
        "from sklearn.metrics import confusion_matrix\n",
        "\n",
        "logisticRegrDF = LogisticRegression(max_iter = 4000,random_state=const_seed)\n",
        "predictor_var1 = ['primary_EDSS_at_diagnosis','primary_EDSS_at_sample_date','age_at_diagnosis','TIM3_RQ', 'PD-1_RQ', 'Male', 'positive_OCB', 'OTHER_TREATMENT', 'UNTREATED', 'med_IFN','med_TYSABRI','cells_total']\n",
        "outcome_var = 'SPMS'\n",
        "tn, fp, fn, tp = calcCrossValidation_Matrix(logisticRegrDF, df_untreated, predictor_var1, outcome_var)\n",
        "print(calc_specificity(tn, fp, fn, tp))\n",
        "print(calc_sensitivity(tn, fp, fn, tp))"
      ],
      "execution_count": null,
      "outputs": [
        {
          "output_type": "stream",
          "text": [
            "0.9428571428571428\n",
            "0.7272727272727273\n"
          ],
          "name": "stdout"
        }
      ]
    },
    {
      "cell_type": "code",
      "metadata": {
        "colab": {
          "base_uri": "https://localhost:8080/"
        },
        "id": "MvFYRZzPINIE",
        "outputId": "c94a41a1-f796-4698-9cc3-30b448df445e"
      },
      "source": [
        "from sklearn.metrics import confusion_matrix\n",
        "\n",
        "rf = RandomForestClassifier(n_estimators=25, min_samples_split=9, max_depth=15, max_features='auto',random_state=const_seed)\n",
        "predictor_var1 = ['primary_EDSS_at_diagnosis','primary_EDSS_at_sample_date','age_at_diagnosis','TIM3_RQ', 'PD-1_RQ', 'Male', 'positive_OCB', 'OTHER_TREATMENT', 'UNTREATED', 'med_IFN','med_TYSABRI','cells_total']\n",
        "outcome_var = 'SPMS'\n",
        "tn, fp, fn, tp = calcCrossValidation_Matrix(rf, df_untreated, predictor_var1, outcome_var)\n",
        "print(calc_specificity(tn, fp, fn, tp))\n",
        "print(calc_sensitivity(tn, fp, fn, tp))"
      ],
      "execution_count": null,
      "outputs": [
        {
          "output_type": "stream",
          "text": [
            "0.9142857142857143\n",
            "0.7272727272727273\n"
          ],
          "name": "stdout"
        }
      ]
    }
  ]
}