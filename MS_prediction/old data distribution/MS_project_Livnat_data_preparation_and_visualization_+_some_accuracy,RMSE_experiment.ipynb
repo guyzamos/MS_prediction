{
  "nbformat": 4,
  "nbformat_minor": 0,
  "metadata": {
    "colab": {
      "name": "MS project Livnat data preparation and visualization + some accuracy,RMSE experiment.ipynb",
      "provenance": [],
      "collapsed_sections": [
        "SSUVypVvRYKh"
      ]
    },
    "kernelspec": {
      "name": "python3",
      "display_name": "Python 3"
    }
  },
  "cells": [
    {
      "cell_type": "markdown",
      "metadata": {
        "id": "M6tv6Y_weQ8z"
      },
      "source": [
        "import all the relevant libraries"
      ]
    },
    {
      "cell_type": "code",
      "metadata": {
        "id": "-z7hXJSeptCa"
      },
      "source": [
        "import pandas as pd\n",
        "import numpy as np\n",
        "import matplotlib.pyplot as plt\n",
        "import statistics as stats\n",
        "import io\n",
        "from sklearn.metrics import mean_squared_error\n",
        "from math import sqrt\n",
        "from sklearn.preprocessing import LabelEncoder\n",
        "from sklearn.model_selection import KFold\n",
        "from sklearn.ensemble import RandomForestRegressor\n",
        "from sklearn.ensemble import RandomForestClassifier\n",
        "from sklearn.linear_model import LogisticRegression, LinearRegression\n",
        "from sklearn import metrics\n",
        "from sklearn.model_selection import train_test_split\n"
      ],
      "execution_count": null,
      "outputs": []
    },
    {
      "cell_type": "markdown",
      "metadata": {
        "id": "ugA1NC9JIkaQ"
      },
      "source": [
        "upload the db file"
      ]
    },
    {
      "cell_type": "code",
      "metadata": {
        "id": "tTM3VXFdxXAg",
        "colab": {
          "base_uri": "https://localhost:8080/"
        },
        "outputId": "8ea6bf7c-dddf-4be2-ce81-c16daaca55cf"
      },
      "source": [
        "\n",
        "from google.colab import drive \n",
        "drive.mount('/content/gdrive')"
      ],
      "execution_count": null,
      "outputs": [
        {
          "output_type": "stream",
          "text": [
            "Drive already mounted at /content/gdrive; to attempt to forcibly remount, call drive.mount(\"/content/gdrive\", force_remount=True).\n"
          ],
          "name": "stdout"
        }
      ]
    },
    {
      "cell_type": "code",
      "metadata": {
        "id": "qxFu0jcL-D_c"
      },
      "source": [
        "#pd.set_option('display.max_columns', None)\n",
        "#pd.set_option('display.max_rows', None)"
      ],
      "execution_count": null,
      "outputs": []
    },
    {
      "cell_type": "markdown",
      "metadata": {
        "id": "XIscWVunTgQz"
      },
      "source": [
        "#**data preperation**"
      ]
    },
    {
      "cell_type": "markdown",
      "metadata": {
        "id": "L0yo_SQNZKME"
      },
      "source": [
        "read the file and create data frame"
      ]
    },
    {
      "cell_type": "code",
      "metadata": {
        "id": "bJRTzEg14lcM"
      },
      "source": [
        "df=pd.read_excel(\"/content/gdrive/My Drive/Colab Notebooks/MS_Notebooks/all_data_Livnat.xlsx\", names=['sample_code', 'diagnosis','TIM3_RQ', 'TIGIT_RQ', 'LAG3_RQ','gender','age_at_diagnosis', 'primary_EDSS_at_diagnosis','1_years_EDSS_from_sample_date' , '5_years_from_sample', 'EDSS_post_10_years' ,'oligoclonal_band', 'MRI_lesion_mass', 'treatment_when_sample_was_taken','Lymph_Cells','PMN_Cells','Cells' ])\n",
        "# remove empty rows\n",
        "df = df.dropna(how='all')\n",
        "# Print the first 10 rows of the data set\n",
        "print(df.head(150))\n",
        "# Get summary of numerical variables\n",
        "print(df.describe())"
      ],
      "execution_count": null,
      "outputs": []
    },
    {
      "cell_type": "code",
      "metadata": {
        "colab": {
          "base_uri": "https://localhost:8080/"
        },
        "id": "sSQVlGCENKSv",
        "outputId": "1eb2e10c-ce4d-4764-d1ff-bec86c3ffac9"
      },
      "source": [
        "columns = df.columns\n",
        "columns"
      ],
      "execution_count": null,
      "outputs": [
        {
          "output_type": "execute_result",
          "data": {
            "text/plain": [
              "Index(['sample_code', 'diagnosis', 'TIM3_RQ', 'TIGIT_RQ', 'LAG3_RQ', 'gender',\n",
              "       'age_at_diagnosis', 'primary_EDSS_at_diagnosis',\n",
              "       '1_years_EDSS_from_sample_date', '5_years_from_sample',\n",
              "       'EDSS_post_10_years', 'oligoclonal_band', 'MRI_lesion_mass',\n",
              "       'treatment_when_sample_was_taken', 'Lymph_Cells', 'PMN_Cells', 'Cells'],\n",
              "      dtype='object')"
            ]
          },
          "metadata": {
            "tags": []
          },
          "execution_count": 5
        }
      ]
    },
    {
      "cell_type": "markdown",
      "metadata": {
        "id": "z2lGUkzqMq2f"
      },
      "source": [
        "remove white space before and after the word:"
      ]
    },
    {
      "cell_type": "code",
      "metadata": {
        "id": "2CmM1lNQMthk"
      },
      "source": [
        "df = df.applymap(lambda x: x.strip() if type(x)==str else x)"
      ],
      "execution_count": null,
      "outputs": []
    },
    {
      "cell_type": "markdown",
      "metadata": {
        "id": "GOyI10N7ZMJX"
      },
      "source": [
        "Fix string values to upperCase"
      ]
    },
    {
      "cell_type": "code",
      "metadata": {
        "id": "O1eKGol1ZRwO"
      },
      "source": [
        "df['gender'] = df['gender'].str.upper()\n",
        "df['diagnosis'] = df['diagnosis'].str.upper()\n",
        "df['oligoclonal_band'] = df['oligoclonal_band'].str.upper()\n",
        "df['treatment_when_sample_was_taken'] = df['treatment_when_sample_was_taken'].str.upper()"
      ],
      "execution_count": null,
      "outputs": []
    },
    {
      "cell_type": "markdown",
      "metadata": {
        "id": "cRJE-YmuIkLG"
      },
      "source": [
        "global variable for number of rows"
      ]
    },
    {
      "cell_type": "code",
      "metadata": {
        "id": "Mkp96wkOIeRu",
        "colab": {
          "base_uri": "https://localhost:8080/"
        },
        "outputId": "a1159ff8-4056-46e6-8516-04f62c4003cc"
      },
      "source": [
        "count_row = df.shape[0]\n",
        "count_row"
      ],
      "execution_count": null,
      "outputs": [
        {
          "output_type": "execute_result",
          "data": {
            "text/plain": [
              "136"
            ]
          },
          "metadata": {
            "tags": []
          },
          "execution_count": 8
        }
      ]
    },
    {
      "cell_type": "markdown",
      "metadata": {
        "id": "mbTVDxlYpS-8"
      },
      "source": [
        "replace 'uk' and 'ND' to 'Nan'"
      ]
    },
    {
      "cell_type": "code",
      "metadata": {
        "id": "8M0ohKvUpWC9"
      },
      "source": [
        "df = df.replace({'UK': np.nan, 'uk': np.nan, 'ND': np.nan})"
      ],
      "execution_count": null,
      "outputs": []
    },
    {
      "cell_type": "code",
      "metadata": {
        "id": "4-42_X80MUUP"
      },
      "source": [
        "df.to_excel('dfNoUK.xlsx',index=False)"
      ],
      "execution_count": null,
      "outputs": []
    },
    {
      "cell_type": "code",
      "metadata": {
        "colab": {
          "base_uri": "https://localhost:8080/"
        },
        "id": "tLFO9v1LXT5-",
        "outputId": "d0203ee6-9952-4551-bce0-bfb1403912fb"
      },
      "source": [
        "df.shape"
      ],
      "execution_count": null,
      "outputs": [
        {
          "output_type": "execute_result",
          "data": {
            "text/plain": [
              "(136, 17)"
            ]
          },
          "metadata": {
            "tags": []
          },
          "execution_count": 11
        }
      ]
    },
    {
      "cell_type": "code",
      "metadata": {
        "id": "7uiNa26vk8_t"
      },
      "source": [
        "#define numeric type diagnosis\n",
        "df['age_at_diagnosis'] = df['age_at_diagnosis'].astype('int64')\n",
        "df['primary_EDSS_at_diagnosis'] = df['primary_EDSS_at_diagnosis'].astype('float64')\n",
        "df['TIGIT_RQ'] = df['TIGIT_RQ'].astype('float64')\n",
        "df['TIM3_RQ'] = df['TIM3_RQ'].astype('float64')\n",
        "df['LAG3_RQ'] = df['LAG3_RQ'].astype('float64')\n",
        "df['1_years_EDSS_from_sample_date'] = df['1_years_EDSS_from_sample_date'].astype('float64')\n",
        "df['5_years_from_sample'] = df['5_years_from_sample'].astype('float64')\n",
        "df['EDSS_post_10_years'] = df['EDSS_post_10_years'].astype('float64')\n",
        "# df['Cells'] = df['Cells'].astype('int64')\n",
        "\n",
        "\n",
        "#define numeric type MRI\n",
        "df['MRI_lesion_mass'] = df['MRI_lesion_mass'].astype('float64')\n",
        "\n",
        "#define category type diagnosis\n",
        "df['diagnosis'] = df['diagnosis'].astype('category')\n",
        "df['oligoclonal_band'] = df['oligoclonal_band'].astype('category')\n",
        "df['sample_code'] = df['sample_code'].astype('category')\n",
        "df['gender'] = df['gender'].astype('category')\n",
        "df['treatment_when_sample_was_taken'] = df['treatment_when_sample_was_taken'].astype('category')"
      ],
      "execution_count": null,
      "outputs": []
    },
    {
      "cell_type": "code",
      "metadata": {
        "id": "LLm5fbYVkqLG",
        "colab": {
          "base_uri": "https://localhost:8080/"
        },
        "outputId": "08f7201d-13c1-4698-a691-4ffe1716e234"
      },
      "source": [
        "df.dtypes"
      ],
      "execution_count": null,
      "outputs": [
        {
          "output_type": "execute_result",
          "data": {
            "text/plain": [
              "sample_code                        category\n",
              "diagnosis                          category\n",
              "TIM3_RQ                             float64\n",
              "TIGIT_RQ                            float64\n",
              "LAG3_RQ                             float64\n",
              "gender                             category\n",
              "age_at_diagnosis                      int64\n",
              "primary_EDSS_at_diagnosis           float64\n",
              "1_years_EDSS_from_sample_date       float64\n",
              "5_years_from_sample                 float64\n",
              "EDSS_post_10_years                  float64\n",
              "oligoclonal_band                   category\n",
              "MRI_lesion_mass                     float64\n",
              "treatment_when_sample_was_taken    category\n",
              "Lymph_Cells                         float64\n",
              "PMN_Cells                           float64\n",
              "Cells                               float64\n",
              "dtype: object"
            ]
          },
          "metadata": {
            "tags": []
          },
          "execution_count": 13
        }
      ]
    },
    {
      "cell_type": "code",
      "metadata": {
        "id": "gR2cF8P0z34t"
      },
      "source": [
        "mriLessionCol = df['MRI_lesion_mass']\n",
        "edssTenCol = df['primary_EDSS_at_diagnosis']\n",
        "edssTenCol = df['1_years_EDSS_from_sample_date']\n",
        "\n",
        "mriLessionCol = mriLessionCol[np.logical_not(np.isnan(mriLessionCol))]\n",
        "edssTenCol = edssTenCol[np.logical_not(np.isnan(edssTenCol))]\n",
        "edssTenCol = edssTenCol[np.logical_not(np.isnan(edssTenCol))]\n",
        "\n",
        "df['MRI_lesion_mass'].fillna(stats.median(mriLessionCol), inplace=True)\n",
        "df['primary_EDSS_at_diagnosis'].fillna(stats.median(edssTenCol), inplace=True)\n",
        "df['1_years_EDSS_from_sample_date'].fillna(stats.median(edssTenCol), inplace=True)\n"
      ],
      "execution_count": null,
      "outputs": []
    },
    {
      "cell_type": "code",
      "metadata": {
        "colab": {
          "base_uri": "https://localhost:8080/"
        },
        "id": "tLTpn6mCbQNY",
        "outputId": "60734ddd-50a5-4602-f686-d38079395e98"
      },
      "source": [
        "print(stats.median(df['Lymph_Cells']))"
      ],
      "execution_count": null,
      "outputs": [
        {
          "output_type": "stream",
          "text": [
            "nan\n"
          ],
          "name": "stdout"
        }
      ]
    },
    {
      "cell_type": "code",
      "metadata": {
        "id": "3PIMzoMqgduF"
      },
      "source": [
        "\n",
        "df['5_years_from_sample'].fillna(stats.median(df['5_years_from_sample']), inplace=True)\n",
        "df['EDSS_post_10_years'].fillna(stats.median(df['EDSS_post_10_years']), inplace=True)\n",
        "df['TIM3_RQ'].fillna(stats.median(df['TIM3_RQ']), inplace=True)\n",
        "df['TIGIT_RQ'].fillna(stats.median(df['TIGIT_RQ']), inplace=True)\n",
        "df['LAG3_RQ'].fillna(stats.median(df['LAG3_RQ']), inplace=True)\n",
        "df['oligoclonal_band'].fillna(stats.mode(df['oligoclonal_band']), inplace=True)\n",
        "df['gender'].fillna(stats.mode(df['gender']), inplace=True)\n",
        "df['Lymph_Cells'].fillna(np.nanmedian(df['Lymph_Cells']), inplace=True)\n",
        "df['Lymph_Cells'] = df['Lymph_Cells'].astype('int64')\n",
        "df['PMN_Cells'].fillna(np.nanmedian(df['PMN_Cells']), inplace=True)\n",
        "df['PMN_Cells'] = df['PMN_Cells'].astype('int64')\n",
        "df['Cells'].fillna(np.nanmedian(df['Cells']), inplace=True)\n",
        "df['Cells'] = df['Cells'].astype('int64')\n"
      ],
      "execution_count": null,
      "outputs": []
    },
    {
      "cell_type": "code",
      "metadata": {
        "colab": {
          "base_uri": "https://localhost:8080/"
        },
        "id": "aAcP2hMyXNyw",
        "outputId": "b783414f-d06f-4101-87e0-4976a4193a8e"
      },
      "source": [
        "df.shape"
      ],
      "execution_count": null,
      "outputs": [
        {
          "output_type": "execute_result",
          "data": {
            "text/plain": [
              "(136, 17)"
            ]
          },
          "metadata": {
            "tags": []
          },
          "execution_count": 17
        }
      ]
    },
    {
      "cell_type": "code",
      "metadata": {
        "id": "9Wmin_AFfmtW"
      },
      "source": [
        "# df = df.loc[df['treatment_when_sample_was_taken'] == 'TREATED']"
      ],
      "execution_count": null,
      "outputs": []
    },
    {
      "cell_type": "code",
      "metadata": {
        "colab": {
          "base_uri": "https://localhost:8080/"
        },
        "id": "moxnUYhoXXjf",
        "outputId": "4b21710e-015d-479a-d203-9163934d0818"
      },
      "source": [
        "df.shape"
      ],
      "execution_count": null,
      "outputs": [
        {
          "output_type": "execute_result",
          "data": {
            "text/plain": [
              "(136, 17)"
            ]
          },
          "metadata": {
            "tags": []
          },
          "execution_count": 19
        }
      ]
    },
    {
      "cell_type": "code",
      "metadata": {
        "id": "-D2v1u4saZ4v"
      },
      "source": [
        "df.to_excel('dfNoUKFillNa.xlsx',index=False)"
      ],
      "execution_count": null,
      "outputs": []
    },
    {
      "cell_type": "code",
      "metadata": {
        "id": "rMo32O6BBSoG",
        "colab": {
          "base_uri": "https://localhost:8080/",
          "height": 1000
        },
        "outputId": "78b331b7-af21-4d2a-ad56-4ebd90b6b522"
      },
      "source": [
        "import seaborn as sns\n",
        "sns.set_theme(style=\"ticks\", color_codes=True)\n",
        "sns.catplot(x=\"diagnosis\", kind=\"count\", palette=\"ch:.25\", data=df)\n",
        "sns.catplot(x=\"oligoclonal_band\", kind=\"count\", palette=\"ch:.25\", data=df)\n",
        "sns.catplot(x=\"gender\", kind=\"count\", palette=\"ch:.25\", data=df)\n",
        "sns.catplot(x=\"treatment_when_sample_was_taken\", kind=\"count\", palette=\"ch:.25\", data=df)"
      ],
      "execution_count": null,
      "outputs": [
        {
          "output_type": "execute_result",
          "data": {
            "text/plain": [
              "<seaborn.axisgrid.FacetGrid at 0x7f1e3f169b90>"
            ]
          },
          "metadata": {
            "tags": []
          },
          "execution_count": 22
        },
        {
          "output_type": "display_data",
          "data": {
            "image/png": "[encoded data removed]",
            "text/plain": [
              "<Figure size 360x360 with 1 Axes>"
            ]
          },
          "metadata": {
            "tags": []
          }
        },
        {
          "output_type": "display_data",
          "data": {
            "image/png": "[encoded data removed]",
            "text/plain": [
              "<Figure size 360x360 with 1 Axes>"
            ]
          },
          "metadata": {
            "tags": []
          }
        },
        {
          "output_type": "display_data",
          "data": {
            "image/png": "[encoded data removed]",
            "text/plain": [
              "<Figure size 360x360 with 1 Axes>"
            ]
          },
          "metadata": {
            "tags": []
          }
        },
        {
          "output_type": "display_data",
          "data": {
            "image/png": "[encoded data removed]",
            "text/plain": [
              "<Figure size 360x360 with 1 Axes>"
            ]
          },
          "metadata": {
            "tags": []
          }
        }
      ]
    },
    {
      "cell_type": "markdown",
      "metadata": {
        "id": "b1T___Z0jrAV"
      },
      "source": [
        "find min and max ranges"
      ]
    },
    {
      "cell_type": "code",
      "metadata": {
        "id": "ppOGd_GmZ5il",
        "colab": {
          "base_uri": "https://localhost:8080/"
        },
        "outputId": "a74f07c6-fed7-4ac1-85a6-8f5b3da644c1"
      },
      "source": [
        "print('age_at_diagnosis')\n",
        "max_value = df['age_at_diagnosis'].max() \n",
        "print(max_value)\n",
        "min_value = df['age_at_diagnosis'].min() \n",
        "print(min_value)\n",
        "\n",
        "print('primary_EDSS_at_diagnosis')\n",
        "max_value = df['primary_EDSS_at_diagnosis'].max() \n",
        "print(max_value)\n",
        "min_value = df['primary_EDSS_at_diagnosis'].min() \n",
        "print(min_value)\n",
        "\n",
        "\n",
        "print('TIGIT_RQ')\n",
        "max_value = df['TIGIT_RQ'].max() \n",
        "print(max_value)\n",
        "min_value = df['TIGIT_RQ'].min() \n",
        "print(min_value)\n",
        "\n",
        "print('TIM3_RQ')\n",
        "max_value = df['TIM3_RQ'].max() \n",
        "print(max_value)\n",
        "min_value = df['TIM3_RQ'].min() \n",
        "print(min_value)\n",
        "\n",
        "print('LAG3_RQ')\n",
        "max_value = df['LAG3_RQ'].max() \n",
        "print(max_value)\n",
        "min_value = df['LAG3_RQ'].min() \n",
        "print(min_value)\n",
        "\n",
        "\n",
        "print('1_years_EDSS_from_sample_date')\n",
        "max_value = df['1_years_EDSS_from_sample_date'].max() \n",
        "print(max_value)\n",
        "min_value = df['1_years_EDSS_from_sample_date'].min() \n",
        "print(min_value)\n",
        "\n",
        "\n",
        "print('5_years_from_sample')\n",
        "max_value = df['5_years_from_sample'].max() \n",
        "print(max_value)\n",
        "min_value = df['5_years_from_sample'].min() \n",
        "print(min_value)\n",
        "\n",
        "print('EDSS_post_10_years')\n",
        "max_value = df['EDSS_post_10_years'].max() \n",
        "print(max_value)\n",
        "min_value = df['EDSS_post_10_years'].min() \n",
        "print(min_value)\n",
        "\n",
        "\n",
        "print('MRI_lesion_mass')\n",
        "max_value = df['MRI_lesion_mass'].max() \n",
        "print(max_value)\n",
        "min_value = df['MRI_lesion_mass'].min() \n",
        "print(min_value)\n"
      ],
      "execution_count": null,
      "outputs": [
        {
          "output_type": "stream",
          "text": [
            "age_at_diagnosis\n",
            "67\n",
            "16\n",
            "primary_EDSS_at_diagnosis\n",
            "5.0\n",
            "0.0\n",
            "TIGIT_RQ\n",
            "2.963221522\n",
            "0.024232488\n",
            "TIM3_RQ\n",
            "4.498309339\n",
            "0.1453066436\n",
            "LAG3_RQ\n",
            "6.850679064\n",
            "0.01954158185\n",
            "1_years_EDSS_from_sample_date\n",
            "5.5\n",
            "0.0\n",
            "5_years_from_sample\n",
            "7.5\n",
            "0.0\n",
            "EDSS_post_10_years\n",
            "10.0\n",
            "0.0\n",
            "MRI_lesion_mass\n",
            "104776.0\n",
            "0.0\n"
          ],
          "name": "stdout"
        }
      ]
    },
    {
      "cell_type": "code",
      "metadata": {
        "id": "9zwSgN_4KKnd",
        "colab": {
          "base_uri": "https://localhost:8080/",
          "height": 1000
        },
        "outputId": "9ad7dcbd-a521-4034-ea30-af7edb3ff3ea"
      },
      "source": [
        "degrees = df['age_at_diagnosis']\n",
        "plt.hist(degrees, bins=[15,20,25,30,35,40,45,50,55])\n",
        "# plt.title('age')\n",
        "plt.xlabel('age_at_diagnosis')\n",
        "plt.ylabel('number of patients')\n",
        "plt.show()\n",
        "\n",
        "degrees = df['treatment_when_sample_was_taken']\n",
        "plt.hist(degrees, bins=[0,1,2,3,4,5])\n",
        "# plt.title('num_of_medicine_changed')\n",
        "plt.xlabel('treatment_when_sample_was_taken')\n",
        "plt.ylabel('number of patients')\n",
        "plt.show()\n",
        "\n",
        "\n",
        "degrees = df['TIGIT_RQ']\n",
        "plt.hist(degrees, bins=[0, 0.25, 0.5, 0.75, 1, 1.25, 1.5, 1.75, 2, 2.25, 2.5, 2.75, 3])\n",
        "# plt.title('TIGIT_RQ')\n",
        "plt.xlabel('TIGIT_RQ')\n",
        "plt.ylabel('number of patients')\n",
        "plt.show()\n",
        "\n",
        "\n",
        "degrees = df['TIM3_RQ']\n",
        "plt.hist(degrees, bins=[0, 0.25, 0.5, 0.75, 1, 1.25, 1.5, 1.75, 2, 2.25, 2.5, 2.75, 3, 3.25, 3.5, 3.75, 4, 4.25, 4.5])\n",
        "# plt.title('TIM3_RQ')\n",
        "plt.xlabel('TIM3_RQ')\n",
        "plt.ylabel('number of patients')\n",
        "plt.show()\n",
        "\n",
        "\n",
        "degrees = df['LAG3_RQ']\n",
        "plt.hist(degrees, bins=[0, 0.5, 1, 1.5, 2, 2.5, 3, 3.5, 4, 4.5, 5, 5.5, 6, 6.5, 7])\n",
        "# plt.title('LAG3_RQ')\n",
        "plt.xlabel('LAG3_RQ')\n",
        "plt.ylabel('number of patients')\n",
        "plt.show()\n",
        "\n",
        "\n",
        "\n",
        "degrees = df['primary_EDSS_at_diagnosis']\n",
        "plt.hist(degrees, bins=[0, 0.5, 1, 1.5, 2, 2.5, 3, 3.5, 4, 4.5])\n",
        "# plt.title('primary_EDSS_at_diagnosis')\n",
        "plt.xlabel('primary_EDSS_at_diagnosis')\n",
        "plt.ylabel('number of patients')\n",
        "plt.show()\n",
        "\n",
        "\n",
        "degrees = df['1_years_EDSS_from_sample_date']\n",
        "plt.hist(degrees, bins=[0, 0.5, 1, 1.5, 2, 2.5, 3, 3.5, 4, 4.5, 5, 5.5])\n",
        "# plt.title('1_years_EDSS_from_sample_date')\n",
        "plt.xlabel('1_years_EDSS_from_sample_date')\n",
        "plt.ylabel('number of patients')\n",
        "plt.show()\n",
        "\n",
        "\n",
        "\n",
        "degrees = df['5_years_from_sample']\n",
        "plt.hist(degrees, bins=[0, 0.5, 1, 1.5, 2, 2.5, 3, 3.5, 4, 4.5, 5, 5.5, 6, 6.5, 7, 7.5])\n",
        "# plt.title('5_years_EDSS_from_sample_date')\n",
        "plt.xlabel('5_years_EDSS_from_sample_date')\n",
        "plt.ylabel('number of patients')\n",
        "plt.show()\n",
        "\n",
        "\n",
        "degrees = df['EDSS_post_10_years']\n",
        "plt.hist(degrees, bins=[0, 0.5, 1, 1.5, 2, 2.5, 3, 3.5, 4, 4.5, 5, 5.5, 6, 6.5, 7, 7.5])\n",
        "# plt.title('EDSS_post_10_years')\n",
        "plt.xlabel('EDSS_post_10_years')\n",
        "plt.ylabel('number of patients')\n",
        "plt.show()\n",
        "\n",
        "\n",
        "degrees = df['MRI_lesion_mass']\n",
        "plt.hist(degrees)\n",
        "# plt.title('MRI_lesion_mass')\n",
        "plt.xlabel('MRI_lesion_mass')\n",
        "plt.ylabel('number of patients')\n",
        "plt.show()"
      ],
      "execution_count": null,
      "outputs": [
        {
          "output_type": "display_data",
          "data": {
            "image/png": "[encoded data removed]",
            "text/plain": [
              "<Figure size 432x288 with 1 Axes>"
            ]
          },
          "metadata": {
            "tags": []
          }
        },
        {
          "output_type": "display_data",
          "data": {
            "image/png": "[encoded data removed]",
            "text/plain": [
              "<Figure size 432x288 with 1 Axes>"
            ]
          },
          "metadata": {
            "tags": []
          }
        },
        {
          "output_type": "display_data",
          "data": {
            "image/png": "[encoded data removed]",
            "text/plain": [
              "<Figure size 432x288 with 1 Axes>"
            ]
          },
          "metadata": {
            "tags": []
          }
        },
        {
          "output_type": "display_data",
          "data": {
            "image/png": "[encoded data removed]",
            "text/plain": [
              "<Figure size 432x288 with 1 Axes>"
            ]
          },
          "metadata": {
            "tags": []
          }
        },
        {
          "output_type": "display_data",
          "data": {
            "image/png": "[encoded data removed]",
            "text/plain": [
              "<Figure size 432x288 with 1 Axes>"
            ]
          },
          "metadata": {
            "tags": []
          }
        },
        {
          "output_type": "display_data",
          "data": {
            "image/png": "[encoded data removed]",
            "text/plain": [
              "<Figure size 432x288 with 1 Axes>"
            ]
          },
          "metadata": {
            "tags": []
          }
        },
        {
          "output_type": "display_data",
          "data": {
            "image/png": "[encoded data removed]",
            "text/plain": [
              "<Figure size 432x288 with 1 Axes>"
            ]
          },
          "metadata": {
            "tags": []
          }
        },
        {
          "output_type": "display_data",
          "data": {
            "image/png": "[encoded data removed]",
            "text/plain": [
              "<Figure size 432x288 with 1 Axes>"
            ]
          },
          "metadata": {
            "tags": []
          }
        },
        {
          "output_type": "display_data",
          "data": {
            "image/png": "[encoded data removed]",
            "text/plain": [
              "<Figure size 432x288 with 1 Axes>"
            ]
          },
          "metadata": {
            "tags": []
          }
        },
        {
          "output_type": "display_data",
          "data": {
            "image/png": "[encoded data removed]",
            "text/plain": [
              "<Figure size 432x288 with 1 Axes>"
            ]
          },
          "metadata": {
            "tags": []
          }
        }
      ]
    },
    {
      "cell_type": "code",
      "metadata": {
        "id": "HvB1N0-nuekC"
      },
      "source": [
        "df_oligoclonal_band = pd.get_dummies(df['oligoclonal_band'])\n",
        "df_gender = pd.get_dummies(df['gender'])\n",
        "df_treatment = pd.get_dummies(df['treatment_when_sample_was_taken'])\n",
        "df_diagnosis = pd.get_dummies(df['diagnosis'])\n",
        "\n",
        "df = df.merge(df_oligoclonal_band, left_index=True, right_index=True)\n",
        "df = df.merge(df_gender, left_index=True, right_index=True)\n",
        "df = df.merge(df_treatment, left_index=True, right_index=True)\n",
        "df = df.merge(df_diagnosis, left_index=True, right_index=True)\n",
        "\n",
        "df = df.rename(columns = {'POS': 'positive_OCB','RRMS' : 'diagnosis_RRMS', 'M': 'Male', 'TREATED' : 'Is_Terated'}, inplace = False)"
      ],
      "execution_count": null,
      "outputs": []
    },
    {
      "cell_type": "code",
      "metadata": {
        "id": "vnbUARZ5wLFZ"
      },
      "source": [
        "df['positive_OCB'] = df['positive_OCB'].astype('category')\n",
        "df['Male'] = df['Male'].astype('category')\n",
        "df['diagnosis_RRMS'] = df['diagnosis_RRMS'].astype('category')\n",
        "df['Is_Terated'] = df['Is_Terated'].astype('category')"
      ],
      "execution_count": null,
      "outputs": []
    },
    {
      "cell_type": "code",
      "metadata": {
        "colab": {
          "base_uri": "https://localhost:8080/"
        },
        "id": "-sVbm9EyW8vG",
        "outputId": "e64b6bc6-ce08-449e-9e72-bb5c977397bc"
      },
      "source": [
        "df.shape"
      ],
      "execution_count": null,
      "outputs": [
        {
          "output_type": "execute_result",
          "data": {
            "text/plain": [
              "(136, 25)"
            ]
          },
          "metadata": {
            "tags": []
          },
          "execution_count": 27
        }
      ]
    },
    {
      "cell_type": "code",
      "metadata": {
        "id": "TKi99PhP7F5M"
      },
      "source": [
        "df.to_excel(\"Livnat_all.xlsx\")"
      ],
      "execution_count": null,
      "outputs": []
    },
    {
      "cell_type": "code",
      "metadata": {
        "id": "kXj4Ln7pxti9"
      },
      "source": [
        "df.to_pickle('DF_all_treated.pkl')"
      ],
      "execution_count": null,
      "outputs": []
    },
    {
      "cell_type": "code",
      "metadata": {
        "id": "fURa7mt54_Ar"
      },
      "source": [
        "categorical_features = ['gender','oligoclonal_band','diagnosis']"
      ],
      "execution_count": null,
      "outputs": []
    },
    {
      "cell_type": "code",
      "metadata": {
        "id": "IDZh7Hn54_As"
      },
      "source": [
        "df_all_treated = pd.read_pickle(\"/content/gdrive/My Drive/Colab Notebooks/MS_Notebooks/DF_all_treated.pkl\")\n",
        "df_all_treated = pd.get_dummies(df_all_treated, columns=categorical_features, drop_first=True)\n",
        "df_all_treated.drop(['treatment_when_sample_was_taken'], axis='columns', inplace=True)\n",
        "df_all_treated\n",
        "# df_all_treated.to_pickle('/content/gdrive/My Drive/Colab Notebooks/MS_Notebooks/df_Livnat_all_patients.pkl')\n"
      ],
      "execution_count": null,
      "outputs": []
    },
    {
      "cell_type": "code",
      "metadata": {
        "id": "n6K1fW_H933w"
      },
      "source": [
        "df"
      ],
      "execution_count": null,
      "outputs": []
    },
    {
      "cell_type": "markdown",
      "metadata": {
        "id": "SSUVypVvRYKh"
      },
      "source": [
        "#**older experiments**"
      ]
    },
    {
      "cell_type": "markdown",
      "metadata": {
        "id": "NCzzeXV2A3Ly"
      },
      "source": [
        "function for calculate cross validation score on one DB"
      ]
    },
    {
      "cell_type": "code",
      "metadata": {
        "id": "gdBQ5RTFFrmA"
      },
      "source": [
        "def calcCrossValidation(model, data, predictors, outcome):\n",
        "\n",
        "    # Perform k-fold cross-validation with 10 folds\n",
        "    kf = KFold(n_splits=10)\n",
        "    accuracy = []\n",
        "    for train, test in kf.split(data):\n",
        "        # Filter training data\n",
        "        train_predictors = (data[predictors].iloc[train, :])\n",
        "        # The target we're using to train the algorithm.\n",
        "        train_target = data[outcome].iloc[train]\n",
        "\n",
        "        # Training the algorithm using the predictors and target.\n",
        "        model.fit(train_predictors, train_target)\n",
        "        # Record accuracy from each cross-validation run\n",
        "        \n",
        "        accuracy.append(model.score(data[predictors].iloc[test, :], data[outcome].iloc[test]))\n",
        "  \n",
        "    print(\"Cross-Validation Score : %s\" % \"{0:.3%}\".format(np.mean(accuracy)))\n",
        "    print(accuracy)"
      ],
      "execution_count": null,
      "outputs": []
    },
    {
      "cell_type": "markdown",
      "metadata": {
        "id": "QB9Aq9q5Yqxu"
      },
      "source": [
        "function for calcuate RMSE on one DB only train "
      ]
    },
    {
      "cell_type": "code",
      "metadata": {
        "id": "XCaeeHhqYptH"
      },
      "source": [
        "def calc_rmse(model, data, predictors, outcome):\n",
        "  df_label = data[outcome]\n",
        "  df_predictors = data[predictors]\n",
        "  X_train, X_test, y_train, y_test = train_test_split(df_predictors, df_label)\n",
        "  # Fit the model on training set:\n",
        "  model.fit(X_train,  y_train)\n",
        "  # Make predictions on training set:\n",
        "  y_predicted = model.predict(X_test)\n",
        "  rmse = sqrt(mean_squared_error(y_test, y_predicted))  \n",
        "  print(rmse)"
      ],
      "execution_count": null,
      "outputs": []
    },
    {
      "cell_type": "markdown",
      "metadata": {
        "id": "xM4POuYFpWwA"
      },
      "source": [
        "function for calculate RMSE on Two databases. train on one and test on the other"
      ]
    },
    {
      "cell_type": "code",
      "metadata": {
        "id": "pIn_5o2ZsoC2"
      },
      "source": [
        "def calcRmseTwoDF(model, dataTrain, dataTest, predictors, outcome):\n",
        "\n",
        "    # Fit the model:\n",
        "    model.fit(dataTrain[predictors], dataTrain[outcome])\n",
        "    # Make predictions on training set:\n",
        "    predictions = model.predict(dataTest[predictors])\n",
        "    # Print accuracy\n",
        "    rmse = sqrt(mean_squared_error(dataTest[outcome], predictions))  \n",
        "    print(rmse)"
      ],
      "execution_count": null,
      "outputs": []
    },
    {
      "cell_type": "code",
      "metadata": {
        "id": "XPcJYH3ihOUZ"
      },
      "source": [
        "def calc_specificity(model, test_set, predicted):\n",
        "  specificity = tn / (tn +fp)\n"
      ],
      "execution_count": null,
      "outputs": []
    },
    {
      "cell_type": "markdown",
      "metadata": {
        "id": "wxcZ53DKNYX7"
      },
      "source": [
        "calculate accuracy just on train one DB"
      ]
    },
    {
      "cell_type": "code",
      "metadata": {
        "id": "rC74sZreFN4-"
      },
      "source": [
        "def calcAccuracy(model, data, predictors, outcome):\n",
        "    # Fit the model:\n",
        "    model.fit(data[predictors], data[outcome])\n",
        "    # Make predictions on training set:\n",
        "    predictions = model.predict(data[predictors])\n",
        "    # Print accuracy\n",
        "    accuracy = metrics.accuracy_score(predictions, data[outcome])\n",
        "    print(\"Training accuracy : %s\" % \"{0:.3%}\".format(accuracy))"
      ],
      "execution_count": null,
      "outputs": []
    },
    {
      "cell_type": "markdown",
      "metadata": {
        "id": "butTxKtlDg6F"
      },
      "source": [
        "calculate Accuracy Two databases train on one and test on the other"
      ]
    },
    {
      "cell_type": "code",
      "metadata": {
        "id": "CxVt3G48CgKS"
      },
      "source": [
        "def calcAccuracyTwoDF(model, dataTrain, dataTest, predictors, outcome):\n",
        "\n",
        "    # Fit the model:\n",
        "    model.fit(dataTrain[predictors], dataTrain[outcome])\n",
        "    # Make predictions on testing set:\n",
        "    predictions = model.predict(dataTest[predictors])\n",
        "    # Print accuracy\n",
        "    accuracy = metrics.accuracy_score(predictions, dataTest[outcome])\n",
        "    print(\"Training accuracy : %s\" % \"{0:.3%}\".format(accuracy))"
      ],
      "execution_count": null,
      "outputs": []
    },
    {
      "cell_type": "code",
      "metadata": {
        "id": "URY64xJNwr61"
      },
      "source": [
        "df.to_excel('dfcheck.xlsx',index=False)"
      ],
      "execution_count": null,
      "outputs": []
    },
    {
      "cell_type": "code",
      "metadata": {
        "id": "ZjGiOm353fCu",
        "colab": {
          "base_uri": "https://localhost:8080/"
        },
        "outputId": "43b762c1-c951-4aed-913d-4b803a7df7a2"
      },
      "source": [
        "df.dtypes"
      ],
      "execution_count": null,
      "outputs": [
        {
          "output_type": "execute_result",
          "data": {
            "text/plain": [
              "sample_code                        category\n",
              "diagnosis                          category\n",
              "TIM3_RQ                             float64\n",
              "TIGIT_RQ                            float64\n",
              "LAG3_RQ                             float64\n",
              "gender                             category\n",
              "age_at_diagnosis                      int64\n",
              "primary_EDSS_at_diagnosis           float64\n",
              "1_years_EDSS_from_sample_date       float64\n",
              "5_years_from_sample                 float64\n",
              "EDSS_post_10_years                  float64\n",
              "oligoclonal_band                   category\n",
              "MRI_lesion_mass                     float64\n",
              "treatment_when_sample_was_taken    category\n",
              "Lymph_Cells                           int64\n",
              "PMN_Cells                             int64\n",
              "Cells                                 int64\n",
              "NEG                                   uint8\n",
              "positive_OCB                       category\n",
              "F                                     uint8\n",
              "Male                               category\n",
              "Is_Terated                         category\n",
              "UNTREATED                             uint8\n",
              "diagnosis_RRMS                     category\n",
              "SPMS                                  uint8\n",
              "dtype: object"
            ]
          },
          "metadata": {
            "tags": []
          },
          "execution_count": 38
        }
      ]
    },
    {
      "cell_type": "code",
      "metadata": {
        "id": "LqMV3v3PgGLm",
        "colab": {
          "base_uri": "https://localhost:8080/"
        },
        "outputId": "13d60ada-dba7-43b6-bd7c-1e2b98e96c15"
      },
      "source": [
        "# check RMSE mergesDB - target EDSS - Random Forest Algorithm\n",
        "rf1 = RandomForestRegressor(n_estimators = 10, random_state = 42)\n",
        "predictor_var1 = ['MRI_lesion_mass', 'primary_EDSS_at_diagnosis','age_at_diagnosis','TIM3_RQ', 'TIGIT_RQ', 'LAG3_RQ', 'Male', 'positive_OCB']\n",
        "outcome_var1 = 'EDSS_post_10_years'\n",
        "calc_rmse(rf1, df, predictor_var1, outcome_var1)"
      ],
      "execution_count": null,
      "outputs": [
        {
          "output_type": "stream",
          "text": [
            "2.436479801584534\n"
          ],
          "name": "stdout"
        }
      ]
    },
    {
      "cell_type": "code",
      "metadata": {
        "id": "bSKgW1QSBGII",
        "colab": {
          "base_uri": "https://localhost:8080/"
        },
        "outputId": "1e3f8499-841f-46e4-fd12-6cf0ac08cea8"
      },
      "source": [
        "# check accuracy second DB target diagnosis_RRMS - Random Forest Algorithm\n",
        "rf2 = RandomForestClassifier(n_estimators=25, min_samples_split=25, max_depth=7, max_features='auto')\n",
        "predictor_var1 = ['MRI_lesion_mass', 'primary_EDSS_at_diagnosis','age_at_diagnosis','TIM3_RQ', 'TIGIT_RQ', 'LAG3_RQ', 'Male', 'positive_OCB']\n",
        "outcome_var1 = 'diagnosis_RRMS'\n",
        "calcAccuracy(rf2, df, predictor_var1, outcome_var1)"
      ],
      "execution_count": null,
      "outputs": [
        {
          "output_type": "stream",
          "text": [
            "Training accuracy : 86.765%\n"
          ],
          "name": "stdout"
        }
      ]
    },
    {
      "cell_type": "code",
      "metadata": {
        "id": "eBq4u3a76cW0",
        "colab": {
          "base_uri": "https://localhost:8080/"
        },
        "outputId": "60597d4b-27e3-482a-b9b3-c0fe81c8fc09"
      },
      "source": [
        "# check Cross Validation Score - Random Forest Algorithm\n",
        "rf3 = RandomForestClassifier(n_estimators=25, min_samples_split=25, max_depth=7, max_features='auto')\n",
        "# Train the model on training data\n",
        "predictor_var1 = ['MRI_lesion_mass', 'primary_EDSS_at_diagnosis','age_at_diagnosis','TIM3_RQ', 'TIGIT_RQ', 'LAG3_RQ', 'Male', 'positive_OCB']\n",
        "outcome_var = 'diagnosis_RRMS'\n",
        "calcCrossValidation(rf3, df, predictor_var1, outcome_var)"
      ],
      "execution_count": null,
      "outputs": [
        {
          "output_type": "stream",
          "text": [
            "Cross-Validation Score : 77.747%\n",
            "[1.0, 0.7857142857142857, 0.5, 0.8571428571428571, 0.9285714285714286, 0.8571428571428571, 0.7692307692307693, 0.6923076923076923, 0.46153846153846156, 0.9230769230769231]\n"
          ],
          "name": "stdout"
        }
      ]
    },
    {
      "cell_type": "markdown",
      "metadata": {
        "id": "oKzuipFRND9h"
      },
      "source": [
        "calculate RMSE target EDSS train on one DB and test on the other"
      ]
    },
    {
      "cell_type": "code",
      "metadata": {
        "id": "7ewuZvu8v_Lk"
      },
      "source": [
        "# rf4 = RandomForestRegressor(n_estimators = 10, random_state = 42)\n",
        "# predictor_var1 = ['MRI_lesion_mass', 'primary_EDSS_at_diagnosis','age_at_diagnosis','TIM3_RQ', 'TIGIT_RQ', 'LAG3_RQ', 'Male', 'positive_OCB']\n",
        "# outcome_var1 = 'EDSS_post_10_years'\n",
        "# calcRmseTwoDF(rf4, dfSecondDB, dfFirstDB, predictor_var1, outcome_var1)"
      ],
      "execution_count": null,
      "outputs": []
    },
    {
      "cell_type": "markdown",
      "metadata": {
        "id": "EjDiUVlPMzZT"
      },
      "source": [
        "calculate RMSE target EDSS train on one DB and test on the other"
      ]
    },
    {
      "cell_type": "code",
      "metadata": {
        "id": "F5kGYQWD2GzN"
      },
      "source": [
        "# rf5 = RandomForestRegressor(n_estimators = 10, random_state = 42)\n",
        "# predictor_var1 = ['MRI_lesion_mass', 'primary_EDSS_at_diagnosis','age_at_diagnosis','TIM3_RQ', 'TIGIT_RQ', 'LAG3_RQ', 'Male', 'positive_OCB']\n",
        "# outcome_var1 = 'EDSS_post_10_years'\n",
        "# calcRmseTwoDF(rf5, dfFirstDB, dfSecondDB, predictor_var1, outcome_var1)"
      ],
      "execution_count": null,
      "outputs": []
    },
    {
      "cell_type": "markdown",
      "metadata": {
        "id": "QgqeTIJG8xbt"
      },
      "source": [
        "using logistic regression model - prediction, p-value, feature importance"
      ]
    },
    {
      "cell_type": "markdown",
      "metadata": {
        "id": "TEWuJo3-KCM2"
      },
      "source": [
        "calc accuracy each df"
      ]
    },
    {
      "cell_type": "code",
      "metadata": {
        "id": "N3sACy7N9JT2",
        "colab": {
          "base_uri": "https://localhost:8080/"
        },
        "outputId": "9115a45e-b5d5-458d-a88c-c77e0accc367"
      },
      "source": [
        "logisticRegrDF = LogisticRegression()\n",
        "predictor_var1 = ['MRI_lesion_mass', 'primary_EDSS_at_diagnosis','age_at_diagnosis','TIM3_RQ', 'TIGIT_RQ', 'LAG3_RQ', 'Male', 'positive_OCB']\n",
        "outcome_var = 'diagnosis_RRMS'\n",
        "calcAccuracy(logisticRegrDF, df, predictor_var1, outcome_var)"
      ],
      "execution_count": null,
      "outputs": [
        {
          "output_type": "stream",
          "text": [
            "Training accuracy : 77.941%\n"
          ],
          "name": "stdout"
        }
      ]
    },
    {
      "cell_type": "markdown",
      "metadata": {
        "id": "lgePZT5nKIqm"
      },
      "source": [
        "calc accuracy both df merged"
      ]
    },
    {
      "cell_type": "code",
      "metadata": {
        "id": "OpUm-OZyJhIQ"
      },
      "source": [
        "# logisticRegrDFMerged = LogisticRegression(max_iter = 2000)\n",
        "# predictor_var = ['MRI_lesion_mass', 'primary_EDSS_at_diagnosis','age_at_diagnosis','TIM3_RQ', 'TIGIT_RQ', 'LAG3_RQ', 'Male', 'positive_OCB']\n",
        "# outcome_var = 'diagnosis_RRMS'\n",
        "# calcAccuracyTwoDF(logisticRegrDFMerged, dfFirstDB, dfSecondDB, predictor_var, outcome_var)"
      ],
      "execution_count": null,
      "outputs": []
    },
    {
      "cell_type": "code",
      "metadata": {
        "id": "H39Tn9xFroPF"
      },
      "source": [
        "# rf3 = RandomForestClassifier(n_estimators=25, min_samples_split=25, max_depth=7, max_features='auto')\n",
        "# predictor_var = ['MRI_lesion_mass', 'primary_EDSS_at_diagnosis','age_at_diagnosis','TIM3_RQ', 'TIGIT_RQ', 'LAG3_RQ', 'Male', 'positive_OCB']\n",
        "# outcome_var = 'diagnosis_RRMS'\n",
        "# calcAccuracyTwoDF(rf3, dfFirstDB, dfSecondDB, predictor_var, outcome_var)"
      ],
      "execution_count": null,
      "outputs": []
    },
    {
      "cell_type": "code",
      "metadata": {
        "id": "5xOVz_dCJ7r1"
      },
      "source": [
        "# logisticRegrDFMerged = LogisticRegression(max_iter = 2000)\n",
        "# predictor_var = ['MRI_lesion_mass', 'primary_EDSS_at_diagnosis','age_at_diagnosis','TIM3_RQ', 'TIGIT_RQ', 'LAG3_RQ', 'Male', 'positive_OCB']\n",
        "# outcome_var = 'diagnosis_RRMS'\n",
        "# calcAccuracyTwoDF(logisticRegrDFMerged, dfSecondDB, dfFirstDB, predictor_var, outcome_var)\n",
        "\n"
      ],
      "execution_count": null,
      "outputs": []
    },
    {
      "cell_type": "code",
      "metadata": {
        "id": "e2Ileit7saUi"
      },
      "source": [
        "# rf3 = RandomForestClassifier(n_estimators=25, min_samples_split=25, max_depth=7, max_features='auto')\n",
        "# predictor_var = ['MRI_lesion_mass', 'primary_EDSS_at_diagnosis','age_at_diagnosis','TIM3_RQ', 'TIGIT_RQ', 'LAG3_RQ', 'Male', 'positive_OCB']\n",
        "# outcome_var = 'diagnosis_RRMS'\n",
        "# calcAccuracyTwoDF(rf3, dfSecondDB, dfFirstDB, predictor_var, outcome_var)"
      ],
      "execution_count": null,
      "outputs": []
    },
    {
      "cell_type": "markdown",
      "metadata": {
        "id": "nUhTQAbJ6fkS"
      },
      "source": [
        "Calculate feature importances"
      ]
    },
    {
      "cell_type": "code",
      "metadata": {
        "id": "pzD4B37P0bc_",
        "colab": {
          "base_uri": "https://localhost:8080/"
        },
        "outputId": "76fad065-7157-4927-ab3b-2c9b519baf28"
      },
      "source": [
        "rf = RandomForestClassifier(n_estimators=25, min_samples_split=25, max_depth=7, max_features='auto')\n",
        "predictor_var = ['primary_EDSS_at_diagnosis', 'MRI_lesion_mass', 'age_at_diagnosis','TIM3_RQ', 'TIGIT_RQ', 'LAG3_RQ', 'Male', 'positive_OCB']\n",
        "outcome_var = 'diagnosis_RRMS'\n",
        "rf.fit(df[predictor_var], df[outcome_var])\n",
        "importances = rf.feature_importances_\n",
        "importances"
      ],
      "execution_count": null,
      "outputs": [
        {
          "output_type": "execute_result",
          "data": {
            "text/plain": [
              "array([0.38447912, 0.12422614, 0.12399779, 0.16795648, 0.04915879,\n",
              "       0.09392625, 0.03965936, 0.01659606])"
            ]
          },
          "metadata": {
            "tags": []
          },
          "execution_count": 49
        }
      ]
    },
    {
      "cell_type": "code",
      "metadata": {
        "id": "MxEujUEW-NEE"
      },
      "source": [
        "df.to_excel('dfcheck.xlsx',index=False)"
      ],
      "execution_count": null,
      "outputs": []
    },
    {
      "cell_type": "code",
      "metadata": {
        "id": "VKHn9nKvxuZO",
        "colab": {
          "base_uri": "https://localhost:8080/",
          "height": 285
        },
        "outputId": "002cd94b-a130-49fe-d10b-239f68d060ea"
      },
      "source": [
        "\n",
        "from sklearn import linear_model\n",
        "\n",
        "rf = RandomForestRegressor(n_estimators = 10, random_state = 42)\n",
        "\n",
        "\n",
        "\n",
        "\n",
        "\n",
        "from sklearn import datasets\n",
        "\n",
        "# boston = datasets.load_boston()\n",
        "# print(boston)\n",
        "# print(outcome_var)\n",
        "predictor_var = ['MRI_lesion_mass', 'primary_EDSS_at_diagnosis','age_at_diagnosis','TIM3_RQ', 'TIGIT_RQ', 'LAG3_RQ', 'Male', 'positive_OCB']\n",
        "outcome_var = 'EDSS_post_10_years'\n",
        "y = df[outcome_var]\n",
        "\n",
        "\n",
        "\n",
        "\n",
        "# df[outcome_var]\n",
        "\n",
        "from sklearn.model_selection import cross_val_predict\n",
        "\n",
        "predicted = cross_val_predict(rf, df[predictor_var], y, cv=10)\n",
        "\n",
        "\n",
        "fig, ax = plt.subplots()\n",
        "ax.scatter(y, predicted, edgecolors=(0, 0, 0))\n",
        "ax.plot([y.min(), y.max()], [y.min(), y.max()], 'k--', lw=4)\n",
        "ax.set_xlabel('Measured')\n",
        "ax.set_ylabel('Predicted')\n",
        "plt.show()"
      ],
      "execution_count": null,
      "outputs": [
        {
          "output_type": "display_data",
          "data": {
            "image/png": "[encoded data removed]",
            "text/plain": [
              "<Figure size 432x288 with 1 Axes>"
            ]
          },
          "metadata": {
            "tags": []
          }
        }
      ]
    },
    {
      "cell_type": "code",
      "metadata": {
        "id": "EPR8or6FOxYR"
      },
      "source": [
        "# print(__doc__)\n",
        "\n",
        "# import numpy as np\n",
        "# import matplotlib.pyplot as plt\n",
        "\n",
        "# from sklearn import svm, datasets\n",
        "# from sklearn.model_selection import train_test_split\n",
        "# from sklearn.metrics import plot_confusion_matrix\n",
        "\n",
        "# model = RandomForestClassifier(n_estimators=25, min_samples_split=25, max_depth=7, max_features='auto')\n",
        "# predictor_var = ['MRI_lesion_mass', 'primary_EDSS_at_diagnosis','age_at_diagnosis','TIM3_RQ', 'TIGIT_RQ', 'LAG3_RQ', 'PD-1_RQ', 'Male', 'positive_OCB']\n",
        "# outcome_var = 'diagnosis_RRMS'\n",
        "\n",
        "# # Fit the model:\n",
        "# model.fit(dfMerged[predictor_var], dfMerged[outcome_var])\n",
        "# # Make predictions on training set:\n",
        "# predictions = model.predict(dfMerged[predictor_var])\n",
        "# # Print accuracy\n",
        "\n",
        "# # Plot non-normalized confusion matrix\n",
        "# titles_options = [(\"Confusion matrix, without normalization\", None),\n",
        "#                   (\"Normalized confusion matrix\", 'true')]\n",
        "# for title, normalize in titles_options:\n",
        "#     disp = plot_confusion_matrix(model, X_test, y_test,\n",
        "#                                  display_labels=class_names,\n",
        "#                                  cmap=plt.cm.Blues,\n",
        "#                                  normalize=normalize)\n",
        "#     disp.ax_.set_title(title)\n",
        "\n",
        "#     print(title)\n",
        "#     print(disp.confusion_matrix)\n",
        "\n",
        "# plt.show()\n",
        "\n",
        "\n",
        "# # X = dfMerged[predictor_var]\n",
        "# # y = dfMerged[outcome_var]\n",
        "# class_names = ['SPMS', 'RRMS']\n",
        "\n",
        "# # Split the data into a training set and a test set\n",
        "# X_train, X_test, y_train, y_test = train_test_split(X, y, random_state=0)\n",
        "\n",
        "# # # Run classifier, using a model that is too regularized (C too low) to see\n",
        "# # # the impact on the results\n",
        "# # classifier = svm.SVC(kernel='linear', C=0.01).fit(X_train, y_train)\n",
        "\n",
        "# np.set_printoptions(precision=2)\n",
        "\n",
        "# # Plot non-normalized confusion matrix\n",
        "# titles_options = [(\"Confusion matrix, without normalization\", None),\n",
        "#                   (\"Normalized confusion matrix\", 'true')]\n",
        "# for title, normalize in titles_options:\n",
        "#     disp = plot_confusion_matrix(classifier, X_test, y_test,\n",
        "#                                  display_labels=class_names,\n",
        "#                                  cmap=plt.cm.Blues,\n",
        "#                                  normalize=normalize)\n",
        "#     disp.ax_.set_title(title)\n",
        "\n",
        "#     print(title)\n",
        "#     print(disp.confusion_matrix)\n",
        "\n",
        "# plt.show()"
      ],
      "execution_count": null,
      "outputs": []
    },
    {
      "cell_type": "code",
      "metadata": {
        "id": "xGvmciG3Q1cf"
      },
      "source": [
        "df.to_csv('df_all_patients_weka_all.csv',index=False)"
      ],
      "execution_count": null,
      "outputs": []
    },
    {
      "cell_type": "code",
      "metadata": {
        "id": "EgptLL__wZmp",
        "colab": {
          "base_uri": "https://localhost:8080/"
        },
        "outputId": "7c7458e7-7f2a-48d6-f1cc-4a140a4ab44e"
      },
      "source": [
        "rf = RandomForestClassifier(n_estimators=25, min_samples_split=25, max_depth=7, max_features='auto')\n",
        "predictor_var = ['primary_EDSS_at_diagnosis', 'MRI_lesion_mass', 'age_at_diagnosis','TIM3_RQ', 'TIGIT_RQ', 'LAG3_RQ', 'Male', 'positive_OCB']\n",
        "outcome_var = 'diagnosis_RRMS'\n",
        "rf.fit(df[predictor_var], df[outcome_var])\n",
        "importances = rf.feature_importances_\n",
        "importances"
      ],
      "execution_count": null,
      "outputs": [
        {
          "output_type": "execute_result",
          "data": {
            "text/plain": [
              "array([0.3635043 , 0.08972285, 0.11088333, 0.18049229, 0.10906431,\n",
              "       0.11037719, 0.01201166, 0.02394407])"
            ]
          },
          "metadata": {
            "tags": []
          },
          "execution_count": 54
        }
      ]
    },
    {
      "cell_type": "code",
      "metadata": {
        "id": "m4zj_z2FxJY1",
        "colab": {
          "base_uri": "https://localhost:8080/"
        },
        "outputId": "b85e1006-c2f6-49a3-abd0-6d55e215e400"
      },
      "source": [
        "logisticRegrDF = LogisticRegression()\n",
        "predictor_var1 = ['MRI_lesion_mass', 'primary_EDSS_at_diagnosis','age_at_diagnosis','TIM3_RQ', 'TIGIT_RQ', 'LAG3_RQ', 'Male', 'positive_OCB']\n",
        "outcome_var = 'diagnosis_RRMS'\n",
        "calcAccuracy(logisticRegrDF, df, predictor_var1, outcome_var)"
      ],
      "execution_count": null,
      "outputs": [
        {
          "output_type": "stream",
          "text": [
            "Training accuracy : 77.941%\n"
          ],
          "name": "stdout"
        }
      ]
    }
  ]
}