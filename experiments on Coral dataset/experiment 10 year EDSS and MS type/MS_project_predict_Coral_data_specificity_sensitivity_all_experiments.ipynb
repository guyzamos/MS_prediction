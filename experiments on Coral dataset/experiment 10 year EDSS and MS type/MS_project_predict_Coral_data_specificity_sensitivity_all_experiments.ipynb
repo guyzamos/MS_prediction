{
  "nbformat": 4,
  "nbformat_minor": 0,
  "metadata": {
    "colab": {
      "name": "MS project - predict_Coral_data_specificity_sensitivity_all_experiments.ipynb",
      "provenance": [],
      "collapsed_sections": []
    },
    "kernelspec": {
      "name": "python3",
      "display_name": "Python 3"
    },
    "language_info": {
      "name": "python"
    }
  },
  "cells": [
    {
      "cell_type": "markdown",
      "metadata": {
        "id": "M6tv6Y_weQ8z"
      },
      "source": [
        "import all the relevant libraries"
      ]
    },
    {
      "cell_type": "code",
      "metadata": {
        "id": "-z7hXJSeptCa"
      },
      "source": [
        "import pandas as pd\n",
        "import numpy as np\n",
        "import matplotlib.pyplot as plt\n",
        "import statistics as stats\n",
        "import io\n",
        "from sklearn.metrics import mean_squared_error\n",
        "from math import sqrt\n",
        "from sklearn.preprocessing import LabelEncoder\n",
        "from sklearn.model_selection import KFold\n",
        "from sklearn.ensemble import RandomForestRegressor\n",
        "from sklearn.ensemble import RandomForestClassifier\n",
        "from sklearn.linear_model import LogisticRegression\n",
        "from sklearn import metrics\n",
        "from sklearn.model_selection import train_test_split\n"
      ],
      "execution_count": null,
      "outputs": []
    },
    {
      "cell_type": "markdown",
      "metadata": {
        "id": "ugA1NC9JIkaQ"
      },
      "source": [
        "upload the db file"
      ]
    },
    {
      "cell_type": "code",
      "metadata": {
        "id": "tTM3VXFdxXAg",
        "colab": {
          "base_uri": "https://localhost:8080/"
        },
        "outputId": "75053244-2700-4214-aaac-5d82967d2454"
      },
      "source": [
        "from google.colab import drive \n",
        "drive.mount('/content/gdrive')"
      ],
      "execution_count": null,
      "outputs": [
        {
          "output_type": "stream",
          "text": [
            "Mounted at /content/gdrive\n"
          ],
          "name": "stdout"
        }
      ]
    },
    {
      "cell_type": "code",
      "metadata": {
        "id": "qxFu0jcL-D_c"
      },
      "source": [
        "pd.set_option('display.max_columns', None)\n",
        "pd.set_option('display.max_rows', None)"
      ],
      "execution_count": null,
      "outputs": []
    },
    {
      "cell_type": "markdown",
      "metadata": {
        "id": "-Vhh3gn21Pr9"
      },
      "source": [
        "# **helper functions**"
      ]
    },
    {
      "cell_type": "code",
      "metadata": {
        "id": "w_7eISOAnALK"
      },
      "source": [
        "const_seed = 42"
      ],
      "execution_count": null,
      "outputs": []
    },
    {
      "cell_type": "code",
      "metadata": {
        "id": "MqB235vSgrNj"
      },
      "source": [
        "def calcCrossValidation_Matrix(model, df, predictors, outcome):\n",
        "\n",
        "  total_tp = 0\n",
        "  total_tn = 0\n",
        "  total_fp = 0\n",
        "  total_fn = 0\n",
        "\n",
        "  # Perform k-fold cross-validation with 10 folds\n",
        "  kf = KFold(n_splits=df.shape[0])\n",
        "  accuracy = []\n",
        "  for train, test in kf.split(df):\n",
        "      # print(\"1\")\n",
        "\n",
        "      # Filter training data\n",
        "      train_predictors = (df[predictors].iloc[train, :])\n",
        "      # The target we're using to train the algorithm.\n",
        "      train_target = df[outcome].iloc[train]\n",
        "      # print(\"1\")\n",
        "\n",
        "      test_predictors = (df[predictors].iloc[test, :])\n",
        "      # The target we're using to train the algorithm.\n",
        "      test_target = df[outcome].iloc[test]\n",
        "      # print(\"1\")\n",
        "\n",
        "\n",
        "      # Training the algorithm using the predictors and target.\n",
        "      model.fit(train_predictors, train_target)\n",
        "      predictions = model.predict(test_predictors)\n",
        "      # cm = confusion_matrix(test_target, predictions)\n",
        "      # print(cm)\n",
        "      # print(\"1\")\n",
        "      # print(\"test_target\")\n",
        "      test_target = test_target.to_numpy()\n",
        "      # print(test_target)\n",
        "      # np.array(df[outcome].values.tolist())\n",
        "      # print(type(test_target))\n",
        "      # print(\"predictions\")\n",
        "      # print(predictions)\n",
        "      # print(type(predictions))\n",
        "\n",
        "      tn, fp, fn, tp = perf_measure(test_target, predictions)\n",
        "      # print(\"1\")\n",
        "\n",
        "      total_tp += tp\n",
        "      total_tn += tn\n",
        "      total_fp += fp\n",
        "      total_fn += fn\n",
        "\n",
        "  # print(total_tn, total_fp, total_fn, total_tp)\n",
        "  return total_tn, total_fp, total_fn, total_tp "
      ],
      "execution_count": null,
      "outputs": []
    },
    {
      "cell_type": "code",
      "metadata": {
        "id": "QmkOlEBaYWIh"
      },
      "source": [
        "def perf_measure(y_actual, y_hat):\n",
        "    TP = 0\n",
        "    FP = 0\n",
        "    TN = 0\n",
        "    FN = 0\n",
        "\n",
        "    for i in range(len(y_hat)): \n",
        "        if y_actual[i]==y_hat[i]==1:\n",
        "           TP += 1\n",
        "        if y_hat[i]==1 and y_actual[i]!=y_hat[i]:\n",
        "           FP += 1\n",
        "        if y_actual[i]==y_hat[i]==0:\n",
        "           TN += 1\n",
        "        if y_hat[i]==0 and y_actual[i]!=y_hat[i]:\n",
        "           FN += 1\n",
        "    # print(TN, FP, FN, TP)\n",
        "    return(TN, FP, FN, TP)"
      ],
      "execution_count": null,
      "outputs": []
    },
    {
      "cell_type": "code",
      "metadata": {
        "id": "0n-dU50HohOo"
      },
      "source": [
        "def calc_specificity(tn, fp, fn, tp):\n",
        "  return tn / (tn +fp)"
      ],
      "execution_count": null,
      "outputs": []
    },
    {
      "cell_type": "code",
      "metadata": {
        "id": "RqfyFAOYpXdx"
      },
      "source": [
        "def calc_sensitivity(tn, fp, fn, tp):\n",
        "  return tp / (tp +fn)"
      ],
      "execution_count": null,
      "outputs": []
    },
    {
      "cell_type": "markdown",
      "metadata": {
        "id": "TpsdJVblGsno"
      },
      "source": [
        "#Coral experiments"
      ]
    },
    {
      "cell_type": "code",
      "metadata": {
        "id": "ji-nN9tpxSGm"
      },
      "source": [
        "df_untreated = pd.read_pickle(\"/content/gdrive/My Drive/Colab Notebooks/MS_Notebooks/DFDB2Final.pkl\")\n",
        "\n",
        "df_untreated"
      ],
      "execution_count": null,
      "outputs": []
    },
    {
      "cell_type": "code",
      "metadata": {
        "colab": {
          "base_uri": "https://localhost:8080/"
        },
        "id": "4io1KV7v6G-A",
        "outputId": "5f5a7268-8ac3-43c1-84ca-02843ee7cb7f"
      },
      "source": [
        "df_untreated.columns"
      ],
      "execution_count": null,
      "outputs": [
        {
          "output_type": "execute_result",
          "data": {
            "text/plain": [
              "Index(['sample_code', 'gender', 'age_at_diagnosis', 'diagnosis',\n",
              "       'diagnosis_status', 'primary_EDSS_at_diagnosis',\n",
              "       'num_of_medicine_changed', 'MRI_lesion_mass', 'oligoclonal_band',\n",
              "       'TIGIT_RQ', 'TIM3_RQ', 'LAG3_RQ', 'PD-1_RQ', 'RQ_CTLA4',\n",
              "       '1_years_EDSS_from_sample_date', '3_years_from_sample',\n",
              "       '5_years_from_sample', 'EDSS_post_10_years', 'NEG', 'positive_OCB', 'F',\n",
              "       'Male', 'BENIGN', 'MALIGNANT', 'STANDARD', 'diagnosis_RRMS', 'SPMS'],\n",
              "      dtype='object')"
            ]
          },
          "metadata": {
            "tags": []
          },
          "execution_count": 10
        }
      ]
    },
    {
      "cell_type": "code",
      "metadata": {
        "colab": {
          "base_uri": "https://localhost:8080/"
        },
        "id": "xLQS6HQcyfo-",
        "outputId": "423d9fb0-671c-40be-f7fd-1633e0bbf91b"
      },
      "source": [
        "df_untreated.shape"
      ],
      "execution_count": null,
      "outputs": [
        {
          "output_type": "execute_result",
          "data": {
            "text/plain": [
              "(57, 27)"
            ]
          },
          "metadata": {
            "tags": []
          },
          "execution_count": 11
        }
      ]
    },
    {
      "cell_type": "code",
      "metadata": {
        "id": "GyD-p5HZzSQ_"
      },
      "source": [
        "# categorical_features = ['gender','oligoclonal_band','diagnosis']\n",
        "# df_untreated = pd.get_dummies(df_untreated, columns=categorical_features, drop_first=True)\n",
        "# df_untreated.drop(['treatment_when_sample_was_taken', 'sample_code'], axis='columns', inplace=True)\n",
        "df_untreated = df_untreated[['age_at_diagnosis',\n",
        "       'primary_EDSS_at_diagnosis',\n",
        "        'MRI_lesion_mass',\n",
        "       'TIGIT_RQ', 'TIM3_RQ', 'LAG3_RQ', 'PD-1_RQ', 'RQ_CTLA4',\n",
        "       'positive_OCB',\n",
        "       'Male', 'MALIGNANT', 'STANDARD','SPMS', 'EDSS_post_10_years']]\n",
        "df_untreated\n"
      ],
      "execution_count": null,
      "outputs": []
    },
    {
      "cell_type": "code",
      "metadata": {
        "colab": {
          "base_uri": "https://localhost:8080/"
        },
        "id": "RoLPCr_VLI9n",
        "outputId": "9c490e72-4755-4b02-86b1-2255b176e4f4"
      },
      "source": [
        "df_untreated.shape"
      ],
      "execution_count": null,
      "outputs": [
        {
          "output_type": "execute_result",
          "data": {
            "text/plain": [
              "(57, 14)"
            ]
          },
          "metadata": {
            "tags": []
          },
          "execution_count": 13
        }
      ]
    },
    {
      "cell_type": "code",
      "metadata": {
        "colab": {
          "base_uri": "https://localhost:8080/"
        },
        "id": "t9kJXvTXAfI7",
        "outputId": "45b3d3d0-eca6-431b-9e35-242e50286771"
      },
      "source": [
        "df_untreated.columns.values"
      ],
      "execution_count": null,
      "outputs": [
        {
          "output_type": "execute_result",
          "data": {
            "text/plain": [
              "array(['age_at_diagnosis', 'primary_EDSS_at_diagnosis', 'MRI_lesion_mass',\n",
              "       'TIGIT_RQ', 'TIM3_RQ', 'LAG3_RQ', 'PD-1_RQ', 'RQ_CTLA4',\n",
              "       'positive_OCB', 'Male', 'MALIGNANT', 'STANDARD', 'SPMS',\n",
              "       'EDSS_post_10_years'], dtype=object)"
            ]
          },
          "metadata": {
            "tags": []
          },
          "execution_count": 14
        }
      ]
    },
    {
      "cell_type": "markdown",
      "metadata": {
        "id": "UCDUgSXbMo5J"
      },
      "source": [
        "all features"
      ]
    },
    {
      "cell_type": "code",
      "metadata": {
        "id": "ibqfPzH4z9Q0"
      },
      "source": [
        "def min_max_normalize_features(dataframe, numeric_list):\n",
        "    for num_feature in numeric_list:\n",
        "        dataframe[num_feature] = (dataframe[num_feature] - dataframe[num_feature].min()) / (\n",
        "                dataframe[num_feature].max() - dataframe[num_feature].min())\n",
        "    return dataframe"
      ],
      "execution_count": null,
      "outputs": []
    },
    {
      "cell_type": "code",
      "metadata": {
        "id": "cHu-k3-E0bSG"
      },
      "source": [
        "numeric_features = ['age_at_diagnosis', 'primary_EDSS_at_diagnosis',\n",
        "        'MRI_lesion_mass',\n",
        "       'TIGIT_RQ', 'TIM3_RQ', 'LAG3_RQ', 'PD-1_RQ', 'RQ_CTLA4']\n",
        "df_untreated = min_max_normalize_features(df_untreated, numeric_features)\n",
        "df_untreated"
      ],
      "execution_count": null,
      "outputs": []
    },
    {
      "cell_type": "markdown",
      "metadata": {
        "id": "kvEgYDBmKLr9"
      },
      "source": [
        "all features"
      ]
    },
    {
      "cell_type": "code",
      "metadata": {
        "colab": {
          "base_uri": "https://localhost:8080/"
        },
        "id": "zISrNTfN3Sfr",
        "outputId": "54eeb27c-cba7-4fa3-9713-b5c13f13dfe6"
      },
      "source": [
        "from sklearn.metrics import confusion_matrix\n",
        "\n",
        "logisticRegrDF = LogisticRegression(max_iter = 4000, random_state=const_seed)\n",
        "predictor_var1 = ['age_at_diagnosis',\n",
        "       'primary_EDSS_at_diagnosis',\n",
        "        'MRI_lesion_mass',\n",
        "       'TIGIT_RQ', 'TIM3_RQ', 'LAG3_RQ', 'PD-1_RQ', 'RQ_CTLA4','positive_OCB',\n",
        "       'Male', 'MALIGNANT', 'STANDARD']\n",
        "outcome_var = 'SPMS'\n",
        "tn, fp, fn, tp = calcCrossValidation_Matrix(logisticRegrDF, df_untreated, predictor_var1, outcome_var)\n",
        "print(calc_specificity(tn, fp, fn, tp))\n",
        "print(calc_sensitivity(tn, fp, fn, tp))\n",
        "coefficients = pd.concat([pd.DataFrame(predictor_var1), pd.DataFrame(np.transpose(logisticRegrDF.coef_))], axis=1)\n",
        "coefficients.columns = ['feature_name', 'coefficient_val']\n",
        "coefficients = coefficients.sort_values(by=['coefficient_val'], ascending=False)\n",
        "coefficients.to_excel('coef_no_abs.xlsx')\n",
        "coefficients['coefficient_val'] = coefficients['coefficient_val'].abs()\n",
        "\n",
        "coefficients = coefficients.sort_values(by=['coefficient_val'], ascending=False)\n",
        "coefficients.to_excel('coef_abs.xlsx')\n",
        "\n",
        "print(coefficients)\n"
      ],
      "execution_count": null,
      "outputs": [
        {
          "output_type": "stream",
          "text": [
            "1.0\n",
            "0.85\n",
            "                 feature_name  coefficient_val\n",
            "10                  MALIGNANT         2.924745\n",
            "1   primary_EDSS_at_diagnosis         0.857473\n",
            "4                     TIM3_RQ         0.505537\n",
            "2             MRI_lesion_mass         0.493807\n",
            "9                        Male         0.445843\n",
            "7                    RQ_CTLA4         0.329385\n",
            "6                     PD-1_RQ         0.327388\n",
            "5                     LAG3_RQ         0.261731\n",
            "8                positive_OCB         0.208572\n",
            "3                    TIGIT_RQ         0.177109\n",
            "11                   STANDARD         0.039710\n",
            "0            age_at_diagnosis         0.007485\n"
          ],
          "name": "stdout"
        }
      ]
    },
    {
      "cell_type": "code",
      "metadata": {
        "colab": {
          "base_uri": "https://localhost:8080/",
          "height": 554
        },
        "id": "iZgWqqmcJmgI",
        "outputId": "cbf0f955-942c-4b8b-a649-33138499aa8f"
      },
      "source": [
        "from sklearn.metrics import confusion_matrix\n",
        "import numpy as np\n",
        "import matplotlib.pyplot as plt\n",
        "\n",
        "from sklearn.datasets import make_classification\n",
        "from sklearn.ensemble import ExtraTreesClassifier\n",
        "\n",
        "\n",
        "rf = RandomForestClassifier(n_estimators=25, min_samples_split=9, max_depth=15, max_features='auto',random_state=const_seed)\n",
        "predictor_var1 = ['age_at_diagnosis',\n",
        "       'primary_EDSS_at_diagnosis',\n",
        "        'MRI_lesion_mass',\n",
        "       'TIGIT_RQ', 'TIM3_RQ', 'LAG3_RQ', 'PD-1_RQ', 'RQ_CTLA4','positive_OCB',\n",
        "       'Male', 'MALIGNANT', 'STANDARD']\n",
        "outcome_var = 'SPMS'\n",
        "tn, fp, fn, tp = calcCrossValidation_Matrix(rf, df_untreated, predictor_var1, outcome_var)\n",
        "print(calc_specificity(tn, fp, fn, tp))\n",
        "print(calc_sensitivity(tn, fp, fn, tp))\n",
        "# importances = rf.feature_importances_\n",
        "# importances\n",
        "importances = rf.feature_importances_\n",
        "std = np.std([tree.feature_importances_ for tree in rf.estimators_],\n",
        "             axis=0)\n",
        "indices = np.argsort(importances)[::-1]\n",
        "\n",
        "# Print the feature ranking\n",
        "print(\"Feature ranking:\")\n",
        "\n",
        "for f in range(len(predictor_var1)):\n",
        "    print(\"%d. feature %d %s (%f)\" % (f + 1, indices[f],predictor_var1[indices[f]], importances[indices[f]]))\n",
        "\n",
        "# Plot the impurity-based feature importances of the forest\n",
        "plt.figure()\n",
        "plt.title(\"Feature importances\")\n",
        "plt.bar(range(len(predictor_var1)), importances[indices],\n",
        "        color=\"r\", yerr=std[indices], align=\"center\")\n",
        "plt.xticks(range(len(predictor_var1)), indices)\n",
        "plt.xlim([-1, len(predictor_var1)])\n",
        "plt.show()\n"
      ],
      "execution_count": null,
      "outputs": [
        {
          "output_type": "stream",
          "text": [
            "1.0\n",
            "0.85\n",
            "Feature ranking:\n",
            "1. feature 10 MALIGNANT (0.265207)\n",
            "2. feature 1 primary_EDSS_at_diagnosis (0.152532)\n",
            "3. feature 4 TIM3_RQ (0.109286)\n",
            "4. feature 5 LAG3_RQ (0.094525)\n",
            "5. feature 2 MRI_lesion_mass (0.092084)\n",
            "6. feature 3 TIGIT_RQ (0.091120)\n",
            "7. feature 6 PD-1_RQ (0.067685)\n",
            "8. feature 0 age_at_diagnosis (0.043612)\n",
            "9. feature 7 RQ_CTLA4 (0.035195)\n",
            "10. feature 9 Male (0.021903)\n",
            "11. feature 8 positive_OCB (0.019098)\n",
            "12. feature 11 STANDARD (0.007754)\n"
          ],
          "name": "stdout"
        },
        {
          "output_type": "display_data",
          "data": {
            "image/png": "[encoded data removed]",
            "text/plain": [
              "<Figure size 432x288 with 1 Axes>"
            ]
          },
          "metadata": {
            "tags": [],
            "needs_background": "light"
          }
        }
      ]
    },
    {
      "cell_type": "code",
      "metadata": {
        "id": "HjUnsRBQXDS2"
      },
      "source": [
        ""
      ],
      "execution_count": null,
      "outputs": []
    },
    {
      "cell_type": "markdown",
      "metadata": {
        "id": "XvUq3hHyMrAy"
      },
      "source": [
        "no genes"
      ]
    },
    {
      "cell_type": "code",
      "metadata": {
        "id": "YO03kv6QMPhT",
        "colab": {
          "base_uri": "https://localhost:8080/"
        },
        "outputId": "f5efd045-d0ca-4d2c-d3ff-43d4874758ca"
      },
      "source": [
        "from sklearn.metrics import confusion_matrix\n",
        "\n",
        "logisticRegrDF = LogisticRegression(max_iter = 4000,random_state=const_seed)\n",
        "predictor_var1 = ['age_at_diagnosis',\n",
        "       'primary_EDSS_at_diagnosis',\n",
        "        'MRI_lesion_mass','positive_OCB',\n",
        "       'Male', 'MALIGNANT', 'STANDARD']\n",
        "outcome_var = 'SPMS'\n",
        "tn, fp, fn, tp = calcCrossValidation_Matrix(logisticRegrDF, df_untreated, predictor_var1, outcome_var)\n",
        "print(calc_specificity(tn, fp, fn, tp))\n",
        "print(calc_sensitivity(tn, fp, fn, tp))\n",
        "coefficients = pd.concat([pd.DataFrame(predictor_var1), pd.DataFrame(np.transpose(logisticRegrDF.coef_))], axis=1)\n",
        "coefficients.columns = ['feature_name', 'coefficient_val']\n",
        "coefficients = coefficients.sort_values(by=['coefficient_val'], ascending=False)\n",
        "coefficients.to_excel('coef_no_abs.xlsx')\n",
        "coefficients['coefficient_val'] = coefficients['coefficient_val'].abs()\n",
        "\n",
        "coefficients = coefficients.sort_values(by=['coefficient_val'], ascending=False)\n",
        "coefficients.to_excel('coef_abs.xlsx')\n",
        "\n",
        "print(coefficients) "
      ],
      "execution_count": null,
      "outputs": [
        {
          "output_type": "stream",
          "text": [
            "1.0\n",
            "0.85\n",
            "                feature_name  coefficient_val\n",
            "5                  MALIGNANT         3.009940\n",
            "1  primary_EDSS_at_diagnosis         0.890063\n",
            "2            MRI_lesion_mass         0.489378\n",
            "4                       Male         0.419725\n",
            "3               positive_OCB         0.241293\n",
            "6                   STANDARD         0.043244\n",
            "0           age_at_diagnosis         0.029925\n"
          ],
          "name": "stdout"
        }
      ]
    },
    {
      "cell_type": "code",
      "metadata": {
        "id": "YdACYxsIMcwc",
        "colab": {
          "base_uri": "https://localhost:8080/"
        },
        "outputId": "55cd66b2-b5f2-4aa0-a345-202421601dd3"
      },
      "source": [
        "from sklearn.metrics import confusion_matrix\n",
        "\n",
        "rf = RandomForestClassifier(n_estimators=25, min_samples_split=9, max_depth=15, max_features='auto',random_state=const_seed)\n",
        "predictor_var1 = ['age_at_diagnosis',\n",
        "       'primary_EDSS_at_diagnosis',\n",
        "        'MRI_lesion_mass','positive_OCB',\n",
        "       'Male', 'MALIGNANT', 'STANDARD']\n",
        "outcome_var = 'SPMS'\n",
        "tn, fp, fn, tp = calcCrossValidation_Matrix(rf, df_untreated, predictor_var1, outcome_var)\n",
        "print(calc_specificity(tn, fp, fn, tp))\n",
        "print(calc_sensitivity(tn, fp, fn, tp))"
      ],
      "execution_count": null,
      "outputs": [
        {
          "output_type": "stream",
          "text": [
            "1.0\n",
            "0.85\n"
          ],
          "name": "stdout"
        }
      ]
    },
    {
      "cell_type": "markdown",
      "metadata": {
        "id": "OPAnJHWDMs15"
      },
      "source": [
        "no TIM3"
      ]
    },
    {
      "cell_type": "code",
      "metadata": {
        "id": "SEn1xbC1Mj2U",
        "colab": {
          "base_uri": "https://localhost:8080/"
        },
        "outputId": "56b54eca-9b11-4eb0-c9bb-c4680278e643"
      },
      "source": [
        "from sklearn.metrics import confusion_matrix\n",
        "\n",
        "logisticRegrDF = LogisticRegression(max_iter = 4000,random_state=const_seed)\n",
        "predictor_var1 = ['age_at_diagnosis',\n",
        "       'primary_EDSS_at_diagnosis',\n",
        "       'MRI_lesion_mass',\n",
        "       'TIGIT_RQ','LAG3_RQ', 'PD-1_RQ', 'RQ_CTLA4','positive_OCB',\n",
        "       'Male', 'MALIGNANT', 'STANDARD']\n",
        "outcome_var = 'SPMS'\n",
        "tn, fp, fn, tp = calcCrossValidation_Matrix(logisticRegrDF, df_untreated, predictor_var1, outcome_var)\n",
        "print(calc_specificity(tn, fp, fn, tp))\n",
        "print(calc_sensitivity(tn, fp, fn, tp))\n"
      ],
      "execution_count": null,
      "outputs": [
        {
          "output_type": "stream",
          "text": [
            "1.0\n",
            "0.85\n"
          ],
          "name": "stdout"
        }
      ]
    },
    {
      "cell_type": "code",
      "metadata": {
        "id": "Gd6wyEHoMxa-",
        "colab": {
          "base_uri": "https://localhost:8080/"
        },
        "outputId": "3e5eecc8-7733-4eed-fe36-2fd863008191"
      },
      "source": [
        "from sklearn.metrics import confusion_matrix\n",
        "\n",
        "rf = RandomForestClassifier(n_estimators=25, min_samples_split=9, max_depth=15, max_features='auto',random_state=const_seed)\n",
        "predictor_var1 = ['age_at_diagnosis',\n",
        "       'primary_EDSS_at_diagnosis',\n",
        "        'MRI_lesion_mass',\n",
        "       'TIGIT_RQ','LAG3_RQ', 'PD-1_RQ', 'RQ_CTLA4','positive_OCB',\n",
        "       'Male', 'MALIGNANT', 'STANDARD']\n",
        "outcome_var = 'SPMS'\n",
        "tn, fp, fn, tp = calcCrossValidation_Matrix(rf, df_untreated, predictor_var1, outcome_var)\n",
        "print(calc_specificity(tn, fp, fn, tp))\n",
        "print(calc_sensitivity(tn, fp, fn, tp))"
      ],
      "execution_count": null,
      "outputs": [
        {
          "output_type": "stream",
          "text": [
            "1.0\n",
            "0.85\n"
          ],
          "name": "stdout"
        }
      ]
    },
    {
      "cell_type": "code",
      "metadata": {
        "id": "S_XxP7b7LGqf"
      },
      "source": [
        "df_untreated"
      ],
      "execution_count": null,
      "outputs": []
    },
    {
      "cell_type": "markdown",
      "metadata": {
        "id": "LJOvAqKzM50E"
      },
      "source": [
        "no TIGIT_RQ"
      ]
    },
    {
      "cell_type": "code",
      "metadata": {
        "id": "zzsTulskM5FN",
        "colab": {
          "base_uri": "https://localhost:8080/"
        },
        "outputId": "2e433c4b-8d1d-4876-af8b-a7cbea99a5b9"
      },
      "source": [
        "from sklearn.metrics import confusion_matrix\n",
        "\n",
        "logisticRegrDF = LogisticRegression(max_iter = 4000,random_state=const_seed)\n",
        "predictor_var1 = ['age_at_diagnosis',\n",
        "       'primary_EDSS_at_diagnosis',\n",
        "        'MRI_lesion_mass',\n",
        "       'TIM3_RQ', 'LAG3_RQ', 'PD-1_RQ', 'RQ_CTLA4','positive_OCB',\n",
        "       'Male', 'MALIGNANT', 'STANDARD']\n",
        "outcome_var = 'SPMS'\n",
        "tn, fp, fn, tp = calcCrossValidation_Matrix(logisticRegrDF, df_untreated, predictor_var1, outcome_var)\n",
        "print(calc_specificity(tn, fp, fn, tp))\n",
        "print(calc_sensitivity(tn, fp, fn, tp))\n",
        "coefficients = pd.concat([pd.DataFrame(predictor_var1), pd.DataFrame(np.transpose(logisticRegrDF.coef_))], axis=1)\n",
        "coefficients.columns = ['feature_name', 'coefficient_val']\n",
        "coefficients = coefficients.sort_values(by=['coefficient_val'], ascending=False)\n",
        "coefficients.to_excel('coef_no_abs.xlsx')\n",
        "coefficients['coefficient_val'] = coefficients['coefficient_val'].abs()\n",
        "\n",
        "coefficients = coefficients.sort_values(by=['coefficient_val'], ascending=False)\n",
        "coefficients.to_excel('coef_abs.xlsx')\n",
        "\n",
        "print(coefficients)"
      ],
      "execution_count": null,
      "outputs": [
        {
          "output_type": "stream",
          "text": [
            "1.0\n",
            "0.85\n",
            "                 feature_name  coefficient_val\n",
            "9                   MALIGNANT         2.923062\n",
            "1   primary_EDSS_at_diagnosis         0.864680\n",
            "3                     TIM3_RQ         0.512115\n",
            "2             MRI_lesion_mass         0.494070\n",
            "8                        Male         0.442650\n",
            "6                    RQ_CTLA4         0.327446\n",
            "5                     PD-1_RQ         0.325067\n",
            "4                     LAG3_RQ         0.278657\n",
            "7                positive_OCB         0.224503\n",
            "10                   STANDARD         0.043350\n",
            "0            age_at_diagnosis         0.024414\n"
          ],
          "name": "stdout"
        }
      ]
    },
    {
      "cell_type": "code",
      "metadata": {
        "id": "qTmbplGHNkTM",
        "colab": {
          "base_uri": "https://localhost:8080/"
        },
        "outputId": "f30cceba-b972-4aca-e4d9-69b8b9d44b03"
      },
      "source": [
        "from sklearn.metrics import confusion_matrix\n",
        "\n",
        "rf = RandomForestClassifier(n_estimators=25, min_samples_split=9, max_depth=15, max_features='auto',random_state=const_seed)\n",
        "predictor_var1 = ['age_at_diagnosis',\n",
        "       'primary_EDSS_at_diagnosis',\n",
        "        'MRI_lesion_mass',\n",
        "       'TIM3_RQ', 'LAG3_RQ', 'PD-1_RQ', 'RQ_CTLA4','positive_OCB',\n",
        "       'Male', 'MALIGNANT', 'STANDARD']\n",
        "outcome_var = 'SPMS'\n",
        "tn, fp, fn, tp = calcCrossValidation_Matrix(rf, df_untreated, predictor_var1, outcome_var)\n",
        "print(calc_specificity(tn, fp, fn, tp))\n",
        "print(calc_sensitivity(tn, fp, fn, tp))"
      ],
      "execution_count": null,
      "outputs": [
        {
          "output_type": "stream",
          "text": [
            "1.0\n",
            "0.85\n"
          ],
          "name": "stdout"
        }
      ]
    },
    {
      "cell_type": "markdown",
      "metadata": {
        "id": "gY7ZWfvyNsDU"
      },
      "source": [
        "no LAG3"
      ]
    },
    {
      "cell_type": "code",
      "metadata": {
        "id": "ZgvatthZNu0H",
        "colab": {
          "base_uri": "https://localhost:8080/"
        },
        "outputId": "efe5430d-eb8b-4167-ca5e-fe4d066b151f"
      },
      "source": [
        "from sklearn.metrics import confusion_matrix\n",
        "\n",
        "logisticRegrDF = LogisticRegression(max_iter = 4000,random_state=const_seed)\n",
        "predictor_var1 = ['age_at_diagnosis',\n",
        "       'primary_EDSS_at_diagnosis',\n",
        "       'MRI_lesion_mass',\n",
        "       'TIGIT_RQ', 'TIM3_RQ', 'PD-1_RQ', 'RQ_CTLA4','positive_OCB',\n",
        "       'Male', 'MALIGNANT', 'STANDARD']\n",
        "outcome_var = 'SPMS'\n",
        "tn, fp, fn, tp = calcCrossValidation_Matrix(logisticRegrDF, df_untreated, predictor_var1, outcome_var)\n",
        "print(calc_specificity(tn, fp, fn, tp))\n",
        "print(calc_sensitivity(tn, fp, fn, tp))"
      ],
      "execution_count": null,
      "outputs": [
        {
          "output_type": "stream",
          "text": [
            "1.0\n",
            "0.85\n"
          ],
          "name": "stdout"
        }
      ]
    },
    {
      "cell_type": "code",
      "metadata": {
        "id": "ORbYO1TBNw1T",
        "colab": {
          "base_uri": "https://localhost:8080/"
        },
        "outputId": "3565ba0d-1fc7-4267-fe9e-627aba005116"
      },
      "source": [
        "from sklearn.metrics import confusion_matrix\n",
        "\n",
        "rf = RandomForestClassifier(n_estimators=25, min_samples_split=9, max_depth=15, max_features='auto',random_state=const_seed)\n",
        "predictor_var1 = ['age_at_diagnosis',\n",
        "       'primary_EDSS_at_diagnosis',\n",
        "        'MRI_lesion_mass',\n",
        "       'TIGIT_RQ', 'TIM3_RQ', 'PD-1_RQ', 'RQ_CTLA4','positive_OCB',\n",
        "       'Male', 'MALIGNANT', 'STANDARD']\n",
        "outcome_var = 'SPMS'\n",
        "tn, fp, fn, tp = calcCrossValidation_Matrix(rf, df_untreated, predictor_var1, outcome_var)\n",
        "print(calc_specificity(tn, fp, fn, tp))\n",
        "print(calc_sensitivity(tn, fp, fn, tp))"
      ],
      "execution_count": null,
      "outputs": [
        {
          "output_type": "stream",
          "text": [
            "1.0\n",
            "0.85\n"
          ],
          "name": "stdout"
        }
      ]
    },
    {
      "cell_type": "markdown",
      "metadata": {
        "id": "IkyIoL4eSEB-"
      },
      "source": [
        "no TIM3 and LAG3"
      ]
    },
    {
      "cell_type": "code",
      "metadata": {
        "id": "_tTgCYmFSEB_",
        "colab": {
          "base_uri": "https://localhost:8080/"
        },
        "outputId": "589825db-6365-4a04-cdd3-ac1130793fe2"
      },
      "source": [
        "from sklearn.metrics import confusion_matrix\n",
        "\n",
        "logisticRegrDF = LogisticRegression(max_iter = 4000,random_state=const_seed)\n",
        "predictor_var1 = ['age_at_diagnosis',\n",
        "       'primary_EDSS_at_diagnosis',\n",
        "       'MRI_lesion_mass',\n",
        "       'TIGIT_RQ', 'PD-1_RQ', 'RQ_CTLA4','positive_OCB',\n",
        "       'Male', 'MALIGNANT', 'STANDARD']\n",
        "outcome_var = 'SPMS'\n",
        "tn, fp, fn, tp = calcCrossValidation_Matrix(logisticRegrDF, df_untreated, predictor_var1, outcome_var)\n",
        "print(calc_specificity(tn, fp, fn, tp))\n",
        "print(calc_sensitivity(tn, fp, fn, tp))\n"
      ],
      "execution_count": null,
      "outputs": [
        {
          "output_type": "stream",
          "text": [
            "1.0\n",
            "0.85\n"
          ],
          "name": "stdout"
        }
      ]
    },
    {
      "cell_type": "code",
      "metadata": {
        "id": "CyfRcIVsSECB",
        "colab": {
          "base_uri": "https://localhost:8080/"
        },
        "outputId": "ee878b1b-391d-4477-b2de-d9e7045dbb6b"
      },
      "source": [
        "from sklearn.metrics import confusion_matrix\n",
        "\n",
        "rf = RandomForestClassifier(n_estimators=25, min_samples_split=9, max_depth=15, max_features='auto',random_state=const_seed)\n",
        "predictor_var1 = ['age_at_diagnosis',\n",
        "       'primary_EDSS_at_diagnosis',\n",
        "        'MRI_lesion_mass',\n",
        "       'TIGIT_RQ', 'PD-1_RQ', 'RQ_CTLA4','positive_OCB',\n",
        "       'Male', 'MALIGNANT', 'STANDARD']\n",
        "outcome_var = 'SPMS'\n",
        "tn, fp, fn, tp = calcCrossValidation_Matrix(rf, df_untreated, predictor_var1, outcome_var)\n",
        "print(calc_specificity(tn, fp, fn, tp))\n",
        "print(calc_sensitivity(tn, fp, fn, tp))"
      ],
      "execution_count": null,
      "outputs": [
        {
          "output_type": "stream",
          "text": [
            "1.0\n",
            "0.85\n"
          ],
          "name": "stdout"
        }
      ]
    },
    {
      "cell_type": "markdown",
      "metadata": {
        "id": "00edSxJbSFFo"
      },
      "source": [
        "no TIM3 and TIGIT"
      ]
    },
    {
      "cell_type": "code",
      "metadata": {
        "id": "gqWIYareSFFp",
        "colab": {
          "base_uri": "https://localhost:8080/"
        },
        "outputId": "a3e418b9-0584-4740-bc63-1880d09a8932"
      },
      "source": [
        "from sklearn.metrics import confusion_matrix\n",
        "\n",
        "logisticRegrDF = LogisticRegression(max_iter = 4000,random_state=const_seed)\n",
        "predictor_var1 = ['age_at_diagnosis',\n",
        "       'primary_EDSS_at_diagnosis',\n",
        "        'MRI_lesion_mass',\n",
        "        'LAG3_RQ', 'PD-1_RQ', 'RQ_CTLA4','positive_OCB',\n",
        "       'Male', 'MALIGNANT', 'STANDARD']\n",
        "outcome_var = 'SPMS'\n",
        "tn, fp, fn, tp = calcCrossValidation_Matrix(logisticRegrDF, df_untreated, predictor_var1, outcome_var)\n",
        "print(calc_specificity(tn, fp, fn, tp))\n",
        "print(calc_sensitivity(tn, fp, fn, tp))\n"
      ],
      "execution_count": null,
      "outputs": [
        {
          "output_type": "stream",
          "text": [
            "1.0\n",
            "0.85\n"
          ],
          "name": "stdout"
        }
      ]
    },
    {
      "cell_type": "code",
      "metadata": {
        "id": "g536OJ_JSFFp",
        "colab": {
          "base_uri": "https://localhost:8080/"
        },
        "outputId": "b10df863-7cf0-4bf7-c9c4-4165615bcac1"
      },
      "source": [
        "from sklearn.metrics import confusion_matrix\n",
        "\n",
        "rf = RandomForestClassifier(n_estimators=25, min_samples_split=9, max_depth=15, max_features='auto',random_state=const_seed)\n",
        "predictor_var1 = ['age_at_diagnosis',\n",
        "       'primary_EDSS_at_diagnosis',\n",
        "       'MRI_lesion_mass',\n",
        "        'LAG3_RQ', 'PD-1_RQ', 'RQ_CTLA4','positive_OCB',\n",
        "       'Male', 'MALIGNANT', 'STANDARD']\n",
        "outcome_var = 'SPMS'\n",
        "tn, fp, fn, tp = calcCrossValidation_Matrix(rf, df_untreated, predictor_var1, outcome_var)\n",
        "print(calc_specificity(tn, fp, fn, tp))\n",
        "print(calc_sensitivity(tn, fp, fn, tp))"
      ],
      "execution_count": null,
      "outputs": [
        {
          "output_type": "stream",
          "text": [
            "1.0\n",
            "0.85\n"
          ],
          "name": "stdout"
        }
      ]
    },
    {
      "cell_type": "markdown",
      "metadata": {
        "id": "R0wANlSUSHyN"
      },
      "source": [
        "no LAG3 and TIGIT"
      ]
    },
    {
      "cell_type": "code",
      "metadata": {
        "id": "eO8cXWvbSHyN",
        "colab": {
          "base_uri": "https://localhost:8080/"
        },
        "outputId": "1115f6d3-0575-4235-ed06-7be974d6d0c5"
      },
      "source": [
        "from sklearn.metrics import confusion_matrix\n",
        "\n",
        "logisticRegrDF = LogisticRegression(max_iter = 4000,random_state=const_seed)\n",
        "predictor_var1 = ['age_at_diagnosis',\n",
        "       'primary_EDSS_at_diagnosis',\n",
        "        'MRI_lesion_mass',\n",
        "        'TIM3_RQ', 'PD-1_RQ', 'RQ_CTLA4','positive_OCB',\n",
        "       'Male', 'MALIGNANT', 'STANDARD']\n",
        "outcome_var = 'SPMS'\n",
        "tn, fp, fn, tp = calcCrossValidation_Matrix(logisticRegrDF, df_untreated, predictor_var1, outcome_var)\n",
        "print(calc_specificity(tn, fp, fn, tp))\n",
        "print(calc_sensitivity(tn, fp, fn, tp))\n"
      ],
      "execution_count": null,
      "outputs": [
        {
          "output_type": "stream",
          "text": [
            "1.0\n",
            "0.85\n"
          ],
          "name": "stdout"
        }
      ]
    },
    {
      "cell_type": "code",
      "metadata": {
        "id": "bpK87zZFSHyO",
        "colab": {
          "base_uri": "https://localhost:8080/"
        },
        "outputId": "dcbdd68e-4166-4c1b-fd94-46f11775a8ae"
      },
      "source": [
        "from sklearn.metrics import confusion_matrix\n",
        "\n",
        "rf = RandomForestClassifier(n_estimators=25, min_samples_split=9, max_depth=15, max_features='auto',random_state=const_seed)\n",
        "predictor_var1 = ['age_at_diagnosis',\n",
        "       'primary_EDSS_at_diagnosis',\n",
        "        'MRI_lesion_mass',\n",
        "        'TIM3_RQ', 'PD-1_RQ', 'RQ_CTLA4','positive_OCB',\n",
        "       'Male', 'MALIGNANT', 'STANDARD']\n",
        "outcome_var = 'SPMS'\n",
        "tn, fp, fn, tp = calcCrossValidation_Matrix(rf, df_untreated, predictor_var1, outcome_var)\n",
        "print(calc_specificity(tn, fp, fn, tp))\n",
        "print(calc_sensitivity(tn, fp, fn, tp))"
      ],
      "execution_count": null,
      "outputs": [
        {
          "output_type": "stream",
          "text": [
            "0.972972972972973\n",
            "0.85\n"
          ],
          "name": "stdout"
        }
      ]
    },
    {
      "cell_type": "markdown",
      "metadata": {
        "id": "Zy5fucjfN2gK"
      },
      "source": [
        "no diagnosis status"
      ]
    },
    {
      "cell_type": "code",
      "metadata": {
        "id": "z3M2VgJ9N7Yy",
        "colab": {
          "base_uri": "https://localhost:8080/"
        },
        "outputId": "06b37a54-e25a-4c44-c270-94eda2e0c78f"
      },
      "source": [
        "from sklearn.metrics import confusion_matrix\n",
        "\n",
        "logisticRegrDF = LogisticRegression(max_iter = 4000,random_state=const_seed)\n",
        "predictor_var1 = ['age_at_diagnosis',\n",
        "       'primary_EDSS_at_diagnosis',\n",
        "        'MRI_lesion_mass',\n",
        "       'TIGIT_RQ', 'TIM3_RQ', 'LAG3_RQ', 'PD-1_RQ', 'RQ_CTLA4','positive_OCB',\n",
        "       'Male']\n",
        "outcome_var = 'SPMS'\n",
        "tn, fp, fn, tp = calcCrossValidation_Matrix(logisticRegrDF, df_untreated, predictor_var1, outcome_var)\n",
        "print(calc_specificity(tn, fp, fn, tp))\n",
        "print(calc_sensitivity(tn, fp, fn, tp))\n"
      ],
      "execution_count": null,
      "outputs": [
        {
          "output_type": "stream",
          "text": [
            "0.8918918918918919\n",
            "0.3\n"
          ],
          "name": "stdout"
        }
      ]
    },
    {
      "cell_type": "code",
      "metadata": {
        "id": "Hm1JBxG_HZWO",
        "colab": {
          "base_uri": "https://localhost:8080/"
        },
        "outputId": "6a23727d-c134-4aab-85a2-b973b2c2f0f8"
      },
      "source": [
        "df_untreated.shape"
      ],
      "execution_count": null,
      "outputs": [
        {
          "output_type": "execute_result",
          "data": {
            "text/plain": [
              "(57, 14)"
            ]
          },
          "metadata": {
            "tags": []
          },
          "execution_count": 35
        }
      ]
    },
    {
      "cell_type": "code",
      "metadata": {
        "id": "KN65F3iSN-ss",
        "colab": {
          "base_uri": "https://localhost:8080/"
        },
        "outputId": "50da8f04-2942-4657-8a6f-ff38b0dbd4e8"
      },
      "source": [
        "from sklearn.metrics import confusion_matrix\n",
        "\n",
        "rf = RandomForestClassifier(n_estimators=25, min_samples_split=9, max_depth=15, max_features='auto',random_state=const_seed)\n",
        "predictor_var1 = ['age_at_diagnosis',\n",
        "       'primary_EDSS_at_diagnosis',\n",
        "        'MRI_lesion_mass',\n",
        "       'TIGIT_RQ', 'TIM3_RQ', 'LAG3_RQ', 'PD-1_RQ', 'RQ_CTLA4','positive_OCB',\n",
        "       'Male']\n",
        "outcome_var = 'SPMS'\n",
        "tn, fp, fn, tp = calcCrossValidation_Matrix(rf, df_untreated, predictor_var1, outcome_var)\n",
        "print(calc_specificity(tn, fp, fn, tp))\n",
        "print(calc_sensitivity(tn, fp, fn, tp))"
      ],
      "execution_count": null,
      "outputs": [
        {
          "output_type": "stream",
          "text": [
            "0.8378378378378378\n",
            "0.3\n"
          ],
          "name": "stdout"
        }
      ]
    },
    {
      "cell_type": "markdown",
      "metadata": {
        "id": "z9cVsgjXES2R"
      },
      "source": [
        "no OCB"
      ]
    },
    {
      "cell_type": "code",
      "metadata": {
        "colab": {
          "base_uri": "https://localhost:8080/"
        },
        "id": "JNjnh2S9ESq2",
        "outputId": "b439690d-99b8-4235-b818-4cef24330db3"
      },
      "source": [
        "from sklearn.metrics import confusion_matrix\n",
        "\n",
        "logisticRegrDF = LogisticRegression(max_iter = 4000,random_state=const_seed)\n",
        "predictor_var1 = ['age_at_diagnosis',\n",
        "       'primary_EDSS_at_diagnosis',\n",
        "        'MRI_lesion_mass',\n",
        "       'TIGIT_RQ', 'TIM3_RQ', 'LAG3_RQ', 'PD-1_RQ', 'RQ_CTLA4',\n",
        "       'Male', 'MALIGNANT', 'STANDARD']\n",
        "outcome_var = 'SPMS'\n",
        "tn, fp, fn, tp = calcCrossValidation_Matrix(logisticRegrDF, df_untreated, predictor_var1, outcome_var)\n",
        "print(calc_specificity(tn, fp, fn, tp))\n",
        "print(calc_sensitivity(tn, fp, fn, tp))"
      ],
      "execution_count": null,
      "outputs": [
        {
          "output_type": "stream",
          "text": [
            "1.0\n",
            "0.85\n"
          ],
          "name": "stdout"
        }
      ]
    },
    {
      "cell_type": "code",
      "metadata": {
        "colab": {
          "base_uri": "https://localhost:8080/"
        },
        "id": "3Ibik9ZkEScz",
        "outputId": "b367fc3d-ff8f-4b06-f1f8-049da1ede7a8"
      },
      "source": [
        "from sklearn.metrics import confusion_matrix\n",
        "\n",
        "rf = RandomForestClassifier(n_estimators=25, min_samples_split=9, max_depth=15, max_features='auto',random_state=const_seed)\n",
        "predictor_var1 = ['age_at_diagnosis',\n",
        "       'primary_EDSS_at_diagnosis',\n",
        "       'MRI_lesion_mass',\n",
        "       'TIGIT_RQ', 'TIM3_RQ', 'LAG3_RQ', 'PD-1_RQ', 'RQ_CTLA4',\n",
        "       'Male', 'MALIGNANT', 'STANDARD']\n",
        "outcome_var = 'SPMS'\n",
        "tn, fp, fn, tp = calcCrossValidation_Matrix(rf, df_untreated, predictor_var1, outcome_var)\n",
        "print(calc_specificity(tn, fp, fn, tp))\n",
        "print(calc_sensitivity(tn, fp, fn, tp))"
      ],
      "execution_count": null,
      "outputs": [
        {
          "output_type": "stream",
          "text": [
            "1.0\n",
            "0.85\n"
          ],
          "name": "stdout"
        }
      ]
    },
    {
      "cell_type": "markdown",
      "metadata": {
        "id": "HQqHGi18EUsP"
      },
      "source": [
        "no RQ_CTLA4"
      ]
    },
    {
      "cell_type": "code",
      "metadata": {
        "colab": {
          "base_uri": "https://localhost:8080/"
        },
        "id": "PX7c6GnLEUk7",
        "outputId": "1cb26ce1-f283-4099-8b7c-ee4a26a1de52"
      },
      "source": [
        "from sklearn.metrics import confusion_matrix\n",
        "\n",
        "logisticRegrDF = LogisticRegression(max_iter = 4000,random_state=const_seed)\n",
        "predictor_var1 = ['age_at_diagnosis',\n",
        "       'primary_EDSS_at_diagnosis',\n",
        "        'MRI_lesion_mass',\n",
        "       'TIGIT_RQ', 'TIM3_RQ', 'LAG3_RQ', 'PD-1_RQ', 'positive_OCB',\n",
        "       'Male', 'MALIGNANT', 'STANDARD']\n",
        "outcome_var = 'SPMS'\n",
        "tn, fp, fn, tp = calcCrossValidation_Matrix(logisticRegrDF, df_untreated, predictor_var1, outcome_var)\n",
        "print(calc_specificity(tn, fp, fn, tp))\n",
        "print(calc_sensitivity(tn, fp, fn, tp))"
      ],
      "execution_count": null,
      "outputs": [
        {
          "output_type": "stream",
          "text": [
            "1.0\n",
            "0.85\n"
          ],
          "name": "stdout"
        }
      ]
    },
    {
      "cell_type": "code",
      "metadata": {
        "colab": {
          "base_uri": "https://localhost:8080/"
        },
        "id": "FtLgDsUBEUea",
        "outputId": "8335579a-99f2-46f1-a426-9ccdb5948c95"
      },
      "source": [
        "from sklearn.metrics import confusion_matrix\n",
        "\n",
        "rf = RandomForestClassifier(n_estimators=25, min_samples_split=9, max_depth=15, max_features='auto',random_state=const_seed)\n",
        "predictor_var1 = ['age_at_diagnosis',\n",
        "       'primary_EDSS_at_diagnosis',\n",
        "        'MRI_lesion_mass',\n",
        "       'TIGIT_RQ', 'TIM3_RQ', 'LAG3_RQ', 'PD-1_RQ', 'positive_OCB',\n",
        "       'Male', 'MALIGNANT', 'STANDARD']\n",
        "outcome_var = 'SPMS'\n",
        "tn, fp, fn, tp = calcCrossValidation_Matrix(rf, df_untreated, predictor_var1, outcome_var)\n",
        "print(calc_specificity(tn, fp, fn, tp))\n",
        "print(calc_sensitivity(tn, fp, fn, tp))"
      ],
      "execution_count": null,
      "outputs": [
        {
          "output_type": "stream",
          "text": [
            "0.972972972972973\n",
            "0.85\n"
          ],
          "name": "stdout"
        }
      ]
    },
    {
      "cell_type": "markdown",
      "metadata": {
        "id": "bEx_XqKbEUC-"
      },
      "source": [
        "no PD1"
      ]
    },
    {
      "cell_type": "code",
      "metadata": {
        "colab": {
          "base_uri": "https://localhost:8080/"
        },
        "id": "Nr_NJKWvET7n",
        "outputId": "0a282f53-26c0-4ad6-9f6e-d819250ff9e9"
      },
      "source": [
        "from sklearn.metrics import confusion_matrix\n",
        "\n",
        "logisticRegrDF = LogisticRegression(max_iter = 4000,random_state=const_seed)\n",
        "predictor_var1 = ['age_at_diagnosis',\n",
        "       'primary_EDSS_at_diagnosis',\n",
        "        'MRI_lesion_mass',\n",
        "       'TIGIT_RQ', 'TIM3_RQ', 'LAG3_RQ', 'RQ_CTLA4','positive_OCB',\n",
        "       'Male', 'MALIGNANT', 'STANDARD']\n",
        "outcome_var = 'SPMS'\n",
        "tn, fp, fn, tp = calcCrossValidation_Matrix(logisticRegrDF, df_untreated, predictor_var1, outcome_var)\n",
        "print(calc_specificity(tn, fp, fn, tp))\n",
        "print(calc_sensitivity(tn, fp, fn, tp))"
      ],
      "execution_count": null,
      "outputs": [
        {
          "output_type": "stream",
          "text": [
            "1.0\n",
            "0.85\n"
          ],
          "name": "stdout"
        }
      ]
    },
    {
      "cell_type": "code",
      "metadata": {
        "colab": {
          "base_uri": "https://localhost:8080/"
        },
        "id": "BS2O_KmSET0l",
        "outputId": "5526ba4e-ba13-46a0-cac9-91bc91903e32"
      },
      "source": [
        "from sklearn.metrics import confusion_matrix\n",
        "\n",
        "rf = RandomForestClassifier(n_estimators=25, min_samples_split=9, max_depth=15, max_features='auto',random_state=const_seed)\n",
        "predictor_var1 = ['age_at_diagnosis',\n",
        "       'primary_EDSS_at_diagnosis',\n",
        "       \n",
        "        'MRI_lesion_mass',\n",
        "       'TIGIT_RQ', 'TIM3_RQ', 'LAG3_RQ', 'RQ_CTLA4','positive_OCB',\n",
        "       'Male', 'MALIGNANT', 'STANDARD']\n",
        "outcome_var = 'SPMS'\n",
        "tn, fp, fn, tp = calcCrossValidation_Matrix(rf, df_untreated, predictor_var1, outcome_var)\n",
        "print(calc_specificity(tn, fp, fn, tp))\n",
        "print(calc_sensitivity(tn, fp, fn, tp))"
      ],
      "execution_count": null,
      "outputs": [
        {
          "output_type": "stream",
          "text": [
            "1.0\n",
            "0.85\n"
          ],
          "name": "stdout"
        }
      ]
    },
    {
      "cell_type": "markdown",
      "metadata": {
        "id": "pWyaUH-NETrO"
      },
      "source": [
        "no diagnosis status, OCB"
      ]
    },
    {
      "cell_type": "code",
      "metadata": {
        "colab": {
          "base_uri": "https://localhost:8080/"
        },
        "id": "hx-zmQIlETg4",
        "outputId": "967ca1b9-b365-4208-9da3-1a16c714e1e8"
      },
      "source": [
        "from sklearn.metrics import confusion_matrix\n",
        "\n",
        "logisticRegrDF = LogisticRegression(max_iter = 4000,random_state=const_seed)\n",
        "predictor_var1 = ['age_at_diagnosis',\n",
        "       'primary_EDSS_at_diagnosis',\n",
        "        'MRI_lesion_mass',\n",
        "       'TIGIT_RQ', 'TIM3_RQ', 'LAG3_RQ', 'PD-1_RQ', 'RQ_CTLA4',\n",
        "       'Male']\n",
        "outcome_var = 'SPMS'\n",
        "tn, fp, fn, tp = calcCrossValidation_Matrix(logisticRegrDF, df_untreated, predictor_var1, outcome_var)\n",
        "print(calc_specificity(tn, fp, fn, tp))\n",
        "print(calc_sensitivity(tn, fp, fn, tp))"
      ],
      "execution_count": null,
      "outputs": [
        {
          "output_type": "stream",
          "text": [
            "0.918918918918919\n",
            "0.3\n"
          ],
          "name": "stdout"
        }
      ]
    },
    {
      "cell_type": "code",
      "metadata": {
        "colab": {
          "base_uri": "https://localhost:8080/"
        },
        "id": "iRotdfprETUy",
        "outputId": "c0fd8cd7-f2ad-4f46-955a-736be9bed029"
      },
      "source": [
        "from sklearn.metrics import confusion_matrix\n",
        "\n",
        "rf = RandomForestClassifier(n_estimators=25, min_samples_split=9, max_depth=15, max_features='auto',random_state=const_seed)\n",
        "predictor_var1 = ['age_at_diagnosis',\n",
        "       'primary_EDSS_at_diagnosis',\n",
        "        'MRI_lesion_mass',\n",
        "       'TIGIT_RQ', 'TIM3_RQ', 'LAG3_RQ', 'PD-1_RQ', 'RQ_CTLA4',\n",
        "       'Male']\n",
        "outcome_var = 'SPMS'\n",
        "tn, fp, fn, tp = calcCrossValidation_Matrix(rf, df_untreated, predictor_var1, outcome_var)\n",
        "print(calc_specificity(tn, fp, fn, tp))\n",
        "print(calc_sensitivity(tn, fp, fn, tp))"
      ],
      "execution_count": null,
      "outputs": [
        {
          "output_type": "stream",
          "text": [
            "0.8648648648648649\n",
            "0.4\n"
          ],
          "name": "stdout"
        }
      ]
    },
    {
      "cell_type": "markdown",
      "metadata": {
        "id": "w1TLWZsBIPzI"
      },
      "source": [
        "no diagnosis status, LAG3"
      ]
    },
    {
      "cell_type": "code",
      "metadata": {
        "colab": {
          "base_uri": "https://localhost:8080/"
        },
        "id": "2eMFe7qLIPta",
        "outputId": "ee3538ca-b947-4d69-8c00-11a8854fb0a5"
      },
      "source": [
        "from sklearn.metrics import confusion_matrix\n",
        "\n",
        "logisticRegrDF = LogisticRegression(max_iter = 4000,random_state=const_seed)\n",
        "predictor_var1 = ['age_at_diagnosis',\n",
        "       'primary_EDSS_at_diagnosis',\n",
        "        'MRI_lesion_mass',\n",
        "       'TIGIT_RQ', 'TIM3_RQ', 'PD-1_RQ', 'RQ_CTLA4','positive_OCB',\n",
        "       'Male']\n",
        "outcome_var = 'SPMS'\n",
        "tn, fp, fn, tp = calcCrossValidation_Matrix(logisticRegrDF, df_untreated, predictor_var1, outcome_var)\n",
        "print(calc_specificity(tn, fp, fn, tp))\n",
        "print(calc_sensitivity(tn, fp, fn, tp))"
      ],
      "execution_count": null,
      "outputs": [
        {
          "output_type": "stream",
          "text": [
            "0.8918918918918919\n",
            "0.25\n"
          ],
          "name": "stdout"
        }
      ]
    },
    {
      "cell_type": "code",
      "metadata": {
        "colab": {
          "base_uri": "https://localhost:8080/"
        },
        "id": "ImNPrY3DIPoZ",
        "outputId": "605665aa-1498-4cc5-8273-313cdbc52ed3"
      },
      "source": [
        "from sklearn.metrics import confusion_matrix\n",
        "\n",
        "rf = RandomForestClassifier(n_estimators=25, min_samples_split=9, max_depth=15, max_features='auto',random_state=const_seed)\n",
        "predictor_var1 = ['age_at_diagnosis',\n",
        "       'primary_EDSS_at_diagnosis',\n",
        "        'MRI_lesion_mass',\n",
        "       'TIGIT_RQ', 'TIM3_RQ', 'PD-1_RQ', 'RQ_CTLA4','positive_OCB',\n",
        "       'Male']\n",
        "outcome_var = 'SPMS'\n",
        "tn, fp, fn, tp = calcCrossValidation_Matrix(rf, df_untreated, predictor_var1, outcome_var)\n",
        "print(calc_specificity(tn, fp, fn, tp))\n",
        "print(calc_sensitivity(tn, fp, fn, tp))"
      ],
      "execution_count": null,
      "outputs": [
        {
          "output_type": "stream",
          "text": [
            "0.8378378378378378\n",
            "0.5\n"
          ],
          "name": "stdout"
        }
      ]
    },
    {
      "cell_type": "markdown",
      "metadata": {
        "id": "YMAy8dp1IPgF"
      },
      "source": [
        "no diagnosis status, TIGIT"
      ]
    },
    {
      "cell_type": "code",
      "metadata": {
        "colab": {
          "base_uri": "https://localhost:8080/"
        },
        "id": "noAMgYr4IPXG",
        "outputId": "9790f9dd-b03e-4bc4-8c47-d86175f9210d"
      },
      "source": [
        "from sklearn.metrics import confusion_matrix\n",
        "\n",
        "logisticRegrDF = LogisticRegression(max_iter = 4000,random_state=const_seed)\n",
        "predictor_var1 = ['age_at_diagnosis',\n",
        "       'primary_EDSS_at_diagnosis',\n",
        "        'MRI_lesion_mass',\n",
        "        'TIM3_RQ', 'LAG3_RQ', 'PD-1_RQ', 'RQ_CTLA4','positive_OCB',\n",
        "       'Male']\n",
        "outcome_var = 'SPMS'\n",
        "tn, fp, fn, tp = calcCrossValidation_Matrix(logisticRegrDF, df_untreated, predictor_var1, outcome_var)\n",
        "print(calc_specificity(tn, fp, fn, tp))\n",
        "print(calc_sensitivity(tn, fp, fn, tp))"
      ],
      "execution_count": null,
      "outputs": [
        {
          "output_type": "stream",
          "text": [
            "0.918918918918919\n",
            "0.3\n"
          ],
          "name": "stdout"
        }
      ]
    },
    {
      "cell_type": "code",
      "metadata": {
        "colab": {
          "base_uri": "https://localhost:8080/"
        },
        "id": "VTlsWknyIPSI",
        "outputId": "d48f142d-1840-4b6d-849a-35ccb38fd6dc"
      },
      "source": [
        "from sklearn.metrics import confusion_matrix\n",
        "\n",
        "rf = RandomForestClassifier(n_estimators=25, min_samples_split=9, max_depth=15, max_features='auto',random_state=const_seed)\n",
        "predictor_var1 = ['age_at_diagnosis',\n",
        "       'primary_EDSS_at_diagnosis',\n",
        "        'MRI_lesion_mass',\n",
        "        'TIM3_RQ', 'LAG3_RQ', 'PD-1_RQ', 'RQ_CTLA4','positive_OCB',\n",
        "       'Male']\n",
        "outcome_var = 'SPMS'\n",
        "tn, fp, fn, tp = calcCrossValidation_Matrix(rf, df_untreated, predictor_var1, outcome_var)\n",
        "print(calc_specificity(tn, fp, fn, tp))\n",
        "print(calc_sensitivity(tn, fp, fn, tp))"
      ],
      "execution_count": null,
      "outputs": [
        {
          "output_type": "stream",
          "text": [
            "0.8378378378378378\n",
            "0.4\n"
          ],
          "name": "stdout"
        }
      ]
    },
    {
      "cell_type": "markdown",
      "metadata": {
        "id": "xhgYg1ilIPEl"
      },
      "source": [
        "no diagnosis status, TIM3, LAG3"
      ]
    },
    {
      "cell_type": "code",
      "metadata": {
        "colab": {
          "base_uri": "https://localhost:8080/"
        },
        "id": "AH7dF7H0IO7c",
        "outputId": "ecf32c59-f750-4e0f-e5e9-b1cf512d150a"
      },
      "source": [
        "from sklearn.metrics import confusion_matrix\n",
        "\n",
        "logisticRegrDF = LogisticRegression(max_iter = 4000,random_state=const_seed)\n",
        "predictor_var1 = ['age_at_diagnosis',\n",
        "       'primary_EDSS_at_diagnosis',\n",
        "        'MRI_lesion_mass',\n",
        "       'TIGIT_RQ','PD-1_RQ', 'RQ_CTLA4','positive_OCB',\n",
        "       'Male']\n",
        "outcome_var = 'SPMS'\n",
        "tn, fp, fn, tp = calcCrossValidation_Matrix(logisticRegrDF, df_untreated, predictor_var1, outcome_var)\n",
        "print(calc_specificity(tn, fp, fn, tp))\n",
        "print(calc_sensitivity(tn, fp, fn, tp))"
      ],
      "execution_count": null,
      "outputs": [
        {
          "output_type": "stream",
          "text": [
            "0.972972972972973\n",
            "0.2\n"
          ],
          "name": "stdout"
        }
      ]
    },
    {
      "cell_type": "code",
      "metadata": {
        "colab": {
          "base_uri": "https://localhost:8080/"
        },
        "id": "gGyC40FQIO1I",
        "outputId": "e9188be9-342f-4d2d-a9fc-41b4c39b825f"
      },
      "source": [
        "from sklearn.metrics import confusion_matrix\n",
        "\n",
        "rf = RandomForestClassifier(n_estimators=25, min_samples_split=9, max_depth=15, max_features='auto',random_state=const_seed)\n",
        "predictor_var1 = ['age_at_diagnosis',\n",
        "       'primary_EDSS_at_diagnosis',\n",
        "        'MRI_lesion_mass',\n",
        "       'TIGIT_RQ','PD-1_RQ', 'RQ_CTLA4','positive_OCB',\n",
        "       'Male']\n",
        "outcome_var = 'SPMS'\n",
        "tn, fp, fn, tp = calcCrossValidation_Matrix(rf, df_untreated, predictor_var1, outcome_var)\n",
        "print(calc_specificity(tn, fp, fn, tp))\n",
        "print(calc_sensitivity(tn, fp, fn, tp))"
      ],
      "execution_count": null,
      "outputs": [
        {
          "output_type": "stream",
          "text": [
            "0.8918918918918919\n",
            "0.45\n"
          ],
          "name": "stdout"
        }
      ]
    },
    {
      "cell_type": "markdown",
      "metadata": {
        "id": "9xsp9K6EIOlZ"
      },
      "source": [
        "no diagnosis status, TIM3, TIGIT"
      ]
    },
    {
      "cell_type": "code",
      "metadata": {
        "colab": {
          "base_uri": "https://localhost:8080/"
        },
        "id": "P9dGWr2IIN-o",
        "outputId": "1511ac22-1c3f-49a9-d496-3d537ddf6f17"
      },
      "source": [
        "from sklearn.metrics import confusion_matrix\n",
        "\n",
        "logisticRegrDF = LogisticRegression(max_iter = 4000,random_state=const_seed)\n",
        "predictor_var1 = ['age_at_diagnosis',\n",
        "       'primary_EDSS_at_diagnosis',\n",
        "        'MRI_lesion_mass',\n",
        "        'LAG3_RQ', 'PD-1_RQ', 'RQ_CTLA4','positive_OCB',\n",
        "       'Male']\n",
        "outcome_var = 'SPMS'\n",
        "tn, fp, fn, tp = calcCrossValidation_Matrix(logisticRegrDF, df_untreated, predictor_var1, outcome_var)\n",
        "print(calc_specificity(tn, fp, fn, tp))\n",
        "print(calc_sensitivity(tn, fp, fn, tp))"
      ],
      "execution_count": null,
      "outputs": [
        {
          "output_type": "stream",
          "text": [
            "0.9459459459459459\n",
            "0.25\n"
          ],
          "name": "stdout"
        }
      ]
    },
    {
      "cell_type": "code",
      "metadata": {
        "colab": {
          "base_uri": "https://localhost:8080/"
        },
        "id": "tBnR7zDuIN5i",
        "outputId": "d9447c3a-025b-4fac-c81a-10742d83d7b1"
      },
      "source": [
        "from sklearn.metrics import confusion_matrix\n",
        "\n",
        "rf = RandomForestClassifier(n_estimators=25, min_samples_split=9, max_depth=15, max_features='auto',random_state=const_seed)\n",
        "predictor_var1 = ['age_at_diagnosis',\n",
        "       'primary_EDSS_at_diagnosis',\n",
        "        'MRI_lesion_mass',\n",
        "        'LAG3_RQ', 'PD-1_RQ', 'RQ_CTLA4','positive_OCB',\n",
        "       'Male']\n",
        "outcome_var = 'SPMS'\n",
        "tn, fp, fn, tp = calcCrossValidation_Matrix(rf, df_untreated, predictor_var1, outcome_var)\n",
        "print(calc_specificity(tn, fp, fn, tp))\n",
        "print(calc_sensitivity(tn, fp, fn, tp))"
      ],
      "execution_count": null,
      "outputs": [
        {
          "output_type": "stream",
          "text": [
            "0.8648648648648649\n",
            "0.3\n"
          ],
          "name": "stdout"
        }
      ]
    },
    {
      "cell_type": "markdown",
      "metadata": {
        "id": "_5dqKuAnINXO"
      },
      "source": [
        "no diagnosis status, TIGIT, LAG3"
      ]
    },
    {
      "cell_type": "code",
      "metadata": {
        "colab": {
          "base_uri": "https://localhost:8080/"
        },
        "id": "BMyiyAP5INQJ",
        "outputId": "a1ab8877-b21a-4186-96a1-86466f038c46"
      },
      "source": [
        "from sklearn.metrics import confusion_matrix\n",
        "\n",
        "logisticRegrDF = LogisticRegression(max_iter = 4000,random_state=const_seed)\n",
        "predictor_var1 = ['age_at_diagnosis',\n",
        "       'primary_EDSS_at_diagnosis',\n",
        "        'MRI_lesion_mass',\n",
        "        'TIM3_RQ','PD-1_RQ', 'RQ_CTLA4','positive_OCB',\n",
        "       'Male']\n",
        "outcome_var = 'SPMS'\n",
        "tn, fp, fn, tp = calcCrossValidation_Matrix(logisticRegrDF, df_untreated, predictor_var1, outcome_var)\n",
        "print(calc_specificity(tn, fp, fn, tp))\n",
        "print(calc_sensitivity(tn, fp, fn, tp))"
      ],
      "execution_count": null,
      "outputs": [
        {
          "output_type": "stream",
          "text": [
            "0.918918918918919\n",
            "0.25\n"
          ],
          "name": "stdout"
        }
      ]
    },
    {
      "cell_type": "code",
      "metadata": {
        "colab": {
          "base_uri": "https://localhost:8080/"
        },
        "id": "MvFYRZzPINIE",
        "outputId": "97d61224-2546-4bbd-a9b6-aae052866d7c"
      },
      "source": [
        "from sklearn.metrics import confusion_matrix\n",
        "\n",
        "rf = RandomForestClassifier(n_estimators=25, min_samples_split=9, max_depth=15, max_features='auto',random_state=const_seed)\n",
        "predictor_var1 = ['age_at_diagnosis',\n",
        "       'primary_EDSS_at_diagnosis',\n",
        "        'MRI_lesion_mass',\n",
        "        'TIM3_RQ','PD-1_RQ', 'RQ_CTLA4','positive_OCB',\n",
        "       'Male']\n",
        "outcome_var = 'SPMS'\n",
        "tn, fp, fn, tp = calcCrossValidation_Matrix(rf, df_untreated, predictor_var1, outcome_var)\n",
        "print(calc_specificity(tn, fp, fn, tp))\n",
        "print(calc_sensitivity(tn, fp, fn, tp))"
      ],
      "execution_count": null,
      "outputs": [
        {
          "output_type": "stream",
          "text": [
            "0.8648648648648649\n",
            "0.45\n"
          ],
          "name": "stdout"
        }
      ]
    },
    {
      "cell_type": "markdown",
      "metadata": {
        "id": "Vkb6V_ewY4lv"
      },
      "source": [
        "no mri"
      ]
    },
    {
      "cell_type": "code",
      "metadata": {
        "colab": {
          "base_uri": "https://localhost:8080/"
        },
        "id": "xEGJGK0BY4lw",
        "outputId": "02b68a8e-d42d-4dd8-dc6e-7b56931a87f3"
      },
      "source": [
        "from sklearn.metrics import confusion_matrix\n",
        "\n",
        "logisticRegrDF = LogisticRegression(max_iter = 4000,random_state=const_seed)\n",
        "predictor_var1 = ['age_at_diagnosis',\n",
        "       'primary_EDSS_at_diagnosis',\n",
        "       'TIGIT_RQ', 'TIM3_RQ', 'LAG3_RQ', 'PD-1_RQ', 'RQ_CTLA4','positive_OCB',\n",
        "       'Male', 'MALIGNANT', 'STANDARD']\n",
        "outcome_var = 'SPMS'\n",
        "tn, fp, fn, tp = calcCrossValidation_Matrix(logisticRegrDF, df_untreated, predictor_var1, outcome_var)\n",
        "print(calc_specificity(tn, fp, fn, tp))\n",
        "print(calc_sensitivity(tn, fp, fn, tp))"
      ],
      "execution_count": null,
      "outputs": [
        {
          "output_type": "stream",
          "text": [
            "1.0\n",
            "0.85\n"
          ],
          "name": "stdout"
        }
      ]
    },
    {
      "cell_type": "code",
      "metadata": {
        "colab": {
          "base_uri": "https://localhost:8080/"
        },
        "id": "9PqqXwG0Y4lx",
        "outputId": "178c538e-fa05-4952-9b85-e48f6a93aabd"
      },
      "source": [
        "from sklearn.metrics import confusion_matrix\n",
        "\n",
        "rf = RandomForestClassifier(n_estimators=25, min_samples_split=9, max_depth=15, max_features='auto',random_state=const_seed)\n",
        "predictor_var1 = ['age_at_diagnosis',\n",
        "       'primary_EDSS_at_diagnosis',\n",
        "       'TIGIT_RQ', 'TIM3_RQ', 'LAG3_RQ', 'PD-1_RQ', 'RQ_CTLA4','positive_OCB',\n",
        "       'Male', 'MALIGNANT', 'STANDARD']\n",
        "outcome_var = 'SPMS'\n",
        "tn, fp, fn, tp = calcCrossValidation_Matrix(rf, df_untreated, predictor_var1, outcome_var)\n",
        "print(calc_specificity(tn, fp, fn, tp))\n",
        "print(calc_sensitivity(tn, fp, fn, tp))"
      ],
      "execution_count": null,
      "outputs": [
        {
          "output_type": "stream",
          "text": [
            "1.0\n",
            "0.85\n"
          ],
          "name": "stdout"
        }
      ]
    }
  ]
}