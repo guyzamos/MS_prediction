{
  "nbformat": 4,
  "nbformat_minor": 0,
  "metadata": {
    "colab": {
      "name": "Automation experiments of MS project - predict_Coral_data_RMSE_5_years_all_experiments.ipynb",
      "provenance": [],
      "collapsed_sections": [
        "J1sKTMHG8mbW",
        "-Vhh3gn21Pr9"
      ]
    },
    "kernelspec": {
      "name": "python3",
      "display_name": "Python 3"
    },
    "language_info": {
      "name": "python"
    }
  },
  "cells": [
    {
      "cell_type": "markdown",
      "metadata": {
        "id": "M6tv6Y_weQ8z"
      },
      "source": [
        "import all the relevant libraries"
      ]
    },
    {
      "cell_type": "code",
      "metadata": {
        "id": "-z7hXJSeptCa"
      },
      "source": [
        "import pandas as pd\n",
        "import numpy as np\n",
        "import matplotlib.pyplot as plt\n",
        "import statistics as stats\n",
        "import io\n",
        "from sklearn.metrics import mean_squared_error\n",
        "from math import sqrt\n",
        "from sklearn.preprocessing import LabelEncoder\n",
        "from sklearn.model_selection import KFold\n",
        "from sklearn.ensemble import RandomForestRegressor\n",
        "from sklearn.ensemble import RandomForestClassifier\n",
        "from sklearn.linear_model import LogisticRegression\n",
        "from sklearn import metrics\n",
        "from sklearn.model_selection import train_test_split\n"
      ],
      "execution_count": null,
      "outputs": []
    },
    {
      "cell_type": "markdown",
      "metadata": {
        "id": "ugA1NC9JIkaQ"
      },
      "source": [
        "upload the db file"
      ]
    },
    {
      "cell_type": "code",
      "metadata": {
        "id": "tTM3VXFdxXAg",
        "colab": {
          "base_uri": "https://localhost:8080/"
        },
        "outputId": "97966403-c3de-4701-d457-10d2c9f130e2"
      },
      "source": [
        "from google.colab import drive \n",
        "drive.mount('/content/gdrive')"
      ],
      "execution_count": null,
      "outputs": [
        {
          "output_type": "stream",
          "text": [
            "Mounted at /content/gdrive\n"
          ],
          "name": "stdout"
        }
      ]
    },
    {
      "cell_type": "code",
      "metadata": {
        "id": "qxFu0jcL-D_c"
      },
      "source": [
        "pd.set_option('display.max_columns', None)\n",
        "pd.set_option('display.max_rows', None)"
      ],
      "execution_count": null,
      "outputs": []
    },
    {
      "cell_type": "markdown",
      "metadata": {
        "id": "J1sKTMHG8mbW"
      },
      "source": [
        "#Defines experiment configuration -"
      ]
    },
    {
      "cell_type": "code",
      "metadata": {
        "id": "rC-_HRG0wu9t"
      },
      "source": [
        "#lists of selected features\n",
        "\n",
        "ALL_FEATURES = ['TIM3_RQ', 'TIGIT_RQ', 'LAG3_RQ','PD-1_RQ', 'RQ_CTLA4','age_at_diagnosis', 'primary_EDSS_at_diagnosis', 'MRI_lesion_mass','gender_M','oligoclonal_band_POS','MALIGNANT', 'STANDARD']\n",
        "#REMOVE ONE FEATURE\n",
        "NO_TIGIT =  ['TIM3_RQ', 'LAG3_RQ','PD-1_RQ', 'RQ_CTLA4','age_at_diagnosis', 'primary_EDSS_at_diagnosis', 'MRI_lesion_mass','gender_M','oligoclonal_band_POS','MALIGNANT', 'STANDARD']\n",
        "NO_LAG3 =['TIM3_RQ', 'TIGIT_RQ', 'PD-1_RQ', 'RQ_CTLA4','age_at_diagnosis', 'primary_EDSS_at_diagnosis', 'MRI_lesion_mass','gender_M','oligoclonal_band_POS','MALIGNANT', 'STANDARD']\n",
        "NO_AGE =['TIM3_RQ', 'TIGIT_RQ', 'LAG3_RQ','PD-1_RQ', 'RQ_CTLA4', 'primary_EDSS_at_diagnosis', 'MRI_lesion_mass','gender_M','oligoclonal_band_POS','MALIGNANT', 'STANDARD']\n",
        "NO_OCB =['TIM3_RQ', 'TIGIT_RQ', 'LAG3_RQ','PD-1_RQ', 'RQ_CTLA4','age_at_diagnosis', 'primary_EDSS_at_diagnosis', 'MRI_lesion_mass','gender_M','MALIGNANT', 'STANDARD']\n",
        "NO_MRI_LESION = ['TIM3_RQ', 'TIGIT_RQ', 'LAG3_RQ','PD-1_RQ', 'RQ_CTLA4','age_at_diagnosis', 'primary_EDSS_at_diagnosis','gender_M','oligoclonal_band_POS','MALIGNANT', 'STANDARD']\n",
        "NO_GENDER = ['TIM3_RQ', 'TIGIT_RQ', 'LAG3_RQ','PD-1_RQ', 'RQ_CTLA4','age_at_diagnosis', 'primary_EDSS_at_diagnosis', 'MRI_lesion_mass','oligoclonal_band_POS','MALIGNANT', 'STANDARD']\n",
        "NO_EDSS_AT_DIAGNOSIS = ['TIM3_RQ', 'TIGIT_RQ', 'LAG3_RQ','PD-1_RQ', 'RQ_CTLA4','age_at_diagnosis','MRI_lesion_mass','gender_M','oligoclonal_band_POS','MALIGNANT', 'STANDARD']\n",
        "NO_TIM3 = ['TIGIT_RQ', 'LAG3_RQ','PD-1_RQ', 'RQ_CTLA4','age_at_diagnosis', 'primary_EDSS_at_diagnosis', 'MRI_lesion_mass','gender_M','oligoclonal_band_POS','MALIGNANT', 'STANDARD']\n",
        "NO_PD1_RQ = ['TIM3_RQ', 'TIGIT_RQ', 'LAG3_RQ', 'RQ_CTLA4','age_at_diagnosis', 'primary_EDSS_at_diagnosis', 'MRI_lesion_mass','gender_M','oligoclonal_band_POS','MALIGNANT', 'STANDARD']\n",
        "NO_RQ_CTLA4 = ['TIM3_RQ', 'TIGIT_RQ', 'LAG3_RQ','PD-1_RQ', 'age_at_diagnosis', 'primary_EDSS_at_diagnosis', 'MRI_lesion_mass','gender_M','oligoclonal_band_POS','MALIGNANT', 'STANDARD'] \n",
        "NO_MALIGNANT = ['TIM3_RQ', 'TIGIT_RQ', 'LAG3_RQ','PD-1_RQ', 'RQ_CTLA4','age_at_diagnosis', 'primary_EDSS_at_diagnosis', 'MRI_lesion_mass','gender_M','oligoclonal_band_POS', 'STANDARD']\n",
        "NO_STANDARD = ['TIM3_RQ', 'TIGIT_RQ', 'LAG3_RQ','PD-1_RQ', 'RQ_CTLA4','age_at_diagnosis', 'primary_EDSS_at_diagnosis', 'MRI_lesion_mass','gender_M','oligoclonal_band_POS','MALIGNANT']\n",
        "#REMOVE TWO FEATURES\n",
        "NO_TIGIT_NO_LAG3 = ['TIM3_RQ', 'PD-1_RQ', 'RQ_CTLA4','age_at_diagnosis', 'primary_EDSS_at_diagnosis', 'MRI_lesion_mass','gender_M','oligoclonal_band_POS','MALIGNANT', 'STANDARD']\n",
        "NO_TIGIT_NO_AGE = ['TIM3_RQ', 'LAG3_RQ','PD-1_RQ', 'RQ_CTLA4', 'primary_EDSS_at_diagnosis', 'MRI_lesion_mass','gender_M','oligoclonal_band_POS','MALIGNANT', 'STANDARD']\n",
        "NO_TIGIT_NO_OCB = ['TIM3_RQ', 'LAG3_RQ','PD-1_RQ', 'RQ_CTLA4','age_at_diagnosis', 'primary_EDSS_at_diagnosis', 'MRI_lesion_mass','gender_M', 'MALIGNANT', 'STANDARD']\n",
        "NO_TIGIT_NO_MRI_LESION = ['TIM3_RQ', 'LAG3_RQ','PD-1_RQ', 'RQ_CTLA4','age_at_diagnosis', 'primary_EDSS_at_diagnosis', 'gender_M','oligoclonal_band_POS','MALIGNANT', 'STANDARD']\n",
        "NO_TIGIT_NO_PD1_RQ = ['TIM3_RQ', 'LAG3_RQ', 'RQ_CTLA4','age_at_diagnosis', 'primary_EDSS_at_diagnosis', 'MRI_lesion_mass','gender_M','oligoclonal_band_POS','MALIGNANT', 'STANDARD']\n",
        "NO_TIGIT_NO_RQ_CTLA4 = ['TIM3_RQ', 'LAG3_RQ','PD-1_RQ', 'age_at_diagnosis', 'primary_EDSS_at_diagnosis', 'MRI_lesion_mass','gender_M','oligoclonal_band_POS','MALIGNANT', 'STANDARD']\n",
        "NO_TIGIT_NO_MALIGNANT = ['TIM3_RQ', 'LAG3_RQ','PD-1_RQ', 'RQ_CTLA4','age_at_diagnosis', 'primary_EDSS_at_diagnosis', 'MRI_lesion_mass','gender_M','oligoclonal_band_POS', 'STANDARD']\n",
        "\n",
        "NO_LAG3_NO_TIM3 = ['TIGIT_RQ', 'PD-1_RQ', 'RQ_CTLA4','age_at_diagnosis', 'primary_EDSS_at_diagnosis', 'MRI_lesion_mass','gender_M','oligoclonal_band_POS','MALIGNANT', 'STANDARD']\n",
        "NO_LAG3_NO_AGE = ['TIM3_RQ', 'TIGIT_RQ', 'PD-1_RQ', 'RQ_CTLA4', 'primary_EDSS_at_diagnosis', 'MRI_lesion_mass','gender_M','oligoclonal_band_POS','MALIGNANT', 'STANDARD']\n",
        "NO_LAG3_NO_TIGIT = ['TIM3_RQ', 'PD-1_RQ', 'RQ_CTLA4','age_at_diagnosis', 'primary_EDSS_at_diagnosis', 'MRI_lesion_mass','gender_M','oligoclonal_band_POS','MALIGNANT', 'STANDARD']\n",
        "NO_LAG3_NO_OCB = ['TIM3_RQ', 'TIGIT_RQ', 'PD-1_RQ', 'RQ_CTLA4','age_at_diagnosis', 'primary_EDSS_at_diagnosis', 'MRI_lesion_mass','gender_M', 'MALIGNANT', 'STANDARD']\n",
        "NO_LAG3_NO_MRI_LESION = ['TIM3_RQ', 'TIGIT_RQ', 'PD-1_RQ', 'RQ_CTLA4','age_at_diagnosis', 'primary_EDSS_at_diagnosis', 'gender_M','oligoclonal_band_POS','MALIGNANT', 'STANDARD']\n",
        "NO_LAG3_NO_PD1_RQ = ['TIM3_RQ', 'TIGIT_RQ', 'RQ_CTLA4','age_at_diagnosis', 'primary_EDSS_at_diagnosis', 'MRI_lesion_mass','gender_M','oligoclonal_band_POS','MALIGNANT', 'STANDARD']\n",
        "NO_LAG3_NO_RQ_CTLA4 = ['TIM3_RQ', 'TIGIT_RQ', 'PD-1_RQ', 'age_at_diagnosis', 'primary_EDSS_at_diagnosis', 'MRI_lesion_mass','gender_M','oligoclonal_band_POS','MALIGNANT', 'STANDARD']\n",
        "\n",
        "NO_PD1_RQ_NO_LAG3 = ['TIM3_RQ', 'TIGIT_RQ', 'RQ_CTLA4','age_at_diagnosis', 'primary_EDSS_at_diagnosis', 'MRI_lesion_mass','gender_M','oligoclonal_band_POS','MALIGNANT', 'STANDARD']\n",
        "NO_PD1_RQ_NO_TIM3 = ['TIGIT_RQ', 'LAG3_RQ', 'RQ_CTLA4','age_at_diagnosis', 'primary_EDSS_at_diagnosis', 'MRI_lesion_mass','gender_M','oligoclonal_band_POS','MALIGNANT', 'STANDARD']\n",
        "NO_PD1_RQ_NO_TIGIT = ['TIM3_RQ', 'LAG3_RQ', 'RQ_CTLA4','age_at_diagnosis', 'primary_EDSS_at_diagnosis', 'MRI_lesion_mass','gender_M','oligoclonal_band_POS','MALIGNANT', 'STANDARD']\n",
        "NO_PD1_RQ_NO_MRI_LESION = ['TIM3_RQ', 'TIGIT_RQ', 'LAG3_RQ', 'RQ_CTLA4','age_at_diagnosis', 'primary_EDSS_at_diagnosis', 'gender_M','oligoclonal_band_POS','MALIGNANT', 'STANDARD']\n",
        "NO_PD1_RQ_NO_RQ_CTLA4 = ['TIM3_RQ', 'TIGIT_RQ', 'LAG3_RQ', 'age_at_diagnosis', 'primary_EDSS_at_diagnosis', 'MRI_lesion_mass','gender_M','oligoclonal_band_POS','MALIGNANT', 'STANDARD']\n",
        "NO_PD1_RQ_NO_AGE = ['TIM3_RQ', 'TIGIT_RQ', 'LAG3_RQ', 'RQ_CTLA4', 'primary_EDSS_at_diagnosis', 'MRI_lesion_mass','gender_M','oligoclonal_band_POS','MALIGNANT', 'STANDARD']\n",
        "NO_PD1_RQ_NO_MALIGNANT = ['TIM3_RQ', 'TIGIT_RQ', 'LAG3_RQ', 'RQ_CTLA4','age_at_diagnosis', 'primary_EDSS_at_diagnosis', 'MRI_lesion_mass','gender_M','oligoclonal_band_POS', 'STANDARD']\n",
        "\n",
        "#REMOVE THREE FEATURES\n",
        "NO_TIGIT_NO_LAG3_NO_primary_EDSS_at_diagnosis =   ['TIM3_RQ','PD-1_RQ', 'RQ_CTLA4','age_at_diagnosis', 'MRI_lesion_mass','gender_M','oligoclonal_band_POS','MALIGNANT', 'STANDARD']\n",
        "\n",
        "#REMOVE FOUR FEATURES\n",
        "NO_TIGIT_NO_LAG3_NO_primary_EDSS_at_diagnosis_NO_AGE = ['TIM3_RQ', 'PD-1_RQ', 'RQ_CTLA4', 'MRI_lesion_mass','gender_M','oligoclonal_band_POS','MALIGNANT', 'STANDARD']\n",
        "\n",
        "\n",
        "\n",
        "\n",
        "\n",
        "#lists of removed features as String \n",
        "\n",
        "ALL_FEATURES_STR = \"ALL FEATURES\"\n",
        "#REMOVE ONE FEATURE\n",
        "NO_TIGIT_STR = \"NO TIGIT\"\n",
        "NO_LAG3_STR =\"NO LAG3\"\n",
        "NO_AGE_STR = \"NO AGE\"\n",
        "NO_OCB_STR =\"NO OCB\"\n",
        "NO_MRI_LESION_STR = \"NO MRI LESION\"\n",
        "NO_GENDER_STR = \"NO GENDER\"\n",
        "NO_EDSS_AT_DIAGNOSIS_STR = \"NO EDSS AT DIAGNOSIS\"\n",
        "NO_TIM3_STR = \"NO TIM3\"\n",
        "NO_PD1_RQ_STR = \"NO PD1 RQ\"\n",
        "NO_RQ_CTLA4_STR = \"NO RQ CTLA4\"\n",
        "NO_MALIGNANT_STR = \"NO MALIGNANT\"\n",
        "NO_STANDARD_STR = \"NO STANDARD\"\n",
        "#REMOVE TWO FEATURES\n",
        "NO_TIGIT_NO_LAG3_STR = \"NO TIGIT, LAG3\"\n",
        "NO_TIGIT_NO_AGE_STR = \"NO TIGIT, AGE\"\n",
        "NO_TIGIT_NO_OCB_STR = \"NO TIGIT,OCB\"\n",
        "NO_TIGIT_NO_MRI_LESION_STR = \"NO TIGIT, MRI LESION\"\n",
        "NO_TIGIT_NO_PD1_RQ_STR = \"NO_ IGIT, PD1 RQ\"\n",
        "NO_TIGIT_NO_RQ_CTLA4_STR = \"NO TIGIT, RQ CTLA4\"\n",
        "NO_TIGIT_NO_MALIGNANT_STR = \"NO TIGIT, MALIGNANT\"\n",
        "\n",
        "NO_LAG3_NO_TIM3_STR = \"NO LAG3, TIM3\"\n",
        "NO_LAG3_NO_AGE_STR = \"NO LAG3, AGE\"\n",
        "NO_LAG3_NO_TIGIT_STR = \"NO LAG3, TIGIT\"\n",
        "NO_LAG3_NO_OCB_STR = \"NO LAG3, OCB\"\n",
        "NO_LAG3_NO_MRI_LESION_STR = \"NO LAG3, MRI LESION\"\n",
        "NO_LAG3_NO_PD1_RQ_STR = \"NO LAG3,PD1 RQ\"\n",
        "NO_LAG3_NO_RQ_CTLA4_STR = \"NO LAG3, RQ CTLA4\"\n",
        "\n",
        "NO_PD1_RQ_NO_LAG3_STR = \"NO_PD1 RQ, LAG3\"\n",
        "NO_PD1_RQ_NO_TIM3_STR = \"NO PD1 RQ, TIM3\"\n",
        "NO_PD1_RQ_NO_TIGIT_STR = \"NO_PD1 RQ, TIGIT\"\n",
        "NO_PD1_RQ_NO_MRI_LESION_STR = \"NO PD1 RQ, MRI LESION\"\n",
        "NO_PD1_RQ_NO_RQ_CTLA4_STR = \"NO PD1 RQ, RQ CTLA4\"\n",
        "NO_PD1_RQ_NO_AGE_STR = \"NO PD1 RQ, AGE\"\n",
        "NO_PD1_RQ_NO_MALIGNANT_STR = \"NO PD1 RQ, MALIGNANT\"\n",
        "\n",
        "#REMOVE THREE FEATURES\n",
        "NO_TIGIT_NO_LAG3_NO_primary_EDSS_at_diagnosis_STR =   \"NO TIGIT, LAG3, primary EDSS at diagnosis\"\n",
        "\n",
        "#REMOVE FOUR FEATURES\n",
        "NO_TIGIT_NO_LAG3_NO_primary_EDSS_at_diagnosis_NO_AGE_STR = \"NO TIGIT, LAG3, primary EDSS at diagnosis, AGE\"\n",
        "\n",
        "\n",
        "\n",
        "\n",
        "\n",
        "#lists of models\n",
        "RFCLASSIFIER = \"Random Forest Classifier\"\n",
        "LR = \"Logistic Regression\"\n",
        "RFREGRESSOR = \"Random Forest Regressor\"\n",
        "\n",
        "\n",
        "#lists of outcome\n",
        "OUTCOME_MS_TYPE = \"SPMS\"\n",
        "OUTCOME_EDSS_POST_10_YEARS = \"EDSS_post_10_years\"\n",
        "OUTCOME_EDSS_POST_5_YEARS = \"5_years_from_sample\"\n",
        "#const seed all runs\n",
        "SEED = 42\n"
      ],
      "execution_count": null,
      "outputs": []
    },
    {
      "cell_type": "markdown",
      "metadata": {
        "id": "-Vhh3gn21Pr9"
      },
      "source": [
        "# **helper functions**"
      ]
    },
    {
      "cell_type": "code",
      "metadata": {
        "id": "w_7eISOAnALK"
      },
      "source": [
        "const_seed = 42"
      ],
      "execution_count": null,
      "outputs": []
    },
    {
      "cell_type": "code",
      "metadata": {
        "id": "AV8FT4eXLoZu"
      },
      "source": [
        "def calcCrossValidation_RMSE(model, df, predictors, outcome):\n",
        "\n",
        "\n",
        "  # Perform k-fold cross-validation with 10 folds\n",
        "  kf = KFold(n_splits=df.shape[0])\n",
        "  accuracy = []\n",
        "  total_RMSE=0\n",
        "  for train, test in kf.split(df):\n",
        "      # print(train)\n",
        "      # Filter training data\n",
        "      train_predictors = (df[predictors].iloc[train, :])\n",
        "      # The target we're using to train the algorithm.\n",
        "      train_target = df[outcome].iloc[train]\n",
        "      test_predictors = (df[predictors].iloc[test, :])\n",
        "      # print(train_predictors)\n",
        "\n",
        "      # The target we're using to train the algorithm.\n",
        "      test_target = df[outcome].iloc[test]\n",
        "\n",
        "      # Training the algorithm using the predictors and target.\n",
        "      # print(train_target)\n",
        "      model.fit(train_predictors, train_target)\n",
        "      predictions = model.predict(test_predictors)\n",
        "      # print(predictions)\n",
        "      rmse = sqrt(mean_squared_error(test_target, predictions))  \n",
        "      # print(rmse)\n",
        "      total_RMSE += rmse\n",
        "\n",
        "  return total_RMSE/df.shape[0]\n",
        "  # return 0"
      ],
      "execution_count": null,
      "outputs": []
    },
    {
      "cell_type": "code",
      "metadata": {
        "id": "7ueuF8gWhLXz"
      },
      "source": [
        ""
      ],
      "execution_count": null,
      "outputs": []
    },
    {
      "cell_type": "code",
      "metadata": {
        "id": "MqB235vSgrNj"
      },
      "source": [
        "def calcCrossValidation_Matrix(model, df, predictors, outcome):\n",
        "\n",
        "  total_tp = 0\n",
        "  total_tn = 0\n",
        "  total_fp = 0\n",
        "  total_fn = 0\n",
        "\n",
        "  # Perform k-fold cross-validation with 10 folds\n",
        "  kf = KFold(n_splits=df.shape[0])\n",
        "  accuracy = []\n",
        "  for train, test in kf.split(df):\n",
        "      # print(\"1\")\n",
        "\n",
        "      # Filter training data\n",
        "      train_predictors = (df[predictors].iloc[train, :])\n",
        "      # The target we're using to train the algorithm.\n",
        "      train_target = df[outcome].iloc[train]\n",
        "      # print(\"1\")\n",
        "\n",
        "      test_predictors = (df[predictors].iloc[test, :])\n",
        "      # The target we're using to train the algorithm.\n",
        "      test_target = df[outcome].iloc[test]\n",
        "      # print(\"1\")\n",
        "\n",
        "\n",
        "      # Training the algorithm using the predictors and target.\n",
        "      model.fit(train_predictors, train_target)\n",
        "      predictions = model.predict(test_predictors)\n",
        "      # cm = confusion_matrix(test_target, predictions)\n",
        "      # print(cm)\n",
        "      # print(\"1\")\n",
        "      # print(\"test_target\")\n",
        "      test_target = test_target.to_numpy()\n",
        "      # print(test_target)\n",
        "      # np.array(df[outcome].values.tolist())\n",
        "      # print(type(test_target))\n",
        "      # print(\"predictions\")\n",
        "      # print(predictions)\n",
        "      # print(type(predictions))\n",
        "\n",
        "      tn, fp, fn, tp = perf_measure(test_target, predictions)\n",
        "      # print(\"1\")\n",
        "\n",
        "      total_tp += tp\n",
        "      total_tn += tn\n",
        "      total_fp += fp\n",
        "      total_fn += fn\n",
        "\n",
        "  # print(total_tn, total_fp, total_fn, total_tp)\n",
        "  return total_tn, total_fp, total_fn, total_tp "
      ],
      "execution_count": null,
      "outputs": []
    },
    {
      "cell_type": "code",
      "metadata": {
        "id": "QmkOlEBaYWIh"
      },
      "source": [
        "def perf_measure(y_actual, y_hat):\n",
        "    TP = 0\n",
        "    FP = 0\n",
        "    TN = 0\n",
        "    FN = 0\n",
        "\n",
        "    for i in range(len(y_hat)): \n",
        "        if y_actual[i]==y_hat[i]==1:\n",
        "           TP += 1\n",
        "        if y_hat[i]==1 and y_actual[i]!=y_hat[i]:\n",
        "           FP += 1\n",
        "        if y_actual[i]==y_hat[i]==0:\n",
        "           TN += 1\n",
        "        if y_hat[i]==0 and y_actual[i]!=y_hat[i]:\n",
        "           FN += 1\n",
        "    # print(TN, FP, FN, TP)\n",
        "    return(TN, FP, FN, TP)"
      ],
      "execution_count": null,
      "outputs": []
    },
    {
      "cell_type": "code",
      "metadata": {
        "id": "0n-dU50HohOo"
      },
      "source": [
        "def calc_specificity(tn, fp, fn, tp):\n",
        "  return tn / (tn +fp)"
      ],
      "execution_count": null,
      "outputs": []
    },
    {
      "cell_type": "code",
      "metadata": {
        "id": "RqfyFAOYpXdx"
      },
      "source": [
        "def calc_sensitivity(tn, fp, fn, tp):\n",
        "  return tp / (tp +fn)"
      ],
      "execution_count": null,
      "outputs": []
    },
    {
      "cell_type": "markdown",
      "metadata": {
        "id": "EUl7Y0Gyn80N"
      },
      "source": [
        "# code for automation experiments"
      ]
    },
    {
      "cell_type": "code",
      "metadata": {
        "id": "izI_LzKkLNPW"
      },
      "source": [
        "def run_experiment(df, outcome_var, model_type, predictor_var, removed_features, df_experiments):\n",
        "  model = choose_experiment_model(df, outcome_var, model_type, predictor_var, removed_features, df_experiments)\n",
        "  if (model_type=='Random Forest Classifier' or model_type=='Logistic Regression'):\n",
        "    calculations = add_sensitivity_specifity(model, df, predictor_var, outcome_var, model_type, removed_features, df_experiments)\n",
        "  else:\n",
        "    calculations = add_rmse(model, df, predictor_var, outcome_var, model_type, removed_features, df_experiments)\n",
        "  experiment_results = update_experiment_in_results_df(calculations, removed_features, model_type, df_experiments)\n",
        "  return experiment_results"
      ],
      "execution_count": null,
      "outputs": []
    },
    {
      "cell_type": "code",
      "metadata": {
        "id": "GEJv9dtgLqvx"
      },
      "source": [
        "def choose_experiment_model(df, outcome_var, model_type, predictor_var, removed_features, df_experiments):\n",
        "  if (model_type=='Random Forest Classifier'):\n",
        "    return RandomForestClassifier(n_estimators=25, min_samples_split=9, max_depth=15, max_features='auto',random_state=SEED)\n",
        "    # return add_sensitivity_specifity(model, df, predictor_var, outcome_var, model_type, removed_features, df_experiments)\n",
        "  elif (model_type=='Logistic Regression'):\n",
        "    return LogisticRegression(max_iter = 4000,random_state=SEED)\n",
        "    # return add_sensitivity_specifity(model, df, predictor_var, outcome_var, model_type, removed_features, df_experiments)\n",
        "  else:\n",
        "    return RandomForestRegressor(n_estimators = 10, random_state=SEED)\n",
        "    # return add_rmse(model, df, predictor_var, outcome_var, model_type, removed_features, df_experiments)"
      ],
      "execution_count": null,
      "outputs": []
    },
    {
      "cell_type": "code",
      "metadata": {
        "id": "IsW8OAa_LNoY"
      },
      "source": [
        "def add_sensitivity_specifity(model, df, predictor_var, outcome_var, model_type, removed_features, df_experiments):\n",
        "  tn, fp, fn, tp = calcCrossValidation_Matrix(model, df, predictor_var, outcome_var)\n",
        "  specificity = calc_specificity(tn, fp, fn, tp)\n",
        "  sensitivity = calc_sensitivity(tn, fp, fn, tp)\n",
        "  specifity_sensitivity_list = [specificity, sensitivity]\n",
        "  return specifity_sensitivity_list"
      ],
      "execution_count": null,
      "outputs": []
    },
    {
      "cell_type": "code",
      "metadata": {
        "id": "3z3Sh3-BLNoZ"
      },
      "source": [
        "def add_rmse(model, df, predictor_var, outcome_var, model_type, removed_features, df_experiments):\n",
        "  rmse = calcCrossValidation_RMSE(model, df, predictor_var, outcome_var)\n",
        "  rmse_list = [rmse]\n",
        "  return rmse_list"
      ],
      "execution_count": null,
      "outputs": []
    },
    {
      "cell_type": "code",
      "metadata": {
        "id": "2RrQf9WwLNoZ"
      },
      "source": [
        "def update_experiment_in_results_df(results_list, removed_features, model_type, df_experiments):\n",
        "  if (len(results_list)==2):\n",
        "    new_record = {'Model': model_type,'Removed Features': removed_features,'Specificity': results_list[0], 'Sensitivity':results_list[1], 'RMSE': ''}\n",
        "  else:\n",
        "    new_record = {'Model': model_type,'Removed Features': removed_features,'Specificity': '', 'Sensitivity':'', 'RMSE':results_list[0]}\n",
        "  df_experiments = df_experiments.append(new_record, ignore_index=True)\n",
        "  return df_experiments\n",
        "  "
      ],
      "execution_count": null,
      "outputs": []
    },
    {
      "cell_type": "code",
      "metadata": {
        "id": "onvYaWG9LNoZ"
      },
      "source": [
        "def experiments_RF_LR(df_origin_data,features_list, features_names,df_experiments):\n",
        "  # df_experiments = run_experiment(df_origin_data, OUTCOME_MS_TYPE, RFCLASSIFIER, features_list, features_names, df_experiments)\n",
        "  # df_experiments = run_experiment(df_origin_data, OUTCOME_MS_TYPE, LR, features_list, features_names, df_experiments)\n",
        "  df_experiments = run_experiment(df_origin_data, OUTCOME_EDSS_POST_5_YEARS, RFREGRESSOR, features_list, features_names, df_experiments)\n",
        "  return df_experiments"
      ],
      "execution_count": null,
      "outputs": []
    },
    {
      "cell_type": "markdown",
      "metadata": {
        "id": "DPg9fLj8RyGy"
      },
      "source": [
        "#**Coral all patients (untreated)**"
      ]
    },
    {
      "cell_type": "code",
      "metadata": {
        "id": "hhFHm5S1K_sZ"
      },
      "source": [
        "const_seed = 42"
      ],
      "execution_count": null,
      "outputs": []
    },
    {
      "cell_type": "markdown",
      "metadata": {
        "id": "mG6eFIqPog1-"
      },
      "source": [
        "pickle creation"
      ]
    },
    {
      "cell_type": "code",
      "metadata": {
        "id": "OEA_csPd02-e"
      },
      "source": [
        "df_coral = pd.read_pickle(\"/content/gdrive/My Drive/Colab Notebooks/MS_Notebooks/DFDB2Final_coral.pkl\")\n",
        "df_coral"
      ],
      "execution_count": null,
      "outputs": []
    },
    {
      "cell_type": "code",
      "metadata": {
        "id": "p-Dkwq1SMAyn"
      },
      "source": [
        "def min_max_normalize_features(dataframe, numeric_list):\n",
        "    for num_feature in numeric_list:\n",
        "        dataframe[num_feature] = (dataframe[num_feature] - dataframe[num_feature].min()) / (\n",
        "                dataframe[num_feature].max() - dataframe[num_feature].min())\n",
        "    return dataframe"
      ],
      "execution_count": null,
      "outputs": []
    },
    {
      "cell_type": "code",
      "metadata": {
        "id": "4xkT2H9gMAyo"
      },
      "source": [
        "# normalized_features = ['TIM3_RQ', 'TIGIT_RQ', 'LAG3_RQ', 'age_at_diagnosis','primary_EDSS_at_diagnosis', '1_years_EDSS_from_sample_date', 'MRI_lesion_mass', 'Lymph_Cells', 'PMN_Cells', 'Cells']\n",
        "normalized_features = ['TIM3_RQ', 'TIGIT_RQ', 'LAG3_RQ', 'PD-1_RQ', 'RQ_CTLA4', 'age_at_diagnosis', 'MRI_lesion_mass']\n",
        "\n",
        "df_coral = min_max_normalize_features(df_coral, normalized_features)\n",
        "df_coral"
      ],
      "execution_count": null,
      "outputs": []
    },
    {
      "cell_type": "code",
      "metadata": {
        "id": "gA4hYkWJMAyo"
      },
      "source": [
        "# categorical_features = ['gender','oligoclonal_band','diagnosis']\n",
        "# df_livnat_all_patients = pd.get_dummies(df_livnat_all_patients, columns=categorical_features, drop_first=True)\n",
        "df_coral.drop(['sample_code'], axis='columns', inplace=True)"
      ],
      "execution_count": null,
      "outputs": []
    },
    {
      "cell_type": "code",
      "metadata": {
        "colab": {
          "base_uri": "https://localhost:8080/"
        },
        "id": "g6h7isExMAyo",
        "outputId": "d0980579-0ee4-4a5f-987c-9da79bbb1b86"
      },
      "source": [
        "df_coral.columns.values"
      ],
      "execution_count": null,
      "outputs": [
        {
          "output_type": "execute_result",
          "data": {
            "text/plain": [
              "array(['gender', 'age_at_diagnosis', 'diagnosis', 'diagnosis_status',\n",
              "       'primary_EDSS_at_diagnosis', 'num_of_medicine_changed',\n",
              "       'MRI_lesion_mass', 'oligoclonal_band', 'TIGIT_RQ', 'TIM3_RQ',\n",
              "       'LAG3_RQ', 'PD-1_RQ', 'RQ_CTLA4', '1_years_EDSS_from_sample_date',\n",
              "       '3_years_from_sample', '5_years_from_sample', 'EDSS_post_10_years',\n",
              "       'NEG', 'oligoclonal_band_POS', 'F', 'gender_M', 'BENIGN',\n",
              "       'MALIGNANT', 'STANDARD', 'diagnosis_RRMS', 'SPMS'], dtype=object)"
            ]
          },
          "metadata": {
            "tags": []
          },
          "execution_count": 22
        }
      ]
    },
    {
      "cell_type": "markdown",
      "metadata": {
        "id": "Faxl1El1BRD6"
      },
      "source": [
        "# Running all experiments"
      ]
    },
    {
      "cell_type": "code",
      "metadata": {
        "colab": {
          "base_uri": "https://localhost:8080/",
          "height": 1000
        },
        "id": "r9K70FVkWJx6",
        "outputId": "2e849c75-5c3e-45e6-c825-259cee9343cb"
      },
      "source": [
        "df_experiments = pd.DataFrame(columns=['Model','Removed Features','Specificity', 'Sensitivity', 'RMSE']) \n",
        "\n",
        "df_experiments = experiments_RF_LR(df_coral,ALL_FEATURES, ALL_FEATURES_STR,df_experiments)\n",
        "df_experiments = experiments_RF_LR(df_coral,NO_TIGIT, NO_TIGIT_STR,df_experiments)\n",
        "df_experiments = experiments_RF_LR(df_coral ,NO_LAG3, NO_LAG3_STR,df_experiments)\n",
        "df_experiments = experiments_RF_LR(df_coral,NO_AGE, NO_AGE_STR,df_experiments)\n",
        "df_experiments = experiments_RF_LR(df_coral,NO_OCB, NO_OCB_STR,df_experiments)\n",
        "df_experiments = experiments_RF_LR(df_coral,NO_MRI_LESION, NO_MRI_LESION_STR,df_experiments)\n",
        "df_experiments = experiments_RF_LR(df_coral,NO_GENDER, NO_GENDER_STR,df_experiments)\n",
        "df_experiments = experiments_RF_LR(df_coral,NO_EDSS_AT_DIAGNOSIS, NO_EDSS_AT_DIAGNOSIS_STR,df_experiments)\n",
        "df_experiments = experiments_RF_LR(df_coral,NO_TIM3, NO_TIM3_STR,df_experiments)\n",
        "df_experiments = experiments_RF_LR(df_coral,NO_PD1_RQ, NO_PD1_RQ_STR,df_experiments)\n",
        "df_experiments = experiments_RF_LR(df_coral,NO_RQ_CTLA4, NO_RQ_CTLA4_STR,df_experiments)\n",
        "df_experiments = experiments_RF_LR(df_coral,NO_MALIGNANT, NO_MALIGNANT_STR,df_experiments)\n",
        "df_experiments = experiments_RF_LR(df_coral,NO_STANDARD, NO_STANDARD_STR,df_experiments)\n",
        "\n",
        "\n",
        "df_experiments = experiments_RF_LR(df_coral,NO_TIGIT_NO_LAG3, NO_TIGIT_NO_LAG3_STR,df_experiments)\n",
        "df_experiments = experiments_RF_LR(df_coral,NO_TIGIT_NO_AGE, NO_TIGIT_NO_AGE_STR,df_experiments)\n",
        "df_experiments = experiments_RF_LR(df_coral,NO_TIGIT_NO_OCB, NO_TIGIT_NO_OCB_STR,df_experiments)\n",
        "df_experiments = experiments_RF_LR(df_coral,NO_TIGIT_NO_MRI_LESION, NO_TIGIT_NO_MRI_LESION_STR,df_experiments)\n",
        "\n",
        "df_experiments = experiments_RF_LR(df_coral,NO_TIGIT_NO_PD1_RQ, NO_TIGIT_NO_PD1_RQ_STR,df_experiments)\n",
        "df_experiments = experiments_RF_LR(df_coral,NO_TIGIT_NO_RQ_CTLA4, NO_TIGIT_NO_RQ_CTLA4_STR,df_experiments)\n",
        "df_experiments = experiments_RF_LR(df_coral,NO_TIGIT_NO_MALIGNANT, NO_TIGIT_NO_MALIGNANT_STR,df_experiments)\n",
        "df_experiments = experiments_RF_LR(df_coral,NO_LAG3_NO_TIM3, NO_LAG3_NO_TIM3_STR,df_experiments)\n",
        "\n",
        "df_experiments = experiments_RF_LR(df_coral,NO_LAG3_NO_TIM3, NO_LAG3_NO_TIM3_STR,df_experiments)\n",
        "df_experiments = experiments_RF_LR(df_coral,NO_LAG3_NO_AGE, NO_LAG3_NO_AGE_STR,df_experiments)\n",
        "df_experiments = experiments_RF_LR(df_coral,NO_LAG3_NO_TIGIT, NO_LAG3_NO_TIGIT_STR,df_experiments)\n",
        "df_experiments = experiments_RF_LR(df_coral,NO_LAG3_NO_OCB, NO_LAG3_NO_OCB_STR,df_experiments)\n",
        "df_experiments = experiments_RF_LR(df_coral,NO_LAG3_NO_MRI_LESION, NO_LAG3_NO_MRI_LESION_STR,df_experiments)\n",
        "df_experiments = experiments_RF_LR(df_coral,NO_LAG3_NO_PD1_RQ, NO_LAG3_NO_PD1_RQ_STR,df_experiments)\n",
        "df_experiments = experiments_RF_LR(df_coral,NO_LAG3_NO_RQ_CTLA4, NO_LAG3_NO_RQ_CTLA4_STR,df_experiments)\n",
        "\n",
        "df_experiments = experiments_RF_LR(df_coral,NO_PD1_RQ_NO_LAG3, NO_PD1_RQ_NO_LAG3_STR,df_experiments)\n",
        "df_experiments = experiments_RF_LR(df_coral,NO_PD1_RQ_NO_TIM3, NO_PD1_RQ_NO_TIM3_STR,df_experiments)\n",
        "df_experiments = experiments_RF_LR(df_coral,NO_PD1_RQ_NO_TIGIT, NO_PD1_RQ_NO_TIGIT_STR,df_experiments)\n",
        "df_experiments = experiments_RF_LR(df_coral,NO_PD1_RQ_NO_MRI_LESION, NO_PD1_RQ_NO_MRI_LESION_STR,df_experiments)\n",
        "df_experiments = experiments_RF_LR(df_coral,NO_PD1_RQ_NO_RQ_CTLA4, NO_PD1_RQ_NO_RQ_CTLA4_STR,df_experiments)\n",
        "df_experiments = experiments_RF_LR(df_coral,NO_PD1_RQ_NO_AGE, NO_PD1_RQ_NO_AGE_STR,df_experiments)\n",
        "df_experiments = experiments_RF_LR(df_coral,NO_PD1_RQ_NO_MALIGNANT, NO_PD1_RQ_NO_MALIGNANT_STR,df_experiments)\n",
        "\n",
        "df_experiments = experiments_RF_LR(df_coral,NO_TIGIT_NO_LAG3_NO_primary_EDSS_at_diagnosis, NO_TIGIT_NO_LAG3_NO_primary_EDSS_at_diagnosis_STR,df_experiments)\n",
        "df_experiments = experiments_RF_LR(df_coral,NO_TIGIT_NO_LAG3_NO_primary_EDSS_at_diagnosis_NO_AGE, NO_TIGIT_NO_LAG3_NO_primary_EDSS_at_diagnosis_NO_AGE_STR,df_experiments)\n",
        "\n",
        "\n",
        "\n",
        "df_experiments.to_excel('/content/gdrive/MyDrive/Colab Notebooks/experiments_excels/df_5_years_rmse_coral.xlsx',index=False)\n",
        "df_experiments\n",
        "\n"
      ],
      "execution_count": null,
      "outputs": [
        {
          "output_type": "execute_result",
          "data": {
            "text/html": [
              "<div>\n",
              "<style scoped>\n",
              "    .dataframe tbody tr th:only-of-type {\n",
              "        vertical-align: middle;\n",
              "    }\n",
              "\n",
              "    .dataframe tbody tr th {\n",
              "        vertical-align: top;\n",
              "    }\n",
              "\n",
              "    .dataframe thead th {\n",
              "        text-align: right;\n",
              "    }\n",
              "</style>\n",
              "<table border=\"1\" class=\"dataframe\">\n",
              "  <thead>\n",
              "    <tr style=\"text-align: right;\">\n",
              "      <th></th>\n",
              "      <th>Model</th>\n",
              "      <th>Removed Features</th>\n",
              "      <th>Specificity</th>\n",
              "      <th>Sensitivity</th>\n",
              "      <th>RMSE</th>\n",
              "    </tr>\n",
              "  </thead>\n",
              "  <tbody>\n",
              "    <tr>\n",
              "      <th>0</th>\n",
              "      <td>Random Forest Regressor</td>\n",
              "      <td>ALL FEATURES</td>\n",
              "      <td></td>\n",
              "      <td></td>\n",
              "      <td>0.742105</td>\n",
              "    </tr>\n",
              "    <tr>\n",
              "      <th>1</th>\n",
              "      <td>Random Forest Regressor</td>\n",
              "      <td>NO TIGIT</td>\n",
              "      <td></td>\n",
              "      <td></td>\n",
              "      <td>0.692982</td>\n",
              "    </tr>\n",
              "    <tr>\n",
              "      <th>2</th>\n",
              "      <td>Random Forest Regressor</td>\n",
              "      <td>NO LAG3</td>\n",
              "      <td></td>\n",
              "      <td></td>\n",
              "      <td>0.670175</td>\n",
              "    </tr>\n",
              "    <tr>\n",
              "      <th>3</th>\n",
              "      <td>Random Forest Regressor</td>\n",
              "      <td>NO AGE</td>\n",
              "      <td></td>\n",
              "      <td></td>\n",
              "      <td>0.700877</td>\n",
              "    </tr>\n",
              "    <tr>\n",
              "      <th>4</th>\n",
              "      <td>Random Forest Regressor</td>\n",
              "      <td>NO OCB</td>\n",
              "      <td></td>\n",
              "      <td></td>\n",
              "      <td>0.689474</td>\n",
              "    </tr>\n",
              "    <tr>\n",
              "      <th>5</th>\n",
              "      <td>Random Forest Regressor</td>\n",
              "      <td>NO MRI LESION</td>\n",
              "      <td></td>\n",
              "      <td></td>\n",
              "      <td>0.793860</td>\n",
              "    </tr>\n",
              "    <tr>\n",
              "      <th>6</th>\n",
              "      <td>Random Forest Regressor</td>\n",
              "      <td>NO GENDER</td>\n",
              "      <td></td>\n",
              "      <td></td>\n",
              "      <td>0.697368</td>\n",
              "    </tr>\n",
              "    <tr>\n",
              "      <th>7</th>\n",
              "      <td>Random Forest Regressor</td>\n",
              "      <td>NO EDSS AT DIAGNOSIS</td>\n",
              "      <td></td>\n",
              "      <td></td>\n",
              "      <td>0.762281</td>\n",
              "    </tr>\n",
              "    <tr>\n",
              "      <th>8</th>\n",
              "      <td>Random Forest Regressor</td>\n",
              "      <td>NO TIM3</td>\n",
              "      <td></td>\n",
              "      <td></td>\n",
              "      <td>0.651754</td>\n",
              "    </tr>\n",
              "    <tr>\n",
              "      <th>9</th>\n",
              "      <td>Random Forest Regressor</td>\n",
              "      <td>NO PD1 RQ</td>\n",
              "      <td></td>\n",
              "      <td></td>\n",
              "      <td>0.679825</td>\n",
              "    </tr>\n",
              "    <tr>\n",
              "      <th>10</th>\n",
              "      <td>Random Forest Regressor</td>\n",
              "      <td>NO RQ CTLA4</td>\n",
              "      <td></td>\n",
              "      <td></td>\n",
              "      <td>0.671930</td>\n",
              "    </tr>\n",
              "    <tr>\n",
              "      <th>11</th>\n",
              "      <td>Random Forest Regressor</td>\n",
              "      <td>NO MALIGNANT</td>\n",
              "      <td></td>\n",
              "      <td></td>\n",
              "      <td>1.589474</td>\n",
              "    </tr>\n",
              "    <tr>\n",
              "      <th>12</th>\n",
              "      <td>Random Forest Regressor</td>\n",
              "      <td>NO STANDARD</td>\n",
              "      <td></td>\n",
              "      <td></td>\n",
              "      <td>0.840351</td>\n",
              "    </tr>\n",
              "    <tr>\n",
              "      <th>13</th>\n",
              "      <td>Random Forest Regressor</td>\n",
              "      <td>NO TIGIT, LAG3</td>\n",
              "      <td></td>\n",
              "      <td></td>\n",
              "      <td>0.707018</td>\n",
              "    </tr>\n",
              "    <tr>\n",
              "      <th>14</th>\n",
              "      <td>Random Forest Regressor</td>\n",
              "      <td>NO TIGIT, AGE</td>\n",
              "      <td></td>\n",
              "      <td></td>\n",
              "      <td>0.679825</td>\n",
              "    </tr>\n",
              "    <tr>\n",
              "      <th>15</th>\n",
              "      <td>Random Forest Regressor</td>\n",
              "      <td>NO TIGIT,OCB</td>\n",
              "      <td></td>\n",
              "      <td></td>\n",
              "      <td>0.678070</td>\n",
              "    </tr>\n",
              "    <tr>\n",
              "      <th>16</th>\n",
              "      <td>Random Forest Regressor</td>\n",
              "      <td>NO TIGIT, MRI LESION</td>\n",
              "      <td></td>\n",
              "      <td></td>\n",
              "      <td>0.755263</td>\n",
              "    </tr>\n",
              "    <tr>\n",
              "      <th>17</th>\n",
              "      <td>Random Forest Regressor</td>\n",
              "      <td>NO_ IGIT, PD1 RQ</td>\n",
              "      <td></td>\n",
              "      <td></td>\n",
              "      <td>0.730702</td>\n",
              "    </tr>\n",
              "    <tr>\n",
              "      <th>18</th>\n",
              "      <td>Random Forest Regressor</td>\n",
              "      <td>NO TIGIT, RQ CTLA4</td>\n",
              "      <td></td>\n",
              "      <td></td>\n",
              "      <td>0.689474</td>\n",
              "    </tr>\n",
              "    <tr>\n",
              "      <th>19</th>\n",
              "      <td>Random Forest Regressor</td>\n",
              "      <td>NO TIGIT, MALIGNANT</td>\n",
              "      <td></td>\n",
              "      <td></td>\n",
              "      <td>1.582456</td>\n",
              "    </tr>\n",
              "    <tr>\n",
              "      <th>20</th>\n",
              "      <td>Random Forest Regressor</td>\n",
              "      <td>NO LAG3, TIM3</td>\n",
              "      <td></td>\n",
              "      <td></td>\n",
              "      <td>0.686842</td>\n",
              "    </tr>\n",
              "    <tr>\n",
              "      <th>21</th>\n",
              "      <td>Random Forest Regressor</td>\n",
              "      <td>NO LAG3, TIM3</td>\n",
              "      <td></td>\n",
              "      <td></td>\n",
              "      <td>0.686842</td>\n",
              "    </tr>\n",
              "    <tr>\n",
              "      <th>22</th>\n",
              "      <td>Random Forest Regressor</td>\n",
              "      <td>NO LAG3, AGE</td>\n",
              "      <td></td>\n",
              "      <td></td>\n",
              "      <td>0.689474</td>\n",
              "    </tr>\n",
              "    <tr>\n",
              "      <th>23</th>\n",
              "      <td>Random Forest Regressor</td>\n",
              "      <td>NO LAG3, TIGIT</td>\n",
              "      <td></td>\n",
              "      <td></td>\n",
              "      <td>0.707018</td>\n",
              "    </tr>\n",
              "    <tr>\n",
              "      <th>24</th>\n",
              "      <td>Random Forest Regressor</td>\n",
              "      <td>NO LAG3, OCB</td>\n",
              "      <td></td>\n",
              "      <td></td>\n",
              "      <td>0.690351</td>\n",
              "    </tr>\n",
              "    <tr>\n",
              "      <th>25</th>\n",
              "      <td>Random Forest Regressor</td>\n",
              "      <td>NO LAG3, MRI LESION</td>\n",
              "      <td></td>\n",
              "      <td></td>\n",
              "      <td>0.761404</td>\n",
              "    </tr>\n",
              "    <tr>\n",
              "      <th>26</th>\n",
              "      <td>Random Forest Regressor</td>\n",
              "      <td>NO LAG3,PD1 RQ</td>\n",
              "      <td></td>\n",
              "      <td></td>\n",
              "      <td>0.665789</td>\n",
              "    </tr>\n",
              "    <tr>\n",
              "      <th>27</th>\n",
              "      <td>Random Forest Regressor</td>\n",
              "      <td>NO LAG3, RQ CTLA4</td>\n",
              "      <td></td>\n",
              "      <td></td>\n",
              "      <td>0.642982</td>\n",
              "    </tr>\n",
              "    <tr>\n",
              "      <th>28</th>\n",
              "      <td>Random Forest Regressor</td>\n",
              "      <td>NO_PD1 RQ, LAG3</td>\n",
              "      <td></td>\n",
              "      <td></td>\n",
              "      <td>0.665789</td>\n",
              "    </tr>\n",
              "    <tr>\n",
              "      <th>29</th>\n",
              "      <td>Random Forest Regressor</td>\n",
              "      <td>NO PD1 RQ, TIM3</td>\n",
              "      <td></td>\n",
              "      <td></td>\n",
              "      <td>0.660526</td>\n",
              "    </tr>\n",
              "    <tr>\n",
              "      <th>30</th>\n",
              "      <td>Random Forest Regressor</td>\n",
              "      <td>NO_PD1 RQ, TIGIT</td>\n",
              "      <td></td>\n",
              "      <td></td>\n",
              "      <td>0.730702</td>\n",
              "    </tr>\n",
              "    <tr>\n",
              "      <th>31</th>\n",
              "      <td>Random Forest Regressor</td>\n",
              "      <td>NO PD1 RQ, MRI LESION</td>\n",
              "      <td></td>\n",
              "      <td></td>\n",
              "      <td>0.812281</td>\n",
              "    </tr>\n",
              "    <tr>\n",
              "      <th>32</th>\n",
              "      <td>Random Forest Regressor</td>\n",
              "      <td>NO PD1 RQ, RQ CTLA4</td>\n",
              "      <td></td>\n",
              "      <td></td>\n",
              "      <td>0.673684</td>\n",
              "    </tr>\n",
              "    <tr>\n",
              "      <th>33</th>\n",
              "      <td>Random Forest Regressor</td>\n",
              "      <td>NO PD1 RQ, AGE</td>\n",
              "      <td></td>\n",
              "      <td></td>\n",
              "      <td>0.698246</td>\n",
              "    </tr>\n",
              "    <tr>\n",
              "      <th>34</th>\n",
              "      <td>Random Forest Regressor</td>\n",
              "      <td>NO PD1 RQ, MALIGNANT</td>\n",
              "      <td></td>\n",
              "      <td></td>\n",
              "      <td>1.621930</td>\n",
              "    </tr>\n",
              "    <tr>\n",
              "      <th>35</th>\n",
              "      <td>Random Forest Regressor</td>\n",
              "      <td>NO TIGIT, LAG3, primary EDSS at diagnosis</td>\n",
              "      <td></td>\n",
              "      <td></td>\n",
              "      <td>0.762281</td>\n",
              "    </tr>\n",
              "    <tr>\n",
              "      <th>36</th>\n",
              "      <td>Random Forest Regressor</td>\n",
              "      <td>NO TIGIT, LAG3, primary EDSS at diagnosis, AGE</td>\n",
              "      <td></td>\n",
              "      <td></td>\n",
              "      <td>0.822807</td>\n",
              "    </tr>\n",
              "  </tbody>\n",
              "</table>\n",
              "</div>"
            ],
            "text/plain": [
              "                      Model                                Removed Features  \\\n",
              "0   Random Forest Regressor                                    ALL FEATURES   \n",
              "1   Random Forest Regressor                                        NO TIGIT   \n",
              "2   Random Forest Regressor                                         NO LAG3   \n",
              "3   Random Forest Regressor                                          NO AGE   \n",
              "4   Random Forest Regressor                                          NO OCB   \n",
              "5   Random Forest Regressor                                   NO MRI LESION   \n",
              "6   Random Forest Regressor                                       NO GENDER   \n",
              "7   Random Forest Regressor                            NO EDSS AT DIAGNOSIS   \n",
              "8   Random Forest Regressor                                         NO TIM3   \n",
              "9   Random Forest Regressor                                       NO PD1 RQ   \n",
              "10  Random Forest Regressor                                     NO RQ CTLA4   \n",
              "11  Random Forest Regressor                                    NO MALIGNANT   \n",
              "12  Random Forest Regressor                                     NO STANDARD   \n",
              "13  Random Forest Regressor                                  NO TIGIT, LAG3   \n",
              "14  Random Forest Regressor                                   NO TIGIT, AGE   \n",
              "15  Random Forest Regressor                                    NO TIGIT,OCB   \n",
              "16  Random Forest Regressor                            NO TIGIT, MRI LESION   \n",
              "17  Random Forest Regressor                                NO_ IGIT, PD1 RQ   \n",
              "18  Random Forest Regressor                              NO TIGIT, RQ CTLA4   \n",
              "19  Random Forest Regressor                             NO TIGIT, MALIGNANT   \n",
              "20  Random Forest Regressor                                   NO LAG3, TIM3   \n",
              "21  Random Forest Regressor                                   NO LAG3, TIM3   \n",
              "22  Random Forest Regressor                                    NO LAG3, AGE   \n",
              "23  Random Forest Regressor                                  NO LAG3, TIGIT   \n",
              "24  Random Forest Regressor                                    NO LAG3, OCB   \n",
              "25  Random Forest Regressor                             NO LAG3, MRI LESION   \n",
              "26  Random Forest Regressor                                  NO LAG3,PD1 RQ   \n",
              "27  Random Forest Regressor                               NO LAG3, RQ CTLA4   \n",
              "28  Random Forest Regressor                                 NO_PD1 RQ, LAG3   \n",
              "29  Random Forest Regressor                                 NO PD1 RQ, TIM3   \n",
              "30  Random Forest Regressor                                NO_PD1 RQ, TIGIT   \n",
              "31  Random Forest Regressor                           NO PD1 RQ, MRI LESION   \n",
              "32  Random Forest Regressor                             NO PD1 RQ, RQ CTLA4   \n",
              "33  Random Forest Regressor                                  NO PD1 RQ, AGE   \n",
              "34  Random Forest Regressor                            NO PD1 RQ, MALIGNANT   \n",
              "35  Random Forest Regressor       NO TIGIT, LAG3, primary EDSS at diagnosis   \n",
              "36  Random Forest Regressor  NO TIGIT, LAG3, primary EDSS at diagnosis, AGE   \n",
              "\n",
              "   Specificity Sensitivity      RMSE  \n",
              "0                           0.742105  \n",
              "1                           0.692982  \n",
              "2                           0.670175  \n",
              "3                           0.700877  \n",
              "4                           0.689474  \n",
              "5                           0.793860  \n",
              "6                           0.697368  \n",
              "7                           0.762281  \n",
              "8                           0.651754  \n",
              "9                           0.679825  \n",
              "10                          0.671930  \n",
              "11                          1.589474  \n",
              "12                          0.840351  \n",
              "13                          0.707018  \n",
              "14                          0.679825  \n",
              "15                          0.678070  \n",
              "16                          0.755263  \n",
              "17                          0.730702  \n",
              "18                          0.689474  \n",
              "19                          1.582456  \n",
              "20                          0.686842  \n",
              "21                          0.686842  \n",
              "22                          0.689474  \n",
              "23                          0.707018  \n",
              "24                          0.690351  \n",
              "25                          0.761404  \n",
              "26                          0.665789  \n",
              "27                          0.642982  \n",
              "28                          0.665789  \n",
              "29                          0.660526  \n",
              "30                          0.730702  \n",
              "31                          0.812281  \n",
              "32                          0.673684  \n",
              "33                          0.698246  \n",
              "34                          1.621930  \n",
              "35                          0.762281  \n",
              "36                          0.822807  "
            ]
          },
          "metadata": {
            "tags": []
          },
          "execution_count": 23
        }
      ]
    }
  ]
}