{
  "nbformat": 4,
  "nbformat_minor": 0,
  "metadata": {
    "colab": {
      "name": "MS project Livnat all patients (treated + untreated) experiments specifity sensitivity.ipynb",
      "provenance": [],
      "collapsed_sections": []
    },
    "kernelspec": {
      "name": "python3",
      "display_name": "Python 3"
    }
  },
  "cells": [
    {
      "cell_type": "markdown",
      "metadata": {
        "id": "M6tv6Y_weQ8z"
      },
      "source": [
        "import all the relevant libraries"
      ]
    },
    {
      "cell_type": "code",
      "metadata": {
        "id": "-z7hXJSeptCa"
      },
      "source": [
        "import pandas as pd\n",
        "import numpy as np\n",
        "import matplotlib.pyplot as plt\n",
        "import statistics as stats\n",
        "import io\n",
        "from sklearn.metrics import mean_squared_error\n",
        "from math import sqrt\n",
        "from sklearn.preprocessing import LabelEncoder\n",
        "from sklearn.model_selection import KFold\n",
        "from sklearn.ensemble import RandomForestRegressor\n",
        "from sklearn.ensemble import RandomForestClassifier\n",
        "from sklearn.linear_model import LogisticRegression, LinearRegression\n",
        "from sklearn import metrics\n",
        "from sklearn.model_selection import train_test_split\n"
      ],
      "execution_count": null,
      "outputs": []
    },
    {
      "cell_type": "markdown",
      "metadata": {
        "id": "ugA1NC9JIkaQ"
      },
      "source": [
        "upload the db file"
      ]
    },
    {
      "cell_type": "code",
      "metadata": {
        "id": "tTM3VXFdxXAg",
        "colab": {
          "base_uri": "https://localhost:8080/"
        },
        "outputId": "bfc5dec1-ecae-4199-d07b-bda0f1c9858d"
      },
      "source": [
        "\n",
        "from google.colab import drive \n",
        "drive.mount('/content/gdrive')"
      ],
      "execution_count": null,
      "outputs": [
        {
          "output_type": "stream",
          "text": [
            "Mounted at /content/gdrive\n"
          ],
          "name": "stdout"
        }
      ]
    },
    {
      "cell_type": "code",
      "metadata": {
        "id": "qxFu0jcL-D_c"
      },
      "source": [
        "#pd.set_option('display.max_columns', None)\n",
        "#pd.set_option('display.max_rows', None)"
      ],
      "execution_count": null,
      "outputs": []
    },
    {
      "cell_type": "markdown",
      "metadata": {
        "id": "t8hh77yJI_Vb"
      },
      "source": [
        "#**helper functions**"
      ]
    },
    {
      "cell_type": "code",
      "metadata": {
        "id": "7ueuF8gWhLXz"
      },
      "source": [
        "def calcCrossValidation_RMSE(model, df, predictors, outcome):\n",
        "\n",
        "\n",
        "  # Perform k-fold cross-validation with 10 folds\n",
        "  kf = KFold(n_splits=df.shape[0])\n",
        "  accuracy = []\n",
        "  total_RMSE=0\n",
        "  for train, test in kf.split(df):\n",
        "      # print(train)\n",
        "      # Filter training data\n",
        "      train_predictors = (df[predictors].iloc[train, :])\n",
        "      # The target we're using to train the algorithm.\n",
        "      train_target = df[outcome].iloc[train]\n",
        "      test_predictors = (df[predictors].iloc[test, :])\n",
        "      # print(train_predictors)\n",
        "\n",
        "      # The target we're using to train the algorithm.\n",
        "      test_target = df[outcome].iloc[test]\n",
        "\n",
        "      # Training the algorithm using the predictors and target.\n",
        "      # print(train_target)\n",
        "      model.fit(train_predictors, train_target)\n",
        "      predictions = model.predict(test_predictors)\n",
        "      # print(predictions)\n",
        "      rmse = sqrt(mean_squared_error(test_target, predictions))  \n",
        "      # print(rmse)\n",
        "      total_RMSE += rmse\n",
        "\n",
        "  return total_RMSE/df.shape[0]\n",
        "  # return 0"
      ],
      "execution_count": null,
      "outputs": []
    },
    {
      "cell_type": "code",
      "metadata": {
        "id": "ZmZIcqibsCHW"
      },
      "source": [
        "def calcCrossValidation_Matrix(model, df, predictors, outcome):\n",
        "\n",
        "  total_tp = 0\n",
        "  total_tn = 0\n",
        "  total_fp = 0\n",
        "  total_fn = 0\n",
        "\n",
        "  # Perform k-fold cross-validation with 10 folds\n",
        "  kf = KFold(n_splits=df.shape[0])\n",
        "  accuracy = []\n",
        "  for train, test in kf.split(df):\n",
        "      # print(\"1\")\n",
        "\n",
        "      # Filter training data\n",
        "      train_predictors = (df[predictors].iloc[train, :])\n",
        "      # The target we're using to train the algorithm.\n",
        "      train_target = df[outcome].iloc[train]\n",
        "      # print(\"1\")\n",
        "\n",
        "      test_predictors = (df[predictors].iloc[test, :])\n",
        "      # The target we're using to train the algorithm.\n",
        "      test_target = df[outcome].iloc[test]\n",
        "      # print(\"1\")\n",
        "\n",
        "\n",
        "      # Training the algorithm using the predictors and target.\n",
        "      model.fit(train_predictors, train_target)\n",
        "      predictions = model.predict(test_predictors)\n",
        "      # cm = confusion_matrix(test_target, predictions)\n",
        "      # print(cm)\n",
        "      # print(\"1\")\n",
        "      # print(\"test_target\")\n",
        "      test_target = test_target.to_numpy()\n",
        "      # print(test_target)\n",
        "      # np.array(df[outcome].values.tolist())\n",
        "      # print(type(test_target))\n",
        "      # print(\"predictions\")\n",
        "      # print(predictions)\n",
        "      # print(type(predictions))\n",
        "\n",
        "      tn, fp, fn, tp = perf_measure(test_target, predictions)\n",
        "      # print(\"1\")\n",
        "\n",
        "      total_tp += tp\n",
        "      total_tn += tn\n",
        "      total_fp += fp\n",
        "      total_fn += fn\n",
        "\n",
        "  # print(total_tn, total_fp, total_fn, total_tp)\n",
        "  return total_tn, total_fp, total_fn, total_tp "
      ],
      "execution_count": null,
      "outputs": []
    },
    {
      "cell_type": "code",
      "metadata": {
        "id": "QmkOlEBaYWIh"
      },
      "source": [
        "def perf_measure(y_actual, y_hat):\n",
        "    TP = 0\n",
        "    FP = 0\n",
        "    TN = 0\n",
        "    FN = 0\n",
        "\n",
        "    for i in range(len(y_hat)): \n",
        "        if y_actual[i]==y_hat[i]==1:\n",
        "           TP += 1\n",
        "        if y_hat[i]==1 and y_actual[i]!=y_hat[i]:\n",
        "           FP += 1\n",
        "        if y_actual[i]==y_hat[i]==0:\n",
        "           TN += 1\n",
        "        if y_hat[i]==0 and y_actual[i]!=y_hat[i]:\n",
        "           FN += 1\n",
        "    # print(TN, FP, FN, TP)\n",
        "    return(TN, FP, FN, TP)"
      ],
      "execution_count": null,
      "outputs": []
    },
    {
      "cell_type": "code",
      "metadata": {
        "id": "0n-dU50HohOo"
      },
      "source": [
        "def calc_specificity(tn, fp, fn, tp):\n",
        "  return tn / (tn +fp)"
      ],
      "execution_count": null,
      "outputs": []
    },
    {
      "cell_type": "code",
      "metadata": {
        "id": "RqfyFAOYpXdx"
      },
      "source": [
        "def calc_sensitivity(tn, fp, fn, tp):\n",
        "  return tp / (tp +fn)"
      ],
      "execution_count": null,
      "outputs": []
    },
    {
      "cell_type": "markdown",
      "metadata": {
        "id": "DPg9fLj8RyGy"
      },
      "source": [
        "#**ALL patients (treated + untreated) Livnat**"
      ]
    },
    {
      "cell_type": "code",
      "metadata": {
        "id": "hhFHm5S1K_sZ"
      },
      "source": [
        "const_seed = 42"
      ],
      "execution_count": null,
      "outputs": []
    },
    {
      "cell_type": "code",
      "metadata": {
        "id": "jp7XAXU8TgEj"
      },
      "source": [
        "# categorical_features = ['gender','oligoclonal_band','diagnosis']"
      ],
      "execution_count": null,
      "outputs": []
    },
    {
      "cell_type": "code",
      "metadata": {
        "id": "TM4imYEcQfPD"
      },
      "source": [
        "# df_all_treated = pd.read_pickle(\"/content/gdrive/My Drive/Colab Notebooks/MS_Notebooks/DF_all_treated.pkl\")\n",
        "# df_all_treated = pd.get_dummies(df_all_treated, columns=categorical_features, drop_first=True)\n",
        "# df_all_treated.drop(['treatment_when_sample_was_taken'], axis='columns', inplace=True)\n",
        "# df_all_treated\n",
        "# df_all_treated.to_pickle('/content/gdrive/My Drive/Colab Notebooks/MS_Notebooks/df_Livnat_all_patients.pkl')\n"
      ],
      "execution_count": null,
      "outputs": []
    },
    {
      "cell_type": "code",
      "metadata": {
        "id": "OEA_csPd02-e"
      },
      "source": [
        "df_Livnat_all_patients = pd.read_pickle(\"/content/gdrive/My Drive/Colab Notebooks/MS_Notebooks/df_Livnat_all_patients.pkl\")\n",
        "df_Livnat_all_patients"
      ],
      "execution_count": null,
      "outputs": []
    },
    {
      "cell_type": "code",
      "metadata": {
        "id": "faD8p50Nz80W"
      },
      "source": [
        ""
      ],
      "execution_count": null,
      "outputs": []
    },
    {
      "cell_type": "code",
      "metadata": {
        "id": "ibqfPzH4z9Q0"
      },
      "source": [
        "def min_max_normalize_features(dataframe, numeric_list):\n",
        "    for num_feature in numeric_list:\n",
        "        dataframe[num_feature] = (dataframe[num_feature] - dataframe[num_feature].min()) / (\n",
        "                dataframe[num_feature].max() - dataframe[num_feature].min())\n",
        "    return dataframe"
      ],
      "execution_count": null,
      "outputs": []
    },
    {
      "cell_type": "code",
      "metadata": {
        "id": "cHu-k3-E0bSG"
      },
      "source": [
        "numeric_features = ['TIM3_RQ', 'TIGIT_RQ','LAG3_RQ','age_at_diagnosis','MRI_lesion_mass','Lymph_Cells','PMN_Cells','Cells']\n",
        "df_Livnat_all_patients = min_max_normalize_features(df_Livnat_all_patients, numeric_features)\n",
        "df_Livnat_all_patients"
      ],
      "execution_count": null,
      "outputs": []
    },
    {
      "cell_type": "code",
      "metadata": {
        "colab": {
          "base_uri": "https://localhost:8080/"
        },
        "id": "rKVo9F17mtwj",
        "outputId": "7579e921-43ed-4e73-e36a-58e354611524"
      },
      "source": [
        "df_Livnat_all_patients.columns"
      ],
      "execution_count": null,
      "outputs": [
        {
          "output_type": "execute_result",
          "data": {
            "text/plain": [
              "Index(['sample_code', 'TIM3_RQ', 'TIGIT_RQ', 'LAG3_RQ', 'age_at_diagnosis',\n",
              "       'primary_EDSS_at_diagnosis', '1_years_EDSS_from_sample_date',\n",
              "       '5_years_from_sample', 'EDSS_post_10_years', 'MRI_lesion_mass',\n",
              "       'Lymph_Cells', 'PMN_Cells', 'Cells', 'gender_M', 'oligoclonal_band_POS',\n",
              "       'diagnosis_SPMS'],\n",
              "      dtype='object')"
            ]
          },
          "metadata": {
            "tags": []
          },
          "execution_count": 15
        }
      ]
    },
    {
      "cell_type": "markdown",
      "metadata": {
        "id": "UcVA3fddPSiT"
      },
      "source": [
        "all features"
      ]
    },
    {
      "cell_type": "code",
      "metadata": {
        "id": "zG9Xi9LrPSiU",
        "colab": {
          "base_uri": "https://localhost:8080/"
        },
        "outputId": "28733303-12d7-4fae-a88e-da5f1eae131c"
      },
      "source": [
        "from sklearn.metrics import confusion_matrix\n",
        "\n",
        "logisticRegrDF = LogisticRegression(max_iter = 4000,random_state=const_seed)\n",
        "predictor_var1 = ['TIM3_RQ', 'TIGIT_RQ', 'LAG3_RQ','age_at_diagnosis', 'primary_EDSS_at_diagnosis', 'MRI_lesion_mass','Lymph_Cells','PMN_Cells','Cells','gender_M','oligoclonal_band_POS']\n",
        "outcome_var = 'diagnosis_SPMS'\n",
        "tn, fp, fn, tp = calcCrossValidation_Matrix(logisticRegrDF, df_Livnat_all_patients, predictor_var1, outcome_var)\n",
        "print(calc_specificity(tn, fp, fn, tp))\n",
        "print(calc_sensitivity(tn, fp, fn, tp))\n",
        "randomForestRegr = RandomForestRegressor(n_estimators = 10, random_state = 42)\n",
        "predictor_rmse = ['TIM3_RQ', 'TIGIT_RQ', 'LAG3_RQ','age_at_diagnosis', 'primary_EDSS_at_diagnosis', 'MRI_lesion_mass','Lymph_Cells','PMN_Cells','Cells','gender_M']\n",
        "outcome_rmse = 'EDSS_post_10_years'\n",
        "rmse = calcCrossValidation_RMSE(randomForestRegr, df_Livnat_all_patients, predictor_rmse, outcome_rmse)\n",
        "print(rmse)\n"
      ],
      "execution_count": null,
      "outputs": [
        {
          "output_type": "stream",
          "text": [
            "0.8863636363636364\n",
            "0.6041666666666666\n",
            "1.6957720588235292\n"
          ],
          "name": "stdout"
        }
      ]
    },
    {
      "cell_type": "code",
      "metadata": {
        "id": "NqIrBUvBPSiW",
        "colab": {
          "base_uri": "https://localhost:8080/",
          "height": 536
        },
        "outputId": "ad6530f1-3b9f-4441-950d-cb46939344d9"
      },
      "source": [
        "from sklearn.metrics import confusion_matrix\n",
        "import numpy as np\n",
        "import matplotlib.pyplot as plt\n",
        "\n",
        "from sklearn.datasets import make_classification\n",
        "from sklearn.ensemble import ExtraTreesClassifier\n",
        "\n",
        "rf = RandomForestClassifier(n_estimators=25, min_samples_split=9, max_depth=15, max_features='auto',random_state=const_seed)\n",
        "predictor_var1 = ['TIM3_RQ', 'TIGIT_RQ', 'LAG3_RQ','age_at_diagnosis', 'primary_EDSS_at_diagnosis', 'MRI_lesion_mass','Lymph_Cells','PMN_Cells','Cells','gender_M','oligoclonal_band_POS']\n",
        "outcome_var = 'diagnosis_SPMS'\n",
        "tn, fp, fn, tp = calcCrossValidation_Matrix(rf, df_Livnat_all_patients, predictor_var1, outcome_var)\n",
        "print(calc_specificity(tn, fp, fn, tp))\n",
        "print(calc_sensitivity(tn, fp, fn, tp))\n",
        "randomForestRegr = RandomForestRegressor(n_estimators = 10, random_state = const_seed)\n",
        "predictor_rmse = ['TIM3_RQ', 'TIGIT_RQ', 'LAG3_RQ','age_at_diagnosis', 'primary_EDSS_at_diagnosis', 'MRI_lesion_mass','Lymph_Cells','PMN_Cells','Cells','gender_M']\n",
        "outcome_rmse = 'EDSS_post_10_years'\n",
        "rmse = calcCrossValidation_RMSE(randomForestRegr, df_Livnat_all_patients, predictor_rmse, outcome_rmse)\n",
        "print(rmse)\n",
        "importances = rf.feature_importances_\n",
        "std = np.std([tree.feature_importances_ for tree in rf.estimators_],\n",
        "             axis=0)\n",
        "indices = np.argsort(importances)[::-1]\n",
        "\n",
        "# Print the feature ranking\n",
        "print(\"Feature ranking:\")\n",
        "\n",
        "for f in range(len(predictor_var1)):\n",
        "    print(\"%d. feature %d %s (%f)\" % (f + 1, indices[f], predictor_var1[indices[f]], importances[indices[f]]))\n",
        "\n",
        "# Plot the impurity-based feature importances of the forest\n",
        "plt.figure()\n",
        "plt.title(\"Feature importances\")\n",
        "plt.bar(range(len(predictor_var1)), importances[indices],\n",
        "        color=\"r\", yerr=std[indices], align=\"center\")\n",
        "plt.xticks(range(len(predictor_var1)), indices)\n",
        "plt.xlim([-1, len(predictor_var1)])\n",
        "plt.show()"
      ],
      "execution_count": null,
      "outputs": [
        {
          "output_type": "stream",
          "text": [
            "0.8863636363636364\n",
            "0.5208333333333334\n",
            "1.6957720588235292\n",
            "Feature ranking:\n",
            "1. feature 4 primary_EDSS_at_diagnosis (0.311297)\n",
            "2. feature 3 age_at_diagnosis (0.163261)\n",
            "3. feature 0 TIM3_RQ (0.130927)\n",
            "4. feature 2 LAG3_RQ (0.095793)\n",
            "5. feature 1 TIGIT_RQ (0.091260)\n",
            "6. feature 5 MRI_lesion_mass (0.069530)\n",
            "7. feature 8 Cells (0.040425)\n",
            "8. feature 9 gender_M (0.030366)\n",
            "9. feature 7 PMN_Cells (0.026389)\n",
            "10. feature 6 Lymph_Cells (0.025912)\n",
            "11. feature 10 oligoclonal_band_POS (0.014840)\n"
          ],
          "name": "stdout"
        },
        {
          "output_type": "display_data",
          "data": {
            "image/png": "[encoded data removed]",
            "text/plain": [
              "<Figure size 432x288 with 1 Axes>"
            ]
          },
          "metadata": {
            "tags": [],
            "needs_background": "light"
          }
        }
      ]
    },
    {
      "cell_type": "code",
      "metadata": {
        "id": "KOvJFSYGe2wZ"
      },
      "source": [
        ""
      ],
      "execution_count": null,
      "outputs": []
    },
    {
      "cell_type": "markdown",
      "metadata": {
        "id": "NQWmaboXe3BL"
      },
      "source": [
        "** new ** NO - TIGIT, LAg3, PD-1, Cells in CSF"
      ]
    },
    {
      "cell_type": "code",
      "metadata": {
        "id": "zGUPz8aKe3BM",
        "colab": {
          "base_uri": "https://localhost:8080/"
        },
        "outputId": "850e9bb0-39d0-41fb-8273-6096beb57118"
      },
      "source": [
        "rf = RandomForestClassifier(n_estimators=25, min_samples_split=9, max_depth=15, max_features='auto',random_state=const_seed)\n",
        "predictor_var = ['TIM3_RQ','age_at_diagnosis', 'primary_EDSS_at_diagnosis', 'MRI_lesion_mass','gender_M','oligoclonal_band_POS']\n",
        "outcome_var = 'diagnosis_SPMS'\n",
        "\n",
        "\n",
        "tn, fp, fn, tp = calcCrossValidation_Matrix(rf, df_Livnat_all_patients, predictor_var, outcome_var)\n",
        "print(calc_specificity(tn, fp, fn, tp))\n",
        "print(calc_sensitivity(tn, fp, fn, tp))\n",
        "randomForestRegr = RandomForestRegressor(n_estimators = 10, random_state = const_seed)\n",
        "predictor_rmse = ['TIM3_RQ', 'TIGIT_RQ', 'LAG3_RQ','age_at_diagnosis', 'primary_EDSS_at_diagnosis', 'MRI_lesion_mass','Lymph_Cells','PMN_Cells','Cells','gender_M']\n",
        "outcome_rmse = 'EDSS_post_10_years'\n",
        "rmse = calcCrossValidation_RMSE(randomForestRegr, df_Livnat_all_patients, predictor_rmse, outcome_rmse)\n",
        "print(rmse)\n",
        "importances = rf.feature_importances_\n",
        "importances\n",
        "\n"
      ],
      "execution_count": null,
      "outputs": [
        {
          "output_type": "stream",
          "text": [
            "0.8636363636363636\n",
            "0.6458333333333334\n",
            "1.6957720588235292\n"
          ],
          "name": "stdout"
        },
        {
          "output_type": "execute_result",
          "data": {
            "text/plain": [
              "array([0.2078667 , 0.19929823, 0.39132735, 0.16576037, 0.02571008,\n",
              "       0.01003727])"
            ]
          },
          "metadata": {
            "tags": []
          },
          "execution_count": 17
        }
      ]
    },
    {
      "cell_type": "code",
      "metadata": {
        "id": "2EIidRxXe3BN",
        "colab": {
          "base_uri": "https://localhost:8080/"
        },
        "outputId": "53017c88-c171-4688-8ee2-9a420c287d54"
      },
      "source": [
        "\n",
        "logisticRegrDF = LogisticRegression(max_iter = 4000,random_state=const_seed)\n",
        "tn, fp, fn, tp = calcCrossValidation_Matrix(logisticRegrDF, df_Livnat_all_patients, predictor_var, outcome_var)\n",
        "print(calc_specificity(tn, fp, fn, tp))\n",
        "print(calc_sensitivity(tn, fp, fn, tp))\n",
        "\n",
        "\n",
        "coefficients = pd.concat([pd.DataFrame(predictor_var), pd.DataFrame(np.transpose(logisticRegrDF.coef_))], axis=1)\n",
        "coefficients.columns = ['feature_name', 'coefficient_val']\n",
        "coefficients = coefficients.sort_values(by=['coefficient_val'], ascending=False)\n",
        "coefficients.to_excel('coef_no_abs.xlsx')\n",
        "coefficients['coefficient_val'] = coefficients['coefficient_val'].abs()\n",
        "\n",
        "coefficients = coefficients.sort_values(by=['coefficient_val'], ascending=False)\n",
        "coefficients.to_excel('coef_abs.xlsx')\n",
        "\n",
        "print(coefficients)"
      ],
      "execution_count": null,
      "outputs": [
        {
          "output_type": "stream",
          "text": [
            "0.8863636363636364\n",
            "0.6041666666666666\n",
            "                feature_name  coefficient_val\n",
            "0                    TIM3_RQ         1.499312\n",
            "2  primary_EDSS_at_diagnosis         1.021601\n",
            "4                   gender_M         0.716591\n",
            "3            MRI_lesion_mass         0.444095\n",
            "1           age_at_diagnosis         0.438176\n",
            "5       oligoclonal_band_POS         0.303153\n"
          ],
          "name": "stdout"
        }
      ]
    },
    {
      "cell_type": "markdown",
      "metadata": {
        "id": "UlIpSNoVe3BN"
      },
      "source": [
        "** new ** top 7 combination"
      ]
    },
    {
      "cell_type": "code",
      "metadata": {
        "id": "FS1iksIse3BN"
      },
      "source": [
        "predictor_var = ['PMN_Cells', 'TIM3_RQ','age_at_diagnosis', 'primary_EDSS_at_diagnosis', 'MRI_lesion_mass','gender_M','oligoclonal_band_POS']\n",
        "outcome_var = 'diagnosis_SPMS'"
      ],
      "execution_count": null,
      "outputs": []
    },
    {
      "cell_type": "code",
      "metadata": {
        "id": "l9znMxUUe3BO",
        "colab": {
          "base_uri": "https://localhost:8080/"
        },
        "outputId": "bea26d00-aa12-4d79-c29d-ac6f1a9a0a3a"
      },
      "source": [
        "rf = RandomForestClassifier(n_estimators=25, min_samples_split=9, max_depth=15, max_features='auto',random_state=const_seed)\n",
        "\n",
        "tn, fp, fn, tp = calcCrossValidation_Matrix(rf, df_Livnat_all_patients, predictor_var, outcome_var)\n",
        "print(calc_specificity(tn, fp, fn, tp))\n",
        "print(calc_sensitivity(tn, fp, fn, tp))\n",
        "randomForestRegr = RandomForestRegressor(n_estimators = 10, random_state = const_seed)\n",
        "predictor_rmse = ['TIM3_RQ', 'TIGIT_RQ', 'LAG3_RQ','age_at_diagnosis', 'primary_EDSS_at_diagnosis', 'MRI_lesion_mass','Lymph_Cells','PMN_Cells','Cells','gender_M']\n",
        "outcome_rmse = 'EDSS_post_10_years'\n",
        "rmse = calcCrossValidation_RMSE(randomForestRegr, df_Livnat_all_patients, predictor_rmse, outcome_rmse)\n",
        "print(rmse)\n",
        "importances = rf.feature_importances_\n",
        "importances\n",
        "\n"
      ],
      "execution_count": null,
      "outputs": [
        {
          "output_type": "stream",
          "text": [
            "0.875\n",
            "0.625\n",
            "1.6957720588235292\n"
          ],
          "name": "stdout"
        },
        {
          "output_type": "execute_result",
          "data": {
            "text/plain": [
              "array([0.02887817, 0.19919548, 0.19892274, 0.33721771, 0.16564764,\n",
              "       0.04140064, 0.02873762])"
            ]
          },
          "metadata": {
            "tags": []
          },
          "execution_count": 20
        }
      ]
    },
    {
      "cell_type": "code",
      "metadata": {
        "id": "H8cPVIQ2e3BO",
        "colab": {
          "base_uri": "https://localhost:8080/"
        },
        "outputId": "6deae394-74ca-45c0-ec8b-53838dac1f28"
      },
      "source": [
        "\n",
        "logisticRegrDF = LogisticRegression(max_iter = 4000,random_state=const_seed)\n",
        "tn, fp, fn, tp = calcCrossValidation_Matrix(logisticRegrDF, df_Livnat_all_patients, predictor_var, outcome_var)\n",
        "print(calc_specificity(tn, fp, fn, tp))\n",
        "print(calc_sensitivity(tn, fp, fn, tp))\n",
        "\n",
        "\n",
        "coefficients = pd.concat([pd.DataFrame(predictor_var), pd.DataFrame(np.transpose(logisticRegrDF.coef_))], axis=1)\n",
        "coefficients.columns = ['feature_name', 'coefficient_val']\n",
        "coefficients = coefficients.sort_values(by=['coefficient_val'], ascending=False)\n",
        "coefficients.to_excel('coef_no_abs.xlsx')\n",
        "coefficients['coefficient_val'] = coefficients['coefficient_val'].abs()\n",
        "\n",
        "coefficients = coefficients.sort_values(by=['coefficient_val'], ascending=False)\n",
        "coefficients.to_excel('coef_abs.xlsx')\n",
        "\n",
        "print(coefficients)\n"
      ],
      "execution_count": null,
      "outputs": [
        {
          "output_type": "stream",
          "text": [
            "0.8863636363636364\n",
            "0.6041666666666666\n",
            "                feature_name  coefficient_val\n",
            "1                    TIM3_RQ         1.512744\n",
            "3  primary_EDSS_at_diagnosis         1.019000\n",
            "5                   gender_M         0.719280\n",
            "0                  PMN_Cells         0.523106\n",
            "4            MRI_lesion_mass         0.451435\n",
            "2           age_at_diagnosis         0.437985\n",
            "6       oligoclonal_band_POS         0.298670\n"
          ],
          "name": "stdout"
        }
      ]
    },
    {
      "cell_type": "markdown",
      "metadata": {
        "id": "MEzrrhg_PSiX"
      },
      "source": [
        "no genes"
      ]
    },
    {
      "cell_type": "code",
      "metadata": {
        "id": "NH8DjIFZPSiX",
        "colab": {
          "base_uri": "https://localhost:8080/"
        },
        "outputId": "91968967-625a-49de-f4b6-ca080efefd2d"
      },
      "source": [
        "from sklearn.metrics import confusion_matrix\n",
        "\n",
        "logisticRegrDF = LogisticRegression(max_iter = 4000,random_state=const_seed)\n",
        "predictor_var1 = ['age_at_diagnosis', 'primary_EDSS_at_diagnosis', 'Lymph_Cells','PMN_Cells','Cells','gender_M','oligoclonal_band_POS']\n",
        "outcome_var = 'diagnosis_SPMS'\n",
        "tn, fp, fn, tp = calcCrossValidation_Matrix(logisticRegrDF, df_Livnat_all_patients, predictor_var1, outcome_var)\n",
        "print(calc_specificity(tn, fp, fn, tp))\n",
        "print(calc_sensitivity(tn, fp, fn, tp))\n",
        "randomForestRegr = RandomForestRegressor(n_estimators = 10, random_state = const_seed)\n",
        "predictor_rmse = ['age_at_diagnosis', 'primary_EDSS_at_diagnosis', 'Lymph_Cells','PMN_Cells','Cells','gender_M','oligoclonal_band_POS']\n",
        "outcome_rmse = 'EDSS_post_10_years'\n",
        "rmse = calcCrossValidation_RMSE(randomForestRegr, df_Livnat_all_patients, predictor_rmse, outcome_rmse)\n",
        "print(rmse)"
      ],
      "execution_count": null,
      "outputs": [
        {
          "output_type": "stream",
          "text": [
            "0.875\n",
            "0.6041666666666666\n",
            "1.6480147058823533\n"
          ],
          "name": "stdout"
        }
      ]
    },
    {
      "cell_type": "code",
      "metadata": {
        "id": "RXjZvn-UPSiY",
        "colab": {
          "base_uri": "https://localhost:8080/"
        },
        "outputId": "dffb537e-501d-4145-ce78-815907b723d2"
      },
      "source": [
        "from sklearn.metrics import confusion_matrix\n",
        "\n",
        "rf = RandomForestClassifier(n_estimators=25, min_samples_split=9, max_depth=15, max_features='auto',random_state=const_seed)\n",
        "predictor_var1 = ['age_at_diagnosis', 'primary_EDSS_at_diagnosis', 'Lymph_Cells','PMN_Cells','Cells','gender_M','oligoclonal_band_POS']\n",
        "outcome_var = 'diagnosis_SPMS'\n",
        "tn, fp, fn, tp = calcCrossValidation_Matrix(rf, df_Livnat_all_patients, predictor_var1, outcome_var)\n",
        "print(calc_specificity(tn, fp, fn, tp))\n",
        "print(calc_sensitivity(tn, fp, fn, tp))\n",
        "randomForestRegr = RandomForestRegressor(n_estimators = 10, random_state = const_seed)\n",
        "predictor_rmse = ['age_at_diagnosis', 'primary_EDSS_at_diagnosis', 'Lymph_Cells','PMN_Cells','Cells','gender_M','oligoclonal_band_POS']\n",
        "outcome_rmse = 'EDSS_post_10_years'\n",
        "rmse = calcCrossValidation_RMSE(randomForestRegr, df_Livnat_all_patients, predictor_rmse, outcome_rmse)\n",
        "print(rmse)"
      ],
      "execution_count": null,
      "outputs": [
        {
          "output_type": "stream",
          "text": [
            "0.8181818181818182\n",
            "0.6041666666666666\n",
            "1.6480147058823533\n"
          ],
          "name": "stdout"
        }
      ]
    },
    {
      "cell_type": "markdown",
      "metadata": {
        "id": "CilHoogVPSiY"
      },
      "source": [
        "no TIM3"
      ]
    },
    {
      "cell_type": "code",
      "metadata": {
        "id": "2g3EWo60PSiZ",
        "colab": {
          "base_uri": "https://localhost:8080/"
        },
        "outputId": "0ef7ed8a-a0d7-445c-8e08-ec50351521cf"
      },
      "source": [
        "from sklearn.metrics import confusion_matrix\n",
        "\n",
        "logisticRegrDF = LogisticRegression(max_iter = 4000,random_state=const_seed)\n",
        "predictor_var1 = ['TIGIT_RQ', 'LAG3_RQ','age_at_diagnosis', 'primary_EDSS_at_diagnosis', 'MRI_lesion_mass','Lymph_Cells','PMN_Cells','Cells','gender_M','oligoclonal_band_POS']\n",
        "outcome_var = 'diagnosis_SPMS'\n",
        "tn, fp, fn, tp = calcCrossValidation_Matrix(logisticRegrDF, df_Livnat_all_patients, predictor_var1, outcome_var)\n",
        "print(calc_specificity(tn, fp, fn, tp))\n",
        "print(calc_sensitivity(tn, fp, fn, tp))\n",
        "randomForestRegr = RandomForestRegressor(n_estimators = 10, random_state = const_seed)\n",
        "predictor_rmse = ['TIM3_RQ', 'TIGIT_RQ', 'LAG3_RQ','age_at_diagnosis', 'primary_EDSS_at_diagnosis', 'MRI_lesion_mass','Lymph_Cells','PMN_Cells','Cells','gender_M']\n",
        "outcome_rmse = 'EDSS_post_10_years'\n",
        "rmse = calcCrossValidation_RMSE(randomForestRegr, df_Livnat_all_patients, predictor_rmse, outcome_rmse)\n",
        "print(rmse)\n"
      ],
      "execution_count": null,
      "outputs": [
        {
          "output_type": "stream",
          "text": [
            "0.875\n",
            "0.6041666666666666\n",
            "1.6957720588235292\n"
          ],
          "name": "stdout"
        }
      ]
    },
    {
      "cell_type": "code",
      "metadata": {
        "id": "vESEKiWvPSiZ",
        "colab": {
          "base_uri": "https://localhost:8080/"
        },
        "outputId": "0178650c-f215-4be6-b171-e82d3fa50289"
      },
      "source": [
        "from sklearn.metrics import confusion_matrix\n",
        "\n",
        "rf = RandomForestClassifier(n_estimators=25, min_samples_split=9, max_depth=15, max_features='auto',random_state=const_seed)\n",
        "predictor_var1 = ['TIGIT_RQ', 'LAG3_RQ','age_at_diagnosis', 'primary_EDSS_at_diagnosis', 'MRI_lesion_mass','Lymph_Cells','PMN_Cells','Cells','gender_M','oligoclonal_band_POS']\n",
        "outcome_var = 'diagnosis_SPMS'\n",
        "tn, fp, fn, tp = calcCrossValidation_Matrix(rf, df_Livnat_all_patients, predictor_var1, outcome_var)\n",
        "print(calc_specificity(tn, fp, fn, tp))\n",
        "print(calc_sensitivity(tn, fp, fn, tp))\n",
        "randomForestRegr = RandomForestRegressor(n_estimators = 10, random_state = const_seed)\n",
        "predictor_rmse = ['TIM3_RQ', 'TIGIT_RQ', 'LAG3_RQ','age_at_diagnosis', 'primary_EDSS_at_diagnosis', 'MRI_lesion_mass','Lymph_Cells','PMN_Cells','Cells','gender_M']\n",
        "outcome_rmse = 'EDSS_post_10_years'\n",
        "rmse = calcCrossValidation_RMSE(randomForestRegr, df_Livnat_all_patients, predictor_rmse, outcome_rmse)\n",
        "print(rmse)"
      ],
      "execution_count": null,
      "outputs": [
        {
          "output_type": "stream",
          "text": [
            "0.9090909090909091\n",
            "0.4583333333333333\n",
            "1.6957720588235292\n"
          ],
          "name": "stdout"
        }
      ]
    },
    {
      "cell_type": "markdown",
      "metadata": {
        "id": "GHsCMqsAPSia"
      },
      "source": [
        "no TIGIT_RQ"
      ]
    },
    {
      "cell_type": "code",
      "metadata": {
        "id": "qbfUFhK_PSia",
        "colab": {
          "base_uri": "https://localhost:8080/"
        },
        "outputId": "9f5ff72f-2f87-46e5-cece-b24207ffe49a"
      },
      "source": [
        "from sklearn.metrics import confusion_matrix\n",
        "\n",
        "logisticRegrDF = LogisticRegression(max_iter = 4000,random_state=const_seed)\n",
        "predictor_var1 = ['TIM3_RQ', 'LAG3_RQ','age_at_diagnosis', 'primary_EDSS_at_diagnosis', 'MRI_lesion_mass','Lymph_Cells','PMN_Cells','Cells','gender_M','oligoclonal_band_POS']\n",
        "outcome_var = 'diagnosis_SPMS'\n",
        "tn, fp, fn, tp = calcCrossValidation_Matrix(logisticRegrDF, df_Livnat_all_patients, predictor_var1, outcome_var)\n",
        "print(calc_specificity(tn, fp, fn, tp))\n",
        "print(calc_sensitivity(tn, fp, fn, tp))\n",
        "randomForestRegr = RandomForestRegressor(n_estimators = 10, random_state = const_seed)\n",
        "predictor_rmse = ['TIM3_RQ', 'TIGIT_RQ', 'LAG3_RQ','age_at_diagnosis', 'primary_EDSS_at_diagnosis', 'MRI_lesion_mass','Lymph_Cells','PMN_Cells','Cells','gender_M']\n",
        "outcome_rmse = 'EDSS_post_10_years'\n",
        "rmse = calcCrossValidation_RMSE(randomForestRegr, df_Livnat_all_patients, predictor_rmse, outcome_rmse)\n",
        "print(rmse)"
      ],
      "execution_count": null,
      "outputs": [
        {
          "output_type": "stream",
          "text": [
            "0.8863636363636364\n",
            "0.6041666666666666\n",
            "1.6957720588235292\n"
          ],
          "name": "stdout"
        }
      ]
    },
    {
      "cell_type": "code",
      "metadata": {
        "id": "GKbVJiaTPSia",
        "colab": {
          "base_uri": "https://localhost:8080/"
        },
        "outputId": "1613ee09-6fe8-48c6-f105-d7f79f563920"
      },
      "source": [
        "from sklearn.metrics import confusion_matrix\n",
        "\n",
        "rf = RandomForestClassifier(n_estimators=25, min_samples_split=9, max_depth=15, max_features='auto',random_state=const_seed)\n",
        "predictor_var1 = ['TIM3_RQ', 'LAG3_RQ','age_at_diagnosis', 'primary_EDSS_at_diagnosis', 'MRI_lesion_mass','Lymph_Cells','PMN_Cells','Cells','gender_M','oligoclonal_band_POS']\n",
        "outcome_var = 'diagnosis_SPMS'\n",
        "tn, fp, fn, tp = calcCrossValidation_Matrix(rf, df_Livnat_all_patients, predictor_var1, outcome_var)\n",
        "print(calc_specificity(tn, fp, fn, tp))\n",
        "print(calc_sensitivity(tn, fp, fn, tp))\n",
        "randomForestRegr = RandomForestRegressor(n_estimators = 10, random_state = const_seed)\n",
        "predictor_rmse = ['TIM3_RQ', 'TIGIT_RQ', 'LAG3_RQ','age_at_diagnosis', 'primary_EDSS_at_diagnosis', 'MRI_lesion_mass','Lymph_Cells','PMN_Cells','Cells','gender_M']\n",
        "outcome_rmse = 'EDSS_post_10_years'\n",
        "rmse = calcCrossValidation_RMSE(randomForestRegr, df_Livnat_all_patients, predictor_rmse, outcome_rmse)\n",
        "print(rmse)"
      ],
      "execution_count": null,
      "outputs": [
        {
          "output_type": "stream",
          "text": [
            "0.8977272727272727\n",
            "0.5416666666666666\n",
            "1.6957720588235292\n"
          ],
          "name": "stdout"
        }
      ]
    },
    {
      "cell_type": "markdown",
      "metadata": {
        "id": "T9yj2fp8PSib"
      },
      "source": [
        "no LAG3"
      ]
    },
    {
      "cell_type": "code",
      "metadata": {
        "id": "lN8Ppik5PSib",
        "colab": {
          "base_uri": "https://localhost:8080/"
        },
        "outputId": "ec76c57d-6532-4b2d-e588-b3fed2967dfe"
      },
      "source": [
        "from sklearn.metrics import confusion_matrix\n",
        "\n",
        "logisticRegrDF = LogisticRegression(max_iter = 4000,random_state=const_seed)\n",
        "predictor_var1 = ['TIM3_RQ', 'TIGIT_RQ', 'age_at_diagnosis', 'primary_EDSS_at_diagnosis', 'MRI_lesion_mass','Lymph_Cells','PMN_Cells','Cells','gender_M','oligoclonal_band_POS']\n",
        "outcome_var = 'diagnosis_SPMS'\n",
        "tn, fp, fn, tp = calcCrossValidation_Matrix(logisticRegrDF, df_Livnat_all_patients, predictor_var1, outcome_var)\n",
        "print(calc_specificity(tn, fp, fn, tp))\n",
        "print(calc_sensitivity(tn, fp, fn, tp))\n",
        "randomForestRegr = RandomForestRegressor(n_estimators = 10, random_state = const_seed)\n",
        "predictor_rmse = ['TIM3_RQ', 'TIGIT_RQ', 'LAG3_RQ','age_at_diagnosis', 'primary_EDSS_at_diagnosis', 'MRI_lesion_mass','Lymph_Cells','PMN_Cells','Cells','gender_M']\n",
        "outcome_rmse = 'EDSS_post_10_years'\n",
        "rmse = calcCrossValidation_RMSE(randomForestRegr, df_Livnat_all_patients, predictor_rmse, outcome_rmse)\n",
        "print(rmse)"
      ],
      "execution_count": null,
      "outputs": [
        {
          "output_type": "stream",
          "text": [
            "0.8863636363636364\n",
            "0.6041666666666666\n",
            "1.6957720588235292\n"
          ],
          "name": "stdout"
        }
      ]
    },
    {
      "cell_type": "code",
      "metadata": {
        "id": "FdYOqs3HPSib",
        "colab": {
          "base_uri": "https://localhost:8080/"
        },
        "outputId": "42922b30-93d6-4a22-ce37-8426e70e5c2f"
      },
      "source": [
        "from sklearn.metrics import confusion_matrix\n",
        "\n",
        "rf = RandomForestClassifier(n_estimators=25, min_samples_split=9, max_depth=15, max_features='auto',random_state=const_seed)\n",
        "predictor_var1 = ['TIM3_RQ', 'TIGIT_RQ','age_at_diagnosis', 'primary_EDSS_at_diagnosis', 'MRI_lesion_mass','Lymph_Cells','PMN_Cells','Cells','gender_M','oligoclonal_band_POS']\n",
        "outcome_var = 'diagnosis_SPMS'\n",
        "tn, fp, fn, tp = calcCrossValidation_Matrix(rf, df_Livnat_all_patients, predictor_var1, outcome_var)\n",
        "print(calc_specificity(tn, fp, fn, tp))\n",
        "print(calc_sensitivity(tn, fp, fn, tp))\n",
        "randomForestRegr = RandomForestRegressor(n_estimators = 10, random_state = const_seed)\n",
        "predictor_rmse = ['TIM3_RQ', 'TIGIT_RQ', 'LAG3_RQ','age_at_diagnosis', 'primary_EDSS_at_diagnosis', 'MRI_lesion_mass','Lymph_Cells','PMN_Cells','Cells','gender_M']\n",
        "outcome_rmse = 'EDSS_post_10_years'\n",
        "rmse = calcCrossValidation_RMSE(randomForestRegr, df_Livnat_all_patients, predictor_rmse, outcome_rmse)\n",
        "print(rmse)"
      ],
      "execution_count": null,
      "outputs": [
        {
          "output_type": "stream",
          "text": [
            "0.8977272727272727\n",
            "0.5625\n",
            "1.6957720588235292\n"
          ],
          "name": "stdout"
        }
      ]
    },
    {
      "cell_type": "markdown",
      "metadata": {
        "id": "LfeGsECJTHMf"
      },
      "source": [
        "no TIM3 and LAG3"
      ]
    },
    {
      "cell_type": "code",
      "metadata": {
        "id": "6mETYVhaTHMg",
        "colab": {
          "base_uri": "https://localhost:8080/"
        },
        "outputId": "31a8d3c7-1351-46d9-ecbe-413336435968"
      },
      "source": [
        "from sklearn.metrics import confusion_matrix\n",
        "\n",
        "logisticRegrDF = LogisticRegression(max_iter = 4000,random_state=const_seed)\n",
        "predictor_var1 = ['TIGIT_RQ','age_at_diagnosis', 'primary_EDSS_at_diagnosis', 'MRI_lesion_mass','Lymph_Cells','PMN_Cells','Cells','gender_M','oligoclonal_band_POS']\n",
        "outcome_var = 'diagnosis_SPMS'\n",
        "tn, fp, fn, tp = calcCrossValidation_Matrix(logisticRegrDF, df_Livnat_all_patients, predictor_var1, outcome_var)\n",
        "print(calc_specificity(tn, fp, fn, tp))\n",
        "print(calc_sensitivity(tn, fp, fn, tp))\n",
        "randomForestRegr = RandomForestRegressor(n_estimators = 10, random_state = const_seed)\n",
        "predictor_rmse = ['TIM3_RQ', 'TIGIT_RQ', 'LAG3_RQ','age_at_diagnosis', 'primary_EDSS_at_diagnosis', 'MRI_lesion_mass','Lymph_Cells','PMN_Cells','Cells','gender_M']\n",
        "outcome_rmse = 'EDSS_post_10_years'\n",
        "rmse = calcCrossValidation_RMSE(randomForestRegr, df_Livnat_all_patients, predictor_rmse, outcome_rmse)\n",
        "print(rmse)\n"
      ],
      "execution_count": null,
      "outputs": [
        {
          "output_type": "stream",
          "text": [
            "0.875\n",
            "0.6041666666666666\n",
            "1.6957720588235292\n"
          ],
          "name": "stdout"
        }
      ]
    },
    {
      "cell_type": "code",
      "metadata": {
        "id": "80iSEae0THMh",
        "colab": {
          "base_uri": "https://localhost:8080/"
        },
        "outputId": "927585eb-0b5b-4bfd-bc44-0d384df63aff"
      },
      "source": [
        "from sklearn.metrics import confusion_matrix\n",
        "\n",
        "rf = RandomForestClassifier(n_estimators=25, min_samples_split=9, max_depth=15, max_features='auto',random_state=const_seed)\n",
        "predictor_var1 = ['TIGIT_RQ','age_at_diagnosis', 'primary_EDSS_at_diagnosis', 'MRI_lesion_mass','Lymph_Cells','PMN_Cells','Cells','gender_M','oligoclonal_band_POS']\n",
        "outcome_var = 'diagnosis_SPMS'\n",
        "tn, fp, fn, tp = calcCrossValidation_Matrix(rf, df_Livnat_all_patients, predictor_var1, outcome_var)\n",
        "print(calc_specificity(tn, fp, fn, tp))\n",
        "print(calc_sensitivity(tn, fp, fn, tp))\n",
        "randomForestRegr = RandomForestRegressor(n_estimators = 10, random_state = const_seed)\n",
        "predictor_rmse = ['TIM3_RQ', 'TIGIT_RQ', 'LAG3_RQ','age_at_diagnosis', 'primary_EDSS_at_diagnosis', 'MRI_lesion_mass','Lymph_Cells','PMN_Cells','Cells','gender_M']\n",
        "outcome_rmse = 'EDSS_post_10_years'\n",
        "rmse = calcCrossValidation_RMSE(randomForestRegr, df_Livnat_all_patients, predictor_rmse, outcome_rmse)\n",
        "print(rmse)"
      ],
      "execution_count": null,
      "outputs": [
        {
          "output_type": "stream",
          "text": [
            "0.8522727272727273\n",
            "0.5208333333333334\n",
            "1.6957720588235292\n"
          ],
          "name": "stdout"
        }
      ]
    },
    {
      "cell_type": "markdown",
      "metadata": {
        "id": "no4wLpWfTHMi"
      },
      "source": [
        "no TIM3 and TIGIT"
      ]
    },
    {
      "cell_type": "code",
      "metadata": {
        "id": "lhEf96WYTHMk",
        "colab": {
          "base_uri": "https://localhost:8080/"
        },
        "outputId": "cfd2e857-d4d2-468e-effc-d84d7d24b7ec"
      },
      "source": [
        "from sklearn.metrics import confusion_matrix\n",
        "\n",
        "logisticRegrDF = LogisticRegression(max_iter = 4000,random_state=const_seed)\n",
        "predictor_var1 = ['LAG3_RQ','age_at_diagnosis', 'primary_EDSS_at_diagnosis', 'MRI_lesion_mass','Lymph_Cells','PMN_Cells','Cells','gender_M','oligoclonal_band_POS']\n",
        "outcome_var = 'diagnosis_SPMS'\n",
        "tn, fp, fn, tp = calcCrossValidation_Matrix(logisticRegrDF, df_Livnat_all_patients, predictor_var1, outcome_var)\n",
        "print(calc_specificity(tn, fp, fn, tp))\n",
        "print(calc_sensitivity(tn, fp, fn, tp))\n",
        "randomForestRegr = RandomForestRegressor(n_estimators = 10, random_state = const_seed)\n",
        "predictor_rmse = ['TIM3_RQ', 'TIGIT_RQ', 'LAG3_RQ','age_at_diagnosis', 'primary_EDSS_at_diagnosis', 'MRI_lesion_mass','Lymph_Cells','PMN_Cells','Cells','gender_M']\n",
        "outcome_rmse = 'EDSS_post_10_years'\n",
        "rmse = calcCrossValidation_RMSE(randomForestRegr, df_Livnat_all_patients, predictor_rmse, outcome_rmse)\n",
        "print(rmse)\n"
      ],
      "execution_count": null,
      "outputs": [
        {
          "output_type": "stream",
          "text": [
            "0.875\n",
            "0.6041666666666666\n",
            "1.6957720588235292\n"
          ],
          "name": "stdout"
        }
      ]
    },
    {
      "cell_type": "code",
      "metadata": {
        "id": "s8kGlYTwTHMk",
        "colab": {
          "base_uri": "https://localhost:8080/"
        },
        "outputId": "8e005f56-e349-4bcd-9552-d1a03c870d00"
      },
      "source": [
        "from sklearn.metrics import confusion_matrix\n",
        "\n",
        "rf = RandomForestClassifier(n_estimators=25, min_samples_split=9, max_depth=15, max_features='auto',random_state=const_seed)\n",
        "predictor_var1 = ['LAG3_RQ','age_at_diagnosis', 'primary_EDSS_at_diagnosis', 'MRI_lesion_mass','Lymph_Cells','PMN_Cells','Cells','gender_M','oligoclonal_band_POS']\n",
        "outcome_var = 'diagnosis_SPMS'\n",
        "tn, fp, fn, tp = calcCrossValidation_Matrix(rf, df_Livnat_all_patients, predictor_var1, outcome_var)\n",
        "print(calc_specificity(tn, fp, fn, tp))\n",
        "print(calc_sensitivity(tn, fp, fn, tp))\n",
        "randomForestRegr = RandomForestRegressor(n_estimators = 10, random_state = const_seed)\n",
        "predictor_rmse = ['TIM3_RQ', 'TIGIT_RQ', 'LAG3_RQ','age_at_diagnosis', 'primary_EDSS_at_diagnosis', 'MRI_lesion_mass','Lymph_Cells','PMN_Cells','Cells','gender_M']\n",
        "outcome_rmse = 'EDSS_post_10_years'\n",
        "rmse = calcCrossValidation_RMSE(randomForestRegr, df_Livnat_all_patients, predictor_rmse, outcome_rmse)\n",
        "print(rmse)"
      ],
      "execution_count": null,
      "outputs": [
        {
          "output_type": "stream",
          "text": [
            "0.875\n",
            "0.5833333333333334\n",
            "1.6957720588235292\n"
          ],
          "name": "stdout"
        }
      ]
    },
    {
      "cell_type": "markdown",
      "metadata": {
        "id": "AhJJCaEQTHMl"
      },
      "source": [
        "no LAG3 and TIGIT"
      ]
    },
    {
      "cell_type": "code",
      "metadata": {
        "id": "fQBl-rzDTHMl",
        "colab": {
          "base_uri": "https://localhost:8080/"
        },
        "outputId": "288fa88b-6ec0-4f97-c936-e61c1429f402"
      },
      "source": [
        "from sklearn.metrics import confusion_matrix\n",
        "\n",
        "logisticRegrDF = LogisticRegression(max_iter = 4000,random_state=const_seed)\n",
        "predictor_var1 = ['TIM3_RQ','age_at_diagnosis', 'primary_EDSS_at_diagnosis', 'MRI_lesion_mass','Lymph_Cells','PMN_Cells','Cells','gender_M','oligoclonal_band_POS']\n",
        "outcome_var = 'diagnosis_SPMS'\n",
        "tn, fp, fn, tp = calcCrossValidation_Matrix(logisticRegrDF, df_Livnat_all_patients, predictor_var1, outcome_var)\n",
        "print(calc_specificity(tn, fp, fn, tp))\n",
        "print(calc_sensitivity(tn, fp, fn, tp))\n",
        "randomForestRegr = RandomForestRegressor(n_estimators = 10, random_state = const_seed)\n",
        "predictor_rmse = ['TIM3_RQ','age_at_diagnosis', 'primary_EDSS_at_diagnosis', 'MRI_lesion_mass','Lymph_Cells','PMN_Cells','Cells','gender_M','oligoclonal_band_POS']\n",
        "outcome_rmse = 'EDSS_post_10_years'\n",
        "rmse = calcCrossValidation_RMSE(randomForestRegr, df_Livnat_all_patients, predictor_rmse, outcome_rmse)\n",
        "print(rmse)\n",
        "\n",
        "coefficients = pd.concat([pd.DataFrame(predictor_var1), pd.DataFrame(np.transpose(logisticRegrDF.coef_))], axis=1)\n",
        "coefficients.columns = ['feature_name', 'coefficient_val']\n",
        "coefficients = coefficients.sort_values(by=['coefficient_val'], ascending=False)\n",
        "coefficients.to_excel('coef_no_abs.xlsx')\n",
        "coefficients['coefficient_val'] = coefficients['coefficient_val'].abs()\n",
        "\n",
        "coefficients = coefficients.sort_values(by=['coefficient_val'], ascending=False)\n",
        "coefficients.to_excel('coef_abs.xlsx')\n",
        "\n",
        "print(coefficients)\n"
      ],
      "execution_count": null,
      "outputs": [
        {
          "output_type": "stream",
          "text": [
            "0.8863636363636364\n",
            "0.6041666666666666\n",
            "1.6079044117647068\n",
            "                feature_name  coefficient_val\n",
            "0                    TIM3_RQ         1.508446\n",
            "2  primary_EDSS_at_diagnosis         1.022407\n",
            "7                   gender_M         0.721636\n",
            "5                  PMN_Cells         0.520142\n",
            "3            MRI_lesion_mass         0.442186\n",
            "1           age_at_diagnosis         0.429728\n",
            "8       oligoclonal_band_POS         0.304237\n",
            "4                Lymph_Cells         0.271466\n",
            "6                      Cells         0.012763\n"
          ],
          "name": "stdout"
        }
      ]
    },
    {
      "cell_type": "code",
      "metadata": {
        "id": "Vb3QHX9UGvUs",
        "colab": {
          "base_uri": "https://localhost:8080/"
        },
        "outputId": "a1e6f8ff-cfef-4ddb-9220-387241797c51"
      },
      "source": [
        "df_Livnat_all_patients.shape"
      ],
      "execution_count": null,
      "outputs": [
        {
          "output_type": "execute_result",
          "data": {
            "text/plain": [
              "(136, 16)"
            ]
          },
          "metadata": {
            "tags": []
          },
          "execution_count": 35
        }
      ]
    },
    {
      "cell_type": "code",
      "metadata": {
        "id": "AApMPq68THMl",
        "colab": {
          "base_uri": "https://localhost:8080/"
        },
        "outputId": "467673e9-bda8-4a1d-c1ce-9683e79f3432"
      },
      "source": [
        "from sklearn.metrics import confusion_matrix\n",
        "\n",
        "rf = RandomForestClassifier(n_estimators=25, min_samples_split=9, max_depth=15, max_features='auto',random_state=const_seed)\n",
        "predictor_var1 = ['TIM3_RQ','age_at_diagnosis', 'primary_EDSS_at_diagnosis', 'MRI_lesion_mass','Lymph_Cells','PMN_Cells','Cells','gender_M','oligoclonal_band_POS']\n",
        "outcome_var = 'diagnosis_SPMS'\n",
        "tn, fp, fn, tp = calcCrossValidation_Matrix(rf, df_Livnat_all_patients, predictor_var1, outcome_var)\n",
        "print(calc_specificity(tn, fp, fn, tp))\n",
        "print(calc_sensitivity(tn, fp, fn, tp))\n",
        "randomForestRegr = RandomForestRegressor(n_estimators = 10, random_state = const_seed)\n",
        "predictor_rmse = ['TIM3_RQ', 'TIGIT_RQ', 'LAG3_RQ','age_at_diagnosis', 'primary_EDSS_at_diagnosis', 'MRI_lesion_mass','Lymph_Cells','PMN_Cells','Cells','gender_M']\n",
        "outcome_rmse = 'EDSS_post_10_years'\n",
        "rmse = calcCrossValidation_RMSE(randomForestRegr, df_Livnat_all_patients, predictor_rmse, outcome_rmse)\n",
        "print(rmse)\n",
        "importances = rf.feature_importances_\n",
        "print(importances)"
      ],
      "execution_count": null,
      "outputs": [
        {
          "output_type": "stream",
          "text": [
            "0.8522727272727273\n",
            "0.6666666666666666\n",
            "1.6957720588235292\n",
            "[0.15338166 0.20113011 0.40690177 0.12342405 0.01611953 0.01971165\n",
            " 0.03936391 0.02900499 0.01096233]\n"
          ],
          "name": "stdout"
        }
      ]
    },
    {
      "cell_type": "markdown",
      "metadata": {
        "id": "zOzCOWICPSib"
      },
      "source": [
        "no MRI"
      ]
    },
    {
      "cell_type": "code",
      "metadata": {
        "id": "AsVpfq4SPSic",
        "colab": {
          "base_uri": "https://localhost:8080/"
        },
        "outputId": "064ff0f2-e72d-4236-91a1-7073feeee5d8"
      },
      "source": [
        "from sklearn.metrics import confusion_matrix\n",
        "\n",
        "logisticRegrDF = LogisticRegression(max_iter = 4000,random_state=const_seed)\n",
        "predictor_var1 = ['TIM3_RQ', 'TIGIT_RQ', 'LAG3_RQ','age_at_diagnosis', 'primary_EDSS_at_diagnosis', 'Lymph_Cells','PMN_Cells','Cells','gender_M','oligoclonal_band_POS']\n",
        "outcome_var = 'diagnosis_SPMS' \n",
        "tn, fp, fn, tp = calcCrossValidation_Matrix(logisticRegrDF, df_Livnat_all_patients, predictor_var1, outcome_var)\n",
        "print(calc_specificity(tn, fp, fn, tp))\n",
        "print(calc_sensitivity(tn, fp, fn, tp))\n",
        "randomForestRegr = RandomForestRegressor(n_estimators = 10, random_state = const_seed)\n",
        "predictor_rmse = ['TIM3_RQ', 'TIGIT_RQ', 'LAG3_RQ','age_at_diagnosis', 'primary_EDSS_at_diagnosis', 'MRI_lesion_mass','Lymph_Cells','PMN_Cells','Cells','gender_M']\n",
        "outcome_rmse = 'EDSS_post_10_years'\n",
        "rmse = calcCrossValidation_RMSE(randomForestRegr, df_Livnat_all_patients, predictor_rmse, outcome_rmse)\n",
        "print(rmse)\n",
        "\n",
        "coefficients = pd.concat([pd.DataFrame(predictor_var1), pd.DataFrame(np.transpose(logisticRegrDF.coef_))], axis=1)\n",
        "coefficients.columns = ['feature_name', 'coefficient_val']\n",
        "coefficients = coefficients.sort_values(by=['coefficient_val'], ascending=False)\n",
        "coefficients.to_excel('coef_no_abs.xlsx')\n",
        "coefficients['coefficient_val'] = coefficients['coefficient_val'].abs()\n",
        "\n",
        "coefficients = coefficients.sort_values(by=['coefficient_val'], ascending=False)\n",
        "coefficients.to_excel('coef_abs.xlsx')\n",
        "\n",
        "print(coefficients)\n"
      ],
      "execution_count": null,
      "outputs": [
        {
          "output_type": "stream",
          "text": [
            "0.8863636363636364\n",
            "0.5833333333333334\n",
            "1.6957720588235292\n",
            "                feature_name  coefficient_val\n",
            "0                    TIM3_RQ         1.522068\n",
            "4  primary_EDSS_at_diagnosis         1.035526\n",
            "8                   gender_M         0.706492\n",
            "6                  PMN_Cells         0.514383\n",
            "3           age_at_diagnosis         0.414302\n",
            "9       oligoclonal_band_POS         0.324506\n",
            "5                Lymph_Cells         0.288836\n",
            "1                   TIGIT_RQ         0.192595\n",
            "2                    LAG3_RQ         0.173213\n",
            "7                      Cells         0.008175\n"
          ],
          "name": "stdout"
        }
      ]
    },
    {
      "cell_type": "code",
      "metadata": {
        "id": "eVBlXYWgPSic",
        "colab": {
          "base_uri": "https://localhost:8080/"
        },
        "outputId": "67f01fb8-f441-4b61-8474-f58776e64a6f"
      },
      "source": [
        "from sklearn.metrics import confusion_matrix\n",
        "\n",
        "rf = RandomForestClassifier(n_estimators=25, min_samples_split=9, max_depth=15, max_features='auto',random_state=const_seed)\n",
        "predictor_var1 = ['TIM3_RQ', 'TIGIT_RQ', 'LAG3_RQ','age_at_diagnosis', 'primary_EDSS_at_diagnosis','Lymph_Cells','PMN_Cells','Cells','gender_M','oligoclonal_band_POS']\n",
        "outcome_var = 'diagnosis_SPMS'\n",
        "tn, fp, fn, tp = calcCrossValidation_Matrix(rf, df_Livnat_all_patients, predictor_var1, outcome_var)\n",
        "print(calc_specificity(tn, fp, fn, tp))\n",
        "print(calc_sensitivity(tn, fp, fn, tp))\n",
        "randomForestRegr = RandomForestRegressor(n_estimators = 10, random_state = const_seed)\n",
        "predictor_rmse = ['TIM3_RQ', 'TIGIT_RQ', 'LAG3_RQ','age_at_diagnosis', 'primary_EDSS_at_diagnosis', 'MRI_lesion_mass','Lymph_Cells','PMN_Cells','Cells','gender_M']\n",
        "outcome_rmse = 'EDSS_post_10_years'\n",
        "rmse = calcCrossValidation_RMSE(randomForestRegr, df_Livnat_all_patients, predictor_rmse, outcome_rmse)\n",
        "print(rmse)"
      ],
      "execution_count": null,
      "outputs": [
        {
          "output_type": "stream",
          "text": [
            "0.9090909090909091\n",
            "0.6041666666666666\n",
            "1.6957720588235292\n"
          ],
          "name": "stdout"
        }
      ]
    },
    {
      "cell_type": "markdown",
      "metadata": {
        "id": "_bQIfJDAkCYU"
      },
      "source": [
        "no OCB"
      ]
    },
    {
      "cell_type": "code",
      "metadata": {
        "id": "nBa9AkSPkB8w",
        "colab": {
          "base_uri": "https://localhost:8080/"
        },
        "outputId": "4c480b28-1060-46b4-9163-cd6c1b93672a"
      },
      "source": [
        "from sklearn.metrics import confusion_matrix\n",
        "\n",
        "logisticRegrDF = LogisticRegression(max_iter = 4000,random_state=const_seed)\n",
        "predictor_var1 = ['TIM3_RQ', 'TIGIT_RQ', 'LAG3_RQ','age_at_diagnosis', 'primary_EDSS_at_diagnosis', 'MRI_lesion_mass','Lymph_Cells','PMN_Cells','Cells','gender_M']\n",
        "outcome_var = 'diagnosis_SPMS'\n",
        "tn, fp, fn, tp = calcCrossValidation_Matrix(logisticRegrDF, df_Livnat_all_patients, predictor_var1, outcome_var)\n",
        "print(calc_specificity(tn, fp, fn, tp))\n",
        "print(calc_sensitivity(tn, fp, fn, tp))\n",
        "randomForestRegr = RandomForestRegressor(n_estimators = 10, random_state = const_seed)\n",
        "predictor_rmse = ['TIM3_RQ', 'TIGIT_RQ', 'LAG3_RQ','age_at_diagnosis', 'primary_EDSS_at_diagnosis', 'MRI_lesion_mass','Lymph_Cells','PMN_Cells','Cells','gender_M']\n",
        "outcome_rmse = 'EDSS_post_10_years'\n",
        "rmse = calcCrossValidation_RMSE(randomForestRegr, df_Livnat_all_patients, predictor_rmse, outcome_rmse)\n",
        "print(rmse)"
      ],
      "execution_count": null,
      "outputs": [
        {
          "output_type": "stream",
          "text": [
            "0.8863636363636364\n",
            "0.5833333333333334\n",
            "1.6957720588235292\n"
          ],
          "name": "stdout"
        }
      ]
    },
    {
      "cell_type": "code",
      "metadata": {
        "id": "T_1t2nhqkB5_",
        "colab": {
          "base_uri": "https://localhost:8080/"
        },
        "outputId": "9cd241d6-a458-4a20-a11f-49c33cde6fd6"
      },
      "source": [
        "from sklearn.metrics import confusion_matrix\n",
        "\n",
        "rf = RandomForestClassifier(n_estimators=25, min_samples_split=9, max_depth=15, max_features='auto')\n",
        "predictor_var1 = ['TIM3_RQ', 'TIGIT_RQ', 'LAG3_RQ','age_at_diagnosis', 'primary_EDSS_at_diagnosis', 'MRI_lesion_mass','Lymph_Cells','PMN_Cells','Cells','gender_M']\n",
        "outcome_var = 'diagnosis_SPMS'\n",
        "tn, fp, fn, tp = calcCrossValidation_Matrix(rf, df_Livnat_all_patients, predictor_var1, outcome_var)\n",
        "print(calc_specificity(tn, fp, fn, tp))\n",
        "print(calc_sensitivity(tn, fp, fn, tp))\n",
        "randomForestRegr = RandomForestRegressor(n_estimators = 10, random_state = const_seed)\n",
        "predictor_rmse = ['TIM3_RQ', 'TIGIT_RQ', 'LAG3_RQ','age_at_diagnosis', 'primary_EDSS_at_diagnosis', 'MRI_lesion_mass','Lymph_Cells','PMN_Cells','Cells','gender_M']\n",
        "outcome_rmse = 'EDSS_post_10_years'\n",
        "rmse = calcCrossValidation_RMSE(randomForestRegr, df_Livnat_all_patients, predictor_rmse, outcome_rmse)\n",
        "print(rmse)"
      ],
      "execution_count": null,
      "outputs": [
        {
          "output_type": "stream",
          "text": [
            "0.8522727272727273\n",
            "0.5416666666666666\n",
            "1.6957720588235292\n"
          ],
          "name": "stdout"
        }
      ]
    },
    {
      "cell_type": "markdown",
      "metadata": {
        "id": "fy_nxyScrQMH"
      },
      "source": [
        "no cells"
      ]
    },
    {
      "cell_type": "code",
      "metadata": {
        "id": "qHZ8ZxhmrP7L",
        "colab": {
          "base_uri": "https://localhost:8080/"
        },
        "outputId": "3fa62ea4-4b37-41b9-9d52-fbc5aba8c420"
      },
      "source": [
        "from sklearn.metrics import confusion_matrix\n",
        "\n",
        "logisticRegrDF = LogisticRegression(max_iter = 4000,random_state=const_seed)\n",
        "predictor_var1 = ['TIM3_RQ', 'TIGIT_RQ', 'LAG3_RQ','age_at_diagnosis', 'primary_EDSS_at_diagnosis', 'MRI_lesion_mass','Lymph_Cells','PMN_Cells','gender_M','oligoclonal_band_POS']\n",
        "outcome_var = 'diagnosis_SPMS'\n",
        "tn, fp, fn, tp = calcCrossValidation_Matrix(logisticRegrDF, df_Livnat_all_patients, predictor_var1, outcome_var)\n",
        "print(calc_specificity(tn, fp, fn, tp))\n",
        "print(calc_sensitivity(tn, fp, fn, tp))\n",
        "randomForestRegr = RandomForestRegressor(n_estimators = 10, random_state = const_seed)\n",
        "predictor_rmse = ['TIM3_RQ', 'TIGIT_RQ', 'LAG3_RQ','age_at_diagnosis', 'primary_EDSS_at_diagnosis', 'MRI_lesion_mass','Lymph_Cells','PMN_Cells','Cells','gender_M']\n",
        "outcome_rmse = 'EDSS_post_10_years'\n",
        "rmse = calcCrossValidation_RMSE(randomForestRegr, df_Livnat_all_patients, predictor_rmse, outcome_rmse)\n",
        "print(rmse)"
      ],
      "execution_count": null,
      "outputs": [
        {
          "output_type": "stream",
          "text": [
            "0.8863636363636364\n",
            "0.6041666666666666\n",
            "1.6957720588235292\n"
          ],
          "name": "stdout"
        }
      ]
    },
    {
      "cell_type": "code",
      "metadata": {
        "id": "BBiIrJsTrP4P",
        "colab": {
          "base_uri": "https://localhost:8080/"
        },
        "outputId": "40f6c0ec-6a70-4042-8405-2ce331a0daeb"
      },
      "source": [
        "from sklearn.metrics import confusion_matrix\n",
        "\n",
        "rf = RandomForestClassifier(n_estimators=25, min_samples_split=9, max_depth=15, max_features='auto',random_state=const_seed)\n",
        "predictor_var1 = ['TIM3_RQ', 'TIGIT_RQ', 'LAG3_RQ','age_at_diagnosis', 'primary_EDSS_at_diagnosis', 'MRI_lesion_mass','Lymph_Cells','PMN_Cells','gender_M','oligoclonal_band_POS']\n",
        "outcome_var = 'diagnosis_SPMS'\n",
        "tn, fp, fn, tp = calcCrossValidation_Matrix(rf, df_Livnat_all_patients, predictor_var1, outcome_var)\n",
        "print(calc_specificity(tn, fp, fn, tp))\n",
        "print(calc_sensitivity(tn, fp, fn, tp))\n",
        "randomForestRegr = RandomForestRegressor(n_estimators = 10, random_state = const_seed)\n",
        "predictor_rmse = ['TIM3_RQ', 'TIGIT_RQ', 'LAG3_RQ','age_at_diagnosis', 'primary_EDSS_at_diagnosis', 'MRI_lesion_mass','Lymph_Cells','PMN_Cells','Cells','gender_M']\n",
        "outcome_rmse = 'EDSS_post_10_years'\n",
        "rmse = calcCrossValidation_RMSE(randomForestRegr, df_Livnat_all_patients, predictor_rmse, outcome_rmse)\n",
        "print(rmse)"
      ],
      "execution_count": null,
      "outputs": [
        {
          "output_type": "stream",
          "text": [
            "0.8863636363636364\n",
            "0.5625\n",
            "1.6957720588235292\n"
          ],
          "name": "stdout"
        }
      ]
    },
    {
      "cell_type": "markdown",
      "metadata": {
        "id": "kjPfrhJirRTa"
      },
      "source": [
        "no lymph cells"
      ]
    },
    {
      "cell_type": "code",
      "metadata": {
        "id": "7uZMNjmLrQv8",
        "colab": {
          "base_uri": "https://localhost:8080/"
        },
        "outputId": "36ce87fa-d531-480b-9ccb-2c58256b40c5"
      },
      "source": [
        "from sklearn.metrics import confusion_matrix\n",
        "\n",
        "logisticRegrDF = LogisticRegression(max_iter = 4000,random_state=const_seed)\n",
        "predictor_var1 = ['TIM3_RQ', 'TIGIT_RQ', 'LAG3_RQ','age_at_diagnosis', 'primary_EDSS_at_diagnosis', 'MRI_lesion_mass','PMN_Cells','Cells','gender_M','oligoclonal_band_POS']\n",
        "outcome_var = 'diagnosis_SPMS'\n",
        "tn, fp, fn, tp = calcCrossValidation_Matrix(logisticRegrDF, df_Livnat_all_patients, predictor_var1, outcome_var)\n",
        "print(calc_specificity(tn, fp, fn, tp))\n",
        "print(calc_sensitivity(tn, fp, fn, tp))\n",
        "randomForestRegr = RandomForestRegressor(n_estimators = 10, random_state = const_seed)\n",
        "predictor_rmse = ['TIM3_RQ', 'TIGIT_RQ', 'LAG3_RQ','age_at_diagnosis', 'primary_EDSS_at_diagnosis', 'MRI_lesion_mass','Lymph_Cells','PMN_Cells','Cells','gender_M']\n",
        "outcome_rmse = 'EDSS_post_10_years'\n",
        "rmse = calcCrossValidation_RMSE(randomForestRegr, df_Livnat_all_patients, predictor_rmse, outcome_rmse)\n",
        "print(rmse)"
      ],
      "execution_count": null,
      "outputs": [
        {
          "output_type": "stream",
          "text": [
            "0.8863636363636364\n",
            "0.6041666666666666\n",
            "1.6957720588235292\n"
          ],
          "name": "stdout"
        }
      ]
    },
    {
      "cell_type": "code",
      "metadata": {
        "id": "Tr2I-DL8rRIk",
        "colab": {
          "base_uri": "https://localhost:8080/"
        },
        "outputId": "85365cff-b33d-41a9-8cf2-5c7bcf104c32"
      },
      "source": [
        "from sklearn.metrics import confusion_matrix\n",
        "\n",
        "rf = RandomForestClassifier(n_estimators=25, min_samples_split=9, max_depth=15, max_features='auto',random_state=const_seed)\n",
        "predictor_var1 = ['TIM3_RQ', 'TIGIT_RQ', 'LAG3_RQ','age_at_diagnosis', 'primary_EDSS_at_diagnosis', 'MRI_lesion_mass','PMN_Cells','Cells','gender_M','oligoclonal_band_POS']\n",
        "outcome_var = 'diagnosis_SPMS'\n",
        "tn, fp, fn, tp = calcCrossValidation_Matrix(rf, df_Livnat_all_patients, predictor_var1, outcome_var)\n",
        "print(calc_specificity(tn, fp, fn, tp))\n",
        "print(calc_sensitivity(tn, fp, fn, tp))\n",
        "randomForestRegr = RandomForestRegressor(n_estimators = 10, random_state = const_seed)\n",
        "predictor_rmse = ['TIM3_RQ', 'TIGIT_RQ', 'LAG3_RQ','age_at_diagnosis', 'primary_EDSS_at_diagnosis', 'MRI_lesion_mass','Lymph_Cells','PMN_Cells','Cells','gender_M']\n",
        "outcome_rmse = 'EDSS_post_10_years'\n",
        "rmse = calcCrossValidation_RMSE(randomForestRegr, df_Livnat_all_patients, predictor_rmse, outcome_rmse)\n",
        "print(rmse)"
      ],
      "execution_count": null,
      "outputs": [
        {
          "output_type": "stream",
          "text": [
            "0.9090909090909091\n",
            "0.5416666666666666\n",
            "1.6957720588235292\n"
          ],
          "name": "stdout"
        }
      ]
    },
    {
      "cell_type": "markdown",
      "metadata": {
        "id": "NPaO4XyUrdoH"
      },
      "source": [
        "no PMM cells"
      ]
    },
    {
      "cell_type": "code",
      "metadata": {
        "id": "_6E9y8HyraTv",
        "colab": {
          "base_uri": "https://localhost:8080/"
        },
        "outputId": "986982d1-0b1d-4216-c687-7a4907ffa52d"
      },
      "source": [
        "from sklearn.metrics import confusion_matrix\n",
        "\n",
        "logisticRegrDF = LogisticRegression(max_iter = 4000,random_state=const_seed)\n",
        "predictor_var1 = ['TIM3_RQ', 'TIGIT_RQ', 'LAG3_RQ','age_at_diagnosis', 'primary_EDSS_at_diagnosis', 'MRI_lesion_mass','Lymph_Cells','Cells','gender_M','oligoclonal_band_POS']\n",
        "outcome_var = 'diagnosis_SPMS'\n",
        "tn, fp, fn, tp = calcCrossValidation_Matrix(logisticRegrDF, df_Livnat_all_patients, predictor_var1, outcome_var)\n",
        "print(calc_specificity(tn, fp, fn, tp))\n",
        "print(calc_sensitivity(tn, fp, fn, tp))\n",
        "randomForestRegr = RandomForestRegressor(n_estimators = 10, random_state = const_seed)\n",
        "predictor_rmse = ['TIM3_RQ', 'TIGIT_RQ', 'LAG3_RQ','age_at_diagnosis', 'primary_EDSS_at_diagnosis', 'MRI_lesion_mass','Lymph_Cells','Cells','gender_M','oligoclonal_band_POS']\n",
        "outcome_rmse = 'EDSS_post_10_years'\n",
        "rmse = calcCrossValidation_RMSE(randomForestRegr, df_Livnat_all_patients, predictor_rmse, outcome_rmse)\n",
        "print(rmse)"
      ],
      "execution_count": null,
      "outputs": [
        {
          "output_type": "stream",
          "text": [
            "0.8863636363636364\n",
            "0.6041666666666666\n",
            "1.6821691176470588\n"
          ],
          "name": "stdout"
        }
      ]
    },
    {
      "cell_type": "code",
      "metadata": {
        "id": "z4-Hsj5FrdBv",
        "colab": {
          "base_uri": "https://localhost:8080/"
        },
        "outputId": "c7e06f60-4080-4df4-93f1-3685951138af"
      },
      "source": [
        "from sklearn.metrics import confusion_matrix\n",
        "\n",
        "rf = RandomForestClassifier(n_estimators=25, min_samples_split=9, max_depth=15, max_features='auto',random_state=const_seed)\n",
        "predictor_var1 = ['TIM3_RQ', 'TIGIT_RQ', 'LAG3_RQ','age_at_diagnosis', 'primary_EDSS_at_diagnosis', 'MRI_lesion_mass','Lymph_Cells','Cells','gender_M','oligoclonal_band_POS']\n",
        "outcome_var = 'diagnosis_SPMS'\n",
        "tn, fp, fn, tp = calcCrossValidation_Matrix(rf, df_Livnat_all_patients, predictor_var1, outcome_var)\n",
        "print(calc_specificity(tn, fp, fn, tp))\n",
        "print(calc_sensitivity(tn, fp, fn, tp))\n",
        "randomForestRegr = RandomForestRegressor(n_estimators = 10, random_state = const_seed)\n",
        "predictor_rmse = ['TIM3_RQ', 'TIGIT_RQ', 'LAG3_RQ','age_at_diagnosis', 'primary_EDSS_at_diagnosis', 'MRI_lesion_mass','Lymph_Cells','PMN_Cells','Cells','gender_M']\n",
        "outcome_rmse = 'EDSS_post_10_years'\n",
        "rmse = calcCrossValidation_RMSE(randomForestRegr, df_Livnat_all_patients, predictor_rmse, outcome_rmse)\n",
        "print(rmse)"
      ],
      "execution_count": null,
      "outputs": [
        {
          "output_type": "stream",
          "text": [
            "0.9090909090909091\n",
            "0.5833333333333334\n",
            "1.6957720588235292\n"
          ],
          "name": "stdout"
        }
      ]
    },
    {
      "cell_type": "markdown",
      "metadata": {
        "id": "SFTa1YF9rh0a"
      },
      "source": [
        "no MRI, cells"
      ]
    },
    {
      "cell_type": "code",
      "metadata": {
        "id": "mqJi0gMxrhmp",
        "colab": {
          "base_uri": "https://localhost:8080/"
        },
        "outputId": "032dae49-8381-4235-e609-a8458210dad5"
      },
      "source": [
        "from sklearn.metrics import confusion_matrix\n",
        "\n",
        "logisticRegrDF = LogisticRegression(max_iter = 4000,random_state=const_seed)\n",
        "predictor_var1 = ['TIM3_RQ', 'TIGIT_RQ', 'LAG3_RQ','age_at_diagnosis', 'primary_EDSS_at_diagnosis', 'Lymph_Cells','PMN_Cells','gender_M','oligoclonal_band_POS']\n",
        "outcome_var = 'diagnosis_SPMS'\n",
        "tn, fp, fn, tp = calcCrossValidation_Matrix(logisticRegrDF, df_Livnat_all_patients, predictor_var1, outcome_var)\n",
        "print(calc_specificity(tn, fp, fn, tp))\n",
        "print(calc_sensitivity(tn, fp, fn, tp))\n",
        "randomForestRegr = RandomForestRegressor(n_estimators = 10, random_state = const_seed)\n",
        "predictor_rmse = ['TIM3_RQ', 'TIGIT_RQ', 'LAG3_RQ','age_at_diagnosis', 'primary_EDSS_at_diagnosis', 'Lymph_Cells','PMN_Cells','gender_M','oligoclonal_band_POS']\n",
        "outcome_rmse = 'EDSS_post_10_years'\n",
        "rmse = calcCrossValidation_RMSE(randomForestRegr, df_Livnat_all_patients, predictor_rmse, outcome_rmse)\n",
        "print(rmse)"
      ],
      "execution_count": null,
      "outputs": [
        {
          "output_type": "stream",
          "text": [
            "0.8863636363636364\n",
            "0.5833333333333334\n",
            "1.6602941176470585\n"
          ],
          "name": "stdout"
        }
      ]
    },
    {
      "cell_type": "code",
      "metadata": {
        "id": "0She5QY_rhjU",
        "colab": {
          "base_uri": "https://localhost:8080/"
        },
        "outputId": "b49f53d3-0381-414f-f2f7-589c8c12ed42"
      },
      "source": [
        "from sklearn.metrics import confusion_matrix\n",
        "\n",
        "rf = RandomForestClassifier(n_estimators=25, min_samples_split=9, max_depth=15, max_features='auto',random_state=const_seed)\n",
        "predictor_var1 = ['TIM3_RQ', 'TIGIT_RQ', 'LAG3_RQ','age_at_diagnosis', 'primary_EDSS_at_diagnosis', 'Lymph_Cells','PMN_Cells','gender_M','oligoclonal_band_POS']\n",
        "outcome_var = 'diagnosis_SPMS'\n",
        "tn, fp, fn, tp = calcCrossValidation_Matrix(rf, df_Livnat_all_patients, predictor_var1, outcome_var)\n",
        "print(calc_specificity(tn, fp, fn, tp))\n",
        "print(calc_sensitivity(tn, fp, fn, tp))\n",
        "randomForestRegr = RandomForestRegressor(n_estimators = 10, random_state = const_seed)\n",
        "predictor_rmse = ['TIM3_RQ', 'TIGIT_RQ', 'LAG3_RQ','age_at_diagnosis', 'primary_EDSS_at_diagnosis', 'Lymph_Cells','PMN_Cells','gender_M','oligoclonal_band_POS']\n",
        "outcome_rmse = 'EDSS_post_10_years'\n",
        "rmse = calcCrossValidation_RMSE(randomForestRegr, df_Livnat_all_patients, predictor_rmse, outcome_rmse)\n",
        "print(rmse)"
      ],
      "execution_count": null,
      "outputs": [
        {
          "output_type": "stream",
          "text": [
            "0.8863636363636364\n",
            "0.5\n",
            "1.6602941176470585\n"
          ],
          "name": "stdout"
        }
      ]
    },
    {
      "cell_type": "markdown",
      "metadata": {
        "id": "JmB6jDDAr6_N"
      },
      "source": [
        "no MRI, PMM cells"
      ]
    },
    {
      "cell_type": "code",
      "metadata": {
        "id": "1poyNBUDr6jf",
        "colab": {
          "base_uri": "https://localhost:8080/"
        },
        "outputId": "c5197c80-3cb5-40af-eaae-7bbe7f39c377"
      },
      "source": [
        "from sklearn.metrics import confusion_matrix\n",
        "\n",
        "logisticRegrDF = LogisticRegression(max_iter = 4000,random_state=const_seed)\n",
        "predictor_var1 = ['TIM3_RQ', 'TIGIT_RQ', 'LAG3_RQ','age_at_diagnosis', 'primary_EDSS_at_diagnosis','Lymph_Cells','Cells','gender_M','oligoclonal_band_POS']\n",
        "outcome_var = 'diagnosis_SPMS'\n",
        "tn, fp, fn, tp = calcCrossValidation_Matrix(logisticRegrDF, df_Livnat_all_patients, predictor_var1, outcome_var)\n",
        "print(calc_specificity(tn, fp, fn, tp))\n",
        "print(calc_sensitivity(tn, fp, fn, tp))\n",
        "randomForestRegr = RandomForestRegressor(n_estimators = 10, random_state = const_seed)\n",
        "predictor_rmse = ['TIM3_RQ', 'TIGIT_RQ', 'LAG3_RQ','age_at_diagnosis', 'primary_EDSS_at_diagnosis','Lymph_Cells','Cells','gender_M','oligoclonal_band_POS']\n",
        "outcome_rmse = 'EDSS_post_10_years'\n",
        "rmse = calcCrossValidation_RMSE(randomForestRegr, df_Livnat_all_patients, predictor_rmse, outcome_rmse)\n",
        "print(rmse)"
      ],
      "execution_count": null,
      "outputs": [
        {
          "output_type": "stream",
          "text": [
            "0.8863636363636364\n",
            "0.6041666666666666\n",
            "1.6439338235294112\n"
          ],
          "name": "stdout"
        }
      ]
    },
    {
      "cell_type": "code",
      "metadata": {
        "id": "fUilpuykr6b_",
        "colab": {
          "base_uri": "https://localhost:8080/"
        },
        "outputId": "285bf66a-e49f-48e0-d8bc-db359760b91e"
      },
      "source": [
        "from sklearn.metrics import confusion_matrix\n",
        "\n",
        "rf = RandomForestClassifier(n_estimators=25, min_samples_split=9, max_depth=15, max_features='auto',random_state=const_seed)\n",
        "predictor_var1 = ['TIM3_RQ', 'TIGIT_RQ', 'LAG3_RQ','age_at_diagnosis', 'primary_EDSS_at_diagnosis','Lymph_Cells','Cells','gender_M','oligoclonal_band_POS']\n",
        "outcome_var = 'diagnosis_SPMS'\n",
        "tn, fp, fn, tp = calcCrossValidation_Matrix(rf, df_Livnat_all_patients, predictor_var1, outcome_var)\n",
        "print(calc_specificity(tn, fp, fn, tp))\n",
        "print(calc_sensitivity(tn, fp, fn, tp))\n",
        "randomForestRegr = RandomForestRegressor(n_estimators = 10, random_state = const_seed)\n",
        "predictor_rmse = ['TIM3_RQ', 'TIGIT_RQ', 'LAG3_RQ','age_at_diagnosis', 'primary_EDSS_at_diagnosis','Lymph_Cells','Cells','gender_M','oligoclonal_band_POS']\n",
        "outcome_rmse = 'EDSS_post_10_years'\n",
        "rmse = calcCrossValidation_RMSE(randomForestRegr, df_Livnat_all_patients, predictor_rmse, outcome_rmse)\n",
        "print(rmse)"
      ],
      "execution_count": null,
      "outputs": [
        {
          "output_type": "stream",
          "text": [
            "0.9090909090909091\n",
            "0.5208333333333334\n",
            "1.6439338235294112\n"
          ],
          "name": "stdout"
        }
      ]
    },
    {
      "cell_type": "markdown",
      "metadata": {
        "id": "AxUKeb-Er_T_"
      },
      "source": [
        "no TIGIT, cells"
      ]
    },
    {
      "cell_type": "code",
      "metadata": {
        "id": "nLdmdCijr-1V",
        "colab": {
          "base_uri": "https://localhost:8080/"
        },
        "outputId": "a9af225b-2af0-4e9a-ddf7-23adfb003156"
      },
      "source": [
        "from sklearn.metrics import confusion_matrix\n",
        "\n",
        "logisticRegrDF = LogisticRegression(max_iter = 4000,random_state=const_seed)\n",
        "predictor_var1 = ['TIM3_RQ', 'LAG3_RQ','age_at_diagnosis', 'primary_EDSS_at_diagnosis', 'MRI_lesion_mass','Lymph_Cells','PMN_Cells','gender_M','oligoclonal_band_POS']\n",
        "outcome_var = 'diagnosis_SPMS'\n",
        "tn, fp, fn, tp = calcCrossValidation_Matrix(logisticRegrDF, df_Livnat_all_patients, predictor_var1, outcome_var)\n",
        "print(calc_specificity(tn, fp, fn, tp))\n",
        "print(calc_sensitivity(tn, fp, fn, tp))\n",
        "randomForestRegr = RandomForestRegressor(n_estimators = 10, random_state = const_seed)\n",
        "predictor_rmse = ['TIM3_RQ', 'LAG3_RQ','age_at_diagnosis', 'primary_EDSS_at_diagnosis', 'MRI_lesion_mass','Lymph_Cells','PMN_Cells','gender_M','oligoclonal_band_POS']\n",
        "outcome_rmse = 'EDSS_post_10_years'\n",
        "rmse = calcCrossValidation_RMSE(randomForestRegr, df_Livnat_all_patients, predictor_rmse, outcome_rmse)\n",
        "print(rmse)"
      ],
      "execution_count": null,
      "outputs": [
        {
          "output_type": "stream",
          "text": [
            "0.8863636363636364\n",
            "0.6041666666666666\n",
            "1.6641544117647056\n"
          ],
          "name": "stdout"
        }
      ]
    },
    {
      "cell_type": "code",
      "metadata": {
        "id": "F4A9DFkwr-fl",
        "colab": {
          "base_uri": "https://localhost:8080/"
        },
        "outputId": "83a43ee5-8c1a-4761-81e8-744241faa7b6"
      },
      "source": [
        "from sklearn.metrics import confusion_matrix\n",
        "\n",
        "rf = RandomForestClassifier(n_estimators=25, min_samples_split=9, max_depth=15, max_features='auto',random_state=const_seed)\n",
        "predictor_var1 = ['TIM3_RQ', 'LAG3_RQ','age_at_diagnosis', 'primary_EDSS_at_diagnosis', 'MRI_lesion_mass','Lymph_Cells','PMN_Cells','gender_M','oligoclonal_band_POS']\n",
        "outcome_var = 'diagnosis_SPMS'\n",
        "tn, fp, fn, tp = calcCrossValidation_Matrix(rf, df_Livnat_all_patients, predictor_var1, outcome_var)\n",
        "print(calc_specificity(tn, fp, fn, tp))\n",
        "print(calc_sensitivity(tn, fp, fn, tp))\n",
        "randomForestRegr = RandomForestRegressor(n_estimators = 10, random_state = const_seed)\n",
        "predictor_rmse = ['TIM3_RQ', 'TIGIT_RQ', 'LAG3_RQ','age_at_diagnosis', 'primary_EDSS_at_diagnosis', 'MRI_lesion_mass','Lymph_Cells','PMN_Cells','Cells','gender_M']\n",
        "outcome_rmse = 'EDSS_post_10_years'\n",
        "rmse = calcCrossValidation_RMSE(randomForestRegr, df_Livnat_all_patients, predictor_rmse, outcome_rmse)\n",
        "print(rmse)"
      ],
      "execution_count": null,
      "outputs": [
        {
          "output_type": "stream",
          "text": [
            "0.8863636363636364\n",
            "0.5833333333333334\n",
            "1.6957720588235292\n"
          ],
          "name": "stdout"
        }
      ]
    },
    {
      "cell_type": "markdown",
      "metadata": {
        "id": "i79bd3FCsCA0"
      },
      "source": [
        "no TIGIT, pmm cells"
      ]
    },
    {
      "cell_type": "code",
      "metadata": {
        "id": "MCv5uWe4sBuj",
        "colab": {
          "base_uri": "https://localhost:8080/"
        },
        "outputId": "40d38049-8fb4-446d-bd19-72d350a7372f"
      },
      "source": [
        "from sklearn.metrics import confusion_matrix\n",
        "\n",
        "logisticRegrDF = LogisticRegression(max_iter = 4000,random_state=const_seed)\n",
        "predictor_var1 = ['TIM3_RQ', 'LAG3_RQ','age_at_diagnosis', 'primary_EDSS_at_diagnosis', 'MRI_lesion_mass','Lymph_Cells','Cells','gender_M','oligoclonal_band_POS']\n",
        "outcome_var = 'diagnosis_SPMS'\n",
        "tn, fp, fn, tp = calcCrossValidation_Matrix(logisticRegrDF, df_Livnat_all_patients, predictor_var1, outcome_var)\n",
        "print(calc_specificity(tn, fp, fn, tp))\n",
        "print(calc_sensitivity(tn, fp, fn, tp))\n",
        "randomForestRegr = RandomForestRegressor(n_estimators = 10, random_state = const_seed)\n",
        "predictor_rmse = ['TIM3_RQ', 'LAG3_RQ','age_at_diagnosis', 'primary_EDSS_at_diagnosis', 'MRI_lesion_mass','Lymph_Cells','Cells','gender_M','oligoclonal_band_POS']\n",
        "outcome_rmse = 'EDSS_post_10_years'\n",
        "rmse = calcCrossValidation_RMSE(randomForestRegr, df_Livnat_all_patients, predictor_rmse, outcome_rmse)\n",
        "print(rmse)"
      ],
      "execution_count": null,
      "outputs": [
        {
          "output_type": "stream",
          "text": [
            "0.8863636363636364\n",
            "0.6041666666666666\n",
            "1.633639705882353\n"
          ],
          "name": "stdout"
        }
      ]
    },
    {
      "cell_type": "code",
      "metadata": {
        "id": "JlLeRkDjsBjo",
        "colab": {
          "base_uri": "https://localhost:8080/"
        },
        "outputId": "496a3975-7bc7-47e0-bddc-8e703b3ecd9a"
      },
      "source": [
        "from sklearn.metrics import confusion_matrix\n",
        "\n",
        "rf = RandomForestClassifier(n_estimators=25, min_samples_split=9, max_depth=15, max_features='auto',random_state=const_seed)\n",
        "predictor_var1 = ['TIM3_RQ', 'LAG3_RQ','age_at_diagnosis', 'primary_EDSS_at_diagnosis', 'MRI_lesion_mass','Lymph_Cells','Cells','gender_M','oligoclonal_band_POS']\n",
        "outcome_var = 'diagnosis_SPMS'\n",
        "tn, fp, fn, tp = calcCrossValidation_Matrix(rf, df_Livnat_all_patients, predictor_var1, outcome_var)\n",
        "print(calc_specificity(tn, fp, fn, tp))\n",
        "print(calc_sensitivity(tn, fp, fn, tp))\n",
        "randomForestRegr = RandomForestRegressor(n_estimators = 10, random_state = const_seed)\n",
        "predictor_rmse = ['TIM3_RQ', 'LAG3_RQ','age_at_diagnosis', 'primary_EDSS_at_diagnosis', 'MRI_lesion_mass','Lymph_Cells','Cells','gender_M','oligoclonal_band_POS']\n",
        "outcome_rmse = 'EDSS_post_10_years'\n",
        "rmse = calcCrossValidation_RMSE(randomForestRegr, df_Livnat_all_patients, predictor_rmse, outcome_rmse)\n",
        "print(rmse)"
      ],
      "execution_count": null,
      "outputs": [
        {
          "output_type": "stream",
          "text": [
            "0.8977272727272727\n",
            "0.5833333333333334\n",
            "1.633639705882353\n"
          ],
          "name": "stdout"
        }
      ]
    },
    {
      "cell_type": "markdown",
      "metadata": {
        "id": "VDloxAp82wIa"
      },
      "source": [
        "no MRI, LAG3"
      ]
    },
    {
      "cell_type": "code",
      "metadata": {
        "id": "jldmQzuq2vy0",
        "colab": {
          "base_uri": "https://localhost:8080/"
        },
        "outputId": "82a5ce69-39c5-43e5-f881-03cf88960b38"
      },
      "source": [
        "from sklearn.metrics import confusion_matrix\n",
        "\n",
        "logisticRegrDF = LogisticRegression(max_iter = 4000,random_state=const_seed)\n",
        "predictor_var1 = ['TIM3_RQ', 'LAG3_RQ','age_at_diagnosis', 'primary_EDSS_at_diagnosis','Lymph_Cells','PMN_Cells','Cells','gender_M','oligoclonal_band_POS']\n",
        "outcome_var = 'diagnosis_SPMS'\n",
        "tn, fp, fn, tp = calcCrossValidation_Matrix(logisticRegrDF, df_Livnat_all_patients, predictor_var1, outcome_var)\n",
        "print(calc_specificity(tn, fp, fn, tp))\n",
        "print(calc_sensitivity(tn, fp, fn, tp))\n",
        "randomForestRegr = RandomForestRegressor(n_estimators = 10, random_state = const_seed)\n",
        "predictor_rmse = ['TIM3_RQ', 'TIGIT_RQ', 'LAG3_RQ','age_at_diagnosis', 'primary_EDSS_at_diagnosis', 'MRI_lesion_mass','Lymph_Cells','PMN_Cells','Cells','gender_M']\n",
        "outcome_rmse = 'EDSS_post_10_years'\n",
        "rmse = calcCrossValidation_RMSE(randomForestRegr, df_Livnat_all_patients, predictor_rmse, outcome_rmse)\n",
        "print(rmse)"
      ],
      "execution_count": null,
      "outputs": [
        {
          "output_type": "stream",
          "text": [
            "0.8863636363636364\n",
            "0.5833333333333334\n",
            "1.6957720588235292\n"
          ],
          "name": "stdout"
        }
      ]
    },
    {
      "cell_type": "code",
      "metadata": {
        "id": "lrEkFzlL2vZr",
        "colab": {
          "base_uri": "https://localhost:8080/"
        },
        "outputId": "c9c16140-dbdd-4f81-85e8-8b0eef7fb166"
      },
      "source": [
        "from sklearn.metrics import confusion_matrix\n",
        "\n",
        "rf = RandomForestClassifier(n_estimators=25, min_samples_split=9, max_depth=15, max_features='auto',random_state=const_seed)\n",
        "predictor_var1 = ['TIM3_RQ', 'LAG3_RQ','age_at_diagnosis', 'primary_EDSS_at_diagnosis', 'Lymph_Cells','PMN_Cells','Cells','gender_M','oligoclonal_band_POS']\n",
        "outcome_var = 'diagnosis_SPMS'\n",
        "tn, fp, fn, tp = calcCrossValidation_Matrix(rf, df_Livnat_all_patients, predictor_var1, outcome_var)\n",
        "print(calc_specificity(tn, fp, fn, tp))\n",
        "print(calc_sensitivity(tn, fp, fn, tp))\n",
        "randomForestRegr = RandomForestRegressor(n_estimators = 10, random_state = const_seed)\n",
        "predictor_rmse = ['TIM3_RQ', 'TIGIT_RQ', 'LAG3_RQ','age_at_diagnosis', 'primary_EDSS_at_diagnosis', 'MRI_lesion_mass','Lymph_Cells','PMN_Cells','Cells','gender_M']\n",
        "outcome_rmse = 'EDSS_post_10_years'\n",
        "rmse = calcCrossValidation_RMSE(randomForestRegr, df_Livnat_all_patients, predictor_rmse, outcome_rmse)\n",
        "print(rmse)"
      ],
      "execution_count": null,
      "outputs": [
        {
          "output_type": "stream",
          "text": [
            "0.9204545454545454\n",
            "0.5833333333333334\n",
            "1.6957720588235292\n"
          ],
          "name": "stdout"
        }
      ]
    },
    {
      "cell_type": "markdown",
      "metadata": {
        "id": "JWoTRFSR3Yes"
      },
      "source": [
        "no MRI, TIM3, LAG3"
      ]
    },
    {
      "cell_type": "code",
      "metadata": {
        "id": "pNFDbh_t3YLO",
        "colab": {
          "base_uri": "https://localhost:8080/"
        },
        "outputId": "d4223172-0980-49d0-c6d7-ab2ff8c54413"
      },
      "source": [
        "from sklearn.metrics import confusion_matrix\n",
        "\n",
        "logisticRegrDF = LogisticRegression(max_iter = 4000,random_state=const_seed)\n",
        "predictor_var1 = ['TIGIT_RQ', 'age_at_diagnosis', 'primary_EDSS_at_diagnosis', 'Lymph_Cells','PMN_Cells','Cells','gender_M','oligoclonal_band_POS']\n",
        "outcome_var = 'diagnosis_SPMS'\n",
        "tn, fp, fn, tp = calcCrossValidation_Matrix(logisticRegrDF, df_Livnat_all_patients, predictor_var1, outcome_var)\n",
        "print(calc_specificity(tn, fp, fn, tp))\n",
        "print(calc_sensitivity(tn, fp, fn, tp))\n",
        "randomForestRegr = RandomForestRegressor(n_estimators = 10, random_state = const_seed)\n",
        "predictor_rmse = ['TIGIT_RQ', 'age_at_diagnosis', 'primary_EDSS_at_diagnosis', 'Lymph_Cells','PMN_Cells','Cells','gender_M','oligoclonal_band_POS']\n",
        "outcome_rmse = 'EDSS_post_10_years'\n",
        "rmse = calcCrossValidation_RMSE(randomForestRegr, df_Livnat_all_patients, predictor_rmse, outcome_rmse)\n",
        "print(rmse)"
      ],
      "execution_count": null,
      "outputs": [
        {
          "output_type": "stream",
          "text": [
            "0.875\n",
            "0.6041666666666666\n",
            "1.7838235294117646\n"
          ],
          "name": "stdout"
        }
      ]
    },
    {
      "cell_type": "code",
      "metadata": {
        "id": "xQcoJCFq3Z9l",
        "colab": {
          "base_uri": "https://localhost:8080/"
        },
        "outputId": "52508e89-fded-41b1-efb0-4b7eb90a1c9d"
      },
      "source": [
        "from sklearn.metrics import confusion_matrix\n",
        "\n",
        "rf = RandomForestClassifier(n_estimators=25, min_samples_split=9, max_depth=15, max_features='auto',random_state=const_seed)\n",
        "predictor_var1 = ['TIGIT_RQ', 'age_at_diagnosis', 'primary_EDSS_at_diagnosis', 'Lymph_Cells','PMN_Cells','Cells','gender_M','oligoclonal_band_POS']\n",
        "outcome_var = 'diagnosis_SPMS'\n",
        "tn, fp, fn, tp = calcCrossValidation_Matrix(rf, df_Livnat_all_patients, predictor_var1, outcome_var)\n",
        "print(calc_specificity(tn, fp, fn, tp))\n",
        "print(calc_sensitivity(tn, fp, fn, tp))\n",
        "randomForestRegr = RandomForestRegressor(n_estimators = 10, random_state = const_seed)\n",
        "predictor_rmse = ['TIM3_RQ', 'TIGIT_RQ', 'LAG3_RQ','age_at_diagnosis', 'primary_EDSS_at_diagnosis', 'MRI_lesion_mass','Lymph_Cells','PMN_Cells','Cells','gender_M']\n",
        "outcome_rmse = 'EDSS_post_10_years'\n",
        "rmse = calcCrossValidation_RMSE(randomForestRegr, df_Livnat_all_patients, predictor_rmse, outcome_rmse)\n",
        "print(rmse)"
      ],
      "execution_count": null,
      "outputs": [
        {
          "output_type": "stream",
          "text": [
            "0.8636363636363636\n",
            "0.5625\n",
            "1.6957720588235292\n"
          ],
          "name": "stdout"
        }
      ]
    },
    {
      "cell_type": "markdown",
      "metadata": {
        "id": "DCULsg903agp"
      },
      "source": [
        "no MRI, TIM3, TIGIT"
      ]
    },
    {
      "cell_type": "code",
      "metadata": {
        "id": "qxdJjbcx3aPo",
        "colab": {
          "base_uri": "https://localhost:8080/"
        },
        "outputId": "d96b1473-6354-4180-f578-bb133c2b413e"
      },
      "source": [
        "from sklearn.metrics import confusion_matrix\n",
        "\n",
        "logisticRegrDF = LogisticRegression(max_iter = 4000,random_state=const_seed)\n",
        "predictor_var1 = ['LAG3_RQ','age_at_diagnosis', 'primary_EDSS_at_diagnosis', 'Lymph_Cells','PMN_Cells','Cells','gender_M','oligoclonal_band_POS']\n",
        "outcome_var = 'diagnosis_SPMS'\n",
        "tn, fp, fn, tp = calcCrossValidation_Matrix(logisticRegrDF, df_Livnat_all_patients, predictor_var1, outcome_var)\n",
        "print(calc_specificity(tn, fp, fn, tp))\n",
        "print(calc_sensitivity(tn, fp, fn, tp))\n",
        "randomForestRegr = RandomForestRegressor(n_estimators = 10, random_state = const_seed)\n",
        "predictor_rmse = ['TIM3_RQ', 'TIGIT_RQ', 'LAG3_RQ','age_at_diagnosis', 'primary_EDSS_at_diagnosis', 'MRI_lesion_mass','Lymph_Cells','PMN_Cells','Cells','gender_M']\n",
        "outcome_rmse = 'EDSS_post_10_years'\n",
        "rmse = calcCrossValidation_RMSE(randomForestRegr, df_Livnat_all_patients, predictor_rmse, outcome_rmse)\n",
        "print(rmse)"
      ],
      "execution_count": null,
      "outputs": [
        {
          "output_type": "stream",
          "text": [
            "0.875\n",
            "0.6041666666666666\n",
            "1.6957720588235292\n"
          ],
          "name": "stdout"
        }
      ]
    },
    {
      "cell_type": "code",
      "metadata": {
        "id": "WdU99rsN3YAB",
        "colab": {
          "base_uri": "https://localhost:8080/"
        },
        "outputId": "c9a427da-a75a-4311-f88d-e82855fa8aab"
      },
      "source": [
        "from sklearn.metrics import confusion_matrix\n",
        "\n",
        "rf = RandomForestClassifier(n_estimators=25, min_samples_split=9, max_depth=15, max_features='auto',random_state=const_seed)\n",
        "predictor_var1 = ['LAG3_RQ','age_at_diagnosis', 'primary_EDSS_at_diagnosis', 'Lymph_Cells','PMN_Cells','Cells','gender_M','oligoclonal_band_POS']\n",
        "outcome_var = 'diagnosis_SPMS'\n",
        "tn, fp, fn, tp = calcCrossValidation_Matrix(rf, df_Livnat_all_patients, predictor_var1, outcome_var)\n",
        "print(calc_specificity(tn, fp, fn, tp))\n",
        "print(calc_sensitivity(tn, fp, fn, tp))\n",
        "randomForestRegr = RandomForestRegressor(n_estimators = 10, random_state = const_seed)\n",
        "predictor_rmse = ['TIM3_RQ', 'TIGIT_RQ', 'LAG3_RQ','age_at_diagnosis', 'primary_EDSS_at_diagnosis', 'MRI_lesion_mass','Lymph_Cells','PMN_Cells','Cells','gender_M']\n",
        "outcome_rmse = 'EDSS_post_10_years'\n",
        "rmse = calcCrossValidation_RMSE(randomForestRegr, df_Livnat_all_patients, predictor_rmse, outcome_rmse)\n",
        "print(rmse)"
      ],
      "execution_count": null,
      "outputs": [
        {
          "output_type": "stream",
          "text": [
            "0.8636363636363636\n",
            "0.5416666666666666\n",
            "1.6957720588235292\n"
          ],
          "name": "stdout"
        }
      ]
    },
    {
      "cell_type": "markdown",
      "metadata": {
        "id": "sfbpQ9Jg3b2A"
      },
      "source": [
        "no MRI, TIGIT, LAG3"
      ]
    },
    {
      "cell_type": "code",
      "metadata": {
        "id": "2z9MYPHq3beF",
        "colab": {
          "base_uri": "https://localhost:8080/"
        },
        "outputId": "5ea88b86-b1f5-4561-ccef-0d4d13c2636b"
      },
      "source": [
        "from sklearn.metrics import confusion_matrix\n",
        "\n",
        "logisticRegrDF = LogisticRegression(max_iter = 4000,random_state=const_seed)\n",
        "predictor_var1 = ['TIM3_RQ', 'age_at_diagnosis', 'primary_EDSS_at_diagnosis', 'Lymph_Cells','PMN_Cells','Cells','gender_M','oligoclonal_band_POS']\n",
        "outcome_var = 'diagnosis_SPMS'\n",
        "tn, fp, fn, tp = calcCrossValidation_Matrix(logisticRegrDF, df_Livnat_all_patients, predictor_var1, outcome_var)\n",
        "print(calc_specificity(tn, fp, fn, tp))\n",
        "print(calc_sensitivity(tn, fp, fn, tp))\n",
        "randomForestRegr = RandomForestRegressor(n_estimators = 10, random_state = const_seed)\n",
        "predictor_rmse = ['TIM3_RQ', 'age_at_diagnosis', 'primary_EDSS_at_diagnosis', 'Lymph_Cells','PMN_Cells','Cells','gender_M','oligoclonal_band_POS']\n",
        "outcome_rmse = 'EDSS_post_10_years'\n",
        "rmse = calcCrossValidation_RMSE(randomForestRegr, df_Livnat_all_patients, predictor_rmse, outcome_rmse)\n",
        "print(rmse)"
      ],
      "execution_count": null,
      "outputs": [
        {
          "output_type": "stream",
          "text": [
            "0.8863636363636364\n",
            "0.6041666666666666\n",
            "1.484742647058824\n"
          ],
          "name": "stdout"
        }
      ]
    },
    {
      "cell_type": "code",
      "metadata": {
        "id": "Jq3dITTN3bJK",
        "colab": {
          "base_uri": "https://localhost:8080/"
        },
        "outputId": "2a371073-94a9-4ad1-e1ef-de56c6558108"
      },
      "source": [
        "from sklearn.metrics import confusion_matrix\n",
        "\n",
        "rf = RandomForestClassifier(n_estimators=25, min_samples_split=9, max_depth=15, max_features='auto',random_state=const_seed)\n",
        "predictor_var1 = ['TIM3_RQ', 'age_at_diagnosis', 'primary_EDSS_at_diagnosis', 'Lymph_Cells','PMN_Cells','Cells','gender_M','oligoclonal_band_POS']\n",
        "outcome_var = 'diagnosis_SPMS'\n",
        "tn, fp, fn, tp = calcCrossValidation_Matrix(rf, df_Livnat_all_patients, predictor_var1, outcome_var)\n",
        "print(calc_specificity(tn, fp, fn, tp))\n",
        "print(calc_sensitivity(tn, fp, fn, tp))\n",
        "randomForestRegr = RandomForestRegressor(n_estimators = 10, random_state = const_seed)\n",
        "predictor_rmse = ['TIM3_RQ', 'age_at_diagnosis', 'primary_EDSS_at_diagnosis', 'Lymph_Cells','PMN_Cells','Cells','gender_M','oligoclonal_band_POS']\n",
        "outcome_rmse = 'EDSS_post_10_years'\n",
        "rmse = calcCrossValidation_RMSE(randomForestRegr, df_Livnat_all_patients, predictor_rmse, outcome_rmse)\n",
        "print(rmse)"
      ],
      "execution_count": null,
      "outputs": [
        {
          "output_type": "stream",
          "text": [
            "0.8863636363636364\n",
            "0.6875\n",
            "1.484742647058824\n"
          ],
          "name": "stdout"
        }
      ]
    }
  ]
}