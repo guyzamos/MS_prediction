{
  "nbformat": 4,
  "nbformat_minor": 0,
  "metadata": {
    "colab": {
      "name": "MS project Livnat untreated patients only experiments specifity sensitivity.ipynb",
      "provenance": [],
      "collapsed_sections": [
        "Faxl1El1BRD6"
      ]
    },
    "kernelspec": {
      "name": "python3",
      "display_name": "Python 3"
    }
  },
  "cells": [
    {
      "cell_type": "markdown",
      "metadata": {
        "id": "M6tv6Y_weQ8z"
      },
      "source": [
        "import all the relevant libraries"
      ]
    },
    {
      "cell_type": "code",
      "metadata": {
        "id": "-z7hXJSeptCa"
      },
      "source": [
        "import pandas as pd\n",
        "import numpy as np\n",
        "import matplotlib.pyplot as plt\n",
        "import statistics as stats\n",
        "import io\n",
        "from sklearn.metrics import mean_squared_error\n",
        "from math import sqrt\n",
        "from sklearn.preprocessing import LabelEncoder\n",
        "from sklearn.model_selection import KFold\n",
        "from sklearn.ensemble import RandomForestRegressor\n",
        "from sklearn.ensemble import RandomForestClassifier\n",
        "from sklearn.linear_model import LogisticRegression, LinearRegression\n",
        "from sklearn import metrics\n",
        "from sklearn.model_selection import train_test_split\n"
      ],
      "execution_count": null,
      "outputs": []
    },
    {
      "cell_type": "markdown",
      "metadata": {
        "id": "ugA1NC9JIkaQ"
      },
      "source": [
        "upload the db file"
      ]
    },
    {
      "cell_type": "code",
      "metadata": {
        "id": "tTM3VXFdxXAg",
        "colab": {
          "base_uri": "https://localhost:8080/"
        },
        "outputId": "888c4984-d531-4487-c197-4d27cc018909"
      },
      "source": [
        "\n",
        "from google.colab import drive \n",
        "drive.mount('/content/gdrive')"
      ],
      "execution_count": null,
      "outputs": [
        {
          "output_type": "stream",
          "text": [
            "Drive already mounted at /content/gdrive; to attempt to forcibly remount, call drive.mount(\"/content/gdrive\", force_remount=True).\n"
          ],
          "name": "stdout"
        }
      ]
    },
    {
      "cell_type": "code",
      "metadata": {
        "id": "qxFu0jcL-D_c"
      },
      "source": [
        "#pd.set_option('display.max_columns', None)\n",
        "#pd.set_option('display.max_rows', None)"
      ],
      "execution_count": null,
      "outputs": []
    },
    {
      "cell_type": "markdown",
      "metadata": {
        "id": "t8hh77yJI_Vb"
      },
      "source": [
        "#**helper functions**"
      ]
    },
    {
      "cell_type": "code",
      "metadata": {
        "id": "7ueuF8gWhLXz"
      },
      "source": [
        "def calcCrossValidation_RMSE(model, df, predictors, outcome):\n",
        "\n",
        "\n",
        "  # Perform k-fold cross-validation with 10 folds\n",
        "  kf = KFold(n_splits=df.shape[0])\n",
        "  accuracy = []\n",
        "  total_RMSE=0\n",
        "  for train, test in kf.split(df):\n",
        "      # print(train)\n",
        "      # Filter training data\n",
        "      train_predictors = (df[predictors].iloc[train, :])\n",
        "      # The target we're using to train the algorithm.\n",
        "      train_target = df[outcome].iloc[train]\n",
        "      test_predictors = (df[predictors].iloc[test, :])\n",
        "      # print(train_predictors)\n",
        "\n",
        "      # The target we're using to train the algorithm.\n",
        "      test_target = df[outcome].iloc[test]\n",
        "\n",
        "      # Training the algorithm using the predictors and target.\n",
        "      # print(train_target)\n",
        "      model.fit(train_predictors, train_target)\n",
        "      predictions = model.predict(test_predictors)\n",
        "      # print(predictions)\n",
        "      rmse = sqrt(mean_squared_error(test_target, predictions))  \n",
        "      # print(rmse)\n",
        "      total_RMSE += rmse\n",
        "\n",
        "  return total_RMSE/df.shape[0]\n",
        "  # return 0"
      ],
      "execution_count": null,
      "outputs": []
    },
    {
      "cell_type": "code",
      "metadata": {
        "id": "ZmZIcqibsCHW"
      },
      "source": [
        "def calcCrossValidation_Matrix(model, df, predictors, outcome):\n",
        "\n",
        "  total_tp = 0\n",
        "  total_tn = 0\n",
        "  total_fp = 0\n",
        "  total_fn = 0\n",
        "\n",
        "  # Perform k-fold cross-validation with 10 folds\n",
        "  kf = KFold(n_splits=df.shape[0])\n",
        "  accuracy = []\n",
        "  for train, test in kf.split(df):\n",
        "      # print(\"1\")\n",
        "\n",
        "      # Filter training data\n",
        "      train_predictors = (df[predictors].iloc[train, :])\n",
        "      # The target we're using to train the algorithm.\n",
        "      train_target = df[outcome].iloc[train]\n",
        "      # print(\"1\")\n",
        "\n",
        "      test_predictors = (df[predictors].iloc[test, :])\n",
        "      # The target we're using to train the algorithm.\n",
        "      test_target = df[outcome].iloc[test]\n",
        "      # print(\"1\")\n",
        "\n",
        "\n",
        "      # Training the algorithm using the predictors and target.\n",
        "      model.fit(train_predictors, train_target)\n",
        "      predictions = model.predict(test_predictors)\n",
        "      # cm = confusion_matrix(test_target, predictions)\n",
        "      # print(cm)\n",
        "      # print(\"1\")\n",
        "      # print(\"test_target\")\n",
        "      test_target = test_target.to_numpy()\n",
        "      # print(test_target)\n",
        "      # np.array(df[outcome].values.tolist())\n",
        "      # print(type(test_target))\n",
        "      # print(\"predictions\")\n",
        "      # print(predictions)\n",
        "      # print(type(predictions))\n",
        "\n",
        "      tn, fp, fn, tp = perf_measure(test_target, predictions)\n",
        "      # print(\"1\")\n",
        "\n",
        "      total_tp += tp\n",
        "      total_tn += tn\n",
        "      total_fp += fp\n",
        "      total_fn += fn\n",
        "\n",
        "  # print(total_tn, total_fp, total_fn, total_tp)\n",
        "  return total_tn, total_fp, total_fn, total_tp "
      ],
      "execution_count": null,
      "outputs": []
    },
    {
      "cell_type": "code",
      "metadata": {
        "id": "QmkOlEBaYWIh"
      },
      "source": [
        "def perf_measure(y_actual, y_hat):\n",
        "    TP = 0\n",
        "    FP = 0\n",
        "    TN = 0\n",
        "    FN = 0\n",
        "\n",
        "    for i in range(len(y_hat)): \n",
        "        if y_actual[i]==y_hat[i]==1:\n",
        "           TP += 1\n",
        "        if y_hat[i]==1 and y_actual[i]!=y_hat[i]:\n",
        "           FP += 1\n",
        "        if y_actual[i]==y_hat[i]==0:\n",
        "           TN += 1\n",
        "        if y_hat[i]==0 and y_actual[i]!=y_hat[i]:\n",
        "           FN += 1\n",
        "    # print(TN, FP, FN, TP)\n",
        "    return(TN, FP, FN, TP)"
      ],
      "execution_count": null,
      "outputs": []
    },
    {
      "cell_type": "code",
      "metadata": {
        "id": "0n-dU50HohOo"
      },
      "source": [
        "def calc_specificity(tn, fp, fn, tp):\n",
        "  return tn / (tn +fp)"
      ],
      "execution_count": null,
      "outputs": []
    },
    {
      "cell_type": "code",
      "metadata": {
        "id": "RqfyFAOYpXdx"
      },
      "source": [
        "def calc_sensitivity(tn, fp, fn, tp):\n",
        "  return tp / (tp +fn)"
      ],
      "execution_count": null,
      "outputs": []
    },
    {
      "cell_type": "markdown",
      "metadata": {
        "id": "kONVN8n2-M1O"
      },
      "source": [
        "new function Shira"
      ]
    },
    {
      "cell_type": "code",
      "metadata": {
        "id": "pNWGg2MS-zel"
      },
      "source": [
        "df_experiments = pd.DataFrame(columns=['model','missing values','specificity', 'sensitivity', 'RMSE']) "
      ],
      "execution_count": null,
      "outputs": []
    },
    {
      "cell_type": "code",
      "metadata": {
        "id": "m5wCi8Yd-OR7"
      },
      "source": [
        "def update_experiments_first(df, outcome_var, model_type, all_features, missing_values):\n",
        "  for value in missing_values:\n",
        "    all_features.remove(value)\n",
        "  predictor_var = all_features\n",
        "  if (model_type=='RandomForestClassifier'):\n",
        "    model = RandomForestClassifier(n_estimators=25, min_samples_split=9, max_depth=15, max_features='auto',random_state=const_seed)\n",
        "  # elif (model_type=='LogisticRegression'):\n",
        "  add_sensitivity_specifity(model, df, predictor_var, outcome_var, model_type, missing_values)"
      ],
      "execution_count": null,
      "outputs": []
    },
    {
      "cell_type": "code",
      "metadata": {
        "id": "lr1X_nEMDkuv"
      },
      "source": [
        "def add_sensitivity_specifity(model, df, predictor_var, outcome_var, model_type, missing_values):\n",
        "  tn, fp, fn, tp = calcCrossValidation_Matrix(model, df, predictor_var, outcome_var)\n",
        "  specificity = calc_specificity(tn, fp, fn, tp)\n",
        "  sensitivity = calc_sensitivity(tn, fp, fn, tp)\n",
        "  specifity_sensitivity_list = [specificity, sensitivity]\n",
        "  update_results(specifity_sensitivity_list, missing_values, model_type)"
      ],
      "execution_count": null,
      "outputs": []
    },
    {
      "cell_type": "code",
      "metadata": {
        "id": "zvmm94N_JE5S"
      },
      "source": [
        "def update_results(results_list, missing_values, model_type):\n",
        "  # df_experiments = pd.DataFrame(columns=['model','missing values','specificity', 'sensitivity', 'RMSE']) \n",
        "  # df_experiments = pd.DataFrame(['model','missing values','specificity', 'sensitivity', 'RMSE']) \n",
        "  if (len(results_list)==2):\n",
        "    new_record = {'model': model_type,'missing values': missing_values,'specificity': results_list[0], 'sensitivity':results_list[1]}\n",
        "  else:\n",
        "    new_record = {'model': model_type,'missing values': missing_values,'specificity': results_list[0], 'sensitivity':results_list[1], 'RMSE':results_list[2]}\n",
        "  df_experiments = df_experiments.append(new_record, ignore_index=True)\n",
        "  print(df_experiments)\n",
        "  # return df_experiments\n"
      ],
      "execution_count": null,
      "outputs": []
    },
    {
      "cell_type": "markdown",
      "metadata": {
        "id": "mCmPCJLQjTMP"
      },
      "source": [
        "\n",
        "#**all untreated**"
      ]
    },
    {
      "cell_type": "code",
      "metadata": {
        "id": "FGlZFb_oAqVj"
      },
      "source": [
        "const_seed = 42"
      ],
      "execution_count": null,
      "outputs": []
    },
    {
      "cell_type": "code",
      "metadata": {
        "id": "ji-nN9tpxSGm"
      },
      "source": [
        "df_untreated = pd.read_pickle(\"/content/gdrive/My Drive/Colab Notebooks/MS_Notebooks/DF_only_untreated.pkl\")"
      ],
      "execution_count": null,
      "outputs": []
    },
    {
      "cell_type": "code",
      "metadata": {
        "id": "7jkAT3Ja63BH"
      },
      "source": [
        "df_untreated"
      ],
      "execution_count": null,
      "outputs": []
    },
    {
      "cell_type": "code",
      "metadata": {
        "id": "ibqfPzH4z9Q0"
      },
      "source": [
        "def min_max_normalize_features(dataframe, numeric_list):\n",
        "    for num_feature in numeric_list:\n",
        "        dataframe[num_feature] = (dataframe[num_feature] - dataframe[num_feature].min()) / (\n",
        "                dataframe[num_feature].max() - dataframe[num_feature].min())\n",
        "    return dataframe"
      ],
      "execution_count": null,
      "outputs": []
    },
    {
      "cell_type": "code",
      "metadata": {
        "id": "cHu-k3-E0bSG"
      },
      "source": [
        "numeric_features = ['TIM3_RQ', 'TIGIT_RQ','LAG3_RQ','age_at_diagnosis','MRI_lesion_mass','Lymph_Cells','PMN_Cells','Cells']\n",
        "df_untreated = min_max_normalize_features(df_untreated, numeric_features)\n",
        "df_untreated"
      ],
      "execution_count": null,
      "outputs": []
    },
    {
      "cell_type": "code",
      "metadata": {
        "id": "GyD-p5HZzSQ_"
      },
      "source": [
        "categorical_features = ['gender','oligoclonal_band','diagnosis']\n",
        "df_untreated = pd.get_dummies(df_untreated, columns=categorical_features, drop_first=True)\n",
        "df_untreated.drop(['treatment_when_sample_was_taken', 'sample_code'], axis='columns', inplace=True)\n",
        "\n"
      ],
      "execution_count": null,
      "outputs": []
    },
    {
      "cell_type": "code",
      "metadata": {
        "id": "t9kJXvTXAfI7",
        "colab": {
          "base_uri": "https://localhost:8080/"
        },
        "outputId": "8a64d4b5-d04c-4a87-8d17-8a0c75a547b8"
      },
      "source": [
        "df_untreated.columns.values"
      ],
      "execution_count": null,
      "outputs": [
        {
          "output_type": "execute_result",
          "data": {
            "text/plain": [
              "array(['TIM3_RQ', 'TIGIT_RQ', 'LAG3_RQ', 'age_at_diagnosis',\n",
              "       'primary_EDSS_at_diagnosis', '1_years_EDSS_from_sample_date',\n",
              "       '5_years_from_sample', 'EDSS_post_10_years', 'MRI_lesion_mass',\n",
              "       'Lymph_Cells', 'PMN_Cells', 'Cells', 'gender_M',\n",
              "       'oligoclonal_band_POS', 'diagnosis_SPMS'], dtype=object)"
            ]
          },
          "metadata": {
            "tags": []
          },
          "execution_count": 19
        }
      ]
    },
    {
      "cell_type": "markdown",
      "metadata": {
        "id": "UCDUgSXbMo5J"
      },
      "source": [
        "all features"
      ]
    },
    {
      "cell_type": "code",
      "metadata": {
        "id": "zISrNTfN3Sfr",
        "colab": {
          "base_uri": "https://localhost:8080/"
        },
        "outputId": "1fc760ea-303d-46ba-b190-e404dc357fe3"
      },
      "source": [
        "from sklearn.metrics import confusion_matrix\n",
        "\n",
        "logisticRegrDF = LogisticRegression(max_iter = 4000,random_state=const_seed)\n",
        "predictor_var1 = ['TIM3_RQ', 'TIGIT_RQ', 'LAG3_RQ','age_at_diagnosis', 'primary_EDSS_at_diagnosis', 'MRI_lesion_mass','Lymph_Cells','PMN_Cells','Cells','gender_M','oligoclonal_band_POS']\n",
        "outcome_var = 'diagnosis_SPMS'\n",
        "tn, fp, fn, tp = calcCrossValidation_Matrix(logisticRegrDF, df_untreated, predictor_var1, outcome_var)\n",
        "print(calc_specificity(tn, fp, fn, tp))\n",
        "print(calc_sensitivity(tn, fp, fn, tp))\n",
        "\n",
        "\n",
        "coefficients = pd.concat([pd.DataFrame(predictor_var1), pd.DataFrame(np.transpose(logisticRegrDF.coef_))], axis=1)\n",
        "coefficients.columns = ['feature_name', 'coefficient_val']\n",
        "coefficients = coefficients.sort_values(by=['coefficient_val'], ascending=False)\n",
        "coefficients.to_excel('coef_no_abs.xlsx')\n",
        "coefficients['coefficient_val'] = coefficients['coefficient_val'].abs()\n",
        "\n",
        "coefficients = coefficients.sort_values(by=['coefficient_val'], ascending=False)\n",
        "coefficients.to_excel('coef_abs.xlsx')\n",
        "\n",
        "print(coefficients)\n"
      ],
      "execution_count": null,
      "outputs": [
        {
          "output_type": "stream",
          "text": [
            "0.8714285714285714\n",
            "0.47058823529411764\n",
            "                 feature_name  coefficient_val\n",
            "0                     TIM3_RQ         1.381569\n",
            "4   primary_EDSS_at_diagnosis         0.884037\n",
            "9                    gender_M         0.725555\n",
            "5             MRI_lesion_mass         0.660757\n",
            "10       oligoclonal_band_POS         0.454942\n",
            "7                   PMN_Cells         0.431771\n",
            "3            age_at_diagnosis         0.365317\n",
            "6                 Lymph_Cells         0.339908\n",
            "2                     LAG3_RQ         0.259506\n",
            "8                       Cells         0.045944\n",
            "1                    TIGIT_RQ         0.043782\n"
          ],
          "name": "stdout"
        }
      ]
    },
    {
      "cell_type": "code",
      "metadata": {
        "id": "UHqyg_Tueaye",
        "colab": {
          "base_uri": "https://localhost:8080/"
        },
        "outputId": "717af3e6-5617-46d8-ae99-3591902649b6"
      },
      "source": [
        "rf = RandomForestClassifier(n_estimators=25, min_samples_split=9, max_depth=15, max_features='auto',random_state=const_seed)\n",
        "predictor_var1 = ['TIM3_RQ', 'TIGIT_RQ', 'LAG3_RQ','age_at_diagnosis', 'primary_EDSS_at_diagnosis', 'MRI_lesion_mass','Lymph_Cells','PMN_Cells','Cells','gender_M','oligoclonal_band_POS']\n",
        "outcome_var = 'diagnosis_SPMS'\n",
        "tn, fp, fn, tp = calcCrossValidation_Matrix(rf, df_untreated, predictor_var1, outcome_var)\n",
        "print(calc_specificity(tn, fp, fn, tp))\n",
        "print(calc_sensitivity(tn, fp, fn, tp))\n",
        "importances = rf.feature_importances_\n",
        "importances"
      ],
      "execution_count": null,
      "outputs": [
        {
          "output_type": "stream",
          "text": [
            "0.9142857142857143\n",
            "0.38235294117647056\n"
          ],
          "name": "stdout"
        },
        {
          "output_type": "execute_result",
          "data": {
            "text/plain": [
              "array([0.11830236, 0.09396613, 0.09497382, 0.18161032, 0.24306953,\n",
              "       0.13928189, 0.00983947, 0.0321862 , 0.04475534, 0.02766252,\n",
              "       0.01435243])"
            ]
          },
          "metadata": {
            "tags": []
          },
          "execution_count": 21
        }
      ]
    },
    {
      "cell_type": "markdown",
      "metadata": {
        "id": "pFcepoDqUa4g"
      },
      "source": [
        "** new ** NO - TIGIT, LAg3, PD-1, Cells in CSF "
      ]
    },
    {
      "cell_type": "code",
      "metadata": {
        "id": "L95veQYmVawp",
        "colab": {
          "base_uri": "https://localhost:8080/"
        },
        "outputId": "38fa10ed-cf6d-44d9-abea-33536893ef4c"
      },
      "source": [
        "rf = RandomForestClassifier(n_estimators=25, min_samples_split=9, max_depth=15, max_features='auto',random_state=const_seed)\n",
        "predictor_var = ['TIM3_RQ','age_at_diagnosis', 'primary_EDSS_at_diagnosis', 'MRI_lesion_mass','gender_M','oligoclonal_band_POS']\n",
        "outcome_var = 'diagnosis_SPMS'\n",
        "\n",
        "\n",
        "tn, fp, fn, tp = calcCrossValidation_Matrix(rf, df_untreated, predictor_var, outcome_var)\n",
        "print(calc_specificity(tn, fp, fn, tp))\n",
        "print(calc_sensitivity(tn, fp, fn, tp))\n",
        "importances = rf.feature_importances_\n",
        "importances\n",
        "\n"
      ],
      "execution_count": null,
      "outputs": [
        {
          "output_type": "stream",
          "text": [
            "0.8571428571428571\n",
            "0.5588235294117647\n"
          ],
          "name": "stdout"
        },
        {
          "output_type": "execute_result",
          "data": {
            "text/plain": [
              "array([0.26392673, 0.2136695 , 0.30500617, 0.17771591, 0.01704241,\n",
              "       0.02263928])"
            ]
          },
          "metadata": {
            "tags": []
          },
          "execution_count": 22
        }
      ]
    },
    {
      "cell_type": "code",
      "metadata": {
        "id": "rfbmDur9ZEt5",
        "colab": {
          "base_uri": "https://localhost:8080/"
        },
        "outputId": "bb30bfd3-9910-49a1-d1a0-b254e2557950"
      },
      "source": [
        "\n",
        "logisticRegrDF = LogisticRegression(max_iter = 4000,random_state=const_seed)\n",
        "tn, fp, fn, tp = calcCrossValidation_Matrix(logisticRegrDF, df_untreated, predictor_var, outcome_var)\n",
        "print(calc_specificity(tn, fp, fn, tp))\n",
        "print(calc_sensitivity(tn, fp, fn, tp))\n",
        "\n",
        "\n",
        "coefficients = pd.concat([pd.DataFrame(predictor_var), pd.DataFrame(np.transpose(logisticRegrDF.coef_))], axis=1)\n",
        "coefficients.columns = ['feature_name', 'coefficient_val']\n",
        "coefficients = coefficients.sort_values(by=['coefficient_val'], ascending=False)\n",
        "coefficients.to_excel('coef_no_abs.xlsx')\n",
        "coefficients['coefficient_val'] = coefficients['coefficient_val'].abs()\n",
        "\n",
        "coefficients = coefficients.sort_values(by=['coefficient_val'], ascending=False)\n",
        "coefficients.to_excel('coef_abs.xlsx')\n",
        "\n",
        "print(coefficients)"
      ],
      "execution_count": null,
      "outputs": [
        {
          "output_type": "stream",
          "text": [
            "0.8857142857142857\n",
            "0.47058823529411764\n",
            "                feature_name  coefficient_val\n",
            "0                    TIM3_RQ         1.394222\n",
            "2  primary_EDSS_at_diagnosis         0.881592\n",
            "4                   gender_M         0.728825\n",
            "3            MRI_lesion_mass         0.656682\n",
            "5       oligoclonal_band_POS         0.444508\n",
            "1           age_at_diagnosis         0.362760\n"
          ],
          "name": "stdout"
        }
      ]
    },
    {
      "cell_type": "markdown",
      "metadata": {
        "id": "6J9p7LhpX5AL"
      },
      "source": [
        "** new ** top 7 combination"
      ]
    },
    {
      "cell_type": "code",
      "metadata": {
        "id": "vUoAhmJ1abV5"
      },
      "source": [
        "predictor_var = ['PMN_Cells', 'TIM3_RQ','age_at_diagnosis', 'primary_EDSS_at_diagnosis', 'MRI_lesion_mass','gender_M','oligoclonal_band_POS']\n",
        "outcome_var = 'diagnosis_SPMS'"
      ],
      "execution_count": null,
      "outputs": []
    },
    {
      "cell_type": "code",
      "metadata": {
        "id": "swQ2BRiXX8-3",
        "colab": {
          "base_uri": "https://localhost:8080/"
        },
        "outputId": "0b8ac40c-07ec-4e62-cdad-697715865b81"
      },
      "source": [
        "rf = RandomForestClassifier(n_estimators=25, min_samples_split=9, max_depth=15, max_features='auto',random_state=const_seed)\n",
        "\n",
        "tn, fp, fn, tp = calcCrossValidation_Matrix(rf, df_untreated, predictor_var, outcome_var)\n",
        "print(calc_specificity(tn, fp, fn, tp))\n",
        "print(calc_sensitivity(tn, fp, fn, tp))\n",
        "importances = rf.feature_importances_\n",
        "importances\n",
        "\n"
      ],
      "execution_count": null,
      "outputs": [
        {
          "output_type": "stream",
          "text": [
            "0.8714285714285714\n",
            "0.5294117647058824\n"
          ],
          "name": "stdout"
        },
        {
          "output_type": "execute_result",
          "data": {
            "text/plain": [
              "array([0.02621432, 0.24444123, 0.20383393, 0.28826469, 0.1759557 ,\n",
              "       0.03472829, 0.02656184])"
            ]
          },
          "metadata": {
            "tags": []
          },
          "execution_count": 25
        }
      ]
    },
    {
      "cell_type": "code",
      "metadata": {
        "id": "VRY4Igg_akK0",
        "colab": {
          "base_uri": "https://localhost:8080/"
        },
        "outputId": "60c026ff-5c90-4ca1-c554-95f7ddd81ac9"
      },
      "source": [
        "\n",
        "logisticRegrDF = LogisticRegression(max_iter = 4000,random_state=const_seed)\n",
        "tn, fp, fn, tp = calcCrossValidation_Matrix(logisticRegrDF, df_untreated, predictor_var, outcome_var)\n",
        "print(calc_specificity(tn, fp, fn, tp))\n",
        "print(calc_sensitivity(tn, fp, fn, tp))\n",
        "\n",
        "\n",
        "coefficients = pd.concat([pd.DataFrame(predictor_var), pd.DataFrame(np.transpose(logisticRegrDF.coef_))], axis=1)\n",
        "coefficients.columns = ['feature_name', 'coefficient_val']\n",
        "coefficients = coefficients.sort_values(by=['coefficient_val'], ascending=False)\n",
        "coefficients.to_excel('coef_no_abs.xlsx')\n",
        "coefficients['coefficient_val'] = coefficients['coefficient_val'].abs()\n",
        "\n",
        "coefficients = coefficients.sort_values(by=['coefficient_val'], ascending=False)\n",
        "coefficients.to_excel('coef_abs.xlsx')\n",
        "\n",
        "print(coefficients)\n"
      ],
      "execution_count": null,
      "outputs": [
        {
          "output_type": "stream",
          "text": [
            "0.8857142857142857\n",
            "0.4411764705882353\n",
            "                feature_name  coefficient_val\n",
            "1                    TIM3_RQ         1.406916\n",
            "3  primary_EDSS_at_diagnosis         0.877842\n",
            "5                   gender_M         0.731453\n",
            "4            MRI_lesion_mass         0.664858\n",
            "0                  PMN_Cells         0.440652\n",
            "6       oligoclonal_band_POS         0.437463\n",
            "2           age_at_diagnosis         0.365001\n"
          ],
          "name": "stdout"
        }
      ]
    },
    {
      "cell_type": "markdown",
      "metadata": {
        "id": "XvUq3hHyMrAy"
      },
      "source": [
        "no genes"
      ]
    },
    {
      "cell_type": "code",
      "metadata": {
        "id": "YO03kv6QMPhT",
        "colab": {
          "base_uri": "https://localhost:8080/"
        },
        "outputId": "7bbfdeab-b4a6-44f2-c577-a378f4ae2881"
      },
      "source": [
        "from sklearn.metrics import confusion_matrix\n",
        "\n",
        "logisticRegrDF = LogisticRegression(max_iter = 4000,random_state=const_seed)\n",
        "predictor_var1 = ['age_at_diagnosis', 'primary_EDSS_at_diagnosis', 'MRI_lesion_mass','Lymph_Cells','PMN_Cells','Cells','gender_M','oligoclonal_band_POS']\n",
        "outcome_var = 'diagnosis_SPMS'\n",
        "tn, fp, fn, tp = calcCrossValidation_Matrix(logisticRegrDF, df_untreated, predictor_var1, outcome_var)\n",
        "print(calc_specificity(tn, fp, fn, tp))\n",
        "print(calc_sensitivity(tn, fp, fn, tp))\n",
        "\n",
        "\n",
        "coefficients = pd.concat([pd.DataFrame(predictor_var1), pd.DataFrame(np.transpose(logisticRegrDF.coef_))], axis=1)\n",
        "coefficients.columns = ['feature_name', 'coefficient_val']\n",
        "coefficients = coefficients.sort_values(by=['coefficient_val'], ascending=False)\n",
        "coefficients.to_excel('coef_no_abs.xlsx')\n",
        "coefficients['coefficient_val'] = coefficients['coefficient_val'].abs()\n",
        "\n",
        "coefficients = coefficients.sort_values(by=['coefficient_val'], ascending=False)\n",
        "coefficients.to_excel('coef_abs.xlsx')\n",
        "\n",
        "print(coefficients)"
      ],
      "execution_count": null,
      "outputs": [
        {
          "output_type": "stream",
          "text": [
            "0.8714285714285714\n",
            "0.47058823529411764\n",
            "                feature_name  coefficient_val\n",
            "1  primary_EDSS_at_diagnosis         0.876481\n",
            "6                   gender_M         0.753126\n",
            "2            MRI_lesion_mass         0.669394\n",
            "7       oligoclonal_band_POS         0.435083\n",
            "4                  PMN_Cells         0.398075\n",
            "3                Lymph_Cells         0.352764\n",
            "0           age_at_diagnosis         0.351972\n",
            "5                      Cells         0.054754\n"
          ],
          "name": "stdout"
        }
      ]
    },
    {
      "cell_type": "code",
      "metadata": {
        "id": "YdACYxsIMcwc",
        "colab": {
          "base_uri": "https://localhost:8080/"
        },
        "outputId": "3dcdb3ca-ee79-4137-eca2-a41b88f9b317"
      },
      "source": [
        "from sklearn.metrics import confusion_matrix\n",
        "\n",
        "rf = RandomForestClassifier(n_estimators=25, min_samples_split=9, max_depth=15, max_features='auto',random_state=const_seed)\n",
        "predictor_var1 = ['age_at_diagnosis', 'primary_EDSS_at_diagnosis', 'MRI_lesion_mass','Lymph_Cells','PMN_Cells','Cells','gender_M','oligoclonal_band_POS']\n",
        "outcome_var = 'diagnosis_SPMS'\n",
        "tn, fp, fn, tp = calcCrossValidation_Matrix(rf, df_untreated, predictor_var1, outcome_var)\n",
        "print(calc_specificity(tn, fp, fn, tp))\n",
        "print(calc_sensitivity(tn, fp, fn, tp))"
      ],
      "execution_count": null,
      "outputs": [
        {
          "output_type": "stream",
          "text": [
            "0.8285714285714286\n",
            "0.47058823529411764\n"
          ],
          "name": "stdout"
        }
      ]
    },
    {
      "cell_type": "markdown",
      "metadata": {
        "id": "OPAnJHWDMs15"
      },
      "source": [
        "no TIM3"
      ]
    },
    {
      "cell_type": "code",
      "metadata": {
        "id": "SEn1xbC1Mj2U",
        "colab": {
          "base_uri": "https://localhost:8080/"
        },
        "outputId": "4a93f1c1-4e5b-4278-80d9-14137e167705"
      },
      "source": [
        "from sklearn.metrics import confusion_matrix\n",
        "\n",
        "logisticRegrDF = LogisticRegression(max_iter = 4000,random_state=const_seed)\n",
        "predictor_var1 = ['TIGIT_RQ', 'LAG3_RQ','age_at_diagnosis', 'primary_EDSS_at_diagnosis', 'MRI_lesion_mass','Lymph_Cells','PMN_Cells','Cells','gender_M','oligoclonal_band_POS']\n",
        "outcome_var = 'diagnosis_SPMS'\n",
        "tn, fp, fn, tp = calcCrossValidation_Matrix(logisticRegrDF, df_untreated, predictor_var1, outcome_var)\n",
        "print(calc_specificity(tn, fp, fn, tp))\n",
        "print(calc_sensitivity(tn, fp, fn, tp))\n"
      ],
      "execution_count": null,
      "outputs": [
        {
          "output_type": "stream",
          "text": [
            "0.8857142857142857\n",
            "0.4411764705882353\n"
          ],
          "name": "stdout"
        }
      ]
    },
    {
      "cell_type": "code",
      "metadata": {
        "id": "Gd6wyEHoMxa-",
        "colab": {
          "base_uri": "https://localhost:8080/"
        },
        "outputId": "766b458c-1a37-41b7-9287-b5505cee225a"
      },
      "source": [
        "from sklearn.metrics import confusion_matrix\n",
        "\n",
        "rf = RandomForestClassifier(n_estimators=25, min_samples_split=9, max_depth=15, max_features='auto',random_state=const_seed)\n",
        "predictor_var1 = ['TIGIT_RQ', 'LAG3_RQ','age_at_diagnosis', 'primary_EDSS_at_diagnosis', 'MRI_lesion_mass','Lymph_Cells','PMN_Cells','Cells','gender_M','oligoclonal_band_POS']\n",
        "outcome_var = 'diagnosis_SPMS'\n",
        "tn, fp, fn, tp = calcCrossValidation_Matrix(rf, df_untreated, predictor_var1, outcome_var)\n",
        "print(calc_specificity(tn, fp, fn, tp))\n",
        "print(calc_sensitivity(tn, fp, fn, tp))"
      ],
      "execution_count": null,
      "outputs": [
        {
          "output_type": "stream",
          "text": [
            "0.9142857142857143\n",
            "0.3235294117647059\n"
          ],
          "name": "stdout"
        }
      ]
    },
    {
      "cell_type": "markdown",
      "metadata": {
        "id": "LJOvAqKzM50E"
      },
      "source": [
        "no TIGIT_RQ"
      ]
    },
    {
      "cell_type": "code",
      "metadata": {
        "id": "zzsTulskM5FN",
        "colab": {
          "base_uri": "https://localhost:8080/"
        },
        "outputId": "b8a097bc-ad99-4e5c-8765-1c176e6857f6"
      },
      "source": [
        "from sklearn.metrics import confusion_matrix\n",
        "\n",
        "logisticRegrDF = LogisticRegression(max_iter = 4000,random_state=const_seed)\n",
        "predictor_var1 = ['TIM3_RQ', 'LAG3_RQ','age_at_diagnosis', 'primary_EDSS_at_diagnosis', 'MRI_lesion_mass','Lymph_Cells','PMN_Cells','Cells','gender_M','oligoclonal_band_POS']\n",
        "outcome_var = 'diagnosis_SPMS'\n",
        "tn, fp, fn, tp = calcCrossValidation_Matrix(logisticRegrDF, df_untreated, predictor_var1, outcome_var)\n",
        "print(calc_specificity(tn, fp, fn, tp))\n",
        "print(calc_sensitivity(tn, fp, fn, tp))"
      ],
      "execution_count": null,
      "outputs": [
        {
          "output_type": "stream",
          "text": [
            "0.8714285714285714\n",
            "0.47058823529411764\n"
          ],
          "name": "stdout"
        }
      ]
    },
    {
      "cell_type": "code",
      "metadata": {
        "id": "qTmbplGHNkTM",
        "colab": {
          "base_uri": "https://localhost:8080/"
        },
        "outputId": "13073f9d-537c-4c68-bb35-3e3a8bc02b7f"
      },
      "source": [
        "from sklearn.metrics import confusion_matrix\n",
        "\n",
        "rf = RandomForestClassifier(n_estimators=25, min_samples_split=9, max_depth=15, max_features='auto',random_state=const_seed)\n",
        "predictor_var1 = ['TIM3_RQ', 'LAG3_RQ','age_at_diagnosis', 'primary_EDSS_at_diagnosis', 'MRI_lesion_mass','Lymph_Cells','PMN_Cells','Cells','gender_M','oligoclonal_band_POS']\n",
        "outcome_var = 'diagnosis_SPMS'\n",
        "tn, fp, fn, tp = calcCrossValidation_Matrix(rf, df_untreated, predictor_var1, outcome_var)\n",
        "print(calc_specificity(tn, fp, fn, tp))\n",
        "print(calc_sensitivity(tn, fp, fn, tp))"
      ],
      "execution_count": null,
      "outputs": [
        {
          "output_type": "stream",
          "text": [
            "0.9\n",
            "0.38235294117647056\n"
          ],
          "name": "stdout"
        }
      ]
    },
    {
      "cell_type": "markdown",
      "metadata": {
        "id": "gY7ZWfvyNsDU"
      },
      "source": [
        "no LAG3"
      ]
    },
    {
      "cell_type": "code",
      "metadata": {
        "id": "ZgvatthZNu0H",
        "colab": {
          "base_uri": "https://localhost:8080/"
        },
        "outputId": "fe7cfb07-6642-4a8d-c810-13fa45f4722a"
      },
      "source": [
        "from sklearn.metrics import confusion_matrix\n",
        "\n",
        "logisticRegrDF = LogisticRegression(max_iter = 4000,random_state=const_seed)\n",
        "predictor_var1 = ['TIM3_RQ', 'TIGIT_RQ', 'age_at_diagnosis', 'primary_EDSS_at_diagnosis', 'MRI_lesion_mass','Lymph_Cells','PMN_Cells','Cells','gender_M','oligoclonal_band_POS']\n",
        "outcome_var = 'diagnosis_SPMS'\n",
        "tn, fp, fn, tp = calcCrossValidation_Matrix(logisticRegrDF, df_untreated, predictor_var1, outcome_var)\n",
        "print(calc_specificity(tn, fp, fn, tp))\n",
        "print(calc_sensitivity(tn, fp, fn, tp))"
      ],
      "execution_count": null,
      "outputs": [
        {
          "output_type": "stream",
          "text": [
            "0.8714285714285714\n",
            "0.47058823529411764\n"
          ],
          "name": "stdout"
        }
      ]
    },
    {
      "cell_type": "code",
      "metadata": {
        "id": "ORbYO1TBNw1T",
        "colab": {
          "base_uri": "https://localhost:8080/"
        },
        "outputId": "b93db722-1f4c-4481-b40a-634fbad10591"
      },
      "source": [
        "from sklearn.metrics import confusion_matrix\n",
        "\n",
        "rf = RandomForestClassifier(n_estimators=25, min_samples_split=9, max_depth=15, max_features='auto',random_state=const_seed)\n",
        "predictor_var1 = ['TIM3_RQ', 'TIGIT_RQ','age_at_diagnosis', 'primary_EDSS_at_diagnosis', 'MRI_lesion_mass','Lymph_Cells','PMN_Cells','Cells','gender_M','oligoclonal_band_POS']\n",
        "outcome_var = 'diagnosis_SPMS'\n",
        "tn, fp, fn, tp = calcCrossValidation_Matrix(rf, df_untreated, predictor_var1, outcome_var)\n",
        "print(calc_specificity(tn, fp, fn, tp))\n",
        "print(calc_sensitivity(tn, fp, fn, tp))"
      ],
      "execution_count": null,
      "outputs": [
        {
          "output_type": "stream",
          "text": [
            "0.8571428571428571\n",
            "0.4411764705882353\n"
          ],
          "name": "stdout"
        }
      ]
    },
    {
      "cell_type": "markdown",
      "metadata": {
        "id": "IkyIoL4eSEB-"
      },
      "source": [
        "no TIM3 and LAG3"
      ]
    },
    {
      "cell_type": "code",
      "metadata": {
        "id": "_tTgCYmFSEB_",
        "colab": {
          "base_uri": "https://localhost:8080/"
        },
        "outputId": "fd114cdd-10a1-413e-844e-b81570a44293"
      },
      "source": [
        "from sklearn.metrics import confusion_matrix\n",
        "\n",
        "logisticRegrDF = LogisticRegression(max_iter = 4000,random_state=const_seed)\n",
        "predictor_var1 = ['TIGIT_RQ','age_at_diagnosis', 'primary_EDSS_at_diagnosis', 'MRI_lesion_mass','Lymph_Cells','PMN_Cells','Cells','gender_M','oligoclonal_band_POS']\n",
        "outcome_var = 'diagnosis_SPMS'\n",
        "tn, fp, fn, tp = calcCrossValidation_Matrix(logisticRegrDF, df_untreated, predictor_var1, outcome_var)\n",
        "print(calc_specificity(tn, fp, fn, tp))\n",
        "print(calc_sensitivity(tn, fp, fn, tp))\n"
      ],
      "execution_count": null,
      "outputs": [
        {
          "output_type": "stream",
          "text": [
            "0.8714285714285714\n",
            "0.47058823529411764\n"
          ],
          "name": "stdout"
        }
      ]
    },
    {
      "cell_type": "code",
      "metadata": {
        "id": "CyfRcIVsSECB",
        "colab": {
          "base_uri": "https://localhost:8080/"
        },
        "outputId": "7d84f5da-7560-4499-e405-0f262ffb1376"
      },
      "source": [
        "from sklearn.metrics import confusion_matrix\n",
        "\n",
        "rf = RandomForestClassifier(n_estimators=25, min_samples_split=9, max_depth=15, max_features='auto',random_state=const_seed)\n",
        "predictor_var1 = ['TIGIT_RQ','age_at_diagnosis', 'primary_EDSS_at_diagnosis', 'MRI_lesion_mass','Lymph_Cells','PMN_Cells','Cells','gender_M','oligoclonal_band_POS']\n",
        "outcome_var = 'diagnosis_SPMS'\n",
        "tn, fp, fn, tp = calcCrossValidation_Matrix(rf, df_untreated, predictor_var1, outcome_var)\n",
        "print(calc_specificity(tn, fp, fn, tp))\n",
        "print(calc_sensitivity(tn, fp, fn, tp))"
      ],
      "execution_count": null,
      "outputs": [
        {
          "output_type": "stream",
          "text": [
            "0.8857142857142857\n",
            "0.4117647058823529\n"
          ],
          "name": "stdout"
        }
      ]
    },
    {
      "cell_type": "markdown",
      "metadata": {
        "id": "00edSxJbSFFo"
      },
      "source": [
        "no TIM3 and TIGIT"
      ]
    },
    {
      "cell_type": "code",
      "metadata": {
        "id": "gqWIYareSFFp",
        "colab": {
          "base_uri": "https://localhost:8080/"
        },
        "outputId": "5a95bb1f-836a-4f21-e163-5d46e07c017d"
      },
      "source": [
        "from sklearn.metrics import confusion_matrix\n",
        "\n",
        "logisticRegrDF = LogisticRegression(max_iter = 4000,random_state=const_seed)\n",
        "predictor_var1 = ['LAG3_RQ','age_at_diagnosis', 'primary_EDSS_at_diagnosis', 'MRI_lesion_mass','Lymph_Cells','PMN_Cells','Cells','gender_M','oligoclonal_band_POS']\n",
        "outcome_var = 'diagnosis_SPMS'\n",
        "tn, fp, fn, tp = calcCrossValidation_Matrix(logisticRegrDF, df_untreated, predictor_var1, outcome_var)\n",
        "print(calc_specificity(tn, fp, fn, tp))\n",
        "print(calc_sensitivity(tn, fp, fn, tp))\n"
      ],
      "execution_count": null,
      "outputs": [
        {
          "output_type": "stream",
          "text": [
            "0.8857142857142857\n",
            "0.4411764705882353\n"
          ],
          "name": "stdout"
        }
      ]
    },
    {
      "cell_type": "code",
      "metadata": {
        "id": "g536OJ_JSFFp",
        "colab": {
          "base_uri": "https://localhost:8080/"
        },
        "outputId": "e985bbe4-14a7-4d5e-dd94-89733b3ab3c6"
      },
      "source": [
        "from sklearn.metrics import confusion_matrix\n",
        "\n",
        "rf = RandomForestClassifier(n_estimators=25, min_samples_split=9, max_depth=15, max_features='auto',random_state=const_seed)\n",
        "predictor_var1 = ['LAG3_RQ','age_at_diagnosis', 'primary_EDSS_at_diagnosis', 'MRI_lesion_mass','Lymph_Cells','PMN_Cells','Cells','gender_M','oligoclonal_band_POS']\n",
        "outcome_var = 'diagnosis_SPMS'\n",
        "tn, fp, fn, tp = calcCrossValidation_Matrix(rf, df_untreated, predictor_var1, outcome_var)\n",
        "print(calc_specificity(tn, fp, fn, tp))\n",
        "print(calc_sensitivity(tn, fp, fn, tp))"
      ],
      "execution_count": null,
      "outputs": [
        {
          "output_type": "stream",
          "text": [
            "0.8428571428571429\n",
            "0.4411764705882353\n"
          ],
          "name": "stdout"
        }
      ]
    },
    {
      "cell_type": "markdown",
      "metadata": {
        "id": "R0wANlSUSHyN"
      },
      "source": [
        "no LAG3 and TIGIT"
      ]
    },
    {
      "cell_type": "code",
      "metadata": {
        "id": "eO8cXWvbSHyN",
        "colab": {
          "base_uri": "https://localhost:8080/"
        },
        "outputId": "78ae2463-05ab-4ffe-a659-97636376fc1a"
      },
      "source": [
        "from sklearn.metrics import confusion_matrix\n",
        "\n",
        "logisticRegrDF = LogisticRegression(max_iter = 4000,random_state=const_seed)\n",
        "predictor_var1 = ['TIM3_RQ','age_at_diagnosis', 'primary_EDSS_at_diagnosis', 'MRI_lesion_mass','Lymph_Cells','PMN_Cells','Cells','gender_M','oligoclonal_band_POS']\n",
        "outcome_var = 'diagnosis_SPMS'\n",
        "tn, fp, fn, tp = calcCrossValidation_Matrix(logisticRegrDF, df_untreated, predictor_var1, outcome_var)\n",
        "print(calc_specificity(tn, fp, fn, tp))\n",
        "print(calc_sensitivity(tn, fp, fn, tp))\n",
        "randomForestRegr = RandomForestRegressor(n_estimators = 10, random_state=const_seed)\n",
        "predictor_rmse = ['TIM3_RQ','age_at_diagnosis', 'primary_EDSS_at_diagnosis', 'MRI_lesion_mass','Lymph_Cells','PMN_Cells','Cells','gender_M','oligoclonal_band_POS']\n",
        "outcome_rmse = 'EDSS_post_10_years'\n",
        "rmse = calcCrossValidation_RMSE(randomForestRegr, df_untreated, predictor_rmse, outcome_rmse)\n",
        "print(rmse)"
      ],
      "execution_count": null,
      "outputs": [
        {
          "output_type": "stream",
          "text": [
            "0.8714285714285714\n",
            "0.47058823529411764\n",
            "1.7920673076923062\n"
          ],
          "name": "stdout"
        }
      ]
    },
    {
      "cell_type": "code",
      "metadata": {
        "id": "bpK87zZFSHyO",
        "colab": {
          "base_uri": "https://localhost:8080/"
        },
        "outputId": "cd3434fb-b426-467e-8880-110880b89a91"
      },
      "source": [
        "from sklearn.metrics import confusion_matrix\n",
        "\n",
        "rf = RandomForestClassifier(n_estimators=25, min_samples_split=9, max_depth=15, max_features='auto',random_state=const_seed)\n",
        "predictor_var1 = ['TIM3_RQ','age_at_diagnosis', 'primary_EDSS_at_diagnosis', 'MRI_lesion_mass','Lymph_Cells','PMN_Cells','Cells','gender_M','oligoclonal_band_POS']\n",
        "outcome_var = 'diagnosis_SPMS'\n",
        "tn, fp, fn, tp = calcCrossValidation_Matrix(rf, df_untreated, predictor_var1, outcome_var)\n",
        "print(calc_specificity(tn, fp, fn, tp))\n",
        "print(calc_sensitivity(tn, fp, fn, tp))"
      ],
      "execution_count": null,
      "outputs": [
        {
          "output_type": "stream",
          "text": [
            "0.8714285714285714\n",
            "0.47058823529411764\n"
          ],
          "name": "stdout"
        }
      ]
    },
    {
      "cell_type": "markdown",
      "metadata": {
        "id": "Zy5fucjfN2gK"
      },
      "source": [
        "no MRI"
      ]
    },
    {
      "cell_type": "code",
      "metadata": {
        "id": "z3M2VgJ9N7Yy",
        "colab": {
          "base_uri": "https://localhost:8080/"
        },
        "outputId": "9549246f-804a-44e2-af63-8202cb60ec29"
      },
      "source": [
        "from sklearn.metrics import confusion_matrix\n",
        "\n",
        "logisticRegrDF = LogisticRegression(max_iter = 4000,random_state=const_seed)\n",
        "predictor_var1 = ['TIM3_RQ', 'TIGIT_RQ', 'LAG3_RQ','age_at_diagnosis', 'primary_EDSS_at_diagnosis', 'Lymph_Cells','PMN_Cells','Cells','gender_M','oligoclonal_band_POS']\n",
        "outcome_var = 'diagnosis_SPMS'\n",
        "tn, fp, fn, tp = calcCrossValidation_Matrix(logisticRegrDF, df_untreated, predictor_var1, outcome_var)\n",
        "print(calc_specificity(tn, fp, fn, tp))\n",
        "print(calc_sensitivity(tn, fp, fn, tp))\n"
      ],
      "execution_count": null,
      "outputs": [
        {
          "output_type": "stream",
          "text": [
            "0.8714285714285714\n",
            "0.47058823529411764\n"
          ],
          "name": "stdout"
        }
      ]
    },
    {
      "cell_type": "code",
      "metadata": {
        "id": "KN65F3iSN-ss",
        "colab": {
          "base_uri": "https://localhost:8080/"
        },
        "outputId": "4c2cd7bf-08c6-4d0a-9b88-7e806d864ec7"
      },
      "source": [
        "from sklearn.metrics import confusion_matrix\n",
        "\n",
        "rf = RandomForestClassifier(n_estimators=25, min_samples_split=9, max_depth=15, max_features='auto',random_state=const_seed)\n",
        "predictor_var1 = ['TIM3_RQ', 'TIGIT_RQ', 'LAG3_RQ','age_at_diagnosis', 'primary_EDSS_at_diagnosis','Lymph_Cells','PMN_Cells','Cells','gender_M','oligoclonal_band_POS']\n",
        "outcome_var = 'diagnosis_SPMS'\n",
        "tn, fp, fn, tp = calcCrossValidation_Matrix(rf, df_untreated, predictor_var1, outcome_var)\n",
        "print(calc_specificity(tn, fp, fn, tp))\n",
        "print(calc_sensitivity(tn, fp, fn, tp))"
      ],
      "execution_count": null,
      "outputs": [
        {
          "output_type": "stream",
          "text": [
            "0.9\n",
            "0.4117647058823529\n"
          ],
          "name": "stdout"
        }
      ]
    },
    {
      "cell_type": "markdown",
      "metadata": {
        "id": "2-9ETlX66LTY"
      },
      "source": [
        "no OCB"
      ]
    },
    {
      "cell_type": "code",
      "metadata": {
        "id": "M8n6Vr2w6Kai",
        "colab": {
          "base_uri": "https://localhost:8080/"
        },
        "outputId": "7bb57cd4-5e0c-4337-8ef8-4f1e5ea888eb"
      },
      "source": [
        "from sklearn.metrics import confusion_matrix\n",
        "\n",
        "logisticRegrDF = LogisticRegression(max_iter = 4000,random_state=const_seed)\n",
        "predictor_var1 = ['TIM3_RQ', 'TIGIT_RQ', 'LAG3_RQ','age_at_diagnosis', 'primary_EDSS_at_diagnosis', 'MRI_lesion_mass','Lymph_Cells','PMN_Cells','Cells','gender_M']\n",
        "outcome_var = 'diagnosis_SPMS'\n",
        "tn, fp, fn, tp = calcCrossValidation_Matrix(logisticRegrDF, df_untreated, predictor_var1, outcome_var)\n",
        "print(calc_specificity(tn, fp, fn, tp))\n",
        "print(calc_sensitivity(tn, fp, fn, tp))"
      ],
      "execution_count": null,
      "outputs": [
        {
          "output_type": "stream",
          "text": [
            "0.8857142857142857\n",
            "0.47058823529411764\n"
          ],
          "name": "stdout"
        }
      ]
    },
    {
      "cell_type": "code",
      "metadata": {
        "id": "dVoGPVxFCryY",
        "colab": {
          "base_uri": "https://localhost:8080/"
        },
        "outputId": "951d4bb9-9ab7-454a-cfc4-a39e91cc5a23"
      },
      "source": [
        "from sklearn.metrics import confusion_matrix\n",
        "\n",
        "rf = RandomForestClassifier(n_estimators=25, min_samples_split=9, max_depth=15, max_features='auto',random_state=const_seed)\n",
        "predictor_var1 = ['TIM3_RQ', 'TIGIT_RQ', 'LAG3_RQ','age_at_diagnosis', 'primary_EDSS_at_diagnosis', 'MRI_lesion_mass','Lymph_Cells','PMN_Cells','Cells','gender_M']\n",
        "outcome_var = 'diagnosis_SPMS'\n",
        "tn, fp, fn, tp = calcCrossValidation_Matrix(rf, df_untreated, predictor_var1, outcome_var)\n",
        "print(calc_specificity(tn, fp, fn, tp))\n",
        "print(calc_sensitivity(tn, fp, fn, tp))"
      ],
      "execution_count": null,
      "outputs": [
        {
          "output_type": "stream",
          "text": [
            "0.8857142857142857\n",
            "0.47058823529411764\n"
          ],
          "name": "stdout"
        }
      ]
    },
    {
      "cell_type": "markdown",
      "metadata": {
        "id": "9ZcOQHDwCQei"
      },
      "source": [
        "no total cells"
      ]
    },
    {
      "cell_type": "code",
      "metadata": {
        "id": "tW4m5dlICQPB",
        "colab": {
          "base_uri": "https://localhost:8080/"
        },
        "outputId": "6d14f35f-05e6-4e44-ed2f-04aac3f89fc8"
      },
      "source": [
        "from sklearn.metrics import confusion_matrix\n",
        "\n",
        "logisticRegrDF = LogisticRegression(max_iter = 4000,random_state=const_seed)\n",
        "predictor_var1 = ['TIM3_RQ', 'TIGIT_RQ', 'LAG3_RQ','age_at_diagnosis', 'primary_EDSS_at_diagnosis', 'MRI_lesion_mass','Lymph_Cells','PMN_Cells','gender_M', 'oligoclonal_band_POS']\n",
        "outcome_var = 'diagnosis_SPMS'\n",
        "tn, fp, fn, tp = calcCrossValidation_Matrix(logisticRegrDF, df_untreated, predictor_var1, outcome_var)\n",
        "print(calc_specificity(tn, fp, fn, tp))\n",
        "print(calc_sensitivity(tn, fp, fn, tp))"
      ],
      "execution_count": null,
      "outputs": [
        {
          "output_type": "stream",
          "text": [
            "0.8714285714285714\n",
            "0.47058823529411764\n"
          ],
          "name": "stdout"
        }
      ]
    },
    {
      "cell_type": "code",
      "metadata": {
        "id": "5CbM0E0ANLGN",
        "colab": {
          "base_uri": "https://localhost:8080/"
        },
        "outputId": "0a70602e-1406-446e-8442-36ff3628e343"
      },
      "source": [
        "from sklearn.metrics import confusion_matrix\n",
        "\n",
        "rf = RandomForestClassifier(n_estimators=25, min_samples_split=9, max_depth=15, max_features='auto',random_state=const_seed)\n",
        "predictor_var1 = ['TIM3_RQ', 'TIGIT_RQ', 'LAG3_RQ','age_at_diagnosis', 'primary_EDSS_at_diagnosis', 'MRI_lesion_mass','Lymph_Cells','PMN_Cells','gender_M', 'oligoclonal_band_POS']\n",
        "outcome_var = 'diagnosis_SPMS'\n",
        "tn, fp, fn, tp = calcCrossValidation_Matrix(rf, df_untreated, predictor_var1, outcome_var)\n",
        "print(calc_specificity(tn, fp, fn, tp))\n",
        "print(calc_sensitivity(tn, fp, fn, tp))"
      ],
      "execution_count": null,
      "outputs": [
        {
          "output_type": "stream",
          "text": [
            "0.9\n",
            "0.4411764705882353\n"
          ],
          "name": "stdout"
        }
      ]
    },
    {
      "cell_type": "markdown",
      "metadata": {
        "id": "ykpz859HOUtV"
      },
      "source": [
        "no lymph cells"
      ]
    },
    {
      "cell_type": "code",
      "metadata": {
        "id": "q6aOPTgROUbp",
        "colab": {
          "base_uri": "https://localhost:8080/"
        },
        "outputId": "be09a1d8-763e-4ae1-9785-912c9d0b6740"
      },
      "source": [
        "from sklearn.metrics import confusion_matrix\n",
        "\n",
        "logisticRegrDF = LogisticRegression(max_iter = 4000,random_state=const_seed)\n",
        "predictor_var1 = ['TIM3_RQ', 'TIGIT_RQ', 'LAG3_RQ','age_at_diagnosis', 'primary_EDSS_at_diagnosis', 'MRI_lesion_mass','Cells','PMN_Cells','gender_M', 'oligoclonal_band_POS']\n",
        "outcome_var = 'diagnosis_SPMS'\n",
        "tn, fp, fn, tp = calcCrossValidation_Matrix(logisticRegrDF, df_untreated, predictor_var1, outcome_var)\n",
        "print(calc_specificity(tn, fp, fn, tp))\n",
        "print(calc_sensitivity(tn, fp, fn, tp))\n",
        "randomForestRegr = RandomForestRegressor(n_estimators = 10, random_state=const_seed)\n",
        "predictor_rmse = ['TIM3_RQ', 'TIGIT_RQ', 'LAG3_RQ','age_at_diagnosis', 'primary_EDSS_at_diagnosis', 'MRI_lesion_mass','Cells','PMN_Cells','gender_M', 'oligoclonal_band_POS']\n",
        "outcome_rmse = 'EDSS_post_10_years'\n",
        "rmse = calcCrossValidation_RMSE(randomForestRegr, df_untreated, predictor_rmse, outcome_rmse)\n",
        "print(rmse)"
      ],
      "execution_count": null,
      "outputs": [
        {
          "output_type": "stream",
          "text": [
            "0.8714285714285714\n",
            "0.4411764705882353\n",
            "1.7764423076923075\n"
          ],
          "name": "stdout"
        }
      ]
    },
    {
      "cell_type": "code",
      "metadata": {
        "id": "gyDi80vGOUPl",
        "colab": {
          "base_uri": "https://localhost:8080/"
        },
        "outputId": "25060019-a1a0-4a15-a786-ed8b4b770572"
      },
      "source": [
        "from sklearn.metrics import confusion_matrix\n",
        "\n",
        "rf = RandomForestClassifier(n_estimators=25, min_samples_split=9, max_depth=15, max_features='auto',random_state=const_seed)\n",
        "predictor_var1 = ['TIM3_RQ', 'TIGIT_RQ', 'LAG3_RQ','age_at_diagnosis', 'primary_EDSS_at_diagnosis', 'MRI_lesion_mass','Cells','PMN_Cells','gender_M', 'oligoclonal_band_POS']\n",
        "outcome_var = 'diagnosis_SPMS'\n",
        "tn, fp, fn, tp = calcCrossValidation_Matrix(rf, df_untreated, predictor_var1, outcome_var)\n",
        "print(calc_specificity(tn, fp, fn, tp))\n",
        "print(calc_sensitivity(tn, fp, fn, tp))"
      ],
      "execution_count": null,
      "outputs": [
        {
          "output_type": "stream",
          "text": [
            "0.8857142857142857\n",
            "0.38235294117647056\n"
          ],
          "name": "stdout"
        }
      ]
    },
    {
      "cell_type": "markdown",
      "metadata": {
        "id": "PBcstsNtdQoL"
      },
      "source": [
        "no PMM cells"
      ]
    },
    {
      "cell_type": "code",
      "metadata": {
        "id": "CmxsIyh7dQXq",
        "colab": {
          "base_uri": "https://localhost:8080/"
        },
        "outputId": "f6a3ab1a-ee29-4d30-b9a5-d493d914df08"
      },
      "source": [
        "from sklearn.metrics import confusion_matrix\n",
        "\n",
        "logisticRegrDF = LogisticRegression(max_iter = 4000,random_state=const_seed)\n",
        "predictor_var1 = ['TIM3_RQ', 'TIGIT_RQ', 'LAG3_RQ','age_at_diagnosis', 'primary_EDSS_at_diagnosis', 'MRI_lesion_mass','Cells','Lymph_Cells','gender_M', 'oligoclonal_band_POS']\n",
        "outcome_var = 'diagnosis_SPMS'\n",
        "tn, fp, fn, tp = calcCrossValidation_Matrix(logisticRegrDF, df_untreated, predictor_var1, outcome_var)\n",
        "print(calc_specificity(tn, fp, fn, tp))\n",
        "print(calc_sensitivity(tn, fp, fn, tp))"
      ],
      "execution_count": null,
      "outputs": [
        {
          "output_type": "stream",
          "text": [
            "0.8571428571428571\n",
            "0.4411764705882353\n"
          ],
          "name": "stdout"
        }
      ]
    },
    {
      "cell_type": "code",
      "metadata": {
        "id": "JWUfX6VKdQMi",
        "colab": {
          "base_uri": "https://localhost:8080/"
        },
        "outputId": "83b44c7e-aea6-4461-992f-c1ea64232cb0"
      },
      "source": [
        "from sklearn.metrics import confusion_matrix\n",
        "\n",
        "rf = RandomForestClassifier(n_estimators=25, min_samples_split=9, max_depth=15, max_features='auto',random_state=const_seed)\n",
        "predictor_var1 = ['TIM3_RQ', 'TIGIT_RQ', 'LAG3_RQ','age_at_diagnosis', 'primary_EDSS_at_diagnosis', 'MRI_lesion_mass','Cells','Lymph_Cells','gender_M', 'oligoclonal_band_POS']\n",
        "outcome_var = 'diagnosis_SPMS'\n",
        "tn, fp, fn, tp = calcCrossValidation_Matrix(rf, df_untreated, predictor_var1, outcome_var)\n",
        "print(calc_specificity(tn, fp, fn, tp))\n",
        "print(calc_sensitivity(tn, fp, fn, tp))"
      ],
      "execution_count": null,
      "outputs": [
        {
          "output_type": "stream",
          "text": [
            "0.8714285714285714\n",
            "0.38235294117647056\n"
          ],
          "name": "stdout"
        }
      ]
    },
    {
      "cell_type": "markdown",
      "metadata": {
        "id": "IsIUVQoud5tC"
      },
      "source": [
        "no MRI, cells"
      ]
    },
    {
      "cell_type": "code",
      "metadata": {
        "id": "hrvKHI8md4u2",
        "colab": {
          "base_uri": "https://localhost:8080/"
        },
        "outputId": "26e2911d-ca5e-4649-89a8-4c0d3698ff44"
      },
      "source": [
        "from sklearn.metrics import confusion_matrix\n",
        "\n",
        "logisticRegrDF = LogisticRegression(max_iter = 4000,random_state=const_seed)\n",
        "predictor_var1 = ['TIM3_RQ', 'TIGIT_RQ', 'LAG3_RQ','age_at_diagnosis', 'primary_EDSS_at_diagnosis', 'PMN_Cells', 'Lymph_Cells', 'gender_M', 'oligoclonal_band_POS']\n",
        "outcome_var = 'diagnosis_SPMS'\n",
        "tn, fp, fn, tp = calcCrossValidation_Matrix(logisticRegrDF, df_untreated, predictor_var1, outcome_var)\n",
        "print(calc_specificity(tn, fp, fn, tp))\n",
        "print(calc_sensitivity(tn, fp, fn, tp))\n",
        "randomForestRegr = RandomForestRegressor(n_estimators = 10,random_state=const_seed)\n",
        "predictor_rmse = ['TIM3_RQ', 'TIGIT_RQ', 'LAG3_RQ','age_at_diagnosis', 'primary_EDSS_at_diagnosis', 'PMN_Cells', 'Lymph_Cells', 'gender_M', 'oligoclonal_band_POS']\n",
        "outcome_rmse = 'EDSS_post_10_years'\n",
        "rmse = calcCrossValidation_RMSE(randomForestRegr, df_untreated, predictor_rmse, outcome_rmse)\n",
        "print(rmse)"
      ],
      "execution_count": null,
      "outputs": [
        {
          "output_type": "stream",
          "text": [
            "0.8571428571428571\n",
            "0.47058823529411764\n",
            "1.7528846153846147\n"
          ],
          "name": "stdout"
        }
      ]
    },
    {
      "cell_type": "code",
      "metadata": {
        "id": "pRLLDoFqd4l0",
        "colab": {
          "base_uri": "https://localhost:8080/"
        },
        "outputId": "8092d12c-c452-4467-f17f-147f22fda21b"
      },
      "source": [
        "from sklearn.metrics import confusion_matrix\n",
        "\n",
        "rf = RandomForestClassifier(n_estimators=25, min_samples_split=9, max_depth=15, max_features='auto',random_state=const_seed)\n",
        "predictor_var1 = ['TIM3_RQ', 'TIGIT_RQ', 'LAG3_RQ','age_at_diagnosis', 'primary_EDSS_at_diagnosis', 'PMN_Cells', 'Lymph_Cells', 'gender_M', 'oligoclonal_band_POS']\n",
        "outcome_var = 'diagnosis_SPMS'\n",
        "tn, fp, fn, tp = calcCrossValidation_Matrix(rf, df_untreated, predictor_var1, outcome_var)\n",
        "print(calc_specificity(tn, fp, fn, tp))\n",
        "print(calc_sensitivity(tn, fp, fn, tp))"
      ],
      "execution_count": null,
      "outputs": [
        {
          "output_type": "stream",
          "text": [
            "0.9\n",
            "0.38235294117647056\n"
          ],
          "name": "stdout"
        }
      ]
    },
    {
      "cell_type": "markdown",
      "metadata": {
        "id": "NwxJrsQlehfp"
      },
      "source": [
        "no MRI, PMM cells"
      ]
    },
    {
      "cell_type": "code",
      "metadata": {
        "id": "l3WftkqHehT9",
        "colab": {
          "base_uri": "https://localhost:8080/"
        },
        "outputId": "a774b16c-2176-4269-f8e3-91c9d7fe350f"
      },
      "source": [
        "from sklearn.metrics import confusion_matrix\n",
        "\n",
        "logisticRegrDF = LogisticRegression(max_iter = 4000,random_state=const_seed)\n",
        "predictor_var1 = ['TIM3_RQ', 'TIGIT_RQ', 'LAG3_RQ','age_at_diagnosis', 'primary_EDSS_at_diagnosis', 'Cells', 'Lymph_Cells', 'gender_M', 'oligoclonal_band_POS']\n",
        "outcome_var = 'diagnosis_SPMS'\n",
        "tn, fp, fn, tp = calcCrossValidation_Matrix(logisticRegrDF, df_untreated, predictor_var1, outcome_var)\n",
        "print(calc_specificity(tn, fp, fn, tp))\n",
        "print(calc_sensitivity(tn, fp, fn, tp))\n",
        "randomForestRegr = RandomForestRegressor(n_estimators = 10,random_state=const_seed)\n",
        "predictor_rmse = ['TIM3_RQ', 'TIGIT_RQ', 'LAG3_RQ','age_at_diagnosis', 'primary_EDSS_at_diagnosis', 'Cells', 'Lymph_Cells', 'gender_M', 'oligoclonal_band_POS']\n",
        "outcome_rmse = 'EDSS_post_10_years'\n",
        "rmse = calcCrossValidation_RMSE(randomForestRegr, df_untreated, predictor_rmse, outcome_rmse)\n",
        "print(rmse)"
      ],
      "execution_count": null,
      "outputs": [
        {
          "output_type": "stream",
          "text": [
            "0.8571428571428571\n",
            "0.47058823529411764\n",
            "1.7870192307692305\n"
          ],
          "name": "stdout"
        }
      ]
    },
    {
      "cell_type": "code",
      "metadata": {
        "id": "-ZzTCtRMehPA",
        "colab": {
          "base_uri": "https://localhost:8080/"
        },
        "outputId": "f45976a4-8928-44ed-b019-47666f057522"
      },
      "source": [
        "from sklearn.metrics import confusion_matrix\n",
        "\n",
        "rf = RandomForestClassifier(n_estimators=25, min_samples_split=9, max_depth=15, max_features='auto',random_state=const_seed)\n",
        "predictor_var1 = ['TIM3_RQ', 'TIGIT_RQ', 'LAG3_RQ','age_at_diagnosis', 'primary_EDSS_at_diagnosis', 'Cells', 'Lymph_Cells', 'gender_M', 'oligoclonal_band_POS']\n",
        "outcome_var = 'diagnosis_SPMS'\n",
        "tn, fp, fn, tp = calcCrossValidation_Matrix(rf, df_untreated, predictor_var1, outcome_var)\n",
        "print(calc_specificity(tn, fp, fn, tp))\n",
        "print(calc_sensitivity(tn, fp, fn, tp))"
      ],
      "execution_count": null,
      "outputs": [
        {
          "output_type": "stream",
          "text": [
            "0.8714285714285714\n",
            "0.4117647058823529\n"
          ],
          "name": "stdout"
        }
      ]
    },
    {
      "cell_type": "markdown",
      "metadata": {
        "id": "u-EwXaTpe9tQ"
      },
      "source": [
        "no TIGIT, cells"
      ]
    },
    {
      "cell_type": "code",
      "metadata": {
        "id": "WFZxU8Wde9gz",
        "colab": {
          "base_uri": "https://localhost:8080/"
        },
        "outputId": "fa798eae-b8ac-4580-e214-2322cc0aa29c"
      },
      "source": [
        "from sklearn.metrics import confusion_matrix\n",
        "\n",
        "logisticRegrDF = LogisticRegression(max_iter = 4000,random_state=const_seed)\n",
        "predictor_var1 = ['TIM3_RQ', 'MRI_lesion_mass', 'LAG3_RQ','age_at_diagnosis', 'primary_EDSS_at_diagnosis', 'PMN_Cells', 'Lymph_Cells', 'gender_M', 'oligoclonal_band_POS']\n",
        "outcome_var = 'diagnosis_SPMS'\n",
        "tn, fp, fn, tp = calcCrossValidation_Matrix(logisticRegrDF, df_untreated, predictor_var1, outcome_var)\n",
        "print(calc_specificity(tn, fp, fn, tp))\n",
        "print(calc_sensitivity(tn, fp, fn, tp))"
      ],
      "execution_count": null,
      "outputs": [
        {
          "output_type": "stream",
          "text": [
            "0.8714285714285714\n",
            "0.47058823529411764\n"
          ],
          "name": "stdout"
        }
      ]
    },
    {
      "cell_type": "code",
      "metadata": {
        "id": "oZ4RoCTWe_Zy",
        "colab": {
          "base_uri": "https://localhost:8080/"
        },
        "outputId": "869bbe4e-26d7-4172-b7a6-fdd11cddbbcb"
      },
      "source": [
        "from sklearn.metrics import confusion_matrix\n",
        "\n",
        "rf = RandomForestClassifier(n_estimators=25, min_samples_split=9, max_depth=15, max_features='auto',random_state=const_seed)\n",
        "predictor_var1 = ['TIM3_RQ', 'MRI_lesion_mass', 'LAG3_RQ','age_at_diagnosis', 'primary_EDSS_at_diagnosis', 'PMN_Cells', 'Lymph_Cells', 'gender_M', 'oligoclonal_band_POS']\n",
        "outcome_var = 'diagnosis_SPMS'\n",
        "tn, fp, fn, tp = calcCrossValidation_Matrix(rf, df_untreated, predictor_var1, outcome_var)\n",
        "print(calc_specificity(tn, fp, fn, tp))\n",
        "print(calc_sensitivity(tn, fp, fn, tp))"
      ],
      "execution_count": null,
      "outputs": [
        {
          "output_type": "stream",
          "text": [
            "0.8571428571428571\n",
            "0.4411764705882353\n"
          ],
          "name": "stdout"
        }
      ]
    },
    {
      "cell_type": "markdown",
      "metadata": {
        "id": "SmuLzybofAaX"
      },
      "source": [
        "NO TIGIT, PMM cells"
      ]
    },
    {
      "cell_type": "code",
      "metadata": {
        "id": "S7bk66f9e_5O",
        "colab": {
          "base_uri": "https://localhost:8080/"
        },
        "outputId": "b87ecad9-8e73-449e-b577-dd85dcbdbf1b"
      },
      "source": [
        "from sklearn.metrics import confusion_matrix\n",
        "\n",
        "logisticRegrDF = LogisticRegression(max_iter = 4000,random_state=const_seed)\n",
        "predictor_var1 = ['TIM3_RQ', 'MRI_lesion_mass', 'LAG3_RQ','age_at_diagnosis', 'primary_EDSS_at_diagnosis', 'Cells', 'Lymph_Cells', 'gender_M', 'oligoclonal_band_POS']\n",
        "outcome_var = 'diagnosis_SPMS'\n",
        "tn, fp, fn, tp = calcCrossValidation_Matrix(logisticRegrDF, df_untreated, predictor_var1, outcome_var)\n",
        "print(calc_specificity(tn, fp, fn, tp))\n",
        "print(calc_sensitivity(tn, fp, fn, tp))"
      ],
      "execution_count": null,
      "outputs": [
        {
          "output_type": "stream",
          "text": [
            "0.8714285714285714\n",
            "0.47058823529411764\n"
          ],
          "name": "stdout"
        }
      ]
    },
    {
      "cell_type": "code",
      "metadata": {
        "id": "ozVK32Pwe9b2",
        "colab": {
          "base_uri": "https://localhost:8080/"
        },
        "outputId": "541bd6c3-a1f2-4b38-f263-ebedba11e387"
      },
      "source": [
        "from sklearn.metrics import confusion_matrix\n",
        "\n",
        "rf = RandomForestClassifier(n_estimators=25, min_samples_split=9, max_depth=15, max_features='auto',random_state=const_seed)\n",
        "predictor_var1 = ['TIM3_RQ', 'MRI_lesion_mass', 'LAG3_RQ','age_at_diagnosis', 'primary_EDSS_at_diagnosis', 'Cells', 'Lymph_Cells', 'gender_M', 'oligoclonal_band_POS']\n",
        "outcome_var = 'diagnosis_SPMS'\n",
        "tn, fp, fn, tp = calcCrossValidation_Matrix(rf, df_untreated, predictor_var1, outcome_var)\n",
        "print(calc_specificity(tn, fp, fn, tp))\n",
        "print(calc_sensitivity(tn, fp, fn, tp))"
      ],
      "execution_count": null,
      "outputs": [
        {
          "output_type": "stream",
          "text": [
            "0.8285714285714286\n",
            "0.38235294117647056\n"
          ],
          "name": "stdout"
        }
      ]
    },
    {
      "cell_type": "markdown",
      "metadata": {
        "id": "WUyZp_FBBD-P"
      },
      "source": [
        "no MRI, LAG3"
      ]
    },
    {
      "cell_type": "code",
      "metadata": {
        "id": "S6g6RS3sBD2V",
        "colab": {
          "base_uri": "https://localhost:8080/"
        },
        "outputId": "8b9bcc63-2d0e-48b1-8f2e-9768c0cac451"
      },
      "source": [
        "from sklearn.metrics import confusion_matrix\n",
        "\n",
        "logisticRegrDF = LogisticRegression(max_iter = 4000,random_state=const_seed)\n",
        "predictor_var1 = ['TIM3_RQ', 'TIGIT_RQ', 'age_at_diagnosis', 'primary_EDSS_at_diagnosis', 'Lymph_Cells','PMN_Cells','Cells','gender_M','oligoclonal_band_POS']\n",
        "outcome_var = 'diagnosis_SPMS'\n",
        "tn, fp, fn, tp = calcCrossValidation_Matrix(logisticRegrDF, df_untreated, predictor_var1, outcome_var)\n",
        "print(calc_specificity(tn, fp, fn, tp))\n",
        "print(calc_sensitivity(tn, fp, fn, tp))"
      ],
      "execution_count": null,
      "outputs": [
        {
          "output_type": "stream",
          "text": [
            "0.8571428571428571\n",
            "0.47058823529411764\n"
          ],
          "name": "stdout"
        }
      ]
    },
    {
      "cell_type": "code",
      "metadata": {
        "id": "m2ajhCO2BDvJ",
        "colab": {
          "base_uri": "https://localhost:8080/"
        },
        "outputId": "94874178-c29b-4b1c-9b41-a94cbc1eb0e3"
      },
      "source": [
        "from sklearn.metrics import confusion_matrix\n",
        "\n",
        "rf = RandomForestClassifier(n_estimators=25, min_samples_split=9, max_depth=15, max_features='auto',random_state=const_seed)\n",
        "predictor_var1 = ['TIM3_RQ', 'TIGIT_RQ', 'age_at_diagnosis', 'primary_EDSS_at_diagnosis', 'Lymph_Cells','PMN_Cells','Cells','gender_M','oligoclonal_band_POS']\n",
        "outcome_var = 'diagnosis_SPMS'\n",
        "tn, fp, fn, tp = calcCrossValidation_Matrix(rf, df_untreated, predictor_var1, outcome_var)\n",
        "print(calc_specificity(tn, fp, fn, tp))\n",
        "print(calc_sensitivity(tn, fp, fn, tp))"
      ],
      "execution_count": null,
      "outputs": [
        {
          "output_type": "stream",
          "text": [
            "0.8571428571428571\n",
            "0.5294117647058824\n"
          ],
          "name": "stdout"
        }
      ]
    },
    {
      "cell_type": "markdown",
      "metadata": {
        "id": "ajrVZaqfBDit"
      },
      "source": [
        "no MRI, TIM3, LAG3"
      ]
    },
    {
      "cell_type": "code",
      "metadata": {
        "id": "qHaLFLsrBDap",
        "colab": {
          "base_uri": "https://localhost:8080/"
        },
        "outputId": "14a7eb8a-efaf-4ce6-96fc-bd7e97743337"
      },
      "source": [
        "from sklearn.metrics import confusion_matrix\n",
        "\n",
        "logisticRegrDF = LogisticRegression(max_iter = 4000,random_state=const_seed)\n",
        "predictor_var1 = ['TIGIT_RQ', 'age_at_diagnosis', 'primary_EDSS_at_diagnosis', 'Lymph_Cells','PMN_Cells','Cells','gender_M','oligoclonal_band_POS']\n",
        "outcome_var = 'diagnosis_SPMS'\n",
        "tn, fp, fn, tp = calcCrossValidation_Matrix(logisticRegrDF, df_untreated, predictor_var1, outcome_var)\n",
        "print(calc_specificity(tn, fp, fn, tp))\n",
        "print(calc_sensitivity(tn, fp, fn, tp))\n",
        "randomForestRegr = RandomForestRegressor(n_estimators = 10,random_state=const_seed)\n",
        "predictor_rmse = ['TIGIT_RQ', 'age_at_diagnosis', 'primary_EDSS_at_diagnosis', 'Lymph_Cells','PMN_Cells','Cells','gender_M','oligoclonal_band_POS']\n",
        "outcome_rmse = 'EDSS_post_10_years'\n",
        "rmse = calcCrossValidation_RMSE(randomForestRegr, df_untreated, predictor_rmse, outcome_rmse)\n",
        "print(rmse)"
      ],
      "execution_count": null,
      "outputs": [
        {
          "output_type": "stream",
          "text": [
            "0.8857142857142857\n",
            "0.47058823529411764\n",
            "1.9478365384615384\n"
          ],
          "name": "stdout"
        }
      ]
    },
    {
      "cell_type": "code",
      "metadata": {
        "id": "XjywZXV7BDTS",
        "colab": {
          "base_uri": "https://localhost:8080/"
        },
        "outputId": "4f842641-176e-4f0d-8047-1d744033daf9"
      },
      "source": [
        "from sklearn.metrics import confusion_matrix\n",
        "\n",
        "rf = RandomForestClassifier(n_estimators=25, min_samples_split=9, max_depth=15, max_features='auto',random_state=const_seed)\n",
        "predictor_var1 = ['TIGIT_RQ', 'age_at_diagnosis', 'primary_EDSS_at_diagnosis', 'Lymph_Cells','PMN_Cells','Cells','gender_M','oligoclonal_band_POS']\n",
        "outcome_var = 'diagnosis_SPMS'\n",
        "tn, fp, fn, tp = calcCrossValidation_Matrix(rf, df_untreated, predictor_var1, outcome_var)\n",
        "print(calc_specificity(tn, fp, fn, tp))\n",
        "print(calc_sensitivity(tn, fp, fn, tp))"
      ],
      "execution_count": null,
      "outputs": [
        {
          "output_type": "stream",
          "text": [
            "0.8285714285714286\n",
            "0.35294117647058826\n"
          ],
          "name": "stdout"
        }
      ]
    },
    {
      "cell_type": "markdown",
      "metadata": {
        "id": "eW-KHlfJBDHN"
      },
      "source": [
        "no MRI, TIM3, TIGIT"
      ]
    },
    {
      "cell_type": "code",
      "metadata": {
        "id": "ZNgih685BC66",
        "colab": {
          "base_uri": "https://localhost:8080/"
        },
        "outputId": "17720d9c-8091-484e-b4cd-61e2e1bc0866"
      },
      "source": [
        "from sklearn.metrics import confusion_matrix\n",
        "\n",
        "logisticRegrDF = LogisticRegression(max_iter = 4000,random_state=const_seed)\n",
        "predictor_var1 = ['LAG3_RQ','age_at_diagnosis', 'primary_EDSS_at_diagnosis', 'Lymph_Cells','PMN_Cells','Cells','gender_M','oligoclonal_band_POS']\n",
        "outcome_var = 'diagnosis_SPMS'\n",
        "tn, fp, fn, tp = calcCrossValidation_Matrix(logisticRegrDF, df_untreated, predictor_var1, outcome_var)\n",
        "print(calc_specificity(tn, fp, fn, tp))\n",
        "print(calc_sensitivity(tn, fp, fn, tp))\n",
        "randomForestRegr = RandomForestRegressor(n_estimators = 10,random_state=const_seed)\n",
        "predictor_rmse = ['LAG3_RQ','age_at_diagnosis', 'primary_EDSS_at_diagnosis', 'Lymph_Cells','PMN_Cells','Cells','gender_M','oligoclonal_band_POS']\n",
        "outcome_rmse = 'EDSS_post_10_years'\n",
        "rmse = calcCrossValidation_RMSE(randomForestRegr, df_untreated, predictor_rmse, outcome_rmse)\n",
        "print(rmse)"
      ],
      "execution_count": null,
      "outputs": [
        {
          "output_type": "stream",
          "text": [
            "0.9\n",
            "0.47058823529411764\n",
            "1.6911057692307692\n"
          ],
          "name": "stdout"
        }
      ]
    },
    {
      "cell_type": "code",
      "metadata": {
        "id": "DB3pXUWQBCyW",
        "colab": {
          "base_uri": "https://localhost:8080/"
        },
        "outputId": "acc457cf-7f14-479f-dcd8-309489074d84"
      },
      "source": [
        "from sklearn.metrics import confusion_matrix\n",
        "\n",
        "rf = RandomForestClassifier(n_estimators=25, min_samples_split=9, max_depth=15, max_features='auto',random_state=const_seed)\n",
        "predictor_var1 = ['LAG3_RQ','age_at_diagnosis', 'primary_EDSS_at_diagnosis', 'Lymph_Cells','PMN_Cells','Cells','gender_M','oligoclonal_band_POS']\n",
        "outcome_var = 'diagnosis_SPMS'\n",
        "tn, fp, fn, tp = calcCrossValidation_Matrix(rf, df_untreated, predictor_var1, outcome_var)\n",
        "print(calc_specificity(tn, fp, fn, tp))\n",
        "print(calc_sensitivity(tn, fp, fn, tp))"
      ],
      "execution_count": null,
      "outputs": [
        {
          "output_type": "stream",
          "text": [
            "0.8428571428571429\n",
            "0.4117647058823529\n"
          ],
          "name": "stdout"
        }
      ]
    },
    {
      "cell_type": "markdown",
      "metadata": {
        "id": "GuDEtfmZBCbn"
      },
      "source": [
        "no MRI, TIGIT, LAG3"
      ]
    },
    {
      "cell_type": "code",
      "metadata": {
        "id": "9QJjCCBDBCMm",
        "colab": {
          "base_uri": "https://localhost:8080/"
        },
        "outputId": "608f4efc-5be1-48bb-da89-539f3f58f280"
      },
      "source": [
        "from sklearn.metrics import confusion_matrix\n",
        "\n",
        "logisticRegrDF = LogisticRegression(max_iter = 4000,random_state=const_seed)\n",
        "predictor_var1 = ['TIM3_RQ', 'age_at_diagnosis', 'primary_EDSS_at_diagnosis', 'Lymph_Cells','PMN_Cells','Cells','gender_M','oligoclonal_band_POS']\n",
        "outcome_var = 'diagnosis_SPMS'\n",
        "tn, fp, fn, tp = calcCrossValidation_Matrix(logisticRegrDF, df_untreated, predictor_var1, outcome_var)\n",
        "print(calc_specificity(tn, fp, fn, tp))\n",
        "print(calc_sensitivity(tn, fp, fn, tp))\n",
        "randomForestRegr = RandomForestRegressor(n_estimators = 10,random_state=const_seed)\n",
        "predictor_rmse = ['TIM3_RQ', 'age_at_diagnosis', 'primary_EDSS_at_diagnosis', 'Lymph_Cells','PMN_Cells','Cells','gender_M','oligoclonal_band_POS']\n",
        "outcome_rmse = 'EDSS_post_10_years'\n",
        "rmse = calcCrossValidation_RMSE(randomForestRegr, df_untreated, predictor_rmse, outcome_rmse)\n",
        "print(rmse)"
      ],
      "execution_count": null,
      "outputs": [
        {
          "output_type": "stream",
          "text": [
            "0.8571428571428571\n",
            "0.47058823529411764\n",
            "1.6663461538461541\n"
          ],
          "name": "stdout"
        }
      ]
    },
    {
      "cell_type": "code",
      "metadata": {
        "id": "DkFtXPvbBCCH",
        "colab": {
          "base_uri": "https://localhost:8080/"
        },
        "outputId": "dfc4c049-5636-4863-e370-7d13637ac869"
      },
      "source": [
        "from sklearn.metrics import confusion_matrix\n",
        "\n",
        "rf = RandomForestClassifier(n_estimators=25, min_samples_split=9, max_depth=15, max_features='auto',random_state=const_seed)\n",
        "predictor_var1 = ['TIM3_RQ', 'age_at_diagnosis', 'primary_EDSS_at_diagnosis', 'Lymph_Cells','PMN_Cells','Cells','gender_M','oligoclonal_band_POS']\n",
        "outcome_var = 'diagnosis_SPMS'\n",
        "tn, fp, fn, tp = calcCrossValidation_Matrix(rf, df_untreated, predictor_var1, outcome_var)\n",
        "print(calc_specificity(tn, fp, fn, tp))\n",
        "print(calc_sensitivity(tn, fp, fn, tp))"
      ],
      "execution_count": null,
      "outputs": [
        {
          "output_type": "stream",
          "text": [
            "0.8714285714285714\n",
            "0.5\n"
          ],
          "name": "stdout"
        }
      ]
    },
    {
      "cell_type": "code",
      "metadata": {
        "id": "Hm1JBxG_HZWO",
        "colab": {
          "base_uri": "https://localhost:8080/"
        },
        "outputId": "2a2c2adf-dcfe-4241-8895-7ad7896b788c"
      },
      "source": [
        "df_untreated.shape"
      ],
      "execution_count": null,
      "outputs": [
        {
          "output_type": "execute_result",
          "data": {
            "text/plain": [
              "(104, 15)"
            ]
          },
          "metadata": {
            "tags": []
          },
          "execution_count": 67
        }
      ]
    },
    {
      "cell_type": "markdown",
      "metadata": {
        "id": "Faxl1El1BRD6"
      },
      "source": [
        "# shira new"
      ]
    },
    {
      "cell_type": "code",
      "metadata": {
        "colab": {
          "base_uri": "https://localhost:8080/",
          "height": 396
        },
        "id": "8AhYnmfvBSM7",
        "outputId": "a4da1922-7c54-4bf5-fc77-05eccf2298ba"
      },
      "source": [
        "from sklearn.metrics import confusion_matrix\n",
        "\n",
        "# rf = RandomForestClassifier(n_estimators=25, min_samples_split=9, max_depth=15, max_features='auto',random_state=const_seed)\n",
        "all_features = ['TIM3_RQ', 'TIGIT_RQ', 'LAG3_RQ','age_at_diagnosis', 'primary_EDSS_at_diagnosis', 'MRI_lesion_mass','Lymph_Cells','PMN_Cells','Cells','gender_M','oligoclonal_band_POS']\n",
        "missing_val = ['TIM3_RQ','TIGIT_RQ', 'LAG3_RQ']\n",
        "outcome_var = 'diagnosis_SPMS'\n",
        "model_type = 'RandomForestClassifier'\n",
        "update_experiments_first(df_untreated, outcome_var, model_type, all_features, missing_val)\n",
        "df_experiments\n",
        "# tn, fp, fn, tp = calcCrossValidation_Matrix(rf, df_untreated, predictor_var1, outcome_var)\n",
        "# print(calc_specificity(tn, fp, fn, tp))\n",
        "# print(calc_sensitivity(tn, fp, fn, tp))"
      ],
      "execution_count": null,
      "outputs": [
        {
          "output_type": "error",
          "ename": "UnboundLocalError",
          "evalue": "ignored",
          "traceback": [
            "\u001b[0;31m---------------------------------------------------------------------------\u001b[0m",
            "\u001b[0;31mUnboundLocalError\u001b[0m                         Traceback (most recent call last)",
            "\u001b[0;32m<ipython-input-99-ad6e84e485a7>\u001b[0m in \u001b[0;36m<module>\u001b[0;34m()\u001b[0m\n\u001b[1;32m      6\u001b[0m \u001b[0moutcome_var\u001b[0m \u001b[0;34m=\u001b[0m \u001b[0;34m'diagnosis_SPMS'\u001b[0m\u001b[0;34m\u001b[0m\u001b[0;34m\u001b[0m\u001b[0m\n\u001b[1;32m      7\u001b[0m \u001b[0mmodel_type\u001b[0m \u001b[0;34m=\u001b[0m \u001b[0;34m'RandomForestClassifier'\u001b[0m\u001b[0;34m\u001b[0m\u001b[0;34m\u001b[0m\u001b[0m\n\u001b[0;32m----> 8\u001b[0;31m \u001b[0mupdate_experiments_first\u001b[0m\u001b[0;34m(\u001b[0m\u001b[0mdf_untreated\u001b[0m\u001b[0;34m,\u001b[0m \u001b[0moutcome_var\u001b[0m\u001b[0;34m,\u001b[0m \u001b[0mmodel_type\u001b[0m\u001b[0;34m,\u001b[0m \u001b[0mall_features\u001b[0m\u001b[0;34m,\u001b[0m \u001b[0mmissing_val\u001b[0m\u001b[0;34m)\u001b[0m\u001b[0;34m\u001b[0m\u001b[0;34m\u001b[0m\u001b[0m\n\u001b[0m\u001b[1;32m      9\u001b[0m \u001b[0mdf_experiments\u001b[0m\u001b[0;34m\u001b[0m\u001b[0;34m\u001b[0m\u001b[0m\n\u001b[1;32m     10\u001b[0m \u001b[0;31m# tn, fp, fn, tp = calcCrossValidation_Matrix(rf, df_untreated, predictor_var1, outcome_var)\u001b[0m\u001b[0;34m\u001b[0m\u001b[0;34m\u001b[0m\u001b[0;34m\u001b[0m\u001b[0m\n",
            "\u001b[0;32m<ipython-input-96-955aabc73856>\u001b[0m in \u001b[0;36mupdate_experiments_first\u001b[0;34m(df, outcome_var, model_type, all_features, missing_values)\u001b[0m\n\u001b[1;32m      6\u001b[0m     \u001b[0mmodel\u001b[0m \u001b[0;34m=\u001b[0m \u001b[0mRandomForestClassifier\u001b[0m\u001b[0;34m(\u001b[0m\u001b[0mn_estimators\u001b[0m\u001b[0;34m=\u001b[0m\u001b[0;36m25\u001b[0m\u001b[0;34m,\u001b[0m \u001b[0mmin_samples_split\u001b[0m\u001b[0;34m=\u001b[0m\u001b[0;36m9\u001b[0m\u001b[0;34m,\u001b[0m \u001b[0mmax_depth\u001b[0m\u001b[0;34m=\u001b[0m\u001b[0;36m15\u001b[0m\u001b[0;34m,\u001b[0m \u001b[0mmax_features\u001b[0m\u001b[0;34m=\u001b[0m\u001b[0;34m'auto'\u001b[0m\u001b[0;34m,\u001b[0m\u001b[0mrandom_state\u001b[0m\u001b[0;34m=\u001b[0m\u001b[0mconst_seed\u001b[0m\u001b[0;34m)\u001b[0m\u001b[0;34m\u001b[0m\u001b[0;34m\u001b[0m\u001b[0m\n\u001b[1;32m      7\u001b[0m   \u001b[0;31m# elif (model_type=='LogisticRegression'):\u001b[0m\u001b[0;34m\u001b[0m\u001b[0;34m\u001b[0m\u001b[0;34m\u001b[0m\u001b[0m\n\u001b[0;32m----> 8\u001b[0;31m   \u001b[0madd_sensitivity_specifity\u001b[0m\u001b[0;34m(\u001b[0m\u001b[0mmodel\u001b[0m\u001b[0;34m,\u001b[0m \u001b[0mdf\u001b[0m\u001b[0;34m,\u001b[0m \u001b[0mpredictor_var\u001b[0m\u001b[0;34m,\u001b[0m \u001b[0moutcome_var\u001b[0m\u001b[0;34m,\u001b[0m \u001b[0mmodel_type\u001b[0m\u001b[0;34m,\u001b[0m \u001b[0mmissing_values\u001b[0m\u001b[0;34m)\u001b[0m\u001b[0;34m\u001b[0m\u001b[0;34m\u001b[0m\u001b[0m\n\u001b[0m",
            "\u001b[0;32m<ipython-input-97-f3a2719d89e3>\u001b[0m in \u001b[0;36madd_sensitivity_specifity\u001b[0;34m(model, df, predictor_var, outcome_var, model_type, missing_values)\u001b[0m\n\u001b[1;32m      4\u001b[0m   \u001b[0msensitivity\u001b[0m \u001b[0;34m=\u001b[0m \u001b[0mcalc_sensitivity\u001b[0m\u001b[0;34m(\u001b[0m\u001b[0mtn\u001b[0m\u001b[0;34m,\u001b[0m \u001b[0mfp\u001b[0m\u001b[0;34m,\u001b[0m \u001b[0mfn\u001b[0m\u001b[0;34m,\u001b[0m \u001b[0mtp\u001b[0m\u001b[0;34m)\u001b[0m\u001b[0;34m\u001b[0m\u001b[0;34m\u001b[0m\u001b[0m\n\u001b[1;32m      5\u001b[0m   \u001b[0mspecifity_sensitivity_list\u001b[0m \u001b[0;34m=\u001b[0m \u001b[0;34m[\u001b[0m\u001b[0mspecificity\u001b[0m\u001b[0;34m,\u001b[0m \u001b[0msensitivity\u001b[0m\u001b[0;34m]\u001b[0m\u001b[0;34m\u001b[0m\u001b[0;34m\u001b[0m\u001b[0m\n\u001b[0;32m----> 6\u001b[0;31m   \u001b[0mupdate_results\u001b[0m\u001b[0;34m(\u001b[0m\u001b[0mspecifity_sensitivity_list\u001b[0m\u001b[0;34m,\u001b[0m \u001b[0mmissing_values\u001b[0m\u001b[0;34m,\u001b[0m \u001b[0mmodel_type\u001b[0m\u001b[0;34m)\u001b[0m\u001b[0;34m\u001b[0m\u001b[0;34m\u001b[0m\u001b[0m\n\u001b[0m",
            "\u001b[0;32m<ipython-input-98-d5c4aab6418b>\u001b[0m in \u001b[0;36mupdate_results\u001b[0;34m(results_list, missing_values, model_type)\u001b[0m\n\u001b[1;32m      6\u001b[0m   \u001b[0;32melse\u001b[0m\u001b[0;34m:\u001b[0m\u001b[0;34m\u001b[0m\u001b[0;34m\u001b[0m\u001b[0m\n\u001b[1;32m      7\u001b[0m     \u001b[0mnew_record\u001b[0m \u001b[0;34m=\u001b[0m \u001b[0;34m{\u001b[0m\u001b[0;34m'model'\u001b[0m\u001b[0;34m:\u001b[0m \u001b[0mmodel_type\u001b[0m\u001b[0;34m,\u001b[0m\u001b[0;34m'missing values'\u001b[0m\u001b[0;34m:\u001b[0m \u001b[0mmissing_values\u001b[0m\u001b[0;34m,\u001b[0m\u001b[0;34m'specificity'\u001b[0m\u001b[0;34m:\u001b[0m \u001b[0mresults_list\u001b[0m\u001b[0;34m[\u001b[0m\u001b[0;36m0\u001b[0m\u001b[0;34m]\u001b[0m\u001b[0;34m,\u001b[0m \u001b[0;34m'sensitivity'\u001b[0m\u001b[0;34m:\u001b[0m\u001b[0mresults_list\u001b[0m\u001b[0;34m[\u001b[0m\u001b[0;36m1\u001b[0m\u001b[0;34m]\u001b[0m\u001b[0;34m,\u001b[0m \u001b[0;34m'RMSE'\u001b[0m\u001b[0;34m:\u001b[0m\u001b[0mresults_list\u001b[0m\u001b[0;34m[\u001b[0m\u001b[0;36m2\u001b[0m\u001b[0;34m]\u001b[0m\u001b[0;34m}\u001b[0m\u001b[0;34m\u001b[0m\u001b[0;34m\u001b[0m\u001b[0m\n\u001b[0;32m----> 8\u001b[0;31m   \u001b[0mdf_experiments\u001b[0m \u001b[0;34m=\u001b[0m \u001b[0mdf_experiments\u001b[0m\u001b[0;34m.\u001b[0m\u001b[0mappend\u001b[0m\u001b[0;34m(\u001b[0m\u001b[0mnew_record\u001b[0m\u001b[0;34m,\u001b[0m \u001b[0mignore_index\u001b[0m\u001b[0;34m=\u001b[0m\u001b[0;32mTrue\u001b[0m\u001b[0;34m)\u001b[0m\u001b[0;34m\u001b[0m\u001b[0;34m\u001b[0m\u001b[0m\n\u001b[0m\u001b[1;32m      9\u001b[0m   \u001b[0mprint\u001b[0m\u001b[0;34m(\u001b[0m\u001b[0mdf_experiments\u001b[0m\u001b[0;34m)\u001b[0m\u001b[0;34m\u001b[0m\u001b[0;34m\u001b[0m\u001b[0m\n\u001b[1;32m     10\u001b[0m   \u001b[0;31m# return df_experiments\u001b[0m\u001b[0;34m\u001b[0m\u001b[0;34m\u001b[0m\u001b[0;34m\u001b[0m\u001b[0m\n",
            "\u001b[0;31mUnboundLocalError\u001b[0m: local variable 'df_experiments' referenced before assignment"
          ]
        }
      ]
    },
    {
      "cell_type": "code",
      "metadata": {
        "colab": {
          "base_uri": "https://localhost:8080/"
        },
        "id": "et70LbSoIp_j",
        "outputId": "f371bda0-1c3d-4fc5-b5c9-0d013eaf2ae2"
      },
      "source": [
        "from sklearn.metrics import confusion_matrix\n",
        "\n",
        "rf = RandomForestClassifier(n_estimators=25, min_samples_split=9, max_depth=15, max_features='auto',random_state=const_seed)\n",
        "predictor_var1 = ['age_at_diagnosis', 'primary_EDSS_at_diagnosis', 'MRI_lesion_mass','Lymph_Cells','PMN_Cells','Cells','gender_M','oligoclonal_band_POS']\n",
        "outcome_var = 'diagnosis_SPMS'\n",
        "tn, fp, fn, tp = calcCrossValidation_Matrix(rf, df_untreated, predictor_var1, outcome_var)\n",
        "print(calc_specificity(tn, fp, fn, tp))\n",
        "print(calc_sensitivity(tn, fp, fn, tp))"
      ],
      "execution_count": null,
      "outputs": [
        {
          "output_type": "stream",
          "text": [
            "0.8285714285714286\n",
            "0.47058823529411764\n"
          ],
          "name": "stdout"
        }
      ]
    }
  ]
}