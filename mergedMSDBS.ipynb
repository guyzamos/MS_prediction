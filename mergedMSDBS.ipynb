{
  "nbformat": 4,
  "nbformat_minor": 0,
  "metadata": {
    "colab": {
      "name": "mergedMSDBS.ipynb",
      "provenance": [],
      "collapsed_sections": [],
      "include_colab_link": true
    },
    "kernelspec": {
      "name": "python3",
      "display_name": "Python 3"
    }
  },
  "cells": [
    {
      "cell_type": "markdown",
      "metadata": {
        "id": "view-in-github",
        "colab_type": "text"
      },
      "source": [
        "<a href=\"https://colab.research.google.com/github/guyzamos/MS_prediction/blob/main/mergedMSDBS.ipynb\" target=\"_parent\"><img src=\"https://colab.research.google.com/assets/colab-badge.svg\" alt=\"Open In Colab\"/></a>"
      ]
    },
    {
      "cell_type": "markdown",
      "metadata": {
        "id": "M6tv6Y_weQ8z"
      },
      "source": [
        "import all the relevant libraries"
      ]
    },
    {
      "cell_type": "code",
      "metadata": {
        "id": "-z7hXJSeptCa"
      },
      "source": [
        "import pandas as pd\n",
        "import numpy as np\n",
        "import matplotlib.pyplot as plt\n",
        "import statistics as stats\n",
        "import io\n",
        "from sklearn.metrics import mean_squared_error\n",
        "from math import sqrt\n",
        "from sklearn.preprocessing import LabelEncoder\n",
        "from sklearn.model_selection import KFold\n",
        "from sklearn.ensemble import RandomForestRegressor\n",
        "from sklearn.ensemble import RandomForestClassifier\n",
        "from sklearn.linear_model import LogisticRegression\n",
        "from sklearn import metrics\n",
        "from sklearn.model_selection import train_test_split\n"
      ],
      "execution_count": null,
      "outputs": []
    },
    {
      "cell_type": "markdown",
      "metadata": {
        "id": "ugA1NC9JIkaQ"
      },
      "source": [
        "upload the db file"
      ]
    },
    {
      "cell_type": "code",
      "metadata": {
        "id": "tTM3VXFdxXAg",
        "colab": {
          "base_uri": "https://localhost:8080/"
        },
        "outputId": "76a36826-8e52-4839-ea87-06f56e0e8128"
      },
      "source": [
        "from google.colab import drive \n",
        "drive.mount('/content/gdrive')"
      ],
      "execution_count": null,
      "outputs": [
        {
          "output_type": "stream",
          "text": [
            "Drive already mounted at /content/gdrive; to attempt to forcibly remount, call drive.mount(\"/content/gdrive\", force_remount=True).\n"
          ],
          "name": "stdout"
        }
      ]
    },
    {
      "cell_type": "code",
      "metadata": {
        "id": "bqHsugaS5RJo"
      },
      "source": [
        "dfSecondDB = pd.read_pickle(\"/content/gdrive/My Drive/Colab Notebooks/MS_Notebooks/DFDB2Final.pkl\")\n",
        "dfFirstDB = pd.read_pickle(\"/content/gdrive/My Drive/Colab Notebooks/MS_Notebooks/DFDB1Final.pkl\")\n",
        "dfSecondDB = dfSecondDB[['sample_code','diagnosis','TIM3_RQ','TIGIT_RQ','LAG3_RQ','PD-1_RQ','gender','age_at_diagnosis','primary_EDSS_at_diagnosis','1_years_EDSS_from_sample_date','5_years_from_sample','EDSS_post_10_years','oligoclonal_band','MRI_lesion_mass','num_of_medicine_changed','positive_OCB','Male','diagnosis_RRMS']]\n",
        "dfFirstDB = dfFirstDB[['sample_code','diagnosis','TIM3_RQ','TIGIT_RQ','LAG3_RQ','PD-1_RQ','gender','age_at_diagnosis','primary_EDSS_at_diagnosis','1_years_EDSS_from_sample_date','5_years_from_sample','EDSS_post_10_years','oligoclonal_band','MRI_lesion_mass','num_of_medicine_changed','positive_OCB','Male','diagnosis_RRMS']]\n",
        "dfSecondDB.to_excel('dfSecondDBAfterFillNA.xlsx',index=False)\n",
        "dfFirstDB.to_excel('dfFirstDBAfterFillNA.xlsx',index=False)"
      ],
      "execution_count": null,
      "outputs": []
    },
    {
      "cell_type": "markdown",
      "metadata": {
        "id": "dCd7rKIvB-Ut"
      },
      "source": [
        "merged DBS"
      ]
    },
    {
      "cell_type": "code",
      "metadata": {
        "id": "CLqQ5QTWB9u2"
      },
      "source": [
        "dfMerged = pd.concat([dfFirstDB, dfSecondDB])\n",
        "dfMerged"
      ],
      "execution_count": null,
      "outputs": []
    },
    {
      "cell_type": "code",
      "metadata": {
        "id": "rMo32O6BBSoG",
        "colab": {
          "base_uri": "https://localhost:8080/",
          "height": 1000
        },
        "outputId": "d2bbafd9-b142-4e21-b955-c8672c5cb11b"
      },
      "source": [
        "import seaborn as sns\n",
        "sns.set_theme(style=\"ticks\", color_codes=True)\n",
        "sns.catplot(x=\"diagnosis\", kind=\"count\", palette=\"ch:.25\", data=dfMerged)\n",
        "sns.catplot(x=\"oligoclonal_band\", kind=\"count\", palette=\"ch:.25\", data=dfMerged)\n",
        "sns.catplot(x=\"gender\", kind=\"count\", palette=\"ch:.25\", data=dfMerged)"
      ],
      "execution_count": null,
      "outputs": [
        {
          "output_type": "execute_result",
          "data": {
            "text/plain": [
              "<seaborn.axisgrid.FacetGrid at 0x7f19d8b840b8>"
            ]
          },
          "metadata": {
            "tags": []
          },
          "execution_count": 47
        },
        {
          "output_type": "display_data",
          "data": {
            "image/png": "[encoded data removed]",
            "text/plain": [
              "<Figure size 360x360 with 1 Axes>"
            ]
          },
          "metadata": {
            "tags": []
          }
        },
        {
          "output_type": "display_data",
          "data": {
            "image/png": "[encoded data removed]",
            "text/plain": [
              "<Figure size 360x360 with 1 Axes>"
            ]
          },
          "metadata": {
            "tags": []
          }
        },
        {
          "output_type": "display_data",
          "data": {
            "image/png": "[encoded data removed]",
            "text/plain": [
              "<Figure size 360x360 with 1 Axes>"
            ]
          },
          "metadata": {
            "tags": []
          }
        }
      ]
    },
    {
      "cell_type": "markdown",
      "metadata": {
        "id": "b1T___Z0jrAV"
      },
      "source": [
        "find min and max ranges"
      ]
    },
    {
      "cell_type": "code",
      "metadata": {
        "id": "ppOGd_GmZ5il",
        "colab": {
          "base_uri": "https://localhost:8080/"
        },
        "outputId": "f1a32c2d-cc02-41a2-bca3-0b5af5351fc6"
      },
      "source": [
        "print('age_at_diagnosis')\n",
        "max_value = dfMerged['age_at_diagnosis'].max() \n",
        "print(max_value)\n",
        "min_value = dfMerged['age_at_diagnosis'].min() \n",
        "print(min_value)\n",
        "\n",
        "print('primary_EDSS_at_diagnosis')\n",
        "max_value = dfMerged['primary_EDSS_at_diagnosis'].max() \n",
        "print(max_value)\n",
        "min_value = dfMerged['primary_EDSS_at_diagnosis'].min() \n",
        "print(min_value)\n",
        "\n",
        "print('num_of_medicine_changed')\n",
        "max_value = dfMerged['num_of_medicine_changed'].max() \n",
        "print(max_value)\n",
        "min_value = dfMerged['num_of_medicine_changed'].min() \n",
        "print(min_value)\n",
        "\n",
        "print('TIGIT_RQ')\n",
        "max_value = dfMerged['TIGIT_RQ'].max() \n",
        "print(max_value)\n",
        "min_value = dfMerged['TIGIT_RQ'].min() \n",
        "print(min_value)\n",
        "\n",
        "print('TIM3_RQ')\n",
        "max_value = dfMerged['TIM3_RQ'].max() \n",
        "print(max_value)\n",
        "min_value = dfMerged['TIM3_RQ'].min() \n",
        "print(min_value)\n",
        "\n",
        "print('LAG3_RQ')\n",
        "max_value = dfMerged['LAG3_RQ'].max() \n",
        "print(max_value)\n",
        "min_value = dfMerged['LAG3_RQ'].min() \n",
        "print(min_value)\n",
        "\n",
        "print('PD-1_RQ')\n",
        "max_value = dfMerged['PD-1_RQ'].max() \n",
        "print(max_value)\n",
        "min_value = dfMerged['PD-1_RQ'].min() \n",
        "print(min_value)\n",
        "\n",
        "\n",
        "print('1_years_EDSS_from_sample_date')\n",
        "max_value = dfMerged['1_years_EDSS_from_sample_date'].max() \n",
        "print(max_value)\n",
        "min_value = dfMerged['1_years_EDSS_from_sample_date'].min() \n",
        "print(min_value)\n",
        "\n",
        "\n",
        "print('5_years_from_sample')\n",
        "max_value = dfMerged['5_years_from_sample'].max() \n",
        "print(max_value)\n",
        "min_value = dfMerged['5_years_from_sample'].min() \n",
        "print(min_value)\n",
        "\n",
        "print('EDSS_post_10_years')\n",
        "max_value = dfMerged['EDSS_post_10_years'].max() \n",
        "print(max_value)\n",
        "min_value = dfMerged['EDSS_post_10_years'].min() \n",
        "print(min_value)\n",
        "\n",
        "\n",
        "print('MRI_lesion_mass')\n",
        "max_value = dfMerged['MRI_lesion_mass'].max() \n",
        "print(max_value)\n",
        "min_value = dfMerged['MRI_lesion_mass'].min() \n",
        "print(min_value)\n"
      ],
      "execution_count": null,
      "outputs": [
        {
          "output_type": "stream",
          "text": [
            "age_at_diagnosis\n",
            "67\n",
            "16\n",
            "primary_EDSS_at_diagnosis\n",
            "5.0\n",
            "0.0\n",
            "num_of_medicine_changed\n",
            "6\n",
            "0\n",
            "TIGIT_RQ\n",
            "2.963221522\n",
            "0.0242324879965762\n",
            "TIM3_RQ\n",
            "4.498309339\n",
            "0.145306643566523\n",
            "LAG3_RQ\n",
            "6.850679064\n",
            "0.0195415818476979\n",
            "PD-1_RQ\n",
            "16.7971678906139\n",
            "0.00718403819961321\n",
            "1_years_EDSS_from_sample_date\n",
            "10.0\n",
            "0.0\n",
            "5_years_from_sample\n",
            "10.0\n",
            "0.0\n",
            "EDSS_post_10_years\n",
            "10.0\n",
            "0.0\n",
            "MRI_lesion_mass\n",
            "104776.0\n",
            "0.0\n"
          ],
          "name": "stdout"
        }
      ]
    },
    {
      "cell_type": "code",
      "metadata": {
        "id": "9zwSgN_4KKnd",
        "colab": {
          "base_uri": "https://localhost:8080/",
          "height": 1000
        },
        "outputId": "4949e630-8160-4fe4-c6d1-dc030c1f6937"
      },
      "source": [
        "degrees = dfMerged['age_at_diagnosis']\n",
        "plt.hist(degrees, bins=[15,20,25,30,35,40,45,50,55])\n",
        "# plt.title('age')\n",
        "plt.xlabel('age_at_diagnosis')\n",
        "plt.ylabel('number of patients')\n",
        "plt.show()\n",
        "\n",
        "degrees = dfMerged['num_of_medicine_changed']\n",
        "plt.hist(degrees, bins=[0,1,2,3,4,5])\n",
        "# plt.title('num_of_medicine_changed')\n",
        "plt.xlabel('num_of_medicine_changed')\n",
        "plt.ylabel('number of patients')\n",
        "plt.show()\n",
        "\n",
        "\n",
        "degrees = dfMerged['TIGIT_RQ']\n",
        "plt.hist(degrees, bins=[0, 0.25, 0.5, 0.75, 1, 1.25, 1.5, 1.75, 2, 2.25, 2.5, 2.75, 3])\n",
        "# plt.title('TIGIT_RQ')\n",
        "plt.xlabel('TIGIT_RQ')\n",
        "plt.ylabel('number of patients')\n",
        "plt.show()\n",
        "\n",
        "\n",
        "degrees = dfMerged['TIM3_RQ']\n",
        "plt.hist(degrees, bins=[0, 0.25, 0.5, 0.75, 1, 1.25, 1.5, 1.75, 2, 2.25, 2.5, 2.75, 3, 3.25, 3.5, 3.75, 4, 4.25, 4.5])\n",
        "# plt.title('TIM3_RQ')\n",
        "plt.xlabel('TIM3_RQ')\n",
        "plt.ylabel('number of patients')\n",
        "plt.show()\n",
        "\n",
        "\n",
        "degrees = dfMerged['LAG3_RQ']\n",
        "plt.hist(degrees, bins=[0, 0.5, 1, 1.5, 2, 2.5, 3, 3.5, 4, 4.5, 5, 5.5, 6, 6.5, 7])\n",
        "# plt.title('LAG3_RQ')\n",
        "plt.xlabel('LAG3_RQ')\n",
        "plt.ylabel('number of patients')\n",
        "plt.show()\n",
        "\n",
        "\n",
        "degrees = dfMerged['PD-1_RQ']\n",
        "plt.hist(degrees, bins=[0, 0.5, 1, 1.5, 2, 2.5, 3, 3.5, 4, 4.5, 5, 5.5, 6, 6.5, 7, 7.5, 8, 8.5])\n",
        "# plt.title('PD-1_RQ')\n",
        "plt.xlabel('PD-1_RQ')\n",
        "plt.ylabel('number of patients')\n",
        "plt.show()\n",
        "\n",
        "\n",
        "\n",
        "degrees = dfMerged['primary_EDSS_at_diagnosis']\n",
        "plt.hist(degrees, bins=[0, 0.5, 1, 1.5, 2, 2.5, 3, 3.5, 4, 4.5])\n",
        "# plt.title('primary_EDSS_at_diagnosis')\n",
        "plt.xlabel('primary_EDSS_at_diagnosis')\n",
        "plt.ylabel('number of patients')\n",
        "plt.show()\n",
        "\n",
        "\n",
        "degrees = dfMerged['1_years_EDSS_from_sample_date']\n",
        "plt.hist(degrees, bins=[0, 0.5, 1, 1.5, 2, 2.5, 3, 3.5, 4, 4.5, 5, 5.5])\n",
        "# plt.title('1_years_EDSS_from_sample_date')\n",
        "plt.xlabel('1_years_EDSS_from_sample_date')\n",
        "plt.ylabel('number of patients')\n",
        "plt.show()\n",
        "\n",
        "\n",
        "\n",
        "degrees = dfMerged['5_years_from_sample']\n",
        "plt.hist(degrees, bins=[0, 0.5, 1, 1.5, 2, 2.5, 3, 3.5, 4, 4.5, 5, 5.5, 6, 6.5, 7, 7.5])\n",
        "# plt.title('5_years_EDSS_from_sample_date')\n",
        "plt.xlabel('5_years_EDSS_from_sample_date')\n",
        "plt.ylabel('number of patients')\n",
        "plt.show()\n",
        "\n",
        "\n",
        "degrees = dfMerged['EDSS_post_10_years']\n",
        "plt.hist(degrees, bins=[0, 0.5, 1, 1.5, 2, 2.5, 3, 3.5, 4, 4.5, 5, 5.5, 6, 6.5, 7, 7.5])\n",
        "# plt.title('EDSS_post_10_years')\n",
        "plt.xlabel('EDSS_post_10_years')\n",
        "plt.ylabel('number of patients')\n",
        "plt.show()\n",
        "\n",
        "\n",
        "degrees = dfMerged['MRI_lesion_mass']\n",
        "plt.hist(degrees)\n",
        "# plt.title('MRI_lesion_mass')\n",
        "plt.xlabel('MRI_lesion_mass')\n",
        "plt.ylabel('number of patients')\n",
        "plt.show()"
      ],
      "execution_count": null,
      "outputs": [
        {
          "output_type": "display_data",
          "data": {
            "image/png": "[encoded data removed]",
            "text/plain": [
              "<Figure size 432x288 with 1 Axes>"
            ]
          },
          "metadata": {
            "tags": []
          }
        },
        {
          "output_type": "display_data",
          "data": {
            "image/png": "[encoded data removed]",
            "text/plain": [
              "<Figure size 432x288 with 1 Axes>"
            ]
          },
          "metadata": {
            "tags": []
          }
        },
        {
          "output_type": "display_data",
          "data": {
            "image/png": "[encoded data removed]",
            "text/plain": [
              "<Figure size 432x288 with 1 Axes>"
            ]
          },
          "metadata": {
            "tags": []
          }
        },
        {
          "output_type": "display_data",
          "data": {
            "image/png": "[encoded data removed]",
            "text/plain": [
              "<Figure size 432x288 with 1 Axes>"
            ]
          },
          "metadata": {
            "tags": []
          }
        },
        {
          "output_type": "display_data",
          "data": {
            "image/png": "[encoded data removed]",
            "text/plain": [
              "<Figure size 432x288 with 1 Axes>"
            ]
          },
          "metadata": {
            "tags": []
          }
        },
        {
          "output_type": "display_data",
          "data": {
            "image/png": "[encoded data removed]",
            "text/plain": [
              "<Figure size 432x288 with 1 Axes>"
            ]
          },
          "metadata": {
            "tags": []
          }
        },
        {
          "output_type": "display_data",
          "data": {
            "image/png": "[encoded data removed]",
            "text/plain": [
              "<Figure size 432x288 with 1 Axes>"
            ]
          },
          "metadata": {
            "tags": []
          }
        },
        {
          "output_type": "display_data",
          "data": {
            "image/png": "[encoded data removed]",
            "text/plain": [
              "<Figure size 432x288 with 1 Axes>"
            ]
          },
          "metadata": {
            "tags": []
          }
        },
        {
          "output_type": "display_data",
          "data": {
            "image/png": "[encoded data removed]",
            "text/plain": [
              "<Figure size 432x288 with 1 Axes>"
            ]
          },
          "metadata": {
            "tags": []
          }
        },
        {
          "output_type": "display_data",
          "data": {
            "image/png": "[encoded data removed]",
            "text/plain": [
              "<Figure size 432x288 with 1 Axes>"
            ]
          },
          "metadata": {
            "tags": []
          }
        },
        {
          "output_type": "display_data",
          "data": {
            "image/png": "[encoded data removed]",
            "text/plain": [
              "<Figure size 432x288 with 1 Axes>"
            ]
          },
          "metadata": {
            "tags": []
          }
        }
      ]
    },
    {
      "cell_type": "markdown",
      "metadata": {
        "id": "NCzzeXV2A3Ly"
      },
      "source": [
        "function for calculate cross validation score on one DB"
      ]
    },
    {
      "cell_type": "code",
      "metadata": {
        "id": "gdBQ5RTFFrmA"
      },
      "source": [
        "def calcCrossValidation(model, data, predictors, outcome):\n",
        "\n",
        "    # Perform k-fold cross-validation with 10 folds\n",
        "    kf = KFold(n_splits=10)\n",
        "    accuracy = []\n",
        "    for train, test in kf.split(data):\n",
        "        # Filter training data\n",
        "        train_predictors = (data[predictors].iloc[train, :])\n",
        "        # The target we're using to train the algorithm.\n",
        "        train_target = data[outcome].iloc[train]\n",
        "\n",
        "        # Training the algorithm using the predictors and target.\n",
        "        model.fit(train_predictors, train_target)\n",
        "        # Record accuracy from each cross-validation run\n",
        "        accuracy.append(model.score(data[predictors].iloc[test, :], data[outcome].iloc[test]))\n",
        "\n",
        "    print(\"Cross-Validation Score : %s\" % \"{0:.3%}\".format(np.mean(accuracy)))\n",
        "    print(accuracy)"
      ],
      "execution_count": null,
      "outputs": []
    },
    {
      "cell_type": "markdown",
      "metadata": {
        "id": "QB9Aq9q5Yqxu"
      },
      "source": [
        "function for calcuate RMSE on one DB only train "
      ]
    },
    {
      "cell_type": "code",
      "metadata": {
        "id": "XCaeeHhqYptH"
      },
      "source": [
        "# def calc_rmse(model, data, predictors, outcome):\n",
        "\n",
        "#   # Fit the model on training set:\n",
        "#   model.fit(data[predictors], data[outcome])\n",
        "#   # Make predictions on training set:\n",
        "#   y_predicted = model.predict(data[predictors])\n",
        "#   rmse = sqrt(mean_squared_error(data[outcome], y_predicted))  \n",
        "#   print(rmse)"
      ],
      "execution_count": null,
      "outputs": []
    },
    {
      "cell_type": "code",
      "metadata": {
        "id": "OhhE7LGpYeHj"
      },
      "source": [
        "def calc_rmse(model, data, predictors, outcome):\n",
        "  df_label = data[outcome]\n",
        "  df_predictors = data[predictors]\n",
        "  X_train, X_test, y_train, y_test = train_test_split(df_predictors, df_label)\n",
        "  # Fit the model on training set:\n",
        "  model.fit(X_train,  y_train)\n",
        "  # Make predictions on training set:\n",
        "  y_predicted = model.predict(X_test)\n",
        "  rmse = sqrt(mean_squared_error(y_test, y_predicted))  \n",
        "  print(rmse)"
      ],
      "execution_count": null,
      "outputs": []
    },
    {
      "cell_type": "markdown",
      "metadata": {
        "id": "xM4POuYFpWwA"
      },
      "source": [
        "function for calculate RMSE on Two databases. train on one and test on the other"
      ]
    },
    {
      "cell_type": "code",
      "metadata": {
        "id": "pIn_5o2ZsoC2"
      },
      "source": [
        "def calcRmseTwoDF(model, dataTrain, dataTest, predictors, outcome):\n",
        "\n",
        "    # Fit the model:\n",
        "    model.fit(dataTrain[predictors], dataTrain[outcome])\n",
        "    # Make predictions on totraining set:\n",
        "    predictions = model.predict(dataTest[predictors])\n",
        "    # Print accuracy\n",
        "    rmse = sqrt(mean_squared_error(dataTest[outcome], predictions))  \n",
        "    print(rmse)"
      ],
      "execution_count": null,
      "outputs": []
    },
    {
      "cell_type": "markdown",
      "metadata": {
        "id": "wxcZ53DKNYX7"
      },
      "source": [
        "calculate accuracy just on train one DB"
      ]
    },
    {
      "cell_type": "code",
      "metadata": {
        "id": "rC74sZreFN4-"
      },
      "source": [
        "def calcAccuracy(model, data, predictors, outcome):\n",
        "    # Fit the model:\n",
        "    model.fit(data[predictors], data[outcome])\n",
        "    # Make predictions on training set:\n",
        "    predictions = model.predict(data[predictors])\n",
        "    # Print accuracy\n",
        "    accuracy = metrics.accuracy_score(predictions, data[outcome])\n",
        "    print(\"Training accuracy : %s\" % \"{0:.3%}\".format(accuracy))"
      ],
      "execution_count": null,
      "outputs": []
    },
    {
      "cell_type": "markdown",
      "metadata": {
        "id": "butTxKtlDg6F"
      },
      "source": [
        "calculate Accuracy Two databases train on one and test on the other"
      ]
    },
    {
      "cell_type": "code",
      "metadata": {
        "id": "CxVt3G48CgKS"
      },
      "source": [
        "def calcAccuracyTwoDF(model, dataTrain, dataTest, predictors, outcome):\n",
        "\n",
        "    # Fit the model:\n",
        "    model.fit(dataTrain[predictors], dataTrain[outcome])\n",
        "    # Make predictions on testing set:\n",
        "    predictions = model.predict(dataTest[predictors])\n",
        "    # Print accuracy\n",
        "    accuracy = metrics.accuracy_score(predictions, dataTest[outcome])\n",
        "    print(\"Training accuracy : %s\" % \"{0:.3%}\".format(accuracy))"
      ],
      "execution_count": null,
      "outputs": []
    },
    {
      "cell_type": "code",
      "metadata": {
        "id": "LqMV3v3PgGLm",
        "colab": {
          "base_uri": "https://localhost:8080/"
        },
        "outputId": "f28ce19e-6d1d-4c28-d293-d87fd86a5304"
      },
      "source": [
        "# check RMSE mergesDB - target EDSS - Random Forest Algorithm\n",
        "rf1 = RandomForestRegressor(n_estimators = 10, random_state = 42)\n",
        "predictor_var1 = ['MRI_lesion_mass', 'primary_EDSS_at_diagnosis','age_at_diagnosis','TIM3_RQ', 'TIGIT_RQ', 'LAG3_RQ', 'PD-1_RQ', 'Male', 'positive_OCB']\n",
        "outcome_var1 = 'EDSS_post_10_years'\n",
        "calc_rmse(rf1, dfMerged, predictor_var1, outcome_var1)"
      ],
      "execution_count": null,
      "outputs": [
        {
          "output_type": "stream",
          "text": [
            "2.2456279361430753\n"
          ],
          "name": "stdout"
        }
      ]
    },
    {
      "cell_type": "code",
      "metadata": {
        "id": "bSKgW1QSBGII",
        "colab": {
          "base_uri": "https://localhost:8080/"
        },
        "outputId": "a2b263e1-dd40-4f1a-f7e3-e21bf80bea0c"
      },
      "source": [
        "# check accuracy second DB target diagnosis_RRMS - Random Forest Algorithm\n",
        "rf2 = RandomForestClassifier(n_estimators=25, min_samples_split=25, max_depth=7, max_features='auto')\n",
        "predictor_var1 = ['MRI_lesion_mass', 'primary_EDSS_at_diagnosis','age_at_diagnosis','TIM3_RQ', 'TIGIT_RQ', 'LAG3_RQ', 'PD-1_RQ', 'Male', 'positive_OCB']\n",
        "outcome_var1 = 'diagnosis_RRMS'\n",
        "calcAccuracy(rf2, dfMerged, predictor_var1, outcome_var1)"
      ],
      "execution_count": null,
      "outputs": [
        {
          "output_type": "stream",
          "text": [
            "Training accuracy : 89.474%\n"
          ],
          "name": "stdout"
        }
      ]
    },
    {
      "cell_type": "code",
      "metadata": {
        "id": "eBq4u3a76cW0",
        "colab": {
          "base_uri": "https://localhost:8080/"
        },
        "outputId": "6089825e-b295-4757-bc06-a90f68b25b22"
      },
      "source": [
        "# check Cross Validation Score - Random Forest Algorithm\n",
        "rf3 = RandomForestClassifier(n_estimators=25, min_samples_split=25, max_depth=7, max_features='auto')\n",
        "# Train the model on training data\n",
        "predictor_var1 = ['MRI_lesion_mass', 'primary_EDSS_at_diagnosis','age_at_diagnosis','TIM3_RQ', 'TIGIT_RQ', 'LAG3_RQ', 'PD-1_RQ', 'Male', 'positive_OCB']\n",
        "outcome_var = 'diagnosis_RRMS'\n",
        "calcCrossValidation(rf3, dfMerged, predictor_var1, outcome_var)"
      ],
      "execution_count": null,
      "outputs": [
        {
          "output_type": "stream",
          "text": [
            "Cross-Validation Score : 75.455%\n",
            "[0.5, 0.75, 0.8333333333333334, 0.9166666666666666, 1.0, 0.8181818181818182, 0.9090909090909091, 0.8181818181818182, 0.45454545454545453, 0.5454545454545454]\n"
          ],
          "name": "stdout"
        }
      ]
    },
    {
      "cell_type": "markdown",
      "metadata": {
        "id": "oKzuipFRND9h"
      },
      "source": [
        "calculate RMSE target EDSS train on one DB and test on the other"
      ]
    },
    {
      "cell_type": "code",
      "metadata": {
        "id": "7ewuZvu8v_Lk",
        "colab": {
          "base_uri": "https://localhost:8080/"
        },
        "outputId": "b0b487b6-5213-4fc2-ac25-b04c4b5150a3"
      },
      "source": [
        "rf4 = RandomForestRegressor(n_estimators = 10, random_state = 42)\n",
        "predictor_var1 = ['MRI_lesion_mass', 'primary_EDSS_at_diagnosis','age_at_diagnosis','TIM3_RQ', 'TIGIT_RQ', 'LAG3_RQ', 'PD-1_RQ', 'Male', 'positive_OCB']\n",
        "outcome_var1 = 'EDSS_post_10_years'\n",
        "calcRmseTwoDF(rf4, dfSecondDB, dfFirstDB, predictor_var1, outcome_var1)"
      ],
      "execution_count": null,
      "outputs": [
        {
          "output_type": "stream",
          "text": [
            "2.2693514801261787\n"
          ],
          "name": "stdout"
        }
      ]
    },
    {
      "cell_type": "markdown",
      "metadata": {
        "id": "EjDiUVlPMzZT"
      },
      "source": [
        "calculate RMSE target EDSS train on one DB and test on the other"
      ]
    },
    {
      "cell_type": "code",
      "metadata": {
        "id": "F5kGYQWD2GzN",
        "colab": {
          "base_uri": "https://localhost:8080/"
        },
        "outputId": "06c545d9-e565-44ea-b3b4-79ca77a1a8cc"
      },
      "source": [
        "rf5 = RandomForestRegressor(n_estimators = 10, random_state = 42)\n",
        "predictor_var1 = ['MRI_lesion_mass', 'primary_EDSS_at_diagnosis','age_at_diagnosis','TIM3_RQ', 'TIGIT_RQ', 'LAG3_RQ', 'PD-1_RQ', 'Male', 'positive_OCB']\n",
        "outcome_var1 = 'EDSS_post_10_years'\n",
        "calcRmseTwoDF(rf5, dfFirstDB, dfSecondDB, predictor_var1, outcome_var1)"
      ],
      "execution_count": null,
      "outputs": [
        {
          "output_type": "stream",
          "text": [
            "2.52535389217071\n"
          ],
          "name": "stdout"
        }
      ]
    },
    {
      "cell_type": "markdown",
      "metadata": {
        "id": "QgqeTIJG8xbt"
      },
      "source": [
        "using logistic regression model - prediction, p-value, feature importance"
      ]
    },
    {
      "cell_type": "markdown",
      "metadata": {
        "id": "TEWuJo3-KCM2"
      },
      "source": [
        "calc accuracy each df"
      ]
    },
    {
      "cell_type": "code",
      "metadata": {
        "id": "N3sACy7N9JT2",
        "colab": {
          "base_uri": "https://localhost:8080/"
        },
        "outputId": "0caa6ea7-6cb0-4003-b21c-b3a35320f6a1"
      },
      "source": [
        "logisticRegrDF = LogisticRegression()\n",
        "predictor_var1 = ['MRI_lesion_mass', 'primary_EDSS_at_diagnosis','age_at_diagnosis','TIM3_RQ', 'TIGIT_RQ', 'LAG3_RQ', 'PD-1_RQ', 'Male', 'positive_OCB']\n",
        "outcome_var = 'diagnosis_RRMS'\n",
        "calcAccuracy(logisticRegrDF, dfMerged, predictor_var1, outcome_var)"
      ],
      "execution_count": null,
      "outputs": [
        {
          "output_type": "stream",
          "text": [
            "Training accuracy : 76.316%\n"
          ],
          "name": "stdout"
        }
      ]
    },
    {
      "cell_type": "markdown",
      "metadata": {
        "id": "lgePZT5nKIqm"
      },
      "source": [
        "calc accuracy both df merged"
      ]
    },
    {
      "cell_type": "code",
      "metadata": {
        "id": "OpUm-OZyJhIQ",
        "colab": {
          "base_uri": "https://localhost:8080/"
        },
        "outputId": "34c075f2-dc4b-4889-b510-71ce91586b45"
      },
      "source": [
        "logisticRegrDFMerged = LogisticRegression(max_iter = 2000)\n",
        "predictor_var = ['MRI_lesion_mass', 'primary_EDSS_at_diagnosis','age_at_diagnosis','TIM3_RQ', 'TIGIT_RQ', 'LAG3_RQ', 'PD-1_RQ', 'Male', 'positive_OCB']\n",
        "outcome_var = 'diagnosis_RRMS'\n",
        "calcAccuracyTwoDF(logisticRegrDFMerged, dfFirstDB, dfSecondDB, predictor_var, outcome_var)"
      ],
      "execution_count": null,
      "outputs": [
        {
          "output_type": "stream",
          "text": [
            "Training accuracy : 71.930%\n"
          ],
          "name": "stdout"
        }
      ]
    },
    {
      "cell_type": "code",
      "metadata": {
        "id": "H39Tn9xFroPF",
        "colab": {
          "base_uri": "https://localhost:8080/"
        },
        "outputId": "03a017cb-2fc8-4ecf-8a77-a9c029e43055"
      },
      "source": [
        "rf3 = RandomForestClassifier(n_estimators=25, min_samples_split=25, max_depth=7, max_features='auto')\n",
        "predictor_var = ['MRI_lesion_mass', 'primary_EDSS_at_diagnosis','age_at_diagnosis','TIM3_RQ', 'TIGIT_RQ', 'LAG3_RQ', 'PD-1_RQ', 'Male', 'positive_OCB']\n",
        "outcome_var = 'diagnosis_RRMS'\n",
        "calcAccuracyTwoDF(rf3, dfFirstDB, dfSecondDB, predictor_var, outcome_var)"
      ],
      "execution_count": null,
      "outputs": [
        {
          "output_type": "stream",
          "text": [
            "Training accuracy : 75.439%\n"
          ],
          "name": "stdout"
        }
      ]
    },
    {
      "cell_type": "code",
      "metadata": {
        "id": "5xOVz_dCJ7r1",
        "colab": {
          "base_uri": "https://localhost:8080/"
        },
        "outputId": "22c00460-c9a7-4f80-cf87-0c226f67baf7"
      },
      "source": [
        "logisticRegrDFMerged = LogisticRegression(max_iter = 2000)\n",
        "predictor_var = ['MRI_lesion_mass', 'primary_EDSS_at_diagnosis','age_at_diagnosis','TIM3_RQ', 'TIGIT_RQ', 'LAG3_RQ', 'PD-1_RQ', 'Male', 'positive_OCB']\n",
        "outcome_var = 'diagnosis_RRMS'\n",
        "calcAccuracyTwoDF(logisticRegrDFMerged, dfSecondDB, dfFirstDB, predictor_var, outcome_var)\n",
        "\n"
      ],
      "execution_count": null,
      "outputs": [
        {
          "output_type": "stream",
          "text": [
            "Training accuracy : 70.175%\n"
          ],
          "name": "stdout"
        }
      ]
    },
    {
      "cell_type": "code",
      "metadata": {
        "id": "e2Ileit7saUi",
        "colab": {
          "base_uri": "https://localhost:8080/"
        },
        "outputId": "f0600a40-f461-424f-a4d8-cfa716fba66a"
      },
      "source": [
        "rf3 = RandomForestClassifier(n_estimators=25, min_samples_split=25, max_depth=7, max_features='auto')\n",
        "predictor_var = ['MRI_lesion_mass', 'primary_EDSS_at_diagnosis','age_at_diagnosis','TIM3_RQ', 'TIGIT_RQ', 'LAG3_RQ', 'PD-1_RQ', 'Male', 'positive_OCB']\n",
        "outcome_var = 'diagnosis_RRMS'\n",
        "calcAccuracyTwoDF(rf3, dfSecondDB, dfFirstDB, predictor_var, outcome_var)"
      ],
      "execution_count": null,
      "outputs": [
        {
          "output_type": "stream",
          "text": [
            "Training accuracy : 68.421%\n"
          ],
          "name": "stdout"
        }
      ]
    },
    {
      "cell_type": "markdown",
      "metadata": {
        "id": "nUhTQAbJ6fkS"
      },
      "source": [
        "Calculate feature importances"
      ]
    },
    {
      "cell_type": "code",
      "metadata": {
        "id": "pzD4B37P0bc_",
        "colab": {
          "base_uri": "https://localhost:8080/"
        },
        "outputId": "00978c8e-8870-4237-a176-848ae8f87142"
      },
      "source": [
        "rf = RandomForestClassifier(n_estimators=25, min_samples_split=25, max_depth=7, max_features='auto')\n",
        "predictor_var = ['MRI_lesion_mass', 'primary_EDSS_at_diagnosis','age_at_diagnosis','TIM3_RQ', 'TIGIT_RQ', 'LAG3_RQ', 'PD-1_RQ', 'Male', 'positive_OCB']\n",
        "outcome_var = 'diagnosis_RRMS'\n",
        "rf.fit(dfMerged[predictor_var], dfMerged[outcome_var])\n",
        "importances = rf.feature_importances_\n",
        "importances\n"
      ],
      "execution_count": null,
      "outputs": [
        {
          "output_type": "execute_result",
          "data": {
            "text/plain": [
              "array([0.10977071, 0.30531881, 0.19084266, 0.20448185, 0.03835195,\n",
              "       0.03727679, 0.04242832, 0.06529867, 0.00623024])"
            ]
          },
          "metadata": {
            "tags": []
          },
          "execution_count": 66
        }
      ]
    },
    {
      "cell_type": "code",
      "metadata": {
        "id": "MxEujUEW-NEE"
      },
      "source": [
        "dfMerged.to_excel('dfMergedcheck.xlsx',index=False)"
      ],
      "execution_count": null,
      "outputs": []
    },
    {
      "cell_type": "code",
      "metadata": {
        "id": "VKHn9nKvxuZO",
        "colab": {
          "base_uri": "https://localhost:8080/",
          "height": 285
        },
        "outputId": "e4f7d474-3049-40fd-d344-13beb46fbb9c"
      },
      "source": [
        "\n",
        "from sklearn import linear_model\n",
        "\n",
        "rf = RandomForestRegressor(n_estimators = 10, random_state = 42)\n",
        "\n",
        "\n",
        "\n",
        "\n",
        "\n",
        "from sklearn import datasets\n",
        "\n",
        "# boston = datasets.load_boston()\n",
        "# print(boston)\n",
        "# print(outcome_var)\n",
        "predictor_var = ['MRI_lesion_mass', 'primary_EDSS_at_diagnosis','age_at_diagnosis','TIM3_RQ', 'TIGIT_RQ', 'LAG3_RQ', 'PD-1_RQ', 'Male', 'positive_OCB']\n",
        "outcome_var = 'EDSS_post_10_years'\n",
        "y = dfMerged[outcome_var]\n",
        "\n",
        "\n",
        "\n",
        "\n",
        "# dfMerged[outcome_var]\n",
        "\n",
        "from sklearn.model_selection import cross_val_predict\n",
        "\n",
        "predicted = cross_val_predict(rf, dfMerged[predictor_var], y, cv=10)\n",
        "\n",
        "\n",
        "fig, ax = plt.subplots()\n",
        "ax.scatter(y, predicted, edgecolors=(0, 0, 0))\n",
        "ax.plot([y.min(), y.max()], [y.min(), y.max()], 'k--', lw=4)\n",
        "ax.set_xlabel('Measured')\n",
        "ax.set_ylabel('Predicted')\n",
        "plt.show()"
      ],
      "execution_count": null,
      "outputs": [
        {
          "output_type": "display_data",
          "data": {
            "image/png": "[encoded data removed]",
            "text/plain": [
              "<Figure size 432x288 with 1 Axes>"
            ]
          },
          "metadata": {
            "tags": []
          }
        }
      ]
    },
    {
      "cell_type": "code",
      "metadata": {
        "id": "EPR8or6FOxYR"
      },
      "source": [
        "# print(__doc__)\n",
        "\n",
        "# import numpy as np\n",
        "# import matplotlib.pyplot as plt\n",
        "\n",
        "# from sklearn import svm, datasets\n",
        "# from sklearn.model_selection import train_test_split\n",
        "# from sklearn.metrics import plot_confusion_matrix\n",
        "\n",
        "# model = RandomForestClassifier(n_estimators=25, min_samples_split=25, max_depth=7, max_features='auto')\n",
        "# predictor_var = ['MRI_lesion_mass', 'primary_EDSS_at_diagnosis','age_at_diagnosis','TIM3_RQ', 'TIGIT_RQ', 'LAG3_RQ', 'PD-1_RQ', 'Male', 'positive_OCB']\n",
        "# outcome_var = 'diagnosis_RRMS'\n",
        "\n",
        "# # Fit the model:\n",
        "# model.fit(dfMerged[predictor_var], dfMerged[outcome_var])\n",
        "# # Make predictions on training set:\n",
        "# predictions = model.predict(dfMerged[predictor_var])\n",
        "# # Print accuracy\n",
        "\n",
        "# # Plot non-normalized confusion matrix\n",
        "# titles_options = [(\"Confusion matrix, without normalization\", None),\n",
        "#                   (\"Normalized confusion matrix\", 'true')]\n",
        "# for title, normalize in titles_options:\n",
        "#     disp = plot_confusion_matrix(model, X_test, y_test,\n",
        "#                                  display_labels=class_names,\n",
        "#                                  cmap=plt.cm.Blues,\n",
        "#                                  normalize=normalize)\n",
        "#     disp.ax_.set_title(title)\n",
        "\n",
        "#     print(title)\n",
        "#     print(disp.confusion_matrix)\n",
        "\n",
        "# plt.show()\n",
        "\n",
        "\n",
        "# # X = dfMerged[predictor_var]\n",
        "# # y = dfMerged[outcome_var]\n",
        "# class_names = ['SPMS', 'RRMS']\n",
        "\n",
        "# # Split the data into a training set and a test set\n",
        "# X_train, X_test, y_train, y_test = train_test_split(X, y, random_state=0)\n",
        "\n",
        "# # # Run classifier, using a model that is too regularized (C too low) to see\n",
        "# # # the impact on the results\n",
        "# # classifier = svm.SVC(kernel='linear', C=0.01).fit(X_train, y_train)\n",
        "\n",
        "# np.set_printoptions(precision=2)\n",
        "\n",
        "# # Plot non-normalized confusion matrix\n",
        "# titles_options = [(\"Confusion matrix, without normalization\", None),\n",
        "#                   (\"Normalized confusion matrix\", 'true')]\n",
        "# for title, normalize in titles_options:\n",
        "#     disp = plot_confusion_matrix(classifier, X_test, y_test,\n",
        "#                                  display_labels=class_names,\n",
        "#                                  cmap=plt.cm.Blues,\n",
        "#                                  normalize=normalize)\n",
        "#     disp.ax_.set_title(title)\n",
        "\n",
        "#     print(title)\n",
        "#     print(disp.confusion_matrix)\n",
        "\n",
        "# plt.show()"
      ],
      "execution_count": null,
      "outputs": []
    },
    {
      "cell_type": "code",
      "metadata": {
        "id": "LCKs3pvy671W",
        "colab": {
          "base_uri": "https://localhost:8080/"
        },
        "outputId": "2877eeea-9b7a-44d6-b49d-6ac5f88f4c2c"
      },
      "source": [
        "# def trained_model_to_pickle:\r\n",
        "import pickle\r\n",
        "rf3 = RandomForestClassifier(n_estimators=25, min_samples_split=25, max_depth=7, max_features='auto')\r\n",
        "predictor_var = ['MRI_lesion_mass', 'primary_EDSS_at_diagnosis','age_at_diagnosis','TIM3_RQ', 'TIGIT_RQ', 'LAG3_RQ', 'PD-1_RQ', 'Male', 'positive_OCB']\r\n",
        "outcome_var = 'diagnosis_RRMS'\r\n",
        "rf3.fit(dfMerged[predictor_var], dfMerged[outcome_var])\r\n",
        "\r\n",
        "# save the model to disk\r\n",
        "filename = 'trained_merged_df_RF_classifier.sav'\r\n",
        "pickle.dump(rf3, open(filename, 'wb'))\r\n",
        "\r\n",
        "loaded_model = pickle.load(open(filename, 'rb'))\r\n",
        "\r\n",
        "df_input = pd.DataFrame(columns=['MRI_lesion_mass', 'primary_EDSS_at_diagnosis','age_at_diagnosis','TIM3_RQ', 'TIGIT_RQ', 'LAG3_RQ', 'PD-1_RQ', 'Male', 'positive_OCB'])\r\n",
        "MRI_lesion_mass=640.3\r\n",
        "primary_EDSS_at_diagnosis = 3.5\r\n",
        "age_at_diagnosis = 50\r\n",
        "TIM3_RQ = 0.111 \r\n",
        "TIGIT_RQ= 0.222\r\n",
        "LAG3_RQ= 0.333\r\n",
        "PD1_RQ= 0.444\r\n",
        "Male=1\r\n",
        "positive_OCB=1\r\n",
        "df_input.loc[0] = [MRI_lesion_mass,primary_EDSS_at_diagnosis,age_at_diagnosis,TIM3_RQ,TIGIT_RQ,LAG3_RQ,PD1_RQ,Male,positive_OCB]\r\n",
        "# Make predictions on training set:\r\n",
        "predictions = loaded_model.predict(df_input[predictor_var])\r\n",
        "predictions[0]\r\n",
        "# Print accuracy\r\n",
        "# accuracy = metrics.accuracy_score(predictions, df_input[outcome_var])\r\n",
        "# print(\"Training accuracy : %s\" % \"{0:.3%}\".format(accuracy))\r\n",
        "\r\n",
        "\r\n",
        "\r\n",
        "# result = loaded_model.score(X_test, Y_test)\r\n",
        "# print(result)"
      ],
      "execution_count": null,
      "outputs": [
        {
          "output_type": "execute_result",
          "data": {
            "text/plain": [
              "0"
            ]
          },
          "metadata": {
            "tags": []
          },
          "execution_count": 14
        }
      ]
    },
    {
      "cell_type": "code",
      "metadata": {
        "colab": {
          "base_uri": "https://localhost:8080/"
        },
        "id": "3BKK_6dnl5-3",
        "outputId": "8bb3c78a-83a4-443e-ff0a-cecee084c390"
      },
      "source": [
        "# def trained_model_to_pickle:\r\n",
        "import pickle\r\n",
        "rf = RandomForestRegressor(n_estimators = 10, random_state = 42)\r\n",
        "predictor_var = ['MRI_lesion_mass', 'primary_EDSS_at_diagnosis','age_at_diagnosis','TIM3_RQ', 'TIGIT_RQ', 'LAG3_RQ', 'PD-1_RQ', 'Male', 'positive_OCB']\r\n",
        "outcome_var = 'EDSS_post_10_years'\r\n",
        "rf.fit(dfMerged[predictor_var], dfMerged[outcome_var])\r\n",
        "\r\n",
        "# save the model to disk\r\n",
        "filename = 'trained_merged_df_RF_regressor.sav'\r\n",
        "pickle.dump(rf, open(filename, 'wb'))\r\n",
        "\r\n",
        "loaded_model = pickle.load(open(filename, 'rb'))\r\n",
        "\r\n",
        "df_input = pd.DataFrame(columns=['MRI_lesion_mass', 'primary_EDSS_at_diagnosis','age_at_diagnosis','TIM3_RQ', 'TIGIT_RQ', 'LAG3_RQ', 'PD-1_RQ', 'Male', 'positive_OCB'])\r\n",
        "MRI_lesion_mass=640.3\r\n",
        "primary_EDSS_at_diagnosis =1\r\n",
        "age_at_diagnosis = 50\r\n",
        "TIM3_RQ = 0.111 \r\n",
        "TIGIT_RQ= 0.222\r\n",
        "LAG3_RQ= 0.333\r\n",
        "PD1_RQ= 0.444\r\n",
        "Male=1\r\n",
        "positive_OCB=1\r\n",
        "df_input.loc[0] = [MRI_lesion_mass,primary_EDSS_at_diagnosis,age_at_diagnosis,TIM3_RQ,TIGIT_RQ,LAG3_RQ,PD1_RQ,Male,positive_OCB]\r\n",
        "# Make predictions on training set:\r\n",
        "predictions = loaded_model.predict(df_input[predictor_var])\r\n",
        "predictions[0]\r\n",
        "# Print accuracy\r\n",
        "# accuracy = metrics.accuracy_score(predictions, df_input[outcome_var])\r\n",
        "# print(\"Training accuracy : %s\" % \"{0:.3%}\".format(accuracy))\r\n",
        "\r\n",
        "\r\n",
        "\r\n",
        "# result = loaded_model.score(X_test, Y_test)\r\n",
        "# print(result)"
      ],
      "execution_count": null,
      "outputs": [
        {
          "output_type": "execute_result",
          "data": {
            "text/plain": [
              "3.95"
            ]
          },
          "metadata": {
            "tags": []
          },
          "execution_count": 55
        }
      ]
    }
  ]
}