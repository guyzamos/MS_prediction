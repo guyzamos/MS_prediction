{
  "nbformat": 4,
  "nbformat_minor": 0,
  "metadata": {
    "colab": {
      "name": "MS project Michal data.ipynb",
      "provenance": [],
      "collapsed_sections": [
        "nxoGSjQhzx2r"
      ],
      "toc_visible": true
    },
    "kernelspec": {
      "name": "python3",
      "display_name": "Python 3"
    },
    "language_info": {
      "name": "python"
    }
  },
  "cells": [
    {
      "cell_type": "markdown",
      "metadata": {
        "id": "M6tv6Y_weQ8z"
      },
      "source": [
        "import all the relevant libraries"
      ]
    },
    {
      "cell_type": "code",
      "metadata": {
        "id": "-z7hXJSeptCa"
      },
      "source": [
        "import pandas as pd\n",
        "import numpy as np\n",
        "import matplotlib.pyplot as plt\n",
        "import statistics as stats\n",
        "import io\n",
        "from sklearn.metrics import mean_squared_error\n",
        "from math import sqrt\n",
        "from sklearn.preprocessing import LabelEncoder\n",
        "from sklearn.model_selection import KFold\n",
        "from sklearn.ensemble import RandomForestRegressor\n",
        "from sklearn.ensemble import RandomForestClassifier\n",
        "from sklearn.linear_model import LogisticRegression\n",
        "from sklearn import metrics\n",
        "from sklearn.model_selection import train_test_split\n"
      ],
      "execution_count": null,
      "outputs": []
    },
    {
      "cell_type": "markdown",
      "metadata": {
        "id": "ugA1NC9JIkaQ"
      },
      "source": [
        "upload the db file"
      ]
    },
    {
      "cell_type": "code",
      "metadata": {
        "id": "tTM3VXFdxXAg",
        "colab": {
          "base_uri": "https://localhost:8080/"
        },
        "outputId": "f2c25b55-9103-4d04-f7ad-ff1fdb4a5298"
      },
      "source": [
        "from google.colab import drive \n",
        "drive.mount('/content/gdrive')"
      ],
      "execution_count": null,
      "outputs": [
        {
          "output_type": "stream",
          "text": [
            "Drive already mounted at /content/gdrive; to attempt to forcibly remount, call drive.mount(\"/content/gdrive\", force_remount=True).\n"
          ],
          "name": "stdout"
        }
      ]
    },
    {
      "cell_type": "code",
      "metadata": {
        "id": "qxFu0jcL-D_c"
      },
      "source": [
        "pd.set_option('display.max_columns', None)\n",
        "pd.set_option('display.max_rows', None)"
      ],
      "execution_count": null,
      "outputs": []
    },
    {
      "cell_type": "markdown",
      "metadata": {
        "id": "Gb0JsD_HZSSu"
      },
      "source": [
        "#helper functions cross val sensitivity specifity"
      ]
    },
    {
      "cell_type": "code",
      "metadata": {
        "id": "7oBUe2keYqT6"
      },
      "source": [
        "def calcCrossValidation_Matrix(model, df, predictors, outcome):\n",
        "\n",
        "  total_tp = 0\n",
        "  total_tn = 0\n",
        "  total_fp = 0\n",
        "  total_fn = 0\n",
        "\n",
        "  # Perform k-fold cross-validation with 10 folds\n",
        "  kf = KFold(n_splits=57)\n",
        "  accuracy = []\n",
        "  for train, test in kf.split(df):\n",
        "      # print(\"1\")\n",
        "\n",
        "      # Filter training data\n",
        "      train_predictors = (df[predictors].iloc[train, :])\n",
        "      # The target we're using to train the algorithm.\n",
        "      train_target = df[outcome].iloc[train]\n",
        "      # print(\"1\")\n",
        "\n",
        "      test_predictors = (df[predictors].iloc[test, :])\n",
        "      # The target we're using to train the algorithm.\n",
        "      test_target = df[outcome].iloc[test]\n",
        "      # print(\"1\")\n",
        "\n",
        "\n",
        "      # Training the algorithm using the predictors and target.\n",
        "      model.fit(train_predictors, train_target)\n",
        "      # print(\"fit done\")\n",
        "      predictions = model.predict(test_predictors)\n",
        "\n",
        "      # cm = confusion_matrix(test_target, predictions)\n",
        "      # print(cm)\n",
        "      # print(\"1\")\n",
        "      # print(\"test_target\")\n",
        "      test_target = test_target.to_numpy()\n",
        "      # print(test_target)\n",
        "      # np.array(df[outcome].values.tolist())\n",
        "      # print(type(test_target))\n",
        "      # print(\"predictions\")\n",
        "      # print(predictions)\n",
        "      # print(type(predictions))\n",
        "\n",
        "      tn, fp, fn, tp = perf_measure(test_target, predictions)\n",
        "      # print(\"1\")\n",
        "\n",
        "      total_tp += tp\n",
        "      total_tn += tn\n",
        "      total_fp += fp\n",
        "      total_fn += fn\n",
        "\n",
        "  # print(total_tn, total_fp, total_fn, total_tp)\n",
        "  return total_tn, total_fp, total_fn, total_tp"
      ],
      "execution_count": null,
      "outputs": []
    },
    {
      "cell_type": "code",
      "metadata": {
        "id": "aLYApm2BJMBX"
      },
      "source": [
        "def calcCrossValidation_Matrix_extend_train(model, df, predictors, outcome,df_extend_train):\n",
        "\n",
        "  total_tp = 0\n",
        "  total_tn = 0\n",
        "  total_fp = 0\n",
        "  total_fn = 0\n",
        "\n",
        "  # Perform k-fold cross-validation with 10 folds\n",
        "  kf = KFold(n_splits=57)\n",
        "  accuracy = []\n",
        "  for train, test in kf.split(df):\n",
        "      train_predictors = (df[predictors].iloc[train, :])\n",
        "      # print(\"train_predictors before concat\")\n",
        "      # print(train_predictors)\n",
        "      train_target = df[outcome].iloc[train]\n",
        "      # print(\"train_target before concat\")\n",
        "      # print(train_target)\n",
        "      # print(\"shape\")\n",
        "      # print(train_predictors.shape)\n",
        "\n",
        "      train_predictors = pd.concat([train_predictors, df_extend_train[predictors]])\n",
        "      # print(\"train_predictors after concat\")\n",
        "      # print(train_predictors)\n",
        "      train_target = pd.concat([train_target, df_extend_train[outcome]])\n",
        "      # print(\"train_target after concat\")\n",
        "      # print(train_target)\n",
        "      # print(\"shape\")\n",
        "      # print(train_predictors.shape)\n",
        "      test_predictors = (df[predictors].iloc[test, :])\n",
        "      test_target = df[outcome].iloc[test]\n",
        "      model.fit(train_predictors, train_target)\n",
        "      predictions = model.predict(test_predictors)\n",
        "      test_target = test_target.to_numpy()\n",
        "\n",
        "      tn, fp, fn, tp = perf_measure(test_target, predictions)\n",
        "\n",
        "      total_tp += tp\n",
        "      total_tn += tn\n",
        "      total_fp += fp\n",
        "      total_fn += fn\n",
        "\n",
        "  return total_tn, total_fp, total_fn, total_tp"
      ],
      "execution_count": null,
      "outputs": []
    },
    {
      "cell_type": "code",
      "metadata": {
        "id": "QmkOlEBaYWIh"
      },
      "source": [
        "def perf_measure(y_actual, y_hat):\n",
        "    TP = 0\n",
        "    FP = 0\n",
        "    TN = 0\n",
        "    FN = 0\n",
        "\n",
        "    for i in range(len(y_hat)): \n",
        "        if y_actual[i]==y_hat[i]==1:\n",
        "           TP += 1\n",
        "        if y_hat[i]==1 and y_actual[i]!=y_hat[i]:\n",
        "           FP += 1\n",
        "        if y_actual[i]==y_hat[i]==0:\n",
        "           TN += 1\n",
        "        if y_hat[i]==0 and y_actual[i]!=y_hat[i]:\n",
        "           FN += 1\n",
        "    # print(TN, FP, FN, TP)\n",
        "    return(TN, FP, FN, TP)"
      ],
      "execution_count": null,
      "outputs": []
    },
    {
      "cell_type": "code",
      "metadata": {
        "id": "0n-dU50HohOo"
      },
      "source": [
        "def calc_specificity(tn, fp, fn, tp):\n",
        "  return tn / (tn +fp)"
      ],
      "execution_count": null,
      "outputs": []
    },
    {
      "cell_type": "code",
      "metadata": {
        "id": "RqfyFAOYpXdx"
      },
      "source": [
        "def calc_sensitivity(tn, fp, fn, tp):\n",
        "  return tp / (tp +fn)"
      ],
      "execution_count": null,
      "outputs": []
    },
    {
      "cell_type": "code",
      "metadata": {
        "id": "7ueuF8gWhLXz"
      },
      "source": [
        "def calcCrossValidation_RMSE(model, df, predictors, outcome):\n",
        "\n",
        "\n",
        "  # Perform leave one out cross-validation\n",
        "  kf = KFold(n_splits=df.shape[0])\n",
        "  accuracy = []\n",
        "  total_RMSE=0\n",
        "  for train, test in kf.split(df):\n",
        "      train_predictors = (df[predictors].iloc[train, :])\n",
        "      train_target = df[outcome].iloc[train]\n",
        "      test_predictors = (df[predictors].iloc[test, :])\n",
        "      test_target = df[outcome].iloc[test]\n",
        "      model.fit(train_predictors, train_target)\n",
        "      predictions = model.predict(test_predictors)\n",
        "      rmse = sqrt(mean_squared_error(test_target, predictions))  \n",
        "      total_RMSE += rmse\n",
        "\n",
        "  return total_RMSE/df.shape[0]"
      ],
      "execution_count": null,
      "outputs": []
    },
    {
      "cell_type": "code",
      "metadata": {
        "id": "7GHxmhlC5j83"
      },
      "source": [
        "def calcCrossValidation_RMSE_extend_train(model, df, predictors, outcome,df_extend_train):\n",
        "\n",
        "\n",
        "  # Perform leave one out cross-validation\n",
        "  kf = KFold(n_splits=df.shape[0])\n",
        "  accuracy = []\n",
        "  total_RMSE=0\n",
        "  for train, test in kf.split(df):\n",
        "      train_predictors = (df[predictors].iloc[train, :])\n",
        "      train_target = df[outcome].iloc[train]\n",
        "\n",
        "      train_predictors = pd.concat([train_predictors, df_extend_train[predictors]])\n",
        "      train_target = pd.concat([train_target, df_extend_train[outcome]])\n",
        "\n",
        "      test_predictors = (df[predictors].iloc[test, :])\n",
        "      test_target = df[outcome].iloc[test]\n",
        "      model.fit(train_predictors, train_target)\n",
        "      predictions = model.predict(test_predictors)\n",
        "      rmse = sqrt(mean_squared_error(test_target, predictions))  \n",
        "      total_RMSE += rmse\n",
        "\n",
        "  return total_RMSE/df.shape[0]     \n",
        "     \n"
      ],
      "execution_count": null,
      "outputs": []
    },
    {
      "cell_type": "markdown",
      "metadata": {
        "id": "EUl7Y0Gyn80N"
      },
      "source": [
        "# code for automation experiments"
      ]
    },
    {
      "cell_type": "code",
      "metadata": {
        "id": "izI_LzKkLNPW"
      },
      "source": [
        "def run_experiment(df, outcome_var, model_type, predictor_var, removed_features, df_experiments,df_extend_train):\n",
        "  model = choose_experiment_model(df, outcome_var, model_type, predictor_var, removed_features, df_experiments)\n",
        "  # print(\"model chose\")\n",
        "  if (model_type=='Random Forest Classifier' or model_type=='Logistic Regression'):\n",
        "    calculations = add_sensitivity_specifity(model, df, predictor_var, outcome_var, model_type, removed_features, df_experiments,df_extend_train)\n",
        "    # print(\"calculation done\")\n",
        "\n",
        "  else:\n",
        "    calculations = add_rmse(model, df, predictor_var, outcome_var, model_type, removed_features, df_experiments,df_extend_train)\n",
        "  experiment_results = update_experiment_in_results_df(calculations, removed_features, model_type, df_experiments)\n",
        "  return experiment_results\n",
        "\n"
      ],
      "execution_count": null,
      "outputs": []
    },
    {
      "cell_type": "code",
      "metadata": {
        "id": "GEJv9dtgLqvx"
      },
      "source": [
        "def choose_experiment_model(df, outcome_var, model_type, predictor_var, removed_features, df_experiments):\n",
        "  if (model_type=='Random Forest Classifier'):\n",
        "    return RandomForestClassifier(n_estimators=25, min_samples_split=9, max_depth=15, max_features='auto',random_state=SEED)\n",
        "    # return add_sensitivity_specifity(model, df, predictor_var, outcome_var, model_type, removed_features, df_experiments)\n",
        "  elif (model_type=='Logistic Regression'):\n",
        "    return LogisticRegression(max_iter = 4000,random_state=SEED)\n",
        "    # return add_sensitivity_specifity(model, df, predictor_var, outcome_var, model_type, removed_features, df_experiments)\n",
        "  else:\n",
        "    return RandomForestRegressor(n_estimators = 10, random_state=SEED)\n",
        "    # return add_rmse(model, df, predictor_var, outcome_var, model_type, removed_features, df_experiments)"
      ],
      "execution_count": null,
      "outputs": []
    },
    {
      "cell_type": "code",
      "metadata": {
        "id": "IsW8OAa_LNoY"
      },
      "source": [
        "def add_sensitivity_specifity(model, df, predictor_var, outcome_var, model_type, removed_features, df_experiments,df_extend_train):\n",
        "  # print(\"enter add sens\")\n",
        "  # tn, fp, fn, tp = calcCrossValidation_Matrix(model, df, predictor_var, outcome_var)\n",
        "  tn, fp, fn, tp = calcCrossValidation_Matrix_extend_train(model, df, predictor_var, outcome_var,df_extend_train)\n",
        "  \n",
        "  # print(\"calcCrossValidation_Matrix done\")\n",
        "  specificity = calc_specificity(tn, fp, fn, tp)\n",
        "  sensitivity = calc_sensitivity(tn, fp, fn, tp)\n",
        "  specifity_sensitivity_list = [specificity, sensitivity]\n",
        "  return specifity_sensitivity_list"
      ],
      "execution_count": null,
      "outputs": []
    },
    {
      "cell_type": "code",
      "metadata": {
        "id": "3z3Sh3-BLNoZ"
      },
      "source": [
        "def add_rmse(model, df, predictor_var, outcome_var, model_type, removed_features, df_experiments,df_extend_train):\n",
        "  # rmse = calcCrossValidation_RMSE(model, df, predictor_var, outcome_var)\n",
        "  rmse = calcCrossValidation_RMSE_extend_train(model, df, predictor_var, outcome_var,df_extend_train)\n",
        "  \n",
        "  rmse_list = [rmse]\n",
        "  return rmse_list"
      ],
      "execution_count": null,
      "outputs": []
    },
    {
      "cell_type": "code",
      "metadata": {
        "id": "2RrQf9WwLNoZ"
      },
      "source": [
        "def update_experiment_in_results_df(results_list, removed_features, model_type, df_experiments):\n",
        "  if (len(results_list)==2):\n",
        "    new_record = {'Model': model_type,'Removed Features': removed_features,'Specificity': results_list[0], 'Sensitivity':results_list[1], 'RMSE': ''}\n",
        "  else:\n",
        "    new_record = {'Model': model_type,'Removed Features': removed_features,'Specificity': '', 'Sensitivity':'', 'RMSE':results_list[0]}\n",
        "  df_experiments = df_experiments.append(new_record, ignore_index=True)\n",
        "  return df_experiments\n",
        "  "
      ],
      "execution_count": null,
      "outputs": []
    },
    {
      "cell_type": "code",
      "metadata": {
        "id": "onvYaWG9LNoZ"
      },
      "source": [
        "def experiments_RF_LR(df_origin_data,features_list, features_names,df_experiments,df_extend_train):\n",
        "  df_experiments = run_experiment(df_origin_data, OUTCOME_MS_TYPE, RFCLASSIFIER, features_list, features_names, df_experiments,df_extend_train)\n",
        "  df_experiments = run_experiment(df_origin_data, OUTCOME_MS_TYPE, LR, features_list, features_names, df_experiments,df_extend_train)\n",
        "  df_experiments = run_experiment(df_origin_data, OUTCOME_EDSS_POST_10_YEARS, RFREGRESSOR, features_list, features_names, df_experiments,df_extend_train)\n",
        "  return df_experiments"
      ],
      "execution_count": null,
      "outputs": []
    },
    {
      "cell_type": "markdown",
      "metadata": {
        "id": "J1sKTMHG8mbW"
      },
      "source": [
        "#Defines experiment configuration -"
      ]
    },
    {
      "cell_type": "code",
      "metadata": {
        "id": "rC-_HRG0wu9t"
      },
      "source": [
        "#Livnat\n",
        "\n",
        "#lists of selected features\n",
        "\n",
        "ALL_FEATURES = ['TIM3_RQ', 'TIGIT_RQ', 'LAG3_RQ','age_at_diagnosis', 'primary_EDSS_at_diagnosis', 'MRI_lesion_mass','Lymph_Cells','PMN_Cells','gender_M','oligoclonal_band_POS']\n",
        "#REMOVE ONE FEATURE\n",
        "NO_TIGIT =  ['TIM3_RQ', 'LAG3_RQ','age_at_diagnosis', 'primary_EDSS_at_diagnosis', 'MRI_lesion_mass','Lymph_Cells','PMN_Cells','gender_M','oligoclonal_band_POS']\n",
        "NO_LAG3 =['TIM3_RQ', 'TIGIT_RQ','age_at_diagnosis', 'primary_EDSS_at_diagnosis', 'MRI_lesion_mass','Lymph_Cells','PMN_Cells','gender_M','oligoclonal_band_POS']\n",
        "NO_LYMPH_CELLS = ['TIM3_RQ', 'TIGIT_RQ', 'LAG3_RQ','age_at_diagnosis', 'primary_EDSS_at_diagnosis', 'MRI_lesion_mass','PMN_Cells','gender_M','oligoclonal_band_POS']\n",
        "NO_AGE =['TIM3_RQ', 'TIGIT_RQ', 'LAG3_RQ', 'primary_EDSS_at_diagnosis', 'MRI_lesion_mass','Lymph_Cells','PMN_Cells','gender_M','oligoclonal_band_POS']\n",
        "NO_PMN_CELLS = ['TIM3_RQ', 'TIGIT_RQ', 'LAG3_RQ','age_at_diagnosis', 'primary_EDSS_at_diagnosis', 'MRI_lesion_mass','Lymph_Cells','gender_M','oligoclonal_band_POS']\n",
        "NO_OCB =['TIM3_RQ', 'TIGIT_RQ', 'LAG3_RQ','age_at_diagnosis', 'primary_EDSS_at_diagnosis', 'MRI_lesion_mass','Lymph_Cells','PMN_Cells','gender_M']\n",
        "NO_MRI_LESION = ['TIM3_RQ', 'TIGIT_RQ', 'LAG3_RQ','age_at_diagnosis', 'primary_EDSS_at_diagnosis', 'Lymph_Cells','PMN_Cells','gender_M','oligoclonal_band_POS']\n",
        "NO_GENDER = ['TIM3_RQ', 'TIGIT_RQ', 'LAG3_RQ','age_at_diagnosis', 'primary_EDSS_at_diagnosis', 'MRI_lesion_mass','Lymph_Cells','PMN_Cells','oligoclonal_band_POS']\n",
        "NO_EDSS_AT_DIAGNOSIS = ['TIM3_RQ', 'TIGIT_RQ', 'LAG3_RQ','age_at_diagnosis', 'MRI_lesion_mass','Lymph_Cells','PMN_Cells','gender_M','oligoclonal_band_POS']\n",
        "NO_TIM3 = ['TIGIT_RQ', 'LAG3_RQ','age_at_diagnosis', 'primary_EDSS_at_diagnosis', 'MRI_lesion_mass','Lymph_Cells','PMN_Cells','gender_M','oligoclonal_band_POS']\n",
        "\n",
        "#REMOVE TWO FEATURES\n",
        "NO_TIGIT_NO_LAG3 = ['TIM3_RQ','age_at_diagnosis', 'primary_EDSS_at_diagnosis', 'MRI_lesion_mass','Lymph_Cells','PMN_Cells','gender_M','oligoclonal_band_POS']\n",
        "NO_TIGIT_NO_LYMPH_CELLS = ['TIM3_RQ', 'LAG3_RQ','age_at_diagnosis', 'primary_EDSS_at_diagnosis', 'MRI_lesion_mass','PMN_Cells','gender_M','oligoclonal_band_POS']\n",
        "NO_TIGIT_NO_AGE = ['TIM3_RQ', 'LAG3_RQ', 'primary_EDSS_at_diagnosis', 'MRI_lesion_mass','Lymph_Cells','PMN_Cells','gender_M','oligoclonal_band_POS']\n",
        "NO_TIGIT_NO_PMN_CELLS = ['TIM3_RQ', 'LAG3_RQ','age_at_diagnosis', 'primary_EDSS_at_diagnosis', 'MRI_lesion_mass','Lymph_Cells','gender_M','oligoclonal_band_POS']\n",
        "NO_TIGIT_NO_OCB = ['TIM3_RQ', 'LAG3_RQ','age_at_diagnosis', 'primary_EDSS_at_diagnosis', 'MRI_lesion_mass','Lymph_Cells','PMN_Cells','gender_M']\n",
        "NO_TIGIT_NO_MRI_LESION = ['TIM3_RQ', 'LAG3_RQ','age_at_diagnosis', 'primary_EDSS_at_diagnosis','Lymph_Cells','PMN_Cells','gender_M','oligoclonal_band_POS']\n",
        "\n",
        "NO_LAG3_NO_LYMPH_CELLS = ['TIM3_RQ', 'TIGIT_RQ','age_at_diagnosis', 'primary_EDSS_at_diagnosis', 'MRI_lesion_mass','PMN_Cells','gender_M','oligoclonal_band_POS']\n",
        "NO_LAG3_NO_AGE = ['TIM3_RQ', 'TIGIT_RQ', 'primary_EDSS_at_diagnosis', 'MRI_lesion_mass','Lymph_Cells','PMN_Cells','gender_M','oligoclonal_band_POS']\n",
        "NO_LAG3_NO_PMN_CELLS = ['TIM3_RQ', 'TIGIT_RQ','age_at_diagnosis', 'primary_EDSS_at_diagnosis', 'MRI_lesion_mass','Lymph_Cells','gender_M','oligoclonal_band_POS']\n",
        "NO_LAG3_NO_OCB = ['TIM3_RQ', 'TIGIT_RQ','age_at_diagnosis', 'primary_EDSS_at_diagnosis', 'MRI_lesion_mass','Lymph_Cells','PMN_Cells','gender_M']\n",
        "NO_LAG3_NO_MRI_LESION = ['TIM3_RQ', 'TIGIT_RQ','age_at_diagnosis', 'primary_EDSS_at_diagnosis','Lymph_Cells','PMN_Cells','gender_M','oligoclonal_band_POS']\n",
        "\n",
        "NO_LYMPH_CELLS_NO_AGE = ['TIM3_RQ', 'TIGIT_RQ', 'LAG3_RQ', 'primary_EDSS_at_diagnosis', 'MRI_lesion_mass','PMN_Cells','gender_M','oligoclonal_band_POS']\n",
        "NO_LYMPH_CELLS_NO_PMN_CELLS = ['TIM3_RQ', 'TIGIT_RQ', 'LAG3_RQ','age_at_diagnosis', 'primary_EDSS_at_diagnosis', 'MRI_lesion_mass','gender_M','oligoclonal_band_POS']\n",
        "NO_LYMPH_CELLS_NO_OCB = ['TIM3_RQ', 'TIGIT_RQ', 'LAG3_RQ','age_at_diagnosis', 'primary_EDSS_at_diagnosis', 'MRI_lesion_mass','PMN_Cells','gender_M']\n",
        "NO_LYMPH_CELLS_NO_MRI_LESION = ['TIM3_RQ', 'TIGIT_RQ', 'LAG3_RQ','age_at_diagnosis', 'primary_EDSS_at_diagnosis','PMN_Cells','gender_M','oligoclonal_band_POS']\n",
        "\n",
        "#REMOVE THREE FEATURES\n",
        "NO_TIGIT_NO_LAG3_NO_LYMPH_CELLS = ['TIM3_RQ','age_at_diagnosis', 'primary_EDSS_at_diagnosis', 'MRI_lesion_mass','PMN_Cells','gender_M','oligoclonal_band_POS']\n",
        "\n",
        "#REMOVE FOUR FEATURES\n",
        "NO_TIGIT_NO_LAG3_NO_LYMPH_CELLS_NO_AGE = ['TIM3_RQ', 'primary_EDSS_at_diagnosis', 'MRI_lesion_mass','PMN_Cells','gender_M','oligoclonal_band_POS']\n",
        "\n",
        "\n",
        "\n",
        "\n",
        "\n",
        "#lists of removed features as String \n",
        "\n",
        "ALL_FEATURES_STR = \"ALL FEATURES\"\n",
        "#REMOVE ONE FEATURE\n",
        "NO_TIGIT_STR =  \"NO TIGIT\"\n",
        "NO_LAG3_STR = \"NO LAG3\"\n",
        "NO_LYMPH_CELLS_STR = \"NO LYMPH CELLS\"\n",
        "NO_AGE_STR = \"NO AGE\"\n",
        "NO_PMN_CELLS_STR = \"NO PMN CELLS\"\n",
        "NO_OCB_STR =\"NO OCB\"\n",
        "NO_MRI_LESION_STR =\"NO MRI LESION\"\n",
        "NO_GENDER_STR = \"NO GENDER\"\n",
        "NO_EDSS_AT_DIAGNOSIS_STR = \"NO EDSS AT DIAGNOSIS\"\n",
        "NO_TIM3_STR = \"NO TIM3\"\n",
        "\n",
        "#REMOVE TWO FEATURES\n",
        "NO_TIGIT_NO_LAG3_STR = \"NO TIGIT, LAG3\"\n",
        "NO_TIGIT_NO_LYMPH_CELLS_STR = \"NO TIGIT, LYMPH CELLS\"\n",
        "NO_TIGIT_NO_AGE_STR = \"NO TIGIT, AGE\"\n",
        "NO_TIGIT_NO_PMN_CELLS_STR = \"NO TIGIT, PMN CELLS\"\n",
        "NO_TIGIT_NO_OCB_STR = \"NO TIGIT, OCB\"\n",
        "NO_TIGIT_NO_MRI_LESION_STR = \"NO TIGIT, MRI LESION\"\n",
        "\n",
        "NO_LAG3_NO_LYMPH_CELLS_STR = \"NO_LAG3, LYMPH_CELLS\"\n",
        "NO_LAG3_NO_AGE_STR = \"NO_LAG3, AGE\"\n",
        "NO_LAG3_NO_PMN_CELLS_STR = \"NO_LAG3, PMN_CELLS\"\n",
        "NO_LAG3_NO_OCB_STR = \"NO_LAG3, OCB\"\n",
        "NO_LAG3_NO_MRI_LESION_STR = \"NO_LAG3, MRI_LESION\"\n",
        "\n",
        "NO_LYMPH_CELLS_NO_AGE_STR = \"NO_LYMPH_CELLS, AGE\"\n",
        "NO_LYMPH_CELLS_NO_PMN_CELLS_STR = \"NO_LYMPH_CELLS, PMN_CELLS\"\n",
        "NO_LYMPH_CELLS_NO_OCB_STR = \"NO_LYMPH_CELLS, OCB\"\n",
        "NO_LYMPH_CELLS_NO_MRI_LESION_STR = \"NO_LYMPH_CELLS, MRI_LESION\"\n",
        "\n",
        "\n",
        "#REMOVE THREE FEATURES\n",
        "NO_TIGIT_NO_LAG3_NO_LYMPH_CELLS_STR = \"NO_TIGIT, LAG3, LYMPH_CELLS\"\n",
        "\n",
        "#REMOVE FOUR FEATURES\n",
        "NO_TIGIT_NO_LAG3_NO_LYMPH_CELLS_NO_AGE_STR = \"NO_TIGIT, LAG3, LYMPH_CELLS, AGE\"\n",
        "\n",
        "\n",
        "\n",
        "\n",
        "\n",
        "#lists of models\n",
        "RFCLASSIFIER = \"Random Forest Classifier\"\n",
        "LR = \"Logistic Regression\"\n",
        "RFREGRESSOR = \"Random Forest Regressor\"\n",
        "\n",
        "\n",
        "#lists of outcome\n",
        "OUTCOME_MS_TYPE = \"diagnosis_SPMS\"\n",
        "OUTCOME_EDSS_POST_10_YEARS = \"EDSS_post_10_years\"\n",
        "\n",
        "#const seed all runs\n",
        "SEED = 42\n"
      ],
      "execution_count": null,
      "outputs": []
    },
    {
      "cell_type": "markdown",
      "metadata": {
        "id": "tR9hH1Js0Ry3"
      },
      "source": [
        "#Read Michal data"
      ]
    },
    {
      "cell_type": "markdown",
      "metadata": {
        "id": "L0yo_SQNZKME"
      },
      "source": [
        "read the file and create data frame"
      ]
    },
    {
      "cell_type": "code",
      "metadata": {
        "id": "bJRTzEg14lcM"
      },
      "source": [
        "df_michal=pd.read_excel(\"/content/gdrive/MyDrive/Colab Notebooks/MS_Notebooks/Michal Cohort post AV 14-04-2021 for Nadav.xlsx\", header=None, skiprows=1, names=['sample_code','Diagnosis date', 'diagnosis','gender','age_at_diagnosis', 'primary_EDSS_at_diagnosis', '1_years_EDSS_from_sample_date' , '5_years_from_sample', 'EDSS_post_10_years' ,'oligoclonal_band','Lymph_Cells','PMN_Cells','Cells', 'num_of_medicine' ,'relapse_rate_since_blood_sample', 'MRI_lesion_mass'])\n",
        "# Print the first 10 rows of the data set\n",
        "print(df_michal.head(10))\n",
        "# Get summary of numerical variables\n",
        "print(df_michal.describe())"
      ],
      "execution_count": null,
      "outputs": []
    },
    {
      "cell_type": "code",
      "metadata": {
        "id": "LlLSaJOazj5e"
      },
      "source": [
        "df_michal"
      ],
      "execution_count": null,
      "outputs": []
    },
    {
      "cell_type": "code",
      "metadata": {
        "colab": {
          "base_uri": "https://localhost:8080/"
        },
        "id": "EGWdhX03gQYw",
        "outputId": "a284677d-3bfd-4b5f-abb3-343f75383fd3"
      },
      "source": [
        "count_samples = df_michal.shape[0]\n",
        "count_samples"
      ],
      "execution_count": null,
      "outputs": [
        {
          "output_type": "execute_result",
          "data": {
            "text/plain": [
              "84"
            ]
          },
          "metadata": {
            "tags": []
          },
          "execution_count": 20
        }
      ]
    },
    {
      "cell_type": "code",
      "metadata": {
        "colab": {
          "base_uri": "https://localhost:8080/",
          "height": 545
        },
        "id": "HTuvlNBofK_t",
        "outputId": "da76270b-787a-4f66-fe95-3f607a714b55"
      },
      "source": [
        "missing_data = pd.DataFrame({'total_missing': df_michal.isnull().sum(), 'perc_missing': (df_michal.isnull().sum()/count_samples)*100})\n",
        "missing_data"
      ],
      "execution_count": null,
      "outputs": [
        {
          "output_type": "execute_result",
          "data": {
            "text/html": [
              "<div>\n",
              "<style scoped>\n",
              "    .dataframe tbody tr th:only-of-type {\n",
              "        vertical-align: middle;\n",
              "    }\n",
              "\n",
              "    .dataframe tbody tr th {\n",
              "        vertical-align: top;\n",
              "    }\n",
              "\n",
              "    .dataframe thead th {\n",
              "        text-align: right;\n",
              "    }\n",
              "</style>\n",
              "<table border=\"1\" class=\"dataframe\">\n",
              "  <thead>\n",
              "    <tr style=\"text-align: right;\">\n",
              "      <th></th>\n",
              "      <th>total_missing</th>\n",
              "      <th>perc_missing</th>\n",
              "    </tr>\n",
              "  </thead>\n",
              "  <tbody>\n",
              "    <tr>\n",
              "      <th>sample_code</th>\n",
              "      <td>0</td>\n",
              "      <td>0.000000</td>\n",
              "    </tr>\n",
              "    <tr>\n",
              "      <th>Diagnosis date</th>\n",
              "      <td>0</td>\n",
              "      <td>0.000000</td>\n",
              "    </tr>\n",
              "    <tr>\n",
              "      <th>diagnosis</th>\n",
              "      <td>0</td>\n",
              "      <td>0.000000</td>\n",
              "    </tr>\n",
              "    <tr>\n",
              "      <th>gender</th>\n",
              "      <td>0</td>\n",
              "      <td>0.000000</td>\n",
              "    </tr>\n",
              "    <tr>\n",
              "      <th>age_at_diagnosis</th>\n",
              "      <td>0</td>\n",
              "      <td>0.000000</td>\n",
              "    </tr>\n",
              "    <tr>\n",
              "      <th>primary_EDSS_at_diagnosis</th>\n",
              "      <td>0</td>\n",
              "      <td>0.000000</td>\n",
              "    </tr>\n",
              "    <tr>\n",
              "      <th>1_years_EDSS_from_sample_date</th>\n",
              "      <td>0</td>\n",
              "      <td>0.000000</td>\n",
              "    </tr>\n",
              "    <tr>\n",
              "      <th>5_years_from_sample</th>\n",
              "      <td>0</td>\n",
              "      <td>0.000000</td>\n",
              "    </tr>\n",
              "    <tr>\n",
              "      <th>EDSS_post_10_years</th>\n",
              "      <td>0</td>\n",
              "      <td>0.000000</td>\n",
              "    </tr>\n",
              "    <tr>\n",
              "      <th>oligoclonal_band</th>\n",
              "      <td>13</td>\n",
              "      <td>15.476190</td>\n",
              "    </tr>\n",
              "    <tr>\n",
              "      <th>Lymph_Cells</th>\n",
              "      <td>33</td>\n",
              "      <td>39.285714</td>\n",
              "    </tr>\n",
              "    <tr>\n",
              "      <th>PMN_Cells</th>\n",
              "      <td>32</td>\n",
              "      <td>38.095238</td>\n",
              "    </tr>\n",
              "    <tr>\n",
              "      <th>Cells</th>\n",
              "      <td>31</td>\n",
              "      <td>36.904762</td>\n",
              "    </tr>\n",
              "    <tr>\n",
              "      <th>num_of_medicine</th>\n",
              "      <td>1</td>\n",
              "      <td>1.190476</td>\n",
              "    </tr>\n",
              "    <tr>\n",
              "      <th>relapse_rate_since_blood_sample</th>\n",
              "      <td>2</td>\n",
              "      <td>2.380952</td>\n",
              "    </tr>\n",
              "    <tr>\n",
              "      <th>MRI_lesion_mass</th>\n",
              "      <td>0</td>\n",
              "      <td>0.000000</td>\n",
              "    </tr>\n",
              "  </tbody>\n",
              "</table>\n",
              "</div>"
            ],
            "text/plain": [
              "                                 total_missing  perc_missing\n",
              "sample_code                                  0      0.000000\n",
              "Diagnosis date                               0      0.000000\n",
              "diagnosis                                    0      0.000000\n",
              "gender                                       0      0.000000\n",
              "age_at_diagnosis                             0      0.000000\n",
              "primary_EDSS_at_diagnosis                    0      0.000000\n",
              "1_years_EDSS_from_sample_date                0      0.000000\n",
              "5_years_from_sample                          0      0.000000\n",
              "EDSS_post_10_years                           0      0.000000\n",
              "oligoclonal_band                            13     15.476190\n",
              "Lymph_Cells                                 33     39.285714\n",
              "PMN_Cells                                   32     38.095238\n",
              "Cells                                       31     36.904762\n",
              "num_of_medicine                              1      1.190476\n",
              "relapse_rate_since_blood_sample              2      2.380952\n",
              "MRI_lesion_mass                              0      0.000000"
            ]
          },
          "metadata": {
            "tags": []
          },
          "execution_count": 21
        }
      ]
    },
    {
      "cell_type": "markdown",
      "metadata": {
        "id": "z2lGUkzqMq2f"
      },
      "source": [
        "remove white space before and after the word:"
      ]
    },
    {
      "cell_type": "code",
      "metadata": {
        "id": "2CmM1lNQMthk"
      },
      "source": [
        "df_michal = df_michal.applymap(lambda x: x.strip() if type(x)==str else x)"
      ],
      "execution_count": null,
      "outputs": []
    },
    {
      "cell_type": "markdown",
      "metadata": {
        "id": "GOyI10N7ZMJX"
      },
      "source": [
        "Fix string values to upperCase"
      ]
    },
    {
      "cell_type": "code",
      "metadata": {
        "id": "O1eKGol1ZRwO"
      },
      "source": [
        "df_michal['gender'] = df_michal['gender'].str.upper()\n",
        "df_michal['diagnosis'] = df_michal['diagnosis'].str.upper()\n",
        "df_michal['oligoclonal_band'] = df_michal['oligoclonal_band'].str.upper()\n"
      ],
      "execution_count": null,
      "outputs": []
    },
    {
      "cell_type": "markdown",
      "metadata": {
        "id": "cRJE-YmuIkLG"
      },
      "source": [
        "global variable for number of rows"
      ]
    },
    {
      "cell_type": "code",
      "metadata": {
        "id": "Mkp96wkOIeRu",
        "colab": {
          "base_uri": "https://localhost:8080/"
        },
        "outputId": "6299d34b-7f7e-441b-9b0d-d394142235a0"
      },
      "source": [
        "count_row = df_michal.shape[0]\n",
        "count_row"
      ],
      "execution_count": null,
      "outputs": [
        {
          "output_type": "execute_result",
          "data": {
            "text/plain": [
              "84"
            ]
          },
          "metadata": {
            "tags": []
          },
          "execution_count": 24
        }
      ]
    },
    {
      "cell_type": "markdown",
      "metadata": {
        "id": "mbTVDxlYpS-8"
      },
      "source": [
        "replace 'uk' and 'ND' to 'Nan'"
      ]
    },
    {
      "cell_type": "code",
      "metadata": {
        "id": "8M0ohKvUpWC9"
      },
      "source": [
        "df_michal = df_michal.replace({'UK': np.nan, 'uk': np.nan, 'ND': np.nan, 'N/A' : np.nan, '?' : np.nan, 'X': np.nan, 'MG RRMS' : 'RRMS', '2012*' : '2012', 'N\\A': np.nan, '*' :  np.nan})"
      ],
      "execution_count": null,
      "outputs": []
    },
    {
      "cell_type": "code",
      "metadata": {
        "id": "d5ByOKiAwDCY"
      },
      "source": [
        "df_michal.to_pickle(\"/content/gdrive/My Drive/Colab Notebooks/MS_Notebooks/MichalWithoutImputation.pkl\")"
      ],
      "execution_count": null,
      "outputs": []
    },
    {
      "cell_type": "code",
      "metadata": {
        "colab": {
          "base_uri": "https://localhost:8080/"
        },
        "id": "5DXilYIpyOTX",
        "outputId": "6a7097c5-871c-4a5a-c1f2-1aa806117c8d"
      },
      "source": [
        "df_michal.columns"
      ],
      "execution_count": null,
      "outputs": [
        {
          "output_type": "execute_result",
          "data": {
            "text/plain": [
              "Index(['sample_code', 'Diagnosis date', 'diagnosis', 'gender',\n",
              "       'age_at_diagnosis', 'primary_EDSS_at_diagnosis',\n",
              "       '1_years_EDSS_from_sample_date', '5_years_from_sample',\n",
              "       'EDSS_post_10_years', 'oligoclonal_band', 'Lymph_Cells', 'PMN_Cells',\n",
              "       'Cells', 'num_of_medicine', 'relapse_rate_since_blood_sample',\n",
              "       'MRI_lesion_mass'],\n",
              "      dtype='object')"
            ]
          },
          "metadata": {
            "tags": []
          },
          "execution_count": 27
        }
      ]
    },
    {
      "cell_type": "code",
      "metadata": {
        "id": "-pupvcWTTbXc"
      },
      "source": [
        "df_oligoclonal_band = pd.get_dummies(df_michal['oligoclonal_band'])\n",
        "df_gender = pd.get_dummies(df_michal['gender'])\n",
        "df_diagnosis = pd.get_dummies(df_michal['diagnosis'])\n",
        "\n",
        "df_michal = df_michal.merge(df_oligoclonal_band, left_index=True, right_index=True)\n",
        "df_michal = df_michal.merge(df_gender, left_index=True, right_index=True)\n",
        "df_michal = df_michal.merge(df_diagnosis, left_index=True, right_index=True)\n",
        "\n",
        "df_michal = df_michal.rename(columns = {'POS': 'oligoclonal_band_POS','SPMS' : 'diagnosis_SPMS', 'M': 'gender_M'}, inplace = False)\n",
        "# predictor_var = ['TIM3_RQ', 'TIGIT_RQ', 'LAG3_RQ','age_at_diagnosis', 'primary_EDSS_at_diagnosis', 'MRI_lesion_mass','Lymph_Cells','PMN_Cells','Cells','gender_M','oligoclonal_band_POS']\n",
        "# outcome_var = 'diagnosis_SPMS'"
      ],
      "execution_count": null,
      "outputs": []
    },
    {
      "cell_type": "code",
      "metadata": {
        "id": "IzOIgS0VU5IV"
      },
      "source": [
        "df_michal.to_pickle(\"/content/gdrive/My Drive/Colab Notebooks/MS_Notebooks/MichalWithoutImputation_include_dummies.pkl\")"
      ],
      "execution_count": null,
      "outputs": []
    },
    {
      "cell_type": "code",
      "metadata": {
        "id": "IDvrq09hyLYo"
      },
      "source": [
        "columns = ['diagnosis', 'gender', 'age_at_diagnosis', 'primary_EDSS_at_diagnosis', '1_years_EDSS_from_sample_date', '5_years_from_sample',\n",
        "       'EDSS_post_10_years', 'oligoclonal_band', 'Lymph_Cells', 'PMN_Cells', 'Cells', 'MRI_lesion_mass']"
      ],
      "execution_count": null,
      "outputs": []
    },
    {
      "cell_type": "code",
      "metadata": {
        "colab": {
          "base_uri": "https://localhost:8080/"
        },
        "id": "h48t1Tg2TtX5",
        "outputId": "ea7182dd-65ec-41ae-d37a-1c1657edae48"
      },
      "source": [
        "df_michal.columns"
      ],
      "execution_count": null,
      "outputs": [
        {
          "output_type": "execute_result",
          "data": {
            "text/plain": [
              "Index(['sample_code', 'Diagnosis date', 'diagnosis', 'gender',\n",
              "       'age_at_diagnosis', 'primary_EDSS_at_diagnosis',\n",
              "       '1_years_EDSS_from_sample_date', '5_years_from_sample',\n",
              "       'EDSS_post_10_years', 'oligoclonal_band', 'Lymph_Cells', 'PMN_Cells',\n",
              "       'Cells', 'num_of_medicine', 'relapse_rate_since_blood_sample',\n",
              "       'MRI_lesion_mass', 'NEG', 'oligoclonal_band_POS', 'F', 'gender_M',\n",
              "       'RRMS', 'diagnosis_SPMS'],\n",
              "      dtype='object')"
            ]
          },
          "metadata": {
            "tags": []
          },
          "execution_count": 31
        }
      ]
    },
    {
      "cell_type": "code",
      "metadata": {
        "id": "ibqfPzH4z9Q0"
      },
      "source": [
        "def min_max_normalize_features(dataframe, numeric_list):\n",
        "    for num_feature in numeric_list:\n",
        "        dataframe[num_feature] = (dataframe[num_feature] - dataframe[num_feature].min()) / (\n",
        "                dataframe[num_feature].max() - dataframe[num_feature].min())\n",
        "    return dataframe"
      ],
      "execution_count": null,
      "outputs": []
    },
    {
      "cell_type": "code",
      "metadata": {
        "id": "cHu-k3-E0bSG"
      },
      "source": [
        "# normalized_features = ['TIM3_RQ', 'TIGIT_RQ', 'LAG3_RQ', 'age_at_diagnosis','primary_EDSS_at_diagnosis', '1_years_EDSS_from_sample_date', 'MRI_lesion_mass', 'Lymph_Cells', 'PMN_Cells', 'Cells']\n",
        "normalized_features = ['age_at_diagnosis', 'MRI_lesion_mass', 'Lymph_Cells', 'PMN_Cells', 'Cells']\n",
        "\n",
        "df_michal = min_max_normalize_features(df_michal, normalized_features)\n",
        "df_michal"
      ],
      "execution_count": null,
      "outputs": []
    },
    {
      "cell_type": "markdown",
      "metadata": {
        "id": "QK4dY4dD0Y97"
      },
      "source": [
        "#Read Livnat data"
      ]
    },
    {
      "cell_type": "code",
      "metadata": {
        "id": "5UUgilpK1pyX"
      },
      "source": [
        "df_livnat_all_patients = pd.read_pickle(\"/content/gdrive/My Drive/Colab Notebooks/MS_Notebooks/df_Livnat_all_patients.pkl\")\n",
        "df_livnat_all_patients"
      ],
      "execution_count": null,
      "outputs": []
    },
    {
      "cell_type": "code",
      "metadata": {
        "id": "nh3_Y-I38-XQ"
      },
      "source": [
        "normalized_features = ['TIM3_RQ', 'TIGIT_RQ', 'LAG3_RQ', 'age_at_diagnosis', 'MRI_lesion_mass', 'Lymph_Cells', 'PMN_Cells', 'Cells']\n",
        "\n",
        "df_livnat_all_patients = min_max_normalize_features(df_livnat_all_patients, normalized_features)\n",
        "df_livnat_all_patients\n",
        "\n"
      ],
      "execution_count": null,
      "outputs": []
    },
    {
      "cell_type": "code",
      "metadata": {
        "colab": {
          "base_uri": "https://localhost:8080/"
        },
        "id": "SFUiEUnj_fQn",
        "outputId": "183fcd71-d962-479d-f5f4-ec1657b80d33"
      },
      "source": [
        "df_livnat_all_patients.columns"
      ],
      "execution_count": null,
      "outputs": [
        {
          "output_type": "execute_result",
          "data": {
            "text/plain": [
              "Index(['sample_code', 'TIM3_RQ', 'TIGIT_RQ', 'LAG3_RQ', 'age_at_diagnosis',\n",
              "       'primary_EDSS_at_diagnosis', '1_years_EDSS_from_sample_date',\n",
              "       '5_years_from_sample', 'EDSS_post_10_years', 'MRI_lesion_mass',\n",
              "       'Lymph_Cells', 'PMN_Cells', 'Cells', 'gender_M', 'oligoclonal_band_POS',\n",
              "       'diagnosis_SPMS'],\n",
              "      dtype='object')"
            ]
          },
          "metadata": {
            "tags": []
          },
          "execution_count": 36
        }
      ]
    },
    {
      "cell_type": "code",
      "metadata": {
        "id": "HmKiLrao6QfS"
      },
      "source": [
        "predictor_var = ['TIM3_RQ', 'TIGIT_RQ', 'LAG3_RQ','age_at_diagnosis', 'primary_EDSS_at_diagnosis', 'MRI_lesion_mass','Lymph_Cells','PMN_Cells','Cells','gender_M','oligoclonal_band_POS']\n",
        "outcome_var = 'diagnosis_SPMS'\n",
        "X_train, X_test, y_train, y_test = train_test_split(df_livnat_all_patients[predictor_var], df_livnat_all_patients[outcome_var], random_state=42)"
      ],
      "execution_count": null,
      "outputs": []
    },
    {
      "cell_type": "markdown",
      "metadata": {
        "id": "zGEX6Qpwz2-W"
      },
      "source": [
        "#Imputation"
      ]
    },
    {
      "cell_type": "code",
      "metadata": {
        "colab": {
          "base_uri": "https://localhost:8080/"
        },
        "id": "JRTUP_NyrLNW",
        "outputId": "262956f9-2bee-4842-9137-f98686f8fc0b"
      },
      "source": [
        "df_livnat_all_patients.columns"
      ],
      "execution_count": null,
      "outputs": [
        {
          "output_type": "execute_result",
          "data": {
            "text/plain": [
              "Index(['sample_code', 'TIM3_RQ', 'TIGIT_RQ', 'LAG3_RQ', 'age_at_diagnosis',\n",
              "       'primary_EDSS_at_diagnosis', '1_years_EDSS_from_sample_date',\n",
              "       '5_years_from_sample', 'EDSS_post_10_years', 'MRI_lesion_mass',\n",
              "       'Lymph_Cells', 'PMN_Cells', 'Cells', 'gender_M', 'oligoclonal_band_POS',\n",
              "       'diagnosis_SPMS'],\n",
              "      dtype='object')"
            ]
          },
          "metadata": {
            "tags": []
          },
          "execution_count": 38
        }
      ]
    },
    {
      "cell_type": "code",
      "metadata": {
        "colab": {
          "base_uri": "https://localhost:8080/"
        },
        "id": "GkEBSZXYrN2N",
        "outputId": "cdbaee0d-6498-4347-da1b-dc956455ee53"
      },
      "source": [
        "df_michal.columns"
      ],
      "execution_count": null,
      "outputs": [
        {
          "output_type": "execute_result",
          "data": {
            "text/plain": [
              "Index(['sample_code', 'Diagnosis date', 'diagnosis', 'gender',\n",
              "       'age_at_diagnosis', 'primary_EDSS_at_diagnosis',\n",
              "       '1_years_EDSS_from_sample_date', '5_years_from_sample',\n",
              "       'EDSS_post_10_years', 'oligoclonal_band', 'Lymph_Cells', 'PMN_Cells',\n",
              "       'Cells', 'num_of_medicine', 'relapse_rate_since_blood_sample',\n",
              "       'MRI_lesion_mass', 'NEG', 'oligoclonal_band_POS', 'F', 'gender_M',\n",
              "       'RRMS', 'diagnosis_SPMS'],\n",
              "      dtype='object')"
            ]
          },
          "metadata": {
            "tags": []
          },
          "execution_count": 39
        }
      ]
    },
    {
      "cell_type": "code",
      "metadata": {
        "id": "U-_COBwo0D_X"
      },
      "source": [
        " df_michal[\"LAG3_RQ\"] = np.nan\n",
        " df_michal[\"TIM3_RQ\"] = np.nan\n",
        " df_michal[\"TIGIT_RQ\"] = np.nan\n",
        "\n",
        "\n",
        "df_livnat_all_patients_copy = df_livnat_all_patients.copy()\n",
        "df_michal_copy = df_michal.copy()\n",
        "common_features = ['sample_code','TIM3_RQ', 'TIGIT_RQ', 'LAG3_RQ', 'age_at_diagnosis', 'primary_EDSS_at_diagnosis', '1_years_EDSS_from_sample_date', 'gender_M', 'oligoclonal_band_POS', 'Lymph_Cells', 'PMN_Cells', 'Cells', 'MRI_lesion_mass', '5_years_from_sample',\n",
        "       'EDSS_post_10_years', 'diagnosis_SPMS']\n",
        "\n",
        "df_livnat_all_patients_copy= df_livnat_all_patients_copy[common_features]\n",
        "df_michal_copy = df_michal_copy[common_features]\n",
        "df_michal_livnat = pd.concat([df_livnat_all_patients_copy, df_michal_copy])\n",
        "df_michal_livnat.reset_index(drop=True)\n"
      ],
      "execution_count": null,
      "outputs": []
    },
    {
      "cell_type": "code",
      "metadata": {
        "id": "gSI_R9a1w_Ig"
      },
      "source": [
        "to_fill = ['TIM3_RQ', 'TIGIT_RQ', 'LAG3_RQ', 'age_at_diagnosis', 'primary_EDSS_at_diagnosis', '1_years_EDSS_from_sample_date', 'gender_M', 'oligoclonal_band_POS', 'Lymph_Cells', 'PMN_Cells', 'Cells', 'MRI_lesion_mass','5_years_from_sample','EDSS_post_10_years','diagnosis_SPMS']\n",
        "\n",
        "from sklearn.experimental import enable_iterative_imputer\n",
        "from sklearn.impute import IterativeImputer\n",
        "def imputation_fill(predictors):\n",
        "  imputer = IterativeImputer(random_state=SEED)\n",
        "  imputer.fit(predictors)\n",
        "  predictors_transform = imputer.transform(predictors)\n",
        "  return imputer, predictors_transform\n",
        "\n",
        "model_imputation, X_train_transform = imputation_fill(df_michal_livnat[to_fill])\n",
        "df_michal_copy_transform = model_imputation.transform(df_michal_copy[to_fill]);\n",
        "\n",
        "#return data to df\n",
        "df_michal_copy_transform = pd.DataFrame(df_michal_copy_transform, columns=to_fill)\n",
        "# df_michal_copy_transform['5_years_from_sample'] = df_michal_copy['5_years_from_sample']\n",
        "# df_michal_copy_transform['EDSS_post_10_years'] = df_michal_copy['EDSS_post_10_years']\n",
        "# df_michal_copy_transform['diagnosis_SPMS'] = df_michal_copy['diagnosis_SPMS']\n",
        "df_michal_copy_transform"
      ],
      "execution_count": null,
      "outputs": []
    },
    {
      "cell_type": "markdown",
      "metadata": {
        "id": "nxoGSjQhzx2r"
      },
      "source": [
        "#Random Forest - train test split without new samples"
      ]
    },
    {
      "cell_type": "code",
      "metadata": {
        "id": "u68GZ_87zwI2"
      },
      "source": [
        "model_no_addition_data = RandomForestClassifier(random_state=1)\n",
        "model_no_addition_data.fit(X_train,y_train)\n",
        "y_predicted = model_no_addition_data.predict(X_test)\n",
        "#evaluate the model\n"
      ],
      "execution_count": null,
      "outputs": []
    },
    {
      "cell_type": "markdown",
      "metadata": {
        "id": "Faxl1El1BRD6"
      },
      "source": [
        "## Running all experiments"
      ]
    },
    {
      "cell_type": "code",
      "metadata": {
        "id": "bUrxVCG4dUFY"
      },
      "source": [
        "\n",
        "\n",
        "\n",
        "# df_experiments_michal = pd.DataFrame(columns=['Model','Removed Features','Specificity', 'Sensitivity', 'RMSE']) \n",
        "\n",
        "# df_experiments_michal = experiments_RF_LR(df_michal,ALL_FEATURES, ALL_FEATURES_STR,df_experiments_michal)\n",
        "# df_experiments_michal = experiments_RF_LR(df_michal,NO_TIGIT, NO_TIGIT_STR,df_experiments_michal)\n",
        "# df_experiments_michal = experiments_RF_LR(df_michal ,NO_LAG3, NO_LAG3_STR,df_experiments_michal)\n",
        "# df_experiments_michal = experiments_RF_LR(df_michal,NO_LYMPH_CELLS, NO_LYMPH_CELLS_STR,df_experiments_michal)\n",
        "# df_experiments_michal = experiments_RF_LR(df_michal,NO_AGE, NO_AGE_STR,df_experiments_michal)\n",
        "# df_experiments_michal = experiments_RF_LR(df_michal,NO_PMN_CELLS, NO_PMN_CELLS_STR,df_experiments_michal)\n",
        "# df_experiments_michal = experiments_RF_LR(df_michal,NO_OCB, NO_OCB_STR,df_experiments_michal)\n",
        "# df_experiments_michal = experiments_RF_LR(df_michal,NO_MRI_LESION, NO_MRI_LESION_STR,df_experiments_michal)\n",
        "# df_experiments_michal = experiments_RF_LR(df_michal,NO_GENDER, NO_GENDER_STR,df_experiments_michal)\n",
        "# df_experiments_michal = experiments_RF_LR(df_michal,NO_EDSS_AT_DIAGNOSIS, NO_EDSS_AT_DIAGNOSIS_STR,df_experiments_michal)\n",
        "# df_experiments_michal = experiments_RF_LR(df_michal,NO_TIM3, NO_TIM3_STR,df_experiments_michal)\n",
        "# df_experiments_michal = experiments_RF_LR(df_michal,NO_TIGIT_NO_LAG3, NO_TIGIT_NO_LAG3_STR,df_experiments_michal)\n",
        "# df_experiments_michal = experiments_RF_LR(df_michal,NO_TIGIT_NO_LYMPH_CELLS, NO_TIGIT_NO_LYMPH_CELLS_STR,df_experiments_michal)\n",
        "# df_experiments_michal = experiments_RF_LR(df_michal,NO_TIGIT_NO_AGE, NO_TIGIT_NO_AGE_STR,df_experiments_michal)\n",
        "# df_experiments_michal = experiments_RF_LR(df_michal,NO_TIGIT_NO_PMN_CELLS, NO_TIGIT_NO_PMN_CELLS_STR,df_experiments_michal)\n",
        "# df_experiments_michal = experiments_RF_LR(df_michal,NO_TIGIT_NO_OCB, NO_TIGIT_NO_OCB_STR,df_experiments_michal)\n",
        "# df_experiments_michal = experiments_RF_LR(df_michal,NO_TIGIT_NO_MRI_LESION, NO_TIGIT_NO_MRI_LESION_STR,df_experiments_michal)\n",
        "# df_experiments_michal = experiments_RF_LR(df_michal,NO_LAG3_NO_LYMPH_CELLS, NO_LAG3_NO_LYMPH_CELLS_STR,df_experiments_michal)\n",
        "# df_experiments_michal = experiments_RF_LR(df_michal,NO_LAG3_NO_AGE, NO_LAG3_NO_AGE_STR,df_experiments_michal)\n",
        "# df_experiments_michal = experiments_RF_LR(df_michal,NO_LAG3_NO_PMN_CELLS, NO_LAG3_NO_PMN_CELLS_STR,df_experiments_michal)\n",
        "# df_experiments_michal = experiments_RF_LR(df_michal,NO_LAG3_NO_OCB, NO_LAG3_NO_OCB_STR,df_experiments_michal)\n",
        "# df_experiments_michal = experiments_RF_LR(df_michal,NO_LAG3_NO_MRI_LESION, NO_LAG3_NO_MRI_LESION_STR,df_experiments_michal)\n",
        "# df_experiments_michal = experiments_RF_LR(df_michal,NO_LYMPH_CELLS_NO_AGE, NO_LYMPH_CELLS_NO_AGE_STR,df_experiments_michal)\n",
        "# df_experiments_michal = experiments_RF_LR(df_michal,NO_LYMPH_CELLS_NO_PMN_CELLS, NO_LYMPH_CELLS_NO_PMN_CELLS_STR,df_experiments_michal)\n",
        "# df_experiments_michal = experiments_RF_LR(df_michal,NO_LYMPH_CELLS_NO_OCB, NO_LYMPH_CELLS_NO_OCB_STR,df_experiments_michal)\n",
        "# df_experiments_michal = experiments_RF_LR(df_michal,NO_LYMPH_CELLS_NO_MRI_LESION, NO_LYMPH_CELLS_NO_MRI_LESION_STR,df_experiments_michal)\n",
        "# df_experiments_michal = experiments_RF_LR(df_michal,NO_TIGIT_NO_LAG3_NO_LYMPH_CELLS, NO_TIGIT_NO_LAG3_NO_LYMPH_CELLS_STR,df_experiments_michal)\n",
        "# df_experiments_michal = experiments_RF_LR(df_michal,NO_TIGIT_NO_LAG3_NO_LYMPH_CELLS_NO_AGE, NO_TIGIT_NO_LAG3_NO_LYMPH_CELLS_NO_AGE_STR,df_experiments_michal)"
      ],
      "execution_count": null,
      "outputs": []
    },
    {
      "cell_type": "code",
      "metadata": {
        "colab": {
          "base_uri": "https://localhost:8080/",
          "height": 1000
        },
        "id": "r9K70FVkWJx6",
        "outputId": "57eaf9f0-fd6e-4745-869b-74e608433c48"
      },
      "source": [
        "df_experiments = pd.DataFrame(columns=['Model','Removed Features','Specificity', 'Sensitivity', 'RMSE']) \n",
        "\n",
        "df_experiments = experiments_RF_LR(df_livnat_all_patients,ALL_FEATURES, ALL_FEATURES_STR,df_experiments,df_michal_copy_transform)\n",
        "df_experiments = experiments_RF_LR(df_livnat_all_patients,NO_TIGIT, NO_TIGIT_STR,df_experiments,df_michal_copy_transform)\n",
        "df_experiments = experiments_RF_LR(df_livnat_all_patients ,NO_LAG3, NO_LAG3_STR,df_experiments,df_michal_copy_transform)\n",
        "df_experiments = experiments_RF_LR(df_livnat_all_patients,NO_LYMPH_CELLS, NO_LYMPH_CELLS_STR,df_experiments,df_michal_copy_transform)\n",
        "df_experiments = experiments_RF_LR(df_livnat_all_patients,NO_AGE, NO_AGE_STR,df_experiments,df_michal_copy_transform)\n",
        "df_experiments = experiments_RF_LR(df_livnat_all_patients,NO_PMN_CELLS, NO_PMN_CELLS_STR,df_experiments,df_michal_copy_transform)\n",
        "df_experiments = experiments_RF_LR(df_livnat_all_patients,NO_OCB, NO_OCB_STR,df_experiments,df_michal_copy_transform)\n",
        "df_experiments = experiments_RF_LR(df_livnat_all_patients,NO_MRI_LESION, NO_MRI_LESION_STR,df_experiments,df_michal_copy_transform)\n",
        "df_experiments = experiments_RF_LR(df_livnat_all_patients,NO_GENDER, NO_GENDER_STR,df_experiments,df_michal_copy_transform)\n",
        "df_experiments = experiments_RF_LR(df_livnat_all_patients,NO_EDSS_AT_DIAGNOSIS, NO_EDSS_AT_DIAGNOSIS_STR,df_experiments,df_michal_copy_transform)\n",
        "df_experiments = experiments_RF_LR(df_livnat_all_patients,NO_TIM3, NO_TIM3_STR,df_experiments,df_michal_copy_transform)\n",
        "df_experiments = experiments_RF_LR(df_livnat_all_patients,NO_TIGIT_NO_LAG3, NO_TIGIT_NO_LAG3_STR,df_experiments,df_michal_copy_transform)\n",
        "df_experiments = experiments_RF_LR(df_livnat_all_patients,NO_TIGIT_NO_LYMPH_CELLS, NO_TIGIT_NO_LYMPH_CELLS_STR,df_experiments,df_michal_copy_transform)\n",
        "df_experiments = experiments_RF_LR(df_livnat_all_patients,NO_TIGIT_NO_AGE, NO_TIGIT_NO_AGE_STR,df_experiments,df_michal_copy_transform)\n",
        "df_experiments = experiments_RF_LR(df_livnat_all_patients,NO_TIGIT_NO_PMN_CELLS, NO_TIGIT_NO_PMN_CELLS_STR,df_experiments,df_michal_copy_transform)\n",
        "df_experiments = experiments_RF_LR(df_livnat_all_patients,NO_TIGIT_NO_OCB, NO_TIGIT_NO_OCB_STR,df_experiments,df_michal_copy_transform)\n",
        "df_experiments = experiments_RF_LR(df_livnat_all_patients,NO_TIGIT_NO_MRI_LESION, NO_TIGIT_NO_MRI_LESION_STR,df_experiments,df_michal_copy_transform)\n",
        "df_experiments = experiments_RF_LR(df_livnat_all_patients,NO_LAG3_NO_LYMPH_CELLS, NO_LAG3_NO_LYMPH_CELLS_STR,df_experiments,df_michal_copy_transform)\n",
        "df_experiments = experiments_RF_LR(df_livnat_all_patients,NO_LAG3_NO_AGE, NO_LAG3_NO_AGE_STR,df_experiments,df_michal_copy_transform)\n",
        "df_experiments = experiments_RF_LR(df_livnat_all_patients,NO_LAG3_NO_PMN_CELLS, NO_LAG3_NO_PMN_CELLS_STR,df_experiments,df_michal_copy_transform)\n",
        "df_experiments = experiments_RF_LR(df_livnat_all_patients,NO_LAG3_NO_OCB, NO_LAG3_NO_OCB_STR,df_experiments,df_michal_copy_transform)\n",
        "df_experiments = experiments_RF_LR(df_livnat_all_patients,NO_LAG3_NO_MRI_LESION, NO_LAG3_NO_MRI_LESION_STR,df_experiments,df_michal_copy_transform)\n",
        "df_experiments = experiments_RF_LR(df_livnat_all_patients,NO_LYMPH_CELLS_NO_AGE, NO_LYMPH_CELLS_NO_AGE_STR,df_experiments,df_michal_copy_transform)\n",
        "df_experiments = experiments_RF_LR(df_livnat_all_patients,NO_LYMPH_CELLS_NO_PMN_CELLS, NO_LYMPH_CELLS_NO_PMN_CELLS_STR,df_experiments,df_michal_copy_transform)\n",
        "df_experiments = experiments_RF_LR(df_livnat_all_patients,NO_LYMPH_CELLS_NO_OCB, NO_LYMPH_CELLS_NO_OCB_STR,df_experiments,df_michal_copy_transform)\n",
        "df_experiments = experiments_RF_LR(df_livnat_all_patients,NO_LYMPH_CELLS_NO_MRI_LESION, NO_LYMPH_CELLS_NO_MRI_LESION_STR,df_experiments,df_michal_copy_transform)\n",
        "df_experiments = experiments_RF_LR(df_livnat_all_patients,NO_TIGIT_NO_LAG3_NO_LYMPH_CELLS, NO_TIGIT_NO_LAG3_NO_LYMPH_CELLS_STR,df_experiments,df_michal_copy_transform)\n",
        "df_experiments = experiments_RF_LR(df_livnat_all_patients,NO_TIGIT_NO_LAG3_NO_LYMPH_CELLS_NO_AGE, NO_TIGIT_NO_LAG3_NO_LYMPH_CELLS_NO_AGE_STR,df_experiments,df_michal_copy_transform)\n",
        "\n",
        "\n",
        "df_experiments.to_excel('/content/gdrive/MyDrive/Colab Notebooks/experiments_excels/df_specificity_sensitivity_rmse_Livnat_only_all_patients_after_added_michal.xlsx',index=False)\n",
        "df_experiments\n",
        "\n",
        "\n",
        "\n",
        "\n",
        "\n"
      ],
      "execution_count": null,
      "outputs": [
        {
          "output_type": "execute_result",
          "data": {
            "text/html": [
              "<div>\n",
              "<style scoped>\n",
              "    .dataframe tbody tr th:only-of-type {\n",
              "        vertical-align: middle;\n",
              "    }\n",
              "\n",
              "    .dataframe tbody tr th {\n",
              "        vertical-align: top;\n",
              "    }\n",
              "\n",
              "    .dataframe thead th {\n",
              "        text-align: right;\n",
              "    }\n",
              "</style>\n",
              "<table border=\"1\" class=\"dataframe\">\n",
              "  <thead>\n",
              "    <tr style=\"text-align: right;\">\n",
              "      <th></th>\n",
              "      <th>Model</th>\n",
              "      <th>Removed Features</th>\n",
              "      <th>Specificity</th>\n",
              "      <th>Sensitivity</th>\n",
              "      <th>RMSE</th>\n",
              "    </tr>\n",
              "  </thead>\n",
              "  <tbody>\n",
              "    <tr>\n",
              "      <th>0</th>\n",
              "      <td>Random Forest Classifier</td>\n",
              "      <td>ALL FEATURES</td>\n",
              "      <td>0.897727</td>\n",
              "      <td>0.458333</td>\n",
              "      <td></td>\n",
              "    </tr>\n",
              "    <tr>\n",
              "      <th>1</th>\n",
              "      <td>Logistic Regression</td>\n",
              "      <td>ALL FEATURES</td>\n",
              "      <td>0.931818</td>\n",
              "      <td>0.395833</td>\n",
              "      <td></td>\n",
              "    </tr>\n",
              "    <tr>\n",
              "      <th>2</th>\n",
              "      <td>Random Forest Regressor</td>\n",
              "      <td>ALL FEATURES</td>\n",
              "      <td></td>\n",
              "      <td></td>\n",
              "      <td>1.71611</td>\n",
              "    </tr>\n",
              "    <tr>\n",
              "      <th>3</th>\n",
              "      <td>Random Forest Classifier</td>\n",
              "      <td>NO TIGIT</td>\n",
              "      <td>0.943182</td>\n",
              "      <td>0.5</td>\n",
              "      <td></td>\n",
              "    </tr>\n",
              "    <tr>\n",
              "      <th>4</th>\n",
              "      <td>Logistic Regression</td>\n",
              "      <td>NO TIGIT</td>\n",
              "      <td>0.931818</td>\n",
              "      <td>0.395833</td>\n",
              "      <td></td>\n",
              "    </tr>\n",
              "    <tr>\n",
              "      <th>5</th>\n",
              "      <td>Random Forest Regressor</td>\n",
              "      <td>NO TIGIT</td>\n",
              "      <td></td>\n",
              "      <td></td>\n",
              "      <td>1.70528</td>\n",
              "    </tr>\n",
              "    <tr>\n",
              "      <th>6</th>\n",
              "      <td>Random Forest Classifier</td>\n",
              "      <td>NO LAG3</td>\n",
              "      <td>0.909091</td>\n",
              "      <td>0.541667</td>\n",
              "      <td></td>\n",
              "    </tr>\n",
              "    <tr>\n",
              "      <th>7</th>\n",
              "      <td>Logistic Regression</td>\n",
              "      <td>NO LAG3</td>\n",
              "      <td>0.931818</td>\n",
              "      <td>0.395833</td>\n",
              "      <td></td>\n",
              "    </tr>\n",
              "    <tr>\n",
              "      <th>8</th>\n",
              "      <td>Random Forest Regressor</td>\n",
              "      <td>NO LAG3</td>\n",
              "      <td></td>\n",
              "      <td></td>\n",
              "      <td>1.74953</td>\n",
              "    </tr>\n",
              "    <tr>\n",
              "      <th>9</th>\n",
              "      <td>Random Forest Classifier</td>\n",
              "      <td>NO LYMPH CELLS</td>\n",
              "      <td>0.886364</td>\n",
              "      <td>0.5</td>\n",
              "      <td></td>\n",
              "    </tr>\n",
              "    <tr>\n",
              "      <th>10</th>\n",
              "      <td>Logistic Regression</td>\n",
              "      <td>NO LYMPH CELLS</td>\n",
              "      <td>0.931818</td>\n",
              "      <td>0.4375</td>\n",
              "      <td></td>\n",
              "    </tr>\n",
              "    <tr>\n",
              "      <th>11</th>\n",
              "      <td>Random Forest Regressor</td>\n",
              "      <td>NO LYMPH CELLS</td>\n",
              "      <td></td>\n",
              "      <td></td>\n",
              "      <td>1.70286</td>\n",
              "    </tr>\n",
              "    <tr>\n",
              "      <th>12</th>\n",
              "      <td>Random Forest Classifier</td>\n",
              "      <td>NO AGE</td>\n",
              "      <td>0.886364</td>\n",
              "      <td>0.5</td>\n",
              "      <td></td>\n",
              "    </tr>\n",
              "    <tr>\n",
              "      <th>13</th>\n",
              "      <td>Logistic Regression</td>\n",
              "      <td>NO AGE</td>\n",
              "      <td>0.931818</td>\n",
              "      <td>0.416667</td>\n",
              "      <td></td>\n",
              "    </tr>\n",
              "    <tr>\n",
              "      <th>14</th>\n",
              "      <td>Random Forest Regressor</td>\n",
              "      <td>NO AGE</td>\n",
              "      <td></td>\n",
              "      <td></td>\n",
              "      <td>1.80818</td>\n",
              "    </tr>\n",
              "    <tr>\n",
              "      <th>15</th>\n",
              "      <td>Random Forest Classifier</td>\n",
              "      <td>NO PMN CELLS</td>\n",
              "      <td>0.863636</td>\n",
              "      <td>0.458333</td>\n",
              "      <td></td>\n",
              "    </tr>\n",
              "    <tr>\n",
              "      <th>16</th>\n",
              "      <td>Logistic Regression</td>\n",
              "      <td>NO PMN CELLS</td>\n",
              "      <td>0.931818</td>\n",
              "      <td>0.395833</td>\n",
              "      <td></td>\n",
              "    </tr>\n",
              "    <tr>\n",
              "      <th>17</th>\n",
              "      <td>Random Forest Regressor</td>\n",
              "      <td>NO PMN CELLS</td>\n",
              "      <td></td>\n",
              "      <td></td>\n",
              "      <td>1.72452</td>\n",
              "    </tr>\n",
              "    <tr>\n",
              "      <th>18</th>\n",
              "      <td>Random Forest Classifier</td>\n",
              "      <td>NO OCB</td>\n",
              "      <td>0.875</td>\n",
              "      <td>0.479167</td>\n",
              "      <td></td>\n",
              "    </tr>\n",
              "    <tr>\n",
              "      <th>19</th>\n",
              "      <td>Logistic Regression</td>\n",
              "      <td>NO OCB</td>\n",
              "      <td>0.931818</td>\n",
              "      <td>0.416667</td>\n",
              "      <td></td>\n",
              "    </tr>\n",
              "    <tr>\n",
              "      <th>20</th>\n",
              "      <td>Random Forest Regressor</td>\n",
              "      <td>NO OCB</td>\n",
              "      <td></td>\n",
              "      <td></td>\n",
              "      <td>1.75811</td>\n",
              "    </tr>\n",
              "    <tr>\n",
              "      <th>21</th>\n",
              "      <td>Random Forest Classifier</td>\n",
              "      <td>NO MRI LESION</td>\n",
              "      <td>0.863636</td>\n",
              "      <td>0.520833</td>\n",
              "      <td></td>\n",
              "    </tr>\n",
              "    <tr>\n",
              "      <th>22</th>\n",
              "      <td>Logistic Regression</td>\n",
              "      <td>NO MRI LESION</td>\n",
              "      <td>0.931818</td>\n",
              "      <td>0.416667</td>\n",
              "      <td></td>\n",
              "    </tr>\n",
              "    <tr>\n",
              "      <th>23</th>\n",
              "      <td>Random Forest Regressor</td>\n",
              "      <td>NO MRI LESION</td>\n",
              "      <td></td>\n",
              "      <td></td>\n",
              "      <td>1.72846</td>\n",
              "    </tr>\n",
              "    <tr>\n",
              "      <th>24</th>\n",
              "      <td>Random Forest Classifier</td>\n",
              "      <td>NO GENDER</td>\n",
              "      <td>0.886364</td>\n",
              "      <td>0.479167</td>\n",
              "      <td></td>\n",
              "    </tr>\n",
              "    <tr>\n",
              "      <th>25</th>\n",
              "      <td>Logistic Regression</td>\n",
              "      <td>NO GENDER</td>\n",
              "      <td>0.943182</td>\n",
              "      <td>0.458333</td>\n",
              "      <td></td>\n",
              "    </tr>\n",
              "    <tr>\n",
              "      <th>26</th>\n",
              "      <td>Random Forest Regressor</td>\n",
              "      <td>NO GENDER</td>\n",
              "      <td></td>\n",
              "      <td></td>\n",
              "      <td>1.71799</td>\n",
              "    </tr>\n",
              "    <tr>\n",
              "      <th>27</th>\n",
              "      <td>Random Forest Classifier</td>\n",
              "      <td>NO EDSS AT DIAGNOSIS</td>\n",
              "      <td>0.840909</td>\n",
              "      <td>0.354167</td>\n",
              "      <td></td>\n",
              "    </tr>\n",
              "    <tr>\n",
              "      <th>28</th>\n",
              "      <td>Logistic Regression</td>\n",
              "      <td>NO EDSS AT DIAGNOSIS</td>\n",
              "      <td>0.977273</td>\n",
              "      <td>0.0416667</td>\n",
              "      <td></td>\n",
              "    </tr>\n",
              "    <tr>\n",
              "      <th>29</th>\n",
              "      <td>Random Forest Regressor</td>\n",
              "      <td>NO EDSS AT DIAGNOSIS</td>\n",
              "      <td></td>\n",
              "      <td></td>\n",
              "      <td>2.21334</td>\n",
              "    </tr>\n",
              "    <tr>\n",
              "      <th>30</th>\n",
              "      <td>Random Forest Classifier</td>\n",
              "      <td>NO TIM3</td>\n",
              "      <td>0.965909</td>\n",
              "      <td>0.5</td>\n",
              "      <td></td>\n",
              "    </tr>\n",
              "    <tr>\n",
              "      <th>31</th>\n",
              "      <td>Logistic Regression</td>\n",
              "      <td>NO TIM3</td>\n",
              "      <td>0.943182</td>\n",
              "      <td>0.416667</td>\n",
              "      <td></td>\n",
              "    </tr>\n",
              "    <tr>\n",
              "      <th>32</th>\n",
              "      <td>Random Forest Regressor</td>\n",
              "      <td>NO TIM3</td>\n",
              "      <td></td>\n",
              "      <td></td>\n",
              "      <td>1.81332</td>\n",
              "    </tr>\n",
              "    <tr>\n",
              "      <th>33</th>\n",
              "      <td>Random Forest Classifier</td>\n",
              "      <td>NO TIGIT, LAG3</td>\n",
              "      <td>0.920455</td>\n",
              "      <td>0.5625</td>\n",
              "      <td></td>\n",
              "    </tr>\n",
              "    <tr>\n",
              "      <th>34</th>\n",
              "      <td>Logistic Regression</td>\n",
              "      <td>NO TIGIT, LAG3</td>\n",
              "      <td>0.931818</td>\n",
              "      <td>0.395833</td>\n",
              "      <td></td>\n",
              "    </tr>\n",
              "    <tr>\n",
              "      <th>35</th>\n",
              "      <td>Random Forest Regressor</td>\n",
              "      <td>NO TIGIT, LAG3</td>\n",
              "      <td></td>\n",
              "      <td></td>\n",
              "      <td>1.72326</td>\n",
              "    </tr>\n",
              "    <tr>\n",
              "      <th>36</th>\n",
              "      <td>Random Forest Classifier</td>\n",
              "      <td>NO TIGIT, LYMPH CELLS</td>\n",
              "      <td>0.931818</td>\n",
              "      <td>0.479167</td>\n",
              "      <td></td>\n",
              "    </tr>\n",
              "    <tr>\n",
              "      <th>37</th>\n",
              "      <td>Logistic Regression</td>\n",
              "      <td>NO TIGIT, LYMPH CELLS</td>\n",
              "      <td>0.931818</td>\n",
              "      <td>0.4375</td>\n",
              "      <td></td>\n",
              "    </tr>\n",
              "    <tr>\n",
              "      <th>38</th>\n",
              "      <td>Random Forest Regressor</td>\n",
              "      <td>NO TIGIT, LYMPH CELLS</td>\n",
              "      <td></td>\n",
              "      <td></td>\n",
              "      <td>1.756</td>\n",
              "    </tr>\n",
              "    <tr>\n",
              "      <th>39</th>\n",
              "      <td>Random Forest Classifier</td>\n",
              "      <td>NO TIGIT, AGE</td>\n",
              "      <td>0.931818</td>\n",
              "      <td>0.520833</td>\n",
              "      <td></td>\n",
              "    </tr>\n",
              "    <tr>\n",
              "      <th>40</th>\n",
              "      <td>Logistic Regression</td>\n",
              "      <td>NO TIGIT, AGE</td>\n",
              "      <td>0.931818</td>\n",
              "      <td>0.416667</td>\n",
              "      <td></td>\n",
              "    </tr>\n",
              "    <tr>\n",
              "      <th>41</th>\n",
              "      <td>Random Forest Regressor</td>\n",
              "      <td>NO TIGIT, AGE</td>\n",
              "      <td></td>\n",
              "      <td></td>\n",
              "      <td>1.74845</td>\n",
              "    </tr>\n",
              "    <tr>\n",
              "      <th>42</th>\n",
              "      <td>Random Forest Classifier</td>\n",
              "      <td>NO TIGIT, PMN CELLS</td>\n",
              "      <td>0.920455</td>\n",
              "      <td>0.4375</td>\n",
              "      <td></td>\n",
              "    </tr>\n",
              "    <tr>\n",
              "      <th>43</th>\n",
              "      <td>Logistic Regression</td>\n",
              "      <td>NO TIGIT, PMN CELLS</td>\n",
              "      <td>0.931818</td>\n",
              "      <td>0.4375</td>\n",
              "      <td></td>\n",
              "    </tr>\n",
              "    <tr>\n",
              "      <th>44</th>\n",
              "      <td>Random Forest Regressor</td>\n",
              "      <td>NO TIGIT, PMN CELLS</td>\n",
              "      <td></td>\n",
              "      <td></td>\n",
              "      <td>1.68388</td>\n",
              "    </tr>\n",
              "    <tr>\n",
              "      <th>45</th>\n",
              "      <td>Random Forest Classifier</td>\n",
              "      <td>NO TIGIT, OCB</td>\n",
              "      <td>0.931818</td>\n",
              "      <td>0.479167</td>\n",
              "      <td></td>\n",
              "    </tr>\n",
              "    <tr>\n",
              "      <th>46</th>\n",
              "      <td>Logistic Regression</td>\n",
              "      <td>NO TIGIT, OCB</td>\n",
              "      <td>0.931818</td>\n",
              "      <td>0.416667</td>\n",
              "      <td></td>\n",
              "    </tr>\n",
              "    <tr>\n",
              "      <th>47</th>\n",
              "      <td>Random Forest Regressor</td>\n",
              "      <td>NO TIGIT, OCB</td>\n",
              "      <td></td>\n",
              "      <td></td>\n",
              "      <td>1.72194</td>\n",
              "    </tr>\n",
              "    <tr>\n",
              "      <th>48</th>\n",
              "      <td>Random Forest Classifier</td>\n",
              "      <td>NO TIGIT, MRI LESION</td>\n",
              "      <td>0.943182</td>\n",
              "      <td>0.520833</td>\n",
              "      <td></td>\n",
              "    </tr>\n",
              "    <tr>\n",
              "      <th>49</th>\n",
              "      <td>Logistic Regression</td>\n",
              "      <td>NO TIGIT, MRI LESION</td>\n",
              "      <td>0.931818</td>\n",
              "      <td>0.416667</td>\n",
              "      <td></td>\n",
              "    </tr>\n",
              "    <tr>\n",
              "      <th>50</th>\n",
              "      <td>Random Forest Regressor</td>\n",
              "      <td>NO TIGIT, MRI LESION</td>\n",
              "      <td></td>\n",
              "      <td></td>\n",
              "      <td>1.68558</td>\n",
              "    </tr>\n",
              "    <tr>\n",
              "      <th>51</th>\n",
              "      <td>Random Forest Classifier</td>\n",
              "      <td>NO_LAG3, LYMPH_CELLS</td>\n",
              "      <td>0.943182</td>\n",
              "      <td>0.479167</td>\n",
              "      <td></td>\n",
              "    </tr>\n",
              "    <tr>\n",
              "      <th>52</th>\n",
              "      <td>Logistic Regression</td>\n",
              "      <td>NO_LAG3, LYMPH_CELLS</td>\n",
              "      <td>0.931818</td>\n",
              "      <td>0.4375</td>\n",
              "      <td></td>\n",
              "    </tr>\n",
              "    <tr>\n",
              "      <th>53</th>\n",
              "      <td>Random Forest Regressor</td>\n",
              "      <td>NO_LAG3, LYMPH_CELLS</td>\n",
              "      <td></td>\n",
              "      <td></td>\n",
              "      <td>1.75685</td>\n",
              "    </tr>\n",
              "    <tr>\n",
              "      <th>54</th>\n",
              "      <td>Random Forest Classifier</td>\n",
              "      <td>NO_LAG3, AGE</td>\n",
              "      <td>0.920455</td>\n",
              "      <td>0.479167</td>\n",
              "      <td></td>\n",
              "    </tr>\n",
              "    <tr>\n",
              "      <th>55</th>\n",
              "      <td>Logistic Regression</td>\n",
              "      <td>NO_LAG3, AGE</td>\n",
              "      <td>0.931818</td>\n",
              "      <td>0.395833</td>\n",
              "      <td></td>\n",
              "    </tr>\n",
              "    <tr>\n",
              "      <th>56</th>\n",
              "      <td>Random Forest Regressor</td>\n",
              "      <td>NO_LAG3, AGE</td>\n",
              "      <td></td>\n",
              "      <td></td>\n",
              "      <td>1.66649</td>\n",
              "    </tr>\n",
              "    <tr>\n",
              "      <th>57</th>\n",
              "      <td>Random Forest Classifier</td>\n",
              "      <td>NO_LAG3, PMN_CELLS</td>\n",
              "      <td>0.943182</td>\n",
              "      <td>0.520833</td>\n",
              "      <td></td>\n",
              "    </tr>\n",
              "    <tr>\n",
              "      <th>58</th>\n",
              "      <td>Logistic Regression</td>\n",
              "      <td>NO_LAG3, PMN_CELLS</td>\n",
              "      <td>0.931818</td>\n",
              "      <td>0.4375</td>\n",
              "      <td></td>\n",
              "    </tr>\n",
              "    <tr>\n",
              "      <th>59</th>\n",
              "      <td>Random Forest Regressor</td>\n",
              "      <td>NO_LAG3, PMN_CELLS</td>\n",
              "      <td></td>\n",
              "      <td></td>\n",
              "      <td>1.70146</td>\n",
              "    </tr>\n",
              "    <tr>\n",
              "      <th>60</th>\n",
              "      <td>Random Forest Classifier</td>\n",
              "      <td>NO_LAG3, OCB</td>\n",
              "      <td>0.943182</td>\n",
              "      <td>0.520833</td>\n",
              "      <td></td>\n",
              "    </tr>\n",
              "    <tr>\n",
              "      <th>61</th>\n",
              "      <td>Logistic Regression</td>\n",
              "      <td>NO_LAG3, OCB</td>\n",
              "      <td>0.931818</td>\n",
              "      <td>0.416667</td>\n",
              "      <td></td>\n",
              "    </tr>\n",
              "    <tr>\n",
              "      <th>62</th>\n",
              "      <td>Random Forest Regressor</td>\n",
              "      <td>NO_LAG3, OCB</td>\n",
              "      <td></td>\n",
              "      <td></td>\n",
              "      <td>1.72675</td>\n",
              "    </tr>\n",
              "    <tr>\n",
              "      <th>63</th>\n",
              "      <td>Random Forest Classifier</td>\n",
              "      <td>NO_LAG3, MRI_LESION</td>\n",
              "      <td>0.920455</td>\n",
              "      <td>0.5</td>\n",
              "      <td></td>\n",
              "    </tr>\n",
              "    <tr>\n",
              "      <th>64</th>\n",
              "      <td>Logistic Regression</td>\n",
              "      <td>NO_LAG3, MRI_LESION</td>\n",
              "      <td>0.931818</td>\n",
              "      <td>0.416667</td>\n",
              "      <td></td>\n",
              "    </tr>\n",
              "    <tr>\n",
              "      <th>65</th>\n",
              "      <td>Random Forest Regressor</td>\n",
              "      <td>NO_LAG3, MRI_LESION</td>\n",
              "      <td></td>\n",
              "      <td></td>\n",
              "      <td>1.697</td>\n",
              "    </tr>\n",
              "    <tr>\n",
              "      <th>66</th>\n",
              "      <td>Random Forest Classifier</td>\n",
              "      <td>NO_LYMPH_CELLS, AGE</td>\n",
              "      <td>0.909091</td>\n",
              "      <td>0.479167</td>\n",
              "      <td></td>\n",
              "    </tr>\n",
              "    <tr>\n",
              "      <th>67</th>\n",
              "      <td>Logistic Regression</td>\n",
              "      <td>NO_LYMPH_CELLS, AGE</td>\n",
              "      <td>0.931818</td>\n",
              "      <td>0.4375</td>\n",
              "      <td></td>\n",
              "    </tr>\n",
              "    <tr>\n",
              "      <th>68</th>\n",
              "      <td>Random Forest Regressor</td>\n",
              "      <td>NO_LYMPH_CELLS, AGE</td>\n",
              "      <td></td>\n",
              "      <td></td>\n",
              "      <td>1.76256</td>\n",
              "    </tr>\n",
              "    <tr>\n",
              "      <th>69</th>\n",
              "      <td>Random Forest Classifier</td>\n",
              "      <td>NO_LYMPH_CELLS, PMN_CELLS</td>\n",
              "      <td>0.909091</td>\n",
              "      <td>0.5</td>\n",
              "      <td></td>\n",
              "    </tr>\n",
              "    <tr>\n",
              "      <th>70</th>\n",
              "      <td>Logistic Regression</td>\n",
              "      <td>NO_LYMPH_CELLS, PMN_CELLS</td>\n",
              "      <td>0.931818</td>\n",
              "      <td>0.4375</td>\n",
              "      <td></td>\n",
              "    </tr>\n",
              "    <tr>\n",
              "      <th>71</th>\n",
              "      <td>Random Forest Regressor</td>\n",
              "      <td>NO_LYMPH_CELLS, PMN_CELLS</td>\n",
              "      <td></td>\n",
              "      <td></td>\n",
              "      <td>1.70865</td>\n",
              "    </tr>\n",
              "    <tr>\n",
              "      <th>72</th>\n",
              "      <td>Random Forest Classifier</td>\n",
              "      <td>NO_LYMPH_CELLS, OCB</td>\n",
              "      <td>0.897727</td>\n",
              "      <td>0.5625</td>\n",
              "      <td></td>\n",
              "    </tr>\n",
              "    <tr>\n",
              "      <th>73</th>\n",
              "      <td>Logistic Regression</td>\n",
              "      <td>NO_LYMPH_CELLS, OCB</td>\n",
              "      <td>0.943182</td>\n",
              "      <td>0.416667</td>\n",
              "      <td></td>\n",
              "    </tr>\n",
              "    <tr>\n",
              "      <th>74</th>\n",
              "      <td>Random Forest Regressor</td>\n",
              "      <td>NO_LYMPH_CELLS, OCB</td>\n",
              "      <td></td>\n",
              "      <td></td>\n",
              "      <td>1.77206</td>\n",
              "    </tr>\n",
              "    <tr>\n",
              "      <th>75</th>\n",
              "      <td>Random Forest Classifier</td>\n",
              "      <td>NO_LYMPH_CELLS, MRI_LESION</td>\n",
              "      <td>0.943182</td>\n",
              "      <td>0.5</td>\n",
              "      <td></td>\n",
              "    </tr>\n",
              "    <tr>\n",
              "      <th>76</th>\n",
              "      <td>Logistic Regression</td>\n",
              "      <td>NO_LYMPH_CELLS, MRI_LESION</td>\n",
              "      <td>0.931818</td>\n",
              "      <td>0.4375</td>\n",
              "      <td></td>\n",
              "    </tr>\n",
              "    <tr>\n",
              "      <th>77</th>\n",
              "      <td>Random Forest Regressor</td>\n",
              "      <td>NO_LYMPH_CELLS, MRI_LESION</td>\n",
              "      <td></td>\n",
              "      <td></td>\n",
              "      <td>1.68276</td>\n",
              "    </tr>\n",
              "    <tr>\n",
              "      <th>78</th>\n",
              "      <td>Random Forest Classifier</td>\n",
              "      <td>NO_TIGIT, LAG3, LYMPH_CELLS</td>\n",
              "      <td>0.909091</td>\n",
              "      <td>0.5625</td>\n",
              "      <td></td>\n",
              "    </tr>\n",
              "    <tr>\n",
              "      <th>79</th>\n",
              "      <td>Logistic Regression</td>\n",
              "      <td>NO_TIGIT, LAG3, LYMPH_CELLS</td>\n",
              "      <td>0.931818</td>\n",
              "      <td>0.4375</td>\n",
              "      <td></td>\n",
              "    </tr>\n",
              "    <tr>\n",
              "      <th>80</th>\n",
              "      <td>Random Forest Regressor</td>\n",
              "      <td>NO_TIGIT, LAG3, LYMPH_CELLS</td>\n",
              "      <td></td>\n",
              "      <td></td>\n",
              "      <td>1.71754</td>\n",
              "    </tr>\n",
              "    <tr>\n",
              "      <th>81</th>\n",
              "      <td>Random Forest Classifier</td>\n",
              "      <td>NO_TIGIT, LAG3, LYMPH_CELLS, AGE</td>\n",
              "      <td>0.852273</td>\n",
              "      <td>0.541667</td>\n",
              "      <td></td>\n",
              "    </tr>\n",
              "    <tr>\n",
              "      <th>82</th>\n",
              "      <td>Logistic Regression</td>\n",
              "      <td>NO_TIGIT, LAG3, LYMPH_CELLS, AGE</td>\n",
              "      <td>0.943182</td>\n",
              "      <td>0.4375</td>\n",
              "      <td></td>\n",
              "    </tr>\n",
              "    <tr>\n",
              "      <th>83</th>\n",
              "      <td>Random Forest Regressor</td>\n",
              "      <td>NO_TIGIT, LAG3, LYMPH_CELLS, AGE</td>\n",
              "      <td></td>\n",
              "      <td></td>\n",
              "      <td>1.64641</td>\n",
              "    </tr>\n",
              "  </tbody>\n",
              "</table>\n",
              "</div>"
            ],
            "text/plain": [
              "                       Model                  Removed Features Specificity  \\\n",
              "0   Random Forest Classifier                      ALL FEATURES    0.897727   \n",
              "1        Logistic Regression                      ALL FEATURES    0.931818   \n",
              "2    Random Forest Regressor                      ALL FEATURES               \n",
              "3   Random Forest Classifier                          NO TIGIT    0.943182   \n",
              "4        Logistic Regression                          NO TIGIT    0.931818   \n",
              "5    Random Forest Regressor                          NO TIGIT               \n",
              "6   Random Forest Classifier                           NO LAG3    0.909091   \n",
              "7        Logistic Regression                           NO LAG3    0.931818   \n",
              "8    Random Forest Regressor                           NO LAG3               \n",
              "9   Random Forest Classifier                    NO LYMPH CELLS    0.886364   \n",
              "10       Logistic Regression                    NO LYMPH CELLS    0.931818   \n",
              "11   Random Forest Regressor                    NO LYMPH CELLS               \n",
              "12  Random Forest Classifier                            NO AGE    0.886364   \n",
              "13       Logistic Regression                            NO AGE    0.931818   \n",
              "14   Random Forest Regressor                            NO AGE               \n",
              "15  Random Forest Classifier                      NO PMN CELLS    0.863636   \n",
              "16       Logistic Regression                      NO PMN CELLS    0.931818   \n",
              "17   Random Forest Regressor                      NO PMN CELLS               \n",
              "18  Random Forest Classifier                            NO OCB       0.875   \n",
              "19       Logistic Regression                            NO OCB    0.931818   \n",
              "20   Random Forest Regressor                            NO OCB               \n",
              "21  Random Forest Classifier                     NO MRI LESION    0.863636   \n",
              "22       Logistic Regression                     NO MRI LESION    0.931818   \n",
              "23   Random Forest Regressor                     NO MRI LESION               \n",
              "24  Random Forest Classifier                         NO GENDER    0.886364   \n",
              "25       Logistic Regression                         NO GENDER    0.943182   \n",
              "26   Random Forest Regressor                         NO GENDER               \n",
              "27  Random Forest Classifier              NO EDSS AT DIAGNOSIS    0.840909   \n",
              "28       Logistic Regression              NO EDSS AT DIAGNOSIS    0.977273   \n",
              "29   Random Forest Regressor              NO EDSS AT DIAGNOSIS               \n",
              "30  Random Forest Classifier                           NO TIM3    0.965909   \n",
              "31       Logistic Regression                           NO TIM3    0.943182   \n",
              "32   Random Forest Regressor                           NO TIM3               \n",
              "33  Random Forest Classifier                    NO TIGIT, LAG3    0.920455   \n",
              "34       Logistic Regression                    NO TIGIT, LAG3    0.931818   \n",
              "35   Random Forest Regressor                    NO TIGIT, LAG3               \n",
              "36  Random Forest Classifier             NO TIGIT, LYMPH CELLS    0.931818   \n",
              "37       Logistic Regression             NO TIGIT, LYMPH CELLS    0.931818   \n",
              "38   Random Forest Regressor             NO TIGIT, LYMPH CELLS               \n",
              "39  Random Forest Classifier                     NO TIGIT, AGE    0.931818   \n",
              "40       Logistic Regression                     NO TIGIT, AGE    0.931818   \n",
              "41   Random Forest Regressor                     NO TIGIT, AGE               \n",
              "42  Random Forest Classifier               NO TIGIT, PMN CELLS    0.920455   \n",
              "43       Logistic Regression               NO TIGIT, PMN CELLS    0.931818   \n",
              "44   Random Forest Regressor               NO TIGIT, PMN CELLS               \n",
              "45  Random Forest Classifier                     NO TIGIT, OCB    0.931818   \n",
              "46       Logistic Regression                     NO TIGIT, OCB    0.931818   \n",
              "47   Random Forest Regressor                     NO TIGIT, OCB               \n",
              "48  Random Forest Classifier              NO TIGIT, MRI LESION    0.943182   \n",
              "49       Logistic Regression              NO TIGIT, MRI LESION    0.931818   \n",
              "50   Random Forest Regressor              NO TIGIT, MRI LESION               \n",
              "51  Random Forest Classifier              NO_LAG3, LYMPH_CELLS    0.943182   \n",
              "52       Logistic Regression              NO_LAG3, LYMPH_CELLS    0.931818   \n",
              "53   Random Forest Regressor              NO_LAG3, LYMPH_CELLS               \n",
              "54  Random Forest Classifier                      NO_LAG3, AGE    0.920455   \n",
              "55       Logistic Regression                      NO_LAG3, AGE    0.931818   \n",
              "56   Random Forest Regressor                      NO_LAG3, AGE               \n",
              "57  Random Forest Classifier                NO_LAG3, PMN_CELLS    0.943182   \n",
              "58       Logistic Regression                NO_LAG3, PMN_CELLS    0.931818   \n",
              "59   Random Forest Regressor                NO_LAG3, PMN_CELLS               \n",
              "60  Random Forest Classifier                      NO_LAG3, OCB    0.943182   \n",
              "61       Logistic Regression                      NO_LAG3, OCB    0.931818   \n",
              "62   Random Forest Regressor                      NO_LAG3, OCB               \n",
              "63  Random Forest Classifier               NO_LAG3, MRI_LESION    0.920455   \n",
              "64       Logistic Regression               NO_LAG3, MRI_LESION    0.931818   \n",
              "65   Random Forest Regressor               NO_LAG3, MRI_LESION               \n",
              "66  Random Forest Classifier               NO_LYMPH_CELLS, AGE    0.909091   \n",
              "67       Logistic Regression               NO_LYMPH_CELLS, AGE    0.931818   \n",
              "68   Random Forest Regressor               NO_LYMPH_CELLS, AGE               \n",
              "69  Random Forest Classifier         NO_LYMPH_CELLS, PMN_CELLS    0.909091   \n",
              "70       Logistic Regression         NO_LYMPH_CELLS, PMN_CELLS    0.931818   \n",
              "71   Random Forest Regressor         NO_LYMPH_CELLS, PMN_CELLS               \n",
              "72  Random Forest Classifier               NO_LYMPH_CELLS, OCB    0.897727   \n",
              "73       Logistic Regression               NO_LYMPH_CELLS, OCB    0.943182   \n",
              "74   Random Forest Regressor               NO_LYMPH_CELLS, OCB               \n",
              "75  Random Forest Classifier        NO_LYMPH_CELLS, MRI_LESION    0.943182   \n",
              "76       Logistic Regression        NO_LYMPH_CELLS, MRI_LESION    0.931818   \n",
              "77   Random Forest Regressor        NO_LYMPH_CELLS, MRI_LESION               \n",
              "78  Random Forest Classifier       NO_TIGIT, LAG3, LYMPH_CELLS    0.909091   \n",
              "79       Logistic Regression       NO_TIGIT, LAG3, LYMPH_CELLS    0.931818   \n",
              "80   Random Forest Regressor       NO_TIGIT, LAG3, LYMPH_CELLS               \n",
              "81  Random Forest Classifier  NO_TIGIT, LAG3, LYMPH_CELLS, AGE    0.852273   \n",
              "82       Logistic Regression  NO_TIGIT, LAG3, LYMPH_CELLS, AGE    0.943182   \n",
              "83   Random Forest Regressor  NO_TIGIT, LAG3, LYMPH_CELLS, AGE               \n",
              "\n",
              "   Sensitivity     RMSE  \n",
              "0     0.458333           \n",
              "1     0.395833           \n",
              "2               1.71611  \n",
              "3          0.5           \n",
              "4     0.395833           \n",
              "5               1.70528  \n",
              "6     0.541667           \n",
              "7     0.395833           \n",
              "8               1.74953  \n",
              "9          0.5           \n",
              "10      0.4375           \n",
              "11              1.70286  \n",
              "12         0.5           \n",
              "13    0.416667           \n",
              "14              1.80818  \n",
              "15    0.458333           \n",
              "16    0.395833           \n",
              "17              1.72452  \n",
              "18    0.479167           \n",
              "19    0.416667           \n",
              "20              1.75811  \n",
              "21    0.520833           \n",
              "22    0.416667           \n",
              "23              1.72846  \n",
              "24    0.479167           \n",
              "25    0.458333           \n",
              "26              1.71799  \n",
              "27    0.354167           \n",
              "28   0.0416667           \n",
              "29              2.21334  \n",
              "30         0.5           \n",
              "31    0.416667           \n",
              "32              1.81332  \n",
              "33      0.5625           \n",
              "34    0.395833           \n",
              "35              1.72326  \n",
              "36    0.479167           \n",
              "37      0.4375           \n",
              "38                1.756  \n",
              "39    0.520833           \n",
              "40    0.416667           \n",
              "41              1.74845  \n",
              "42      0.4375           \n",
              "43      0.4375           \n",
              "44              1.68388  \n",
              "45    0.479167           \n",
              "46    0.416667           \n",
              "47              1.72194  \n",
              "48    0.520833           \n",
              "49    0.416667           \n",
              "50              1.68558  \n",
              "51    0.479167           \n",
              "52      0.4375           \n",
              "53              1.75685  \n",
              "54    0.479167           \n",
              "55    0.395833           \n",
              "56              1.66649  \n",
              "57    0.520833           \n",
              "58      0.4375           \n",
              "59              1.70146  \n",
              "60    0.520833           \n",
              "61    0.416667           \n",
              "62              1.72675  \n",
              "63         0.5           \n",
              "64    0.416667           \n",
              "65                1.697  \n",
              "66    0.479167           \n",
              "67      0.4375           \n",
              "68              1.76256  \n",
              "69         0.5           \n",
              "70      0.4375           \n",
              "71              1.70865  \n",
              "72      0.5625           \n",
              "73    0.416667           \n",
              "74              1.77206  \n",
              "75         0.5           \n",
              "76      0.4375           \n",
              "77              1.68276  \n",
              "78      0.5625           \n",
              "79      0.4375           \n",
              "80              1.71754  \n",
              "81    0.541667           \n",
              "82      0.4375           \n",
              "83              1.64641  "
            ]
          },
          "metadata": {
            "tags": []
          },
          "execution_count": 44
        }
      ]
    },
    {
      "cell_type": "code",
      "metadata": {
        "id": "iIHtzgAPBhZU"
      },
      "source": [
        "df_michal_copy_transform.to_excel('/content/gdrive/MyDrive/Colab Notebooks/experiments_excels/df_michal_copy_transform_after_imputation.xlsx',index=False)\n"
      ],
      "execution_count": null,
      "outputs": []
    },
    {
      "cell_type": "code",
      "metadata": {
        "id": "DmHdRa0ibaN_"
      },
      "source": [
        "df_michal.to_excel('/content/gdrive/MyDrive/Colab Notebooks/experiments_excels/df_michal_before_imputation.xlsx',index=False)\n"
      ],
      "execution_count": null,
      "outputs": []
    },
    {
      "cell_type": "markdown",
      "metadata": {
        "id": "Y3TOgCRdz8da"
      },
      "source": [
        "#Logistic Regression"
      ]
    },
    {
      "cell_type": "markdown",
      "metadata": {
        "id": "5sXBZz3i1OU-"
      },
      "source": [
        "filling missing data"
      ]
    },
    {
      "cell_type": "code",
      "metadata": {
        "id": "E84h0rHq1QsE"
      },
      "source": [
        "# num_med_Col = df['num_of_medicine']\n",
        "# num_med_Col = num_med_Col[np.logical_not(np.isnan(num_med_Col))]\n",
        "# df['num_of_medicine'].fillna(stats.median(num_med_Col), inplace=True)"
      ],
      "execution_count": null,
      "outputs": []
    },
    {
      "cell_type": "code",
      "metadata": {
        "id": "4-42_X80MUUP"
      },
      "source": [
        "# df.to_csv('dfNoUK.csv',index=False)"
      ],
      "execution_count": null,
      "outputs": []
    },
    {
      "cell_type": "code",
      "metadata": {
        "id": "7uiNa26vk8_t"
      },
      "source": [
        "# #define numeric type diagnosis\n",
        "# df['age_at_diagnosis'] = df['age_at_diagnosis'].astype('int64')\n",
        "# # df['Cells'] = df['Cells'].astype('int64')\n",
        "# # df['PMN_Cells'] = df['PMN_Cells'].astype('int64')\n",
        "# # df['Lymph_Cells'] = df['Lymph_Cells'].astype('int64')\n",
        "# df['num_of_medicine'] = df['num_of_medicine'].astype('int64')\n",
        "\n",
        "# df['primary_EDSS_at_diagnosis'] = df['primary_EDSS_at_diagnosis'].astype('float64')\n",
        "# df['1_years_EDSS_from_sample_date'] = df['1_years_EDSS_from_sample_date'].astype('float64')\n",
        "# df['5_years_from_sample'] = df['5_years_from_sample'].astype('float64')\n",
        "# df['EDSS_post_10_years'] = df['EDSS_post_10_years'].astype('float64')\n",
        "# #define numeric type MRI\n",
        "# df['MRI_lesion_mass'] = df['MRI_lesion_mass'].astype('float64')\n",
        "\n",
        "# #define category type diagnosis\n",
        "# df['diagnosis'] = df['diagnosis'].astype('category')\n",
        "# df['oligoclonal_band'] = df['oligoclonal_band'].astype('category')\n",
        "# df['sample_code'] = df['sample_code'].astype('category')\n",
        "# df['gender'] = df['gender'].astype('category')\n"
      ],
      "execution_count": null,
      "outputs": []
    },
    {
      "cell_type": "code",
      "metadata": {
        "id": "LLm5fbYVkqLG"
      },
      "source": [
        "# df.dtypes"
      ],
      "execution_count": null,
      "outputs": []
    },
    {
      "cell_type": "code",
      "metadata": {
        "id": "gR2cF8P0z34t"
      },
      "source": [
        "# mriLessionCol = df['MRI_lesion_mass']\n",
        "# edssTenCol = df['primary_EDSS_at_diagnosis']\n",
        "# edssTenCol = df['1_years_EDSS_from_sample_date']\n",
        "\n",
        "# mriLessionCol = mriLessionCol[np.logical_not(np.isnan(mriLessionCol))]\n",
        "# edssTenCol = edssTenCol[np.logical_not(np.isnan(edssTenCol))]\n",
        "# edssTenCol = edssTenCol[np.logical_not(np.isnan(edssTenCol))]\n",
        "\n",
        "# df['MRI_lesion_mass'].fillna(stats.median(mriLessionCol), inplace=True)\n",
        "# df['primary_EDSS_at_diagnosis'].fillna(stats.median(edssTenCol), inplace=True)\n",
        "# df['1_years_EDSS_from_sample_date'].fillna(stats.median(edssTenCol), inplace=True)\n"
      ],
      "execution_count": null,
      "outputs": []
    },
    {
      "cell_type": "code",
      "metadata": {
        "id": "3PIMzoMqgduF"
      },
      "source": [
        "\n",
        "# df['5_years_from_sample'].fillna(stats.median(df['5_years_from_sample']), inplace=True)\n",
        "# df['EDSS_post_10_years'].fillna(stats.median(df['EDSS_post_10_years']), inplace=True)\n",
        "# df['oligoclonal_band'].fillna(stats.mode(df['oligoclonal_band']), inplace=True)\n",
        "# df['gender'].fillna(stats.mode(df['gender']), inplace=True)\n",
        "# df['Lymph_Cells'].fillna(stats.median(df['Lymph_Cells']), inplace=True)\n",
        "# df['Lymph_Cells'] = df['Lymph_Cells'].astype('int64')\n",
        "# df['PMN_Cells'].fillna(stats.median(df['PMN_Cells']), inplace=True)\n",
        "# df['PMN_Cells'] = df['PMN_Cells'].astype('int64')\n",
        "# df['Cells'].fillna(stats.median(df['Cells']), inplace=True)\n",
        "# df['Cells'] = df['Cells'].astype('int64')\n"
      ],
      "execution_count": null,
      "outputs": []
    }
  ]
}