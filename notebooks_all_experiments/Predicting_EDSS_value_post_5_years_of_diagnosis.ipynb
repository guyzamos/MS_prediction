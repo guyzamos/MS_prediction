{
  "nbformat": 4,
  "nbformat_minor": 0,
  "metadata": {
    "colab": {
      "name": "Predicting_EDSS_value_post_5_years_of_diagnosis.ipynb",
      "provenance": [],
      "collapsed_sections": []
    },
    "kernelspec": {
      "name": "python3",
      "display_name": "Python 3"
    },
    "language_info": {
      "name": "python"
    }
  },
  "cells": [
    {
      "cell_type": "code",
      "metadata": {
        "id": "JKQUYFNk9LJn"
      },
      "source": [
        "from sklearn.ensemble import RandomForestRegressor\n",
        "from sklearn.ensemble import RandomForestRegressor\n",
        "import pandas as pd\n",
        "import numpy as np\n",
        "import matplotlib.pyplot as plt\n",
        "import statistics as stats\n",
        "import io\n",
        "from sklearn.metrics import mean_squared_error\n",
        "from math import sqrt\n",
        "from sklearn.preprocessing import LabelEncoder\n",
        "from sklearn.model_selection import KFold\n",
        "from sklearn.ensemble import RandomForestRegressor\n",
        "from sklearn.ensemble import RandomForestClassifier\n",
        "from sklearn.linear_model import LogisticRegression\n",
        "from sklearn import metrics\n",
        "from sklearn.model_selection import train_test_split"
      ],
      "execution_count": null,
      "outputs": []
    },
    {
      "cell_type": "code",
      "metadata": {
        "id": "xICXYVBKG-mI"
      },
      "source": [
        "def calcCrossValidation_RMSE(model, df, predictors, outcome):\n",
        "\n",
        "\n",
        "  # Perform k-fold cross-validation with 10 folds\n",
        "  kf = KFold(n_splits=df.shape[0])\n",
        "  accuracy = []\n",
        "  total_RMSE=0\n",
        "  for train, test in kf.split(df):\n",
        "      # print(train)\n",
        "      # Filter training data\n",
        "      train_predictors = (df[predictors].iloc[train, :])\n",
        "      # The target we're using to train the algorithm.\n",
        "      train_target = df[outcome].iloc[train]\n",
        "      test_predictors = (df[predictors].iloc[test, :])\n",
        "      # print(train_predictors)\n",
        "\n",
        "      # The target we're using to train the algorithm.\n",
        "      test_target = df[outcome].iloc[test]\n",
        "\n",
        "      # Training the algorithm using the predictors and target.\n",
        "      model.fit(train_predictors, train_target)\n",
        "      predictions = model.predict(test_predictors)\n",
        "      # print(predictions)\n",
        "      rmse = sqrt(mean_squared_error(test_target, predictions))  \n",
        "      # print(rmse)\n",
        "      total_RMSE += rmse\n",
        "\n",
        "  return total_RMSE/df.shape[0]"
      ],
      "execution_count": null,
      "outputs": []
    },
    {
      "cell_type": "code",
      "metadata": {
        "colab": {
          "base_uri": "https://localhost:8080/"
        },
        "id": "1Niuypxl9cMx",
        "outputId": "564bf321-b54b-4a53-c4b8-cddf1941bfa5"
      },
      "source": [
        "from google.colab import drive \n",
        "drive.mount('/content/gdrive')"
      ],
      "execution_count": null,
      "outputs": [
        {
          "output_type": "stream",
          "text": [
            "Mounted at /content/gdrive\n"
          ],
          "name": "stdout"
        }
      ]
    },
    {
      "cell_type": "markdown",
      "metadata": {
        "id": "8JXpVVY8mMCU"
      },
      "source": [
        "## **Livnat's dataset**"
      ]
    },
    {
      "cell_type": "code",
      "metadata": {
        "id": "xBYtOHfE9RCO"
      },
      "source": [
        "df_Livnat_all_patients = pd.read_pickle(\"/content/gdrive/My Drive/Colab Notebooks/MS_Notebooks/df_Livnat_all_patients.pkl\")"
      ],
      "execution_count": null,
      "outputs": []
    },
    {
      "cell_type": "code",
      "metadata": {
        "id": "4ymQN1FI9RAd",
        "colab": {
          "base_uri": "https://localhost:8080/"
        },
        "outputId": "9bd28781-420a-45d4-b3f4-7c84b4ae830e"
      },
      "source": [
        "df_untreated_temporary = df_Livnat_all_patients.dropna()\n",
        "df_untreated_temporary.isnull().sum()"
      ],
      "execution_count": null,
      "outputs": [
        {
          "output_type": "execute_result",
          "data": {
            "text/plain": [
              "sample_code                      0\n",
              "TIM3_RQ                          0\n",
              "TIGIT_RQ                         0\n",
              "LAG3_RQ                          0\n",
              "age_at_diagnosis                 0\n",
              "primary_EDSS_at_diagnosis        0\n",
              "1_years_EDSS_from_sample_date    0\n",
              "5_years_from_sample              0\n",
              "EDSS_post_10_years               0\n",
              "MRI_lesion_mass                  0\n",
              "Lymph_Cells                      0\n",
              "PMN_Cells                        0\n",
              "Cells                            0\n",
              "gender_M                         0\n",
              "oligoclonal_band_POS             0\n",
              "diagnosis_SPMS                   0\n",
              "dtype: int64"
            ]
          },
          "metadata": {
            "tags": []
          },
          "execution_count": 5
        }
      ]
    },
    {
      "cell_type": "markdown",
      "metadata": {
        "id": "HOvU1bu-yc-2"
      },
      "source": [
        "all features"
      ]
    },
    {
      "cell_type": "code",
      "metadata": {
        "id": "msaajsN5PyNf"
      },
      "source": [
        "df_untreated_temporary"
      ],
      "execution_count": null,
      "outputs": []
    },
    {
      "cell_type": "code",
      "metadata": {
        "id": "PmbqKALmyc_E",
        "colab": {
          "base_uri": "https://localhost:8080/"
        },
        "outputId": "123293e6-73a2-4c83-97b8-e7a9e2570b12"
      },
      "source": [
        "from sklearn.ensemble import RandomForestRegressor\n",
        "\n",
        "rf = RandomForestRegressor(n_estimators=25, min_samples_split=6, max_depth=10, max_features='auto', random_state=42)\n",
        "predictor_var1 = ['TIM3_RQ', 'TIGIT_RQ', 'LAG3_RQ','age_at_diagnosis', 'primary_EDSS_at_diagnosis', 'MRI_lesion_mass','Lymph_Cells','PMN_Cells','Cells','gender_M','oligoclonal_band_POS']\n",
        "outcome_var = '5_years_from_sample'\n",
        "RMSE = calcCrossValidation_RMSE(rf, df_untreated_temporary, predictor_var1, outcome_var)\n",
        "print(RMSE)"
      ],
      "execution_count": null,
      "outputs": [
        {
          "output_type": "stream",
          "text": [
            "1.2975918221382812\n"
          ],
          "name": "stdout"
        }
      ]
    },
    {
      "cell_type": "markdown",
      "metadata": {
        "id": "w4ETtOGlyc_G"
      },
      "source": [
        "no genes"
      ]
    },
    {
      "cell_type": "code",
      "metadata": {
        "id": "8cODnuCSyc_H",
        "colab": {
          "base_uri": "https://localhost:8080/"
        },
        "outputId": "5b8dfe60-f63a-4fa8-b557-61d2de1f8f8c"
      },
      "source": [
        "from sklearn.metrics import confusion_matrix\n",
        "\n",
        "rf = RandomForestRegressor(n_estimators=25, min_samples_split=6, max_depth=10, max_features='auto', random_state=42)\n",
        "predictor_var1 = ['age_at_diagnosis', 'primary_EDSS_at_diagnosis', 'MRI_lesion_mass','Lymph_Cells','PMN_Cells','Cells','gender_M','oligoclonal_band_POS']\n",
        "outcome_var = '5_years_from_sample'\n",
        "RMSE = calcCrossValidation_RMSE(rf, df_untreated_temporary, predictor_var1, outcome_var)\n",
        "print(RMSE)"
      ],
      "execution_count": null,
      "outputs": [
        {
          "output_type": "stream",
          "text": [
            "1.2938003118187744\n"
          ],
          "name": "stdout"
        }
      ]
    },
    {
      "cell_type": "markdown",
      "metadata": {
        "id": "spx3CMmDyc_I"
      },
      "source": [
        "no TIM3"
      ]
    },
    {
      "cell_type": "code",
      "metadata": {
        "id": "7ybtxlnEyc_I",
        "colab": {
          "base_uri": "https://localhost:8080/"
        },
        "outputId": "05a2c9f3-18ef-4a52-953b-9e58144b6b2f"
      },
      "source": [
        "from sklearn.metrics import confusion_matrix\n",
        "\n",
        "rf = RandomForestRegressor(n_estimators=25, min_samples_split=6, max_depth=10, max_features='auto', random_state=42)\n",
        "predictor_var1 = ['TIGIT_RQ', 'LAG3_RQ','age_at_diagnosis', 'primary_EDSS_at_diagnosis', 'MRI_lesion_mass','Lymph_Cells','PMN_Cells','Cells','gender_M','oligoclonal_band_POS']\n",
        "outcome_var = '5_years_from_sample'\n",
        "RMSE = calcCrossValidation_RMSE(rf, df_untreated_temporary, predictor_var1, outcome_var)\n",
        "print(RMSE)"
      ],
      "execution_count": null,
      "outputs": [
        {
          "output_type": "stream",
          "text": [
            "1.4104852750711383\n"
          ],
          "name": "stdout"
        }
      ]
    },
    {
      "cell_type": "markdown",
      "metadata": {
        "id": "sqVpBejbyc_J"
      },
      "source": [
        "no TIGIT_RQ"
      ]
    },
    {
      "cell_type": "code",
      "metadata": {
        "id": "3qtBtXJ8yc_J",
        "colab": {
          "base_uri": "https://localhost:8080/"
        },
        "outputId": "c9a809ae-8af4-42d8-f230-86d81fa2468e"
      },
      "source": [
        "from sklearn.metrics import confusion_matrix\n",
        "\n",
        "rf = RandomForestRegressor(n_estimators=25, min_samples_split=6, max_depth=10, max_features='auto', random_state=42)\n",
        "predictor_var1 = ['TIM3_RQ', 'LAG3_RQ','age_at_diagnosis', 'primary_EDSS_at_diagnosis', 'MRI_lesion_mass','Lymph_Cells','PMN_Cells','Cells','gender_M','oligoclonal_band_POS']\n",
        "outcome_var = '5_years_from_sample'\n",
        "RMSE = calcCrossValidation_RMSE(rf, df_untreated_temporary, predictor_var1, outcome_var)\n",
        "print(RMSE)"
      ],
      "execution_count": null,
      "outputs": [
        {
          "output_type": "stream",
          "text": [
            "1.239484725569322\n"
          ],
          "name": "stdout"
        }
      ]
    },
    {
      "cell_type": "markdown",
      "metadata": {
        "id": "Y6ezC55Uyc_K"
      },
      "source": [
        "no LAG3"
      ]
    },
    {
      "cell_type": "code",
      "metadata": {
        "id": "tmsOiMXZyc_L",
        "colab": {
          "base_uri": "https://localhost:8080/"
        },
        "outputId": "64176fba-75a4-4718-ff07-5cf1b74c422f"
      },
      "source": [
        "from sklearn.metrics import confusion_matrix\n",
        "\n",
        "rf = RandomForestRegressor(n_estimators=25, min_samples_split=6, max_depth=10, max_features='auto', random_state=42)\n",
        "predictor_var1 = ['TIM3_RQ', 'TIGIT_RQ','age_at_diagnosis', 'primary_EDSS_at_diagnosis', 'MRI_lesion_mass','Lymph_Cells','PMN_Cells','Cells','gender_M','oligoclonal_band_POS']\n",
        "outcome_var = '5_years_from_sample'\n",
        "RMSE = calcCrossValidation_RMSE(rf, df_untreated_temporary, predictor_var1, outcome_var)\n",
        "print(RMSE)"
      ],
      "execution_count": null,
      "outputs": [
        {
          "output_type": "stream",
          "text": [
            "1.262917324339085\n"
          ],
          "name": "stdout"
        }
      ]
    },
    {
      "cell_type": "markdown",
      "metadata": {
        "id": "9_v9zxhhyc_L"
      },
      "source": [
        "no TIM3 and LAG3"
      ]
    },
    {
      "cell_type": "code",
      "metadata": {
        "id": "qLsK-qqkyc_M",
        "colab": {
          "base_uri": "https://localhost:8080/"
        },
        "outputId": "d2dac9e2-3d01-4ae8-a462-e8de804647fb"
      },
      "source": [
        "from sklearn.metrics import confusion_matrix\n",
        "\n",
        "rf = RandomForestRegressor(n_estimators=25, min_samples_split=6, max_depth=10, max_features='auto', random_state=42)\n",
        "predictor_var1 = ['TIGIT_RQ','age_at_diagnosis', 'primary_EDSS_at_diagnosis', 'MRI_lesion_mass','Lymph_Cells','PMN_Cells','Cells','gender_M','oligoclonal_band_POS']\n",
        "outcome_var = '5_years_from_sample'\n",
        "RMSE = calcCrossValidation_RMSE(rf, df_untreated_temporary, predictor_var1, outcome_var)\n",
        "print(RMSE)"
      ],
      "execution_count": null,
      "outputs": [
        {
          "output_type": "stream",
          "text": [
            "1.3756984467001143\n"
          ],
          "name": "stdout"
        }
      ]
    },
    {
      "cell_type": "markdown",
      "metadata": {
        "id": "q1mGOmX9yc_M"
      },
      "source": [
        "no TIM3 and TIGIT"
      ]
    },
    {
      "cell_type": "code",
      "metadata": {
        "id": "hmZxzbaGyc_N",
        "colab": {
          "base_uri": "https://localhost:8080/"
        },
        "outputId": "39edb408-8c90-4ca9-d0cb-8a36c5dd9649"
      },
      "source": [
        "from sklearn.metrics import confusion_matrix\n",
        "\n",
        "rf = RandomForestRegressor(n_estimators=25, min_samples_split=6, max_depth=10, max_features='auto', random_state=42)\n",
        "predictor_var1 = ['LAG3_RQ','age_at_diagnosis', 'primary_EDSS_at_diagnosis', 'MRI_lesion_mass','Lymph_Cells','PMN_Cells','Cells','gender_M','oligoclonal_band_POS']\n",
        "outcome_var = '5_years_from_sample'\n",
        "RMSE = calcCrossValidation_RMSE(rf, df_untreated_temporary, predictor_var1, outcome_var)\n",
        "print(RMSE)"
      ],
      "execution_count": null,
      "outputs": [
        {
          "output_type": "stream",
          "text": [
            "1.3355197476471077\n"
          ],
          "name": "stdout"
        }
      ]
    },
    {
      "cell_type": "markdown",
      "metadata": {
        "id": "FR9OYfNpyc_N"
      },
      "source": [
        "no LAG3 and TIGIT"
      ]
    },
    {
      "cell_type": "code",
      "metadata": {
        "id": "oq53gp2Ryc_O",
        "colab": {
          "base_uri": "https://localhost:8080/"
        },
        "outputId": "ec9b2435-7bf7-4837-83bb-9c6f7e3cd2cd"
      },
      "source": [
        "from sklearn.metrics import confusion_matrix\n",
        "\n",
        "rf = RandomForestRegressor(n_estimators=25, min_samples_split=6, max_depth=10, max_features='auto', random_state=42)\n",
        "predictor_var1 = ['TIM3_RQ','age_at_diagnosis', 'primary_EDSS_at_diagnosis', 'MRI_lesion_mass','Lymph_Cells','PMN_Cells','Cells','gender_M','oligoclonal_band_POS']\n",
        "outcome_var = '5_years_from_sample'\n",
        "RMSE = calcCrossValidation_RMSE(rf, df_untreated_temporary, predictor_var1, outcome_var)\n",
        "print(RMSE)"
      ],
      "execution_count": null,
      "outputs": [
        {
          "output_type": "stream",
          "text": [
            "1.2410551728549648\n"
          ],
          "name": "stdout"
        }
      ]
    },
    {
      "cell_type": "markdown",
      "metadata": {
        "id": "LACsrpq-yc_O"
      },
      "source": [
        "no MRI"
      ]
    },
    {
      "cell_type": "code",
      "metadata": {
        "id": "Eez-mb2nyc_P",
        "colab": {
          "base_uri": "https://localhost:8080/"
        },
        "outputId": "90633029-3745-47e1-f96f-9189be5d4d9c"
      },
      "source": [
        "from sklearn.metrics import confusion_matrix\n",
        "\n",
        "rf = RandomForestRegressor(n_estimators=25, min_samples_split=6, max_depth=10, max_features='auto', random_state=42)\n",
        "predictor_var1 = ['TIM3_RQ', 'TIGIT_RQ', 'LAG3_RQ','age_at_diagnosis', 'primary_EDSS_at_diagnosis','Lymph_Cells','PMN_Cells','Cells','gender_M','oligoclonal_band_POS']\n",
        "outcome_var = '5_years_from_sample'\n",
        "RMSE = calcCrossValidation_RMSE(rf, df_untreated_temporary, predictor_var1, outcome_var)\n",
        "print(RMSE)"
      ],
      "execution_count": null,
      "outputs": [
        {
          "output_type": "stream",
          "text": [
            "1.2821884545665663\n"
          ],
          "name": "stdout"
        }
      ]
    },
    {
      "cell_type": "markdown",
      "metadata": {
        "id": "awr-FzO-yc_P"
      },
      "source": [
        "no OCB"
      ]
    },
    {
      "cell_type": "code",
      "metadata": {
        "id": "WRS0qg4oyc_P",
        "colab": {
          "base_uri": "https://localhost:8080/"
        },
        "outputId": "56a0c4d1-03c3-47b4-d220-10895ee3131f"
      },
      "source": [
        "from sklearn.metrics import confusion_matrix\n",
        "\n",
        "rf = RandomForestRegressor(n_estimators=25, min_samples_split=6, max_depth=10, max_features='auto', random_state=42)\n",
        "predictor_var1 = ['TIM3_RQ', 'TIGIT_RQ', 'LAG3_RQ','age_at_diagnosis', 'primary_EDSS_at_diagnosis', 'MRI_lesion_mass','Lymph_Cells','PMN_Cells','Cells','gender_M']\n",
        "outcome_var = '5_years_from_sample'\n",
        "RMSE = calcCrossValidation_RMSE(rf, df_untreated_temporary, predictor_var1, outcome_var)\n",
        "print(RMSE)"
      ],
      "execution_count": null,
      "outputs": [
        {
          "output_type": "stream",
          "text": [
            "1.2983546775033736\n"
          ],
          "name": "stdout"
        }
      ]
    },
    {
      "cell_type": "markdown",
      "metadata": {
        "id": "JKTsAAgOyc_Q"
      },
      "source": [
        "no total cells"
      ]
    },
    {
      "cell_type": "code",
      "metadata": {
        "id": "4Sir1Dlpyc_Q",
        "colab": {
          "base_uri": "https://localhost:8080/"
        },
        "outputId": "9bbe2b27-9b8f-415f-8de8-1d94ab0a4112"
      },
      "source": [
        "from sklearn.metrics import confusion_matrix\n",
        "\n",
        "rf = RandomForestRegressor(n_estimators=25, min_samples_split=6, max_depth=10, max_features='auto', random_state=42)\n",
        "predictor_var1 = ['TIM3_RQ', 'TIGIT_RQ', 'LAG3_RQ','age_at_diagnosis', 'primary_EDSS_at_diagnosis', 'MRI_lesion_mass','Lymph_Cells','PMN_Cells','gender_M', 'oligoclonal_band_POS']\n",
        "outcome_var = '5_years_from_sample'\n",
        "RMSE = calcCrossValidation_RMSE(rf, df_untreated_temporary, predictor_var1, outcome_var)\n",
        "print(RMSE)"
      ],
      "execution_count": null,
      "outputs": [
        {
          "output_type": "stream",
          "text": [
            "1.2955688870820947\n"
          ],
          "name": "stdout"
        }
      ]
    },
    {
      "cell_type": "markdown",
      "metadata": {
        "id": "v8HzuEJhyc_R"
      },
      "source": [
        "no lymph cells"
      ]
    },
    {
      "cell_type": "code",
      "metadata": {
        "id": "B1MzhfDqyc_R",
        "colab": {
          "base_uri": "https://localhost:8080/"
        },
        "outputId": "cf519bd1-8261-4f82-ba8b-8941b60826b1"
      },
      "source": [
        "from sklearn.metrics import confusion_matrix\n",
        "\n",
        "rf = RandomForestRegressor(n_estimators=25, min_samples_split=6, max_depth=10, max_features='auto', random_state=42)\n",
        "predictor_var1 = ['TIM3_RQ', 'TIGIT_RQ', 'LAG3_RQ','age_at_diagnosis', 'primary_EDSS_at_diagnosis', 'MRI_lesion_mass','Cells','PMN_Cells','gender_M', 'oligoclonal_band_POS']\n",
        "outcome_var = '5_years_from_sample'\n",
        "RMSE = calcCrossValidation_RMSE(rf, df_untreated_temporary, predictor_var1, outcome_var)\n",
        "print(RMSE)"
      ],
      "execution_count": null,
      "outputs": [
        {
          "output_type": "stream",
          "text": [
            "1.287317281373691\n"
          ],
          "name": "stdout"
        }
      ]
    },
    {
      "cell_type": "markdown",
      "metadata": {
        "id": "xcwHWRN0yc_R"
      },
      "source": [
        "no PMM cells"
      ]
    },
    {
      "cell_type": "code",
      "metadata": {
        "id": "5RIltPXfyc_S",
        "colab": {
          "base_uri": "https://localhost:8080/"
        },
        "outputId": "33a6cfa2-4d9e-45ad-c7a7-afb32035df7a"
      },
      "source": [
        "from sklearn.metrics import confusion_matrix\n",
        "\n",
        "rf = RandomForestRegressor(n_estimators=25, min_samples_split=6, max_depth=10, max_features='auto', random_state=42)\n",
        "predictor_var1 = ['TIM3_RQ', 'TIGIT_RQ', 'LAG3_RQ','age_at_diagnosis', 'primary_EDSS_at_diagnosis', 'MRI_lesion_mass','Cells','Lymph_Cells','gender_M', 'oligoclonal_band_POS']\n",
        "outcome_var = '5_years_from_sample'\n",
        "RMSE = calcCrossValidation_RMSE(rf, df_untreated_temporary, predictor_var1, outcome_var)\n",
        "print(RMSE)"
      ],
      "execution_count": null,
      "outputs": [
        {
          "output_type": "stream",
          "text": [
            "1.279588988504787\n"
          ],
          "name": "stdout"
        }
      ]
    },
    {
      "cell_type": "markdown",
      "metadata": {
        "id": "Pvz1QPepyc_S"
      },
      "source": [
        "no MRI, cells"
      ]
    },
    {
      "cell_type": "code",
      "metadata": {
        "id": "2SRh4XMUyc_T",
        "colab": {
          "base_uri": "https://localhost:8080/"
        },
        "outputId": "dc9d1a81-9dfa-4a60-e4a0-9a29399c71f6"
      },
      "source": [
        "from sklearn.metrics import confusion_matrix\n",
        "\n",
        "rf = RandomForestRegressor(n_estimators=25, min_samples_split=6, max_depth=10, max_features='auto', random_state=42)\n",
        "predictor_var1 = ['TIM3_RQ', 'TIGIT_RQ', 'LAG3_RQ','age_at_diagnosis', 'primary_EDSS_at_diagnosis', 'PMN_Cells', 'Lymph_Cells', 'gender_M', 'oligoclonal_band_POS']\n",
        "outcome_var = '5_years_from_sample'\n",
        "RMSE = calcCrossValidation_RMSE(rf, df_untreated_temporary, predictor_var1, outcome_var)\n",
        "print(RMSE)"
      ],
      "execution_count": null,
      "outputs": [
        {
          "output_type": "stream",
          "text": [
            "1.2854254689633406\n"
          ],
          "name": "stdout"
        }
      ]
    },
    {
      "cell_type": "markdown",
      "metadata": {
        "id": "bfwAhnCeyc_T"
      },
      "source": [
        "no MRI, PMM cells"
      ]
    },
    {
      "cell_type": "code",
      "metadata": {
        "id": "prU69Vf4yc_T",
        "colab": {
          "base_uri": "https://localhost:8080/"
        },
        "outputId": "d0788fc4-3839-4f82-c162-e3c76c5489b6"
      },
      "source": [
        "from sklearn.metrics import confusion_matrix\n",
        "\n",
        "rf = RandomForestRegressor(n_estimators=25, min_samples_split=6, max_depth=10, max_features='auto', random_state=42)\n",
        "predictor_var1 = ['TIM3_RQ', 'TIGIT_RQ', 'LAG3_RQ','age_at_diagnosis', 'primary_EDSS_at_diagnosis', 'Cells', 'Lymph_Cells', 'gender_M', 'oligoclonal_band_POS']\n",
        "outcome_var = '5_years_from_sample'\n",
        "RMSE = calcCrossValidation_RMSE(rf, df_untreated_temporary, predictor_var1, outcome_var)\n",
        "print(RMSE)"
      ],
      "execution_count": null,
      "outputs": [
        {
          "output_type": "stream",
          "text": [
            "1.2807855596614333\n"
          ],
          "name": "stdout"
        }
      ]
    },
    {
      "cell_type": "markdown",
      "metadata": {
        "id": "ucKhdcXLyc_T"
      },
      "source": [
        "no TIGIT, cells"
      ]
    },
    {
      "cell_type": "code",
      "metadata": {
        "id": "Evje8nCayc_U",
        "colab": {
          "base_uri": "https://localhost:8080/"
        },
        "outputId": "064db3d3-40cd-48ac-b799-4ca223502f21"
      },
      "source": [
        "from sklearn.metrics import confusion_matrix\n",
        "\n",
        "rf = RandomForestRegressor(n_estimators=25, min_samples_split=6, max_depth=10, max_features='auto', random_state=42)\n",
        "predictor_var1 = ['TIM3_RQ', 'MRI_lesion_mass', 'LAG3_RQ','age_at_diagnosis', 'primary_EDSS_at_diagnosis', 'PMN_Cells', 'Lymph_Cells', 'gender_M', 'oligoclonal_band_POS']\n",
        "outcome_var = '5_years_from_sample'\n",
        "RMSE = calcCrossValidation_RMSE(rf, df_untreated_temporary, predictor_var1, outcome_var)\n",
        "print(RMSE)"
      ],
      "execution_count": null,
      "outputs": [
        {
          "output_type": "stream",
          "text": [
            "1.2437368071090824\n"
          ],
          "name": "stdout"
        }
      ]
    },
    {
      "cell_type": "markdown",
      "metadata": {
        "id": "96V92wNIyc_U"
      },
      "source": [
        "NO TIGIT, PMM cells"
      ]
    },
    {
      "cell_type": "code",
      "metadata": {
        "id": "pB8LgCTKyc_U",
        "colab": {
          "base_uri": "https://localhost:8080/"
        },
        "outputId": "cc494eaa-3c46-4c8d-9ab6-2ccee728bb68"
      },
      "source": [
        "from sklearn.metrics import confusion_matrix\n",
        "\n",
        "rf = RandomForestRegressor(n_estimators=25, min_samples_split=6, max_depth=10, max_features='auto', random_state=42)\n",
        "predictor_var1 = ['TIM3_RQ', 'MRI_lesion_mass', 'LAG3_RQ','age_at_diagnosis', 'primary_EDSS_at_diagnosis', 'Cells', 'Lymph_Cells', 'gender_M', 'oligoclonal_band_POS']\n",
        "outcome_var = '5_years_from_sample'\n",
        "RMSE = calcCrossValidation_RMSE(rf, df_untreated_temporary, predictor_var1, outcome_var)\n",
        "print(RMSE)"
      ],
      "execution_count": null,
      "outputs": [
        {
          "output_type": "stream",
          "text": [
            "1.2482003335646046\n"
          ],
          "name": "stdout"
        }
      ]
    },
    {
      "cell_type": "markdown",
      "metadata": {
        "id": "4TwaV3Voyc_V"
      },
      "source": [
        "no MRI, LAG3"
      ]
    },
    {
      "cell_type": "code",
      "metadata": {
        "id": "HHdRuxAzyc_V",
        "colab": {
          "base_uri": "https://localhost:8080/"
        },
        "outputId": "0e033af1-cf89-41a7-9758-d28af2ca78c4"
      },
      "source": [
        "from sklearn.metrics import confusion_matrix\n",
        "\n",
        "rf = RandomForestRegressor(n_estimators=25, min_samples_split=6, max_depth=10, max_features='auto', random_state=42)\n",
        "predictor_var1 = ['TIM3_RQ', 'TIGIT_RQ', 'age_at_diagnosis', 'primary_EDSS_at_diagnosis', 'Lymph_Cells','PMN_Cells','Cells','gender_M','oligoclonal_band_POS']\n",
        "outcome_var = '5_years_from_sample'\n",
        "RMSE = calcCrossValidation_RMSE(rf, df_untreated_temporary, predictor_var1, outcome_var)\n",
        "print(RMSE)"
      ],
      "execution_count": null,
      "outputs": [
        {
          "output_type": "stream",
          "text": [
            "1.2777007900507107\n"
          ],
          "name": "stdout"
        }
      ]
    },
    {
      "cell_type": "markdown",
      "metadata": {
        "id": "feQ1laStyc_V"
      },
      "source": [
        "no MRI, TIM3, LAG3"
      ]
    },
    {
      "cell_type": "code",
      "metadata": {
        "id": "mq-Qcdxpyc_X",
        "colab": {
          "base_uri": "https://localhost:8080/"
        },
        "outputId": "b218519b-5174-4aa2-a1dd-3dc63130594d"
      },
      "source": [
        "from sklearn.metrics import confusion_matrix\n",
        "\n",
        "rf = RandomForestRegressor(n_estimators=25, min_samples_split=6, max_depth=10, max_features='auto', random_state=42)\n",
        "predictor_var1 = ['TIGIT_RQ', 'age_at_diagnosis', 'primary_EDSS_at_diagnosis', 'Lymph_Cells','PMN_Cells','Cells','gender_M','oligoclonal_band_POS']\n",
        "outcome_var = '5_years_from_sample'\n",
        "RMSE = calcCrossValidation_RMSE(rf, df_untreated_temporary, predictor_var1, outcome_var)\n",
        "print(RMSE)"
      ],
      "execution_count": null,
      "outputs": [
        {
          "output_type": "stream",
          "text": [
            "1.327139022977153\n"
          ],
          "name": "stdout"
        }
      ]
    },
    {
      "cell_type": "markdown",
      "metadata": {
        "id": "IAenW1_eyc_X"
      },
      "source": [
        "no MRI, TIM3, TIGIT"
      ]
    },
    {
      "cell_type": "code",
      "metadata": {
        "id": "zQGzecqXyc_X",
        "colab": {
          "base_uri": "https://localhost:8080/"
        },
        "outputId": "03b6b2b2-4af3-48c1-b46d-12d60bdbb447"
      },
      "source": [
        "from sklearn.metrics import confusion_matrix\n",
        "\n",
        "rf = RandomForestRegressor(n_estimators=25, min_samples_split=6, max_depth=10, max_features='auto', random_state=42)\n",
        "predictor_var1 = ['LAG3_RQ','age_at_diagnosis', 'primary_EDSS_at_diagnosis', 'Lymph_Cells','PMN_Cells','Cells','gender_M','oligoclonal_band_POS']\n",
        "outcome_var = '5_years_from_sample'\n",
        "RMSE = calcCrossValidation_RMSE(rf, df_untreated_temporary, predictor_var1, outcome_var)\n",
        "print(RMSE)"
      ],
      "execution_count": null,
      "outputs": [
        {
          "output_type": "stream",
          "text": [
            "1.333730303147901\n"
          ],
          "name": "stdout"
        }
      ]
    },
    {
      "cell_type": "markdown",
      "metadata": {
        "id": "Sr-R6gMzyc_Y"
      },
      "source": [
        "no MRI, TIGIT, LAG3"
      ]
    },
    {
      "cell_type": "code",
      "metadata": {
        "id": "ZlBHu0Cayc_Y",
        "colab": {
          "base_uri": "https://localhost:8080/"
        },
        "outputId": "8e891704-aecf-47ea-a8ec-ee70cccf59e4"
      },
      "source": [
        "from sklearn.metrics import confusion_matrix\n",
        "\n",
        "rf = RandomForestRegressor(n_estimators=25, min_samples_split=6, max_depth=10, max_features='auto', random_state=42)\n",
        "predictor_var1 = ['TIM3_RQ', 'age_at_diagnosis', 'primary_EDSS_at_diagnosis', 'Lymph_Cells','PMN_Cells','Cells','gender_M','oligoclonal_band_POS']\n",
        "outcome_var = '5_years_from_sample'\n",
        "RMSE = calcCrossValidation_RMSE(rf, df_untreated_temporary, predictor_var1, outcome_var)\n",
        "print(RMSE)"
      ],
      "execution_count": null,
      "outputs": [
        {
          "output_type": "stream",
          "text": [
            "1.218720093013363\n"
          ],
          "name": "stdout"
        }
      ]
    },
    {
      "cell_type": "markdown",
      "metadata": {
        "id": "DDjH4fyAmojm"
      },
      "source": [
        "## **Coral's dataset**"
      ]
    },
    {
      "cell_type": "code",
      "metadata": {
        "id": "n7BRtmlLmokG"
      },
      "source": [
        "df_coral_untreated_patients = pd.read_pickle(\"/content/gdrive/My Drive/Colab Notebooks/MS_Notebooks/df_coral_untreated_patients.pkl\")"
      ],
      "execution_count": null,
      "outputs": []
    },
    {
      "cell_type": "code",
      "metadata": {
        "id": "juOe8BK4mokI",
        "colab": {
          "base_uri": "https://localhost:8080/"
        },
        "outputId": "c3df3558-e366-4960-a19a-bc1b6e82f667"
      },
      "source": [
        "df_untreated_temporary = df_coral_untreated_patients.dropna()\n",
        "df_untreated_temporary.isnull().sum()"
      ],
      "execution_count": null,
      "outputs": [
        {
          "output_type": "execute_result",
          "data": {
            "text/plain": [
              "sample_code                      0\n",
              "gender                           0\n",
              "age_at_diagnosis                 0\n",
              "diagnosis                        0\n",
              "diagnosis_status                 0\n",
              "primary_EDSS_at_diagnosis        0\n",
              "num_of_medicine_changed          0\n",
              "MRI_lesion_mass                  0\n",
              "oligoclonal_band                 0\n",
              "TIGIT_RQ                         0\n",
              "TIM3_RQ                          0\n",
              "LAG3_RQ                          0\n",
              "PD-1_RQ                          0\n",
              "RQ_CTLA4                         0\n",
              "1_years_EDSS_from_sample_date    0\n",
              "3_years_from_sample              0\n",
              "5_years_from_sample              0\n",
              "EDSS_post_10_years               0\n",
              "NEG                              0\n",
              "positive_OCB                     0\n",
              "F                                0\n",
              "Male                             0\n",
              "BENIGN                           0\n",
              "MALIGNANT                        0\n",
              "STANDARD                         0\n",
              "diagnosis_RRMS                   0\n",
              "SPMS                             0\n",
              "dtype: int64"
            ]
          },
          "metadata": {
            "tags": []
          },
          "execution_count": 29
        }
      ]
    },
    {
      "cell_type": "markdown",
      "metadata": {
        "id": "fF8cJheumokL"
      },
      "source": [
        "all features"
      ]
    },
    {
      "cell_type": "code",
      "metadata": {
        "id": "iV8phg6yrHzz"
      },
      "source": [
        "categorical_features = ['gender','oligoclonal_band','diagnosis']\n",
        "df_untreated_temporary = pd.get_dummies(df_untreated_temporary, columns=categorical_features, drop_first=True)\n",
        "df_untreated_temporary.drop(['sample_code'], axis='columns', inplace=True)"
      ],
      "execution_count": null,
      "outputs": []
    },
    {
      "cell_type": "code",
      "metadata": {
        "id": "sCPKc9YxmokM"
      },
      "source": [
        "df_untreated_temporary"
      ],
      "execution_count": null,
      "outputs": []
    },
    {
      "cell_type": "code",
      "metadata": {
        "id": "aaVBRgFNmokN",
        "colab": {
          "base_uri": "https://localhost:8080/"
        },
        "outputId": "92ebf3b5-a121-4c0c-e3a5-31a9a7dfdbf8"
      },
      "source": [
        "from sklearn.ensemble import RandomForestRegressor\n",
        "\n",
        "rf = RandomForestRegressor(n_estimators=25, min_samples_split=6, max_depth=10, max_features='auto', random_state=42)\n",
        "predictor_var1 = ['TIM3_RQ', 'TIGIT_RQ', 'LAG3_RQ','age_at_diagnosis', 'primary_EDSS_at_diagnosis', 'MRI_lesion_mass','gender_M','oligoclonal_band_POS']\n",
        "outcome_var = '5_years_from_sample'\n",
        "RMSE = calcCrossValidation_RMSE(rf, df_untreated_temporary, predictor_var1, outcome_var)\n",
        "print(RMSE)"
      ],
      "execution_count": null,
      "outputs": [
        {
          "output_type": "stream",
          "text": [
            "1.5137681791892317\n"
          ],
          "name": "stdout"
        }
      ]
    },
    {
      "cell_type": "markdown",
      "metadata": {
        "id": "Dv9uFoFUmokO"
      },
      "source": [
        "no genes"
      ]
    },
    {
      "cell_type": "code",
      "metadata": {
        "id": "aUka8w5ymokO",
        "colab": {
          "base_uri": "https://localhost:8080/"
        },
        "outputId": "19c78c81-d730-4a8b-e153-c2ff8380edea"
      },
      "source": [
        "from sklearn.metrics import confusion_matrix\n",
        "\n",
        "rf = RandomForestRegressor(n_estimators=25, min_samples_split=6, max_depth=10, max_features='auto', random_state=42)\n",
        "predictor_var1 = ['age_at_diagnosis', 'primary_EDSS_at_diagnosis', 'MRI_lesion_mass','gender_M','oligoclonal_band_POS']\n",
        "outcome_var = '5_years_from_sample'\n",
        "RMSE = calcCrossValidation_RMSE(rf, df_untreated_temporary, predictor_var1, outcome_var)\n",
        "print(RMSE)"
      ],
      "execution_count": null,
      "outputs": [
        {
          "output_type": "stream",
          "text": [
            "1.5650652135388974\n"
          ],
          "name": "stdout"
        }
      ]
    },
    {
      "cell_type": "markdown",
      "metadata": {
        "id": "hVTiLaekmokP"
      },
      "source": [
        "no TIM3"
      ]
    },
    {
      "cell_type": "code",
      "metadata": {
        "id": "G_2x7SxAmokP",
        "colab": {
          "base_uri": "https://localhost:8080/"
        },
        "outputId": "13edc258-fec2-4d95-da88-570167bf785b"
      },
      "source": [
        "from sklearn.metrics import confusion_matrix\n",
        "\n",
        "rf = RandomForestRegressor(n_estimators=25, min_samples_split=6, max_depth=10, max_features='auto', random_state=42)\n",
        "predictor_var1 = ['TIGIT_RQ', 'LAG3_RQ','age_at_diagnosis', 'primary_EDSS_at_diagnosis', 'MRI_lesion_mass','gender_M','oligoclonal_band_POS']\n",
        "outcome_var = '5_years_from_sample'\n",
        "RMSE = calcCrossValidation_RMSE(rf, df_untreated_temporary, predictor_var1, outcome_var)\n",
        "print(RMSE)"
      ],
      "execution_count": null,
      "outputs": [
        {
          "output_type": "stream",
          "text": [
            "1.677172042382569\n"
          ],
          "name": "stdout"
        }
      ]
    },
    {
      "cell_type": "markdown",
      "metadata": {
        "id": "VinPHYApmokQ"
      },
      "source": [
        "no TIGIT_RQ"
      ]
    },
    {
      "cell_type": "code",
      "metadata": {
        "id": "h_C80RcRmokQ",
        "colab": {
          "base_uri": "https://localhost:8080/"
        },
        "outputId": "0cba0044-b87e-4a24-dbae-7f376da1d75d"
      },
      "source": [
        "from sklearn.metrics import confusion_matrix\n",
        "\n",
        "rf = RandomForestRegressor(n_estimators=25, min_samples_split=6, max_depth=10, max_features='auto', random_state=42)\n",
        "predictor_var1 = ['TIM3_RQ', 'LAG3_RQ','age_at_diagnosis', 'primary_EDSS_at_diagnosis', 'MRI_lesion_mass','gender_M','oligoclonal_band_POS']\n",
        "outcome_var = '5_years_from_sample'\n",
        "RMSE = calcCrossValidation_RMSE(rf, df_untreated_temporary, predictor_var1, outcome_var)\n",
        "print(RMSE)"
      ],
      "execution_count": null,
      "outputs": [
        {
          "output_type": "stream",
          "text": [
            "1.4926518637308113\n"
          ],
          "name": "stdout"
        }
      ]
    },
    {
      "cell_type": "markdown",
      "metadata": {
        "id": "aoBgr4OgmokR"
      },
      "source": [
        "no LAG3"
      ]
    },
    {
      "cell_type": "code",
      "metadata": {
        "id": "bP6RFgjJmokR",
        "colab": {
          "base_uri": "https://localhost:8080/"
        },
        "outputId": "0e19992b-f2bc-47eb-f49e-65f67eed84b4"
      },
      "source": [
        "from sklearn.metrics import confusion_matrix\n",
        "\n",
        "rf = RandomForestRegressor(n_estimators=25, min_samples_split=6, max_depth=10, max_features='auto', random_state=42)\n",
        "predictor_var1 = ['TIM3_RQ', 'TIGIT_RQ','age_at_diagnosis', 'primary_EDSS_at_diagnosis', 'MRI_lesion_mass','gender_M','oligoclonal_band_POS']\n",
        "outcome_var = '5_years_from_sample'\n",
        "RMSE = calcCrossValidation_RMSE(rf, df_untreated_temporary, predictor_var1, outcome_var)\n",
        "print(RMSE)"
      ],
      "execution_count": null,
      "outputs": [
        {
          "output_type": "stream",
          "text": [
            "1.4873092161250054\n"
          ],
          "name": "stdout"
        }
      ]
    },
    {
      "cell_type": "markdown",
      "metadata": {
        "id": "C7LTvJBPmokR"
      },
      "source": [
        "no TIM3 and LAG3"
      ]
    },
    {
      "cell_type": "code",
      "metadata": {
        "id": "rTM6BiLrmokS",
        "colab": {
          "base_uri": "https://localhost:8080/"
        },
        "outputId": "01d2a591-968b-4f2a-ffb7-481b2a8d00e1"
      },
      "source": [
        "from sklearn.metrics import confusion_matrix\n",
        "\n",
        "rf = RandomForestRegressor(n_estimators=25, min_samples_split=6, max_depth=10, max_features='auto', random_state=42)\n",
        "predictor_var1 = ['TIGIT_RQ','age_at_diagnosis', 'primary_EDSS_at_diagnosis', 'MRI_lesion_mass','gender_M','oligoclonal_band_POS']\n",
        "outcome_var = '5_years_from_sample'\n",
        "RMSE = calcCrossValidation_RMSE(rf, df_untreated_temporary, predictor_var1, outcome_var)\n",
        "print(RMSE)"
      ],
      "execution_count": null,
      "outputs": [
        {
          "output_type": "stream",
          "text": [
            "1.6443085296769504\n"
          ],
          "name": "stdout"
        }
      ]
    },
    {
      "cell_type": "markdown",
      "metadata": {
        "id": "yP87he0NmokS"
      },
      "source": [
        "no TIM3 and TIGIT"
      ]
    },
    {
      "cell_type": "code",
      "metadata": {
        "id": "YEVvD7gOmokT",
        "colab": {
          "base_uri": "https://localhost:8080/"
        },
        "outputId": "5a1c2045-a53a-42bf-d355-179829f8c6aa"
      },
      "source": [
        "from sklearn.metrics import confusion_matrix\n",
        "\n",
        "rf = RandomForestRegressor(n_estimators=25, min_samples_split=6, max_depth=10, max_features='auto', random_state=42)\n",
        "predictor_var1 = ['LAG3_RQ','age_at_diagnosis', 'primary_EDSS_at_diagnosis', 'MRI_lesion_mass','gender_M','oligoclonal_band_POS']\n",
        "outcome_var = '5_years_from_sample'\n",
        "RMSE = calcCrossValidation_RMSE(rf, df_untreated_temporary, predictor_var1, outcome_var)\n",
        "print(RMSE)"
      ],
      "execution_count": null,
      "outputs": [
        {
          "output_type": "stream",
          "text": [
            "1.6184152611521032\n"
          ],
          "name": "stdout"
        }
      ]
    },
    {
      "cell_type": "markdown",
      "metadata": {
        "id": "zwF8eb3amokT"
      },
      "source": [
        "no LAG3 and TIGIT"
      ]
    },
    {
      "cell_type": "code",
      "metadata": {
        "id": "u8UIUYlnmokT",
        "colab": {
          "base_uri": "https://localhost:8080/"
        },
        "outputId": "2eb2e393-5b93-4567-bfa0-c5b75f9e8b1c"
      },
      "source": [
        "from sklearn.metrics import confusion_matrix\n",
        "\n",
        "rf = RandomForestRegressor(n_estimators=25, min_samples_split=6, max_depth=10, max_features='auto', random_state=42)\n",
        "predictor_var1 = ['TIM3_RQ','age_at_diagnosis', 'primary_EDSS_at_diagnosis', 'MRI_lesion_mass','gender_M','oligoclonal_band_POS']\n",
        "outcome_var = '5_years_from_sample'\n",
        "RMSE = calcCrossValidation_RMSE(rf, df_untreated_temporary, predictor_var1, outcome_var)\n",
        "print(RMSE)"
      ],
      "execution_count": null,
      "outputs": [
        {
          "output_type": "stream",
          "text": [
            "1.4232253964359223\n"
          ],
          "name": "stdout"
        }
      ]
    },
    {
      "cell_type": "markdown",
      "metadata": {
        "id": "f4esGRttmokU"
      },
      "source": [
        "no MRI"
      ]
    },
    {
      "cell_type": "code",
      "metadata": {
        "id": "7iP-cyRhmokU",
        "colab": {
          "base_uri": "https://localhost:8080/"
        },
        "outputId": "169e8b32-c305-4d25-a51d-31f2dc8c5207"
      },
      "source": [
        "from sklearn.metrics import confusion_matrix\n",
        "\n",
        "rf = RandomForestRegressor(n_estimators=25, min_samples_split=6, max_depth=10, max_features='auto', random_state=42)\n",
        "predictor_var1 = ['TIM3_RQ', 'TIGIT_RQ', 'LAG3_RQ','age_at_diagnosis', 'primary_EDSS_at_diagnosis','gender_M','oligoclonal_band_POS']\n",
        "outcome_var = '5_years_from_sample'\n",
        "RMSE = calcCrossValidation_RMSE(rf, df_untreated_temporary, predictor_var1, outcome_var)\n",
        "print(RMSE)"
      ],
      "execution_count": null,
      "outputs": [
        {
          "output_type": "stream",
          "text": [
            "1.4849857725120879\n"
          ],
          "name": "stdout"
        }
      ]
    },
    {
      "cell_type": "markdown",
      "metadata": {
        "id": "yPH_Lu_umokU"
      },
      "source": [
        "no OCB"
      ]
    },
    {
      "cell_type": "code",
      "metadata": {
        "id": "x_AbEkP2mokV",
        "colab": {
          "base_uri": "https://localhost:8080/"
        },
        "outputId": "eea9f427-c8ff-4879-f67d-e3f15ce07943"
      },
      "source": [
        "from sklearn.metrics import confusion_matrix\n",
        "\n",
        "rf = RandomForestRegressor(n_estimators=25, min_samples_split=6, max_depth=10, max_features='auto', random_state=42)\n",
        "predictor_var1 = ['TIM3_RQ', 'TIGIT_RQ', 'LAG3_RQ','age_at_diagnosis', 'primary_EDSS_at_diagnosis', 'MRI_lesion_mass','gender_M']\n",
        "outcome_var = '5_years_from_sample'\n",
        "RMSE = calcCrossValidation_RMSE(rf, df_untreated_temporary, predictor_var1, outcome_var)\n",
        "print(RMSE)"
      ],
      "execution_count": null,
      "outputs": [
        {
          "output_type": "stream",
          "text": [
            "1.5155167113588164\n"
          ],
          "name": "stdout"
        }
      ]
    },
    {
      "cell_type": "markdown",
      "metadata": {
        "id": "p6jhfgLimoka"
      },
      "source": [
        "no MRI, LAG3"
      ]
    },
    {
      "cell_type": "code",
      "metadata": {
        "id": "96aarF-1moka",
        "colab": {
          "base_uri": "https://localhost:8080/"
        },
        "outputId": "55f72450-910c-4787-ed5e-2dec211aa3c3"
      },
      "source": [
        "from sklearn.metrics import confusion_matrix\n",
        "\n",
        "rf = RandomForestRegressor(n_estimators=25, min_samples_split=6, max_depth=10, max_features='auto', random_state=42)\n",
        "predictor_var1 = ['TIM3_RQ', 'TIGIT_RQ', 'age_at_diagnosis', 'primary_EDSS_at_diagnosis', 'gender_M','oligoclonal_band_POS']\n",
        "outcome_var = '5_years_from_sample'\n",
        "RMSE = calcCrossValidation_RMSE(rf, df_untreated_temporary, predictor_var1, outcome_var)\n",
        "print(RMSE)"
      ],
      "execution_count": null,
      "outputs": [
        {
          "output_type": "stream",
          "text": [
            "1.4537865497076026\n"
          ],
          "name": "stdout"
        }
      ]
    },
    {
      "cell_type": "markdown",
      "metadata": {
        "id": "jDk3-DoGmokb"
      },
      "source": [
        "no MRI, TIM3, LAG3"
      ]
    },
    {
      "cell_type": "code",
      "metadata": {
        "id": "g4HKLPxImokb",
        "colab": {
          "base_uri": "https://localhost:8080/"
        },
        "outputId": "ca72a5c7-d5f7-490b-d2c5-7e8721063737"
      },
      "source": [
        "from sklearn.metrics import confusion_matrix\n",
        "\n",
        "rf = RandomForestRegressor(n_estimators=25, min_samples_split=6, max_depth=10, max_features='auto', random_state=42)\n",
        "predictor_var1 = ['TIGIT_RQ', 'age_at_diagnosis', 'primary_EDSS_at_diagnosis', 'gender_M','oligoclonal_band_POS']\n",
        "outcome_var = '5_years_from_sample'\n",
        "RMSE = calcCrossValidation_RMSE(rf, df_untreated_temporary, predictor_var1, outcome_var)\n",
        "print(RMSE)"
      ],
      "execution_count": null,
      "outputs": [
        {
          "output_type": "stream",
          "text": [
            "1.6648884088620932\n"
          ],
          "name": "stdout"
        }
      ]
    },
    {
      "cell_type": "markdown",
      "metadata": {
        "id": "d3130Kn8mokc"
      },
      "source": [
        "no MRI, TIM3, TIGIT"
      ]
    },
    {
      "cell_type": "code",
      "metadata": {
        "id": "mPOFzT67mokc",
        "colab": {
          "base_uri": "https://localhost:8080/"
        },
        "outputId": "de819948-2038-41c7-8219-6495715b033a"
      },
      "source": [
        "from sklearn.metrics import confusion_matrix\n",
        "\n",
        "rf = RandomForestRegressor(n_estimators=25, min_samples_split=6, max_depth=10, max_features='auto', random_state=42)\n",
        "predictor_var1 = ['LAG3_RQ','age_at_diagnosis', 'primary_EDSS_at_diagnosis', 'gender_M','oligoclonal_band_POS']\n",
        "outcome_var = '5_years_from_sample'\n",
        "RMSE = calcCrossValidation_RMSE(rf, df_untreated_temporary, predictor_var1, outcome_var)\n",
        "print(RMSE)"
      ],
      "execution_count": null,
      "outputs": [
        {
          "output_type": "stream",
          "text": [
            "1.5843122715491134\n"
          ],
          "name": "stdout"
        }
      ]
    },
    {
      "cell_type": "markdown",
      "metadata": {
        "id": "jqUK7xP8mokc"
      },
      "source": [
        "no MRI, TIGIT, LAG3"
      ]
    },
    {
      "cell_type": "code",
      "metadata": {
        "id": "s0tXQYtZmokd",
        "colab": {
          "base_uri": "https://localhost:8080/"
        },
        "outputId": "a318c96b-af0e-4933-8913-cfbb0196533a"
      },
      "source": [
        "from sklearn.metrics import confusion_matrix\n",
        "\n",
        "rf = RandomForestRegressor(n_estimators=25, min_samples_split=6, max_depth=10, max_features='auto', random_state=42)\n",
        "predictor_var1 = ['TIM3_RQ', 'age_at_diagnosis', 'primary_EDSS_at_diagnosis', 'gender_M','oligoclonal_band_POS']\n",
        "outcome_var = '5_years_from_sample'\n",
        "RMSE = calcCrossValidation_RMSE(rf, df_untreated_temporary, predictor_var1, outcome_var)\n",
        "print(RMSE)"
      ],
      "execution_count": null,
      "outputs": [
        {
          "output_type": "stream",
          "text": [
            "1.4212267664109774\n"
          ],
          "name": "stdout"
        }
      ]
    },
    {
      "cell_type": "markdown",
      "metadata": {
        "id": "54dEe5H2mpE2"
      },
      "source": [
        "## **Nitzan's dataset**"
      ]
    },
    {
      "cell_type": "code",
      "metadata": {
        "id": "_PbSqNqNmpE2"
      },
      "source": [
        "df_nitzan_treated_patients = pd.read_pickle(\"/content/gdrive/My Drive/Colab Notebooks/MS_Notebooks/df_nitzan_treated_paitents.pkl\")"
      ],
      "execution_count": null,
      "outputs": []
    },
    {
      "cell_type": "code",
      "metadata": {
        "id": "_6iiZu7ZmpE3",
        "colab": {
          "base_uri": "https://localhost:8080/"
        },
        "outputId": "57e41ff7-5f74-443c-8796-70d2ef1d04d7"
      },
      "source": [
        "df_untreated_temporary = df_nitzan_treated_patients.dropna()\n",
        "df_untreated_temporary.isnull().sum()"
      ],
      "execution_count": null,
      "outputs": [
        {
          "output_type": "execute_result",
          "data": {
            "text/plain": [
              "sample_date                        0\n",
              "sample_code                        0\n",
              "diagnosis                          0\n",
              "TIM3_RQ                            0\n",
              "TIGIT_RQ                           0\n",
              "LAG3_RQ                            0\n",
              "PD-1_RQ                            0\n",
              "gender                             0\n",
              "years_from_diagnosis_to_sample     0\n",
              "age_at_diagnosis                   0\n",
              "primary_EDSS_at_diagnosis          0\n",
              "1_years_EDSS                       0\n",
              "5_years_EDSS                       0\n",
              "primary_EDSS_at_sample_date        0\n",
              "1_years_EDSS_from_sample_date      0\n",
              "5_years_from_sample                0\n",
              "EDSS_post_10_years                 0\n",
              "oligoclonal_band                   0\n",
              "lymph_cells                        0\n",
              "PMN_cells                          0\n",
              "cells_total                        0\n",
              "MRI_lesion_mass                    0\n",
              "MRI_date                           0\n",
              "treatment_when_sample_was_taken    0\n",
              "num_of_medicine_changed            0\n",
              "relapse_rate_since_blood_sample    0\n",
              "NEG                                0\n",
              "positive_OCB                       0\n",
              "F                                  0\n",
              "Male                               0\n",
              "diagnosis_RRMS                     0\n",
              "SPMS                               0\n",
              "med_IFN                            0\n",
              "OTHER_TREATMENT                    0\n",
              "med_TYSABRI                        0\n",
              "UNTREATED                          0\n",
              "dtype: int64"
            ]
          },
          "metadata": {
            "tags": []
          },
          "execution_count": 47
        }
      ]
    },
    {
      "cell_type": "markdown",
      "metadata": {
        "id": "rHXr0aQJmpE3"
      },
      "source": [
        "all features"
      ]
    },
    {
      "cell_type": "code",
      "metadata": {
        "id": "3RmtFHRxsULL"
      },
      "source": [
        "categorical_features = ['gender','oligoclonal_band','diagnosis']\n",
        "df_untreated_temporary = pd.get_dummies(df_untreated_temporary, columns=categorical_features, drop_first=True)\n",
        "df_untreated_temporary.drop(['sample_code'], axis='columns', inplace=True)"
      ],
      "execution_count": null,
      "outputs": []
    },
    {
      "cell_type": "code",
      "metadata": {
        "id": "paTnfmH8mpE3"
      },
      "source": [
        "df_untreated_temporary"
      ],
      "execution_count": null,
      "outputs": []
    },
    {
      "cell_type": "code",
      "metadata": {
        "id": "qaNsykJQmpE4",
        "colab": {
          "base_uri": "https://localhost:8080/"
        },
        "outputId": "da488863-00ba-4a4b-865b-3b8a3bb4ab40"
      },
      "source": [
        "from sklearn.ensemble import RandomForestRegressor\n",
        "\n",
        "rf = RandomForestRegressor(n_estimators=25, min_samples_split=6, max_depth=10, max_features='auto', random_state=42)\n",
        "predictor_var1 = ['TIM3_RQ', 'TIGIT_RQ', 'LAG3_RQ','age_at_diagnosis', 'primary_EDSS_at_diagnosis', 'MRI_lesion_mass','gender_M','oligoclonal_band_POS']\n",
        "outcome_var = '5_years_from_sample'\n",
        "RMSE = calcCrossValidation_RMSE(rf, df_untreated_temporary, predictor_var1, outcome_var)\n",
        "print(RMSE)"
      ],
      "execution_count": null,
      "outputs": [
        {
          "output_type": "stream",
          "text": [
            "1.4307585167918502\n"
          ],
          "name": "stdout"
        }
      ]
    },
    {
      "cell_type": "markdown",
      "metadata": {
        "id": "4zaYIk2_mpE4"
      },
      "source": [
        "no genes"
      ]
    },
    {
      "cell_type": "code",
      "metadata": {
        "id": "SDQXqaykmpE5",
        "colab": {
          "base_uri": "https://localhost:8080/"
        },
        "outputId": "00a48ee2-6fdd-4953-88d2-37c3560e6ac6"
      },
      "source": [
        "from sklearn.metrics import confusion_matrix\n",
        "\n",
        "rf = RandomForestRegressor(n_estimators=25, min_samples_split=6, max_depth=10, max_features='auto', random_state=42)\n",
        "predictor_var1 = ['age_at_diagnosis', 'primary_EDSS_at_diagnosis', 'MRI_lesion_mass','gender_M','oligoclonal_band_POS']\n",
        "outcome_var = '5_years_from_sample'\n",
        "RMSE = calcCrossValidation_RMSE(rf, df_untreated_temporary, predictor_var1, outcome_var)\n",
        "print(RMSE)"
      ],
      "execution_count": null,
      "outputs": [
        {
          "output_type": "stream",
          "text": [
            "1.4646628058361393\n"
          ],
          "name": "stdout"
        }
      ]
    },
    {
      "cell_type": "markdown",
      "metadata": {
        "id": "NYR2NdLqmpE5"
      },
      "source": [
        "no TIM3"
      ]
    },
    {
      "cell_type": "code",
      "metadata": {
        "id": "cyj5EngdmpE5",
        "colab": {
          "base_uri": "https://localhost:8080/"
        },
        "outputId": "0f99ada4-4d6c-48c3-beff-d81f6bd538ad"
      },
      "source": [
        "from sklearn.metrics import confusion_matrix\n",
        "\n",
        "rf = RandomForestRegressor(n_estimators=25, min_samples_split=6, max_depth=10, max_features='auto', random_state=42)\n",
        "predictor_var1 = ['TIGIT_RQ', 'LAG3_RQ','age_at_diagnosis', 'primary_EDSS_at_diagnosis', 'MRI_lesion_mass','gender_M','oligoclonal_band_POS']\n",
        "outcome_var = '5_years_from_sample'\n",
        "RMSE = calcCrossValidation_RMSE(rf, df_untreated_temporary, predictor_var1, outcome_var)\n",
        "print(RMSE)"
      ],
      "execution_count": null,
      "outputs": [
        {
          "output_type": "stream",
          "text": [
            "1.468220734574068\n"
          ],
          "name": "stdout"
        }
      ]
    },
    {
      "cell_type": "markdown",
      "metadata": {
        "id": "TbRiLOOvmpE6"
      },
      "source": [
        "no TIGIT_RQ"
      ]
    },
    {
      "cell_type": "code",
      "metadata": {
        "id": "ObNy6vUtmpE6",
        "colab": {
          "base_uri": "https://localhost:8080/"
        },
        "outputId": "731b56c3-0cfd-47d2-9fa5-3c7ace11cd38"
      },
      "source": [
        "from sklearn.metrics import confusion_matrix\n",
        "\n",
        "rf = RandomForestRegressor(n_estimators=25, min_samples_split=6, max_depth=10, max_features='auto', random_state=42)\n",
        "predictor_var1 = ['TIM3_RQ', 'LAG3_RQ','age_at_diagnosis', 'primary_EDSS_at_diagnosis', 'MRI_lesion_mass','gender_M','oligoclonal_band_POS']\n",
        "outcome_var = '5_years_from_sample'\n",
        "RMSE = calcCrossValidation_RMSE(rf, df_untreated_temporary, predictor_var1, outcome_var)\n",
        "print(RMSE)"
      ],
      "execution_count": null,
      "outputs": [
        {
          "output_type": "stream",
          "text": [
            "1.404130766270766\n"
          ],
          "name": "stdout"
        }
      ]
    },
    {
      "cell_type": "markdown",
      "metadata": {
        "id": "ZFaU_G_GmpE6"
      },
      "source": [
        "no LAG3"
      ]
    },
    {
      "cell_type": "code",
      "metadata": {
        "id": "MkAwR-F8mpE7",
        "colab": {
          "base_uri": "https://localhost:8080/"
        },
        "outputId": "0b231be9-c154-4348-f19e-297e072f1bd4"
      },
      "source": [
        "from sklearn.metrics import confusion_matrix\n",
        "\n",
        "rf = RandomForestRegressor(n_estimators=25, min_samples_split=6, max_depth=10, max_features='auto', random_state=42)\n",
        "predictor_var1 = ['TIM3_RQ', 'TIGIT_RQ','age_at_diagnosis', 'primary_EDSS_at_diagnosis', 'MRI_lesion_mass','gender_M','oligoclonal_band_POS']\n",
        "outcome_var = '5_years_from_sample'\n",
        "RMSE = calcCrossValidation_RMSE(rf, df_untreated_temporary, predictor_var1, outcome_var)\n",
        "print(RMSE)"
      ],
      "execution_count": null,
      "outputs": [
        {
          "output_type": "stream",
          "text": [
            "1.4444649454249454\n"
          ],
          "name": "stdout"
        }
      ]
    },
    {
      "cell_type": "markdown",
      "metadata": {
        "id": "vaim25SrmpE7"
      },
      "source": [
        "no TIM3 and LAG3"
      ]
    },
    {
      "cell_type": "code",
      "metadata": {
        "id": "v0gx0-q8mpE7",
        "colab": {
          "base_uri": "https://localhost:8080/"
        },
        "outputId": "0bdd58e2-95cd-4b23-f973-282971595bba"
      },
      "source": [
        "from sklearn.metrics import confusion_matrix\n",
        "\n",
        "rf = RandomForestRegressor(n_estimators=25, min_samples_split=6, max_depth=10, max_features='auto', random_state=42)\n",
        "predictor_var1 = ['TIGIT_RQ','age_at_diagnosis', 'primary_EDSS_at_diagnosis', 'MRI_lesion_mass','gender_M','oligoclonal_band_POS']\n",
        "outcome_var = '5_years_from_sample'\n",
        "RMSE = calcCrossValidation_RMSE(rf, df_untreated_temporary, predictor_var1, outcome_var)\n",
        "print(RMSE)"
      ],
      "execution_count": null,
      "outputs": [
        {
          "output_type": "stream",
          "text": [
            "1.484794785954786\n"
          ],
          "name": "stdout"
        }
      ]
    },
    {
      "cell_type": "markdown",
      "metadata": {
        "id": "X7dh4EwHmpE8"
      },
      "source": [
        "no TIM3 and TIGIT"
      ]
    },
    {
      "cell_type": "code",
      "metadata": {
        "id": "vO3ga4r5mpE8",
        "colab": {
          "base_uri": "https://localhost:8080/"
        },
        "outputId": "fb92c8cb-d74f-45d8-bde9-9650372e7c15"
      },
      "source": [
        "from sklearn.metrics import confusion_matrix\n",
        "\n",
        "rf = RandomForestRegressor(n_estimators=25, min_samples_split=6, max_depth=10, max_features='auto', random_state=42)\n",
        "predictor_var1 = ['LAG3_RQ','age_at_diagnosis', 'primary_EDSS_at_diagnosis', 'MRI_lesion_mass','gender_M','oligoclonal_band_POS']\n",
        "outcome_var = '5_years_from_sample'\n",
        "RMSE = calcCrossValidation_RMSE(rf, df_untreated_temporary, predictor_var1, outcome_var)\n",
        "print(RMSE)"
      ],
      "execution_count": null,
      "outputs": [
        {
          "output_type": "stream",
          "text": [
            "1.4947358764692105\n"
          ],
          "name": "stdout"
        }
      ]
    },
    {
      "cell_type": "markdown",
      "metadata": {
        "id": "4SAhuV-1mpE8"
      },
      "source": [
        "no LAG3 and TIGIT"
      ]
    },
    {
      "cell_type": "code",
      "metadata": {
        "id": "vs4sMc1umpE9",
        "colab": {
          "base_uri": "https://localhost:8080/"
        },
        "outputId": "37359251-36c6-4568-ac83-7f1dd6f3f38b"
      },
      "source": [
        "from sklearn.metrics import confusion_matrix\n",
        "\n",
        "rf = RandomForestRegressor(n_estimators=25, min_samples_split=6, max_depth=10, max_features='auto', random_state=42)\n",
        "predictor_var1 = ['TIM3_RQ','age_at_diagnosis', 'primary_EDSS_at_diagnosis', 'MRI_lesion_mass','gender_M','oligoclonal_band_POS']\n",
        "outcome_var = '5_years_from_sample'\n",
        "RMSE = calcCrossValidation_RMSE(rf, df_untreated_temporary, predictor_var1, outcome_var)\n",
        "print(RMSE)"
      ],
      "execution_count": null,
      "outputs": [
        {
          "output_type": "stream",
          "text": [
            "1.3535721577188244\n"
          ],
          "name": "stdout"
        }
      ]
    },
    {
      "cell_type": "markdown",
      "metadata": {
        "id": "nEat3S4HmpE9"
      },
      "source": [
        "no MRI"
      ]
    },
    {
      "cell_type": "code",
      "metadata": {
        "id": "aBGrmufrmpE9",
        "colab": {
          "base_uri": "https://localhost:8080/"
        },
        "outputId": "74537cc3-1b6f-44bd-95c5-56eea822dcca"
      },
      "source": [
        "from sklearn.metrics import confusion_matrix\n",
        "\n",
        "rf = RandomForestRegressor(n_estimators=25, min_samples_split=6, max_depth=10, max_features='auto', random_state=42)\n",
        "predictor_var1 = ['TIM3_RQ', 'TIGIT_RQ', 'LAG3_RQ','age_at_diagnosis', 'primary_EDSS_at_diagnosis','gender_M','oligoclonal_band_POS']\n",
        "outcome_var = '5_years_from_sample'\n",
        "RMSE = calcCrossValidation_RMSE(rf, df_untreated_temporary, predictor_var1, outcome_var)\n",
        "print(RMSE)"
      ],
      "execution_count": null,
      "outputs": [
        {
          "output_type": "stream",
          "text": [
            "1.3754732092598763\n"
          ],
          "name": "stdout"
        }
      ]
    },
    {
      "cell_type": "markdown",
      "metadata": {
        "id": "Mdg8kslMmpE-"
      },
      "source": [
        "no OCB"
      ]
    },
    {
      "cell_type": "code",
      "metadata": {
        "id": "Ocl_DKSjmpE-",
        "colab": {
          "base_uri": "https://localhost:8080/"
        },
        "outputId": "cedfe0fd-8959-4e63-e1c1-29e95388d5ea"
      },
      "source": [
        "from sklearn.metrics import confusion_matrix\n",
        "\n",
        "rf = RandomForestRegressor(n_estimators=25, min_samples_split=6, max_depth=10, max_features='auto', random_state=42)\n",
        "predictor_var1 = ['TIM3_RQ', 'TIGIT_RQ', 'LAG3_RQ','age_at_diagnosis', 'primary_EDSS_at_diagnosis', 'MRI_lesion_mass','gender_M']\n",
        "outcome_var = '5_years_from_sample'\n",
        "RMSE = calcCrossValidation_RMSE(rf, df_untreated_temporary, predictor_var1, outcome_var)\n",
        "print(RMSE)"
      ],
      "execution_count": null,
      "outputs": [
        {
          "output_type": "stream",
          "text": [
            "1.4410030515163852\n"
          ],
          "name": "stdout"
        }
      ]
    },
    {
      "cell_type": "markdown",
      "metadata": {
        "id": "O-2KkLVkmpFD"
      },
      "source": [
        "no MRI, LAG3"
      ]
    },
    {
      "cell_type": "code",
      "metadata": {
        "id": "DOE3LzalmpFE",
        "colab": {
          "base_uri": "https://localhost:8080/"
        },
        "outputId": "91b310cd-3da0-44eb-80ac-40c2f997a1a8"
      },
      "source": [
        "from sklearn.metrics import confusion_matrix\n",
        "\n",
        "rf = RandomForestRegressor(n_estimators=25, min_samples_split=6, max_depth=10, max_features='auto', random_state=42)\n",
        "predictor_var1 = ['TIM3_RQ', 'TIGIT_RQ', 'age_at_diagnosis', 'primary_EDSS_at_diagnosis', 'gender_M','oligoclonal_band_POS']\n",
        "outcome_var = '5_years_from_sample'\n",
        "RMSE = calcCrossValidation_RMSE(rf, df_untreated_temporary, predictor_var1, outcome_var)\n",
        "print(RMSE)"
      ],
      "execution_count": null,
      "outputs": [
        {
          "output_type": "stream",
          "text": [
            "1.3546911379978048\n"
          ],
          "name": "stdout"
        }
      ]
    },
    {
      "cell_type": "markdown",
      "metadata": {
        "id": "lfxEzu7KmpFE"
      },
      "source": [
        "no MRI, TIM3, LAG3"
      ]
    },
    {
      "cell_type": "code",
      "metadata": {
        "id": "58HCNkqKmpFE",
        "colab": {
          "base_uri": "https://localhost:8080/"
        },
        "outputId": "df6be7f0-23ae-41da-e528-b8bc9e879a6e"
      },
      "source": [
        "from sklearn.metrics import confusion_matrix\n",
        "\n",
        "rf = RandomForestRegressor(n_estimators=25, min_samples_split=6, max_depth=10, max_features='auto', random_state=42)\n",
        "predictor_var1 = ['TIGIT_RQ', 'age_at_diagnosis', 'primary_EDSS_at_diagnosis','gender_M','oligoclonal_band_POS']\n",
        "outcome_var = '5_years_from_sample'\n",
        "RMSE = calcCrossValidation_RMSE(rf, df_untreated_temporary, predictor_var1, outcome_var)\n",
        "print(RMSE)"
      ],
      "execution_count": null,
      "outputs": [
        {
          "output_type": "stream",
          "text": [
            "1.486370758624092\n"
          ],
          "name": "stdout"
        }
      ]
    },
    {
      "cell_type": "markdown",
      "metadata": {
        "id": "GVN7RBYOmpFF"
      },
      "source": [
        "no MRI, TIM3, TIGIT"
      ]
    },
    {
      "cell_type": "code",
      "metadata": {
        "id": "hA7Cogy_mpFF",
        "colab": {
          "base_uri": "https://localhost:8080/"
        },
        "outputId": "12b26e93-d29d-46d2-adb4-5dce5de1eb47"
      },
      "source": [
        "from sklearn.metrics import confusion_matrix\n",
        "\n",
        "rf = RandomForestRegressor(n_estimators=25, min_samples_split=6, max_depth=10, max_features='auto', random_state=42)\n",
        "predictor_var1 = ['LAG3_RQ','age_at_diagnosis', 'primary_EDSS_at_diagnosis','gender_M','oligoclonal_band_POS']\n",
        "outcome_var = '5_years_from_sample'\n",
        "RMSE = calcCrossValidation_RMSE(rf, df_untreated_temporary, predictor_var1, outcome_var)\n",
        "print(RMSE)"
      ],
      "execution_count": null,
      "outputs": [
        {
          "output_type": "stream",
          "text": [
            "1.3884363078896413\n"
          ],
          "name": "stdout"
        }
      ]
    },
    {
      "cell_type": "markdown",
      "metadata": {
        "id": "kTOYg_mempFF"
      },
      "source": [
        "no MRI, TIGIT, LAG3"
      ]
    },
    {
      "cell_type": "code",
      "metadata": {
        "id": "dvPF9-JRmpFG",
        "colab": {
          "base_uri": "https://localhost:8080/"
        },
        "outputId": "be4f9db7-277e-4cb9-f238-7eb30856f964"
      },
      "source": [
        "from sklearn.metrics import confusion_matrix\n",
        "\n",
        "rf = RandomForestRegressor(n_estimators=25, min_samples_split=6, max_depth=10, max_features='auto', random_state=42)\n",
        "predictor_var1 = ['TIM3_RQ', 'age_at_diagnosis', 'primary_EDSS_at_diagnosis','gender_M','oligoclonal_band_POS']\n",
        "outcome_var = '5_years_from_sample'\n",
        "RMSE = calcCrossValidation_RMSE(rf, df_untreated_temporary, predictor_var1, outcome_var)\n",
        "print(RMSE)"
      ],
      "execution_count": null,
      "outputs": [
        {
          "output_type": "stream",
          "text": [
            "1.308364468124468\n"
          ],
          "name": "stdout"
        }
      ]
    }
  ]
}