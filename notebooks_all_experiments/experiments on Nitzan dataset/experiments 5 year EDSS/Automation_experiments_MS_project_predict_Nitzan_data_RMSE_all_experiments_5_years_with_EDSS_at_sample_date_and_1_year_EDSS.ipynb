{
  "nbformat": 4,
  "nbformat_minor": 0,
  "metadata": {
    "colab": {
      "name": "Automation experiments MS project - predict_Nitzan_data_RMSE_all_experiments_5_years - with EDSS at sample date and 1 year EDSS",
      "provenance": [],
      "collapsed_sections": []
    },
    "kernelspec": {
      "name": "python3",
      "display_name": "Python 3"
    }
  },
  "cells": [
    {
      "cell_type": "markdown",
      "metadata": {
        "id": "M6tv6Y_weQ8z"
      },
      "source": [
        "import all the relevant libraries"
      ]
    },
    {
      "cell_type": "code",
      "metadata": {
        "id": "-z7hXJSeptCa"
      },
      "source": [
        "import pandas as pd\n",
        "import numpy as np\n",
        "import matplotlib.pyplot as plt\n",
        "import statistics as stats\n",
        "import io\n",
        "from sklearn.metrics import mean_squared_error\n",
        "from math import sqrt\n",
        "from sklearn.preprocessing import LabelEncoder\n",
        "from sklearn.model_selection import KFold\n",
        "from sklearn.ensemble import RandomForestRegressor\n",
        "from sklearn.ensemble import RandomForestClassifier\n",
        "from sklearn.linear_model import LogisticRegression\n",
        "from sklearn import metrics\n",
        "from sklearn.model_selection import train_test_split\n"
      ],
      "execution_count": 1,
      "outputs": []
    },
    {
      "cell_type": "markdown",
      "metadata": {
        "id": "ugA1NC9JIkaQ"
      },
      "source": [
        "upload the db file"
      ]
    },
    {
      "cell_type": "code",
      "metadata": {
        "id": "tTM3VXFdxXAg",
        "colab": {
          "base_uri": "https://localhost:8080/"
        },
        "outputId": "c973af4b-390e-42fb-a7a9-622c54ae0104"
      },
      "source": [
        "from google.colab import drive \n",
        "drive.mount('/content/gdrive')"
      ],
      "execution_count": 2,
      "outputs": [
        {
          "output_type": "stream",
          "text": [
            "Mounted at /content/gdrive\n"
          ],
          "name": "stdout"
        }
      ]
    },
    {
      "cell_type": "code",
      "metadata": {
        "id": "qxFu0jcL-D_c"
      },
      "source": [
        "pd.set_option('display.max_columns', None)\n",
        "pd.set_option('display.max_rows', None)"
      ],
      "execution_count": 3,
      "outputs": []
    },
    {
      "cell_type": "markdown",
      "metadata": {
        "id": "L0yo_SQNZKME"
      },
      "source": [
        "read the file and create data frame"
      ]
    },
    {
      "cell_type": "markdown",
      "metadata": {
        "id": "J1sKTMHG8mbW"
      },
      "source": [
        "#Defines experiment configuration -"
      ]
    },
    {
      "cell_type": "code",
      "metadata": {
        "id": "rC-_HRG0wu9t"
      },
      "source": [
        "\n",
        "#lists of selected features\n",
        "\n",
        "ALL_FEATURES = ['MRI_lesion_mass', 'primary_EDSS_at_diagnosis', 'primary_EDSS_at_sample_date', '1_years_EDSS', 'age_at_diagnosis', 'TIM3_RQ', 'TIGIT_RQ', 'LAG3_RQ', 'PD-1_RQ', 'Male', 'positive_OCB', 'OTHER_TREATMENT', 'UNTREATED', 'med_IFN', 'med_TYSABRI', 'cells_total']\n",
        "#REMOVE ONE FEATURE\n",
        "NO_TIGIT =  ['MRI_lesion_mass', 'primary_EDSS_at_diagnosis', 'primary_EDSS_at_sample_date', '1_years_EDSS', 'age_at_diagnosis', 'TIM3_RQ', 'LAG3_RQ', 'PD-1_RQ', 'Male', 'positive_OCB', 'OTHER_TREATMENT', 'UNTREATED', 'med_IFN', 'med_TYSABRI', 'cells_total']\n",
        "NO_LAG3 = ['MRI_lesion_mass', 'primary_EDSS_at_diagnosis', 'primary_EDSS_at_sample_date', '1_years_EDSS', 'age_at_diagnosis', 'TIM3_RQ', 'TIGIT_RQ', 'PD-1_RQ', 'Male', 'positive_OCB', 'OTHER_TREATMENT', 'UNTREATED', 'med_IFN', 'med_TYSABRI', 'cells_total']\n",
        "NO_TOTAL_CELLS = ['MRI_lesion_mass', 'primary_EDSS_at_diagnosis', 'primary_EDSS_at_sample_date', '1_years_EDSS', 'age_at_diagnosis', 'TIM3_RQ', 'TIGIT_RQ', 'LAG3_RQ', 'PD-1_RQ', 'Male', 'positive_OCB', 'OTHER_TREATMENT', 'UNTREATED', 'med_IFN', 'med_TYSABRI']\n",
        "NO_AGE =['MRI_lesion_mass', 'primary_EDSS_at_diagnosis', 'primary_EDSS_at_sample_date', '1_years_EDSS', 'TIM3_RQ', 'TIGIT_RQ', 'LAG3_RQ', 'PD-1_RQ', 'Male', 'positive_OCB', 'OTHER_TREATMENT', 'UNTREATED', 'med_IFN', 'med_TYSABRI', 'cells_total']\n",
        "NO_OCB = ['MRI_lesion_mass', 'primary_EDSS_at_diagnosis', 'primary_EDSS_at_sample_date', '1_years_EDSS', 'age_at_diagnosis', 'TIM3_RQ', 'TIGIT_RQ', 'LAG3_RQ', 'PD-1_RQ', 'Male', 'OTHER_TREATMENT', 'UNTREATED', 'med_IFN', 'med_TYSABRI', 'cells_total']\n",
        "NO_MRI_LESION = ['primary_EDSS_at_diagnosis', 'primary_EDSS_at_sample_date', '1_years_EDSS', 'age_at_diagnosis', 'TIM3_RQ', 'TIGIT_RQ', 'LAG3_RQ', 'PD-1_RQ', 'Male', 'positive_OCB', 'OTHER_TREATMENT', 'UNTREATED', 'med_IFN', 'med_TYSABRI', 'cells_total']\n",
        "NO_GENDER = ['MRI_lesion_mass', 'primary_EDSS_at_diagnosis', 'primary_EDSS_at_sample_date', '1_years_EDSS', 'age_at_diagnosis', 'TIM3_RQ', 'TIGIT_RQ', 'LAG3_RQ', 'PD-1_RQ', 'positive_OCB', 'OTHER_TREATMENT', 'UNTREATED', 'med_IFN', 'med_TYSABRI', 'cells_total']\n",
        "NO_EDSS_AT_DIAGNOSIS = ['MRI_lesion_mass', 'primary_EDSS_at_sample_date', '1_years_EDSS', 'age_at_diagnosis', 'TIM3_RQ', 'TIGIT_RQ', 'LAG3_RQ', 'PD-1_RQ', 'Male', 'positive_OCB', 'OTHER_TREATMENT', 'UNTREATED', 'med_IFN', 'med_TYSABRI', 'cells_total']\n",
        "NO_TIM3 = ['MRI_lesion_mass', 'primary_EDSS_at_diagnosis', 'primary_EDSS_at_sample_date', '1_years_EDSS', 'age_at_diagnosis','TIGIT_RQ', 'LAG3_RQ', 'PD-1_RQ', 'Male', 'positive_OCB', 'OTHER_TREATMENT', 'UNTREATED', 'med_IFN', 'med_TYSABRI', 'cells_total']\n",
        "NO_PRIMARY_EDSS_SAMPLE_DATE = ['MRI_lesion_mass', 'primary_EDSS_at_diagnosis', 'primary_EDSS_at_sample_date', '1_years_EDSS', 'age_at_diagnosis', 'TIM3_RQ', 'TIGIT_RQ', 'LAG3_RQ', 'PD-1_RQ', 'Male', 'positive_OCB', 'OTHER_TREATMENT', 'UNTREATED', 'med_IFN', 'med_TYSABRI', 'cells_total']\n",
        "NO_OTHER_TREATMENT = ['MRI_lesion_mass', 'primary_EDSS_at_diagnosis', 'primary_EDSS_at_sample_date', '1_years_EDSS', 'age_at_diagnosis', 'TIM3_RQ', 'TIGIT_RQ', 'LAG3_RQ', 'PD-1_RQ', 'Male', 'positive_OCB', 'UNTREATED', 'med_IFN', 'med_TYSABRI', 'cells_total']\n",
        "NO_UNTREATED = ['MRI_lesion_mass', 'primary_EDSS_at_diagnosis', 'primary_EDSS_at_sample_date', '1_years_EDSS', 'age_at_diagnosis', 'TIM3_RQ', 'TIGIT_RQ', 'LAG3_RQ', 'PD-1_RQ', 'Male', 'positive_OCB', 'OTHER_TREATMENT', 'med_IFN', 'med_TYSABRI', 'cells_total']\n",
        "NO_MED_IFN = ['MRI_lesion_mass', 'primary_EDSS_at_diagnosis', 'primary_EDSS_at_sample_date', '1_years_EDSS', 'age_at_diagnosis', 'TIM3_RQ', 'TIGIT_RQ', 'LAG3_RQ', 'PD-1_RQ', 'Male', 'positive_OCB', 'OTHER_TREATMENT', 'med_TYSABRI', 'cells_total']\n",
        "NO_MED_TYSABRI = ['MRI_lesion_mass', 'primary_EDSS_at_diagnosis', 'primary_EDSS_at_sample_date', '1_years_EDSS', 'age_at_diagnosis', 'TIM3_RQ', 'TIGIT_RQ', 'LAG3_RQ', 'PD-1_RQ', 'Male', 'positive_OCB', 'OTHER_TREATMENT', 'med_IFN', 'cells_total']\n",
        "\n",
        "\n",
        "#REMOVE TWO FEATURES\n",
        "NO_TIGIT_NO_LAG3 = ['MRI_lesion_mass', 'primary_EDSS_at_diagnosis', 'primary_EDSS_at_sample_date', '1_years_EDSS', 'age_at_diagnosis', 'TIM3_RQ', 'PD-1_RQ', 'Male', 'positive_OCB', 'OTHER_TREATMENT', 'UNTREATED', 'med_IFN', 'med_TYSABRI', 'cells_total']\n",
        "NO_TIGIT_NO_TOTAL_CELLS = ['MRI_lesion_mass', 'primary_EDSS_at_diagnosis', 'primary_EDSS_at_sample_date', '1_years_EDSS', 'age_at_diagnosis', 'TIM3_RQ', 'LAG3_RQ', 'PD-1_RQ', 'Male', 'positive_OCB', 'OTHER_TREATMENT', 'UNTREATED', 'med_IFN', 'med_TYSABRI']\n",
        "NO_TIGIT_NO_AGE = ['MRI_lesion_mass', 'primary_EDSS_at_diagnosis', 'primary_EDSS_at_sample_date', '1_years_EDSS', 'TIM3_RQ', 'LAG3_RQ', 'PD-1_RQ', 'Male', 'positive_OCB', 'OTHER_TREATMENT', 'UNTREATED', 'med_IFN', 'med_TYSABRI', 'cells_total']\n",
        "NO_TIGIT_NO_OCB = ['MRI_lesion_mass', 'primary_EDSS_at_diagnosis', 'primary_EDSS_at_sample_date', '1_years_EDSS', 'age_at_diagnosis', 'TIM3_RQ', 'TIGIT_RQ', 'LAG3_RQ', 'PD-1_RQ', 'Male', 'positive_OCB', 'OTHER_TREATMENT', 'UNTREATED', 'med_IFN', 'med_TYSABRI', 'cells_total']\n",
        "NO_TIGIT_NO_MRI_LESION = ['primary_EDSS_at_diagnosis', 'primary_EDSS_at_sample_date', '1_years_EDSS', 'age_at_diagnosis', 'TIM3_RQ','LAG3_RQ', 'PD-1_RQ', 'Male', 'positive_OCB', 'OTHER_TREATMENT', 'UNTREATED', 'med_IFN', 'med_TYSABRI', 'cells_total']\n",
        "NO_TIGIT_NO_TIM3 = ['MRI_lesion_mass', 'primary_EDSS_at_diagnosis', 'primary_EDSS_at_sample_date', '1_years_EDSS', 'age_at_diagnosis', 'LAG3_RQ', 'PD-1_RQ', 'Male', 'positive_OCB', 'OTHER_TREATMENT', 'UNTREATED', 'med_IFN', 'med_TYSABRI', 'cells_total']\n",
        "\n",
        "NO_LAG3_NO_TOTAL_CELLS = ['MRI_lesion_mass', 'primary_EDSS_at_diagnosis', 'primary_EDSS_at_sample_date', '1_years_EDSS', 'age_at_diagnosis', 'TIM3_RQ', 'TIGIT_RQ', 'PD-1_RQ', 'Male', 'positive_OCB', 'OTHER_TREATMENT', 'UNTREATED', 'med_IFN', 'med_TYSABRI']\n",
        "NO_LAG3_NO_AGE = ['MRI_lesion_mass', 'primary_EDSS_at_diagnosis', 'primary_EDSS_at_sample_date', '1_years_EDSS', 'TIM3_RQ', 'TIGIT_RQ','PD-1_RQ', 'Male', 'positive_OCB', 'OTHER_TREATMENT', 'UNTREATED', 'med_IFN', 'med_TYSABRI', 'cells_total']\n",
        "NO_LAG3_NO_OCB = ['MRI_lesion_mass', 'primary_EDSS_at_diagnosis', 'primary_EDSS_at_sample_date', '1_years_EDSS', 'age_at_diagnosis', 'TIM3_RQ', 'TIGIT_RQ', 'PD-1_RQ', 'Male', 'OTHER_TREATMENT', 'UNTREATED', 'med_IFN', 'med_TYSABRI', 'cells_total']\n",
        "NO_LAG3_NO_MRI_LESION = ['primary_EDSS_at_diagnosis', 'primary_EDSS_at_sample_date', '1_years_EDSS', 'age_at_diagnosis', 'TIM3_RQ', 'TIGIT_RQ', 'PD-1_RQ', 'Male', 'positive_OCB', 'OTHER_TREATMENT', 'UNTREATED', 'med_IFN', 'med_TYSABRI', 'cells_total']\n",
        "\n",
        "NO_TOTAL_CELLS_NO_AGE = ['MRI_lesion_mass', 'primary_EDSS_at_diagnosis', 'primary_EDSS_at_sample_date', '1_years_EDSS','TIM3_RQ', 'TIGIT_RQ', 'LAG3_RQ', 'PD-1_RQ', 'Male', 'positive_OCB', 'OTHER_TREATMENT', 'UNTREATED', 'med_IFN', 'med_TYSABRI']\n",
        "NO_TOTAL_CELLS_NO_PRIMARY_EDSS = ['MRI_lesion_mass', 'primary_EDSS_at_sample_date', '1_years_EDSS', 'age_at_diagnosis', 'TIM3_RQ', 'TIGIT_RQ', 'LAG3_RQ', 'PD-1_RQ', 'Male', 'positive_OCB', 'OTHER_TREATMENT', 'UNTREATED', 'med_IFN', 'med_TYSABRI']\n",
        "NO_TOTAL_CELLS_NO_OCB = ['MRI_lesion_mass', 'primary_EDSS_at_diagnosis', 'primary_EDSS_at_sample_date', '1_years_EDSS', 'age_at_diagnosis', 'TIM3_RQ', 'TIGIT_RQ', 'LAG3_RQ', 'PD-1_RQ', 'Male','OTHER_TREATMENT', 'UNTREATED', 'med_IFN', 'med_TYSABRI']\n",
        "NO_TOTAL_CELLS_NO_MRI_LESION = ['primary_EDSS_at_diagnosis', 'primary_EDSS_at_sample_date', '1_years_EDSS', 'age_at_diagnosis', 'TIM3_RQ', 'TIGIT_RQ', 'LAG3_RQ', 'PD-1_RQ', 'Male', 'positive_OCB', 'OTHER_TREATMENT', 'UNTREATED', 'med_IFN', 'med_TYSABRI']\n",
        "\n",
        "#REMOVE THREE FEATURES\n",
        "NO_TIGIT_NO_LAG3_NO_TOTAL_CELLS = ['MRI_lesion_mass', 'primary_EDSS_at_diagnosis', 'primary_EDSS_at_sample_date', '1_years_EDSS', 'age_at_diagnosis', 'TIM3_RQ','PD-1_RQ', 'Male', 'positive_OCB', 'OTHER_TREATMENT', 'UNTREATED', 'med_IFN', 'med_TYSABRI']\n",
        "NO_TIM3_NO_LAG3_NO_TOTAL_CELLS = ['MRI_lesion_mass', 'primary_EDSS_at_diagnosis', 'primary_EDSS_at_sample_date', '1_years_EDSS', 'age_at_diagnosis','TIGIT_RQ','PD-1_RQ', 'Male', 'positive_OCB', 'OTHER_TREATMENT', 'UNTREATED', 'med_IFN', 'med_TYSABRI']\n",
        "\n",
        "#REMOVE FOUR FEATURES\n",
        "NO_TIGIT_NO_TIM3_NO_TOTAL_CELLS_NO_AGE = ['MRI_lesion_mass', 'primary_EDSS_at_diagnosis', 'primary_EDSS_at_sample_date', '1_years_EDSS', 'LAG3_RQ', 'PD-1_RQ', 'Male', 'positive_OCB', 'OTHER_TREATMENT', 'UNTREATED', 'med_IFN', 'med_TYSABRI']\n",
        "\n",
        "\n",
        "\n",
        "\n",
        "\n",
        "#lists of removed features as String \n",
        "\n",
        "ALL_FEATURES_STR = \"ALL FEATURES\"\n",
        "#REMOVE ONE FEATURE\n",
        "NO_TIGIT_STR =  \"NO TIGIT\"\n",
        "NO_LAG3_STR = \"NO LAG3\"\n",
        "NO_TOTAL_CELLS_STR = \"NO LYMPH CELLS\"\n",
        "NO_AGE_STR = \"NO AGE\"\n",
        "NO_OCB_STR =\"NO OCB\"\n",
        "NO_MRI_LESION_STR =\"NO MRI LESION\"\n",
        "NO_GENDER_STR = \"NO GENDER\"\n",
        "NO_EDSS_AT_DIAGNOSIS_STR = \"NO EDSS AT DIAGNOSIS\"\n",
        "NO_TIM3_STR = \"NO TIM3\"\n",
        "NO_1_YEAR_EDSS_STR= \"NO_1_YEAR_EDSS\"\n",
        "NO_PRIMARY_EDSS_SAMPLE_DATE_STR = \"NO_PRIMARY_EDSS_SAMPLE_DATE\"\n",
        "NO_OTHER_TREATMENT_STR = \"NO_OTHER_TREATMENT\"\n",
        "NO_UNTREATED_STR = \"NO_UNTREATED\"\n",
        "NO_MED_IFN_STR = \"NO_MED_IFN\"\n",
        "NO_MED_TYSABRI_STR = \"NO_MED_TYSABRI\"\n",
        "\n",
        "#REMOVE TWO FEATURES\n",
        "NO_TIGIT_NO_LAG3_STR = \"NO TIGIT, LAG3\"\n",
        "NO_TIGIT_NO_TOTAL_CELLS_STR = \"NO TIGIT, TOTAL CELLS\"\n",
        "NO_TIGIT_NO_AGE_STR = \"NO TIGIT, AGE\"\n",
        "NO_TIGIT_NO_OCB_STR = \"NO TIGIT, OCB\"\n",
        "NO_TIGIT_NO_MRI_LESION_STR = \"NO TIGIT, MRI LESION\"\n",
        "NO_TIGIT_NO_TIM3_STR = \"NO_TIGIT_NO_TIM3\"\n",
        "\n",
        "NO_LAG3_NO_TOTAL_CELLS_STR = \"NO LAG3, TOTAL CELLS\"\n",
        "NO_LAG3_NO_AGE_STR = \"NO_LAG3, AGE\"\n",
        "NO_LAG3_NO_PMN_CELLS_STR = \"NO_LAG3, PMN_CELLS\"\n",
        "NO_LAG3_NO_OCB_STR = \"NO_LAG3, OCB\"\n",
        "NO_LAG3_NO_MRI_LESION_STR = \"NO_LAG3, MRI_LESION\"\n",
        "\n",
        "NO_TOTAL_CELLS_NO_AGE_STR = \"NO TOTAL CELLS, AGE\"\n",
        "NO_TOTAL_CELLS_NO_PRIMARY_EDSS_STR = \"NO TOTAL CELLS, PRIMARY EDSS\"\n",
        "NO_TOTAL_CELLS_NO_OCB_STR = \"NO TOTAL CELLS, OCB\"\n",
        "NO_TOTAL_CELLS_NO_MRI_LESION_STR = \"NO TOTAL CELLS, MRI LESION\"\n",
        "\n",
        "#REMOVE THREE FEATURES\n",
        "NO_TIGIT_NO_LAG3_NO_TOTAL_CELLS_STR = \"NO TIGIT, LAG3, TOTAL CELLS\"\n",
        "NO_TIM3_NO_LAG3_NO_TOTAL_CELLS_STR = \"NO TIM3, LAG3, TOTAL CELLS\"\n",
        "\n",
        "#REMOVE FOUR FEATURES\n",
        "NO_TIGIT_NO_TIM3_NO_TOTAL_CELLS_NO_AGE_STR = \"NO_TIGIT, TIM3, TOTAL CELLS, AGE\"\n",
        "\n",
        "\n",
        "\n",
        "\n",
        "\n",
        "#lists of models\n",
        "RFCLASSIFIER = \"Random Forest Classifier\"\n",
        "LR = \"Logistic Regression\"\n",
        "RFREGRESSOR = \"Random Forest Regressor\"\n",
        "\n",
        "\n",
        "#lists of outcome\n",
        "OUTCOME_MS_TYPE = \"SPMS\"\n",
        "OUTCOME_EDSS_POST_10_YEARS = \"EDSS_post_10_years\"\n",
        "OUTCOME_EDSS_POST_5_YEARS= \"5_years_EDSS\"\n",
        "#const seed all runs\n",
        "SEED = 42\n"
      ],
      "execution_count": 4,
      "outputs": []
    },
    {
      "cell_type": "markdown",
      "metadata": {
        "id": "lrhxOCvRkUmo"
      },
      "source": [
        "# helper functions"
      ]
    },
    {
      "cell_type": "code",
      "metadata": {
        "id": "7ueuF8gWhLXz"
      },
      "source": [
        "def calcCrossValidation_RMSE(model, df, predictors, outcome):\n",
        "\n",
        "\n",
        "  # Perform k-fold cross-validation with 10 folds\n",
        "  kf = KFold(n_splits=df.shape[0])\n",
        "  accuracy = []\n",
        "  total_RMSE=0\n",
        "  for train, test in kf.split(df):\n",
        "      # print(train)\n",
        "      # Filter training data\n",
        "      train_predictors = (df[predictors].iloc[train, :])\n",
        "      # The target we're using to train the algorithm.\n",
        "      train_target = df[outcome].iloc[train]\n",
        "      test_predictors = (df[predictors].iloc[test, :])\n",
        "      # print(train_predictors)\n",
        "\n",
        "      # The target we're using to train the algorithm.\n",
        "      test_target = df[outcome].iloc[test]\n",
        "\n",
        "      # Training the algorithm using the predictors and target.\n",
        "      # print(train_target)\n",
        "      model.fit(train_predictors, train_target)\n",
        "      predictions = model.predict(test_predictors)\n",
        "      # print(predictions)\n",
        "      rmse = sqrt(mean_squared_error(test_target, predictions))  \n",
        "      # print(rmse)\n",
        "      total_RMSE += rmse\n",
        "\n",
        "  return total_RMSE/df.shape[0]\n",
        "  # return 0"
      ],
      "execution_count": 5,
      "outputs": []
    },
    {
      "cell_type": "code",
      "metadata": {
        "id": "ZmZIcqibsCHW"
      },
      "source": [
        "def calcCrossValidation_Matrix(model, df, predictors, outcome):\n",
        "\n",
        "  total_tp = 0\n",
        "  total_tn = 0\n",
        "  total_fp = 0\n",
        "  total_fn = 0\n",
        "\n",
        "  # Perform k-fold cross-validation with 10 folds\n",
        "  kf = KFold(n_splits=df.shape[0])\n",
        "  accuracy = []\n",
        "  for train, test in kf.split(df):\n",
        "      # print(\"1\")\n",
        "\n",
        "      # Filter training data\n",
        "      train_predictors = (df[predictors].iloc[train, :])\n",
        "      # The target we're using to train the algorithm.\n",
        "      train_target = df[outcome].iloc[train]\n",
        "      # print(\"1\")\n",
        "\n",
        "      test_predictors = (df[predictors].iloc[test, :])\n",
        "      # The target we're using to train the algorithm.\n",
        "      test_target = df[outcome].iloc[test]\n",
        "      # print(\"1\")\n",
        "\n",
        "\n",
        "      # Training the algorithm using the predictors and target.\n",
        "      model.fit(train_predictors, train_target)\n",
        "      predictions = model.predict(test_predictors)\n",
        "      # cm = confusion_matrix(test_target, predictions)\n",
        "      # print(cm)\n",
        "      # print(\"1\")\n",
        "      # print(\"test_target\")\n",
        "      test_target = test_target.to_numpy()\n",
        "      # print(test_target)\n",
        "      # np.array(df[outcome].values.tolist())\n",
        "      # print(type(test_target))\n",
        "      # print(\"predictions\")\n",
        "      # print(predictions)\n",
        "      # print(type(predictions))\n",
        "\n",
        "      tn, fp, fn, tp = perf_measure(test_target, predictions)\n",
        "      # print(\"1\")\n",
        "\n",
        "      total_tp += tp\n",
        "      total_tn += tn\n",
        "      total_fp += fp\n",
        "      total_fn += fn\n",
        "\n",
        "  # print(total_tn, total_fp, total_fn, total_tp)\n",
        "  return total_tn, total_fp, total_fn, total_tp "
      ],
      "execution_count": 6,
      "outputs": []
    },
    {
      "cell_type": "code",
      "metadata": {
        "id": "QmkOlEBaYWIh"
      },
      "source": [
        "def perf_measure(y_actual, y_hat):\n",
        "    TP = 0\n",
        "    FP = 0\n",
        "    TN = 0\n",
        "    FN = 0\n",
        "\n",
        "    for i in range(len(y_hat)): \n",
        "        if y_actual[i]==y_hat[i]==1:\n",
        "           TP += 1\n",
        "        if y_hat[i]==1 and y_actual[i]!=y_hat[i]:\n",
        "           FP += 1\n",
        "        if y_actual[i]==y_hat[i]==0:\n",
        "           TN += 1\n",
        "        if y_hat[i]==0 and y_actual[i]!=y_hat[i]:\n",
        "           FN += 1\n",
        "    # print(TN, FP, FN, TP)\n",
        "    return(TN, FP, FN, TP)"
      ],
      "execution_count": 7,
      "outputs": []
    },
    {
      "cell_type": "code",
      "metadata": {
        "id": "0n-dU50HohOo"
      },
      "source": [
        "def calc_specificity(tn, fp, fn, tp):\n",
        "  return tn / (tn +fp)"
      ],
      "execution_count": 8,
      "outputs": []
    },
    {
      "cell_type": "code",
      "metadata": {
        "id": "RqfyFAOYpXdx"
      },
      "source": [
        "def calc_sensitivity(tn, fp, fn, tp):\n",
        "  return tp / (tp +fn)"
      ],
      "execution_count": 9,
      "outputs": []
    },
    {
      "cell_type": "markdown",
      "metadata": {
        "id": "EUl7Y0Gyn80N"
      },
      "source": [
        "# code for automation experiments"
      ]
    },
    {
      "cell_type": "code",
      "metadata": {
        "id": "izI_LzKkLNPW"
      },
      "source": [
        "def run_experiment(df, outcome_var, model_type, predictor_var, removed_features, df_experiments):\n",
        "  model = choose_experiment_model(df, outcome_var, model_type, predictor_var, removed_features, df_experiments)\n",
        "  if (model_type=='Random Forest Classifier' or model_type=='Logistic Regression'):\n",
        "    calculations = add_sensitivity_specifity(model, df, predictor_var, outcome_var, model_type, removed_features, df_experiments)\n",
        "  else:\n",
        "    calculations = add_rmse(model, df, predictor_var, outcome_var, model_type, removed_features, df_experiments)\n",
        "  experiment_results = update_experiment_in_results_df(calculations, removed_features, model_type, df_experiments)\n",
        "  return experiment_results\n",
        "\n"
      ],
      "execution_count": 10,
      "outputs": []
    },
    {
      "cell_type": "code",
      "metadata": {
        "id": "GEJv9dtgLqvx"
      },
      "source": [
        "def choose_experiment_model(df, outcome_var, model_type, predictor_var, removed_features, df_experiments):\n",
        "  if (model_type=='Random Forest Classifier'):\n",
        "    return RandomForestClassifier(n_estimators=25, min_samples_split=9, max_depth=15, max_features='auto',random_state=SEED)\n",
        "    # return add_sensitivity_specifity(model, df, predictor_var, outcome_var, model_type, removed_features, df_experiments)\n",
        "  elif (model_type=='Logistic Regression'):\n",
        "    return LogisticRegression(max_iter = 4000,random_state=SEED)\n",
        "    # return add_sensitivity_specifity(model, df, predictor_var, outcome_var, model_type, removed_features, df_experiments)\n",
        "  else:\n",
        "    return RandomForestRegressor(n_estimators = 10, random_state=SEED)\n",
        "    # return add_rmse(model, df, predictor_var, outcome_var, model_type, removed_features, df_experiments)"
      ],
      "execution_count": 11,
      "outputs": []
    },
    {
      "cell_type": "code",
      "metadata": {
        "id": "IsW8OAa_LNoY"
      },
      "source": [
        "def add_sensitivity_specifity(model, df, predictor_var, outcome_var, model_type, removed_features, df_experiments):\n",
        "  tn, fp, fn, tp = calcCrossValidation_Matrix(model, df, predictor_var, outcome_var)\n",
        "  specificity = calc_specificity(tn, fp, fn, tp)\n",
        "  sensitivity = calc_sensitivity(tn, fp, fn, tp)\n",
        "  specifity_sensitivity_list = [specificity, sensitivity]\n",
        "  return specifity_sensitivity_list"
      ],
      "execution_count": 12,
      "outputs": []
    },
    {
      "cell_type": "code",
      "metadata": {
        "id": "3z3Sh3-BLNoZ"
      },
      "source": [
        "def add_rmse(model, df, predictor_var, outcome_var, model_type, removed_features, df_experiments):\n",
        "  rmse = calcCrossValidation_RMSE(model, df, predictor_var, outcome_var)\n",
        "  rmse_list = [rmse]\n",
        "  return rmse_list"
      ],
      "execution_count": 13,
      "outputs": []
    },
    {
      "cell_type": "code",
      "metadata": {
        "id": "2RrQf9WwLNoZ"
      },
      "source": [
        "def update_experiment_in_results_df(results_list, removed_features, model_type, df_experiments):\n",
        "  if (len(results_list)==2):\n",
        "    new_record = {'Model': model_type,'Removed Features': removed_features,'Specificity': results_list[0], 'Sensitivity':results_list[1], 'RMSE': ''}\n",
        "  else:\n",
        "    new_record = {'Model': model_type,'Removed Features': removed_features,'Specificity': '', 'Sensitivity':'', 'RMSE':results_list[0]}\n",
        "  df_experiments = df_experiments.append(new_record, ignore_index=True)\n",
        "  return df_experiments\n",
        "  "
      ],
      "execution_count": 14,
      "outputs": []
    },
    {
      "cell_type": "code",
      "metadata": {
        "id": "onvYaWG9LNoZ"
      },
      "source": [
        "def experiments_RF_LR(df_origin_data,features_list, features_names,df_experiments):\n",
        "  # df_experiments = run_experiment(df_origin_data, OUTCOME_MS_TYPE, RFCLASSIFIER, features_list, features_names, df_experiments)\n",
        "  # df_experiments = run_experiment(df_origin_data, OUTCOME_MS_TYPE, LR, features_list, features_names, df_experiments)\n",
        "  df_experiments = run_experiment(df_origin_data, OUTCOME_EDSS_POST_5_YEARS, RFREGRESSOR, features_list, features_names, df_experiments)\n",
        "  return df_experiments"
      ],
      "execution_count": 15,
      "outputs": []
    },
    {
      "cell_type": "markdown",
      "metadata": {
        "id": "CGR9ICso-nDT"
      },
      "source": [
        "# Nitzan all patients with EDSS at SAMPLE DATE"
      ]
    },
    {
      "cell_type": "code",
      "metadata": {
        "id": "tx10RrbvpXzS"
      },
      "source": [
        "const_seed = 42"
      ],
      "execution_count": 16,
      "outputs": []
    },
    {
      "cell_type": "code",
      "metadata": {
        "id": "ji-nN9tpxSGm",
        "colab": {
          "base_uri": "https://localhost:8080/"
        },
        "outputId": "dcacd5f3-c943-4cce-9201-a18b473bc23c"
      },
      "source": [
        "df_nitzan_with_primary_edss = pd.read_pickle(\"/content/gdrive/My Drive/Colab Notebooks/MS_Notebooks/DFDB1Final.pkl\")\n",
        "df_nitzan_with_primary_edss.columns\n",
        "\n",
        "# print(df_untreated.shape[0])\n"
      ],
      "execution_count": 17,
      "outputs": [
        {
          "output_type": "execute_result",
          "data": {
            "text/plain": [
              "Index(['sample_date', 'sample_code', 'diagnosis', 'TIM3_RQ', 'TIGIT_RQ',\n",
              "       'LAG3_RQ', 'PD-1_RQ', 'gender', 'years_from_diagnosis_to_sample',\n",
              "       'age_at_diagnosis', 'primary_EDSS_at_diagnosis', '1_years_EDSS',\n",
              "       '5_years_EDSS', 'primary_EDSS_at_sample_date',\n",
              "       '1_years_EDSS_from_sample_date', '5_years_from_sample',\n",
              "       'EDSS_post_10_years', 'oligoclonal_band', 'lymph_cells', 'PMN_cells',\n",
              "       'cells_total', 'MRI_lesion_mass', 'MRI_date',\n",
              "       'treatment_when_sample_was_taken', 'num_of_medicine_changed',\n",
              "       'relapse_rate_since_blood_sample', 'NEG', 'positive_OCB', 'F', 'Male',\n",
              "       'diagnosis_RRMS', 'SPMS', 'med_IFN', 'OTHER_TREATMENT', 'med_TYSABRI',\n",
              "       'UNTREATED'],\n",
              "      dtype='object')"
            ]
          },
          "metadata": {
            "tags": []
          },
          "execution_count": 17
        }
      ]
    },
    {
      "cell_type": "code",
      "metadata": {
        "id": "osMHGWO7BpAL"
      },
      "source": [
        ""
      ],
      "execution_count": 17,
      "outputs": []
    },
    {
      "cell_type": "code",
      "metadata": {
        "id": "ibqfPzH4z9Q0"
      },
      "source": [
        "def min_max_normalize_features(dataframe, numeric_list):\n",
        "    for num_feature in numeric_list:\n",
        "        dataframe[num_feature] = (dataframe[num_feature] - dataframe[num_feature].min()) / (\n",
        "                dataframe[num_feature].max() - dataframe[num_feature].min())\n",
        "    return dataframe"
      ],
      "execution_count": 18,
      "outputs": []
    },
    {
      "cell_type": "code",
      "metadata": {
        "id": "cHu-k3-E0bSG"
      },
      "source": [
        "normalized_features = ['MRI_lesion_mass','age_at_diagnosis','TIM3_RQ','TIGIT_RQ','LAG3_RQ','PD-1_RQ']\n",
        "\n",
        "df_nitzan_with_primary_edss = min_max_normalize_features(df_nitzan_with_primary_edss, normalized_features)\n",
        "df_nitzan_with_primary_edss"
      ],
      "execution_count": null,
      "outputs": []
    },
    {
      "cell_type": "code",
      "metadata": {
        "id": "GyD-p5HZzSQ_"
      },
      "source": [
        "# categorical_features = ['gender','oligoclonal_band','diagnosis']\n",
        "# df_livnat_all_patients = pd.get_dummies(df_livnat_all_patients, columns=categorical_features, drop_first=True)\n",
        "df_nitzan_with_primary_edss.drop(['sample_code'], axis='columns', inplace=True)"
      ],
      "execution_count": 20,
      "outputs": []
    },
    {
      "cell_type": "code",
      "metadata": {
        "id": "t9kJXvTXAfI7",
        "colab": {
          "base_uri": "https://localhost:8080/"
        },
        "outputId": "50e19ec7-dd0f-4bde-bbfe-8bc19f28f5d4"
      },
      "source": [
        "df_nitzan_with_primary_edss.columns.values"
      ],
      "execution_count": 21,
      "outputs": [
        {
          "output_type": "execute_result",
          "data": {
            "text/plain": [
              "array(['sample_date', 'diagnosis', 'TIM3_RQ', 'TIGIT_RQ', 'LAG3_RQ',\n",
              "       'PD-1_RQ', 'gender', 'years_from_diagnosis_to_sample',\n",
              "       'age_at_diagnosis', 'primary_EDSS_at_diagnosis', '1_years_EDSS',\n",
              "       '5_years_EDSS', 'primary_EDSS_at_sample_date',\n",
              "       '1_years_EDSS_from_sample_date', '5_years_from_sample',\n",
              "       'EDSS_post_10_years', 'oligoclonal_band', 'lymph_cells',\n",
              "       'PMN_cells', 'cells_total', 'MRI_lesion_mass', 'MRI_date',\n",
              "       'treatment_when_sample_was_taken', 'num_of_medicine_changed',\n",
              "       'relapse_rate_since_blood_sample', 'NEG', 'positive_OCB', 'F',\n",
              "       'Male', 'diagnosis_RRMS', 'SPMS', 'med_IFN', 'OTHER_TREATMENT',\n",
              "       'med_TYSABRI', 'UNTREATED'], dtype=object)"
            ]
          },
          "metadata": {
            "tags": []
          },
          "execution_count": 21
        }
      ]
    },
    {
      "cell_type": "markdown",
      "metadata": {
        "id": "Faxl1El1BRD6"
      },
      "source": [
        "# Running all experiments"
      ]
    },
    {
      "cell_type": "code",
      "metadata": {
        "colab": {
          "base_uri": "https://localhost:8080/",
          "height": 1000
        },
        "id": "r9K70FVkWJx6",
        "outputId": "fe350de4-e2ef-4541-eb15-8e8d33f41722"
      },
      "source": [
        "df_experiments = pd.DataFrame(columns=['Model','Removed Features','Specificity', 'Sensitivity', 'RMSE']) \n",
        "\n",
        "df_experiments = experiments_RF_LR(df_nitzan_with_primary_edss,ALL_FEATURES, ALL_FEATURES_STR,df_experiments)\n",
        "#REMOVE ONE FEATURE\n",
        "df_experiments = experiments_RF_LR(df_nitzan_with_primary_edss,NO_TIGIT, NO_TIGIT_STR,df_experiments)\n",
        "df_experiments = experiments_RF_LR(df_nitzan_with_primary_edss ,NO_LAG3, NO_LAG3_STR,df_experiments)\n",
        "df_experiments = experiments_RF_LR(df_nitzan_with_primary_edss,NO_TOTAL_CELLS, NO_TOTAL_CELLS_STR,df_experiments)\n",
        "df_experiments = experiments_RF_LR(df_nitzan_with_primary_edss,NO_AGE, NO_AGE_STR,df_experiments)\n",
        "df_experiments = experiments_RF_LR(df_nitzan_with_primary_edss,NO_OCB, NO_OCB_STR,df_experiments)\n",
        "df_experiments = experiments_RF_LR(df_nitzan_with_primary_edss,NO_MRI_LESION, NO_MRI_LESION_STR,df_experiments)\n",
        "df_experiments = experiments_RF_LR(df_nitzan_with_primary_edss,NO_GENDER, NO_GENDER_STR,df_experiments)\n",
        "df_experiments = experiments_RF_LR(df_nitzan_with_primary_edss,NO_EDSS_AT_DIAGNOSIS, NO_EDSS_AT_DIAGNOSIS_STR,df_experiments)\n",
        "df_experiments = experiments_RF_LR(df_nitzan_with_primary_edss,NO_TIM3, NO_TIM3_STR,df_experiments)\n",
        "df_experiments = experiments_RF_LR(df_nitzan_with_primary_edss,NO_PRIMARY_EDSS_SAMPLE_DATE, NO_PRIMARY_EDSS_SAMPLE_DATE_STR,df_experiments)\n",
        "df_experiments = experiments_RF_LR(df_nitzan_with_primary_edss,NO_OTHER_TREATMENT, NO_OTHER_TREATMENT_STR,df_experiments)\n",
        "df_experiments = experiments_RF_LR(df_nitzan_with_primary_edss,NO_UNTREATED, NO_UNTREATED_STR,df_experiments)\n",
        "df_experiments = experiments_RF_LR(df_nitzan_with_primary_edss,NO_MED_IFN, NO_MED_IFN_STR,df_experiments)\n",
        "df_experiments = experiments_RF_LR(df_nitzan_with_primary_edss,NO_MED_TYSABRI, NO_MED_TYSABRI_STR,df_experiments)\n",
        "\n",
        "#REMOVE TWO FEATURES\n",
        "df_experiments = experiments_RF_LR(df_nitzan_with_primary_edss,NO_TIGIT_NO_LAG3, NO_TIGIT_NO_LAG3_STR,df_experiments)\n",
        "df_experiments = experiments_RF_LR(df_nitzan_with_primary_edss,NO_TIGIT_NO_TOTAL_CELLS, NO_TIGIT_NO_TOTAL_CELLS_STR,df_experiments)\n",
        "df_experiments = experiments_RF_LR(df_nitzan_with_primary_edss,NO_TIGIT_NO_AGE, NO_TIGIT_NO_AGE_STR,df_experiments)\n",
        "df_experiments = experiments_RF_LR(df_nitzan_with_primary_edss,NO_TIGIT_NO_OCB, NO_TIGIT_NO_OCB_STR,df_experiments)\n",
        "df_experiments = experiments_RF_LR(df_nitzan_with_primary_edss,NO_TIGIT_NO_MRI_LESION, NO_TIGIT_NO_MRI_LESION_STR,df_experiments)\n",
        "df_experiments = experiments_RF_LR(df_nitzan_with_primary_edss,NO_TIGIT_NO_TIM3, NO_TIGIT_NO_TIM3_STR,df_experiments)\n",
        "\n",
        "df_experiments = experiments_RF_LR(df_nitzan_with_primary_edss,NO_LAG3_NO_TOTAL_CELLS, NO_LAG3_NO_TOTAL_CELLS_STR,df_experiments)\n",
        "df_experiments = experiments_RF_LR(df_nitzan_with_primary_edss,NO_LAG3_NO_AGE, NO_LAG3_NO_AGE_STR,df_experiments)\n",
        "df_experiments = experiments_RF_LR(df_nitzan_with_primary_edss,NO_LAG3_NO_OCB, NO_LAG3_NO_OCB_STR,df_experiments)\n",
        "df_experiments = experiments_RF_LR(df_nitzan_with_primary_edss,NO_LAG3_NO_MRI_LESION, NO_LAG3_NO_MRI_LESION_STR,df_experiments)\n",
        "\n",
        "df_experiments = experiments_RF_LR(df_nitzan_with_primary_edss,NO_TOTAL_CELLS_NO_AGE, NO_TOTAL_CELLS_NO_AGE_STR,df_experiments)\n",
        "df_experiments = experiments_RF_LR(df_nitzan_with_primary_edss,NO_TOTAL_CELLS_NO_PRIMARY_EDSS, NO_TOTAL_CELLS_NO_PRIMARY_EDSS_STR,df_experiments)\n",
        "df_experiments = experiments_RF_LR(df_nitzan_with_primary_edss,NO_TOTAL_CELLS_NO_OCB, NO_TOTAL_CELLS_NO_OCB_STR,df_experiments)\n",
        "df_experiments = experiments_RF_LR(df_nitzan_with_primary_edss,NO_TOTAL_CELLS_NO_MRI_LESION, NO_TOTAL_CELLS_NO_MRI_LESION_STR,df_experiments)\n",
        "\n",
        "#REMOVE THREE FEATURES\n",
        "df_experiments = experiments_RF_LR(df_nitzan_with_primary_edss,NO_TIGIT_NO_LAG3_NO_TOTAL_CELLS, NO_TIGIT_NO_LAG3_NO_TOTAL_CELLS_STR,df_experiments)\n",
        "df_experiments = experiments_RF_LR(df_nitzan_with_primary_edss,NO_TIM3_NO_LAG3_NO_TOTAL_CELLS, NO_TIM3_NO_LAG3_NO_TOTAL_CELLS_STR,df_experiments)\n",
        "\n",
        "#REMOVE FOUR FEATURES\n",
        "df_experiments = experiments_RF_LR(df_nitzan_with_primary_edss,NO_TIGIT_NO_TIM3_NO_TOTAL_CELLS_NO_AGE, NO_TIGIT_NO_TIM3_NO_TOTAL_CELLS_NO_AGE_STR,df_experiments)\n",
        "\n",
        "\n",
        "\n",
        "df_experiments.to_excel('/content/gdrive/MyDrive/Colab Notebooks/experiments_excels/df_rmse_Nitzan_all_patients_primary_edss_5_years.xlsx',index=False)\n",
        "df_experiments\n",
        "\n"
      ],
      "execution_count": 22,
      "outputs": [
        {
          "output_type": "execute_result",
          "data": {
            "text/html": [
              "<div>\n",
              "<style scoped>\n",
              "    .dataframe tbody tr th:only-of-type {\n",
              "        vertical-align: middle;\n",
              "    }\n",
              "\n",
              "    .dataframe tbody tr th {\n",
              "        vertical-align: top;\n",
              "    }\n",
              "\n",
              "    .dataframe thead th {\n",
              "        text-align: right;\n",
              "    }\n",
              "</style>\n",
              "<table border=\"1\" class=\"dataframe\">\n",
              "  <thead>\n",
              "    <tr style=\"text-align: right;\">\n",
              "      <th></th>\n",
              "      <th>Model</th>\n",
              "      <th>Removed Features</th>\n",
              "      <th>Specificity</th>\n",
              "      <th>Sensitivity</th>\n",
              "      <th>RMSE</th>\n",
              "    </tr>\n",
              "  </thead>\n",
              "  <tbody>\n",
              "    <tr>\n",
              "      <th>0</th>\n",
              "      <td>Random Forest Regressor</td>\n",
              "      <td>ALL FEATURES</td>\n",
              "      <td></td>\n",
              "      <td></td>\n",
              "      <td>0.914912</td>\n",
              "    </tr>\n",
              "    <tr>\n",
              "      <th>1</th>\n",
              "      <td>Random Forest Regressor</td>\n",
              "      <td>NO TIGIT</td>\n",
              "      <td></td>\n",
              "      <td></td>\n",
              "      <td>0.885965</td>\n",
              "    </tr>\n",
              "    <tr>\n",
              "      <th>2</th>\n",
              "      <td>Random Forest Regressor</td>\n",
              "      <td>NO LAG3</td>\n",
              "      <td></td>\n",
              "      <td></td>\n",
              "      <td>0.920175</td>\n",
              "    </tr>\n",
              "    <tr>\n",
              "      <th>3</th>\n",
              "      <td>Random Forest Regressor</td>\n",
              "      <td>NO LYMPH CELLS</td>\n",
              "      <td></td>\n",
              "      <td></td>\n",
              "      <td>0.909649</td>\n",
              "    </tr>\n",
              "    <tr>\n",
              "      <th>4</th>\n",
              "      <td>Random Forest Regressor</td>\n",
              "      <td>NO AGE</td>\n",
              "      <td></td>\n",
              "      <td></td>\n",
              "      <td>0.891228</td>\n",
              "    </tr>\n",
              "    <tr>\n",
              "      <th>5</th>\n",
              "      <td>Random Forest Regressor</td>\n",
              "      <td>NO OCB</td>\n",
              "      <td></td>\n",
              "      <td></td>\n",
              "      <td>0.991228</td>\n",
              "    </tr>\n",
              "    <tr>\n",
              "      <th>6</th>\n",
              "      <td>Random Forest Regressor</td>\n",
              "      <td>NO MRI LESION</td>\n",
              "      <td></td>\n",
              "      <td></td>\n",
              "      <td>0.891228</td>\n",
              "    </tr>\n",
              "    <tr>\n",
              "      <th>7</th>\n",
              "      <td>Random Forest Regressor</td>\n",
              "      <td>NO GENDER</td>\n",
              "      <td></td>\n",
              "      <td></td>\n",
              "      <td>0.929825</td>\n",
              "    </tr>\n",
              "    <tr>\n",
              "      <th>8</th>\n",
              "      <td>Random Forest Regressor</td>\n",
              "      <td>NO EDSS AT DIAGNOSIS</td>\n",
              "      <td></td>\n",
              "      <td></td>\n",
              "      <td>0.931579</td>\n",
              "    </tr>\n",
              "    <tr>\n",
              "      <th>9</th>\n",
              "      <td>Random Forest Regressor</td>\n",
              "      <td>NO TIM3</td>\n",
              "      <td></td>\n",
              "      <td></td>\n",
              "      <td>0.923684</td>\n",
              "    </tr>\n",
              "    <tr>\n",
              "      <th>10</th>\n",
              "      <td>Random Forest Regressor</td>\n",
              "      <td>NO_PRIMARY_EDSS_SAMPLE_DATE</td>\n",
              "      <td></td>\n",
              "      <td></td>\n",
              "      <td>0.914912</td>\n",
              "    </tr>\n",
              "    <tr>\n",
              "      <th>11</th>\n",
              "      <td>Random Forest Regressor</td>\n",
              "      <td>NO_OTHER_TREATMENT</td>\n",
              "      <td></td>\n",
              "      <td></td>\n",
              "      <td>0.894737</td>\n",
              "    </tr>\n",
              "    <tr>\n",
              "      <th>12</th>\n",
              "      <td>Random Forest Regressor</td>\n",
              "      <td>NO_UNTREATED</td>\n",
              "      <td></td>\n",
              "      <td></td>\n",
              "      <td>0.944737</td>\n",
              "    </tr>\n",
              "    <tr>\n",
              "      <th>13</th>\n",
              "      <td>Random Forest Regressor</td>\n",
              "      <td>NO_MED_IFN</td>\n",
              "      <td></td>\n",
              "      <td></td>\n",
              "      <td>0.939474</td>\n",
              "    </tr>\n",
              "    <tr>\n",
              "      <th>14</th>\n",
              "      <td>Random Forest Regressor</td>\n",
              "      <td>NO_MED_TYSABRI</td>\n",
              "      <td></td>\n",
              "      <td></td>\n",
              "      <td>0.910526</td>\n",
              "    </tr>\n",
              "    <tr>\n",
              "      <th>15</th>\n",
              "      <td>Random Forest Regressor</td>\n",
              "      <td>NO TIGIT, LAG3</td>\n",
              "      <td></td>\n",
              "      <td></td>\n",
              "      <td>0.908772</td>\n",
              "    </tr>\n",
              "    <tr>\n",
              "      <th>16</th>\n",
              "      <td>Random Forest Regressor</td>\n",
              "      <td>NO TIGIT, TOTAL CELLS</td>\n",
              "      <td></td>\n",
              "      <td></td>\n",
              "      <td>0.919298</td>\n",
              "    </tr>\n",
              "    <tr>\n",
              "      <th>17</th>\n",
              "      <td>Random Forest Regressor</td>\n",
              "      <td>NO TIGIT, AGE</td>\n",
              "      <td></td>\n",
              "      <td></td>\n",
              "      <td>0.916667</td>\n",
              "    </tr>\n",
              "    <tr>\n",
              "      <th>18</th>\n",
              "      <td>Random Forest Regressor</td>\n",
              "      <td>NO TIGIT, OCB</td>\n",
              "      <td></td>\n",
              "      <td></td>\n",
              "      <td>0.914912</td>\n",
              "    </tr>\n",
              "    <tr>\n",
              "      <th>19</th>\n",
              "      <td>Random Forest Regressor</td>\n",
              "      <td>NO TIGIT, MRI LESION</td>\n",
              "      <td></td>\n",
              "      <td></td>\n",
              "      <td>0.914912</td>\n",
              "    </tr>\n",
              "    <tr>\n",
              "      <th>20</th>\n",
              "      <td>Random Forest Regressor</td>\n",
              "      <td>NO_TIGIT_NO_TIM3</td>\n",
              "      <td></td>\n",
              "      <td></td>\n",
              "      <td>0.930702</td>\n",
              "    </tr>\n",
              "    <tr>\n",
              "      <th>21</th>\n",
              "      <td>Random Forest Regressor</td>\n",
              "      <td>NO LAG3, TOTAL CELLS</td>\n",
              "      <td></td>\n",
              "      <td></td>\n",
              "      <td>0.932456</td>\n",
              "    </tr>\n",
              "    <tr>\n",
              "      <th>22</th>\n",
              "      <td>Random Forest Regressor</td>\n",
              "      <td>NO_LAG3, AGE</td>\n",
              "      <td></td>\n",
              "      <td></td>\n",
              "      <td>0.898246</td>\n",
              "    </tr>\n",
              "    <tr>\n",
              "      <th>23</th>\n",
              "      <td>Random Forest Regressor</td>\n",
              "      <td>NO_LAG3, OCB</td>\n",
              "      <td></td>\n",
              "      <td></td>\n",
              "      <td>0.946491</td>\n",
              "    </tr>\n",
              "    <tr>\n",
              "      <th>24</th>\n",
              "      <td>Random Forest Regressor</td>\n",
              "      <td>NO_LAG3, MRI_LESION</td>\n",
              "      <td></td>\n",
              "      <td></td>\n",
              "      <td>0.926316</td>\n",
              "    </tr>\n",
              "    <tr>\n",
              "      <th>25</th>\n",
              "      <td>Random Forest Regressor</td>\n",
              "      <td>NO TOTAL CELLS, AGE</td>\n",
              "      <td></td>\n",
              "      <td></td>\n",
              "      <td>0.851754</td>\n",
              "    </tr>\n",
              "    <tr>\n",
              "      <th>26</th>\n",
              "      <td>Random Forest Regressor</td>\n",
              "      <td>NO TOTAL CELLS, PRIMARY EDSS</td>\n",
              "      <td></td>\n",
              "      <td></td>\n",
              "      <td>0.928947</td>\n",
              "    </tr>\n",
              "    <tr>\n",
              "      <th>27</th>\n",
              "      <td>Random Forest Regressor</td>\n",
              "      <td>NO TOTAL CELLS, OCB</td>\n",
              "      <td></td>\n",
              "      <td></td>\n",
              "      <td>0.914912</td>\n",
              "    </tr>\n",
              "    <tr>\n",
              "      <th>28</th>\n",
              "      <td>Random Forest Regressor</td>\n",
              "      <td>NO TOTAL CELLS, MRI LESION</td>\n",
              "      <td></td>\n",
              "      <td></td>\n",
              "      <td>0.950000</td>\n",
              "    </tr>\n",
              "    <tr>\n",
              "      <th>29</th>\n",
              "      <td>Random Forest Regressor</td>\n",
              "      <td>NO TIGIT, LAG3, TOTAL CELLS</td>\n",
              "      <td></td>\n",
              "      <td></td>\n",
              "      <td>0.920175</td>\n",
              "    </tr>\n",
              "    <tr>\n",
              "      <th>30</th>\n",
              "      <td>Random Forest Regressor</td>\n",
              "      <td>NO TIM3, LAG3, TOTAL CELLS</td>\n",
              "      <td></td>\n",
              "      <td></td>\n",
              "      <td>0.901754</td>\n",
              "    </tr>\n",
              "    <tr>\n",
              "      <th>31</th>\n",
              "      <td>Random Forest Regressor</td>\n",
              "      <td>NO_TIGIT, TIM3, TOTAL CELLS, AGE</td>\n",
              "      <td></td>\n",
              "      <td></td>\n",
              "      <td>0.865789</td>\n",
              "    </tr>\n",
              "  </tbody>\n",
              "</table>\n",
              "</div>"
            ],
            "text/plain": [
              "                      Model                  Removed Features Specificity  \\\n",
              "0   Random Forest Regressor                      ALL FEATURES               \n",
              "1   Random Forest Regressor                          NO TIGIT               \n",
              "2   Random Forest Regressor                           NO LAG3               \n",
              "3   Random Forest Regressor                    NO LYMPH CELLS               \n",
              "4   Random Forest Regressor                            NO AGE               \n",
              "5   Random Forest Regressor                            NO OCB               \n",
              "6   Random Forest Regressor                     NO MRI LESION               \n",
              "7   Random Forest Regressor                         NO GENDER               \n",
              "8   Random Forest Regressor              NO EDSS AT DIAGNOSIS               \n",
              "9   Random Forest Regressor                           NO TIM3               \n",
              "10  Random Forest Regressor       NO_PRIMARY_EDSS_SAMPLE_DATE               \n",
              "11  Random Forest Regressor                NO_OTHER_TREATMENT               \n",
              "12  Random Forest Regressor                      NO_UNTREATED               \n",
              "13  Random Forest Regressor                        NO_MED_IFN               \n",
              "14  Random Forest Regressor                    NO_MED_TYSABRI               \n",
              "15  Random Forest Regressor                    NO TIGIT, LAG3               \n",
              "16  Random Forest Regressor             NO TIGIT, TOTAL CELLS               \n",
              "17  Random Forest Regressor                     NO TIGIT, AGE               \n",
              "18  Random Forest Regressor                     NO TIGIT, OCB               \n",
              "19  Random Forest Regressor              NO TIGIT, MRI LESION               \n",
              "20  Random Forest Regressor                  NO_TIGIT_NO_TIM3               \n",
              "21  Random Forest Regressor              NO LAG3, TOTAL CELLS               \n",
              "22  Random Forest Regressor                      NO_LAG3, AGE               \n",
              "23  Random Forest Regressor                      NO_LAG3, OCB               \n",
              "24  Random Forest Regressor               NO_LAG3, MRI_LESION               \n",
              "25  Random Forest Regressor               NO TOTAL CELLS, AGE               \n",
              "26  Random Forest Regressor      NO TOTAL CELLS, PRIMARY EDSS               \n",
              "27  Random Forest Regressor               NO TOTAL CELLS, OCB               \n",
              "28  Random Forest Regressor        NO TOTAL CELLS, MRI LESION               \n",
              "29  Random Forest Regressor       NO TIGIT, LAG3, TOTAL CELLS               \n",
              "30  Random Forest Regressor        NO TIM3, LAG3, TOTAL CELLS               \n",
              "31  Random Forest Regressor  NO_TIGIT, TIM3, TOTAL CELLS, AGE               \n",
              "\n",
              "   Sensitivity      RMSE  \n",
              "0               0.914912  \n",
              "1               0.885965  \n",
              "2               0.920175  \n",
              "3               0.909649  \n",
              "4               0.891228  \n",
              "5               0.991228  \n",
              "6               0.891228  \n",
              "7               0.929825  \n",
              "8               0.931579  \n",
              "9               0.923684  \n",
              "10              0.914912  \n",
              "11              0.894737  \n",
              "12              0.944737  \n",
              "13              0.939474  \n",
              "14              0.910526  \n",
              "15              0.908772  \n",
              "16              0.919298  \n",
              "17              0.916667  \n",
              "18              0.914912  \n",
              "19              0.914912  \n",
              "20              0.930702  \n",
              "21              0.932456  \n",
              "22              0.898246  \n",
              "23              0.946491  \n",
              "24              0.926316  \n",
              "25              0.851754  \n",
              "26              0.928947  \n",
              "27              0.914912  \n",
              "28              0.950000  \n",
              "29              0.920175  \n",
              "30              0.901754  \n",
              "31              0.865789  "
            ]
          },
          "metadata": {
            "tags": []
          },
          "execution_count": 22
        }
      ]
    }
  ]
}