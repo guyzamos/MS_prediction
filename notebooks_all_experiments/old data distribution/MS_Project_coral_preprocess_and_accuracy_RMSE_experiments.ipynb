{
  "nbformat": 4,
  "nbformat_minor": 0,
  "metadata": {
    "colab": {
      "name": "MS Project coral preprocess and accuracy RMSE experiments.ipynb",
      "provenance": [],
      "collapsed_sections": []
    },
    "kernelspec": {
      "name": "python3",
      "display_name": "Python 3"
    }
  },
  "cells": [
    {
      "cell_type": "markdown",
      "metadata": {
        "id": "_5Pq5ZvzxYrn"
      },
      "source": [
        "import all the relevant libraries"
      ]
    },
    {
      "cell_type": "code",
      "metadata": {
        "id": "u1FnIRuZxZMg"
      },
      "source": [
        "import pandas as pd\n",
        "import numpy as np\n",
        "import matplotlib.pyplot as plt\n",
        "import statistics as stats\n",
        "import io\n",
        "from sklearn.metrics import mean_squared_error\n",
        "from math import sqrt\n",
        "from sklearn.preprocessing import LabelEncoder\n",
        "from sklearn.model_selection import KFold\n",
        "from sklearn.ensemble import RandomForestRegressor\n",
        "from sklearn.ensemble import RandomForestClassifier\n",
        "from sklearn.linear_model import LogisticRegression\n",
        "from sklearn import metrics\n",
        "import torch\n",
        "from sklearn.model_selection import train_test_split\n",
        "from sklearn.metrics import confusion_matrix\n"
      ],
      "execution_count": null,
      "outputs": []
    },
    {
      "cell_type": "markdown",
      "metadata": {
        "id": "5D8jZ06kxrJI"
      },
      "source": [
        "upload the db file"
      ]
    },
    {
      "cell_type": "code",
      "metadata": {
        "id": "c4BLFrqSxuOI",
        "colab": {
          "base_uri": "https://localhost:8080/"
        },
        "outputId": "35572d1f-6744-4a79-bc56-db5258960c37"
      },
      "source": [
        "from google.colab import drive \n",
        "drive.mount('/content/gdrive')"
      ],
      "execution_count": null,
      "outputs": [
        {
          "output_type": "stream",
          "text": [
            "Mounted at /content/gdrive\n"
          ],
          "name": "stdout"
        }
      ]
    },
    {
      "cell_type": "markdown",
      "metadata": {
        "id": "L0yo_SQNZKME"
      },
      "source": [
        "read the file and create data frame"
      ]
    },
    {
      "cell_type": "code",
      "metadata": {
        "id": "bJRTzEg14lcM"
      },
      "source": [
        "df=pd.read_excel(\"/content/gdrive/My Drive/Colab Notebooks/MS_Notebooks/MS_data_SecondDB_Colab.xlsx\", header=None, skiprows=1, names=['sample_code','gender','age_at_diagnosis', 'diagnosis', 'diagnosis_status', 'primary_EDSS_at_diagnosis', 'num_of_medicine_changed', 'MRI_lesion_mass', 'oligoclonal_band', 'TIGIT_RQ','TIM3_RQ', 'LAG3_RQ','PD-1_RQ', 'RQ CTLA-4','1_years_EDSS_from_sample_date', '3_years_from_sample', '5_years_from_sample', 'EDSS_post_10_years'  ])\n",
        "# remove empty rows\n",
        "df = df.dropna(how='all')\n",
        "# Print the first 10 rows of the data set\n",
        "print(df.head(10))\n",
        "# Get summary of numerical variables\n",
        "print(df.describe())"
      ],
      "execution_count": null,
      "outputs": []
    },
    {
      "cell_type": "code",
      "metadata": {
        "id": "Z7ULIxnGBZeO"
      },
      "source": [
        "pd.set_option('display.max_columns', None)\n",
        "pd.set_option('display.max_rows', None)"
      ],
      "execution_count": null,
      "outputs": []
    },
    {
      "cell_type": "markdown",
      "metadata": {
        "id": "z2lGUkzqMq2f"
      },
      "source": [
        "remove white space before and after the word:"
      ]
    },
    {
      "cell_type": "code",
      "metadata": {
        "id": "2CmM1lNQMthk"
      },
      "source": [
        "df = df.applymap(lambda x: x.strip() if type(x)==str else x)"
      ],
      "execution_count": null,
      "outputs": []
    },
    {
      "cell_type": "markdown",
      "metadata": {
        "id": "GOyI10N7ZMJX"
      },
      "source": [
        "Fix string values to upperCase"
      ]
    },
    {
      "cell_type": "code",
      "metadata": {
        "id": "O1eKGol1ZRwO"
      },
      "source": [
        "df['gender'] = df['gender'].str.upper()\n",
        "df['diagnosis'] = df['diagnosis'].str.upper()\n",
        "df['oligoclonal_band'] = df['oligoclonal_band'].str.upper()\n",
        "df['diagnosis_status'] = df['diagnosis_status'].str.upper()"
      ],
      "execution_count": null,
      "outputs": []
    },
    {
      "cell_type": "markdown",
      "metadata": {
        "id": "cRJE-YmuIkLG"
      },
      "source": [
        "global variable for number of rows"
      ]
    },
    {
      "cell_type": "code",
      "metadata": {
        "id": "Mkp96wkOIeRu",
        "colab": {
          "base_uri": "https://localhost:8080/"
        },
        "outputId": "5026a107-ae3b-4b54-da24-9c6ee3c5f663"
      },
      "source": [
        "count_row = df.shape[0]\n",
        "count_row"
      ],
      "execution_count": null,
      "outputs": [
        {
          "output_type": "execute_result",
          "data": {
            "text/plain": [
              "57"
            ]
          },
          "metadata": {
            "tags": []
          },
          "execution_count": 7
        }
      ]
    },
    {
      "cell_type": "markdown",
      "metadata": {
        "id": "4-ROqdOVnrPk"
      },
      "source": [
        "Normalize the MRI cloumn"
      ]
    },
    {
      "cell_type": "code",
      "metadata": {
        "id": "dHnYPVZQn7UI"
      },
      "source": [
        "df"
      ],
      "execution_count": null,
      "outputs": []
    },
    {
      "cell_type": "code",
      "metadata": {
        "id": "NkJKZNu6n8dV"
      },
      "source": [
        "df['MRI_lesion_mass'] = df['MRI_lesion_mass']/1000"
      ],
      "execution_count": null,
      "outputs": []
    },
    {
      "cell_type": "code",
      "metadata": {
        "id": "Tc-RxmEYn9At"
      },
      "source": [
        "df"
      ],
      "execution_count": null,
      "outputs": []
    },
    {
      "cell_type": "markdown",
      "metadata": {
        "id": "mbTVDxlYpS-8"
      },
      "source": [
        "replace 'uk' and 'ND' to 'Nan'"
      ]
    },
    {
      "cell_type": "code",
      "metadata": {
        "id": "8M0ohKvUpWC9"
      },
      "source": [
        "df = df.replace({'UK': np.nan, 'uk': np.nan, 'ND': np.nan})"
      ],
      "execution_count": null,
      "outputs": []
    },
    {
      "cell_type": "code",
      "metadata": {
        "id": "4-42_X80MUUP"
      },
      "source": [
        "df.to_csv('dfNoUK.csv',index=False)"
      ],
      "execution_count": null,
      "outputs": []
    },
    {
      "cell_type": "code",
      "metadata": {
        "id": "zEoFl4fnCvOq",
        "colab": {
          "base_uri": "https://localhost:8080/",
          "height": 1000
        },
        "outputId": "6e2e59ca-2d1d-453f-dee9-6a3847ac03c0"
      },
      "source": [
        "import seaborn as sns\n",
        "sns.set_theme(style=\"ticks\", color_codes=True)\n",
        "sns.catplot(x=\"gender\", kind=\"count\", palette=\"ch:.25\", data=df)\n",
        "sns.catplot(y=\"age_at_diagnosis\", kind=\"count\", palette=\"ch:.25\", data=df)\n",
        "sns.catplot(x=\"diagnosis\", kind=\"count\", palette=\"ch:.25\", data=df)\n",
        "sns.catplot(x=\"diagnosis_status\", kind=\"count\", palette=\"ch:.25\", data=df)\n",
        "sns.catplot(x=\"oligoclonal_band\", kind=\"count\", palette=\"ch:.25\", data=df)\n",
        "\n",
        "\n",
        "# # df['sample_code'].fillna(stats.mode(df['diagnosis']), inplace=True)\n",
        "# df['gender'].fillna(stats.mode(df['gender']), inplace=True)\n",
        "# df['age_at_diagnosis'].fillna(stats.mode(df['age_at_diagnosis']), inplace=True)\n",
        "# df['diagnosis'].fillna(stats.mode(df['diagnosis']), inplace=True)\n",
        "# df['diagnosis_status'].fillna(stats.mode(df['diagnosis_status']), inplace=True)\n",
        "# df['oligoclonal_band'].fillna(stats.mode(df['oligoclonal_band']), inplace=True),\n",
        "\n",
        "\n"
      ],
      "execution_count": null,
      "outputs": [
        {
          "output_type": "execute_result",
          "data": {
            "text/plain": [
              "<seaborn.axisgrid.FacetGrid at 0x7f5515e90ed0>"
            ]
          },
          "metadata": {
            "tags": []
          },
          "execution_count": 13
        },
        {
          "output_type": "display_data",
          "data": {
            "image/png": "[encoded data removed]",
            "text/plain": [
              "<Figure size 360x360 with 1 Axes>"
            ]
          },
          "metadata": {
            "tags": []
          }
        },
        {
          "output_type": "display_data",
          "data": {
            "image/png": "[encoded data removed]",
            "text/plain": [
              "<Figure size 360x360 with 1 Axes>"
            ]
          },
          "metadata": {
            "tags": []
          }
        },
        {
          "output_type": "display_data",
          "data": {
            "image/png": "[encoded data removed]",
            "text/plain": [
              "<Figure size 360x360 with 1 Axes>"
            ]
          },
          "metadata": {
            "tags": []
          }
        },
        {
          "output_type": "display_data",
          "data": {
            "image/png": "[encoded data removed]",
            "text/plain": [
              "<Figure size 360x360 with 1 Axes>"
            ]
          },
          "metadata": {
            "tags": []
          }
        },
        {
          "output_type": "display_data",
          "data": {
            "image/png": "[encoded data removed]",
            "text/plain": [
              "<Figure size 360x360 with 1 Axes>"
            ]
          },
          "metadata": {
            "tags": []
          }
        }
      ]
    },
    {
      "cell_type": "code",
      "metadata": {
        "id": "lSpw7NImTOVI"
      },
      "source": [
        "df.to_excel('dfcheck.xlsx',index=False)"
      ],
      "execution_count": null,
      "outputs": []
    },
    {
      "cell_type": "code",
      "metadata": {
        "id": "niPMQX52RLZN",
        "colab": {
          "base_uri": "https://localhost:8080/"
        },
        "outputId": "6ecb3323-c0e0-4e56-82fd-a85d8f53e3c2"
      },
      "source": [
        "# # df['num_of_medicine_changed'].fillna(stats.median(df['num_of_medicine_changed']), inplace=True)\n",
        "# # df['MRI_lesion_mass'].fillna(stats.median(df['MRI_lesion_mass']), inplace=True)\n",
        "# df['primary_EDSS_at_diagnosis'].fillna(stats.median(df['primary_EDSS_at_diagnosis']), inplace=True)\n",
        "# df['TIM3_RQ'].fillna(stats.median(df['TIM3_RQ']), inplace=True)\n",
        "# df['TIGIT_RQ'].fillna(stats.median(df['TIGIT_RQ']), inplace=True)\n",
        "# df['LAG3_RQ'].fillna(stats.median(df['LAG3_RQ']), inplace=True)\n",
        "# df['RQ CTLA-4'].fillna(stats.median(df['RQ CTLA-4']), inplace=True)\n",
        "# df['1_years_EDSS_from_sample_date'].fillna(stats.median(df['1_years_EDSS_from_sample_date']), inplace=True)\n",
        "# df['3_years_from_sample'].fillna(stats.median(df['3_years_from_sample']), inplace=True)\n",
        "# df['5_years_from_sample'].fillna(stats.median(df['5_years_from_sample']), inplace=True)\n",
        "# # df['EDSS_post_10_years'].fillna(stats.median(df['EDSS_post_10_years']), inplace=True)\n",
        "\n",
        "\n",
        "print('num_of_medicine_changed')\n",
        "max_value = df['num_of_medicine_changed'].max() \n",
        "print(max_value)\n",
        "min_value = df['num_of_medicine_changed'].min() \n",
        "print(min_value)\n",
        "\n",
        "\n",
        "print('MRI_lesion_mass')\n",
        "max_value = df['MRI_lesion_mass'].max() \n",
        "print(max_value)\n",
        "min_value = df['MRI_lesion_mass'].min() \n",
        "print(min_value)\n",
        "\n",
        "\n",
        "print('primary_EDSS_at_diagnosis')\n",
        "max_value = df['primary_EDSS_at_diagnosis'].max() \n",
        "print(max_value)\n",
        "min_value = df['primary_EDSS_at_diagnosis'].min() \n",
        "print(min_value)\n",
        "\n",
        "print('TIM3_RQ')\n",
        "max_value = df['TIM3_RQ'].max() \n",
        "print(max_value)\n",
        "min_value = df['TIM3_RQ'].min() \n",
        "print(min_value)\n",
        "\n",
        "\n",
        "print('TIGIT_RQ')\n",
        "max_value = df['TIGIT_RQ'].max() \n",
        "print(max_value)\n",
        "min_value = df['TIGIT_RQ'].min() \n",
        "print(min_value)\n",
        "\n",
        "\n",
        "print('LAG3_RQ')\n",
        "max_value = df['LAG3_RQ'].max() \n",
        "print(max_value)\n",
        "min_value = df['LAG3_RQ'].min() \n",
        "print(min_value)\n",
        "\n",
        "\n",
        "print('RQ CTLA-4')\n",
        "max_value = df['PD-1_RQ'].max() \n",
        "print(max_value)\n",
        "min_value = df['PD-1_RQ'].min() \n",
        "print(min_value)\n",
        "\n",
        "\n",
        "print('1_years_EDSS_from_sample_date')\n",
        "max_value = df['1_years_EDSS_from_sample_date'].max() \n",
        "print(max_value)\n",
        "min_value = df['1_years_EDSS_from_sample_date'].min() \n",
        "print(min_value)\n",
        "\n",
        "\n",
        "\n",
        "print('3_years_from_sample')\n",
        "max_value = df['3_years_from_sample'].max() \n",
        "print(max_value)\n",
        "min_value = df['3_years_from_sample'].min() \n",
        "print(min_value)\n",
        "\n",
        "\n",
        "print('5_years_from_sample')\n",
        "max_value = df['5_years_from_sample'].max() \n",
        "print(max_value)\n",
        "min_value = df['5_years_from_sample'].min() \n",
        "print(min_value)\n",
        "\n",
        "\n",
        "print('EDSS_post_10_years')\n",
        "max_value = df['EDSS_post_10_years'].max() \n",
        "print(max_value)\n",
        "min_value = df['EDSS_post_10_years'].min() \n",
        "print(min_value)\n",
        "\n",
        "print('age_at_diagnosis')\n",
        "max_value = df['age_at_diagnosis'].max() \n",
        "print(max_value)\n",
        "min_value = df['age_at_diagnosis'].min() \n",
        "print(min_value)\n"
      ],
      "execution_count": null,
      "outputs": [
        {
          "output_type": "stream",
          "text": [
            "num_of_medicine_changed\n",
            "5.0\n",
            "0.0\n",
            "MRI_lesion_mass\n",
            "104.776\n",
            "0.144\n",
            "primary_EDSS_at_diagnosis\n",
            "4.5\n",
            "0.0\n",
            "TIM3_RQ\n",
            "4.498309339\n",
            "0.263163022\n",
            "TIGIT_RQ\n",
            "2.963221522\n",
            "0.110563781\n",
            "LAG3_RQ\n",
            "6.850679064\n",
            "0.408769115\n",
            "RQ CTLA-4\n",
            "8.080632341\n",
            "0.169982927\n",
            "1_years_EDSS_from_sample_date\n",
            "5.5\n",
            "0.0\n",
            "3_years_from_sample\n",
            "7.0\n",
            "0.0\n",
            "5_years_from_sample\n",
            "7.5\n",
            "0.0\n",
            "EDSS_post_10_years\n",
            "7.5\n",
            "0.0\n",
            "age_at_diagnosis\n",
            "55.0\n",
            "19.0\n"
          ],
          "name": "stdout"
        }
      ]
    },
    {
      "cell_type": "code",
      "metadata": {
        "id": "bTqCBtpPC0US",
        "colab": {
          "base_uri": "https://localhost:8080/",
          "height": 1000
        },
        "outputId": "71fa2411-8a41-4bca-b1b0-31cce6a36e2e"
      },
      "source": [
        "# # df['num_of_medicine_changed'].fillna(stats.median(df['num_of_medicine_changed']), inplace=True)\n",
        "# # df['MRI_lesion_mass'].fillna(stats.median(df['MRI_lesion_mass']), inplace=True)\n",
        "# df['primary_EDSS_at_diagnosis'].fillna(stats.median(df['primary_EDSS_at_diagnosis']), inplace=True)\n",
        "# df['TIM3_RQ'].fillna(stats.median(df['TIM3_RQ']), inplace=True)\n",
        "# df['TIGIT_RQ'].fillna(stats.median(df['TIGIT_RQ']), inplace=True)\n",
        "# df['LAG3_RQ'].fillna(stats.median(df['LAG3_RQ']), inplace=True)\n",
        "# df['RQ CTLA-4'].fillna(stats.median(df['RQ CTLA-4']), inplace=True)\n",
        "# df['1_years_EDSS_from_sample_date'].fillna(stats.median(df['1_years_EDSS_from_sample_date']), inplace=True)\n",
        "# df['3_years_from_sample'].fillna(stats.median(df['3_years_from_sample']), inplace=True)\n",
        "# df['5_years_from_sample'].fillna(stats.median(df['5_years_from_sample']), inplace=True)\n",
        "# # df['EDSS_post_10_years'].fillna(stats.median(df['EDSS_post_10_years']), inplace=True)\n",
        "\n",
        "\n",
        "\n",
        "degrees = df['num_of_medicine_changed']\n",
        "plt.hist(degrees, bins=[0, 1, 2, 3, 4, 5 ])\n",
        "# plt.title('num_of_medicine_changed')\n",
        "plt.xlabel('num_of_medicine_changed')\n",
        "plt.ylabel('number of patients')\n",
        "plt.show()\n",
        "\n",
        "\n",
        "degrees = df['MRI_lesion_mass']\n",
        "plt.hist(degrees)\n",
        "# plt.title('MRI_lesion_mass')\n",
        "plt.xlabel('MRI_lesion_mass')\n",
        "plt.ylabel('number of patients')\n",
        "plt.show()\n",
        "\n",
        "\n",
        "degrees = df['primary_EDSS_at_diagnosis']\n",
        "plt.hist(degrees, bins=[0, 0.5, 1, 1.5, 2, 2.5, 3, 3.5, 4, 4.5])\n",
        "# plt.title('primary_EDSS_at_diagnosis')\n",
        "plt.xlabel('primary_EDSS_at_diagnosis')\n",
        "plt.ylabel('number of patients')\n",
        "plt.show()\n",
        "\n",
        "\n",
        "degrees = df['TIM3_RQ']\n",
        "plt.hist(degrees, bins=[0, 0.25, 0.5, 0.75, 1, 1.25, 1.5, 1.75, 2, 2.25, 2.5, 2.75, 3, 3.25, 3.5, 3.75, 4, 4.25, 4.5, 4.75, 5])\n",
        "# plt.title('TIM3_RQ')\n",
        "plt.xlabel('TIM3_RQ')\n",
        "plt.ylabel('number of patients')\n",
        "plt.show()\n",
        "\n",
        "\n",
        "degrees = df['TIGIT_RQ']\n",
        "plt.hist(degrees, bins=[0, 0.25, 0.5, 0.75, 1, 1.25, 1.5, 1.75, 2, 2.25, 2.5, 2.75, 3])\n",
        "# plt.title('TIGIT_RQ')\n",
        "plt.xlabel('TIGIT_RQ')\n",
        "plt.ylabel('number of patients')\n",
        "plt.show()\n",
        "\n",
        "\n",
        "degrees = df['LAG3_RQ']\n",
        "plt.hist(degrees, bins=[0, 0.25, 0.5, 0.75, 1, 1.25, 1.5, 1.75, 2, 2.25, 2.5, 2.75, 3, 3.25, 3.5, 3.75, 4, 4.25, 4.5, 4.75, 5, 5.25, 5.5, 5.75, 6, 6.25, 6.5, 6.75, 7])\n",
        "# plt.title('LAG3_RQ')\n",
        "plt.xlabel('LAG3_RQ')\n",
        "plt.ylabel('number of patients')\n",
        "plt.show()\n",
        "\n",
        "\n",
        "\n",
        "degrees = df['RQ CTLA-4']\n",
        "plt.hist(degrees, bins=[0, 0.5, 1, 1.5, 2, 2.5, 3, 3.5, 4, 4.5, 5, 5.5, 6, 6.5, 7, 7.5, 8, 8.5])\n",
        "# plt.title('RQ CTLA-4')\n",
        "plt.xlabel('RQ CTLA-4')\n",
        "plt.ylabel('number of patients')\n",
        "plt.show()\n",
        "\n",
        "\n",
        "\n",
        "degrees = df['1_years_EDSS_from_sample_date']\n",
        "plt.hist(degrees, bins=[0, 0.5, 1, 1.5, 2, 2.5, 3, 3.5, 4, 4.5, 5, 5.5])\n",
        "# plt.title('1_years_EDSS_from_sample_date')\n",
        "plt.xlabel('1_years_EDSS_from_sample_date')\n",
        "plt.ylabel('number of patients')\n",
        "plt.show()\n",
        "\n",
        "\n",
        "degrees = df['3_years_from_sample']\n",
        "plt.hist(degrees, bins=[0, 0.5, 1, 1.5, 2, 2.5, 3, 3.5, 4, 4.5, 5, 5.5, 6, 6.5, 7])\n",
        "# plt.title('1_years_EDSS_from_sample_date')\n",
        "plt.xlabel('1_years_EDSS_from_sample_date')\n",
        "plt.ylabel('number of patients')\n",
        "plt.show()\n",
        "\n",
        "\n",
        "\n",
        "degrees = df['5_years_from_sample']\n",
        "plt.hist(degrees, bins=[0, 0.5, 1, 1.5, 2, 2.5, 3, 3.5, 4, 4.5, 5, 5.5, 6, 6.5, 7, 7.5])\n",
        "# plt.title('5_years_from_sample')\n",
        "plt.xlabel('5_years_from_sample')\n",
        "plt.ylabel('number of patients')\n",
        "plt.show()\n",
        "\n",
        "\n",
        "degrees = df['EDSS_post_10_years']\n",
        "plt.hist(degrees, bins=[0, 0.5, 1, 1.5, 2, 2.5, 3, 3.5, 4, 4.5, 5, 5.5, 6, 6.5, 7, 7.5])\n",
        "# plt.title('EDSS_post_10_years')\n",
        "plt.xlabel('EDSS_post_10_years')\n",
        "plt.ylabel('number of patients')\n",
        "plt.show()\n",
        "\n",
        "degrees = df['age_at_diagnosis']\n",
        "plt.hist(degrees, bins=[15,20,25,30,35,40,45,50,55])\n",
        "# plt.title('age')\n",
        "plt.xlabel('age_at_diagnosis')\n",
        "plt.ylabel('number of patients')\n",
        "plt.show()"
      ],
      "execution_count": null,
      "outputs": [
        {
          "output_type": "display_data",
          "data": {
            "image/png": "[encoded data removed]",
            "text/plain": [
              "<Figure size 432x288 with 1 Axes>"
            ]
          },
          "metadata": {
            "tags": []
          }
        },
        {
          "output_type": "display_data",
          "data": {
            "image/png": "[encoded data removed]",
            "text/plain": [
              "<Figure size 432x288 with 1 Axes>"
            ]
          },
          "metadata": {
            "tags": []
          }
        },
        {
          "output_type": "display_data",
          "data": {
            "image/png": "[encoded data removed]",
            "text/plain": [
              "<Figure size 432x288 with 1 Axes>"
            ]
          },
          "metadata": {
            "tags": []
          }
        },
        {
          "output_type": "display_data",
          "data": {
            "image/png": "[encoded data removed]",
            "text/plain": [
              "<Figure size 432x288 with 1 Axes>"
            ]
          },
          "metadata": {
            "tags": []
          }
        },
        {
          "output_type": "display_data",
          "data": {
            "image/png": "[encoded data removed]",
            "text/plain": [
              "<Figure size 432x288 with 1 Axes>"
            ]
          },
          "metadata": {
            "tags": []
          }
        },
        {
          "output_type": "display_data",
          "data": {
            "image/png": "[encoded data removed]",
            "text/plain": [
              "<Figure size 432x288 with 1 Axes>"
            ]
          },
          "metadata": {
            "tags": []
          }
        },
        {
          "output_type": "display_data",
          "data": {
            "image/png": "[encoded data removed]",
            "text/plain": [
              "<Figure size 432x288 with 1 Axes>"
            ]
          },
          "metadata": {
            "tags": []
          }
        },
        {
          "output_type": "display_data",
          "data": {
            "image/png": "[encoded data removed]",
            "text/plain": [
              "<Figure size 432x288 with 1 Axes>"
            ]
          },
          "metadata": {
            "tags": []
          }
        },
        {
          "output_type": "display_data",
          "data": {
            "image/png": "[encoded data removed]",
            "text/plain": [
              "<Figure size 432x288 with 1 Axes>"
            ]
          },
          "metadata": {
            "tags": []
          }
        },
        {
          "output_type": "display_data",
          "data": {
            "image/png": "[encoded data removed]",
            "text/plain": [
              "<Figure size 432x288 with 1 Axes>"
            ]
          },
          "metadata": {
            "tags": []
          }
        },
        {
          "output_type": "display_data",
          "data": {
            "image/png": "[encoded data removed]",
            "text/plain": [
              "<Figure size 432x288 with 1 Axes>"
            ]
          },
          "metadata": {
            "tags": []
          }
        },
        {
          "output_type": "display_data",
          "data": {
            "image/png": "[encoded data removed]",
            "text/plain": [
              "<Figure size 432x288 with 1 Axes>"
            ]
          },
          "metadata": {
            "tags": []
          }
        }
      ]
    },
    {
      "cell_type": "markdown",
      "metadata": {
        "id": "609PGQThZdxy"
      },
      "source": [
        "Looking at the percentage of missing \n",
        "values per column"
      ]
    },
    {
      "cell_type": "code",
      "metadata": {
        "id": "kZFwaYYHZg_d",
        "colab": {
          "base_uri": "https://localhost:8080/",
          "height": 588
        },
        "outputId": "3ef3c940-de84-4f67-96e6-19f24106b41e"
      },
      "source": [
        "missing_data = pd.DataFrame({'total_missing': df.isnull().sum(), 'perc_missing': (df.isnull().sum()/count_row)*100})\n",
        "missing_data"
      ],
      "execution_count": null,
      "outputs": [
        {
          "output_type": "execute_result",
          "data": {
            "text/html": [
              "<div>\n",
              "<style scoped>\n",
              "    .dataframe tbody tr th:only-of-type {\n",
              "        vertical-align: middle;\n",
              "    }\n",
              "\n",
              "    .dataframe tbody tr th {\n",
              "        vertical-align: top;\n",
              "    }\n",
              "\n",
              "    .dataframe thead th {\n",
              "        text-align: right;\n",
              "    }\n",
              "</style>\n",
              "<table border=\"1\" class=\"dataframe\">\n",
              "  <thead>\n",
              "    <tr style=\"text-align: right;\">\n",
              "      <th></th>\n",
              "      <th>total_missing</th>\n",
              "      <th>perc_missing</th>\n",
              "    </tr>\n",
              "  </thead>\n",
              "  <tbody>\n",
              "    <tr>\n",
              "      <th>sample_code</th>\n",
              "      <td>0</td>\n",
              "      <td>0.000000</td>\n",
              "    </tr>\n",
              "    <tr>\n",
              "      <th>gender</th>\n",
              "      <td>0</td>\n",
              "      <td>0.000000</td>\n",
              "    </tr>\n",
              "    <tr>\n",
              "      <th>age_at_diagnosis</th>\n",
              "      <td>0</td>\n",
              "      <td>0.000000</td>\n",
              "    </tr>\n",
              "    <tr>\n",
              "      <th>diagnosis</th>\n",
              "      <td>0</td>\n",
              "      <td>0.000000</td>\n",
              "    </tr>\n",
              "    <tr>\n",
              "      <th>diagnosis_status</th>\n",
              "      <td>0</td>\n",
              "      <td>0.000000</td>\n",
              "    </tr>\n",
              "    <tr>\n",
              "      <th>primary_EDSS_at_diagnosis</th>\n",
              "      <td>0</td>\n",
              "      <td>0.000000</td>\n",
              "    </tr>\n",
              "    <tr>\n",
              "      <th>num_of_medicine_changed</th>\n",
              "      <td>5</td>\n",
              "      <td>8.771930</td>\n",
              "    </tr>\n",
              "    <tr>\n",
              "      <th>MRI_lesion_mass</th>\n",
              "      <td>8</td>\n",
              "      <td>14.035088</td>\n",
              "    </tr>\n",
              "    <tr>\n",
              "      <th>oligoclonal_band</th>\n",
              "      <td>10</td>\n",
              "      <td>17.543860</td>\n",
              "    </tr>\n",
              "    <tr>\n",
              "      <th>TIGIT_RQ</th>\n",
              "      <td>4</td>\n",
              "      <td>7.017544</td>\n",
              "    </tr>\n",
              "    <tr>\n",
              "      <th>TIM3_RQ</th>\n",
              "      <td>6</td>\n",
              "      <td>10.526316</td>\n",
              "    </tr>\n",
              "    <tr>\n",
              "      <th>LAG3_RQ</th>\n",
              "      <td>6</td>\n",
              "      <td>10.526316</td>\n",
              "    </tr>\n",
              "    <tr>\n",
              "      <th>PD-1_RQ</th>\n",
              "      <td>7</td>\n",
              "      <td>12.280702</td>\n",
              "    </tr>\n",
              "    <tr>\n",
              "      <th>RQ CTLA-4</th>\n",
              "      <td>25</td>\n",
              "      <td>43.859649</td>\n",
              "    </tr>\n",
              "    <tr>\n",
              "      <th>1_years_EDSS_from_sample_date</th>\n",
              "      <td>0</td>\n",
              "      <td>0.000000</td>\n",
              "    </tr>\n",
              "    <tr>\n",
              "      <th>3_years_from_sample</th>\n",
              "      <td>0</td>\n",
              "      <td>0.000000</td>\n",
              "    </tr>\n",
              "    <tr>\n",
              "      <th>5_years_from_sample</th>\n",
              "      <td>0</td>\n",
              "      <td>0.000000</td>\n",
              "    </tr>\n",
              "    <tr>\n",
              "      <th>EDSS_post_10_years</th>\n",
              "      <td>0</td>\n",
              "      <td>0.000000</td>\n",
              "    </tr>\n",
              "  </tbody>\n",
              "</table>\n",
              "</div>"
            ],
            "text/plain": [
              "                               total_missing  perc_missing\n",
              "sample_code                                0      0.000000\n",
              "gender                                     0      0.000000\n",
              "age_at_diagnosis                           0      0.000000\n",
              "diagnosis                                  0      0.000000\n",
              "diagnosis_status                           0      0.000000\n",
              "primary_EDSS_at_diagnosis                  0      0.000000\n",
              "num_of_medicine_changed                    5      8.771930\n",
              "MRI_lesion_mass                            8     14.035088\n",
              "oligoclonal_band                          10     17.543860\n",
              "TIGIT_RQ                                   4      7.017544\n",
              "TIM3_RQ                                    6     10.526316\n",
              "LAG3_RQ                                    6     10.526316\n",
              "PD-1_RQ                                    7     12.280702\n",
              "RQ CTLA-4                                 25     43.859649\n",
              "1_years_EDSS_from_sample_date              0      0.000000\n",
              "3_years_from_sample                        0      0.000000\n",
              "5_years_from_sample                        0      0.000000\n",
              "EDSS_post_10_years                         0      0.000000"
            ]
          },
          "metadata": {
            "tags": []
          },
          "execution_count": 17
        }
      ]
    },
    {
      "cell_type": "markdown",
      "metadata": {
        "id": "xZPQwaVeZoMA"
      },
      "source": [
        "filling missing data"
      ]
    },
    {
      "cell_type": "code",
      "metadata": {
        "id": "_HSUROD3ZpOn",
        "colab": {
          "base_uri": "https://localhost:8080/"
        },
        "outputId": "0daa50f4-972d-4450-aae1-19d28d2b4251"
      },
      "source": [
        "pdCol = df['PD-1_RQ']\n",
        "edssTenCol = df['EDSS_post_10_years']\n",
        "mriLessionCol = df['MRI_lesion_mass']\n",
        "df.dtypes"
      ],
      "execution_count": null,
      "outputs": [
        {
          "output_type": "execute_result",
          "data": {
            "text/plain": [
              "sample_code                       object\n",
              "gender                            object\n",
              "age_at_diagnosis                 float64\n",
              "diagnosis                         object\n",
              "diagnosis_status                  object\n",
              "primary_EDSS_at_diagnosis        float64\n",
              "num_of_medicine_changed          float64\n",
              "MRI_lesion_mass                  float64\n",
              "oligoclonal_band                  object\n",
              "TIGIT_RQ                         float64\n",
              "TIM3_RQ                          float64\n",
              "LAG3_RQ                          float64\n",
              "PD-1_RQ                          float64\n",
              "RQ CTLA-4                        float64\n",
              "1_years_EDSS_from_sample_date    float64\n",
              "3_years_from_sample              float64\n",
              "5_years_from_sample              float64\n",
              "EDSS_post_10_years               float64\n",
              "dtype: object"
            ]
          },
          "metadata": {
            "tags": []
          },
          "execution_count": 18
        }
      ]
    },
    {
      "cell_type": "code",
      "metadata": {
        "id": "9OkskNL0Zy9P"
      },
      "source": [
        "pdCol = pdCol[np.logical_not(np.isnan(pdCol))]\n",
        "edssTenCol = edssTenCol[np.logical_not(np.isnan(edssTenCol))]\n",
        "mriLessionCol = mriLessionCol[np.logical_not(np.isnan(mriLessionCol))]"
      ],
      "execution_count": null,
      "outputs": []
    },
    {
      "cell_type": "code",
      "metadata": {
        "id": "8iTkNeaGPg_o",
        "colab": {
          "base_uri": "https://localhost:8080/"
        },
        "outputId": "48ae3ae9-7eb8-428a-dc5c-29d0db3336b6"
      },
      "source": [
        "df.dtypes"
      ],
      "execution_count": null,
      "outputs": [
        {
          "output_type": "execute_result",
          "data": {
            "text/plain": [
              "sample_code                       object\n",
              "gender                            object\n",
              "age_at_diagnosis                 float64\n",
              "diagnosis                         object\n",
              "diagnosis_status                  object\n",
              "primary_EDSS_at_diagnosis        float64\n",
              "num_of_medicine_changed          float64\n",
              "MRI_lesion_mass                  float64\n",
              "oligoclonal_band                  object\n",
              "TIGIT_RQ                         float64\n",
              "TIM3_RQ                          float64\n",
              "LAG3_RQ                          float64\n",
              "PD-1_RQ                          float64\n",
              "RQ CTLA-4                        float64\n",
              "1_years_EDSS_from_sample_date    float64\n",
              "3_years_from_sample              float64\n",
              "5_years_from_sample              float64\n",
              "EDSS_post_10_years               float64\n",
              "dtype: object"
            ]
          },
          "metadata": {
            "tags": []
          },
          "execution_count": 20
        }
      ]
    },
    {
      "cell_type": "code",
      "metadata": {
        "id": "6fX5QtBUbhn2"
      },
      "source": [
        "df['PD-1_RQ'].fillna(stats.median(pdCol), inplace=True)\n",
        "df['EDSS_post_10_years'].fillna(stats.median(edssTenCol), inplace=True)\n",
        "df['MRI_lesion_mass'].fillna(stats.median(mriLessionCol), inplace=True)"
      ],
      "execution_count": null,
      "outputs": []
    },
    {
      "cell_type": "code",
      "metadata": {
        "id": "n6tMgW6IboBI",
        "colab": {
          "base_uri": "https://localhost:8080/"
        },
        "outputId": "dbb0ff08-307a-49f8-cefa-52c8adb7b1ef"
      },
      "source": [
        "#categorial diagnosis\n",
        "df['sample_code'].fillna(stats.mode(df['diagnosis']), inplace=True)\n",
        "df['gender'].fillna(stats.mode(df['gender']), inplace=True)\n",
        "df['age_at_diagnosis'].fillna(stats.mode(df['age_at_diagnosis']), inplace=True)\n",
        "df['diagnosis'].fillna(stats.mode(df['diagnosis']), inplace=True)\n",
        "df['diagnosis_status'].fillna(stats.mode(df['diagnosis_status']), inplace=True)\n",
        "df['oligoclonal_band'].fillna(stats.mode(df['oligoclonal_band']), inplace=True),\n",
        "\n",
        "\n",
        "\n",
        "#numeric diagnosis\n",
        "# df['num_of_medicine_changed'].fillna(stats.median(df['num_of_medicine_changed']), inplace=True)\n",
        "# df['MRI_lesion_mass'].fillna(stats.median(df['MRI_lesion_mass']), inplace=True)\n",
        "df['primary_EDSS_at_diagnosis'].fillna(stats.median(df['primary_EDSS_at_diagnosis']), inplace=True)\n",
        "df['TIM3_RQ'].fillna(stats.median(df['TIM3_RQ']), inplace=True)\n",
        "df['TIGIT_RQ'].fillna(stats.median(df['TIGIT_RQ']), inplace=True)\n",
        "df['LAG3_RQ'].fillna(stats.median(df['LAG3_RQ']), inplace=True)\n",
        "df['RQ CTLA-4'].fillna(stats.median(df['RQ CTLA-4']), inplace=True)\n",
        "df['1_years_EDSS_from_sample_date'].fillna(stats.median(df['1_years_EDSS_from_sample_date']), inplace=True)\n",
        "df['3_years_from_sample'].fillna(stats.median(df['3_years_from_sample']), inplace=True)\n",
        "df['5_years_from_sample'].fillna(stats.median(df['5_years_from_sample']), inplace=True)\n",
        "# df['EDSS_post_10_years'].fillna(stats.median(df['EDSS_post_10_years']), inplace=True)\n",
        "\n",
        "df['num_of_medicine_changed'].fillna(stats.median(df['num_of_medicine_changed']), inplace=True)\n",
        "df.dtypes\n",
        "\n",
        "\n",
        "\n",
        "\n"
      ],
      "execution_count": null,
      "outputs": [
        {
          "output_type": "execute_result",
          "data": {
            "text/plain": [
              "sample_code                       object\n",
              "gender                            object\n",
              "age_at_diagnosis                 float64\n",
              "diagnosis                         object\n",
              "diagnosis_status                  object\n",
              "primary_EDSS_at_diagnosis        float64\n",
              "num_of_medicine_changed          float64\n",
              "MRI_lesion_mass                  float64\n",
              "oligoclonal_band                  object\n",
              "TIGIT_RQ                         float64\n",
              "TIM3_RQ                          float64\n",
              "LAG3_RQ                          float64\n",
              "PD-1_RQ                          float64\n",
              "RQ CTLA-4                        float64\n",
              "1_years_EDSS_from_sample_date    float64\n",
              "3_years_from_sample              float64\n",
              "5_years_from_sample              float64\n",
              "EDSS_post_10_years               float64\n",
              "dtype: object"
            ]
          },
          "metadata": {
            "tags": []
          },
          "execution_count": 22
        }
      ]
    },
    {
      "cell_type": "code",
      "metadata": {
        "id": "IXyLxmjIbwZw"
      },
      "source": [
        "df.to_csv('df.csv',index=False)"
      ],
      "execution_count": null,
      "outputs": []
    },
    {
      "cell_type": "markdown",
      "metadata": {
        "id": "A6jcCYhGb0d6"
      },
      "source": [
        "check if the filling missing values worked"
      ]
    },
    {
      "cell_type": "code",
      "metadata": {
        "id": "02spwtH4b0HC",
        "colab": {
          "base_uri": "https://localhost:8080/",
          "height": 588
        },
        "outputId": "9a9b3db2-c370-4f06-cf68-1fcef2908413"
      },
      "source": [
        "missing_data = pd.DataFrame({'total_missing': df.isnull().sum(), 'perc_missing': (df.isnull().sum()/count_row)*100})\n",
        "missing_data"
      ],
      "execution_count": null,
      "outputs": [
        {
          "output_type": "execute_result",
          "data": {
            "text/html": [
              "<div>\n",
              "<style scoped>\n",
              "    .dataframe tbody tr th:only-of-type {\n",
              "        vertical-align: middle;\n",
              "    }\n",
              "\n",
              "    .dataframe tbody tr th {\n",
              "        vertical-align: top;\n",
              "    }\n",
              "\n",
              "    .dataframe thead th {\n",
              "        text-align: right;\n",
              "    }\n",
              "</style>\n",
              "<table border=\"1\" class=\"dataframe\">\n",
              "  <thead>\n",
              "    <tr style=\"text-align: right;\">\n",
              "      <th></th>\n",
              "      <th>total_missing</th>\n",
              "      <th>perc_missing</th>\n",
              "    </tr>\n",
              "  </thead>\n",
              "  <tbody>\n",
              "    <tr>\n",
              "      <th>sample_code</th>\n",
              "      <td>0</td>\n",
              "      <td>0.0</td>\n",
              "    </tr>\n",
              "    <tr>\n",
              "      <th>gender</th>\n",
              "      <td>0</td>\n",
              "      <td>0.0</td>\n",
              "    </tr>\n",
              "    <tr>\n",
              "      <th>age_at_diagnosis</th>\n",
              "      <td>0</td>\n",
              "      <td>0.0</td>\n",
              "    </tr>\n",
              "    <tr>\n",
              "      <th>diagnosis</th>\n",
              "      <td>0</td>\n",
              "      <td>0.0</td>\n",
              "    </tr>\n",
              "    <tr>\n",
              "      <th>diagnosis_status</th>\n",
              "      <td>0</td>\n",
              "      <td>0.0</td>\n",
              "    </tr>\n",
              "    <tr>\n",
              "      <th>primary_EDSS_at_diagnosis</th>\n",
              "      <td>0</td>\n",
              "      <td>0.0</td>\n",
              "    </tr>\n",
              "    <tr>\n",
              "      <th>num_of_medicine_changed</th>\n",
              "      <td>0</td>\n",
              "      <td>0.0</td>\n",
              "    </tr>\n",
              "    <tr>\n",
              "      <th>MRI_lesion_mass</th>\n",
              "      <td>0</td>\n",
              "      <td>0.0</td>\n",
              "    </tr>\n",
              "    <tr>\n",
              "      <th>oligoclonal_band</th>\n",
              "      <td>0</td>\n",
              "      <td>0.0</td>\n",
              "    </tr>\n",
              "    <tr>\n",
              "      <th>TIGIT_RQ</th>\n",
              "      <td>0</td>\n",
              "      <td>0.0</td>\n",
              "    </tr>\n",
              "    <tr>\n",
              "      <th>TIM3_RQ</th>\n",
              "      <td>0</td>\n",
              "      <td>0.0</td>\n",
              "    </tr>\n",
              "    <tr>\n",
              "      <th>LAG3_RQ</th>\n",
              "      <td>0</td>\n",
              "      <td>0.0</td>\n",
              "    </tr>\n",
              "    <tr>\n",
              "      <th>PD-1_RQ</th>\n",
              "      <td>0</td>\n",
              "      <td>0.0</td>\n",
              "    </tr>\n",
              "    <tr>\n",
              "      <th>RQ CTLA-4</th>\n",
              "      <td>0</td>\n",
              "      <td>0.0</td>\n",
              "    </tr>\n",
              "    <tr>\n",
              "      <th>1_years_EDSS_from_sample_date</th>\n",
              "      <td>0</td>\n",
              "      <td>0.0</td>\n",
              "    </tr>\n",
              "    <tr>\n",
              "      <th>3_years_from_sample</th>\n",
              "      <td>0</td>\n",
              "      <td>0.0</td>\n",
              "    </tr>\n",
              "    <tr>\n",
              "      <th>5_years_from_sample</th>\n",
              "      <td>0</td>\n",
              "      <td>0.0</td>\n",
              "    </tr>\n",
              "    <tr>\n",
              "      <th>EDSS_post_10_years</th>\n",
              "      <td>0</td>\n",
              "      <td>0.0</td>\n",
              "    </tr>\n",
              "  </tbody>\n",
              "</table>\n",
              "</div>"
            ],
            "text/plain": [
              "                               total_missing  perc_missing\n",
              "sample_code                                0           0.0\n",
              "gender                                     0           0.0\n",
              "age_at_diagnosis                           0           0.0\n",
              "diagnosis                                  0           0.0\n",
              "diagnosis_status                           0           0.0\n",
              "primary_EDSS_at_diagnosis                  0           0.0\n",
              "num_of_medicine_changed                    0           0.0\n",
              "MRI_lesion_mass                            0           0.0\n",
              "oligoclonal_band                           0           0.0\n",
              "TIGIT_RQ                                   0           0.0\n",
              "TIM3_RQ                                    0           0.0\n",
              "LAG3_RQ                                    0           0.0\n",
              "PD-1_RQ                                    0           0.0\n",
              "RQ CTLA-4                                  0           0.0\n",
              "1_years_EDSS_from_sample_date              0           0.0\n",
              "3_years_from_sample                        0           0.0\n",
              "5_years_from_sample                        0           0.0\n",
              "EDSS_post_10_years                         0           0.0"
            ]
          },
          "metadata": {
            "tags": []
          },
          "execution_count": 24
        }
      ]
    },
    {
      "cell_type": "markdown",
      "metadata": {
        "id": "95Q9jsY1eBh9"
      },
      "source": [
        "define the data types"
      ]
    },
    {
      "cell_type": "code",
      "metadata": {
        "id": "cp0plLRyeEy6",
        "colab": {
          "base_uri": "https://localhost:8080/"
        },
        "outputId": "cb72b999-3b1b-4e86-f773-28cf820a70d5"
      },
      "source": [
        "#define date type\n",
        "#float\n",
        "\n",
        "\n",
        "#define numeric type diagnosis\n",
        "df['age_at_diagnosis'] = df['age_at_diagnosis'].astype('int64')\n",
        "df['primary_EDSS_at_diagnosis'] = df['primary_EDSS_at_diagnosis'].astype('float64')\n",
        "df['num_of_medicine_changed'] = df['num_of_medicine_changed'].astype('int64')\n",
        "df['TIGIT_RQ'] = df['TIGIT_RQ'].astype('float64')\n",
        "df['TIM3_RQ'] = df['TIM3_RQ'].astype('float64')\n",
        "df['LAG3_RQ'] = df['LAG3_RQ'].astype('float64')\n",
        "df['PD-1_RQ'] = df['PD-1_RQ'].astype('float64')\n",
        "df['RQ CTLA-4'] = df['RQ CTLA-4'].astype('float64')\n",
        "df['1_years_EDSS_from_sample_date'] = df['1_years_EDSS_from_sample_date'].astype('float64')\n",
        "df['3_years_from_sample'] = df['3_years_from_sample'].astype('float64')\n",
        "df['5_years_from_sample'] = df['5_years_from_sample'].astype('float64')\n",
        "df['EDSS_post_10_years'] = df['EDSS_post_10_years'].astype('float64')\n",
        "\n",
        "\n",
        "#define numeric type MRI\n",
        "df['MRI_lesion_mass'] = df['MRI_lesion_mass'].astype('float64')\n",
        "\n",
        "#define category type diagnosis\n",
        "df['diagnosis'] = df['diagnosis'].astype('category')\n",
        "df['oligoclonal_band'] = df['oligoclonal_band'].astype('category')\n",
        "df['sample_code'] = df['sample_code'].astype('category')\n",
        "df['gender'] = df['gender'].astype('category')\n",
        "df['diagnosis_status'] = df['diagnosis_status'].astype('category')\n",
        "\n",
        "\n",
        "\n",
        "\n",
        "df.dtypes"
      ],
      "execution_count": null,
      "outputs": [
        {
          "output_type": "execute_result",
          "data": {
            "text/plain": [
              "sample_code                      category\n",
              "gender                           category\n",
              "age_at_diagnosis                    int64\n",
              "diagnosis                        category\n",
              "diagnosis_status                 category\n",
              "primary_EDSS_at_diagnosis         float64\n",
              "num_of_medicine_changed             int64\n",
              "MRI_lesion_mass                   float64\n",
              "oligoclonal_band                 category\n",
              "TIGIT_RQ                          float64\n",
              "TIM3_RQ                           float64\n",
              "LAG3_RQ                           float64\n",
              "PD-1_RQ                           float64\n",
              "RQ CTLA-4                         float64\n",
              "1_years_EDSS_from_sample_date     float64\n",
              "3_years_from_sample               float64\n",
              "5_years_from_sample               float64\n",
              "EDSS_post_10_years                float64\n",
              "dtype: object"
            ]
          },
          "metadata": {
            "tags": []
          },
          "execution_count": 25
        }
      ]
    },
    {
      "cell_type": "markdown",
      "metadata": {
        "id": "8wkXkYeZey87"
      },
      "source": [
        "export the data frame to csv file"
      ]
    },
    {
      "cell_type": "code",
      "metadata": {
        "id": "tXd8EezTe4Gi"
      },
      "source": [
        "df.to_csv('dfAfterFillNA.csv',index=False)"
      ],
      "execution_count": null,
      "outputs": []
    },
    {
      "cell_type": "markdown",
      "metadata": {
        "id": "RJIU3v_6fBad"
      },
      "source": [
        "transform categorical features to numeric features"
      ]
    },
    {
      "cell_type": "code",
      "metadata": {
        "id": "ef7wXuIsfEjN"
      },
      "source": [
        "df_oligoclonal_band = pd.get_dummies(df['oligoclonal_band'])\n",
        "df_gender = pd.get_dummies(df['gender'])\n",
        "df_diagnosis_status = pd.get_dummies(df['diagnosis_status'])\n",
        "df_diagnosis = pd.get_dummies(df['diagnosis'])"
      ],
      "execution_count": null,
      "outputs": []
    },
    {
      "cell_type": "code",
      "metadata": {
        "id": "KbQtL138fHzW"
      },
      "source": [
        "\n",
        "\n",
        "#add the new dummy variables to the df\n",
        "df = df.merge(df_oligoclonal_band, left_index=True, right_index=True)\n",
        "df = df.merge(df_gender, left_index=True, right_index=True)\n",
        "df = df.merge(df_diagnosis_status, left_index=True, right_index=True)\n",
        "df = df.merge(df_diagnosis, left_index=True, right_index=True)\n"
      ],
      "execution_count": null,
      "outputs": []
    },
    {
      "cell_type": "markdown",
      "metadata": {
        "id": "mk43AWaSOFJy"
      },
      "source": [
        "rename the columns name"
      ]
    },
    {
      "cell_type": "code",
      "metadata": {
        "id": "_LVparaVOEbx"
      },
      "source": [
        "df = df.rename(columns = {'POS': 'oligoclonal_band_POS','RQ CTLA-4':'RQ_CTLA4', 'M': 'gender_M', 'RRMS' : 'diagnosis_RRMS'}, inplace = False)\n"
      ],
      "execution_count": null,
      "outputs": []
    },
    {
      "cell_type": "code",
      "metadata": {
        "id": "B-foJA8xf4xw"
      },
      "source": [
        "df['NEG'] = df['NEG'].astype('category')\n",
        "df['oligoclonal_band_POS'] = df['oligoclonal_band_POS'].astype('category')\n",
        "df['F'] = df['F'].astype('category')\n",
        "df['gender_M'] = df['gender_M'].astype('category')\n",
        "df['BENIGN'] = df['BENIGN'].astype('category')\n",
        "df['MALIGNANT'] = df['MALIGNANT'].astype('category')\n",
        "df['STANDARD'] = df['STANDARD'].astype('category')\n",
        "df['diagnosis_RRMS'] = df['diagnosis_RRMS'].astype('category')\n",
        "df['SPMS'] = df['SPMS'].astype('category')"
      ],
      "execution_count": null,
      "outputs": []
    },
    {
      "cell_type": "code",
      "metadata": {
        "id": "hsUM3BxYaFKC"
      },
      "source": [
        "df.to_csv('dfAfterDummies.csv',index=False)\n"
      ],
      "execution_count": null,
      "outputs": []
    },
    {
      "cell_type": "code",
      "metadata": {
        "id": "DRAhlU9Y2awa"
      },
      "source": [
        "df.to_pickle('DFDB2Final.pkl')"
      ],
      "execution_count": null,
      "outputs": []
    },
    {
      "cell_type": "code",
      "metadata": {
        "id": "VIacBDZcoRvH"
      },
      "source": [
        "df.to_pickle('/content/gdrive/MyDrive/Colab Notebooks/MS_Notebooks/DFDB2Final_coral.pkl')\n"
      ],
      "execution_count": null,
      "outputs": []
    },
    {
      "cell_type": "markdown",
      "metadata": {
        "id": "1Sxj-BWtIQGd"
      },
      "source": [
        "function for calculate cross validation score on one DB"
      ]
    },
    {
      "cell_type": "code",
      "metadata": {
        "id": "dJ8s6VZDIMdY"
      },
      "source": [
        "def calcCrossValidation(model, data, predictors, outcome):\n",
        "\n",
        "    # Perform k-fold cross-validation with 10 folds\n",
        "    kf = KFold(n_splits=10)\n",
        "    accuracy = []\n",
        "    for train, test in kf.split(data):\n",
        "        # Filter training data\n",
        "        train_predictors = (data[predictors].iloc[train, :])\n",
        "        # The target we're using to train the algorithm.\n",
        "        train_target = data[outcome].iloc[train]\n",
        "\n",
        "        # Training the algorithm using the predictors and target.\n",
        "        model.fit(train_predictors, train_target)\n",
        "        # Record accuracy from each cross-validation run\n",
        "        accuracy.append(model.score(data[predictors].iloc[test, :], data[outcome].iloc[test]))\n",
        "\n",
        "    print(\"Cross-Validation Score : %s\" % \"{0:.3%}\".format(np.mean(accuracy)))\n",
        "    print(accuracy)"
      ],
      "execution_count": null,
      "outputs": []
    },
    {
      "cell_type": "markdown",
      "metadata": {
        "id": "QB9Aq9q5Yqxu"
      },
      "source": [
        "function for calcuate RMSE on one DB only train "
      ]
    },
    {
      "cell_type": "code",
      "metadata": {
        "id": "XCaeeHhqYptH"
      },
      "source": [
        "# def calc_rmse(model, data, predictors, outcome):\n",
        "\n",
        "#   # Fit the model on training set:\n",
        "#   model.fit(data[predictors], data[outcome])\n",
        "#   # Make predictions on training set:\n",
        "#   y_predicted = model.predict(data[predictors])\n",
        "#   rmse = sqrt(mean_squared_error(data[outcome], y_predicted))  \n",
        "#   print(rmse)"
      ],
      "execution_count": null,
      "outputs": []
    },
    {
      "cell_type": "code",
      "metadata": {
        "id": "dxRHFtpFV_yD"
      },
      "source": [
        "def calc_rmse(model, data, predictors, outcome):\n",
        "  df_label = data[outcome]\n",
        "  df_predictors = data[predictors]\n",
        "  X_train, X_test, y_train, y_test = train_test_split(df_predictors, df_label)\n",
        "  # Fit the model on training set:\n",
        "  model.fit(X_train,  y_train)\n",
        "  # Make predictions on training set:\n",
        "  y_predicted = model.predict(X_test)\n",
        "  rmse = sqrt(mean_squared_error(y_test, y_predicted))  \n",
        "  print(rmse)"
      ],
      "execution_count": null,
      "outputs": []
    },
    {
      "cell_type": "markdown",
      "metadata": {
        "id": "ir1VrnSgI5ZY"
      },
      "source": [
        "function for calculate accuracy just on train one DB"
      ]
    },
    {
      "cell_type": "code",
      "metadata": {
        "id": "8VYldXovI8qB"
      },
      "source": [
        "def calcAccuracy(model, data, predictors, outcome):\n",
        "    # Fit the model:\n",
        "    model.fit(data[predictors], data[outcome])\n",
        "    # Make predictions on training set:\n",
        "    predictions = model.predict(data[predictors])\n",
        "    # Print accuracy\n",
        "    accuracy = metrics.accuracy_score(predictions, data[outcome])\n",
        "    print(\"Training accuracy : %s\" % \"{0:.3%}\".format(accuracy))"
      ],
      "execution_count": null,
      "outputs": []
    },
    {
      "cell_type": "code",
      "metadata": {
        "id": "ptA0zCcXfK_K"
      },
      "source": [
        "# Generic function for making a classification model and accessing performance:\n",
        "def classification_model(model, data, predictors, outcome):\n",
        "\n",
        "    # Fit the model:\n",
        "    model.fit(data[predictors], data[outcome])\n",
        "    # Make predictions on training set:\n",
        "    predictions = model.predict(data[predictors])\n",
        "    # Print accuracy\n",
        "    accuracy = metrics.accuracy_score(predictions, data[outcome])\n",
        "    print(\"Training accuracy : %s\" % \"{0:.3%}\".format(accuracy))\n",
        "\n",
        "    # Perform k-fold cross-validation with 10 folds\n",
        "    kf = KFold(n_splits=10)\n",
        "    accuracy = []\n",
        "    for train, test in kf.split(data):\n",
        "        # Filter training data\n",
        "        train_predictors = (data[predictors].iloc[train, :])\n",
        "        # The target we're using to train the algorithm.\n",
        "        train_target = data[outcome].iloc[train]\n",
        "\n",
        "        # Training the algorithm using the predictors and target.\n",
        "        model.fit(train_predictors, train_target)\n",
        "        # Record accuracy from each cross-validation run\n",
        "        accuracy.append(model.score(data[predictors].iloc[test, :], data[outcome].iloc[test]))\n",
        "\n",
        "    print(\"Cross-Validation Score : %s\" % \"{0:.3%}\".format(np.mean(accuracy)))\n",
        "\n",
        "    # Fit the model again so that it can be referred outside the function:\n",
        "    model.fit(data[predictors], data[outcome])"
      ],
      "execution_count": null,
      "outputs": []
    },
    {
      "cell_type": "code",
      "metadata": {
        "id": "hLO0V-WRptjr",
        "colab": {
          "base_uri": "https://localhost:8080/"
        },
        "outputId": "789a32e8-750d-457b-c9b7-84c511cca841"
      },
      "source": [
        "df.dtypes"
      ],
      "execution_count": null,
      "outputs": [
        {
          "output_type": "execute_result",
          "data": {
            "text/plain": [
              "sample_code                      category\n",
              "gender                           category\n",
              "age_at_diagnosis                    int64\n",
              "diagnosis                        category\n",
              "diagnosis_status                 category\n",
              "primary_EDSS_at_diagnosis         float64\n",
              "num_of_medicine_changed             int64\n",
              "MRI_lesion_mass                   float64\n",
              "oligoclonal_band                 category\n",
              "TIGIT_RQ                          float64\n",
              "TIM3_RQ                           float64\n",
              "LAG3_RQ                           float64\n",
              "PD-1_RQ                           float64\n",
              "RQ_CTLA4                          float64\n",
              "1_years_EDSS_from_sample_date     float64\n",
              "3_years_from_sample               float64\n",
              "5_years_from_sample               float64\n",
              "EDSS_post_10_years                float64\n",
              "NEG                              category\n",
              "oligoclonal_band_POS             category\n",
              "F                                category\n",
              "gender_M                         category\n",
              "BENIGN                           category\n",
              "MALIGNANT                        category\n",
              "STANDARD                         category\n",
              "diagnosis_RRMS                   category\n",
              "SPMS                             category\n",
              "dtype: object"
            ]
          },
          "metadata": {
            "tags": []
          },
          "execution_count": 39
        }
      ]
    },
    {
      "cell_type": "code",
      "metadata": {
        "id": "jB6U0h2ExGUR",
        "colab": {
          "base_uri": "https://localhost:8080/"
        },
        "outputId": "7279faf2-1c1f-4faa-88fd-784db7740097"
      },
      "source": [
        "# # check RMSE - Random Forest Algorithm\n",
        "rf = RandomForestRegressor(n_estimators = 10, random_state = 42)\n",
        "# Train the model on training data\n",
        "predictor_var = ['num_of_medicine_changed','MRI_lesion_mass','age_at_diagnosis','TIM3_RQ', 'TIGIT_RQ', 'LAG3_RQ', 'PD-1_RQ','RQ_CTLA4', 'gender_M', 'primary_EDSS_at_diagnosis','oligoclonal_band_POS','BENIGN','MALIGNANT','STANDARD']\n",
        "outcome_var = 'EDSS_post_10_years'\n",
        "calc_rmse(rf, df, predictor_var, outcome_var)\n"
      ],
      "execution_count": null,
      "outputs": [
        {
          "output_type": "stream",
          "text": [
            "1.233626091379934\n"
          ],
          "name": "stdout"
        }
      ]
    },
    {
      "cell_type": "markdown",
      "metadata": {
        "id": "rFs1mHLWgopi"
      },
      "source": [
        "choose the relevant features to the model"
      ]
    },
    {
      "cell_type": "code",
      "metadata": {
        "id": "aEGdbyXHgvM6",
        "colab": {
          "base_uri": "https://localhost:8080/"
        },
        "outputId": "cd0d7c46-66d4-4635-ec6a-3f3d2be3cbc8"
      },
      "source": [
        "# Applying Random Forest Algorithm\n",
        "randomForestModel = RandomForestClassifier(n_estimators=25, min_samples_split=25, max_depth=7, max_features='auto')\n",
        "predictor_var = ['num_of_medicine_changed','MRI_lesion_mass','age_at_diagnosis','TIM3_RQ', 'TIGIT_RQ', 'LAG3_RQ', 'PD-1_RQ','RQ_CTLA4', 'gender_M', 'primary_EDSS_at_diagnosis','oligoclonal_band_POS','BENIGN','MALIGNANT','STANDARD']\n",
        "outcome_var = 'diagnosis'\n",
        "calcAccuracy(randomForestModel, df, predictor_var, outcome_var)\n"
      ],
      "execution_count": null,
      "outputs": [
        {
          "output_type": "stream",
          "text": [
            "Training accuracy : 96.491%\n"
          ],
          "name": "stdout"
        }
      ]
    },
    {
      "cell_type": "code",
      "metadata": {
        "id": "5596aRPqrxi_",
        "colab": {
          "base_uri": "https://localhost:8080/"
        },
        "outputId": "c7f49278-3b63-4dc6-d1d1-85cd070781bf"
      },
      "source": [
        "# check Cross Validation Score - Random Forest Algorithm\n",
        "rf = RandomForestClassifier(n_estimators=25, min_samples_split=25, max_depth=7, max_features='auto')\n",
        "# Train the model on training data\n",
        "predictor_var = ['num_of_medicine_changed','MRI_lesion_mass','age_at_diagnosis','TIM3_RQ', 'TIGIT_RQ', 'LAG3_RQ', 'PD-1_RQ','RQ_CTLA4', 'gender_M', 'primary_EDSS_at_diagnosis','oligoclonal_band_POS','BENIGN','MALIGNANT','STANDARD']\n",
        "outcome_var = 'diagnosis_RRMS'\n",
        "calcCrossValidation(rf, df, predictor_var, outcome_var)"
      ],
      "execution_count": null,
      "outputs": [
        {
          "output_type": "stream",
          "text": [
            "Cross-Validation Score : 89.000%\n",
            "[1.0, 1.0, 1.0, 1.0, 0.8333333333333334, 0.6666666666666666, 1.0, 0.8, 0.6, 1.0]\n"
          ],
          "name": "stdout"
        }
      ]
    },
    {
      "cell_type": "code",
      "metadata": {
        "id": "0j3cQkbIr2fu",
        "colab": {
          "base_uri": "https://localhost:8080/"
        },
        "outputId": "003d5162-3547-4652-ff1f-886318d11c90"
      },
      "source": [
        "logisticRegrDF = LogisticRegression(max_iter=2000)\n",
        "predictor_var = ['num_of_medicine_changed','MRI_lesion_mass','age_at_diagnosis','TIM3_RQ', 'TIGIT_RQ', 'LAG3_RQ', 'PD-1_RQ','RQ_CTLA4', 'gender_M', 'primary_EDSS_at_diagnosis','oligoclonal_band_POS','BENIGN','MALIGNANT','STANDARD']\n",
        "outcome_var = 'diagnosis_RRMS'\n",
        "calcAccuracy(logisticRegrDF, df, predictor_var, outcome_var)"
      ],
      "execution_count": null,
      "outputs": [
        {
          "output_type": "stream",
          "text": [
            "Training accuracy : 98.246%\n"
          ],
          "name": "stdout"
        }
      ]
    },
    {
      "cell_type": "code",
      "metadata": {
        "id": "CxVt3G48CgKS"
      },
      "source": [
        "def calcAccuracyTwoDF(model, dataTrain, dataTest, predictors, outcome):\n",
        "\n",
        "    # Fit the model:\n",
        "    model.fit(dataTrain[predictors], dataTrain[outcome])\n",
        "    # Make predictions on testing set:\n",
        "    predictions = model.predict(dataTest[predictors])\n",
        "    # Print accuracy\n",
        "    accuracy = metrics.accuracy_score(predictions, dataTest[outcome])\n",
        "    print(\"Training accuracy : %s\" % \"{0:.3%}\".format(accuracy))"
      ],
      "execution_count": null,
      "outputs": []
    },
    {
      "cell_type": "code",
      "metadata": {
        "id": "tf_EscojNjKK"
      },
      "source": [
        "train, test = train_test_split(df, test_size=0.2)"
      ],
      "execution_count": null,
      "outputs": []
    },
    {
      "cell_type": "code",
      "metadata": {
        "id": "3JuD2s1NWtsS",
        "colab": {
          "base_uri": "https://localhost:8080/"
        },
        "outputId": "75a9db35-a8e0-4bfc-e5fa-530ef910357d"
      },
      "source": [
        "logisticRegr = LogisticRegression(max_iter = 2000)\n",
        "predictor_var = ['MRI_lesion_mass', 'primary_EDSS_at_diagnosis','age_at_diagnosis','TIM3_RQ', 'TIGIT_RQ', 'LAG3_RQ', 'PD-1_RQ', 'gender_M', 'oligoclonal_band_POS']\n",
        "outcome_var = 'diagnosis_RRMS'\n",
        "calcAccuracyTwoDF(logisticRegr, train, test, predictor_var, outcome_var)"
      ],
      "execution_count": null,
      "outputs": [
        {
          "output_type": "stream",
          "text": [
            "Training accuracy : 66.667%\n"
          ],
          "name": "stdout"
        }
      ]
    },
    {
      "cell_type": "code",
      "metadata": {
        "id": "Q6l4Z5mVEjRx"
      },
      "source": [
        "\n",
        "from sklearn import linear_model\n",
        "\n",
        "rf = RandomForestRegressor(n_estimators = 10, random_state = 42)\n",
        "\n",
        "\n",
        "\n",
        "\n",
        "\n",
        "from sklearn import datasets\n",
        "\n",
        "# boston = datasets.load_boston()\n",
        "# print(boston)\n",
        "# print(outcome_var)\n",
        "predictor_var = ['MRI_lesion_mass', 'primary_EDSS_at_diagnosis','age_at_diagnosis','TIM3_RQ', 'TIGIT_RQ', 'LAG3_RQ', 'PD-1_RQ', 'gender_M', 'oligoclonal_band_POS']\n",
        "outcome_var = 'EDSS_post_10_years'\n",
        "y = df[outcome_var]\n",
        "\n",
        "\n",
        "\n",
        "\n",
        "# dfMerged[outcome_var]\n",
        "\n",
        "from sklearn.model_selection import cross_val_predict\n",
        "\n",
        "predicted = cross_val_predict(rf, df[predictor_var], y, cv=10)\n",
        "\n",
        "\n",
        "fig, ax = plt.subplots()\n",
        "ax.scatter(y, predicted, edgecolors=(0, 0, 0))\n",
        "ax.plot([y.min(), y.max()], [y.min(), y.max()], 'k--', lw=4)\n",
        "ax.set_xlabel('Measured')\n",
        "ax.set_ylabel('Predicted')\n",
        "plt.show()"
      ],
      "execution_count": null,
      "outputs": []
    },
    {
      "cell_type": "code",
      "metadata": {
        "id": "k0rFW8v_F6Zd"
      },
      "source": [
        "from sklearn import linear_model\n",
        "\n",
        "rf = RandomForestClassifier(n_estimators=25, min_samples_split=25, max_depth=7, max_features='auto')\n",
        "\n",
        "\n",
        "\n",
        "\n",
        "\n",
        "from sklearn import datasets\n",
        "\n",
        "# boston = datasets.load_boston()\n",
        "# print(boston)\n",
        "# print(outcome_var)\n",
        "df['diagnosis_RRMS'] = df['diagnosis_RRMS'].astype('int64')\n",
        "predictor_var = ['MRI_lesion_mass', 'primary_EDSS_at_diagnosis','age_at_diagnosis','TIM3_RQ', 'TIGIT_RQ', 'LAG3_RQ', 'PD-1_RQ', 'gender_M', 'oligoclonal_band_POS']\n",
        "outcome_var = 'diagnosis_RRMS'\n",
        "y = df[outcome_var]\n",
        "\n",
        "\n",
        "\n",
        "\n",
        "# dfMerged[outcome_var]\n",
        "\n",
        "from sklearn.model_selection import cross_val_predict\n",
        "\n",
        "predicted = cross_val_predict(rf, df[predictor_var], y, cv=10)\n",
        "\n",
        "\n",
        "fig, ax = plt.subplots()\n",
        "ax.scatter(y, predicted, edgecolors=(0, 0, 0))\n",
        "ax.plot([y.min(), y.max()], [y.min(), y.max()], 'k--', lw=4)\n",
        "ax.set_xlabel('Measured')\n",
        "ax.set_ylabel('Predicted')\n",
        "plt.show()\n"
      ],
      "execution_count": null,
      "outputs": []
    },
    {
      "cell_type": "code",
      "metadata": {
        "id": "0laruPnxNpm1"
      },
      "source": [
        "from sklearn.metrics import plot_confusion_matrix\n",
        "\n",
        "rf = RandomForestClassifier(n_estimators=25, min_samples_split=25, max_depth=7, max_features='auto')\n",
        "predictor_var = ['MRI_lesion_mass', 'primary_EDSS_at_diagnosis','age_at_diagnosis','TIM3_RQ', 'TIGIT_RQ', 'LAG3_RQ', 'PD-1_RQ', 'gender_M', 'oligoclonal_band_POS']\n",
        "outcome_var = 'diagnosis_RRMS'\n",
        "\n",
        "# Perform k-fold cross-validation with 10 folds\n",
        "kf = KFold(n_splits=10)\n",
        "accuracy = []\n",
        "for train, test in kf.split(df):\n",
        "    # Filter training data\n",
        "    train_predictors = (df[predictor_var].iloc[train, :])\n",
        "    # The target we're using to train the algorithm.\n",
        "    train_target = df[outcome_var].iloc[train]\n",
        "\n",
        "    test_predictors = (df[predictor_var].iloc[test, :])\n",
        "    # The target we're using to train the algorithm.\n",
        "    test_target = df[outcome_var].iloc[test]\n",
        "\n",
        "\n",
        "    # Training the algorithm using the predictors and target.\n",
        "    rf.fit(train_predictors, train_target)\n",
        "\n",
        "    plot_confusion_matrix(rf, test_predictors, test_target)  # doctest: +SKIP\n",
        "\n",
        "    # # Record accuracy from each cross-validation run\n",
        "    # accuracy.append(model.score(data[predictors].iloc[test, :], data[outcome].iloc[test]))\n",
        "#  m = [unPivot(m1); unPivot(m2); unPivot(m3)];\n",
        "# Pivot(m,@sum,[],0) \n",
        "# print(\"Cross-Validation Score : %s\" % \"{0:.3%}\".format(np.mean(accuracy)))\n",
        "# print(accuracy)"
      ],
      "execution_count": null,
      "outputs": []
    }
  ]
}