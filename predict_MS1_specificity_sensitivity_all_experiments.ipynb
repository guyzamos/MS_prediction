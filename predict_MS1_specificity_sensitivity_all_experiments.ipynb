{
  "nbformat": 4,
  "nbformat_minor": 0,
  "metadata": {
    "colab": {
      "name": "predict_MS1_specificity_sensitivity_all_experiments",
      "provenance": [],
      "collapsed_sections": [],
      "include_colab_link": true
    },
    "kernelspec": {
      "name": "python3",
      "display_name": "Python 3"
    }
  },
  "cells": [
    {
      "cell_type": "markdown",
      "metadata": {
        "id": "view-in-github",
        "colab_type": "text"
      },
      "source": [
        "<a href=\"https://colab.research.google.com/github/guyzamos/MS_prediction/blob/main/predict_MS1_specificity_sensitivity_all_experiments.ipynb\" target=\"_parent\"><img src=\"https://colab.research.google.com/assets/colab-badge.svg\" alt=\"Open In Colab\"/></a>"
      ]
    },
    {
      "cell_type": "markdown",
      "metadata": {
        "id": "M6tv6Y_weQ8z"
      },
      "source": [
        "import all the relevant libraries"
      ]
    },
    {
      "cell_type": "code",
      "metadata": {
        "id": "-z7hXJSeptCa"
      },
      "source": [
        "import pandas as pd\n",
        "import numpy as np\n",
        "import matplotlib.pyplot as plt\n",
        "import statistics as stats\n",
        "import io\n",
        "from sklearn.metrics import mean_squared_error\n",
        "from math import sqrt\n",
        "from sklearn.preprocessing import LabelEncoder\n",
        "from sklearn.model_selection import KFold\n",
        "from sklearn.ensemble import RandomForestRegressor\n",
        "from sklearn.ensemble import RandomForestClassifier\n",
        "from sklearn.linear_model import LogisticRegression\n",
        "from sklearn import metrics\n",
        "from sklearn.model_selection import train_test_split\n"
      ],
      "execution_count": null,
      "outputs": []
    },
    {
      "cell_type": "markdown",
      "metadata": {
        "id": "ugA1NC9JIkaQ"
      },
      "source": [
        "upload the db file"
      ]
    },
    {
      "cell_type": "code",
      "metadata": {
        "id": "tTM3VXFdxXAg",
        "colab": {
          "base_uri": "https://localhost:8080/"
        },
        "outputId": "de8ee41a-f189-42c8-9a94-bc9a92dc8d6c"
      },
      "source": [
        "from google.colab import drive \n",
        "drive.mount('/content/gdrive')"
      ],
      "execution_count": null,
      "outputs": [
        {
          "output_type": "stream",
          "text": [
            "Mounted at /content/gdrive\n"
          ],
          "name": "stdout"
        }
      ]
    },
    {
      "cell_type": "code",
      "metadata": {
        "id": "qxFu0jcL-D_c"
      },
      "source": [
        "pd.set_option('display.max_columns', None)\r\n",
        "pd.set_option('display.max_rows', None)"
      ],
      "execution_count": null,
      "outputs": []
    },
    {
      "cell_type": "markdown",
      "metadata": {
        "id": "L0yo_SQNZKME"
      },
      "source": [
        "read the file and create data frame"
      ]
    },
    {
      "cell_type": "code",
      "metadata": {
        "id": "bJRTzEg14lcM"
      },
      "source": [
        "df=pd.read_excel(\"/content/gdrive/My Drive/Colab Notebooks/MS_Notebooks/all_data_Livnat.xlsx\", names=['sample_code', 'diagnosis','TIM3_RQ', 'TIGIT_RQ', 'LAG3_RQ','gender','age_at_diagnosis', 'primary_EDSS_at_diagnosis','1_years_EDSS_from_sample_date' , '5_years_from_sample', 'EDSS_post_10_years' ,'oligoclonal_band', 'MRI_lesion_mass', 'treatment_when_sample_was_taken','Lymph_Cells','PMN_Cells','Cells' ])\n",
        "# remove empty rows\n",
        "df = df.dropna(how='all')\n",
        "# Print the first 10 rows of the data set\n",
        "print(df.head(150))\n",
        "# Get summary of numerical variables\n",
        "print(df.describe())"
      ],
      "execution_count": null,
      "outputs": []
    },
    {
      "cell_type": "code",
      "metadata": {
        "colab": {
          "base_uri": "https://localhost:8080/"
        },
        "id": "sSQVlGCENKSv",
        "outputId": "a6e49a9d-6c5f-47cb-cfaf-f2cfedd33283"
      },
      "source": [
        "columns = df.columns\r\n",
        "columns"
      ],
      "execution_count": null,
      "outputs": [
        {
          "output_type": "execute_result",
          "data": {
            "text/plain": [
              "Index(['sample_code', 'diagnosis', 'TIM3_RQ', 'TIGIT_RQ', 'LAG3_RQ', 'gender',\n",
              "       'age_at_diagnosis', 'primary_EDSS_at_diagnosis',\n",
              "       '1_years_EDSS_from_sample_date', '5_years_from_sample',\n",
              "       'EDSS_post_10_years', 'oligoclonal_band', 'MRI_lesion_mass',\n",
              "       'treatment_when_sample_was_taken', 'Lymph_Cells', 'PMN_Cells', 'Cells'],\n",
              "      dtype='object')"
            ]
          },
          "metadata": {
            "tags": []
          },
          "execution_count": 5
        }
      ]
    },
    {
      "cell_type": "markdown",
      "metadata": {
        "id": "z2lGUkzqMq2f"
      },
      "source": [
        "remove white space before and after the word:"
      ]
    },
    {
      "cell_type": "code",
      "metadata": {
        "id": "2CmM1lNQMthk"
      },
      "source": [
        "df = df.applymap(lambda x: x.strip() if type(x)==str else x)"
      ],
      "execution_count": null,
      "outputs": []
    },
    {
      "cell_type": "markdown",
      "metadata": {
        "id": "GOyI10N7ZMJX"
      },
      "source": [
        "Fix string values to upperCase"
      ]
    },
    {
      "cell_type": "code",
      "metadata": {
        "id": "O1eKGol1ZRwO"
      },
      "source": [
        "df['gender'] = df['gender'].str.upper()\n",
        "df['diagnosis'] = df['diagnosis'].str.upper()\n",
        "df['oligoclonal_band'] = df['oligoclonal_band'].str.upper()\n",
        "df['treatment_when_sample_was_taken'] = df['treatment_when_sample_was_taken'].str.upper()"
      ],
      "execution_count": null,
      "outputs": []
    },
    {
      "cell_type": "markdown",
      "metadata": {
        "id": "cRJE-YmuIkLG"
      },
      "source": [
        "global variable for number of rows"
      ]
    },
    {
      "cell_type": "code",
      "metadata": {
        "id": "Mkp96wkOIeRu",
        "colab": {
          "base_uri": "https://localhost:8080/"
        },
        "outputId": "6a3eb1c5-7392-46cc-f011-8e14588afc98"
      },
      "source": [
        "count_row = df.shape[0]\n",
        "count_row"
      ],
      "execution_count": null,
      "outputs": [
        {
          "output_type": "execute_result",
          "data": {
            "text/plain": [
              "136"
            ]
          },
          "metadata": {
            "tags": []
          },
          "execution_count": 8
        }
      ]
    },
    {
      "cell_type": "markdown",
      "metadata": {
        "id": "mbTVDxlYpS-8"
      },
      "source": [
        "replace 'uk' and 'ND' to 'Nan'"
      ]
    },
    {
      "cell_type": "code",
      "metadata": {
        "id": "8M0ohKvUpWC9"
      },
      "source": [
        "df = df.replace({'UK': np.nan, 'uk': np.nan, 'ND': np.nan})"
      ],
      "execution_count": null,
      "outputs": []
    },
    {
      "cell_type": "code",
      "metadata": {
        "id": "4-42_X80MUUP"
      },
      "source": [
        "df.to_excel('dfNoUK.xlsx',index=False)"
      ],
      "execution_count": null,
      "outputs": []
    },
    {
      "cell_type": "code",
      "metadata": {
        "id": "7uiNa26vk8_t"
      },
      "source": [
        "#define numeric type diagnosis\n",
        "df['age_at_diagnosis'] = df['age_at_diagnosis'].astype('int64')\n",
        "df['primary_EDSS_at_diagnosis'] = df['primary_EDSS_at_diagnosis'].astype('float64')\n",
        "df['TIGIT_RQ'] = df['TIGIT_RQ'].astype('float64')\n",
        "df['TIM3_RQ'] = df['TIM3_RQ'].astype('float64')\n",
        "df['LAG3_RQ'] = df['LAG3_RQ'].astype('float64')\n",
        "df['1_years_EDSS_from_sample_date'] = df['1_years_EDSS_from_sample_date'].astype('float64')\n",
        "df['5_years_from_sample'] = df['5_years_from_sample'].astype('float64')\n",
        "df['EDSS_post_10_years'] = df['EDSS_post_10_years'].astype('float64')\n",
        "# df['Cells'] = df['Cells'].astype('int64')\n",
        "\n",
        "\n",
        "#define numeric type MRI\n",
        "df['MRI_lesion_mass'] = df['MRI_lesion_mass'].astype('float64')\n",
        "\n",
        "#define category type diagnosis\n",
        "df['diagnosis'] = df['diagnosis'].astype('category')\n",
        "df['oligoclonal_band'] = df['oligoclonal_band'].astype('category')\n",
        "df['sample_code'] = df['sample_code'].astype('category')\n",
        "df['gender'] = df['gender'].astype('category')\n",
        "df['treatment_when_sample_was_taken'] = df['treatment_when_sample_was_taken'].astype('category')"
      ],
      "execution_count": null,
      "outputs": []
    },
    {
      "cell_type": "code",
      "metadata": {
        "id": "LLm5fbYVkqLG",
        "colab": {
          "base_uri": "https://localhost:8080/"
        },
        "outputId": "f7f41528-8b76-441b-c4f0-cbf924419a41"
      },
      "source": [
        "df.dtypes"
      ],
      "execution_count": null,
      "outputs": [
        {
          "output_type": "execute_result",
          "data": {
            "text/plain": [
              "sample_code                        category\n",
              "diagnosis                          category\n",
              "TIM3_RQ                             float64\n",
              "TIGIT_RQ                            float64\n",
              "LAG3_RQ                             float64\n",
              "gender                             category\n",
              "age_at_diagnosis                      int64\n",
              "primary_EDSS_at_diagnosis           float64\n",
              "1_years_EDSS_from_sample_date       float64\n",
              "5_years_from_sample                 float64\n",
              "EDSS_post_10_years                  float64\n",
              "oligoclonal_band                   category\n",
              "MRI_lesion_mass                     float64\n",
              "treatment_when_sample_was_taken    category\n",
              "Lymph_Cells                         float64\n",
              "PMN_Cells                           float64\n",
              "Cells                               float64\n",
              "dtype: object"
            ]
          },
          "metadata": {
            "tags": []
          },
          "execution_count": 12
        }
      ]
    },
    {
      "cell_type": "code",
      "metadata": {
        "id": "gR2cF8P0z34t"
      },
      "source": [
        "mriLessionCol = df['MRI_lesion_mass']\n",
        "edssTenCol = df['primary_EDSS_at_diagnosis']\n",
        "edssTenCol = df['1_years_EDSS_from_sample_date']\n",
        "\n",
        "mriLessionCol = mriLessionCol[np.logical_not(np.isnan(mriLessionCol))]\n",
        "edssTenCol = edssTenCol[np.logical_not(np.isnan(edssTenCol))]\n",
        "edssTenCol = edssTenCol[np.logical_not(np.isnan(edssTenCol))]\n",
        "\n",
        "df['MRI_lesion_mass'].fillna(stats.median(mriLessionCol), inplace=True)\n",
        "df['primary_EDSS_at_diagnosis'].fillna(stats.median(edssTenCol), inplace=True)\n",
        "df['1_years_EDSS_from_sample_date'].fillna(stats.median(edssTenCol), inplace=True)\n"
      ],
      "execution_count": null,
      "outputs": []
    },
    {
      "cell_type": "code",
      "metadata": {
        "colab": {
          "base_uri": "https://localhost:8080/"
        },
        "id": "tLTpn6mCbQNY",
        "outputId": "b85a0a04-88ce-4d26-9dea-3704ecc81cb8"
      },
      "source": [
        "print(stats.median(df['Lymph_Cells']))"
      ],
      "execution_count": null,
      "outputs": [
        {
          "output_type": "stream",
          "text": [
            "nan\n"
          ],
          "name": "stdout"
        }
      ]
    },
    {
      "cell_type": "code",
      "metadata": {
        "id": "3PIMzoMqgduF"
      },
      "source": [
        "\n",
        "df['5_years_from_sample'].fillna(stats.median(df['5_years_from_sample']), inplace=True)\n",
        "df['EDSS_post_10_years'].fillna(stats.median(df['EDSS_post_10_years']), inplace=True)\n",
        "df['TIM3_RQ'].fillna(stats.median(df['TIM3_RQ']), inplace=True)\n",
        "df['TIGIT_RQ'].fillna(stats.median(df['TIGIT_RQ']), inplace=True)\n",
        "df['LAG3_RQ'].fillna(stats.median(df['LAG3_RQ']), inplace=True)\n",
        "df['oligoclonal_band'].fillna(stats.mode(df['oligoclonal_band']), inplace=True)\n",
        "df['gender'].fillna(stats.mode(df['gender']), inplace=True)\n",
        "df['Lymph_Cells'].fillna(np.nanmedian(df['Lymph_Cells']), inplace=True)\n",
        "df['Lymph_Cells'] = df['Lymph_Cells'].astype('int64')\n",
        "df['PMN_Cells'].fillna(np.nanmedian(df['PMN_Cells']), inplace=True)\n",
        "df['PMN_Cells'] = df['PMN_Cells'].astype('int64')\n",
        "df['Cells'].fillna(np.nanmedian(df['Cells']), inplace=True)\n",
        "df['Cells'] = df['Cells'].astype('int64')\n"
      ],
      "execution_count": null,
      "outputs": []
    },
    {
      "cell_type": "code",
      "metadata": {
        "id": "9Wmin_AFfmtW"
      },
      "source": [
        "df = df.loc[df['treatment_when_sample_was_taken'] == 'TREATED']"
      ],
      "execution_count": null,
      "outputs": []
    },
    {
      "cell_type": "code",
      "metadata": {
        "id": "-D2v1u4saZ4v"
      },
      "source": [
        "df.to_excel('dfNoUKFillNa.xlsx',index=False)"
      ],
      "execution_count": null,
      "outputs": []
    },
    {
      "cell_type": "code",
      "metadata": {
        "id": "kXj4Ln7pxti9"
      },
      "source": [
        "df.to_pickle('DF_all_treated.pkl')"
      ],
      "execution_count": null,
      "outputs": []
    },
    {
      "cell_type": "code",
      "metadata": {
        "id": "rMo32O6BBSoG",
        "colab": {
          "base_uri": "https://localhost:8080/",
          "height": 1000
        },
        "outputId": "8534a411-89f3-4959-dba8-a0004f54ec42"
      },
      "source": [
        "import seaborn as sns\n",
        "sns.set_theme(style=\"ticks\", color_codes=True)\n",
        "sns.catplot(x=\"diagnosis\", kind=\"count\", palette=\"ch:.25\", data=df)\n",
        "sns.catplot(x=\"oligoclonal_band\", kind=\"count\", palette=\"ch:.25\", data=df)\n",
        "sns.catplot(x=\"gender\", kind=\"count\", palette=\"ch:.25\", data=df)\n",
        "sns.catplot(x=\"treatment_when_sample_was_taken\", kind=\"count\", palette=\"ch:.25\", data=df)"
      ],
      "execution_count": null,
      "outputs": [
        {
          "output_type": "execute_result",
          "data": {
            "text/plain": [
              "<seaborn.axisgrid.FacetGrid at 0x7f8110476f28>"
            ]
          },
          "metadata": {
            "tags": []
          },
          "execution_count": 19
        },
        {
          "output_type": "display_data",
          "data": {
            "image/png": "[encoded data removed]",
            "text/plain": [
              "<Figure size 360x360 with 1 Axes>"
            ]
          },
          "metadata": {
            "tags": []
          }
        },
        {
          "output_type": "display_data",
          "data": {
            "image/png": "[encoded data removed]",
            "text/plain": [
              "<Figure size 360x360 with 1 Axes>"
            ]
          },
          "metadata": {
            "tags": []
          }
        },
        {
          "output_type": "display_data",
          "data": {
            "image/png": "[encoded data removed]",
            "text/plain": [
              "<Figure size 360x360 with 1 Axes>"
            ]
          },
          "metadata": {
            "tags": []
          }
        },
        {
          "output_type": "display_data",
          "data": {
            "image/png": "[encoded data removed]",
            "text/plain": [
              "<Figure size 360x360 with 1 Axes>"
            ]
          },
          "metadata": {
            "tags": []
          }
        }
      ]
    },
    {
      "cell_type": "markdown",
      "metadata": {
        "id": "b1T___Z0jrAV"
      },
      "source": [
        "find min and max ranges"
      ]
    },
    {
      "cell_type": "code",
      "metadata": {
        "id": "ppOGd_GmZ5il",
        "colab": {
          "base_uri": "https://localhost:8080/"
        },
        "outputId": "42bab25a-7a75-4e39-e3b9-6b472249f291"
      },
      "source": [
        "print('age_at_diagnosis')\n",
        "max_value = df['age_at_diagnosis'].max() \n",
        "print(max_value)\n",
        "min_value = df['age_at_diagnosis'].min() \n",
        "print(min_value)\n",
        "\n",
        "print('primary_EDSS_at_diagnosis')\n",
        "max_value = df['primary_EDSS_at_diagnosis'].max() \n",
        "print(max_value)\n",
        "min_value = df['primary_EDSS_at_diagnosis'].min() \n",
        "print(min_value)\n",
        "\n",
        "\n",
        "print('TIGIT_RQ')\n",
        "max_value = df['TIGIT_RQ'].max() \n",
        "print(max_value)\n",
        "min_value = df['TIGIT_RQ'].min() \n",
        "print(min_value)\n",
        "\n",
        "print('TIM3_RQ')\n",
        "max_value = df['TIM3_RQ'].max() \n",
        "print(max_value)\n",
        "min_value = df['TIM3_RQ'].min() \n",
        "print(min_value)\n",
        "\n",
        "print('LAG3_RQ')\n",
        "max_value = df['LAG3_RQ'].max() \n",
        "print(max_value)\n",
        "min_value = df['LAG3_RQ'].min() \n",
        "print(min_value)\n",
        "\n",
        "\n",
        "print('1_years_EDSS_from_sample_date')\n",
        "max_value = df['1_years_EDSS_from_sample_date'].max() \n",
        "print(max_value)\n",
        "min_value = df['1_years_EDSS_from_sample_date'].min() \n",
        "print(min_value)\n",
        "\n",
        "\n",
        "print('5_years_from_sample')\n",
        "max_value = df['5_years_from_sample'].max() \n",
        "print(max_value)\n",
        "min_value = df['5_years_from_sample'].min() \n",
        "print(min_value)\n",
        "\n",
        "print('EDSS_post_10_years')\n",
        "max_value = df['EDSS_post_10_years'].max() \n",
        "print(max_value)\n",
        "min_value = df['EDSS_post_10_years'].min() \n",
        "print(min_value)\n",
        "\n",
        "\n",
        "print('MRI_lesion_mass')\n",
        "max_value = df['MRI_lesion_mass'].max() \n",
        "print(max_value)\n",
        "min_value = df['MRI_lesion_mass'].min() \n",
        "print(min_value)\n"
      ],
      "execution_count": null,
      "outputs": [
        {
          "output_type": "stream",
          "text": [
            "age_at_diagnosis\n",
            "66\n",
            "18\n",
            "primary_EDSS_at_diagnosis\n",
            "5.0\n",
            "0.0\n",
            "TIGIT_RQ\n",
            "0.8660822878\n",
            "0.03185030333\n",
            "TIM3_RQ\n",
            "2.797380285\n",
            "0.1826326425\n",
            "LAG3_RQ\n",
            "2.176873623\n",
            "0.09157054993\n",
            "1_years_EDSS_from_sample_date\n",
            "5.5\n",
            "0.0\n",
            "5_years_from_sample\n",
            "6.5\n",
            "0.0\n",
            "EDSS_post_10_years\n",
            "9.0\n",
            "0.0\n",
            "MRI_lesion_mass\n",
            "47544.31\n",
            "0.0\n"
          ],
          "name": "stdout"
        }
      ]
    },
    {
      "cell_type": "code",
      "metadata": {
        "id": "9zwSgN_4KKnd",
        "colab": {
          "base_uri": "https://localhost:8080/",
          "height": 1000
        },
        "outputId": "0c4d47e9-e32e-42ae-b8ec-a08d48e857ee"
      },
      "source": [
        "degrees = df['age_at_diagnosis']\n",
        "plt.hist(degrees, bins=[15,20,25,30,35,40,45,50,55])\n",
        "# plt.title('age')\n",
        "plt.xlabel('age_at_diagnosis')\n",
        "plt.ylabel('number of patients')\n",
        "plt.show()\n",
        "\n",
        "degrees = df['treatment_when_sample_was_taken']\n",
        "plt.hist(degrees, bins=[0,1,2,3,4,5])\n",
        "# plt.title('num_of_medicine_changed')\n",
        "plt.xlabel('treatment_when_sample_was_taken')\n",
        "plt.ylabel('number of patients')\n",
        "plt.show()\n",
        "\n",
        "\n",
        "degrees = df['TIGIT_RQ']\n",
        "plt.hist(degrees, bins=[0, 0.25, 0.5, 0.75, 1, 1.25, 1.5, 1.75, 2, 2.25, 2.5, 2.75, 3])\n",
        "# plt.title('TIGIT_RQ')\n",
        "plt.xlabel('TIGIT_RQ')\n",
        "plt.ylabel('number of patients')\n",
        "plt.show()\n",
        "\n",
        "\n",
        "degrees = df['TIM3_RQ']\n",
        "plt.hist(degrees, bins=[0, 0.25, 0.5, 0.75, 1, 1.25, 1.5, 1.75, 2, 2.25, 2.5, 2.75, 3, 3.25, 3.5, 3.75, 4, 4.25, 4.5])\n",
        "# plt.title('TIM3_RQ')\n",
        "plt.xlabel('TIM3_RQ')\n",
        "plt.ylabel('number of patients')\n",
        "plt.show()\n",
        "\n",
        "\n",
        "degrees = df['LAG3_RQ']\n",
        "plt.hist(degrees, bins=[0, 0.5, 1, 1.5, 2, 2.5, 3, 3.5, 4, 4.5, 5, 5.5, 6, 6.5, 7])\n",
        "# plt.title('LAG3_RQ')\n",
        "plt.xlabel('LAG3_RQ')\n",
        "plt.ylabel('number of patients')\n",
        "plt.show()\n",
        "\n",
        "\n",
        "\n",
        "degrees = df['primary_EDSS_at_diagnosis']\n",
        "plt.hist(degrees, bins=[0, 0.5, 1, 1.5, 2, 2.5, 3, 3.5, 4, 4.5])\n",
        "# plt.title('primary_EDSS_at_diagnosis')\n",
        "plt.xlabel('primary_EDSS_at_diagnosis')\n",
        "plt.ylabel('number of patients')\n",
        "plt.show()\n",
        "\n",
        "\n",
        "degrees = df['1_years_EDSS_from_sample_date']\n",
        "plt.hist(degrees, bins=[0, 0.5, 1, 1.5, 2, 2.5, 3, 3.5, 4, 4.5, 5, 5.5])\n",
        "# plt.title('1_years_EDSS_from_sample_date')\n",
        "plt.xlabel('1_years_EDSS_from_sample_date')\n",
        "plt.ylabel('number of patients')\n",
        "plt.show()\n",
        "\n",
        "\n",
        "\n",
        "degrees = df['5_years_from_sample']\n",
        "plt.hist(degrees, bins=[0, 0.5, 1, 1.5, 2, 2.5, 3, 3.5, 4, 4.5, 5, 5.5, 6, 6.5, 7, 7.5])\n",
        "# plt.title('5_years_EDSS_from_sample_date')\n",
        "plt.xlabel('5_years_EDSS_from_sample_date')\n",
        "plt.ylabel('number of patients')\n",
        "plt.show()\n",
        "\n",
        "\n",
        "degrees = df['EDSS_post_10_years']\n",
        "plt.hist(degrees, bins=[0, 0.5, 1, 1.5, 2, 2.5, 3, 3.5, 4, 4.5, 5, 5.5, 6, 6.5, 7, 7.5])\n",
        "# plt.title('EDSS_post_10_years')\n",
        "plt.xlabel('EDSS_post_10_years')\n",
        "plt.ylabel('number of patients')\n",
        "plt.show()\n",
        "\n",
        "\n",
        "degrees = df['MRI_lesion_mass']\n",
        "plt.hist(degrees)\n",
        "# plt.title('MRI_lesion_mass')\n",
        "plt.xlabel('MRI_lesion_mass')\n",
        "plt.ylabel('number of patients')\n",
        "plt.show()"
      ],
      "execution_count": null,
      "outputs": [
        {
          "output_type": "display_data",
          "data": {
            "image/png": "[encoded data removed]",
            "text/plain": [
              "<Figure size 432x288 with 1 Axes>"
            ]
          },
          "metadata": {
            "tags": []
          }
        },
        {
          "output_type": "display_data",
          "data": {
            "image/png": "[encoded data removed]",
            "text/plain": [
              "<Figure size 432x288 with 1 Axes>"
            ]
          },
          "metadata": {
            "tags": []
          }
        },
        {
          "output_type": "display_data",
          "data": {
            "image/png": "[encoded data removed]",
            "text/plain": [
              "<Figure size 432x288 with 1 Axes>"
            ]
          },
          "metadata": {
            "tags": []
          }
        },
        {
          "output_type": "display_data",
          "data": {
            "image/png": "[encoded data removed]",
            "text/plain": [
              "<Figure size 432x288 with 1 Axes>"
            ]
          },
          "metadata": {
            "tags": []
          }
        },
        {
          "output_type": "display_data",
          "data": {
            "image/png": "[encoded data removed]",
            "text/plain": [
              "<Figure size 432x288 with 1 Axes>"
            ]
          },
          "metadata": {
            "tags": []
          }
        },
        {
          "output_type": "display_data",
          "data": {
            "image/png": "[encoded data removed]",
            "text/plain": [
              "<Figure size 432x288 with 1 Axes>"
            ]
          },
          "metadata": {
            "tags": []
          }
        },
        {
          "output_type": "display_data",
          "data": {
            "image/png": "[encoded data removed]",
            "text/plain": [
              "<Figure size 432x288 with 1 Axes>"
            ]
          },
          "metadata": {
            "tags": []
          }
        },
        {
          "output_type": "display_data",
          "data": {
            "image/png": "[encoded data removed]",
            "text/plain": [
              "<Figure size 432x288 with 1 Axes>"
            ]
          },
          "metadata": {
            "tags": []
          }
        },
        {
          "output_type": "display_data",
          "data": {
            "image/png": "[encoded data removed]",
            "text/plain": [
              "<Figure size 432x288 with 1 Axes>"
            ]
          },
          "metadata": {
            "tags": []
          }
        },
        {
          "output_type": "display_data",
          "data": {
            "image/png": "[encoded data removed]",
            "text/plain": [
              "<Figure size 432x288 with 1 Axes>"
            ]
          },
          "metadata": {
            "tags": []
          }
        }
      ]
    },
    {
      "cell_type": "code",
      "metadata": {
        "id": "HvB1N0-nuekC"
      },
      "source": [
        "df_oligoclonal_band = pd.get_dummies(df['oligoclonal_band'])\n",
        "df_gender = pd.get_dummies(df['gender'])\n",
        "df_treatment = pd.get_dummies(df['treatment_when_sample_was_taken'])\n",
        "df_diagnosis = pd.get_dummies(df['diagnosis'])\n",
        "\n",
        "df = df.merge(df_oligoclonal_band, left_index=True, right_index=True)\n",
        "df = df.merge(df_gender, left_index=True, right_index=True)\n",
        "df = df.merge(df_treatment, left_index=True, right_index=True)\n",
        "df = df.merge(df_diagnosis, left_index=True, right_index=True)\n",
        "\n",
        "df = df.rename(columns = {'POS': 'positive_OCB','RRMS' : 'diagnosis_RRMS', 'M': 'Male', 'TREATED' : 'Is_Terated'}, inplace = False)"
      ],
      "execution_count": null,
      "outputs": []
    },
    {
      "cell_type": "code",
      "metadata": {
        "id": "vnbUARZ5wLFZ"
      },
      "source": [
        "df['positive_OCB'] = df['positive_OCB'].astype('category')\n",
        "df['Male'] = df['Male'].astype('category')\n",
        "df['diagnosis_RRMS'] = df['diagnosis_RRMS'].astype('category')\n",
        "df['Is_Terated'] = df['Is_Terated'].astype('category')"
      ],
      "execution_count": null,
      "outputs": []
    },
    {
      "cell_type": "markdown",
      "metadata": {
        "id": "NCzzeXV2A3Ly"
      },
      "source": [
        "function for calculate cross validation score on one DB"
      ]
    },
    {
      "cell_type": "code",
      "metadata": {
        "id": "gdBQ5RTFFrmA"
      },
      "source": [
        "def calcCrossValidation(model, data, predictors, outcome):\n",
        "\n",
        "    # Perform k-fold cross-validation with 10 folds\n",
        "    kf = KFold(n_splits=10)\n",
        "    accuracy = []\n",
        "    for train, test in kf.split(data):\n",
        "        # Filter training data\n",
        "        train_predictors = (data[predictors].iloc[train, :])\n",
        "        # The target we're using to train the algorithm.\n",
        "        train_target = data[outcome].iloc[train]\n",
        "\n",
        "        # Training the algorithm using the predictors and target.\n",
        "        model.fit(train_predictors, train_target)\n",
        "        # Record accuracy from each cross-validation run\n",
        "        \n",
        "        accuracy.append(model.score(data[predictors].iloc[test, :], data[outcome].iloc[test]))\n",
        "  \n",
        "    print(\"Cross-Validation Score : %s\" % \"{0:.3%}\".format(np.mean(accuracy)))\n",
        "    print(accuracy)"
      ],
      "execution_count": null,
      "outputs": []
    },
    {
      "cell_type": "markdown",
      "metadata": {
        "id": "QB9Aq9q5Yqxu"
      },
      "source": [
        "function for calcuate RMSE on one DB only train "
      ]
    },
    {
      "cell_type": "code",
      "metadata": {
        "id": "XCaeeHhqYptH"
      },
      "source": [
        "def calc_rmse(model, data, predictors, outcome):\n",
        "  df_label = data[outcome]\n",
        "  df_predictors = data[predictors]\n",
        "  X_train, X_test, y_train, y_test = train_test_split(df_predictors, df_label)\n",
        "  # Fit the model on training set:\n",
        "  model.fit(X_train,  y_train)\n",
        "  # Make predictions on training set:\n",
        "  y_predicted = model.predict(X_test)\n",
        "  rmse = sqrt(mean_squared_error(y_test, y_predicted))  \n",
        "  print(rmse)"
      ],
      "execution_count": null,
      "outputs": []
    },
    {
      "cell_type": "markdown",
      "metadata": {
        "id": "xM4POuYFpWwA"
      },
      "source": [
        "function for calculate RMSE on Two databases. train on one and test on the other"
      ]
    },
    {
      "cell_type": "code",
      "metadata": {
        "id": "pIn_5o2ZsoC2"
      },
      "source": [
        "def calcRmseTwoDF(model, dataTrain, dataTest, predictors, outcome):\n",
        "\n",
        "    # Fit the model:\n",
        "    model.fit(dataTrain[predictors], dataTrain[outcome])\n",
        "    # Make predictions on training set:\n",
        "    predictions = model.predict(dataTest[predictors])\n",
        "    # Print accuracy\n",
        "    rmse = sqrt(mean_squared_error(dataTest[outcome], predictions))  \n",
        "    print(rmse)"
      ],
      "execution_count": null,
      "outputs": []
    },
    {
      "cell_type": "code",
      "metadata": {
        "id": "XPcJYH3ihOUZ"
      },
      "source": [
        "def calc_specificity(model, test_set, predicted):\r\n",
        "  specificity = tn / (tn +fp)\r\n"
      ],
      "execution_count": null,
      "outputs": []
    },
    {
      "cell_type": "markdown",
      "metadata": {
        "id": "wxcZ53DKNYX7"
      },
      "source": [
        "calculate accuracy just on train one DB"
      ]
    },
    {
      "cell_type": "code",
      "metadata": {
        "id": "rC74sZreFN4-"
      },
      "source": [
        "def calcAccuracy(model, data, predictors, outcome):\n",
        "    # Fit the model:\n",
        "    model.fit(data[predictors], data[outcome])\n",
        "    # Make predictions on training set:\n",
        "    predictions = model.predict(data[predictors])\n",
        "    # Print accuracy\n",
        "    accuracy = metrics.accuracy_score(predictions, data[outcome])\n",
        "    print(\"Training accuracy : %s\" % \"{0:.3%}\".format(accuracy))"
      ],
      "execution_count": null,
      "outputs": []
    },
    {
      "cell_type": "markdown",
      "metadata": {
        "id": "butTxKtlDg6F"
      },
      "source": [
        "calculate Accuracy Two databases train on one and test on the other"
      ]
    },
    {
      "cell_type": "code",
      "metadata": {
        "id": "CxVt3G48CgKS"
      },
      "source": [
        "def calcAccuracyTwoDF(model, dataTrain, dataTest, predictors, outcome):\n",
        "\n",
        "    # Fit the model:\n",
        "    model.fit(dataTrain[predictors], dataTrain[outcome])\n",
        "    # Make predictions on testing set:\n",
        "    predictions = model.predict(dataTest[predictors])\n",
        "    # Print accuracy\n",
        "    accuracy = metrics.accuracy_score(predictions, dataTest[outcome])\n",
        "    print(\"Training accuracy : %s\" % \"{0:.3%}\".format(accuracy))"
      ],
      "execution_count": null,
      "outputs": []
    },
    {
      "cell_type": "code",
      "metadata": {
        "id": "URY64xJNwr61"
      },
      "source": [
        "df.to_excel('dfcheck.xlsx',index=False)"
      ],
      "execution_count": null,
      "outputs": []
    },
    {
      "cell_type": "code",
      "metadata": {
        "id": "ZjGiOm353fCu",
        "colab": {
          "base_uri": "https://localhost:8080/"
        },
        "outputId": "cdab7966-3d12-4715-d94a-b416739e7598"
      },
      "source": [
        "df.dtypes"
      ],
      "execution_count": null,
      "outputs": [
        {
          "output_type": "execute_result",
          "data": {
            "text/plain": [
              "sample_code                        category\n",
              "diagnosis                          category\n",
              "TIM3_RQ                             float64\n",
              "TIGIT_RQ                            float64\n",
              "LAG3_RQ                             float64\n",
              "gender                             category\n",
              "age_at_diagnosis                      int64\n",
              "primary_EDSS_at_diagnosis           float64\n",
              "1_years_EDSS_from_sample_date       float64\n",
              "5_years_from_sample                 float64\n",
              "EDSS_post_10_years                  float64\n",
              "oligoclonal_band                   category\n",
              "MRI_lesion_mass                     float64\n",
              "treatment_when_sample_was_taken    category\n",
              "Lymph_Cells                           int64\n",
              "PMN_Cells                             int64\n",
              "Cells                                 int64\n",
              "NEG                                   uint8\n",
              "positive_OCB                       category\n",
              "F                                     uint8\n",
              "Male                               category\n",
              "Is_Terated                         category\n",
              "UNTREATED                             uint8\n",
              "diagnosis_RRMS                     category\n",
              "SPMS                                  uint8\n",
              "dtype: object"
            ]
          },
          "metadata": {
            "tags": []
          },
          "execution_count": 31
        }
      ]
    },
    {
      "cell_type": "code",
      "metadata": {
        "id": "LqMV3v3PgGLm",
        "colab": {
          "base_uri": "https://localhost:8080/"
        },
        "outputId": "de6c9ef9-8bfe-4395-86b1-37fa0c906f4e"
      },
      "source": [
        "# check RMSE mergesDB - target EDSS - Random Forest Algorithm\n",
        "rf1 = RandomForestRegressor(n_estimators = 10, random_state = 42)\n",
        "predictor_var1 = ['MRI_lesion_mass', 'primary_EDSS_at_diagnosis','age_at_diagnosis','TIM3_RQ', 'TIGIT_RQ', 'LAG3_RQ', 'Male', 'positive_OCB']\n",
        "outcome_var1 = 'EDSS_post_10_years'\n",
        "calc_rmse(rf1, df, predictor_var1, outcome_var1)"
      ],
      "execution_count": null,
      "outputs": [
        {
          "output_type": "stream",
          "text": [
            "2.1425379226515453\n"
          ],
          "name": "stdout"
        }
      ]
    },
    {
      "cell_type": "code",
      "metadata": {
        "id": "bSKgW1QSBGII",
        "colab": {
          "base_uri": "https://localhost:8080/"
        },
        "outputId": "aef3ad42-76e6-45f2-afd4-fdb86a48b28c"
      },
      "source": [
        "# check accuracy second DB target diagnosis_RRMS - Random Forest Algorithm\n",
        "rf2 = RandomForestClassifier(n_estimators=25, min_samples_split=25, max_depth=7, max_features='auto')\n",
        "predictor_var1 = ['MRI_lesion_mass', 'primary_EDSS_at_diagnosis','age_at_diagnosis','TIM3_RQ', 'TIGIT_RQ', 'LAG3_RQ', 'Male', 'positive_OCB']\n",
        "outcome_var1 = 'diagnosis_RRMS'\n",
        "calcAccuracy(rf2, df, predictor_var1, outcome_var1)"
      ],
      "execution_count": null,
      "outputs": [
        {
          "output_type": "stream",
          "text": [
            "Training accuracy : 56.250%\n"
          ],
          "name": "stdout"
        }
      ]
    },
    {
      "cell_type": "code",
      "metadata": {
        "id": "eBq4u3a76cW0",
        "colab": {
          "base_uri": "https://localhost:8080/"
        },
        "outputId": "fb0bb0ce-d2a8-4b81-fd01-0b8b86bd5b2e"
      },
      "source": [
        "# check Cross Validation Score - Random Forest Algorithm\n",
        "rf3 = RandomForestClassifier(n_estimators=25, min_samples_split=25, max_depth=7, max_features='auto')\n",
        "# Train the model on training data\n",
        "predictor_var1 = ['MRI_lesion_mass', 'primary_EDSS_at_diagnosis','age_at_diagnosis','TIM3_RQ', 'TIGIT_RQ', 'LAG3_RQ', 'Male', 'positive_OCB']\n",
        "outcome_var = 'diagnosis_RRMS'\n",
        "calcCrossValidation(rf3, df, predictor_var1, outcome_var)"
      ],
      "execution_count": null,
      "outputs": [
        {
          "output_type": "stream",
          "text": [
            "Cross-Validation Score : 50.833%\n",
            "[0.5, 0.25, 0.6666666666666666, 0.3333333333333333, 0.6666666666666666, 1.0, 0.6666666666666666, 0.3333333333333333, 0.0, 0.6666666666666666]\n"
          ],
          "name": "stdout"
        }
      ]
    },
    {
      "cell_type": "markdown",
      "metadata": {
        "id": "oKzuipFRND9h"
      },
      "source": [
        "calculate RMSE target EDSS train on one DB and test on the other"
      ]
    },
    {
      "cell_type": "code",
      "metadata": {
        "id": "7ewuZvu8v_Lk"
      },
      "source": [
        "# rf4 = RandomForestRegressor(n_estimators = 10, random_state = 42)\n",
        "# predictor_var1 = ['MRI_lesion_mass', 'primary_EDSS_at_diagnosis','age_at_diagnosis','TIM3_RQ', 'TIGIT_RQ', 'LAG3_RQ', 'Male', 'positive_OCB']\n",
        "# outcome_var1 = 'EDSS_post_10_years'\n",
        "# calcRmseTwoDF(rf4, dfSecondDB, dfFirstDB, predictor_var1, outcome_var1)"
      ],
      "execution_count": null,
      "outputs": []
    },
    {
      "cell_type": "markdown",
      "metadata": {
        "id": "EjDiUVlPMzZT"
      },
      "source": [
        "calculate RMSE target EDSS train on one DB and test on the other"
      ]
    },
    {
      "cell_type": "code",
      "metadata": {
        "id": "F5kGYQWD2GzN"
      },
      "source": [
        "# rf5 = RandomForestRegressor(n_estimators = 10, random_state = 42)\n",
        "# predictor_var1 = ['MRI_lesion_mass', 'primary_EDSS_at_diagnosis','age_at_diagnosis','TIM3_RQ', 'TIGIT_RQ', 'LAG3_RQ', 'Male', 'positive_OCB']\n",
        "# outcome_var1 = 'EDSS_post_10_years'\n",
        "# calcRmseTwoDF(rf5, dfFirstDB, dfSecondDB, predictor_var1, outcome_var1)"
      ],
      "execution_count": null,
      "outputs": []
    },
    {
      "cell_type": "markdown",
      "metadata": {
        "id": "QgqeTIJG8xbt"
      },
      "source": [
        "using logistic regression model - prediction, p-value, feature importance"
      ]
    },
    {
      "cell_type": "markdown",
      "metadata": {
        "id": "TEWuJo3-KCM2"
      },
      "source": [
        "calc accuracy each df"
      ]
    },
    {
      "cell_type": "code",
      "metadata": {
        "id": "N3sACy7N9JT2",
        "colab": {
          "base_uri": "https://localhost:8080/"
        },
        "outputId": "45d46de4-1df3-4fae-eb54-2fb311d0ab22"
      },
      "source": [
        "logisticRegrDF = LogisticRegression()\n",
        "predictor_var1 = ['MRI_lesion_mass', 'primary_EDSS_at_diagnosis','age_at_diagnosis','TIM3_RQ', 'TIGIT_RQ', 'LAG3_RQ', 'Male', 'positive_OCB']\n",
        "outcome_var = 'diagnosis_RRMS'\n",
        "calcAccuracy(logisticRegrDF, df, predictor_var1, outcome_var)"
      ],
      "execution_count": null,
      "outputs": [
        {
          "output_type": "stream",
          "text": [
            "Training accuracy : 84.375%\n"
          ],
          "name": "stdout"
        }
      ]
    },
    {
      "cell_type": "markdown",
      "metadata": {
        "id": "lgePZT5nKIqm"
      },
      "source": [
        "calc accuracy both df merged"
      ]
    },
    {
      "cell_type": "code",
      "metadata": {
        "id": "OpUm-OZyJhIQ"
      },
      "source": [
        "# logisticRegrDFMerged = LogisticRegression(max_iter = 2000)\n",
        "# predictor_var = ['MRI_lesion_mass', 'primary_EDSS_at_diagnosis','age_at_diagnosis','TIM3_RQ', 'TIGIT_RQ', 'LAG3_RQ', 'Male', 'positive_OCB']\n",
        "# outcome_var = 'diagnosis_RRMS'\n",
        "# calcAccuracyTwoDF(logisticRegrDFMerged, dfFirstDB, dfSecondDB, predictor_var, outcome_var)"
      ],
      "execution_count": null,
      "outputs": []
    },
    {
      "cell_type": "code",
      "metadata": {
        "id": "H39Tn9xFroPF"
      },
      "source": [
        "# rf3 = RandomForestClassifier(n_estimators=25, min_samples_split=25, max_depth=7, max_features='auto')\n",
        "# predictor_var = ['MRI_lesion_mass', 'primary_EDSS_at_diagnosis','age_at_diagnosis','TIM3_RQ', 'TIGIT_RQ', 'LAG3_RQ', 'Male', 'positive_OCB']\n",
        "# outcome_var = 'diagnosis_RRMS'\n",
        "# calcAccuracyTwoDF(rf3, dfFirstDB, dfSecondDB, predictor_var, outcome_var)"
      ],
      "execution_count": null,
      "outputs": []
    },
    {
      "cell_type": "code",
      "metadata": {
        "id": "5xOVz_dCJ7r1"
      },
      "source": [
        "# logisticRegrDFMerged = LogisticRegression(max_iter = 2000)\n",
        "# predictor_var = ['MRI_lesion_mass', 'primary_EDSS_at_diagnosis','age_at_diagnosis','TIM3_RQ', 'TIGIT_RQ', 'LAG3_RQ', 'Male', 'positive_OCB']\n",
        "# outcome_var = 'diagnosis_RRMS'\n",
        "# calcAccuracyTwoDF(logisticRegrDFMerged, dfSecondDB, dfFirstDB, predictor_var, outcome_var)\n",
        "\n"
      ],
      "execution_count": null,
      "outputs": []
    },
    {
      "cell_type": "code",
      "metadata": {
        "id": "e2Ileit7saUi"
      },
      "source": [
        "# rf3 = RandomForestClassifier(n_estimators=25, min_samples_split=25, max_depth=7, max_features='auto')\n",
        "# predictor_var = ['MRI_lesion_mass', 'primary_EDSS_at_diagnosis','age_at_diagnosis','TIM3_RQ', 'TIGIT_RQ', 'LAG3_RQ', 'Male', 'positive_OCB']\n",
        "# outcome_var = 'diagnosis_RRMS'\n",
        "# calcAccuracyTwoDF(rf3, dfSecondDB, dfFirstDB, predictor_var, outcome_var)"
      ],
      "execution_count": null,
      "outputs": []
    },
    {
      "cell_type": "markdown",
      "metadata": {
        "id": "nUhTQAbJ6fkS"
      },
      "source": [
        "Calculate feature importances"
      ]
    },
    {
      "cell_type": "code",
      "metadata": {
        "id": "pzD4B37P0bc_",
        "colab": {
          "base_uri": "https://localhost:8080/"
        },
        "outputId": "9472e45b-bc92-4e5d-92ab-1213b5528f1e"
      },
      "source": [
        "rf = RandomForestClassifier(n_estimators=25, min_samples_split=25, max_depth=7, max_features='auto')\n",
        "predictor_var = ['primary_EDSS_at_diagnosis', 'MRI_lesion_mass', 'age_at_diagnosis','TIM3_RQ', 'TIGIT_RQ', 'LAG3_RQ', 'Male', 'positive_OCB']\n",
        "outcome_var = 'diagnosis_RRMS'\n",
        "rf.fit(df[predictor_var], df[outcome_var])\n",
        "importances = rf.feature_importances_\n",
        "importances\n"
      ],
      "execution_count": null,
      "outputs": [
        {
          "output_type": "execute_result",
          "data": {
            "text/plain": [
              "array([0., 0., 0., 0., 0., 0., 0., 0.])"
            ]
          },
          "metadata": {
            "tags": []
          },
          "execution_count": 42
        }
      ]
    },
    {
      "cell_type": "code",
      "metadata": {
        "id": "MxEujUEW-NEE"
      },
      "source": [
        "df.to_excel('dfcheck.xlsx',index=False)"
      ],
      "execution_count": null,
      "outputs": []
    },
    {
      "cell_type": "code",
      "metadata": {
        "id": "VKHn9nKvxuZO",
        "colab": {
          "base_uri": "https://localhost:8080/",
          "height": 285
        },
        "outputId": "1819ca96-e688-48f0-cb68-f5c518310870"
      },
      "source": [
        "\n",
        "from sklearn import linear_model\n",
        "\n",
        "rf = RandomForestRegressor(n_estimators = 10, random_state = 42)\n",
        "\n",
        "\n",
        "\n",
        "\n",
        "\n",
        "from sklearn import datasets\n",
        "\n",
        "# boston = datasets.load_boston()\n",
        "# print(boston)\n",
        "# print(outcome_var)\n",
        "predictor_var = ['MRI_lesion_mass', 'primary_EDSS_at_diagnosis','age_at_diagnosis','TIM3_RQ', 'TIGIT_RQ', 'LAG3_RQ', 'Male', 'positive_OCB']\n",
        "outcome_var = 'EDSS_post_10_years'\n",
        "y = df[outcome_var]\n",
        "\n",
        "\n",
        "\n",
        "\n",
        "# df[outcome_var]\n",
        "\n",
        "from sklearn.model_selection import cross_val_predict\n",
        "\n",
        "predicted = cross_val_predict(rf, df[predictor_var], y, cv=10)\n",
        "\n",
        "\n",
        "fig, ax = plt.subplots()\n",
        "ax.scatter(y, predicted, edgecolors=(0, 0, 0))\n",
        "ax.plot([y.min(), y.max()], [y.min(), y.max()], 'k--', lw=4)\n",
        "ax.set_xlabel('Measured')\n",
        "ax.set_ylabel('Predicted')\n",
        "plt.show()"
      ],
      "execution_count": null,
      "outputs": [
        {
          "output_type": "display_data",
          "data": {
            "image/png": "[encoded data removed]",
            "text/plain": [
              "<Figure size 432x288 with 1 Axes>"
            ]
          },
          "metadata": {
            "tags": []
          }
        }
      ]
    },
    {
      "cell_type": "code",
      "metadata": {
        "id": "EPR8or6FOxYR"
      },
      "source": [
        "# print(__doc__)\n",
        "\n",
        "# import numpy as np\n",
        "# import matplotlib.pyplot as plt\n",
        "\n",
        "# from sklearn import svm, datasets\n",
        "# from sklearn.model_selection import train_test_split\n",
        "# from sklearn.metrics import plot_confusion_matrix\n",
        "\n",
        "# model = RandomForestClassifier(n_estimators=25, min_samples_split=25, max_depth=7, max_features='auto')\n",
        "# predictor_var = ['MRI_lesion_mass', 'primary_EDSS_at_diagnosis','age_at_diagnosis','TIM3_RQ', 'TIGIT_RQ', 'LAG3_RQ', 'PD-1_RQ', 'Male', 'positive_OCB']\n",
        "# outcome_var = 'diagnosis_RRMS'\n",
        "\n",
        "# # Fit the model:\n",
        "# model.fit(dfMerged[predictor_var], dfMerged[outcome_var])\n",
        "# # Make predictions on training set:\n",
        "# predictions = model.predict(dfMerged[predictor_var])\n",
        "# # Print accuracy\n",
        "\n",
        "# # Plot non-normalized confusion matrix\n",
        "# titles_options = [(\"Confusion matrix, without normalization\", None),\n",
        "#                   (\"Normalized confusion matrix\", 'true')]\n",
        "# for title, normalize in titles_options:\n",
        "#     disp = plot_confusion_matrix(model, X_test, y_test,\n",
        "#                                  display_labels=class_names,\n",
        "#                                  cmap=plt.cm.Blues,\n",
        "#                                  normalize=normalize)\n",
        "#     disp.ax_.set_title(title)\n",
        "\n",
        "#     print(title)\n",
        "#     print(disp.confusion_matrix)\n",
        "\n",
        "# plt.show()\n",
        "\n",
        "\n",
        "# # X = dfMerged[predictor_var]\n",
        "# # y = dfMerged[outcome_var]\n",
        "# class_names = ['SPMS', 'RRMS']\n",
        "\n",
        "# # Split the data into a training set and a test set\n",
        "# X_train, X_test, y_train, y_test = train_test_split(X, y, random_state=0)\n",
        "\n",
        "# # # Run classifier, using a model that is too regularized (C too low) to see\n",
        "# # # the impact on the results\n",
        "# # classifier = svm.SVC(kernel='linear', C=0.01).fit(X_train, y_train)\n",
        "\n",
        "# np.set_printoptions(precision=2)\n",
        "\n",
        "# # Plot non-normalized confusion matrix\n",
        "# titles_options = [(\"Confusion matrix, without normalization\", None),\n",
        "#                   (\"Normalized confusion matrix\", 'true')]\n",
        "# for title, normalize in titles_options:\n",
        "#     disp = plot_confusion_matrix(classifier, X_test, y_test,\n",
        "#                                  display_labels=class_names,\n",
        "#                                  cmap=plt.cm.Blues,\n",
        "#                                  normalize=normalize)\n",
        "#     disp.ax_.set_title(title)\n",
        "\n",
        "#     print(title)\n",
        "#     print(disp.confusion_matrix)\n",
        "\n",
        "# plt.show()"
      ],
      "execution_count": null,
      "outputs": []
    },
    {
      "cell_type": "code",
      "metadata": {
        "id": "xGvmciG3Q1cf"
      },
      "source": [
        "df.to_csv('df_all_patients_weka_all.csv',index=False)"
      ],
      "execution_count": null,
      "outputs": []
    },
    {
      "cell_type": "code",
      "metadata": {
        "id": "EgptLL__wZmp",
        "colab": {
          "base_uri": "https://localhost:8080/"
        },
        "outputId": "64c02b1d-fba2-4e55-a08d-2842bca249f0"
      },
      "source": [
        "rf = RandomForestClassifier(n_estimators=25, min_samples_split=25, max_depth=7, max_features='auto')\r\n",
        "predictor_var = ['primary_EDSS_at_diagnosis', 'MRI_lesion_mass', 'age_at_diagnosis','TIM3_RQ', 'TIGIT_RQ', 'LAG3_RQ', 'Male', 'positive_OCB']\r\n",
        "outcome_var = 'diagnosis_RRMS'\r\n",
        "rf.fit(df[predictor_var], df[outcome_var])\r\n",
        "importances = rf.feature_importances_\r\n",
        "importances"
      ],
      "execution_count": null,
      "outputs": [
        {
          "output_type": "execute_result",
          "data": {
            "text/plain": [
              "array([0., 0., 0., 0., 0., 0., 0., 0.])"
            ]
          },
          "metadata": {
            "tags": []
          },
          "execution_count": 47
        }
      ]
    },
    {
      "cell_type": "code",
      "metadata": {
        "id": "m4zj_z2FxJY1",
        "colab": {
          "base_uri": "https://localhost:8080/"
        },
        "outputId": "a25dbdab-8702-4ef6-ee7b-d86516bf8b4f"
      },
      "source": [
        "logisticRegrDF = LogisticRegression()\r\n",
        "predictor_var1 = ['MRI_lesion_mass', 'primary_EDSS_at_diagnosis','age_at_diagnosis','TIM3_RQ', 'TIGIT_RQ', 'LAG3_RQ', 'Male', 'positive_OCB']\r\n",
        "outcome_var = 'diagnosis_RRMS'\r\n",
        "calcAccuracy(logisticRegrDF, df, predictor_var1, outcome_var)"
      ],
      "execution_count": null,
      "outputs": [
        {
          "output_type": "stream",
          "text": [
            "Training accuracy : 84.375%\n"
          ],
          "name": "stdout"
        }
      ]
    },
    {
      "cell_type": "code",
      "metadata": {
        "id": "ZmZIcqibsCHW"
      },
      "source": [
        "def calcCrossValidation_Matrix(model, df, predictors, outcome):\r\n",
        "\r\n",
        "  total_tp = 0\r\n",
        "  total_tn = 0\r\n",
        "  total_fp = 0\r\n",
        "  total_fn = 0\r\n",
        "\r\n",
        "  # Perform k-fold cross-validation with 10 folds\r\n",
        "  kf = KFold(n_splits=57)\r\n",
        "  accuracy = []\r\n",
        "  for train, test in kf.split(df):\r\n",
        "      # print(\"1\")\r\n",
        "\r\n",
        "      # Filter training data\r\n",
        "      train_predictors = (df[predictors].iloc[train, :])\r\n",
        "      # The target we're using to train the algorithm.\r\n",
        "      train_target = df[outcome].iloc[train]\r\n",
        "      # print(\"1\")\r\n",
        "\r\n",
        "      test_predictors = (df[predictors].iloc[test, :])\r\n",
        "      # The target we're using to train the algorithm.\r\n",
        "      test_target = df[outcome].iloc[test]\r\n",
        "      # print(\"1\")\r\n",
        "\r\n",
        "\r\n",
        "      # Training the algorithm using the predictors and target.\r\n",
        "      model.fit(train_predictors, train_target)\r\n",
        "      predictions = model.predict(test_predictors)\r\n",
        "      # cm = confusion_matrix(test_target, predictions)\r\n",
        "      # print(cm)\r\n",
        "      # print(\"1\")\r\n",
        "      # print(\"test_target\")\r\n",
        "      test_target = test_target.to_numpy()\r\n",
        "      # print(test_target)\r\n",
        "      # np.array(df[outcome].values.tolist())\r\n",
        "      # print(type(test_target))\r\n",
        "      # print(\"predictions\")\r\n",
        "      # print(predictions)\r\n",
        "      # print(type(predictions))\r\n",
        "\r\n",
        "      tn, fp, fn, tp = perf_measure(test_target, predictions)\r\n",
        "      # print(\"1\")\r\n",
        "\r\n",
        "      total_tp += tp\r\n",
        "      total_tn += tn\r\n",
        "      total_fp += fp\r\n",
        "      total_fn += fn\r\n",
        "\r\n",
        "  # print(total_tn, total_fp, total_fn, total_tp)\r\n",
        "  return total_tn, total_fp, total_fn, total_tp "
      ],
      "execution_count": null,
      "outputs": []
    },
    {
      "cell_type": "code",
      "metadata": {
        "id": "QmkOlEBaYWIh"
      },
      "source": [
        "def perf_measure(y_actual, y_hat):\r\n",
        "    TP = 0\r\n",
        "    FP = 0\r\n",
        "    TN = 0\r\n",
        "    FN = 0\r\n",
        "\r\n",
        "    for i in range(len(y_hat)): \r\n",
        "        if y_actual[i]==y_hat[i]==1:\r\n",
        "           TP += 1\r\n",
        "        if y_hat[i]==1 and y_actual[i]!=y_hat[i]:\r\n",
        "           FP += 1\r\n",
        "        if y_actual[i]==y_hat[i]==0:\r\n",
        "           TN += 1\r\n",
        "        if y_hat[i]==0 and y_actual[i]!=y_hat[i]:\r\n",
        "           FN += 1\r\n",
        "    # print(TN, FP, FN, TP)\r\n",
        "    return(TN, FP, FN, TP)"
      ],
      "execution_count": null,
      "outputs": []
    },
    {
      "cell_type": "code",
      "metadata": {
        "id": "0n-dU50HohOo"
      },
      "source": [
        "def calc_specificity(tn, fp, fn, tp):\r\n",
        "  return tn / (tn +fp)"
      ],
      "execution_count": null,
      "outputs": []
    },
    {
      "cell_type": "code",
      "metadata": {
        "id": "RqfyFAOYpXdx"
      },
      "source": [
        "def calc_sensitivity(tn, fp, fn, tp):\r\n",
        "  return tp / (tp +fn)"
      ],
      "execution_count": null,
      "outputs": []
    },
    {
      "cell_type": "code",
      "metadata": {
        "id": "ji-nN9tpxSGm"
      },
      "source": [
        "df_untreated = pd.read_pickle(\"/content/gdrive/My Drive/Colab Notebooks/MS_Notebooks/DFDB1Final.pkl\")\r\n",
        "\r\n",
        "df_untreated"
      ],
      "execution_count": null,
      "outputs": []
    },
    {
      "cell_type": "code",
      "metadata": {
        "colab": {
          "base_uri": "https://localhost:8080/"
        },
        "id": "xLQS6HQcyfo-",
        "outputId": "ee025e4e-b9af-41c6-bc90-e4afc8d6a7e1"
      },
      "source": [
        "df_untreated.shape"
      ],
      "execution_count": null,
      "outputs": [
        {
          "output_type": "execute_result",
          "data": {
            "text/plain": [
              "(57, 36)"
            ]
          },
          "metadata": {
            "tags": []
          },
          "execution_count": 54
        }
      ]
    },
    {
      "cell_type": "code",
      "metadata": {
        "id": "GyD-p5HZzSQ_"
      },
      "source": [
        "# categorical_features = ['gender','oligoclonal_band','diagnosis']\r\n",
        "# df_untreated = pd.get_dummies(df_untreated, columns=categorical_features, drop_first=True)\r\n",
        "# df_untreated.drop(['treatment_when_sample_was_taken', 'sample_code'], axis='columns', inplace=True)\r\n",
        "df_untreated = df_untreated[['MRI_lesion_mass','primary_EDSS_at_diagnosis','primary_EDSS_at_sample_date','age_at_diagnosis','TIM3_RQ', 'TIGIT_RQ', 'LAG3_RQ', 'PD-1_RQ', 'Male', 'positive_OCB', 'OTHER_TREATMENT', 'UNTREATED', 'med_IFN','med_TYSABRI','cells_total', 'SPMS']]\r\n",
        "df_untreated\r\n"
      ],
      "execution_count": null,
      "outputs": []
    },
    {
      "cell_type": "code",
      "metadata": {
        "colab": {
          "base_uri": "https://localhost:8080/"
        },
        "id": "t9kJXvTXAfI7",
        "outputId": "d75fb375-a3b7-44ce-d171-e36226c6b202"
      },
      "source": [
        "df_untreated.columns.values"
      ],
      "execution_count": null,
      "outputs": [
        {
          "output_type": "execute_result",
          "data": {
            "text/plain": [
              "array(['MRI_lesion_mass', 'primary_EDSS_at_diagnosis',\n",
              "       'primary_EDSS_at_sample_date', 'age_at_diagnosis', 'TIM3_RQ',\n",
              "       'TIGIT_RQ', 'LAG3_RQ', 'PD-1_RQ', 'Male', 'positive_OCB',\n",
              "       'OTHER_TREATMENT', 'UNTREATED', 'med_IFN', 'med_TYSABRI',\n",
              "       'cells_total', 'SPMS'], dtype=object)"
            ]
          },
          "metadata": {
            "tags": []
          },
          "execution_count": 56
        }
      ]
    },
    {
      "cell_type": "markdown",
      "metadata": {
        "id": "UCDUgSXbMo5J"
      },
      "source": [
        "all features"
      ]
    },
    {
      "cell_type": "code",
      "metadata": {
        "colab": {
          "base_uri": "https://localhost:8080/"
        },
        "id": "zISrNTfN3Sfr",
        "outputId": "6e2638c4-b3cb-4ae8-ef8a-fda53e82bf4a"
      },
      "source": [
        "from sklearn.metrics import confusion_matrix\r\n",
        "\r\n",
        "logisticRegrDF = LogisticRegression(max_iter = 4000)\r\n",
        "predictor_var1 = ['MRI_lesion_mass','primary_EDSS_at_diagnosis','primary_EDSS_at_sample_date','age_at_diagnosis','TIM3_RQ', 'TIGIT_RQ', 'LAG3_RQ', 'PD-1_RQ', 'Male', 'positive_OCB', 'OTHER_TREATMENT', 'UNTREATED', 'med_IFN','med_TYSABRI','cells_total']\r\n",
        "outcome_var = 'SPMS'\r\n",
        "tn, fp, fn, tp = calcCrossValidation_Matrix(logisticRegrDF, df_untreated, predictor_var1, outcome_var)\r\n",
        "print(calc_specificity(tn, fp, fn, tp))\r\n",
        "print(calc_sensitivity(tn, fp, fn, tp))\r\n",
        "coefficients = pd.concat([pd.DataFrame(predictor_var1), pd.DataFrame(np.transpose(logisticRegrDF.coef_))], axis=1)\r\n",
        "coefficients.columns = ['feature_name', 'coefficient_val']\r\n",
        "coefficients = coefficients.sort_values(by=['coefficient_val'], ascending=False)\r\n",
        "coefficients.to_excel('coef_no_abs.xlsx')\r\n",
        "coefficients['coefficient_val'] = coefficients['coefficient_val'].abs()\r\n",
        "\r\n",
        "coefficients = coefficients.sort_values(by=['coefficient_val'], ascending=False)\r\n",
        "coefficients.to_excel('coef_abs.xlsx')\r\n",
        "\r\n",
        "print(coefficients) \r\n"
      ],
      "execution_count": null,
      "outputs": [
        {
          "output_type": "stream",
          "text": [
            "0.8857142857142857\n",
            "0.8636363636363636\n",
            "                   feature_name  coefficient_val\n",
            "4                       TIM3_RQ         0.932611\n",
            "2   primary_EDSS_at_sample_date         0.926437\n",
            "8                          Male         0.832701\n",
            "1     primary_EDSS_at_diagnosis         0.825729\n",
            "10              OTHER_TREATMENT         0.649004\n",
            "9                  positive_OCB         0.535713\n",
            "13                  med_TYSABRI         0.428854\n",
            "6                       LAG3_RQ         0.425748\n",
            "11                    UNTREATED         0.309109\n",
            "14                  cells_total         0.178178\n",
            "5                      TIGIT_RQ         0.132422\n",
            "3              age_at_diagnosis         0.116218\n",
            "7                       PD-1_RQ         0.049813\n",
            "12                      med_IFN         0.048758\n",
            "0               MRI_lesion_mass         0.000071\n"
          ],
          "name": "stdout"
        }
      ]
    },
    {
      "cell_type": "code",
      "metadata": {
        "colab": {
          "base_uri": "https://localhost:8080/",
          "height": 586
        },
        "id": "iZgWqqmcJmgI",
        "outputId": "118e190b-5521-4539-80c3-f34336aadec9"
      },
      "source": [
        "from sklearn.metrics import confusion_matrix\r\n",
        "import numpy as np\r\n",
        "import matplotlib.pyplot as plt\r\n",
        "\r\n",
        "from sklearn.datasets import make_classification\r\n",
        "from sklearn.ensemble import ExtraTreesClassifier\r\n",
        "\r\n",
        "\r\n",
        "rf = RandomForestClassifier(n_estimators=25, min_samples_split=9, max_depth=15, max_features='auto')\r\n",
        "predictor_var1 = ['MRI_lesion_mass','primary_EDSS_at_diagnosis','primary_EDSS_at_sample_date','age_at_diagnosis','TIM3_RQ', 'TIGIT_RQ', 'LAG3_RQ', 'PD-1_RQ', 'Male', 'positive_OCB', 'OTHER_TREATMENT', 'UNTREATED', 'med_IFN','med_TYSABRI','cells_total']\r\n",
        "outcome_var = 'SPMS'\r\n",
        "tn, fp, fn, tp = calcCrossValidation_Matrix(rf, df_untreated, predictor_var1, outcome_var)\r\n",
        "print(calc_specificity(tn, fp, fn, tp))\r\n",
        "print(calc_sensitivity(tn, fp, fn, tp))\r\n",
        "# importances = rf.feature_importances_\r\n",
        "# importances\r\n",
        "importances = rf.feature_importances_\r\n",
        "std = np.std([tree.feature_importances_ for tree in rf.estimators_],\r\n",
        "             axis=0)\r\n",
        "indices = np.argsort(importances)[::-1]\r\n",
        "\r\n",
        "# Print the feature ranking\r\n",
        "print(\"Feature ranking:\")\r\n",
        "\r\n",
        "for f in range(len(predictor_var1)):\r\n",
        "    print(\"%d. feature %d (%f)\" % (f + 1, indices[f], importances[indices[f]]))\r\n",
        "\r\n",
        "# Plot the impurity-based feature importances of the forest\r\n",
        "plt.figure()\r\n",
        "plt.title(\"Feature importances\")\r\n",
        "plt.bar(range(len(predictor_var1)), importances[indices],\r\n",
        "        color=\"r\", yerr=std[indices], align=\"center\")\r\n",
        "plt.xticks(range(len(predictor_var1)), indices)\r\n",
        "plt.xlim([-1, len(predictor_var1)])\r\n",
        "plt.show()\r\n"
      ],
      "execution_count": null,
      "outputs": [
        {
          "output_type": "stream",
          "text": [
            "0.8857142857142857\n",
            "0.6363636363636364\n",
            "Feature ranking:\n",
            "1. feature 2 (0.290939)\n",
            "2. feature 1 (0.196330)\n",
            "3. feature 3 (0.119145)\n",
            "4. feature 0 (0.108593)\n",
            "5. feature 6 (0.072331)\n",
            "6. feature 5 (0.062888)\n",
            "7. feature 4 (0.050539)\n",
            "8. feature 7 (0.044755)\n",
            "9. feature 8 (0.012841)\n",
            "10. feature 14 (0.012035)\n",
            "11. feature 9 (0.010756)\n",
            "12. feature 11 (0.009803)\n",
            "13. feature 10 (0.004951)\n",
            "14. feature 12 (0.004095)\n",
            "15. feature 13 (0.000000)\n"
          ],
          "name": "stdout"
        },
        {
          "output_type": "display_data",
          "data": {
            "image/png": "[encoded data removed]",
            "text/plain": [
              "<Figure size 432x288 with 1 Axes>"
            ]
          },
          "metadata": {
            "tags": []
          }
        }
      ]
    },
    {
      "cell_type": "code",
      "metadata": {
        "id": "HjUnsRBQXDS2"
      },
      "source": [
        ""
      ],
      "execution_count": null,
      "outputs": []
    },
    {
      "cell_type": "markdown",
      "metadata": {
        "id": "XvUq3hHyMrAy"
      },
      "source": [
        "no genes"
      ]
    },
    {
      "cell_type": "code",
      "metadata": {
        "id": "YO03kv6QMPhT",
        "colab": {
          "base_uri": "https://localhost:8080/"
        },
        "outputId": "41f78bb6-60dd-4b3f-a637-ff6c4550e577"
      },
      "source": [
        "from sklearn.metrics import confusion_matrix\n",
        "\n",
        "logisticRegrDF = LogisticRegression(max_iter = 4000)\n",
        "predictor_var1 = ['MRI_lesion_mass','primary_EDSS_at_diagnosis','primary_EDSS_at_sample_date','age_at_diagnosis', 'Male', 'positive_OCB', 'OTHER_TREATMENT', 'UNTREATED', 'med_IFN','med_TYSABRI','cells_total']\n",
        "outcome_var = 'SPMS'\n",
        "tn, fp, fn, tp = calcCrossValidation_Matrix(logisticRegrDF, df_untreated, predictor_var1, outcome_var)\n",
        "print(calc_specificity(tn, fp, fn, tp))\n",
        "print(calc_sensitivity(tn, fp, fn, tp))\n",
        "coefficients = pd.concat([pd.DataFrame(predictor_var1), pd.DataFrame(np.transpose(logisticRegrDF.coef_))], axis=1)\n",
        "coefficients.columns = ['feature_name', 'coefficient_val']\n",
        "coefficients = coefficients.sort_values(by=['coefficient_val'], ascending=False)\n",
        "coefficients.to_excel('coef_no_abs.xlsx')\n",
        "coefficients['coefficient_val'] = coefficients['coefficient_val'].abs()\n",
        "\n",
        "coefficients = coefficients.sort_values(by=['coefficient_val'], ascending=False)\n",
        "coefficients.to_excel('coef_abs.xlsx')\n",
        "\n",
        "print(coefficients) "
      ],
      "execution_count": null,
      "outputs": [
        {
          "output_type": "stream",
          "text": [
            "0.9142857142857143\n",
            "0.6818181818181818\n",
            "                   feature_name  coefficient_val\n",
            "2   primary_EDSS_at_sample_date         0.972683\n",
            "4                          Male         0.919273\n",
            "6               OTHER_TREATMENT         0.822374\n",
            "1     primary_EDSS_at_diagnosis         0.767973\n",
            "5                  positive_OCB         0.577108\n",
            "7                     UNTREATED         0.410626\n",
            "8                       med_IFN         0.343254\n",
            "9                   med_TYSABRI         0.298978\n",
            "10                  cells_total         0.215346\n",
            "3              age_at_diagnosis         0.113939\n",
            "0               MRI_lesion_mass         0.000084\n"
          ],
          "name": "stdout"
        }
      ]
    },
    {
      "cell_type": "code",
      "metadata": {
        "id": "YdACYxsIMcwc",
        "colab": {
          "base_uri": "https://localhost:8080/"
        },
        "outputId": "bfe6865b-f114-4633-af89-ceb33783c730"
      },
      "source": [
        "from sklearn.metrics import confusion_matrix\n",
        "\n",
        "rf = RandomForestClassifier(n_estimators=25, min_samples_split=9, max_depth=15, max_features='auto')\n",
        "predictor_var1 = ['MRI_lesion_mass','primary_EDSS_at_diagnosis','primary_EDSS_at_sample_date','age_at_diagnosis', 'Male', 'positive_OCB', 'OTHER_TREATMENT', 'UNTREATED', 'med_IFN','med_TYSABRI','cells_total']\n",
        "outcome_var = 'SPMS'\n",
        "tn, fp, fn, tp = calcCrossValidation_Matrix(rf, df_untreated, predictor_var1, outcome_var)\n",
        "print(calc_specificity(tn, fp, fn, tp))\n",
        "print(calc_sensitivity(tn, fp, fn, tp))"
      ],
      "execution_count": null,
      "outputs": [
        {
          "output_type": "stream",
          "text": [
            "0.9428571428571428\n",
            "0.7727272727272727\n"
          ],
          "name": "stdout"
        }
      ]
    },
    {
      "cell_type": "markdown",
      "metadata": {
        "id": "OPAnJHWDMs15"
      },
      "source": [
        "no TIM3"
      ]
    },
    {
      "cell_type": "code",
      "metadata": {
        "id": "SEn1xbC1Mj2U",
        "colab": {
          "base_uri": "https://localhost:8080/"
        },
        "outputId": "67c949d2-2918-4614-e985-4793664e9500"
      },
      "source": [
        "from sklearn.metrics import confusion_matrix\n",
        "\n",
        "logisticRegrDF = LogisticRegression(max_iter = 4000)\n",
        "predictor_var1 = ['MRI_lesion_mass','primary_EDSS_at_diagnosis','primary_EDSS_at_sample_date','age_at_diagnosis', 'TIGIT_RQ', 'LAG3_RQ', 'PD-1_RQ', 'Male', 'positive_OCB', 'OTHER_TREATMENT', 'UNTREATED', 'med_IFN','med_TYSABRI','cells_total']\n",
        "outcome_var = 'SPMS'\n",
        "tn, fp, fn, tp = calcCrossValidation_Matrix(logisticRegrDF, df_untreated, predictor_var1, outcome_var)\n",
        "print(calc_specificity(tn, fp, fn, tp))\n",
        "print(calc_sensitivity(tn, fp, fn, tp))\n"
      ],
      "execution_count": null,
      "outputs": [
        {
          "output_type": "stream",
          "text": [
            "0.8857142857142857\n",
            "0.7727272727272727\n"
          ],
          "name": "stdout"
        }
      ]
    },
    {
      "cell_type": "code",
      "metadata": {
        "id": "Gd6wyEHoMxa-",
        "colab": {
          "base_uri": "https://localhost:8080/"
        },
        "outputId": "e8d4d80e-4e1e-4485-91f3-7762a76296fe"
      },
      "source": [
        "from sklearn.metrics import confusion_matrix\n",
        "\n",
        "rf = RandomForestClassifier(n_estimators=25, min_samples_split=9, max_depth=15, max_features='auto')\n",
        "predictor_var1 = ['MRI_lesion_mass','primary_EDSS_at_diagnosis','primary_EDSS_at_sample_date','age_at_diagnosis', 'TIGIT_RQ', 'LAG3_RQ', 'PD-1_RQ', 'Male', 'positive_OCB', 'OTHER_TREATMENT', 'UNTREATED', 'med_IFN','med_TYSABRI','cells_total']\n",
        "outcome_var = 'SPMS'\n",
        "tn, fp, fn, tp = calcCrossValidation_Matrix(rf, df_untreated, predictor_var1, outcome_var)\n",
        "print(calc_specificity(tn, fp, fn, tp))\n",
        "print(calc_sensitivity(tn, fp, fn, tp))"
      ],
      "execution_count": null,
      "outputs": [
        {
          "output_type": "stream",
          "text": [
            "0.9142857142857143\n",
            "0.6818181818181818\n"
          ],
          "name": "stdout"
        }
      ]
    },
    {
      "cell_type": "markdown",
      "metadata": {
        "id": "LJOvAqKzM50E"
      },
      "source": [
        "no TIGIT_RQ"
      ]
    },
    {
      "cell_type": "code",
      "metadata": {
        "id": "zzsTulskM5FN",
        "colab": {
          "base_uri": "https://localhost:8080/"
        },
        "outputId": "46bbf697-612c-46d8-ad7e-0f8c82633137"
      },
      "source": [
        "from sklearn.metrics import confusion_matrix\n",
        "\n",
        "logisticRegrDF = LogisticRegression(max_iter = 4000)\n",
        "predictor_var1 = ['MRI_lesion_mass','primary_EDSS_at_diagnosis','primary_EDSS_at_sample_date','age_at_diagnosis','TIM3_RQ', 'LAG3_RQ', 'PD-1_RQ', 'Male', 'positive_OCB', 'OTHER_TREATMENT', 'UNTREATED', 'med_IFN','med_TYSABRI','cells_total']\n",
        "outcome_var = 'SPMS'\n",
        "tn, fp, fn, tp = calcCrossValidation_Matrix(logisticRegrDF, df_untreated, predictor_var1, outcome_var)\n",
        "print(calc_specificity(tn, fp, fn, tp))\n",
        "print(calc_sensitivity(tn, fp, fn, tp))\n",
        "coefficients = pd.concat([pd.DataFrame(predictor_var1), pd.DataFrame(np.transpose(logisticRegrDF.coef_))], axis=1)\n",
        "coefficients.columns = ['feature_name', 'coefficient_val']\n",
        "coefficients = coefficients.sort_values(by=['coefficient_val'], ascending=False)\n",
        "coefficients.to_excel('coef_no_abs.xlsx')\n",
        "coefficients['coefficient_val'] = coefficients['coefficient_val'].abs()\n",
        "\n",
        "coefficients = coefficients.sort_values(by=['coefficient_val'], ascending=False)\n",
        "coefficients.to_excel('coef_abs.xlsx')\n",
        "\n",
        "print(coefficients)"
      ],
      "execution_count": null,
      "outputs": [
        {
          "output_type": "stream",
          "text": [
            "0.7714285714285715\n",
            "0.8636363636363636\n",
            "                   feature_name  coefficient_val\n",
            "1     primary_EDSS_at_diagnosis         0.899870\n",
            "4                       TIM3_RQ         0.889441\n",
            "7                          Male         0.835161\n",
            "2   primary_EDSS_at_sample_date         0.769997\n",
            "9               OTHER_TREATMENT         0.699098\n",
            "12                  med_TYSABRI         0.634000\n",
            "5                       LAG3_RQ         0.466304\n",
            "8                  positive_OCB         0.454940\n",
            "11                      med_IFN         0.364407\n",
            "13                  cells_total         0.180267\n",
            "6                       PD-1_RQ         0.147795\n",
            "10                    UNTREATED         0.094729\n",
            "3              age_at_diagnosis         0.088672\n",
            "0               MRI_lesion_mass         0.000056\n"
          ],
          "name": "stdout"
        }
      ]
    },
    {
      "cell_type": "code",
      "metadata": {
        "id": "qTmbplGHNkTM",
        "colab": {
          "base_uri": "https://localhost:8080/"
        },
        "outputId": "e390d0a9-4e92-4a1c-a097-41b83174407b"
      },
      "source": [
        "from sklearn.metrics import confusion_matrix\n",
        "\n",
        "rf = RandomForestClassifier(n_estimators=25, min_samples_split=9, max_depth=15, max_features='auto')\n",
        "predictor_var1 = ['MRI_lesion_mass','primary_EDSS_at_diagnosis','primary_EDSS_at_sample_date','age_at_diagnosis','TIM3_RQ', 'LAG3_RQ', 'PD-1_RQ', 'Male', 'positive_OCB', 'OTHER_TREATMENT', 'UNTREATED', 'med_IFN','med_TYSABRI','cells_total']\n",
        "outcome_var = 'SPMS'\n",
        "tn, fp, fn, tp = calcCrossValidation_Matrix(rf, df_untreated, predictor_var1, outcome_var)\n",
        "print(calc_specificity(tn, fp, fn, tp))\n",
        "print(calc_sensitivity(tn, fp, fn, tp))"
      ],
      "execution_count": null,
      "outputs": [
        {
          "output_type": "stream",
          "text": [
            "0.8857142857142857\n",
            "0.6818181818181818\n"
          ],
          "name": "stdout"
        }
      ]
    },
    {
      "cell_type": "markdown",
      "metadata": {
        "id": "gY7ZWfvyNsDU"
      },
      "source": [
        "no LAG3"
      ]
    },
    {
      "cell_type": "code",
      "metadata": {
        "id": "ZgvatthZNu0H",
        "colab": {
          "base_uri": "https://localhost:8080/"
        },
        "outputId": "128899ea-3464-4dd7-bec0-a81ee62d8061"
      },
      "source": [
        "from sklearn.metrics import confusion_matrix\n",
        "\n",
        "logisticRegrDF = LogisticRegression(max_iter = 4000)\n",
        "predictor_var1 = ['MRI_lesion_mass','primary_EDSS_at_diagnosis','primary_EDSS_at_sample_date','age_at_diagnosis','TIM3_RQ', 'TIGIT_RQ', 'PD-1_RQ', 'Male', 'positive_OCB', 'OTHER_TREATMENT', 'UNTREATED', 'med_IFN','med_TYSABRI','cells_total']\n",
        "outcome_var = 'SPMS'\n",
        "tn, fp, fn, tp = calcCrossValidation_Matrix(logisticRegrDF, df_untreated, predictor_var1, outcome_var)\n",
        "print(calc_specificity(tn, fp, fn, tp))\n",
        "print(calc_sensitivity(tn, fp, fn, tp))"
      ],
      "execution_count": null,
      "outputs": [
        {
          "output_type": "stream",
          "text": [
            "0.8285714285714286\n",
            "0.8181818181818182\n"
          ],
          "name": "stdout"
        }
      ]
    },
    {
      "cell_type": "code",
      "metadata": {
        "id": "ORbYO1TBNw1T",
        "colab": {
          "base_uri": "https://localhost:8080/"
        },
        "outputId": "8cdd442b-d809-4484-8be2-4d8b49e36eab"
      },
      "source": [
        "from sklearn.metrics import confusion_matrix\n",
        "\n",
        "rf = RandomForestClassifier(n_estimators=25, min_samples_split=9, max_depth=15, max_features='auto')\n",
        "predictor_var1 = ['MRI_lesion_mass','primary_EDSS_at_diagnosis','primary_EDSS_at_sample_date','age_at_diagnosis','TIM3_RQ', 'TIGIT_RQ', 'PD-1_RQ', 'Male', 'positive_OCB', 'OTHER_TREATMENT', 'UNTREATED', 'med_IFN','med_TYSABRI','cells_total']\n",
        "outcome_var = 'SPMS'\n",
        "tn, fp, fn, tp = calcCrossValidation_Matrix(rf, df_untreated, predictor_var1, outcome_var)\n",
        "print(calc_specificity(tn, fp, fn, tp))\n",
        "print(calc_sensitivity(tn, fp, fn, tp))"
      ],
      "execution_count": null,
      "outputs": [
        {
          "output_type": "stream",
          "text": [
            "0.9142857142857143\n",
            "0.6818181818181818\n"
          ],
          "name": "stdout"
        }
      ]
    },
    {
      "cell_type": "markdown",
      "metadata": {
        "id": "IkyIoL4eSEB-"
      },
      "source": [
        "no TIM3 and LAG3"
      ]
    },
    {
      "cell_type": "code",
      "metadata": {
        "id": "_tTgCYmFSEB_",
        "colab": {
          "base_uri": "https://localhost:8080/"
        },
        "outputId": "0176bec3-5342-4713-881d-75afb75c30fb"
      },
      "source": [
        "from sklearn.metrics import confusion_matrix\r\n",
        "\r\n",
        "logisticRegrDF = LogisticRegression(max_iter = 4000)\r\n",
        "predictor_var1 = ['MRI_lesion_mass','primary_EDSS_at_diagnosis','primary_EDSS_at_sample_date','age_at_diagnosis', 'TIGIT_RQ', 'PD-1_RQ', 'Male', 'positive_OCB', 'OTHER_TREATMENT', 'UNTREATED', 'med_IFN','med_TYSABRI','cells_total']\r\n",
        "outcome_var = 'SPMS'\r\n",
        "tn, fp, fn, tp = calcCrossValidation_Matrix(logisticRegrDF, df_untreated, predictor_var1, outcome_var)\r\n",
        "print(calc_specificity(tn, fp, fn, tp))\r\n",
        "print(calc_sensitivity(tn, fp, fn, tp))\r\n"
      ],
      "execution_count": null,
      "outputs": [
        {
          "output_type": "stream",
          "text": [
            "0.8857142857142857\n",
            "0.7727272727272727\n"
          ],
          "name": "stdout"
        }
      ]
    },
    {
      "cell_type": "code",
      "metadata": {
        "id": "CyfRcIVsSECB",
        "colab": {
          "base_uri": "https://localhost:8080/"
        },
        "outputId": "0e74ae8c-83b9-4eda-e1b4-6a729974a754"
      },
      "source": [
        "from sklearn.metrics import confusion_matrix\r\n",
        "\r\n",
        "rf = RandomForestClassifier(n_estimators=25, min_samples_split=9, max_depth=15, max_features='auto')\r\n",
        "predictor_var1 = ['MRI_lesion_mass','primary_EDSS_at_diagnosis','primary_EDSS_at_sample_date','age_at_diagnosis', 'TIGIT_RQ', 'PD-1_RQ', 'Male', 'positive_OCB', 'OTHER_TREATMENT', 'UNTREATED', 'med_IFN','med_TYSABRI','cells_total']\r\n",
        "outcome_var = 'SPMS'\r\n",
        "tn, fp, fn, tp = calcCrossValidation_Matrix(rf, df_untreated, predictor_var1, outcome_var)\r\n",
        "print(calc_specificity(tn, fp, fn, tp))\r\n",
        "print(calc_sensitivity(tn, fp, fn, tp))"
      ],
      "execution_count": null,
      "outputs": [
        {
          "output_type": "stream",
          "text": [
            "0.9428571428571428\n",
            "0.6818181818181818\n"
          ],
          "name": "stdout"
        }
      ]
    },
    {
      "cell_type": "markdown",
      "metadata": {
        "id": "00edSxJbSFFo"
      },
      "source": [
        "no TIM3 and TIGIT"
      ]
    },
    {
      "cell_type": "code",
      "metadata": {
        "id": "gqWIYareSFFp",
        "colab": {
          "base_uri": "https://localhost:8080/"
        },
        "outputId": "8ed8d2f3-cf8f-42af-8f1e-1d93ff4364de"
      },
      "source": [
        "from sklearn.metrics import confusion_matrix\r\n",
        "\r\n",
        "logisticRegrDF = LogisticRegression(max_iter = 4000)\r\n",
        "predictor_var1 = ['MRI_lesion_mass','primary_EDSS_at_diagnosis','primary_EDSS_at_sample_date','age_at_diagnosis', 'LAG3_RQ', 'PD-1_RQ', 'Male', 'positive_OCB', 'OTHER_TREATMENT', 'UNTREATED', 'med_IFN','med_TYSABRI','cells_total']\r\n",
        "outcome_var = 'SPMS'\r\n",
        "tn, fp, fn, tp = calcCrossValidation_Matrix(logisticRegrDF, df_untreated, predictor_var1, outcome_var)\r\n",
        "print(calc_specificity(tn, fp, fn, tp))\r\n",
        "print(calc_sensitivity(tn, fp, fn, tp))\r\n"
      ],
      "execution_count": null,
      "outputs": [
        {
          "output_type": "stream",
          "text": [
            "0.9428571428571428\n",
            "0.7727272727272727\n"
          ],
          "name": "stdout"
        }
      ]
    },
    {
      "cell_type": "code",
      "metadata": {
        "id": "g536OJ_JSFFp",
        "colab": {
          "base_uri": "https://localhost:8080/"
        },
        "outputId": "4b1b6c05-defe-4736-cb82-6215becfa6da"
      },
      "source": [
        "from sklearn.metrics import confusion_matrix\r\n",
        "\r\n",
        "rf = RandomForestClassifier(n_estimators=25, min_samples_split=9, max_depth=15, max_features='auto')\r\n",
        "predictor_var1 = ['MRI_lesion_mass','primary_EDSS_at_diagnosis','primary_EDSS_at_sample_date','age_at_diagnosis', 'LAG3_RQ', 'PD-1_RQ', 'Male', 'positive_OCB', 'OTHER_TREATMENT', 'UNTREATED', 'med_IFN','med_TYSABRI','cells_total']\r\n",
        "outcome_var = 'SPMS'\r\n",
        "tn, fp, fn, tp = calcCrossValidation_Matrix(rf, df_untreated, predictor_var1, outcome_var)\r\n",
        "print(calc_specificity(tn, fp, fn, tp))\r\n",
        "print(calc_sensitivity(tn, fp, fn, tp))"
      ],
      "execution_count": null,
      "outputs": [
        {
          "output_type": "stream",
          "text": [
            "0.8857142857142857\n",
            "0.7272727272727273\n"
          ],
          "name": "stdout"
        }
      ]
    },
    {
      "cell_type": "markdown",
      "metadata": {
        "id": "R0wANlSUSHyN"
      },
      "source": [
        "no LAG3 and TIGIT"
      ]
    },
    {
      "cell_type": "code",
      "metadata": {
        "id": "eO8cXWvbSHyN",
        "colab": {
          "base_uri": "https://localhost:8080/"
        },
        "outputId": "904a1d6c-7231-451b-fa0f-929adc8d024d"
      },
      "source": [
        "from sklearn.metrics import confusion_matrix\r\n",
        "\r\n",
        "logisticRegrDF = LogisticRegression(max_iter = 4000)\r\n",
        "predictor_var1 = ['MRI_lesion_mass','primary_EDSS_at_diagnosis','primary_EDSS_at_sample_date','age_at_diagnosis','TIM3_RQ', 'PD-1_RQ', 'Male', 'positive_OCB', 'OTHER_TREATMENT', 'UNTREATED', 'med_IFN','med_TYSABRI','cells_total']\r\n",
        "outcome_var = 'SPMS'\r\n",
        "tn, fp, fn, tp = calcCrossValidation_Matrix(logisticRegrDF, df_untreated, predictor_var1, outcome_var)\r\n",
        "print(calc_specificity(tn, fp, fn, tp))\r\n",
        "print(calc_sensitivity(tn, fp, fn, tp))\r\n"
      ],
      "execution_count": null,
      "outputs": [
        {
          "output_type": "stream",
          "text": [
            "0.8285714285714286\n",
            "0.8181818181818182\n"
          ],
          "name": "stdout"
        }
      ]
    },
    {
      "cell_type": "code",
      "metadata": {
        "id": "bpK87zZFSHyO",
        "colab": {
          "base_uri": "https://localhost:8080/"
        },
        "outputId": "3c5e8df0-a2d2-47b5-8284-32a68b868c9a"
      },
      "source": [
        "from sklearn.metrics import confusion_matrix\r\n",
        "\r\n",
        "rf = RandomForestClassifier(n_estimators=25, min_samples_split=9, max_depth=15, max_features='auto')\r\n",
        "predictor_var1 = ['MRI_lesion_mass','primary_EDSS_at_diagnosis','primary_EDSS_at_sample_date','age_at_diagnosis','TIM3_RQ', 'PD-1_RQ', 'Male', 'positive_OCB', 'OTHER_TREATMENT', 'UNTREATED', 'med_IFN','med_TYSABRI','cells_total']\r\n",
        "outcome_var = 'SPMS'\r\n",
        "tn, fp, fn, tp = calcCrossValidation_Matrix(rf, df_untreated, predictor_var1, outcome_var)\r\n",
        "print(calc_specificity(tn, fp, fn, tp))\r\n",
        "print(calc_sensitivity(tn, fp, fn, tp))"
      ],
      "execution_count": null,
      "outputs": [
        {
          "output_type": "stream",
          "text": [
            "0.8857142857142857\n",
            "0.7727272727272727\n"
          ],
          "name": "stdout"
        }
      ]
    },
    {
      "cell_type": "markdown",
      "metadata": {
        "id": "Zy5fucjfN2gK"
      },
      "source": [
        "no MRI"
      ]
    },
    {
      "cell_type": "code",
      "metadata": {
        "id": "z3M2VgJ9N7Yy",
        "colab": {
          "base_uri": "https://localhost:8080/"
        },
        "outputId": "f9fdadc0-96cc-4cd3-c7c5-c0d8bfc0071e"
      },
      "source": [
        "from sklearn.metrics import confusion_matrix\n",
        "\n",
        "logisticRegrDF = LogisticRegression(max_iter = 4000)\n",
        "predictor_var1 = ['primary_EDSS_at_diagnosis','primary_EDSS_at_sample_date','age_at_diagnosis','TIM3_RQ', 'TIGIT_RQ', 'LAG3_RQ', 'PD-1_RQ', 'Male', 'positive_OCB', 'OTHER_TREATMENT', 'UNTREATED', 'med_IFN','med_TYSABRI','cells_total']\n",
        "outcome_var = 'SPMS'\n",
        "tn, fp, fn, tp = calcCrossValidation_Matrix(logisticRegrDF, df_untreated, predictor_var1, outcome_var)\n",
        "print(calc_specificity(tn, fp, fn, tp))\n",
        "print(calc_sensitivity(tn, fp, fn, tp))\n"
      ],
      "execution_count": null,
      "outputs": [
        {
          "output_type": "stream",
          "text": [
            "0.8857142857142857\n",
            "0.8181818181818182\n"
          ],
          "name": "stdout"
        }
      ]
    },
    {
      "cell_type": "code",
      "metadata": {
        "id": "Hm1JBxG_HZWO",
        "colab": {
          "base_uri": "https://localhost:8080/"
        },
        "outputId": "52b449de-bb43-4c04-9dc1-73d7682d5230"
      },
      "source": [
        "df_untreated.shape"
      ],
      "execution_count": null,
      "outputs": [
        {
          "output_type": "execute_result",
          "data": {
            "text/plain": [
              "(57, 16)"
            ]
          },
          "metadata": {
            "tags": []
          },
          "execution_count": 74
        }
      ]
    },
    {
      "cell_type": "code",
      "metadata": {
        "id": "KN65F3iSN-ss",
        "colab": {
          "base_uri": "https://localhost:8080/"
        },
        "outputId": "3f37d356-5bdc-4ee0-bdc1-c8cde4e7a7ee"
      },
      "source": [
        "from sklearn.metrics import confusion_matrix\n",
        "\n",
        "rf = RandomForestClassifier(n_estimators=25, min_samples_split=9, max_depth=15, max_features='auto')\n",
        "predictor_var1 = ['primary_EDSS_at_diagnosis','primary_EDSS_at_sample_date','age_at_diagnosis','TIM3_RQ', 'TIGIT_RQ', 'LAG3_RQ', 'PD-1_RQ', 'Male', 'positive_OCB', 'OTHER_TREATMENT', 'UNTREATED', 'med_IFN','med_TYSABRI','cells_total']\n",
        "outcome_var = 'SPMS'\n",
        "tn, fp, fn, tp = calcCrossValidation_Matrix(rf, df_untreated, predictor_var1, outcome_var)\n",
        "print(calc_specificity(tn, fp, fn, tp))\n",
        "print(calc_sensitivity(tn, fp, fn, tp))"
      ],
      "execution_count": null,
      "outputs": [
        {
          "output_type": "stream",
          "text": [
            "0.9714285714285714\n",
            "0.6363636363636364\n"
          ],
          "name": "stdout"
        }
      ]
    },
    {
      "cell_type": "markdown",
      "metadata": {
        "id": "z9cVsgjXES2R"
      },
      "source": [
        "no OCB"
      ]
    },
    {
      "cell_type": "code",
      "metadata": {
        "colab": {
          "base_uri": "https://localhost:8080/"
        },
        "id": "JNjnh2S9ESq2",
        "outputId": "55562fee-80a6-441d-84e3-853e0871e377"
      },
      "source": [
        "from sklearn.metrics import confusion_matrix\r\n",
        "\r\n",
        "logisticRegrDF = LogisticRegression(max_iter = 4000)\r\n",
        "predictor_var1 = ['MRI_lesion_mass','primary_EDSS_at_diagnosis','primary_EDSS_at_sample_date','age_at_diagnosis','TIM3_RQ', 'TIGIT_RQ', 'LAG3_RQ', 'PD-1_RQ', 'Male', 'OTHER_TREATMENT', 'UNTREATED', 'med_IFN','med_TYSABRI','cells_total']\r\n",
        "outcome_var = 'SPMS'\r\n",
        "tn, fp, fn, tp = calcCrossValidation_Matrix(logisticRegrDF, df_untreated, predictor_var1, outcome_var)\r\n",
        "print(calc_specificity(tn, fp, fn, tp))\r\n",
        "print(calc_sensitivity(tn, fp, fn, tp))"
      ],
      "execution_count": null,
      "outputs": [
        {
          "output_type": "stream",
          "text": [
            "0.8571428571428571\n",
            "0.8181818181818182\n"
          ],
          "name": "stdout"
        }
      ]
    },
    {
      "cell_type": "code",
      "metadata": {
        "colab": {
          "base_uri": "https://localhost:8080/"
        },
        "id": "3Ibik9ZkEScz",
        "outputId": "fa6ebaf6-4bd2-4b2f-8624-5c32e1535b6d"
      },
      "source": [
        "from sklearn.metrics import confusion_matrix\r\n",
        "\r\n",
        "rf = RandomForestClassifier(n_estimators=25, min_samples_split=9, max_depth=15, max_features='auto')\r\n",
        "predictor_var1 = ['MRI_lesion_mass','primary_EDSS_at_diagnosis','primary_EDSS_at_sample_date','age_at_diagnosis','TIM3_RQ', 'TIGIT_RQ', 'LAG3_RQ', 'PD-1_RQ', 'Male', 'OTHER_TREATMENT', 'UNTREATED', 'med_IFN','med_TYSABRI','cells_total']\r\n",
        "outcome_var = 'SPMS'\r\n",
        "tn, fp, fn, tp = calcCrossValidation_Matrix(rf, df_untreated, predictor_var1, outcome_var)\r\n",
        "print(calc_specificity(tn, fp, fn, tp))\r\n",
        "print(calc_sensitivity(tn, fp, fn, tp))"
      ],
      "execution_count": null,
      "outputs": [
        {
          "output_type": "stream",
          "text": [
            "0.9714285714285714\n",
            "0.7727272727272727\n"
          ],
          "name": "stdout"
        }
      ]
    },
    {
      "cell_type": "markdown",
      "metadata": {
        "id": "HQqHGi18EUsP"
      },
      "source": [
        "no total cells"
      ]
    },
    {
      "cell_type": "code",
      "metadata": {
        "colab": {
          "base_uri": "https://localhost:8080/"
        },
        "id": "PX7c6GnLEUk7",
        "outputId": "207e6ea5-d9ab-4aac-8ce3-30e58f2a4fd4"
      },
      "source": [
        "from sklearn.metrics import confusion_matrix\r\n",
        "\r\n",
        "logisticRegrDF = LogisticRegression(max_iter = 4000)\r\n",
        "predictor_var1 = ['MRI_lesion_mass','primary_EDSS_at_diagnosis','primary_EDSS_at_sample_date','age_at_diagnosis','TIM3_RQ', 'TIGIT_RQ', 'LAG3_RQ', 'PD-1_RQ', 'Male', 'positive_OCB', 'OTHER_TREATMENT', 'UNTREATED', 'med_IFN','med_TYSABRI']\r\n",
        "outcome_var = 'SPMS'\r\n",
        "tn, fp, fn, tp = calcCrossValidation_Matrix(logisticRegrDF, df_untreated, predictor_var1, outcome_var)\r\n",
        "print(calc_specificity(tn, fp, fn, tp))\r\n",
        "print(calc_sensitivity(tn, fp, fn, tp))"
      ],
      "execution_count": null,
      "outputs": [
        {
          "output_type": "stream",
          "text": [
            "0.8285714285714286\n",
            "0.8181818181818182\n"
          ],
          "name": "stdout"
        }
      ]
    },
    {
      "cell_type": "code",
      "metadata": {
        "colab": {
          "base_uri": "https://localhost:8080/"
        },
        "id": "FtLgDsUBEUea",
        "outputId": "a2a7c9d8-92ed-4279-f635-fa4abfff3b80"
      },
      "source": [
        "from sklearn.metrics import confusion_matrix\r\n",
        "\r\n",
        "rf = RandomForestClassifier(n_estimators=25, min_samples_split=9, max_depth=15, max_features='auto')\r\n",
        "predictor_var1 = ['MRI_lesion_mass','primary_EDSS_at_diagnosis','primary_EDSS_at_sample_date','age_at_diagnosis','TIM3_RQ', 'TIGIT_RQ', 'LAG3_RQ', 'PD-1_RQ', 'Male', 'positive_OCB', 'OTHER_TREATMENT', 'UNTREATED', 'med_IFN','med_TYSABRI']\r\n",
        "outcome_var = 'SPMS'\r\n",
        "tn, fp, fn, tp = calcCrossValidation_Matrix(rf, df_untreated, predictor_var1, outcome_var)\r\n",
        "print(calc_specificity(tn, fp, fn, tp))\r\n",
        "print(calc_sensitivity(tn, fp, fn, tp))"
      ],
      "execution_count": null,
      "outputs": [
        {
          "output_type": "stream",
          "text": [
            "0.8857142857142857\n",
            "0.5454545454545454\n"
          ],
          "name": "stdout"
        }
      ]
    },
    {
      "cell_type": "markdown",
      "metadata": {
        "id": "bEx_XqKbEUC-"
      },
      "source": [
        "no PD1"
      ]
    },
    {
      "cell_type": "code",
      "metadata": {
        "colab": {
          "base_uri": "https://localhost:8080/"
        },
        "id": "Nr_NJKWvET7n",
        "outputId": "2b6c5f35-cfdc-4631-e935-34d5a617e213"
      },
      "source": [
        "from sklearn.metrics import confusion_matrix\r\n",
        "\r\n",
        "logisticRegrDF = LogisticRegression(max_iter = 4000)\r\n",
        "predictor_var1 = ['MRI_lesion_mass','primary_EDSS_at_diagnosis','primary_EDSS_at_sample_date','age_at_diagnosis','TIM3_RQ', 'TIGIT_RQ', 'LAG3_RQ', 'Male', 'positive_OCB', 'OTHER_TREATMENT', 'UNTREATED', 'med_IFN','med_TYSABRI','cells_total']\r\n",
        "outcome_var = 'SPMS'\r\n",
        "tn, fp, fn, tp = calcCrossValidation_Matrix(logisticRegrDF, df_untreated, predictor_var1, outcome_var)\r\n",
        "print(calc_specificity(tn, fp, fn, tp))\r\n",
        "print(calc_sensitivity(tn, fp, fn, tp))"
      ],
      "execution_count": null,
      "outputs": [
        {
          "output_type": "stream",
          "text": [
            "0.8285714285714286\n",
            "0.8636363636363636\n"
          ],
          "name": "stdout"
        }
      ]
    },
    {
      "cell_type": "code",
      "metadata": {
        "id": "hjbPIKJuH_3O"
      },
      "source": [
        ""
      ],
      "execution_count": null,
      "outputs": []
    },
    {
      "cell_type": "code",
      "metadata": {
        "colab": {
          "base_uri": "https://localhost:8080/"
        },
        "id": "BS2O_KmSET0l",
        "outputId": "01f6a3d5-05fe-4730-ac08-04c333f4eedd"
      },
      "source": [
        "from sklearn.metrics import confusion_matrix\r\n",
        "\r\n",
        "rf = RandomForestClassifier(n_estimators=25, min_samples_split=9, max_depth=15, max_features='auto')\r\n",
        "predictor_var1 = ['MRI_lesion_mass','primary_EDSS_at_diagnosis','primary_EDSS_at_sample_date','age_at_diagnosis','TIM3_RQ', 'TIGIT_RQ', 'LAG3_RQ', 'Male', 'positive_OCB', 'OTHER_TREATMENT', 'UNTREATED', 'med_IFN','med_TYSABRI','cells_total']\r\n",
        "outcome_var = 'SPMS'\r\n",
        "tn, fp, fn, tp = calcCrossValidation_Matrix(rf, df_untreated, predictor_var1, outcome_var)\r\n",
        "print(calc_specificity(tn, fp, fn, tp))\r\n",
        "print(calc_sensitivity(tn, fp, fn, tp))"
      ],
      "execution_count": null,
      "outputs": [
        {
          "output_type": "stream",
          "text": [
            "0.8857142857142857\n",
            "0.6363636363636364\n"
          ],
          "name": "stdout"
        }
      ]
    },
    {
      "cell_type": "markdown",
      "metadata": {
        "id": "pWyaUH-NETrO"
      },
      "source": [
        "no MRI, OCB"
      ]
    },
    {
      "cell_type": "code",
      "metadata": {
        "colab": {
          "base_uri": "https://localhost:8080/"
        },
        "id": "hx-zmQIlETg4",
        "outputId": "4e9bd2b1-a63b-4e8f-b642-cb41cef3bfc1"
      },
      "source": [
        "from sklearn.metrics import confusion_matrix\r\n",
        "\r\n",
        "logisticRegrDF = LogisticRegression(max_iter = 4000)\r\n",
        "predictor_var1 = ['primary_EDSS_at_diagnosis','primary_EDSS_at_sample_date','age_at_diagnosis','TIM3_RQ', 'TIGIT_RQ', 'LAG3_RQ', 'PD-1_RQ', 'Male', 'OTHER_TREATMENT', 'UNTREATED', 'med_IFN','med_TYSABRI','cells_total']\r\n",
        "outcome_var = 'SPMS'\r\n",
        "tn, fp, fn, tp = calcCrossValidation_Matrix(logisticRegrDF, df_untreated, predictor_var1, outcome_var)\r\n",
        "print(calc_specificity(tn, fp, fn, tp))\r\n",
        "print(calc_sensitivity(tn, fp, fn, tp))"
      ],
      "execution_count": null,
      "outputs": [
        {
          "output_type": "stream",
          "text": [
            "0.9142857142857143\n",
            "0.8636363636363636\n"
          ],
          "name": "stdout"
        }
      ]
    },
    {
      "cell_type": "code",
      "metadata": {
        "colab": {
          "base_uri": "https://localhost:8080/"
        },
        "id": "iRotdfprETUy",
        "outputId": "cd22a726-2ada-4ed8-adfb-7efe2ee83fb2"
      },
      "source": [
        "from sklearn.metrics import confusion_matrix\r\n",
        "\r\n",
        "rf = RandomForestClassifier(n_estimators=25, min_samples_split=9, max_depth=15, max_features='auto')\r\n",
        "predictor_var1 = ['primary_EDSS_at_diagnosis','primary_EDSS_at_sample_date','age_at_diagnosis','TIM3_RQ', 'TIGIT_RQ', 'LAG3_RQ', 'PD-1_RQ', 'Male', 'OTHER_TREATMENT', 'UNTREATED', 'med_IFN','med_TYSABRI','cells_total']\r\n",
        "outcome_var = 'SPMS'\r\n",
        "tn, fp, fn, tp = calcCrossValidation_Matrix(rf, df_untreated, predictor_var1, outcome_var)\r\n",
        "print(calc_specificity(tn, fp, fn, tp))\r\n",
        "print(calc_sensitivity(tn, fp, fn, tp))"
      ],
      "execution_count": null,
      "outputs": [
        {
          "output_type": "stream",
          "text": [
            "0.8857142857142857\n",
            "0.6363636363636364\n"
          ],
          "name": "stdout"
        }
      ]
    },
    {
      "cell_type": "markdown",
      "metadata": {
        "id": "w1TLWZsBIPzI"
      },
      "source": [
        "no MRI, LAG3"
      ]
    },
    {
      "cell_type": "code",
      "metadata": {
        "colab": {
          "base_uri": "https://localhost:8080/"
        },
        "id": "2eMFe7qLIPta",
        "outputId": "8fa091e9-de4d-4497-98f5-9a0f82b1c47a"
      },
      "source": [
        "from sklearn.metrics import confusion_matrix\r\n",
        "\r\n",
        "logisticRegrDF = LogisticRegression(max_iter = 4000)\r\n",
        "predictor_var1 = ['primary_EDSS_at_diagnosis','primary_EDSS_at_sample_date','age_at_diagnosis','TIM3_RQ', 'TIGIT_RQ', 'PD-1_RQ', 'Male', 'positive_OCB', 'OTHER_TREATMENT', 'UNTREATED', 'med_IFN','med_TYSABRI','cells_total']\r\n",
        "outcome_var = 'SPMS'\r\n",
        "tn, fp, fn, tp = calcCrossValidation_Matrix(logisticRegrDF, df_untreated, predictor_var1, outcome_var)\r\n",
        "print(calc_specificity(tn, fp, fn, tp))\r\n",
        "print(calc_sensitivity(tn, fp, fn, tp))"
      ],
      "execution_count": null,
      "outputs": [
        {
          "output_type": "stream",
          "text": [
            "0.8285714285714286\n",
            "0.8181818181818182\n"
          ],
          "name": "stdout"
        }
      ]
    },
    {
      "cell_type": "code",
      "metadata": {
        "colab": {
          "base_uri": "https://localhost:8080/"
        },
        "id": "ImNPrY3DIPoZ",
        "outputId": "3d1641d4-7dc2-411c-b839-cde231f83ec0"
      },
      "source": [
        "from sklearn.metrics import confusion_matrix\r\n",
        "\r\n",
        "rf = RandomForestClassifier(n_estimators=25, min_samples_split=9, max_depth=15, max_features='auto')\r\n",
        "predictor_var1 = ['primary_EDSS_at_diagnosis','primary_EDSS_at_sample_date','age_at_diagnosis','TIM3_RQ', 'TIGIT_RQ', 'PD-1_RQ', 'Male', 'positive_OCB', 'OTHER_TREATMENT', 'UNTREATED', 'med_IFN','med_TYSABRI','cells_total']\r\n",
        "outcome_var = 'SPMS'\r\n",
        "tn, fp, fn, tp = calcCrossValidation_Matrix(rf, df_untreated, predictor_var1, outcome_var)\r\n",
        "print(calc_specificity(tn, fp, fn, tp))\r\n",
        "print(calc_sensitivity(tn, fp, fn, tp))"
      ],
      "execution_count": null,
      "outputs": [
        {
          "output_type": "stream",
          "text": [
            "0.9428571428571428\n",
            "0.6818181818181818\n"
          ],
          "name": "stdout"
        }
      ]
    },
    {
      "cell_type": "markdown",
      "metadata": {
        "id": "YMAy8dp1IPgF"
      },
      "source": [
        "no MRI, TIGIT"
      ]
    },
    {
      "cell_type": "code",
      "metadata": {
        "colab": {
          "base_uri": "https://localhost:8080/"
        },
        "id": "noAMgYr4IPXG",
        "outputId": "bec6646a-37e6-41a6-fcb0-6bb6a47ac710"
      },
      "source": [
        "from sklearn.metrics import confusion_matrix\r\n",
        "\r\n",
        "logisticRegrDF = LogisticRegression(max_iter = 4000)\r\n",
        "predictor_var1 = ['primary_EDSS_at_diagnosis','primary_EDSS_at_sample_date','age_at_diagnosis','TIM3_RQ', 'LAG3_RQ', 'PD-1_RQ', 'Male', 'positive_OCB', 'OTHER_TREATMENT', 'UNTREATED', 'med_IFN','med_TYSABRI','cells_total']\r\n",
        "outcome_var = 'SPMS'\r\n",
        "tn, fp, fn, tp = calcCrossValidation_Matrix(logisticRegrDF, df_untreated, predictor_var1, outcome_var)\r\n",
        "print(calc_specificity(tn, fp, fn, tp))\r\n",
        "print(calc_sensitivity(tn, fp, fn, tp))"
      ],
      "execution_count": null,
      "outputs": [
        {
          "output_type": "stream",
          "text": [
            "0.8857142857142857\n",
            "0.8181818181818182\n"
          ],
          "name": "stdout"
        }
      ]
    },
    {
      "cell_type": "code",
      "metadata": {
        "colab": {
          "base_uri": "https://localhost:8080/"
        },
        "id": "VTlsWknyIPSI",
        "outputId": "dabdac1e-55d3-4f55-ad1d-35518de0a30e"
      },
      "source": [
        "from sklearn.metrics import confusion_matrix\r\n",
        "\r\n",
        "rf = RandomForestClassifier(n_estimators=25, min_samples_split=9, max_depth=15, max_features='auto')\r\n",
        "predictor_var1 = ['primary_EDSS_at_diagnosis','primary_EDSS_at_sample_date','age_at_diagnosis','TIM3_RQ', 'LAG3_RQ', 'PD-1_RQ', 'Male', 'positive_OCB', 'OTHER_TREATMENT', 'UNTREATED', 'med_IFN','med_TYSABRI','cells_total']\r\n",
        "outcome_var = 'SPMS'\r\n",
        "tn, fp, fn, tp = calcCrossValidation_Matrix(rf, df_untreated, predictor_var1, outcome_var)\r\n",
        "print(calc_specificity(tn, fp, fn, tp))\r\n",
        "print(calc_sensitivity(tn, fp, fn, tp))"
      ],
      "execution_count": null,
      "outputs": [
        {
          "output_type": "stream",
          "text": [
            "0.9142857142857143\n",
            "0.7272727272727273\n"
          ],
          "name": "stdout"
        }
      ]
    },
    {
      "cell_type": "markdown",
      "metadata": {
        "id": "xhgYg1ilIPEl"
      },
      "source": [
        "no MRI, TIM3, LAG3"
      ]
    },
    {
      "cell_type": "code",
      "metadata": {
        "colab": {
          "base_uri": "https://localhost:8080/"
        },
        "id": "AH7dF7H0IO7c",
        "outputId": "72cda8e7-0518-4b59-ad02-0b777899548b"
      },
      "source": [
        "from sklearn.metrics import confusion_matrix\r\n",
        "\r\n",
        "logisticRegrDF = LogisticRegression(max_iter = 4000)\r\n",
        "predictor_var1 = ['primary_EDSS_at_diagnosis','primary_EDSS_at_sample_date','age_at_diagnosis', 'TIGIT_RQ', 'PD-1_RQ', 'Male', 'positive_OCB', 'OTHER_TREATMENT', 'UNTREATED', 'med_IFN','med_TYSABRI','cells_total']\r\n",
        "outcome_var = 'SPMS'\r\n",
        "tn, fp, fn, tp = calcCrossValidation_Matrix(logisticRegrDF, df_untreated, predictor_var1, outcome_var)\r\n",
        "print(calc_specificity(tn, fp, fn, tp))\r\n",
        "print(calc_sensitivity(tn, fp, fn, tp))"
      ],
      "execution_count": null,
      "outputs": [
        {
          "output_type": "stream",
          "text": [
            "0.9142857142857143\n",
            "0.8181818181818182\n"
          ],
          "name": "stdout"
        }
      ]
    },
    {
      "cell_type": "code",
      "metadata": {
        "colab": {
          "base_uri": "https://localhost:8080/"
        },
        "id": "gGyC40FQIO1I",
        "outputId": "bdde1024-d9f4-43fa-b953-0b102996198b"
      },
      "source": [
        "from sklearn.metrics import confusion_matrix\r\n",
        "\r\n",
        "rf = RandomForestClassifier(n_estimators=25, min_samples_split=9, max_depth=15, max_features='auto')\r\n",
        "predictor_var1 = ['primary_EDSS_at_diagnosis','primary_EDSS_at_sample_date','age_at_diagnosis', 'TIGIT_RQ', 'PD-1_RQ', 'Male', 'positive_OCB', 'OTHER_TREATMENT', 'UNTREATED', 'med_IFN','med_TYSABRI','cells_total']\r\n",
        "outcome_var = 'SPMS'\r\n",
        "tn, fp, fn, tp = calcCrossValidation_Matrix(rf, df_untreated, predictor_var1, outcome_var)\r\n",
        "print(calc_specificity(tn, fp, fn, tp))\r\n",
        "print(calc_sensitivity(tn, fp, fn, tp))"
      ],
      "execution_count": null,
      "outputs": [
        {
          "output_type": "stream",
          "text": [
            "0.9142857142857143\n",
            "0.7727272727272727\n"
          ],
          "name": "stdout"
        }
      ]
    },
    {
      "cell_type": "markdown",
      "metadata": {
        "id": "9xsp9K6EIOlZ"
      },
      "source": [
        "no MRI, TIM3, TIGIT"
      ]
    },
    {
      "cell_type": "code",
      "metadata": {
        "colab": {
          "base_uri": "https://localhost:8080/"
        },
        "id": "P9dGWr2IIN-o",
        "outputId": "bef50fb7-fb56-49a4-b310-f30b946a26a8"
      },
      "source": [
        "from sklearn.metrics import confusion_matrix\r\n",
        "\r\n",
        "logisticRegrDF = LogisticRegression(max_iter = 4000)\r\n",
        "predictor_var1 = ['primary_EDSS_at_diagnosis','primary_EDSS_at_sample_date','age_at_diagnosis', 'LAG3_RQ', 'PD-1_RQ', 'Male', 'positive_OCB', 'OTHER_TREATMENT', 'UNTREATED', 'med_IFN','med_TYSABRI','cells_total']\r\n",
        "outcome_var = 'SPMS'\r\n",
        "tn, fp, fn, tp = calcCrossValidation_Matrix(logisticRegrDF, df_untreated, predictor_var1, outcome_var)\r\n",
        "print(calc_specificity(tn, fp, fn, tp))\r\n",
        "print(calc_sensitivity(tn, fp, fn, tp))"
      ],
      "execution_count": null,
      "outputs": [
        {
          "output_type": "stream",
          "text": [
            "0.9142857142857143\n",
            "0.7727272727272727\n"
          ],
          "name": "stdout"
        }
      ]
    },
    {
      "cell_type": "code",
      "metadata": {
        "colab": {
          "base_uri": "https://localhost:8080/"
        },
        "id": "tBnR7zDuIN5i",
        "outputId": "59c628a4-6148-40b8-e8e4-f2cef42d0ae5"
      },
      "source": [
        "from sklearn.metrics import confusion_matrix\r\n",
        "\r\n",
        "rf = RandomForestClassifier(n_estimators=25, min_samples_split=9, max_depth=15, max_features='auto')\r\n",
        "predictor_var1 = ['primary_EDSS_at_diagnosis','primary_EDSS_at_sample_date','age_at_diagnosis', 'LAG3_RQ', 'PD-1_RQ', 'Male', 'positive_OCB', 'OTHER_TREATMENT', 'UNTREATED', 'med_IFN','med_TYSABRI','cells_total']\r\n",
        "outcome_var = 'SPMS'\r\n",
        "tn, fp, fn, tp = calcCrossValidation_Matrix(rf, df_untreated, predictor_var1, outcome_var)\r\n",
        "print(calc_specificity(tn, fp, fn, tp))\r\n",
        "print(calc_sensitivity(tn, fp, fn, tp))"
      ],
      "execution_count": null,
      "outputs": [
        {
          "output_type": "stream",
          "text": [
            "0.8857142857142857\n",
            "0.7272727272727273\n"
          ],
          "name": "stdout"
        }
      ]
    },
    {
      "cell_type": "markdown",
      "metadata": {
        "id": "_5dqKuAnINXO"
      },
      "source": [
        "no MRI, TIGIT, LAG3"
      ]
    },
    {
      "cell_type": "code",
      "metadata": {
        "colab": {
          "base_uri": "https://localhost:8080/"
        },
        "id": "BMyiyAP5INQJ",
        "outputId": "344b5395-3d3f-4ac5-9b6a-0d37156c52fa"
      },
      "source": [
        "from sklearn.metrics import confusion_matrix\r\n",
        "\r\n",
        "logisticRegrDF = LogisticRegression(max_iter = 4000)\r\n",
        "predictor_var1 = ['primary_EDSS_at_diagnosis','primary_EDSS_at_sample_date','age_at_diagnosis','TIM3_RQ', 'PD-1_RQ', 'Male', 'positive_OCB', 'OTHER_TREATMENT', 'UNTREATED', 'med_IFN','med_TYSABRI','cells_total']\r\n",
        "outcome_var = 'SPMS'\r\n",
        "tn, fp, fn, tp = calcCrossValidation_Matrix(logisticRegrDF, df_untreated, predictor_var1, outcome_var)\r\n",
        "print(calc_specificity(tn, fp, fn, tp))\r\n",
        "print(calc_sensitivity(tn, fp, fn, tp))"
      ],
      "execution_count": null,
      "outputs": [
        {
          "output_type": "stream",
          "text": [
            "0.8285714285714286\n",
            "0.8181818181818182\n"
          ],
          "name": "stdout"
        }
      ]
    },
    {
      "cell_type": "code",
      "metadata": {
        "colab": {
          "base_uri": "https://localhost:8080/"
        },
        "id": "MvFYRZzPINIE",
        "outputId": "44493641-7e68-4f03-db09-8d266587d820"
      },
      "source": [
        "from sklearn.metrics import confusion_matrix\r\n",
        "\r\n",
        "rf = RandomForestClassifier(n_estimators=25, min_samples_split=9, max_depth=15, max_features='auto')\r\n",
        "predictor_var1 = ['primary_EDSS_at_diagnosis','primary_EDSS_at_sample_date','age_at_diagnosis','TIM3_RQ', 'PD-1_RQ', 'Male', 'positive_OCB', 'OTHER_TREATMENT', 'UNTREATED', 'med_IFN','med_TYSABRI','cells_total']\r\n",
        "outcome_var = 'SPMS'\r\n",
        "tn, fp, fn, tp = calcCrossValidation_Matrix(rf, df_untreated, predictor_var1, outcome_var)\r\n",
        "print(calc_specificity(tn, fp, fn, tp))\r\n",
        "print(calc_sensitivity(tn, fp, fn, tp))"
      ],
      "execution_count": null,
      "outputs": [
        {
          "output_type": "stream",
          "text": [
            "0.9428571428571428\n",
            "0.6363636363636364\n"
          ],
          "name": "stdout"
        }
      ]
    }
  ]
}