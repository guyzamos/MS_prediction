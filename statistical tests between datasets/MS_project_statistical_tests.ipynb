{
  "nbformat": 4,
  "nbformat_minor": 0,
  "metadata": {
    "colab": {
      "name": "MS project statistical_tests.ipynb",
      "provenance": [],
      "collapsed_sections": [
        "TDfpLcN8zwNu"
      ],
      "toc_visible": true
    },
    "kernelspec": {
      "name": "python3",
      "display_name": "Python 3"
    },
    "language_info": {
      "name": "python"
    }
  },
  "cells": [
    {
      "cell_type": "code",
      "metadata": {
        "colab": {
          "base_uri": "https://localhost:8080/"
        },
        "id": "7ROvpEat2VXf",
        "outputId": "ff147022-41ce-46f4-f655-42aeb8c38a73"
      },
      "source": [
        "from google.colab import drive \n",
        "drive.mount('/content/gdrive')"
      ],
      "execution_count": null,
      "outputs": [
        {
          "output_type": "stream",
          "text": [
            "Mounted at /content/gdrive\n"
          ],
          "name": "stdout"
        }
      ]
    },
    {
      "cell_type": "code",
      "metadata": {
        "id": "5bWoRVSc6BFh"
      },
      "source": [
        "import pandas as pd\n",
        "import numpy as np\n",
        "from scipy.stats import ttest_ind"
      ],
      "execution_count": null,
      "outputs": []
    },
    {
      "cell_type": "code",
      "metadata": {
        "colab": {
          "base_uri": "https://localhost:8080/"
        },
        "id": "C3yqntAR55WD",
        "outputId": "f35f9fb8-cdd8-4ca0-ff15-9621ac75a5d5"
      },
      "source": [
        "pip install tableone\n"
      ],
      "execution_count": null,
      "outputs": [
        {
          "output_type": "stream",
          "text": [
            "Collecting tableone\n",
            "  Downloading https://files.pythonhosted.org/packages/7f/18/fd82d022652bf744cf6c8ebb6dd9aa13c3530906c5e38be51e28bee3d90c/tableone-0.7.10-py2.py3-none-any.whl\n",
            "Requirement already satisfied: tabulate>=0.8.2 in /usr/local/lib/python3.7/dist-packages (from tableone) (0.8.9)\n",
            "Requirement already satisfied: scipy>=0.18.1 in /usr/local/lib/python3.7/dist-packages (from tableone) (1.4.1)\n",
            "Requirement already satisfied: statsmodels>=0.8.0 in /usr/local/lib/python3.7/dist-packages (from tableone) (0.10.2)\n",
            "Requirement already satisfied: pandas>=0.22.0 in /usr/local/lib/python3.7/dist-packages (from tableone) (1.1.5)\n",
            "Requirement already satisfied: numpy>=1.12.1 in /usr/local/lib/python3.7/dist-packages (from tableone) (1.19.5)\n",
            "Requirement already satisfied: patsy>=0.4.0 in /usr/local/lib/python3.7/dist-packages (from statsmodels>=0.8.0->tableone) (0.5.1)\n",
            "Requirement already satisfied: python-dateutil>=2.7.3 in /usr/local/lib/python3.7/dist-packages (from pandas>=0.22.0->tableone) (2.8.1)\n",
            "Requirement already satisfied: pytz>=2017.2 in /usr/local/lib/python3.7/dist-packages (from pandas>=0.22.0->tableone) (2018.9)\n",
            "Requirement already satisfied: six in /usr/local/lib/python3.7/dist-packages (from patsy>=0.4.0->statsmodels>=0.8.0->tableone) (1.15.0)\n",
            "Installing collected packages: tableone\n",
            "Successfully installed tableone-0.7.10\n"
          ],
          "name": "stdout"
        }
      ]
    },
    {
      "cell_type": "code",
      "metadata": {
        "id": "5Gefc9Ih55WE",
        "colab": {
          "base_uri": "https://localhost:8080/"
        },
        "outputId": "be49d023-5987-4452-b59a-a922378fd5fc"
      },
      "source": [
        "from tableone import TableOne, load_dataset"
      ],
      "execution_count": null,
      "outputs": [
        {
          "output_type": "stream",
          "text": [
            "/usr/local/lib/python3.7/dist-packages/statsmodels/tools/_testing.py:19: FutureWarning: pandas.util.testing is deprecated. Use the functions in the public API at pandas.testing instead.\n",
            "  import pandas.util.testing as tm\n"
          ],
          "name": "stderr"
        }
      ]
    },
    {
      "cell_type": "markdown",
      "metadata": {
        "id": "jbIJ3_gIYOHU"
      },
      "source": [
        "# compare 2 DB's Coral Nitzan"
      ]
    },
    {
      "cell_type": "code",
      "metadata": {
        "id": "xqJmNB0mYAVM"
      },
      "source": [
        "df_Coral = pd.read_pickle(\"/content/gdrive/My Drive/Colab Notebooks/MS_Notebooks/DFDB2Final.pkl\")\n",
        "df_Nitzan = pd.read_pickle(\"/content/gdrive/My Drive/Colab Notebooks/MS_Notebooks/DFDB1Final.pkl\")\n",
        "df_Coral = df_Coral[['diagnosis','TIM3_RQ','TIGIT_RQ','LAG3_RQ','PD-1_RQ','gender','age_at_diagnosis','primary_EDSS_at_diagnosis','1_years_EDSS_from_sample_date','5_years_from_sample','EDSS_post_10_years','oligoclonal_band','MRI_lesion_mass','num_of_medicine_changed','positive_OCB','Male','diagnosis_RRMS']]\n",
        "df_Nitzan = df_Nitzan[['diagnosis','TIM3_RQ','TIGIT_RQ','LAG3_RQ','PD-1_RQ','gender','age_at_diagnosis','primary_EDSS_at_diagnosis','1_years_EDSS_from_sample_date','5_years_from_sample','EDSS_post_10_years','oligoclonal_band','MRI_lesion_mass','num_of_medicine_changed','positive_OCB','Male','diagnosis_RRMS']]\n",
        "df_Coral['df_name'] = \"Coral\"\n",
        "df_Nitzan['df_name'] = \"Nitzan\""
      ],
      "execution_count": null,
      "outputs": []
    },
    {
      "cell_type": "code",
      "metadata": {
        "id": "myw5Iq9zYCrC"
      },
      "source": [
        "df_merged_coral_nitzan = pd.concat([df_Coral, df_Nitzan])\n",
        "df_merged_coral_nitzan = df_merged_coral_nitzan[['diagnosis', 'TIM3_RQ', 'TIGIT_RQ', 'LAG3_RQ', 'PD-1_RQ', 'gender',\n",
        "       'age_at_diagnosis', 'primary_EDSS_at_diagnosis',\n",
        "       '1_years_EDSS_from_sample_date', '5_years_from_sample',\n",
        "       'EDSS_post_10_years', 'oligoclonal_band', 'MRI_lesion_mass',\n",
        "       'num_of_medicine_changed','df_name']]\n",
        "df_merged_coral_nitzan = df_merged_coral_nitzan.reset_index(drop=True)\n",
        "# dfMerged.set_index('sample_code')"
      ],
      "execution_count": null,
      "outputs": []
    },
    {
      "cell_type": "code",
      "metadata": {
        "colab": {
          "base_uri": "https://localhost:8080/"
        },
        "id": "znSN0sR_an2k",
        "outputId": "2997e909-7eb4-4f48-a890-e1bfaca874ca"
      },
      "source": [
        "df_merged_coral_nitzan.columns"
      ],
      "execution_count": null,
      "outputs": [
        {
          "output_type": "execute_result",
          "data": {
            "text/plain": [
              "Index(['diagnosis', 'TIM3_RQ', 'TIGIT_RQ', 'LAG3_RQ', 'PD-1_RQ', 'gender',\n",
              "       'age_at_diagnosis', 'primary_EDSS_at_diagnosis',\n",
              "       '1_years_EDSS_from_sample_date', '5_years_from_sample',\n",
              "       'EDSS_post_10_years', 'oligoclonal_band', 'MRI_lesion_mass',\n",
              "       'num_of_medicine_changed', 'df_name'],\n",
              "      dtype='object')"
            ]
          },
          "metadata": {
            "tags": []
          },
          "execution_count": 7
        }
      ]
    },
    {
      "cell_type": "code",
      "metadata": {
        "id": "uCPuXf_Aakyb"
      },
      "source": [
        "columns = ['diagnosis', 'TIM3_RQ', 'TIGIT_RQ', 'LAG3_RQ', 'PD-1_RQ', 'gender',\n",
        "       'age_at_diagnosis', 'primary_EDSS_at_diagnosis',\n",
        "       '1_years_EDSS_from_sample_date', '5_years_from_sample',\n",
        "       'EDSS_post_10_years', 'oligoclonal_band', 'MRI_lesion_mass',\n",
        "       'num_of_medicine_changed','df_name']"
      ],
      "execution_count": null,
      "outputs": []
    },
    {
      "cell_type": "code",
      "metadata": {
        "id": "1kOdgoNIbg3N"
      },
      "source": [
        "categorical = ['diagnosis', 'gender', 'oligoclonal_band']"
      ],
      "execution_count": null,
      "outputs": []
    },
    {
      "cell_type": "code",
      "metadata": {
        "id": "vHDMQEwtakyc"
      },
      "source": [
        "groupby = 'df_name'"
      ],
      "execution_count": null,
      "outputs": []
    },
    {
      "cell_type": "code",
      "metadata": {
        "colab": {
          "base_uri": "https://localhost:8080/"
        },
        "id": "BEiNtPHsakyc",
        "outputId": "3e59d034-e177-417d-ada3-93505c4399d4"
      },
      "source": [
        "coral_nitzan_tableone = TableOne(df_merged_coral_nitzan, columns=columns, categorical=categorical, groupby=groupby, pval=True)\n",
        "print(coral_nitzan_tableone.tabulate(tablefmt=\"github\"))"
      ],
      "execution_count": null,
      "outputs": [
        {
          "output_type": "stream",
          "text": [
            "|                                          |      | Missing   | Overall     | Coral       | Nitzan      | P-Value   |\n",
            "|------------------------------------------|------|-----------|-------------|-------------|-------------|-----------|\n",
            "| n                                        |      |           | 114         | 57          | 57          |           |\n",
            "| diagnosis, n (%)                         | RRMS | 0         | 72 (63.2)   | 37 (64.9)   | 35 (61.4)   | 0.846     |\n",
            "|                                          | SPMS |           | 42 (36.8)   | 20 (35.1)   | 22 (38.6)   |           |\n",
            "| TIM3_RQ, mean (SD)                       |      | 0         | 1.0 (0.8)   | 1.2 (0.8)   | 0.9 (0.7)   | 0.012     |\n",
            "| TIGIT_RQ, mean (SD)                      |      | 0         | 0.6 (0.5)   | 0.9 (0.6)   | 0.3 (0.2)   | <0.001    |\n",
            "| LAG3_RQ, mean (SD)                       |      | 0         | 1.4 (1.1)   | 2.0 (1.2)   | 0.7 (0.6)   | <0.001    |\n",
            "| PD-1_RQ, mean (SD)                       |      | 0         | 1.6 (2.1)   | 2.3 (1.6)   | 0.9 (2.2)   | <0.001    |\n",
            "| gender, n (%)                            | F    | 0         | 81 (71.1)   | 42 (73.7)   | 39 (68.4)   | 0.680     |\n",
            "|                                          | M    |           | 33 (28.9)   | 15 (26.3)   | 18 (31.6)   |           |\n",
            "| age_at_diagnosis, mean (SD)              |      | 0         | 33.8 (10.7) | 36.0 (10.0) | 31.6 (11.0) | 0.027     |\n",
            "| primary_EDSS_at_diagnosis, mean (SD)     |      | 0         | 1.8 (1.3)   | 1.7 (1.1)   | 1.8 (1.4)   | 0.710     |\n",
            "| 1_years_EDSS_from_sample_date, mean (SD) |      | 0         | 2.5 (2.0)   | 2.3 (1.8)   | 2.8 (2.2)   | 0.217     |\n",
            "| 5_years_from_sample, mean (SD)           |      | 0         | 3.2 (2.4)   | 3.1 (2.4)   | 3.3 (2.5)   | 0.757     |\n",
            "| EDSS_post_10_years, mean (SD)            |      | 0         | 3.5 (2.6)   | 3.3 (2.5)   | 3.6 (2.7)   | 0.481     |\n",
            "| oligoclonal_band, n (%)                  | NEG  | 0         | 34 (29.8)   | 15 (26.3)   | 19 (33.3)   | 0.539     |\n",
            "|                                          | POS  |           | 80 (70.2)   | 42 (73.7)   | 38 (66.7)   |           |\n",
            "| MRI_lesion_mass, mean (SD)               |      | 0         | 14.6 (16.8) | 19.4 (20.2) | 9.8 (10.6)  | 0.002     |\n",
            "| num_of_medicine_changed, mean (SD)       |      | 0         | 2.2 (1.3)   | 1.8 (1.1)   | 2.5 (1.3)   | 0.001     |\n"
          ],
          "name": "stdout"
        }
      ]
    },
    {
      "cell_type": "code",
      "metadata": {
        "id": "wyhNwM3hemNB"
      },
      "source": [
        "coral_nitzan_tableone.tableone.to_excel('coral_nitzan_tableone.xls')"
      ],
      "execution_count": null,
      "outputs": []
    },
    {
      "cell_type": "code",
      "metadata": {
        "id": "PLCjMUuXzvxy"
      },
      "source": [
        ""
      ],
      "execution_count": null,
      "outputs": []
    },
    {
      "cell_type": "markdown",
      "metadata": {
        "id": "TDfpLcN8zwNu"
      },
      "source": [
        "# compare 2 DB's Nitzan Michal"
      ]
    },
    {
      "cell_type": "code",
      "metadata": {
        "id": "xvIiZV8QzwNw"
      },
      "source": [
        "df_Michal = pd.read_pickle(\"/content/gdrive/My Drive/Colab Notebooks/MS_Notebooks/MichalWithoutImputation.pkl\")\n",
        "df_Nitzan = pd.read_pickle(\"/content/gdrive/My Drive/Colab Notebooks/MS_Notebooks/DFDB1Final.pkl\")\n",
        "df_Michal = df_Michal[['diagnosis', 'gender', 'age_at_diagnosis', 'primary_EDSS_at_diagnosis', '1_years_EDSS_from_sample_date', '5_years_from_sample','EDSS_post_10_years', 'oligoclonal_band', 'lymph_cells', 'PMN_cells', 'cells_total', 'MRI_lesion_mass', 'relapse_rate_since_blood_sample']]\n",
        "df_Nitzan = df_Nitzan[['diagnosis', 'gender', 'age_at_diagnosis', 'primary_EDSS_at_diagnosis', '1_years_EDSS_from_sample_date', '5_years_from_sample','EDSS_post_10_years', 'oligoclonal_band', 'lymph_cells', 'PMN_cells', 'cells_total', 'MRI_lesion_mass', 'relapse_rate_since_blood_sample']]\n",
        "df_Michal['df_name'] = \"Michal\"\n",
        "df_Nitzan['df_name'] = \"Nitzan\""
      ],
      "execution_count": null,
      "outputs": []
    },
    {
      "cell_type": "code",
      "metadata": {
        "id": "1aWn4zwrzwNx"
      },
      "source": [
        "df_merged_nitzan_michal = pd.concat([df_Michal, df_Nitzan])\n",
        "df_merged_nitzan_michal = df_merged_nitzan_michal[['diagnosis', 'gender', 'age_at_diagnosis', 'primary_EDSS_at_diagnosis', '1_years_EDSS_from_sample_date', '5_years_from_sample','EDSS_post_10_years', 'oligoclonal_band', 'lymph_cells', 'PMN_cells', 'cells_total', 'MRI_lesion_mass', 'relapse_rate_since_blood_sample','df_name']]\n",
        "df_merged_nitzan_michal = df_merged_nitzan_michal.reset_index(drop=True)\n",
        "# dfMerged.set_index('sample_code')"
      ],
      "execution_count": null,
      "outputs": []
    },
    {
      "cell_type": "code",
      "metadata": {
        "colab": {
          "base_uri": "https://localhost:8080/"
        },
        "id": "Peok_wpyzwNx",
        "outputId": "a9c7998b-3438-4053-fcf2-a34c91d30fd8"
      },
      "source": [
        "df_merged_nitzan_michal.columns"
      ],
      "execution_count": null,
      "outputs": [
        {
          "output_type": "execute_result",
          "data": {
            "text/plain": [
              "Index(['diagnosis', 'gender', 'age_at_diagnosis', 'primary_EDSS_at_diagnosis',\n",
              "       '1_years_EDSS_from_sample_date', '5_years_from_sample',\n",
              "       'EDSS_post_10_years', 'oligoclonal_band', 'lymph_cells', 'PMN_cells',\n",
              "       'cells_total', 'MRI_lesion_mass', 'relapse_rate_since_blood_sample',\n",
              "       'df_name'],\n",
              "      dtype='object')"
            ]
          },
          "metadata": {
            "tags": []
          },
          "execution_count": 15
        }
      ]
    },
    {
      "cell_type": "code",
      "metadata": {
        "id": "ZRBWviJgzwNy"
      },
      "source": [
        "columns = ['diagnosis', 'gender', 'age_at_diagnosis', 'primary_EDSS_at_diagnosis',\n",
        "       '1_years_EDSS_from_sample_date', '5_years_from_sample',\n",
        "       'EDSS_post_10_years', 'oligoclonal_band', 'lymph_cells', 'PMN_cells',\n",
        "       'cells_total', 'MRI_lesion_mass', 'relapse_rate_since_blood_sample', 'df_name']"
      ],
      "execution_count": null,
      "outputs": []
    },
    {
      "cell_type": "code",
      "metadata": {
        "id": "8YuPyG7fzwNy"
      },
      "source": [
        "categorical = ['diagnosis', 'gender', 'oligoclonal_band']"
      ],
      "execution_count": null,
      "outputs": []
    },
    {
      "cell_type": "code",
      "metadata": {
        "id": "OuMPN1gzzwNz"
      },
      "source": [
        "groupby = 'df_name'"
      ],
      "execution_count": null,
      "outputs": []
    },
    {
      "cell_type": "code",
      "metadata": {
        "colab": {
          "base_uri": "https://localhost:8080/"
        },
        "id": "9g7_3IRczwN0",
        "outputId": "834cdfb4-a01f-4293-b801-52436d3e9a0b"
      },
      "source": [
        "michal_nitzan_tableone = TableOne(df_merged_nitzan_michal, columns=columns, categorical=categorical, groupby=groupby, pval=True)\n",
        "print(michal_nitzan_tableone.tabulate(tablefmt=\"github\"))"
      ],
      "execution_count": null,
      "outputs": [
        {
          "output_type": "stream",
          "text": [
            "|                                            |      | Missing   | Overall     | Michal      | Nitzan      | P-Value   |\n",
            "|--------------------------------------------|------|-----------|-------------|-------------|-------------|-----------|\n",
            "| n                                          |      |           | 141         | 84          | 57          |           |\n",
            "| diagnosis, n (%)                           | RRMS | 0         | 103 (73.0)  | 68 (81.0)   | 35 (61.4)   | 0.018     |\n",
            "|                                            | SPMS |           | 38 (27.0)   | 16 (19.0)   | 22 (38.6)   |           |\n",
            "| gender, n (%)                              | F    | 0         | 103 (73.0)  | 64 (76.2)   | 39 (68.4)   | 0.408     |\n",
            "|                                            | M    |           | 38 (27.0)   | 20 (23.8)   | 18 (31.6)   |           |\n",
            "| age_at_diagnosis, mean (SD)                |      | 0         | 33.8 (12.2) | 35.3 (12.8) | 31.6 (11.0) | 0.070     |\n",
            "| primary_EDSS_at_diagnosis, mean (SD)       |      | 9         | 1.9 (1.6)   | 1.9 (1.8)   | 1.8 (1.4)   | 0.635     |\n",
            "| 1_years_EDSS_from_sample_date, mean (SD)   |      | 8         | 2.4 (2.1)   | 2.1 (1.9)   | 2.8 (2.2)   | 0.076     |\n",
            "| 5_years_from_sample, mean (SD)             |      | 4         | 2.9 (2.3)   | 2.6 (2.1)   | 3.3 (2.5)   | 0.095     |\n",
            "| EDSS_post_10_years, mean (SD)              |      | 4         | 3.5 (2.5)   | 3.3 (2.3)   | 3.6 (2.7)   | 0.496     |\n",
            "| oligoclonal_band, n (%)                    | NEG  | 14        | 48 (37.8)   | 29 (41.4)   | 19 (33.3)   | 0.452     |\n",
            "|                                            | POS  |           | 79 (62.2)   | 41 (58.6)   | 38 (66.7)   |           |\n",
            "| lymph_cells, mean (SD)                     |      | 33        | 1.3 (2.2)   | 1.1 (2.0)   | 1.5 (2.4)   | 0.358     |\n",
            "| PMN_cells, mean (SD)                       |      | 32        | 0.7 (1.6)   | 0.9 (2.2)   | 0.5 (0.6)   | 0.179     |\n",
            "| cells_total, mean (SD)                     |      | 31        | 1.8 (2.8)   | 1.9 (2.7)   | 1.8 (2.8)   | 0.828     |\n",
            "| MRI_lesion_mass, mean (SD)                 |      | 5         | 9.1 (10.3)  | 8.5 (10.1)  | 9.8 (10.6)  | 0.477     |\n",
            "| relapse_rate_since_blood_sample, mean (SD) |      | 6         | 2.4 (1.9)   | 2.6 (2.0)   | 2.1 (1.8)   | 0.141     |\n"
          ],
          "name": "stdout"
        }
      ]
    },
    {
      "cell_type": "code",
      "metadata": {
        "id": "d9pKnSh3zwN1"
      },
      "source": [
        "michal_nitzan_tableone.tableone.to_excel('michal_nitzan_tableone.xls')"
      ],
      "execution_count": null,
      "outputs": []
    },
    {
      "cell_type": "markdown",
      "metadata": {
        "id": "tvF6qDic6V2t"
      },
      "source": [
        "# compare 2 DB's Coral Michal"
      ]
    },
    {
      "cell_type": "code",
      "metadata": {
        "id": "s8vT8wT_6V2u"
      },
      "source": [
        "df_Michal = pd.read_pickle(\"/content/gdrive/My Drive/Colab Notebooks/MS_Notebooks/MichalWithoutImputation.pkl\")\n",
        "df_Coral = pd.read_pickle(\"/content/gdrive/My Drive/Colab Notebooks/MS_Notebooks/DFDB2Final.pkl\")\n",
        "df_Michal = df_Michal[['diagnosis', 'gender', 'age_at_diagnosis', 'primary_EDSS_at_diagnosis', '1_years_EDSS_from_sample_date', '5_years_from_sample','EDSS_post_10_years', 'oligoclonal_band', 'MRI_lesion_mass']]\n",
        "df_Coral = df_Coral[['diagnosis', 'gender', 'age_at_diagnosis', 'primary_EDSS_at_diagnosis', '1_years_EDSS_from_sample_date', '5_years_from_sample','EDSS_post_10_years', 'oligoclonal_band', 'MRI_lesion_mass']]\n",
        "df_Michal['df_name'] = \"Michal\"\n",
        "df_Coral['df_name'] = \"Coral\""
      ],
      "execution_count": null,
      "outputs": []
    },
    {
      "cell_type": "code",
      "metadata": {
        "id": "2RgBb0S86V2u"
      },
      "source": [
        "df_merged_coral_michal = pd.concat([df_Michal, df_Coral])\n",
        "df_merged_coral_michal = df_merged_coral_michal[['diagnosis', 'gender', 'age_at_diagnosis', 'primary_EDSS_at_diagnosis', '1_years_EDSS_from_sample_date', '5_years_from_sample','EDSS_post_10_years', 'oligoclonal_band', 'MRI_lesion_mass', 'df_name']]\n",
        "df_merged_coral_michal = df_merged_coral_michal.reset_index(drop=True)\n",
        "# dfMerged.set_index('sample_code')"
      ],
      "execution_count": null,
      "outputs": []
    },
    {
      "cell_type": "code",
      "metadata": {
        "colab": {
          "base_uri": "https://localhost:8080/"
        },
        "id": "0VA7SLj76V2u",
        "outputId": "bd7a9bc1-9ca0-4b5e-a6ea-b9faa104e8b6"
      },
      "source": [
        "df_merged_coral_michal.columns"
      ],
      "execution_count": null,
      "outputs": [
        {
          "output_type": "execute_result",
          "data": {
            "text/plain": [
              "Index(['diagnosis', 'gender', 'age_at_diagnosis', 'primary_EDSS_at_diagnosis',\n",
              "       '1_years_EDSS_from_sample_date', '5_years_from_sample',\n",
              "       'EDSS_post_10_years', 'oligoclonal_band', 'MRI_lesion_mass', 'df_name'],\n",
              "      dtype='object')"
            ]
          },
          "metadata": {
            "tags": []
          },
          "execution_count": 23
        }
      ]
    },
    {
      "cell_type": "code",
      "metadata": {
        "id": "i3Q8V7Tg6V28"
      },
      "source": [
        "columns =['diagnosis', 'gender', 'age_at_diagnosis', 'primary_EDSS_at_diagnosis', '1_years_EDSS_from_sample_date', '5_years_from_sample','EDSS_post_10_years', 'oligoclonal_band', 'MRI_lesion_mass', 'df_name']"
      ],
      "execution_count": null,
      "outputs": []
    },
    {
      "cell_type": "code",
      "metadata": {
        "id": "GSCvo9fx6V28"
      },
      "source": [
        "categorical = ['diagnosis', 'gender', 'oligoclonal_band']"
      ],
      "execution_count": null,
      "outputs": []
    },
    {
      "cell_type": "code",
      "metadata": {
        "id": "C9Tk4e856V29"
      },
      "source": [
        "groupby = 'df_name'"
      ],
      "execution_count": null,
      "outputs": []
    },
    {
      "cell_type": "code",
      "metadata": {
        "colab": {
          "base_uri": "https://localhost:8080/"
        },
        "id": "WNXPDSQ_6V29",
        "outputId": "f6305b00-a63c-482d-c0c0-cd31015e7476"
      },
      "source": [
        "michal_coral_tableone = TableOne(df_merged_coral_michal, columns=columns, categorical=categorical, groupby=groupby, pval=True)\n",
        "print(michal_coral_tableone.tabulate(tablefmt=\"github\"))"
      ],
      "execution_count": null,
      "outputs": [
        {
          "output_type": "stream",
          "text": [
            "|                                          |      | Missing   | Overall     | Coral       | Michal      | P-Value   |\n",
            "|------------------------------------------|------|-----------|-------------|-------------|-------------|-----------|\n",
            "| n                                        |      |           | 141         | 57          | 84          |           |\n",
            "| diagnosis, n (%)                         | RRMS | 0         | 105 (74.5)  | 37 (64.9)   | 68 (81.0)   | 0.052     |\n",
            "|                                          | SPMS |           | 36 (25.5)   | 20 (35.1)   | 16 (19.0)   |           |\n",
            "| gender, n (%)                            | F    | 0         | 106 (75.2)  | 42 (73.7)   | 64 (76.2)   | 0.889     |\n",
            "|                                          | M    |           | 35 (24.8)   | 15 (26.3)   | 20 (23.8)   |           |\n",
            "| age_at_diagnosis, mean (SD)              |      | 0         | 35.6 (11.8) | 36.0 (10.0) | 35.3 (12.8) | 0.701     |\n",
            "| primary_EDSS_at_diagnosis, mean (SD)     |      | 9         | 1.9 (1.5)   | 1.7 (1.1)   | 1.9 (1.8)   | 0.389     |\n",
            "| 1_years_EDSS_from_sample_date, mean (SD) |      | 8         | 2.2 (1.8)   | 2.3 (1.8)   | 2.1 (1.9)   | 0.554     |\n",
            "| 5_years_from_sample, mean (SD)           |      | 4         | 2.8 (2.2)   | 3.1 (2.4)   | 2.6 (2.1)   | 0.183     |\n",
            "| EDSS_post_10_years, mean (SD)            |      | 4         | 3.3 (2.4)   | 3.3 (2.5)   | 3.3 (2.3)   | 0.921     |\n",
            "| oligoclonal_band, n (%)                  | NEG  | 14        | 44 (34.6)   | 15 (26.3)   | 29 (41.4)   | 0.111     |\n",
            "|                                          | POS  |           | 83 (65.4)   | 42 (73.7)   | 41 (58.6)   |           |\n",
            "| MRI_lesion_mass, mean (SD)               |      | 5         | 13.1 (16.0) | 19.4 (20.2) | 8.5 (10.1)  | <0.001    |\n"
          ],
          "name": "stdout"
        }
      ]
    },
    {
      "cell_type": "code",
      "metadata": {
        "id": "bC2asZDZ6V3F"
      },
      "source": [
        "michal_coral_tableone.tableone.to_excel('michal_coral_tableone.xls')"
      ],
      "execution_count": null,
      "outputs": []
    },
    {
      "cell_type": "markdown",
      "metadata": {
        "id": "lFLN-EyNqBP6"
      },
      "source": [
        "# compare 2 DB's Livnat CTGAN"
      ]
    },
    {
      "cell_type": "code",
      "metadata": {
        "id": "T0OX4EpEqBP6"
      },
      "source": [
        "df_Livnat_only_untreated_modified = pd.read_pickle(\"/content/gdrive/My Drive/Colab Notebooks/MS_Notebooks/DF_only_untreated_modified.pkl\")\n",
        "df_CTGAN = pd.read_pickle(\"/content/gdrive/My Drive/Colab Notebooks/MS_Notebooks/CTGAN_Data.pkl\")\n",
        "\n",
        "\n",
        "df_Livnat_only_untreated_modified = df_Livnat_only_untreated_modified[['TIM3_RQ', 'TIGIT_RQ', 'LAG3_RQ', 'age_at_diagnosis','primary_EDSS_at_diagnosis', '1 year EDSS', '5_years_from_sample', 'EDSS_post_10_years', 'MRI_lesion_mass', 'Lymph_Cells', 'PMN_Cells', 'Cells', 'gender_M', 'oligoclonal_band_POS', 'diagnosis_SPMS']]\n",
        "df_CTGAN = df_CTGAN[['TIM3_RQ', 'TIGIT_RQ', 'LAG3_RQ', 'age_at_diagnosis','primary_EDSS_at_diagnosis', '1 year EDSS', '5_years_from_sample', 'EDSS_post_10_years', 'MRI_lesion_mass', 'Lymph_Cells', 'PMN_Cells', 'Cells', 'gender_M', 'oligoclonal_band_POS', 'diagnosis_SPMS']]\n",
        "\n",
        "\n",
        "# df_Livnat_only_untreated.columns\n",
        "# df_CTGAN.columns\n",
        "\n",
        "df_Livnat_only_untreated_modified['df_name'] = \"Livnat\"\n",
        "df_CTGAN['df_name'] = \"CTGAN\""
      ],
      "execution_count": null,
      "outputs": []
    },
    {
      "cell_type": "code",
      "metadata": {
        "id": "KxLmU8T_qBP7"
      },
      "source": [
        "df_merged_livnat_CTGAN = pd.concat([df_Livnat_only_untreated_modified, df_CTGAN])\n",
        "df_merged_livnat_CTGAN = df_merged_livnat_CTGAN[['TIM3_RQ', 'TIGIT_RQ', 'LAG3_RQ', 'age_at_diagnosis','primary_EDSS_at_diagnosis', '1 year EDSS', '5_years_from_sample', 'EDSS_post_10_years', 'MRI_lesion_mass', 'Lymph_Cells', 'PMN_Cells', 'Cells', 'gender_M', 'oligoclonal_band_POS', 'diagnosis_SPMS', 'df_name']]\n",
        "df_merged_livnat_CTGAN = df_merged_livnat_CTGAN.reset_index(drop=True)\n",
        "# dfMerged.set_index('sample_code')"
      ],
      "execution_count": null,
      "outputs": []
    },
    {
      "cell_type": "code",
      "metadata": {
        "colab": {
          "base_uri": "https://localhost:8080/"
        },
        "id": "nvp9yA3KqBP7",
        "outputId": "7b79ba68-6112-4df3-8513-5e4bc11dc5b8"
      },
      "source": [
        "df_merged_livnat_CTGAN.columns"
      ],
      "execution_count": null,
      "outputs": [
        {
          "output_type": "execute_result",
          "data": {
            "text/plain": [
              "Index(['TIM3_RQ', 'TIGIT_RQ', 'LAG3_RQ', 'age_at_diagnosis',\n",
              "       'primary_EDSS_at_diagnosis', '1 year EDSS', '5_years_from_sample',\n",
              "       'EDSS_post_10_years', 'MRI_lesion_mass', 'Lymph_Cells', 'PMN_Cells',\n",
              "       'Cells', 'gender_M', 'oligoclonal_band_POS', 'diagnosis_SPMS',\n",
              "       'df_name'],\n",
              "      dtype='object')"
            ]
          },
          "metadata": {
            "tags": []
          },
          "execution_count": 31
        }
      ]
    },
    {
      "cell_type": "code",
      "metadata": {
        "id": "Wcyj6zbFqBP8"
      },
      "source": [
        "columns =['TIM3_RQ', 'TIGIT_RQ', 'LAG3_RQ', 'age_at_diagnosis', 'primary_EDSS_at_diagnosis', '1 year EDSS', '5_years_from_sample', 'EDSS_post_10_years', 'MRI_lesion_mass', 'Lymph_Cells', 'PMN_Cells', 'Cells', 'gender_M', 'oligoclonal_band_POS', 'diagnosis_SPMS', 'df_name']"
      ],
      "execution_count": null,
      "outputs": []
    },
    {
      "cell_type": "code",
      "metadata": {
        "id": "_I0SN25YqBP-"
      },
      "source": [
        "categorical = ['diagnosis', 'gender', 'oligoclonal_band']"
      ],
      "execution_count": null,
      "outputs": []
    },
    {
      "cell_type": "code",
      "metadata": {
        "id": "sLI0uib0qBP_"
      },
      "source": [
        "groupby = 'df_name'"
      ],
      "execution_count": null,
      "outputs": []
    },
    {
      "cell_type": "code",
      "metadata": {
        "colab": {
          "base_uri": "https://localhost:8080/"
        },
        "id": "0TCe7ikeqBP_",
        "outputId": "d2c66050-0fc5-4636-a740-9bc93afc99b7"
      },
      "source": [
        "livnat_CTAGAN_tableone = TableOne(df_merged_livnat_CTGAN, columns=columns, groupby=groupby, pval=True)\n",
        "print(livnat_CTAGAN_tableone.tabulate(tablefmt=\"github\"))"
      ],
      "execution_count": null,
      "outputs": [
        {
          "output_type": "stream",
          "text": [
            "|                                      |    | Missing   | Overall           | CTGAN            | Livnat            | P-Value   |\n",
            "|--------------------------------------|----|-----------|-------------------|------------------|-------------------|-----------|\n",
            "| n                                    |    |           | 204               | 100              | 104               |           |\n",
            "| TIM3_RQ, mean (SD)                   |    | 0         | 1.2 (0.7)         | 1.3 (0.6)        | 1.0 (0.8)         | 0.002     |\n",
            "| TIGIT_RQ, mean (SD)                  |    | 0         | 0.6 (0.4)         | 0.5 (0.2)        | 0.6 (0.5)         | 0.043     |\n",
            "| LAG3_RQ, mean (SD)                   |    | 0         | 1.3 (0.9)         | 1.3 (0.5)        | 1.4 (1.1)         | 0.264     |\n",
            "| age_at_diagnosis, mean (SD)          |    | 0         | 32.2 (10.0)       | 30.2 (9.1)       | 34.2 (10.6)       | 0.004     |\n",
            "| primary_EDSS_at_diagnosis, mean (SD) |    | 0         | 1.8 (1.2)         | 2.0 (1.2)        | 1.6 (1.2)         | 0.007     |\n",
            "| 1 year EDSS, mean (SD)               |    | 0         | 2.4 (1.6)         | 2.7 (1.6)        | 2.1 (1.6)         | 0.004     |\n",
            "| 5_years_from_sample, mean (SD)       |    | 2         | 2.7 (2.1)         | 2.5 (1.9)        | 2.8 (2.2)         | 0.459     |\n",
            "| EDSS_post_10_years, mean (SD)        |    | 0         | 3.3 (2.4)         | 3.4 (2.4)        | 3.2 (2.5)         | 0.558     |\n",
            "| MRI_lesion_mass, mean (SD)           |    | 0         | 13473.1 (13878.0) | 12296.3 (9119.1) | 14604.7 (17234.4) | 0.231     |\n",
            "| Lymph_Cells, mean (SD)               |    | 0         | 2.5 (4.0)         | 2.9 (4.0)        | 2.2 (3.9)         | 0.243     |\n",
            "| PMN_Cells, mean (SD)                 |    | 0         | 0.4 (1.1)         | 0.3 (0.5)        | 0.4 (1.5)         | 0.434     |\n",
            "| Cells, mean (SD)                     |    | 0         | 1.9 (3.4)         | 1.4 (2.4)        | 2.4 (4.1)         | 0.031     |\n",
            "| gender_M, mean (SD)                  |    | 0         | 0.3 (0.4)         | 0.2 (0.4)        | 0.3 (0.5)         | 0.425     |\n",
            "| oligoclonal_band_POS, mean (SD)      |    | 0         | 0.5 (0.5)         | 0.3 (0.5)        | 0.7 (0.5)         | <0.001    |\n",
            "| diagnosis_SPMS, mean (SD)            |    | 0         | 0.3 (0.4)         | 0.2 (0.4)        | 0.3 (0.5)         | 0.060     |\n"
          ],
          "name": "stdout"
        }
      ]
    },
    {
      "cell_type": "code",
      "metadata": {
        "id": "-asr21moqBQA"
      },
      "source": [
        "livnat_CTAGAN_tableone.tableone.to_excel('livnat_CTAGAN_tableone.xls')"
      ],
      "execution_count": null,
      "outputs": []
    },
    {
      "cell_type": "code",
      "metadata": {
        "id": "4yQ35vWzM4Xj"
      },
      "source": [
        ""
      ],
      "execution_count": null,
      "outputs": []
    },
    {
      "cell_type": "markdown",
      "metadata": {
        "id": "7nP8axczM4oU"
      },
      "source": [
        "# compare 3 DB's Nitzan, Coral and Michal "
      ]
    },
    {
      "cell_type": "code",
      "metadata": {
        "id": "N072PX5cxNGA"
      },
      "source": [
        "df_Michal = pd.read_pickle(\"/content/gdrive/My Drive/Colab Notebooks/MS_Notebooks/MichalWithoutImputation.pkl\")\n",
        "df_Coral = pd.read_pickle(\"/content/gdrive/My Drive/Colab Notebooks/MS_Notebooks/DFDB2Final.pkl\")\n",
        "df_Nitzan = pd.read_pickle(\"/content/gdrive/My Drive/Colab Notebooks/MS_Notebooks/DFDB1Final.pkl\")\n"
      ],
      "execution_count": null,
      "outputs": []
    },
    {
      "cell_type": "code",
      "metadata": {
        "colab": {
          "base_uri": "https://localhost:8080/"
        },
        "id": "2Ev2kTcxxg2q",
        "outputId": "ed00778a-3996-4f89-ee6d-f1a15f29f0f5"
      },
      "source": [
        "df_Michal.columns"
      ],
      "execution_count": null,
      "outputs": [
        {
          "output_type": "execute_result",
          "data": {
            "text/plain": [
              "Index(['sample_code', 'Diagnosis date', 'diagnosis', 'gender',\n",
              "       'age_at_diagnosis', 'primary_EDSS_at_diagnosis',\n",
              "       '1_years_EDSS_from_sample_date', '5_years_from_sample',\n",
              "       'EDSS_post_10_years', 'oligoclonal_band', 'lymph_cells', 'PMN_cells',\n",
              "       'cells_total', 'num_of_medicine', 'relapse_rate_since_blood_sample',\n",
              "       'MRI_lesion_mass'],\n",
              "      dtype='object')"
            ]
          },
          "metadata": {
            "tags": []
          },
          "execution_count": 38
        }
      ]
    },
    {
      "cell_type": "code",
      "metadata": {
        "id": "DnLyiefpxhX0",
        "colab": {
          "base_uri": "https://localhost:8080/"
        },
        "outputId": "a0ad224d-0f32-4c57-9cbe-dc3f098ac1c0"
      },
      "source": [
        "df_Coral.columns"
      ],
      "execution_count": null,
      "outputs": [
        {
          "output_type": "execute_result",
          "data": {
            "text/plain": [
              "Index(['sample_code', 'gender', 'age_at_diagnosis', 'diagnosis',\n",
              "       'diagnosis_status', 'primary_EDSS_at_diagnosis',\n",
              "       'num_of_medicine_changed', 'MRI_lesion_mass', 'oligoclonal_band',\n",
              "       'TIGIT_RQ', 'TIM3_RQ', 'LAG3_RQ', 'PD-1_RQ', 'RQ_CTLA4',\n",
              "       '1_years_EDSS_from_sample_date', '3_years_from_sample',\n",
              "       '5_years_from_sample', 'EDSS_post_10_years', 'NEG', 'positive_OCB', 'F',\n",
              "       'Male', 'BENIGN', 'MALIGNANT', 'STANDARD', 'diagnosis_RRMS', 'SPMS'],\n",
              "      dtype='object')"
            ]
          },
          "metadata": {
            "tags": []
          },
          "execution_count": 39
        }
      ]
    },
    {
      "cell_type": "code",
      "metadata": {
        "id": "Hx-lVeGmxjQP",
        "colab": {
          "base_uri": "https://localhost:8080/"
        },
        "outputId": "ee428ed6-d71f-441a-a56d-6512f6214fb6"
      },
      "source": [
        "df_Nitzan.columns"
      ],
      "execution_count": null,
      "outputs": [
        {
          "output_type": "execute_result",
          "data": {
            "text/plain": [
              "Index(['sample_date', 'sample_code', 'diagnosis', 'TIM3_RQ', 'TIGIT_RQ',\n",
              "       'LAG3_RQ', 'PD-1_RQ', 'gender', 'years_from_diagnosis_to_sample',\n",
              "       'age_at_diagnosis', 'primary_EDSS_at_diagnosis', '1_years_EDSS',\n",
              "       '5_years_EDSS', 'primary_EDSS_at_sample_date',\n",
              "       '1_years_EDSS_from_sample_date', '5_years_from_sample',\n",
              "       'EDSS_post_10_years', 'oligoclonal_band', 'lymph_cells', 'PMN_cells',\n",
              "       'cells_total', 'MRI_lesion_mass', 'MRI_date',\n",
              "       'treatment_when_sample_was_taken', 'num_of_medicine_changed',\n",
              "       'relapse_rate_since_blood_sample', 'NEG', 'positive_OCB', 'F', 'Male',\n",
              "       'diagnosis_RRMS', 'SPMS', 'med_IFN', 'OTHER_TREATMENT', 'med_TYSABRI',\n",
              "       'UNTREATED'],\n",
              "      dtype='object')"
            ]
          },
          "metadata": {
            "tags": []
          },
          "execution_count": 40
        }
      ]
    },
    {
      "cell_type": "code",
      "metadata": {
        "id": "vwVaMgNzNGc5"
      },
      "source": [
        "df_Michal = pd.read_pickle(\"/content/gdrive/My Drive/Colab Notebooks/MS_Notebooks/MichalWithoutImputation.pkl\")\n",
        "df_Coral = pd.read_pickle(\"/content/gdrive/My Drive/Colab Notebooks/MS_Notebooks/DFDB2Final.pkl\")\n",
        "df_Nitzan = pd.read_pickle(\"/content/gdrive/My Drive/Colab Notebooks/MS_Notebooks/DFDB1Final.pkl\")\n",
        "df_Michal = df_Michal[['diagnosis', 'gender', 'age_at_diagnosis', 'primary_EDSS_at_diagnosis', '1_years_EDSS_from_sample_date', '5_years_from_sample','EDSS_post_10_years', 'oligoclonal_band', 'MRI_lesion_mass']]\n",
        "df_Coral = df_Coral[['diagnosis', 'gender', 'age_at_diagnosis', 'primary_EDSS_at_diagnosis', '1_years_EDSS_from_sample_date', '5_years_from_sample','EDSS_post_10_years', 'oligoclonal_band', 'MRI_lesion_mass']]\n",
        "df_Nitzan = df_Nitzan[['diagnosis', 'gender', 'age_at_diagnosis', 'primary_EDSS_at_diagnosis', '1_years_EDSS_from_sample_date', '5_years_from_sample','EDSS_post_10_years', 'oligoclonal_band', 'MRI_lesion_mass']]\n",
        "df_Michal['df_name'] = \"Michal\"\n",
        "df_Coral['df_name'] = \"Coral\"\n",
        "df_Nitzan['df_name'] = \"Nitzan\""
      ],
      "execution_count": null,
      "outputs": []
    },
    {
      "cell_type": "code",
      "metadata": {
        "id": "2t0ZZe01NGc7"
      },
      "source": [
        "df_merged_coral_michal_nitzan = pd.concat([df_Michal, df_Coral,df_Nitzan])\n",
        "df_merged_coral_michal_nitzan = df_merged_coral_michal_nitzan[['diagnosis', 'gender', 'age_at_diagnosis', 'primary_EDSS_at_diagnosis', '1_years_EDSS_from_sample_date', '5_years_from_sample','EDSS_post_10_years', 'oligoclonal_band', 'MRI_lesion_mass', 'df_name']]\n",
        "df_merged_coral_michal_nitzan = df_merged_coral_michal_nitzan.reset_index(drop=True)\n",
        "# dfMerged.set_index('sample_code')"
      ],
      "execution_count": null,
      "outputs": []
    },
    {
      "cell_type": "code",
      "metadata": {
        "colab": {
          "base_uri": "https://localhost:8080/"
        },
        "id": "KGZdfFzYNGc8",
        "outputId": "e4f264dd-8c5c-4894-c60c-b1d1ab9d9be7"
      },
      "source": [
        "df_merged_coral_michal_nitzan.columns"
      ],
      "execution_count": null,
      "outputs": [
        {
          "output_type": "execute_result",
          "data": {
            "text/plain": [
              "Index(['diagnosis', 'gender', 'age_at_diagnosis', 'primary_EDSS_at_diagnosis',\n",
              "       '1_years_EDSS_from_sample_date', '5_years_from_sample',\n",
              "       'EDSS_post_10_years', 'oligoclonal_band', 'MRI_lesion_mass', 'df_name'],\n",
              "      dtype='object')"
            ]
          },
          "metadata": {
            "tags": []
          },
          "execution_count": 43
        }
      ]
    },
    {
      "cell_type": "code",
      "metadata": {
        "id": "sikLszmSNGc8"
      },
      "source": [
        "columns =['diagnosis', 'gender', 'age_at_diagnosis', 'primary_EDSS_at_diagnosis', '1_years_EDSS_from_sample_date', '5_years_from_sample','EDSS_post_10_years', 'oligoclonal_band', 'MRI_lesion_mass', 'df_name']"
      ],
      "execution_count": null,
      "outputs": []
    },
    {
      "cell_type": "code",
      "metadata": {
        "id": "uM35auYvNGc9"
      },
      "source": [
        "categorical = ['diagnosis', 'gender', 'oligoclonal_band']"
      ],
      "execution_count": null,
      "outputs": []
    },
    {
      "cell_type": "code",
      "metadata": {
        "id": "0ZrNLK28NGc9"
      },
      "source": [
        "groupby = 'df_name'"
      ],
      "execution_count": null,
      "outputs": []
    },
    {
      "cell_type": "code",
      "metadata": {
        "colab": {
          "base_uri": "https://localhost:8080/"
        },
        "id": "Ugi7pf7bNGc9",
        "outputId": "0dcf1f73-3cfc-4b47-f312-c773db33a65f"
      },
      "source": [
        "michal_coral__nitzan_tableone = TableOne(df_merged_coral_michal_nitzan, columns=columns, categorical=categorical, groupby=groupby, pval=True)\n",
        "print(michal_coral__nitzan_tableone.tabulate(tablefmt=\"github\"))"
      ],
      "execution_count": null,
      "outputs": [
        {
          "output_type": "stream",
          "text": [
            "|                                          |      | Missing   | Overall     | Coral       | Michal      | Nitzan      | P-Value   |\n",
            "|------------------------------------------|------|-----------|-------------|-------------|-------------|-------------|-----------|\n",
            "| n                                        |      |           | 198         | 57          | 84          | 57          |           |\n",
            "| diagnosis, n (%)                         | RRMS | 0         | 140 (70.7)  | 37 (64.9)   | 68 (81.0)   | 35 (61.4)   | 0.023     |\n",
            "|                                          | SPMS |           | 58 (29.3)   | 20 (35.1)   | 16 (19.0)   | 22 (38.6)   |           |\n",
            "| gender, n (%)                            | F    | 0         | 145 (73.2)  | 42 (73.7)   | 64 (76.2)   | 39 (68.4)   | 0.590     |\n",
            "|                                          | M    |           | 53 (26.8)   | 15 (26.3)   | 20 (23.8)   | 18 (31.6)   |           |\n",
            "| age_at_diagnosis, mean (SD)              |      | 0         | 34.4 (11.7) | 36.0 (10.0) | 35.3 (12.8) | 31.6 (11.0) | 0.086     |\n",
            "| primary_EDSS_at_diagnosis, mean (SD)     |      | 9         | 1.8 (1.5)   | 1.7 (1.1)   | 1.9 (1.8)   | 1.8 (1.4)   | 0.696     |\n",
            "| 1_years_EDSS_from_sample_date, mean (SD) |      | 8         | 2.4 (2.0)   | 2.3 (1.8)   | 2.1 (1.9)   | 2.8 (2.2)   | 0.158     |\n",
            "| 5_years_from_sample, mean (SD)           |      | 4         | 3.0 (2.3)   | 3.1 (2.4)   | 2.6 (2.1)   | 3.3 (2.5)   | 0.192     |\n",
            "| EDSS_post_10_years, mean (SD)            |      | 4         | 3.4 (2.5)   | 3.3 (2.5)   | 3.3 (2.3)   | 3.6 (2.7)   | 0.716     |\n",
            "| oligoclonal_band, n (%)                  | NEG  | 14        | 63 (34.2)   | 15 (26.3)   | 29 (41.4)   | 19 (33.3)   | 0.200     |\n",
            "|                                          | POS  |           | 121 (65.8)  | 42 (73.7)   | 41 (58.6)   | 38 (66.7)   |           |\n",
            "| MRI_lesion_mass, mean (SD)               |      | 5         | 12.1 (14.7) | 19.4 (20.2) | 8.5 (10.1)  | 9.8 (10.6)  | <0.001    |\n"
          ],
          "name": "stdout"
        }
      ]
    },
    {
      "cell_type": "code",
      "metadata": {
        "id": "rVhiQMs-NGc_"
      },
      "source": [
        "michal_coral__nitzan_tableone.tableone.to_excel('michal_coral__nitzan_tableone.xls')"
      ],
      "execution_count": null,
      "outputs": []
    }
  ]
}